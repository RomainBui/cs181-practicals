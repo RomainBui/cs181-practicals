{
 "cells": [
  {
   "cell_type": "code",
   "execution_count": 29,
   "metadata": {
    "collapsed": false
   },
   "outputs": [],
   "source": [
    "import boto\n",
    "from boto.manage.cmdshell import sshclient_from_instance\n",
    "import time\n",
    "import os"
   ]
  },
  {
   "cell_type": "markdown",
   "metadata": {},
   "source": [
    "## S3 Management"
   ]
  },
  {
   "cell_type": "markdown",
   "metadata": {},
   "source": [
    "Main Source : https://aws.amazon.com/articles/3998"
   ]
  },
  {
   "cell_type": "code",
   "execution_count": 4,
   "metadata": {
    "collapsed": false
   },
   "outputs": [],
   "source": [
    "s3 = boto.connect_s3(aws_access_key_id='xxx', \n",
    "                     aws_secret_access_key='xxx')\n",
    "\n",
    "# An example : creation of a bucket + import in S3 a local file\n",
    "bucket = s3.create_bucket('harvard_practicals1')\n",
    "key = bucket.new_key('data/NB.rtf')\n",
    "key.set_contents_from_filename('NB.rtf')\n",
    "key.set_acl('public-read')"
   ]
  },
  {
   "cell_type": "markdown",
   "metadata": {},
   "source": [
    "## EC2 Connection"
   ]
  },
  {
   "cell_type": "code",
   "execution_count": 9,
   "metadata": {
    "collapsed": false
   },
   "outputs": [
    {
     "data": {
      "text/plain": [
       "True"
      ]
     },
     "execution_count": 9,
     "metadata": {},
     "output_type": "execute_result"
    }
   ],
   "source": [
    "ec2 = boto.connect_ec2(aws_access_key_id='xxx', \n",
    "                       aws_secret_access_key='xxx')\n"
   ]
  },
  {
   "cell_type": "markdown",
   "metadata": {},
   "source": [
    "##### To Do Only Once : Key-Pair Setup + Group Creation"
   ]
  },
  {
   "cell_type": "code",
   "execution_count": null,
   "metadata": {
    "collapsed": true
   },
   "outputs": [],
   "source": [
    "# ##To do Only Once : \n",
    "# key_pair = ec2.create_key_pair('ec2-romain2-key')\n",
    "# key_pair.save('~/.ssh')\n",
    "# group = ec2.create_security_group('tag', 'A group that allows SSH access')\n",
    "# group.authorize('tcp', 22, 22, '0.0.0.0/0') # to properly authorize ssh"
   ]
  },
  {
   "cell_type": "code",
   "execution_count": 77,
   "metadata": {
    "collapsed": false
   },
   "outputs": [
    {
     "name": "stdout",
     "output_type": "stream",
     "text": [
      "waiting for instance\n",
      ". . . . . done\n"
     ]
    }
   ],
   "source": [
    "## Running a classical Amazon t2.micro Linux Instance\n",
    "reservation = ec2.run_instances(image_id='ami-60b6c60a', \n",
    "                                key_name='ec2-romain2-key', \n",
    "                                instance_type = 't2.micro',\n",
    "                                security_groups = ['tag'])\n",
    "\n",
    "instance = reservation.instances[0]\n",
    "print 'waiting for instance'\n",
    "while instance.state != 'running':\n",
    "    print '.',\n",
    "    time.sleep(5)\n",
    "    instance.update()\n",
    "print 'done'"
   ]
  },
  {
   "cell_type": "markdown",
   "metadata": {},
   "source": [
    "## Upload a file on EC2"
   ]
  },
  {
   "cell_type": "code",
   "execution_count": 41,
   "metadata": {
    "collapsed": false
   },
   "outputs": [],
   "source": [
    "import boto.manage.cmdshell\n",
    " \n",
    "def upload_file(instance, key, username, local_filepath, remote_filepath):\n",
    "    \"\"\"\n",
    "    Upload a file to a remote directory using SFTP. All parameters except\n",
    "    for \"instance\" are strings. The instance parameter should be a\n",
    "    boto.ec2.instance.Instance object.\n",
    " \n",
    "    instance        An EC2 instance to upload the files to.\n",
    "    key             The file path for a valid SSH key which can be used to\n",
    "                    log in to the EC2 machine.\n",
    "    username        The username to log in as.\n",
    "    local_filepath  The path to the file to upload.\n",
    "    remote_filepath The path where the file should be uploaded to.\n",
    "    \"\"\"\n",
    "    ssh_client = boto.manage.cmdshell.sshclient_from_instance(\n",
    "        instance,\n",
    "        key,\n",
    "        user_name=username\n",
    "    )\n",
    "    ssh_client.put_file(local_filepath, remote_filepath)"
   ]
  },
  {
   "cell_type": "code",
   "execution_count": 63,
   "metadata": {
    "collapsed": false
   },
   "outputs": [],
   "source": [
    "upload_file(instance, \n",
    "            '/Users/romainbui/.ssh/ec2-romain2-key.pem', \n",
    "            'ec2-user', \n",
    "            '/Users/romainbui/test', 'test')"
   ]
  },
  {
   "cell_type": "markdown",
   "metadata": {},
   "source": [
    "## Run Command lines on EC2"
   ]
  },
  {
   "cell_type": "code",
   "execution_count": 79,
   "metadata": {
    "collapsed": false
   },
   "outputs": [],
   "source": [
    "ssh_client = boto.manage.cmdshell.sshclient_from_instance(instance, \n",
    "                                                          '/Users/romainbui/.ssh/ec2-romain2-key.pem', \n",
    "                                                          user_name = 'ec2-user')"
   ]
  },
  {
   "cell_type": "markdown",
   "metadata": {},
   "source": [
    "##### Perform the instalation"
   ]
  },
  {
   "cell_type": "code",
   "execution_count": 80,
   "metadata": {
    "collapsed": false
   },
   "outputs": [
    {
     "data": {
      "text/plain": [
       "<paramiko.Channel 0 (open) window=2097152 -> <paramiko.Transport at 0x35f8650L (cipher aes128-ctr, 128 bits) (active; 1 open channel(s))>>"
      ]
     },
     "execution_count": 80,
     "metadata": {},
     "output_type": "execute_result"
    }
   ],
   "source": [
    "main_install =  \"\"\"sudo yum -y install gcc-c++ python27-devel atlas-sse3-devel lapack-devel\n",
    "sudo pip install numpy\n",
    "sudo pip install pandas\n",
    "sudo pip install scipy\n",
    "sudo pip install scikit-learn\n",
    "\"\"\"\n",
    "\n",
    "ssh_client.run_pty(main_install)"
   ]
  },
  {
   "cell_type": "markdown",
   "metadata": {},
   "source": [
    "## Instance Termination | DO NOT FORGET !"
   ]
  },
  {
   "cell_type": "code",
   "execution_count": 81,
   "metadata": {
    "collapsed": false
   },
   "outputs": [],
   "source": [
    "# Terminate the Instance - DO NOT FORGET\n",
    "instance.terminate()"
   ]
  }
 ],
 "metadata": {
  "kernelspec": {
   "display_name": "py22",
   "language": "python",
   "name": "py22"
  },
  "language_info": {
   "codemirror_mode": {
    "name": "ipython",
    "version": 2
   },
   "file_extension": ".py",
   "mimetype": "text/x-python",
   "name": "python",
   "nbconvert_exporter": "python",
   "pygments_lexer": "ipython2",
   "version": "2.7.11"
  }
 },
 "nbformat": 4,
 "nbformat_minor": 0
}
