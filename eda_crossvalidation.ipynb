{
 "cells": [
  {
   "cell_type": "code",
   "execution_count": 39,
   "metadata": {
    "collapsed": false
   },
   "outputs": [],
   "source": [
    "import pandas as pd\n",
    "import numpy as np\n",
    "import matplotlib.pyplot as plt\n",
    "%matplotlib inline\n",
    "from sklearn.feature_extraction.text import CountVectorizer\n",
    "from sklearn.feature_extraction.text import TfidfVectorizer\n",
    "from sklearn.linear_model import LinearRegression\n",
    "from sklearn.ensemble import RandomForestRegressor\n",
    "from sklearn.cross_validation import train_test_split\n",
    "from sklearn.metrics import mean_squared_error\n",
    "from sklearn.grid_search import GridSearchCV\n",
    "from rdkit import Chem, DataStructs\n",
    "from rdkit.Chem import AllChem"
   ]
  },
  {
   "cell_type": "code",
   "execution_count": 3,
   "metadata": {
    "collapsed": false
   },
   "outputs": [],
   "source": [
    "\"\"\"\n",
    "Read in train and test as Pandas DataFrames\n",
    "\"\"\"\n",
    "df_train = pd.read_csv(\"train.csv\")\n",
    "df_test = pd.read_csv(\"test.csv\")"
   ]
  },
  {
   "cell_type": "markdown",
   "metadata": {},
   "source": [
    "## EDA"
   ]
  },
  {
   "cell_type": "code",
   "execution_count": 141,
   "metadata": {
    "collapsed": false
   },
   "outputs": [
    {
     "data": {
      "image/png": "[encoded data removed]",
      "text/plain": [
       "<matplotlib.figure.Figure at 0x1126444d0>"
      ]
     },
     "metadata": {},
     "output_type": "display_data"
    }
   ],
   "source": [
    "plt.hist(df_train.gap, bins=np.arange(-2, 4, 0.2))\n",
    "plt.xlabel('Homo-Lumo Gap')\n",
    "plt.show()"
   ]
  },
  {
   "cell_type": "code",
   "execution_count": 147,
   "metadata": {
    "collapsed": false
   },
   "outputs": [],
   "source": [
    "df_train = df_train.drop(df_train[df_train.gap<0].index)"
   ]
  },
  {
   "cell_type": "code",
   "execution_count": 148,
   "metadata": {
    "collapsed": false
   },
   "outputs": [
    {
     "data": {
      "text/plain": [
       "(999997, 258)"
      ]
     },
     "execution_count": 148,
     "metadata": {},
     "output_type": "execute_result"
    }
   ],
   "source": [
    "df_train.shape"
   ]
  },
  {
   "cell_type": "code",
   "execution_count": 150,
   "metadata": {
    "collapsed": false
   },
   "outputs": [
    {
     "data": {
      "image/png": "[encoded data removed]",
      "text/plain": [
       "<matplotlib.figure.Figure at 0x1128bbb90>"
      ]
     },
     "metadata": {},
     "output_type": "display_data"
    }
   ],
   "source": [
    "plt.hist(df_train.gap, bins=np.arange(0, 4, 0.2))\n",
    "plt.xlabel('HOMO-LUMO Gap')\n",
    "plt.show()"
   ]
  },
  {
   "cell_type": "markdown",
   "metadata": {},
   "source": [
    "## Cross-validation on small sample"
   ]
  },
  {
   "cell_type": "code",
   "execution_count": 45,
   "metadata": {
    "collapsed": false,
    "scrolled": true
   },
   "outputs": [
    {
     "name": "stdout",
     "output_type": "stream",
     "text": [
      "(10000, 258)\n",
      "(100000, 258)\n"
     ]
    }
   ],
   "source": [
    "df_sample_train, df_sample_test = train_test_split(df_train, train_size=0.01, test_size=0.1)\n",
    "print df_sample_train.shape\n",
    "print df_sample_test.shape\n",
    "df_sample_train.head()\n",
    "df_sample_train.to_csv('Data/df_sample_train.csv')\n",
    "df_sample_test.to_csv('Data/df_sample_test.csv')"
   ]
  },
  {
   "cell_type": "code",
   "execution_count": 46,
   "metadata": {
    "collapsed": true
   },
   "outputs": [],
   "source": [
    "y_train = df_sample_train.gap.values\n",
    "y_test = df_sample_test.gap.values"
   ]
  },
  {
   "cell_type": "code",
   "execution_count": 47,
   "metadata": {
    "collapsed": true
   },
   "outputs": [],
   "source": [
    "df_sample_all = pd.concat((df_sample_train, df_sample_test), axis=0)"
   ]
  },
  {
   "cell_type": "code",
   "execution_count": null,
   "metadata": {
    "collapsed": true
   },
   "outputs": [],
   "source": [
    "ngram_vectorizer = TfidfVectorizer(analyzer='char', ngram_range=(1, 3), lowercase=False)\n",
    "ngram_vectorizer.fit(df_sample_all.smiles)"
   ]
  },
  {
   "cell_type": "code",
   "execution_count": 88,
   "metadata": {
    "collapsed": false
   },
   "outputs": [],
   "source": [
    "def to_ngrams(X, n_feats=None):\n",
    "    X = ngram_vectorizer.transform(X.smiles)\n",
    "    return X"
   ]
  },
  {
   "cell_type": "code",
   "execution_count": 41,
   "metadata": {
    "collapsed": true
   },
   "outputs": [],
   "source": [
    "def smiles_to_fingerprint (smiles, n_bits): \n",
    "    mol = Chem.MolFromSmiles(smiles)\n",
    "    fp = AllChem.GetMorganFingerprintAsBitVect(mol, 4, n_bits)\n",
    "    fp_arr = np.zeros((1,))\n",
    "    DataStructs.ConvertToNumpyArray(fp, fp_arr)\n",
    "    return fp_arr"
   ]
  },
  {
   "cell_type": "code",
   "execution_count": 43,
   "metadata": {
    "collapsed": true
   },
   "outputs": [],
   "source": [
    "def to_fingerprints(X, n_bits):\n",
    "    fps = X.smiles.apply(lambda x: smiles_to_fingerprint(x, n_bits)).tolist()\n",
    "    X_fps = np.ndarray((len(fps), n_bits))\n",
    "    for i in range (len(fps)):\n",
    "        X_fps[i] = fps[i]\n",
    "    return X_fps"
   ]
  },
  {
   "cell_type": "code",
   "execution_count": 107,
   "metadata": {
    "collapsed": false
   },
   "outputs": [],
   "source": [
    "def cv_optimize(reg,params, X, y,  n_folds=3):\n",
    "    gs = GridSearchCV(reg, param_grid=params, cv=n_folds, scoring=\"mean_squared_error\")\n",
    "    gs.fit(X, y)\n",
    "    return gs.best_estimator_,gs.best_params_, gs.best_score_, gs.grid_scores_"
   ]
  },
  {
   "cell_type": "code",
   "execution_count": 122,
   "metadata": {
    "collapsed": false
   },
   "outputs": [],
   "source": [
    "#ridge_grid_scores.sort(key = lambda x: x.params.alpha)\n",
    "#for model in ridge_grid_scores:\n",
    "    #print model.parameters['alpha']\n",
    "def plot_grid_scores(grid_scores, param_name, log=True):\n",
    "    params =  [model.parameters[param_name] for model in grid_scores]\n",
    "    scores = [-model.mean_validation_score for model in grid_scores]\n",
    "    plt.plot(params, scores)\n",
    "    if log:\n",
    "        plt.xscale('log')\n",
    "    plt.xlabel(param_name)\n",
    "    plt.ylabel('RMSE')\n",
    "    plt.show()"
   ]
  },
  {
   "cell_type": "code",
   "execution_count": 103,
   "metadata": {
    "collapsed": true
   },
   "outputs": [],
   "source": [
    "X_train_ng = to_ngrams(df_sample_train)\n",
    "X_test_ng = to_ngrams(df_sample_test)\n",
    "X_train_fp2048 = to_fingerprints(df_sample_train, 2048)\n",
    "X_test_fp2048 = to_fingerprints(df_sample_test, 2048)\n",
    "X_train_fp4096 = to_fingerprints(df_sample_train, 4096)\n",
    "X_test_fp4096 = to_fingerprints(df_sample_test, 4096)"
   ]
  },
  {
   "cell_type": "code",
   "execution_count": 114,
   "metadata": {
    "collapsed": false
   },
   "outputs": [],
   "source": [
    "def do_regression (model_name, model, X_train, X_test, params, y_train=y_train, y_test=y_test):\n",
    "    best_estimator, best_params, best_score, grid_scores =  cv_optimize(model, params, X_train, y_train)\n",
    "    print \"Validation RMSE: \" + str(-best_score)\n",
    "    best_estimator.fit (X_train, y_train)\n",
    "    test_rmse = mean_squared_error(best_estimator.predict(X_test),y_test)\n",
    "    print \"Test RMSE: \" + str(test_rmse)\n",
    "    return {'model': model_name, 'cv_rmse': -best_score, 'test_rmse':test_rmse, 'grid_scores':grid_scores, 'best_params': best_params}     \n",
    "    "
   ]
  },
  {
   "cell_type": "markdown",
   "metadata": {},
   "source": [
    "## Ridge Regression"
   ]
  },
  {
   "cell_type": "markdown",
   "metadata": {},
   "source": [
    "### NGrams"
   ]
  },
  {
   "cell_type": "code",
   "execution_count": 81,
   "metadata": {
    "collapsed": false
   },
   "outputs": [
    {
     "name": "stdout",
     "output_type": "stream",
     "text": [
      "Validation RMSE: 0.0372984013679\n",
      "Test RMSE: 0.0362822930191\n"
     ]
    }
   ],
   "source": [
    "params = {'alpha': [ 1e-6, 1e-5, 1e-4, 1e-3, 0.1,0.2,0.5, 1]}\n",
    "result = do_regression('Ridge-Ngrams', Ridge(), X_train_ng, X_test_ng, params)"
   ]
  },
  {
   "cell_type": "code",
   "execution_count": 82,
   "metadata": {
    "collapsed": false
   },
   "outputs": [
    {
     "data": {
      "text/html": [
       "<div>\n",
       "<table border=\"1\" class=\"dataframe\">\n",
       "  <thead>\n",
       "    <tr style=\"text-align: right;\">\n",
       "      <th></th>\n",
       "      <th>model</th>\n",
       "      <th>cv_rmse</th>\n",
       "      <th>test_rmse</th>\n",
       "      <th>grid_scores</th>\n",
       "      <th>best_params</th>\n",
       "    </tr>\n",
       "  </thead>\n",
       "  <tbody>\n",
       "    <tr>\n",
       "      <th>0</th>\n",
       "      <td>Ridge</td>\n",
       "      <td>0.037298</td>\n",
       "      <td>0.036282</td>\n",
       "      <td>[({u'alpha': 1e-06}, -0.0372984013679, [-0.038...</td>\n",
       "      <td>{u'alpha': 1e-06}</td>\n",
       "    </tr>\n",
       "  </tbody>\n",
       "</table>\n",
       "</div>"
      ],
      "text/plain": [
       "   model   cv_rmse  test_rmse  \\\n",
       "0  Ridge  0.037298   0.036282   \n",
       "\n",
       "                                         grid_scores        best_params  \n",
       "0  [({u'alpha': 1e-06}, -0.0372984013679, [-0.038...  {u'alpha': 1e-06}  "
      ]
     },
     "execution_count": 82,
     "metadata": {},
     "output_type": "execute_result"
    }
   ],
   "source": [
    "results = pd.DataFrame(columns= ['model', 'cv_rmse', 'test_rmse','grid_scores','best_params'])\n",
    "results = results.append(result, ignore_index=True)\n",
    "results"
   ]
  },
  {
   "cell_type": "code",
   "execution_count": 84,
   "metadata": {
    "collapsed": false
   },
   "outputs": [
    {
     "data": {
      "image/png": "[encoded data removed]",
      "text/plain": [
       "<matplotlib.figure.Figure at 0x1229fa050>"
      ]
     },
     "metadata": {},
     "output_type": "display_data"
    }
   ],
   "source": [
    "plot_grid_scores(result['grid_scores'])"
   ]
  },
  {
   "cell_type": "markdown",
   "metadata": {},
   "source": [
    "### Morgan Fingerprints"
   ]
  },
  {
   "cell_type": "code",
   "execution_count": 99,
   "metadata": {
    "collapsed": false
   },
   "outputs": [
    {
     "name": "stdout",
     "output_type": "stream",
     "text": [
      "Validation RMSE: 0.0301618910175\n",
      "Test RMSE: 0.0362822930191\n"
     ]
    },
    {
     "data": {
      "image/png": "[encoded data removed]",
      "text/plain": [
       "<matplotlib.figure.Figure at 0x138ebdb90>"
      ]
     },
     "metadata": {},
     "output_type": "display_data"
    },
    {
     "data": {
      "text/html": [
       "<div>\n",
       "<table border=\"1\" class=\"dataframe\">\n",
       "  <thead>\n",
       "    <tr style=\"text-align: right;\">\n",
       "      <th></th>\n",
       "      <th>model</th>\n",
       "      <th>cv_rmse</th>\n",
       "      <th>test_rmse</th>\n",
       "      <th>grid_scores</th>\n",
       "      <th>best_params</th>\n",
       "    </tr>\n",
       "  </thead>\n",
       "  <tbody>\n",
       "    <tr>\n",
       "      <th>0</th>\n",
       "      <td>Ridge</td>\n",
       "      <td>0.037298</td>\n",
       "      <td>0.036282</td>\n",
       "      <td>[({u'alpha': 1e-06}, -0.0372984013679, [-0.038...</td>\n",
       "      <td>{u'alpha': 1e-06}</td>\n",
       "    </tr>\n",
       "    <tr>\n",
       "      <th>1</th>\n",
       "      <td>Ridge-Morgans-2048</td>\n",
       "      <td>0.030162</td>\n",
       "      <td>0.028413</td>\n",
       "      <td>[({u'alpha': 1e-06}, -0.0304537287038, [-0.031...</td>\n",
       "      <td>{u'alpha': 1}</td>\n",
       "    </tr>\n",
       "  </tbody>\n",
       "</table>\n",
       "</div>"
      ],
      "text/plain": [
       "                model   cv_rmse  test_rmse  \\\n",
       "0               Ridge  0.037298   0.036282   \n",
       "1  Ridge-Morgans-2048  0.030162   0.028413   \n",
       "\n",
       "                                         grid_scores        best_params  \n",
       "0  [({u'alpha': 1e-06}, -0.0372984013679, [-0.038...  {u'alpha': 1e-06}  \n",
       "1  [({u'alpha': 1e-06}, -0.0304537287038, [-0.031...      {u'alpha': 1}  "
      ]
     },
     "execution_count": 99,
     "metadata": {},
     "output_type": "execute_result"
    }
   ],
   "source": [
    "result = do_regression('Ridge-Morgans-2048', Ridge(),X_train_fp2048, X_test_fp2048, params)\n",
    "results = results.append(result, ignore_index=True)\n",
    "plot_grid_scores(result['grid_scores'])\n",
    "results"
   ]
  },
  {
   "cell_type": "code",
   "execution_count": 100,
   "metadata": {
    "collapsed": false
   },
   "outputs": [
    {
     "name": "stdout",
     "output_type": "stream",
     "text": [
      "Validation RMSE: 0.0345557882171\n",
      "Test RMSE: 0.0362822930191\n"
     ]
    },
    {
     "data": {
      "image/png": "[encoded data removed]",
      "text/plain": [
       "<matplotlib.figure.Figure at 0x14ec3a050>"
      ]
     },
     "metadata": {},
     "output_type": "display_data"
    },
    {
     "data": {
      "text/html": [
       "<div>\n",
       "<table border=\"1\" class=\"dataframe\">\n",
       "  <thead>\n",
       "    <tr style=\"text-align: right;\">\n",
       "      <th></th>\n",
       "      <th>model</th>\n",
       "      <th>cv_rmse</th>\n",
       "      <th>test_rmse</th>\n",
       "      <th>grid_scores</th>\n",
       "      <th>best_params</th>\n",
       "    </tr>\n",
       "  </thead>\n",
       "  <tbody>\n",
       "    <tr>\n",
       "      <th>0</th>\n",
       "      <td>Ridge</td>\n",
       "      <td>0.037298</td>\n",
       "      <td>0.036282</td>\n",
       "      <td>[({u'alpha': 1e-06}, -0.0372984013679, [-0.038...</td>\n",
       "      <td>{u'alpha': 1e-06}</td>\n",
       "    </tr>\n",
       "    <tr>\n",
       "      <th>1</th>\n",
       "      <td>Ridge-Morgans-2048</td>\n",
       "      <td>0.030162</td>\n",
       "      <td>0.028413</td>\n",
       "      <td>[({u'alpha': 1e-06}, -0.0304537287038, [-0.031...</td>\n",
       "      <td>{u'alpha': 1}</td>\n",
       "    </tr>\n",
       "    <tr>\n",
       "      <th>2</th>\n",
       "      <td>Ridge-Morgans-4096</td>\n",
       "      <td>0.034556</td>\n",
       "      <td>0.029111</td>\n",
       "      <td>[({u'alpha': 1e-06}, -0.0384670367704, [-0.038...</td>\n",
       "      <td>{u'alpha': 1}</td>\n",
       "    </tr>\n",
       "  </tbody>\n",
       "</table>\n",
       "</div>"
      ],
      "text/plain": [
       "                model   cv_rmse  test_rmse  \\\n",
       "0               Ridge  0.037298   0.036282   \n",
       "1  Ridge-Morgans-2048  0.030162   0.028413   \n",
       "2  Ridge-Morgans-4096  0.034556   0.029111   \n",
       "\n",
       "                                         grid_scores        best_params  \n",
       "0  [({u'alpha': 1e-06}, -0.0372984013679, [-0.038...  {u'alpha': 1e-06}  \n",
       "1  [({u'alpha': 1e-06}, -0.0304537287038, [-0.031...      {u'alpha': 1}  \n",
       "2  [({u'alpha': 1e-06}, -0.0384670367704, [-0.038...      {u'alpha': 1}  "
      ]
     },
     "execution_count": 100,
     "metadata": {},
     "output_type": "execute_result"
    }
   ],
   "source": [
    "result = do_regression('Ridge-Morgans-4096', Ridge(),X_train_fp4096, X_test_fp4096, params)\n",
    "results = results.append(result, ignore_index=True)\n",
    "plot_grid_scores(result['grid_scores'])\n",
    "results"
   ]
  },
  {
   "cell_type": "markdown",
   "metadata": {},
   "source": [
    "## Random Forests"
   ]
  },
  {
   "cell_type": "code",
   "execution_count": 120,
   "metadata": {
    "collapsed": false
   },
   "outputs": [
    {
     "name": "stdout",
     "output_type": "stream",
     "text": [
      "Validation RMSE: 0.0350908143976\n",
      "Test RMSE: 0.031595654754\n"
     ]
    },
    {
     "data": {
      "image/png": "[encoded data removed]",
      "text/plain": [
       "<matplotlib.figure.Figure at 0x11150ad10>"
      ]
     },
     "metadata": {},
     "output_type": "display_data"
    },
    {
     "data": {
      "text/html": [
       "<div>\n",
       "<table border=\"1\" class=\"dataframe\">\n",
       "  <thead>\n",
       "    <tr style=\"text-align: right;\">\n",
       "      <th></th>\n",
       "      <th>model</th>\n",
       "      <th>cv_rmse</th>\n",
       "      <th>test_rmse</th>\n",
       "      <th>grid_scores</th>\n",
       "      <th>best_params</th>\n",
       "    </tr>\n",
       "  </thead>\n",
       "  <tbody>\n",
       "    <tr>\n",
       "      <th>0</th>\n",
       "      <td>Ridge</td>\n",
       "      <td>0.037298</td>\n",
       "      <td>0.036282</td>\n",
       "      <td>[({u'alpha': 1e-06}, -0.0372984013679, [-0.038...</td>\n",
       "      <td>{u'alpha': 1e-06}</td>\n",
       "    </tr>\n",
       "    <tr>\n",
       "      <th>1</th>\n",
       "      <td>Ridge-Morgans-2048</td>\n",
       "      <td>0.030162</td>\n",
       "      <td>0.028413</td>\n",
       "      <td>[({u'alpha': 1e-06}, -0.0304537287038, [-0.031...</td>\n",
       "      <td>{u'alpha': 1}</td>\n",
       "    </tr>\n",
       "    <tr>\n",
       "      <th>2</th>\n",
       "      <td>Ridge-Morgans-4096</td>\n",
       "      <td>0.034556</td>\n",
       "      <td>0.029111</td>\n",
       "      <td>[({u'alpha': 1e-06}, -0.0384670367704, [-0.038...</td>\n",
       "      <td>{u'alpha': 1}</td>\n",
       "    </tr>\n",
       "    <tr>\n",
       "      <th>3</th>\n",
       "      <td>Lasso-Ngrams</td>\n",
       "      <td>0.037600</td>\n",
       "      <td>0.036743</td>\n",
       "      <td>[({u'alpha': 1e-06}, -0.0376004612751, [-0.038...</td>\n",
       "      <td>{u'alpha': 1e-06}</td>\n",
       "    </tr>\n",
       "    <tr>\n",
       "      <th>4</th>\n",
       "      <td>Forest-Ngrams</td>\n",
       "      <td>0.061432</td>\n",
       "      <td>0.058233</td>\n",
       "      <td>[({u'n_estimators': 20}, -0.066028767, [-0.060...</td>\n",
       "      <td>{u'n_estimators': 100}</td>\n",
       "    </tr>\n",
       "    <tr>\n",
       "      <th>5</th>\n",
       "      <td>Forest-Ngrams</td>\n",
       "      <td>0.035091</td>\n",
       "      <td>0.031596</td>\n",
       "      <td>[({u'n_estimators': 50}, -0.0359900951925, [-0...</td>\n",
       "      <td>{u'n_estimators': 200}</td>\n",
       "    </tr>\n",
       "  </tbody>\n",
       "</table>\n",
       "</div>"
      ],
      "text/plain": [
       "                model   cv_rmse  test_rmse  \\\n",
       "0               Ridge  0.037298   0.036282   \n",
       "1  Ridge-Morgans-2048  0.030162   0.028413   \n",
       "2  Ridge-Morgans-4096  0.034556   0.029111   \n",
       "3        Lasso-Ngrams  0.037600   0.036743   \n",
       "4       Forest-Ngrams  0.061432   0.058233   \n",
       "5       Forest-Ngrams  0.035091   0.031596   \n",
       "\n",
       "                                         grid_scores             best_params  \n",
       "0  [({u'alpha': 1e-06}, -0.0372984013679, [-0.038...       {u'alpha': 1e-06}  \n",
       "1  [({u'alpha': 1e-06}, -0.0304537287038, [-0.031...           {u'alpha': 1}  \n",
       "2  [({u'alpha': 1e-06}, -0.0384670367704, [-0.038...           {u'alpha': 1}  \n",
       "3  [({u'alpha': 1e-06}, -0.0376004612751, [-0.038...       {u'alpha': 1e-06}  \n",
       "4  [({u'n_estimators': 20}, -0.066028767, [-0.060...  {u'n_estimators': 100}  \n",
       "5  [({u'n_estimators': 50}, -0.0359900951925, [-0...  {u'n_estimators': 200}  "
      ]
     },
     "execution_count": 120,
     "metadata": {},
     "output_type": "execute_result"
    }
   ],
   "source": [
    "params = {'n_estimators': [50,100,200]}\n",
    "result = do_regression('Forest-Ngrams', RandomForestRegressor(n_jobs=-1), X_train_ng, X_test_ng, params)\n",
    "results = results.append(result, ignore_index=True)\n",
    "plot_grid_scores(result['grid_scores'], 'n_estimators', log=True)\n",
    "results"
   ]
  },
  {
   "cell_type": "code",
   "execution_count": 123,
   "metadata": {
    "collapsed": false
   },
   "outputs": [
    {
     "data": {
      "image/png": "[encoded data removed]",
      "text/plain": [
       "<matplotlib.figure.Figure at 0x17e244a90>"
      ]
     },
     "metadata": {},
     "output_type": "display_data"
    },
    {
     "data": {
      "text/html": [
       "<div>\n",
       "<table border=\"1\" class=\"dataframe\">\n",
       "  <thead>\n",
       "    <tr style=\"text-align: right;\">\n",
       "      <th></th>\n",
       "      <th>model</th>\n",
       "      <th>cv_rmse</th>\n",
       "      <th>test_rmse</th>\n",
       "      <th>grid_scores</th>\n",
       "      <th>best_params</th>\n",
       "    </tr>\n",
       "  </thead>\n",
       "  <tbody>\n",
       "    <tr>\n",
       "      <th>0</th>\n",
       "      <td>Ridge</td>\n",
       "      <td>0.037298</td>\n",
       "      <td>0.036282</td>\n",
       "      <td>[({u'alpha': 1e-06}, -0.0372984013679, [-0.038...</td>\n",
       "      <td>{u'alpha': 1e-06}</td>\n",
       "    </tr>\n",
       "    <tr>\n",
       "      <th>1</th>\n",
       "      <td>Ridge-Morgans-2048</td>\n",
       "      <td>0.030162</td>\n",
       "      <td>0.028413</td>\n",
       "      <td>[({u'alpha': 1e-06}, -0.0304537287038, [-0.031...</td>\n",
       "      <td>{u'alpha': 1}</td>\n",
       "    </tr>\n",
       "    <tr>\n",
       "      <th>2</th>\n",
       "      <td>Ridge-Morgans-4096</td>\n",
       "      <td>0.034556</td>\n",
       "      <td>0.029111</td>\n",
       "      <td>[({u'alpha': 1e-06}, -0.0384670367704, [-0.038...</td>\n",
       "      <td>{u'alpha': 1}</td>\n",
       "    </tr>\n",
       "    <tr>\n",
       "      <th>3</th>\n",
       "      <td>Lasso-Ngrams</td>\n",
       "      <td>0.037600</td>\n",
       "      <td>0.036743</td>\n",
       "      <td>[({u'alpha': 1e-06}, -0.0376004612751, [-0.038...</td>\n",
       "      <td>{u'alpha': 1e-06}</td>\n",
       "    </tr>\n",
       "    <tr>\n",
       "      <th>4</th>\n",
       "      <td>Forest-Ngrams</td>\n",
       "      <td>0.061432</td>\n",
       "      <td>0.058233</td>\n",
       "      <td>[({u'n_estimators': 20}, -0.066028767, [-0.060...</td>\n",
       "      <td>{u'n_estimators': 100}</td>\n",
       "    </tr>\n",
       "    <tr>\n",
       "      <th>5</th>\n",
       "      <td>Forest-Ngrams</td>\n",
       "      <td>0.035091</td>\n",
       "      <td>0.031596</td>\n",
       "      <td>[({u'n_estimators': 50}, -0.0359900951925, [-0...</td>\n",
       "      <td>{u'n_estimators': 200}</td>\n",
       "    </tr>\n",
       "    <tr>\n",
       "      <th>6</th>\n",
       "      <td>Forest-Morgans-2048</td>\n",
       "      <td>0.028585</td>\n",
       "      <td>0.288087</td>\n",
       "      <td>[({u'n_estimators': 50}, -0.0293351976174, [-0...</td>\n",
       "      <td>{u'n_estimators': 200}</td>\n",
       "    </tr>\n",
       "  </tbody>\n",
       "</table>\n",
       "</div>"
      ],
      "text/plain": [
       "                 model   cv_rmse  test_rmse  \\\n",
       "0                Ridge  0.037298   0.036282   \n",
       "1   Ridge-Morgans-2048  0.030162   0.028413   \n",
       "2   Ridge-Morgans-4096  0.034556   0.029111   \n",
       "3         Lasso-Ngrams  0.037600   0.036743   \n",
       "4        Forest-Ngrams  0.061432   0.058233   \n",
       "5        Forest-Ngrams  0.035091   0.031596   \n",
       "6  Forest-Morgans-2048  0.028585   0.288087   \n",
       "\n",
       "                                         grid_scores             best_params  \n",
       "0  [({u'alpha': 1e-06}, -0.0372984013679, [-0.038...       {u'alpha': 1e-06}  \n",
       "1  [({u'alpha': 1e-06}, -0.0304537287038, [-0.031...           {u'alpha': 1}  \n",
       "2  [({u'alpha': 1e-06}, -0.0384670367704, [-0.038...           {u'alpha': 1}  \n",
       "3  [({u'alpha': 1e-06}, -0.0376004612751, [-0.038...       {u'alpha': 1e-06}  \n",
       "4  [({u'n_estimators': 20}, -0.066028767, [-0.060...  {u'n_estimators': 100}  \n",
       "5  [({u'n_estimators': 50}, -0.0359900951925, [-0...  {u'n_estimators': 200}  \n",
       "6  [({u'n_estimators': 50}, -0.0293351976174, [-0...  {u'n_estimators': 200}  "
      ]
     },
     "execution_count": 123,
     "metadata": {},
     "output_type": "execute_result"
    }
   ],
   "source": [
    "result = do_regression('Forest-Morgans-2048', RandomForestRegressor(n_jobs=-1), X_train_fp2048, X_test_fp2048, params)\n",
    "results = results.append(result, ignore_index=True)\n",
    "plot_grid_scores(result['grid_scores'], 'n_estimators', log=False)\n",
    "results"
   ]
  },
  {
   "cell_type": "code",
   "execution_count": 127,
   "metadata": {
    "collapsed": false
   },
   "outputs": [],
   "source": [
    "results = results.drop(results.index[4])"
   ]
  },
  {
   "cell_type": "code",
   "execution_count": 135,
   "metadata": {
    "collapsed": false
   },
   "outputs": [
    {
     "data": {
      "text/html": [
       "<div>\n",
       "<table border=\"1\" class=\"dataframe\">\n",
       "  <thead>\n",
       "    <tr style=\"text-align: right;\">\n",
       "      <th></th>\n",
       "      <th>model</th>\n",
       "      <th>cv_rmse</th>\n",
       "      <th>test_rmse</th>\n",
       "      <th>grid_scores</th>\n",
       "      <th>best_params</th>\n",
       "    </tr>\n",
       "  </thead>\n",
       "  <tbody>\n",
       "    <tr>\n",
       "      <th>0</th>\n",
       "      <td>Ridge-Ngrams</td>\n",
       "      <td>0.037298</td>\n",
       "      <td>0.036282</td>\n",
       "      <td>[({u'alpha': 1e-06}, -0.0372984013679, [-0.038...</td>\n",
       "      <td>{u'alpha': 1e-06}</td>\n",
       "    </tr>\n",
       "    <tr>\n",
       "      <th>1</th>\n",
       "      <td>Ridge-Morgans-2048</td>\n",
       "      <td>0.030162</td>\n",
       "      <td>0.028413</td>\n",
       "      <td>[({u'alpha': 1e-06}, -0.0304537287038, [-0.031...</td>\n",
       "      <td>{u'alpha': 1}</td>\n",
       "    </tr>\n",
       "    <tr>\n",
       "      <th>2</th>\n",
       "      <td>Ridge-Morgans-4096</td>\n",
       "      <td>0.034556</td>\n",
       "      <td>0.029111</td>\n",
       "      <td>[({u'alpha': 1e-06}, -0.0384670367704, [-0.038...</td>\n",
       "      <td>{u'alpha': 1}</td>\n",
       "    </tr>\n",
       "    <tr>\n",
       "      <th>3</th>\n",
       "      <td>Lasso-Ngrams</td>\n",
       "      <td>0.037600</td>\n",
       "      <td>0.036743</td>\n",
       "      <td>[({u'alpha': 1e-06}, -0.0376004612751, [-0.038...</td>\n",
       "      <td>{u'alpha': 1e-06}</td>\n",
       "    </tr>\n",
       "    <tr>\n",
       "      <th>5</th>\n",
       "      <td>Forest-Ngrams</td>\n",
       "      <td>0.035091</td>\n",
       "      <td>0.031596</td>\n",
       "      <td>[({u'n_estimators': 50}, -0.0359900951925, [-0...</td>\n",
       "      <td>{u'n_estimators': 200}</td>\n",
       "    </tr>\n",
       "    <tr>\n",
       "      <th>6</th>\n",
       "      <td>Forest-Morgans-2048</td>\n",
       "      <td>0.028585</td>\n",
       "      <td>0.288087</td>\n",
       "      <td>[({u'n_estimators': 50}, -0.0293351976174, [-0...</td>\n",
       "      <td>{u'n_estimators': 200}</td>\n",
       "    </tr>\n",
       "  </tbody>\n",
       "</table>\n",
       "</div>"
      ],
      "text/plain": [
       "                 model   cv_rmse  test_rmse  \\\n",
       "0         Ridge-Ngrams  0.037298   0.036282   \n",
       "1   Ridge-Morgans-2048  0.030162   0.028413   \n",
       "2   Ridge-Morgans-4096  0.034556   0.029111   \n",
       "3         Lasso-Ngrams  0.037600   0.036743   \n",
       "5        Forest-Ngrams  0.035091   0.031596   \n",
       "6  Forest-Morgans-2048  0.028585   0.288087   \n",
       "\n",
       "                                         grid_scores             best_params  \n",
       "0  [({u'alpha': 1e-06}, -0.0372984013679, [-0.038...       {u'alpha': 1e-06}  \n",
       "1  [({u'alpha': 1e-06}, -0.0304537287038, [-0.031...           {u'alpha': 1}  \n",
       "2  [({u'alpha': 1e-06}, -0.0384670367704, [-0.038...           {u'alpha': 1}  \n",
       "3  [({u'alpha': 1e-06}, -0.0376004612751, [-0.038...       {u'alpha': 1e-06}  \n",
       "5  [({u'n_estimators': 50}, -0.0359900951925, [-0...  {u'n_estimators': 200}  \n",
       "6  [({u'n_estimators': 50}, -0.0293351976174, [-0...  {u'n_estimators': 200}  "
      ]
     },
     "execution_count": 135,
     "metadata": {},
     "output_type": "execute_result"
    }
   ],
   "source": [
    "results"
   ]
  },
  {
   "cell_type": "code",
   "execution_count": null,
   "metadata": {
    "collapsed": true
   },
   "outputs": [],
   "source": []
  }
 ],
 "metadata": {
  "kernelspec": {
   "display_name": "Python 2",
   "language": "python",
   "name": "python2"
  },
  "language_info": {
   "codemirror_mode": {
    "name": "ipython",
    "version": 2
   },
   "file_extension": ".py",
   "mimetype": "text/x-python",
   "name": "python",
   "nbconvert_exporter": "python",
   "pygments_lexer": "ipython2",
   "version": "2.7.11"
  }
 },
 "nbformat": 4,
 "nbformat_minor": 0
}
