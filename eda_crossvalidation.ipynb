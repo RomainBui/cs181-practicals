{
 "cells": [
  {
   "cell_type": "code",
   "execution_count": 1,
   "metadata": {
    "collapsed": false
   },
   "outputs": [],
   "source": [
    "import pandas as pd\n",
    "import numpy as np\n",
    "import matplotlib.pyplot as plt\n",
    "%matplotlib inline\n",
    "from sklearn.feature_extraction.text import CountVectorizer\n",
    "from sklearn.feature_extraction.text import TfidfVectorizer\n",
    "from sklearn.linear_model import LinearRegression\n",
    "from sklearn.linear_model import Ridge\n",
    "from sklearn.ensemble import RandomForestRegressor\n",
    "from sklearn.cross_validation import train_test_split\n",
    "from sklearn.metrics import mean_squared_error\n",
    "from sklearn.grid_search import GridSearchCV\n",
    "from rdkit import Chem, DataStructs\n",
    "from rdkit.Chem import AllChem\n",
    "from sklearn.preprocessing import StandardScaler"
   ]
  },
  {
   "cell_type": "code",
   "execution_count": 14,
   "metadata": {
    "collapsed": false
   },
   "outputs": [],
   "source": [
    "\"\"\"\n",
    "Read in train and test as Pandas DataFrames\n",
    "\"\"\"\n",
    "df_train = pd.read_csv(\"train.csv\")\n",
    "df_test = pd.read_csv(\"test.csv\")\n",
    "#df_train_ob = pd.read_csv(\"Data/OB_features/df_train_OB.csv\")"
   ]
  },
  {
   "cell_type": "markdown",
   "metadata": {},
   "source": [
    "## EDA"
   ]
  },
  {
   "cell_type": "code",
   "execution_count": 153,
   "metadata": {
    "collapsed": false
   },
   "outputs": [
    {
     "data": {
      "image/png": "[encoded data removed]",
      "text/plain": [
       "<matplotlib.figure.Figure at 0x1126bda50>"
      ]
     },
     "metadata": {},
     "output_type": "display_data"
    }
   ],
   "source": [
    "plt.hist(df_train.gap, bins=np.arange(-2, 4, 0.2))\n",
    "plt.xlabel('Homo-Lumo Gap')\n",
    "plt.show()"
   ]
  },
  {
   "cell_type": "code",
   "execution_count": 15,
   "metadata": {
    "collapsed": false
   },
   "outputs": [],
   "source": [
    "df_train = df_train.drop(df_train[df_train.gap<0].index)"
   ]
  },
  {
   "cell_type": "code",
   "execution_count": 158,
   "metadata": {
    "collapsed": false
   },
   "outputs": [
    {
     "name": "stdout",
     "output_type": "stream",
     "text": [
      "(999997, 258)\n",
      "1.9157342872\n"
     ]
    }
   ],
   "source": [
    "print df_train.shape\n",
    "print df_train.gap.mean()"
   ]
  },
  {
   "cell_type": "code",
   "execution_count": 157,
   "metadata": {
    "collapsed": false
   },
   "outputs": [
    {
     "data": {
      "image/png": "[encoded data removed]",
      "text/plain": [
       "<matplotlib.figure.Figure at 0x117e02810>"
      ]
     },
     "metadata": {},
     "output_type": "display_data"
    }
   ],
   "source": [
    "plt.hist(df_train.gap, bins=np.arange(0, 4, 0.2))\n",
    "plt.axvline(df_train.gap.mean(), color='green', linewidth=2, label='mean gap')\n",
    "plt.xlabel('HOMO-LUMO Gap')\n",
    "plt.show()"
   ]
  },
  {
   "cell_type": "markdown",
   "metadata": {},
   "source": [
    "## Cross-validation on small sample"
   ]
  },
  {
   "cell_type": "code",
   "execution_count": 16,
   "metadata": {
    "collapsed": false,
    "scrolled": true
   },
   "outputs": [
    {
     "name": "stdout",
     "output_type": "stream",
     "text": [
      "(9999, 258)\n",
      "(100000, 258)\n"
     ]
    },
    {
     "data": {
      "text/html": [
       "<div>\n",
       "<table border=\"1\" class=\"dataframe\">\n",
       "  <thead>\n",
       "    <tr style=\"text-align: right;\">\n",
       "      <th></th>\n",
       "      <th>smiles</th>\n",
       "      <th>feat_001</th>\n",
       "      <th>feat_002</th>\n",
       "      <th>feat_003</th>\n",
       "      <th>feat_004</th>\n",
       "      <th>feat_005</th>\n",
       "      <th>feat_006</th>\n",
       "      <th>feat_007</th>\n",
       "      <th>feat_008</th>\n",
       "      <th>feat_009</th>\n",
       "      <th>...</th>\n",
       "      <th>feat_248</th>\n",
       "      <th>feat_249</th>\n",
       "      <th>feat_250</th>\n",
       "      <th>feat_251</th>\n",
       "      <th>feat_252</th>\n",
       "      <th>feat_253</th>\n",
       "      <th>feat_254</th>\n",
       "      <th>feat_255</th>\n",
       "      <th>feat_256</th>\n",
       "      <th>gap</th>\n",
       "    </tr>\n",
       "  </thead>\n",
       "  <tbody>\n",
       "    <tr>\n",
       "      <th>165780</th>\n",
       "      <td>c1sc(c2C=CCc12)-c1cc2c(ccc3ccccc23)c2cocc12</td>\n",
       "      <td>1</td>\n",
       "      <td>0</td>\n",
       "      <td>0</td>\n",
       "      <td>0</td>\n",
       "      <td>1</td>\n",
       "      <td>0</td>\n",
       "      <td>1</td>\n",
       "      <td>0</td>\n",
       "      <td>0</td>\n",
       "      <td>...</td>\n",
       "      <td>1</td>\n",
       "      <td>0</td>\n",
       "      <td>0</td>\n",
       "      <td>0</td>\n",
       "      <td>0</td>\n",
       "      <td>0</td>\n",
       "      <td>0</td>\n",
       "      <td>0</td>\n",
       "      <td>0</td>\n",
       "      <td>2.39</td>\n",
       "    </tr>\n",
       "    <tr>\n",
       "      <th>820975</th>\n",
       "      <td>c1cc2c(cc(C3=Cc4c(C3)ccc3=C[SiH2]C=c43)c3ccccc...</td>\n",
       "      <td>1</td>\n",
       "      <td>0</td>\n",
       "      <td>0</td>\n",
       "      <td>0</td>\n",
       "      <td>1</td>\n",
       "      <td>0</td>\n",
       "      <td>0</td>\n",
       "      <td>0</td>\n",
       "      <td>0</td>\n",
       "      <td>...</td>\n",
       "      <td>0</td>\n",
       "      <td>0</td>\n",
       "      <td>0</td>\n",
       "      <td>1</td>\n",
       "      <td>0</td>\n",
       "      <td>0</td>\n",
       "      <td>0</td>\n",
       "      <td>0</td>\n",
       "      <td>0</td>\n",
       "      <td>1.62</td>\n",
       "    </tr>\n",
       "    <tr>\n",
       "      <th>127788</th>\n",
       "      <td>C1=Cc2ncc3c4ccc(cc4[se]c3c2[SiH2]1)-c1cccc2cscc12</td>\n",
       "      <td>1</td>\n",
       "      <td>0</td>\n",
       "      <td>0</td>\n",
       "      <td>0</td>\n",
       "      <td>1</td>\n",
       "      <td>0</td>\n",
       "      <td>1</td>\n",
       "      <td>0</td>\n",
       "      <td>0</td>\n",
       "      <td>...</td>\n",
       "      <td>1</td>\n",
       "      <td>0</td>\n",
       "      <td>0</td>\n",
       "      <td>0</td>\n",
       "      <td>0</td>\n",
       "      <td>0</td>\n",
       "      <td>0</td>\n",
       "      <td>0</td>\n",
       "      <td>0</td>\n",
       "      <td>2.51</td>\n",
       "    </tr>\n",
       "    <tr>\n",
       "      <th>912527</th>\n",
       "      <td>c1ccc(nc1)-c1cc2ccc3c(ccc4ccc5cocc5c34)c2c2cocc12</td>\n",
       "      <td>0</td>\n",
       "      <td>0</td>\n",
       "      <td>0</td>\n",
       "      <td>0</td>\n",
       "      <td>1</td>\n",
       "      <td>0</td>\n",
       "      <td>1</td>\n",
       "      <td>0</td>\n",
       "      <td>0</td>\n",
       "      <td>...</td>\n",
       "      <td>1</td>\n",
       "      <td>0</td>\n",
       "      <td>0</td>\n",
       "      <td>0</td>\n",
       "      <td>0</td>\n",
       "      <td>0</td>\n",
       "      <td>0</td>\n",
       "      <td>0</td>\n",
       "      <td>0</td>\n",
       "      <td>2.25</td>\n",
       "    </tr>\n",
       "    <tr>\n",
       "      <th>120762</th>\n",
       "      <td>c1cc2c3ccccc3c3c4oc(cc4cnc3c2c2c[nH]cc12)-c1nc...</td>\n",
       "      <td>0</td>\n",
       "      <td>0</td>\n",
       "      <td>0</td>\n",
       "      <td>0</td>\n",
       "      <td>1</td>\n",
       "      <td>1</td>\n",
       "      <td>1</td>\n",
       "      <td>0</td>\n",
       "      <td>0</td>\n",
       "      <td>...</td>\n",
       "      <td>1</td>\n",
       "      <td>0</td>\n",
       "      <td>0</td>\n",
       "      <td>0</td>\n",
       "      <td>0</td>\n",
       "      <td>0</td>\n",
       "      <td>0</td>\n",
       "      <td>0</td>\n",
       "      <td>0</td>\n",
       "      <td>1.84</td>\n",
       "    </tr>\n",
       "  </tbody>\n",
       "</table>\n",
       "<p>5 rows × 258 columns</p>\n",
       "</div>"
      ],
      "text/plain": [
       "                                                   smiles  feat_001  feat_002  \\\n",
       "165780        c1sc(c2C=CCc12)-c1cc2c(ccc3ccccc23)c2cocc12         1         0   \n",
       "820975  c1cc2c(cc(C3=Cc4c(C3)ccc3=C[SiH2]C=c43)c3ccccc...         1         0   \n",
       "127788  C1=Cc2ncc3c4ccc(cc4[se]c3c2[SiH2]1)-c1cccc2cscc12         1         0   \n",
       "912527  c1ccc(nc1)-c1cc2ccc3c(ccc4ccc5cocc5c34)c2c2cocc12         0         0   \n",
       "120762  c1cc2c3ccccc3c3c4oc(cc4cnc3c2c2c[nH]cc12)-c1nc...         0         0   \n",
       "\n",
       "        feat_003  feat_004  feat_005  feat_006  feat_007  feat_008  feat_009  \\\n",
       "165780         0         0         1         0         1         0         0   \n",
       "820975         0         0         1         0         0         0         0   \n",
       "127788         0         0         1         0         1         0         0   \n",
       "912527         0         0         1         0         1         0         0   \n",
       "120762         0         0         1         1         1         0         0   \n",
       "\n",
       "        ...   feat_248  feat_249  feat_250  feat_251  feat_252  feat_253  \\\n",
       "165780  ...          1         0         0         0         0         0   \n",
       "820975  ...          0         0         0         1         0         0   \n",
       "127788  ...          1         0         0         0         0         0   \n",
       "912527  ...          1         0         0         0         0         0   \n",
       "120762  ...          1         0         0         0         0         0   \n",
       "\n",
       "        feat_254  feat_255  feat_256   gap  \n",
       "165780         0         0         0  2.39  \n",
       "820975         0         0         0  1.62  \n",
       "127788         0         0         0  2.51  \n",
       "912527         0         0         0  2.25  \n",
       "120762         0         0         0  1.84  \n",
       "\n",
       "[5 rows x 258 columns]"
      ]
     },
     "execution_count": 16,
     "metadata": {},
     "output_type": "execute_result"
    }
   ],
   "source": [
    "df_sample_train, df_sample_test = train_test_split(df_train, train_size=0.01, test_size=0.1)\n",
    "print df_sample_train.shape\n",
    "print df_sample_test.shape\n",
    "df_sample_train.head()\n"
   ]
  },
  {
   "cell_type": "code",
   "execution_count": 17,
   "metadata": {
    "collapsed": true
   },
   "outputs": [],
   "source": [
    "y_train = df_sample_train.gap.values\n",
    "y_test = df_sample_test.gap.values"
   ]
  },
  {
   "cell_type": "code",
   "execution_count": 47,
   "metadata": {
    "collapsed": true
   },
   "outputs": [],
   "source": [
    "df_sample_all = pd.concat((df_sample_train, df_sample_test), axis=0)"
   ]
  },
  {
   "cell_type": "code",
   "execution_count": null,
   "metadata": {
    "collapsed": true
   },
   "outputs": [],
   "source": [
    "ngram_vectorizer = TfidfVectorizer(analyzer='char', ngram_range=(1, 3), lowercase=False)\n",
    "ngram_vectorizer.fit(df_sample_all.smiles)"
   ]
  },
  {
   "cell_type": "code",
   "execution_count": 88,
   "metadata": {
    "collapsed": false
   },
   "outputs": [],
   "source": [
    "def to_ngrams(X, n_feats=None):\n",
    "    X = ngram_vectorizer.transform(X.smiles)\n",
    "    return X"
   ]
  },
  {
   "cell_type": "code",
   "execution_count": 21,
   "metadata": {
    "collapsed": true
   },
   "outputs": [],
   "source": [
    "def smiles_to_fingerprint (smiles, n_bits): \n",
    "    mol = Chem.MolFromSmiles(smiles)\n",
    "    fp = AllChem.GetMorganFingerprintAsBitVect(mol, 4, n_bits)\n",
    "    fp_arr = np.zeros((1,))\n",
    "    DataStructs.ConvertToNumpyArray(fp, fp_arr)\n",
    "    return fp_arr"
   ]
  },
  {
   "cell_type": "code",
   "execution_count": 19,
   "metadata": {
    "collapsed": true
   },
   "outputs": [],
   "source": [
    "def to_fingerprints(X, n_bits):\n",
    "    fps = X.smiles.apply(lambda x: smiles_to_fingerprint(x, n_bits)).tolist()\n",
    "    X_fps = np.ndarray((len(fps), n_bits))\n",
    "    for i in range (len(fps)):\n",
    "        X_fps[i] = fps[i]\n",
    "    return X_fps"
   ]
  },
  {
   "cell_type": "code",
   "execution_count": 22,
   "metadata": {
    "collapsed": false
   },
   "outputs": [],
   "source": [
    "def cv_optimize(reg,params, X, y,  n_folds=3):\n",
    "    gs = GridSearchCV(reg, param_grid=params, cv=n_folds, scoring=\"mean_squared_error\")\n",
    "    gs.fit(X, y)\n",
    "    return gs.best_estimator_,gs.best_params_, gs.best_score_, gs.grid_scores_"
   ]
  },
  {
   "cell_type": "code",
   "execution_count": 23,
   "metadata": {
    "collapsed": false
   },
   "outputs": [],
   "source": [
    "#ridge_grid_scores.sort(key = lambda x: x.params.alpha)\n",
    "#for model in ridge_grid_scores:\n",
    "    #print model.parameters['alpha']\n",
    "def plot_grid_scores(grid_scores, param_name, log=True):\n",
    "    params =  [model.parameters[param_name] for model in grid_scores]\n",
    "    scores = [-model.mean_validation_score for model in grid_scores]\n",
    "    plt.plot(params, scores)\n",
    "    if log:\n",
    "        plt.xscale('log')\n",
    "    plt.xlabel(param_name)\n",
    "    plt.ylabel('RMSE')\n",
    "    plt.show()"
   ]
  },
  {
   "cell_type": "code",
   "execution_count": 24,
   "metadata": {
    "collapsed": false
   },
   "outputs": [],
   "source": [
    "X_train_ng = to_ngrams(df_sample_train)\n",
    "X_test_ng = to_ngrams(df_sample_test)\n",
    "X_train_fp2048 = to_fingerprints(df_sample_train, 2048)\n",
    "X_test_fp2048 = to_fingerprints(df_sample_test, 2048)\n",
    "X_train_fp4096 = to_fingerprints(df_sample_train, 4096)\n",
    "X_test_fp4096 = to_fingerprints(df_sample_test, 4096)"
   ]
  },
  {
   "cell_type": "code",
   "execution_count": 25,
   "metadata": {
    "collapsed": false
   },
   "outputs": [],
   "source": [
    "def do_regression (model_name, model, X_train, X_test, params, y_train=y_train, y_test=y_test):\n",
    "    best_estimator, best_params, best_score, grid_scores =  cv_optimize(model, params, X_train, y_train)\n",
    "    print \"Validation RMSE: \" + str(-best_score)\n",
    "    best_estimator.fit (X_train, y_train)\n",
    "    test_rmse = mean_squared_error(best_estimator.predict(X_test),y_test)\n",
    "    print \"Test RMSE: \" + str(test_rmse)\n",
    "    return {'model': model_name, 'cv_rmse': -best_score, 'test_rmse':test_rmse, 'grid_scores':grid_scores, 'best_params': best_params}     \n",
    "    "
   ]
  },
  {
   "cell_type": "markdown",
   "metadata": {},
   "source": [
    "## Ridge Regression"
   ]
  },
  {
   "cell_type": "markdown",
   "metadata": {},
   "source": [
    "### NGrams"
   ]
  },
  {
   "cell_type": "code",
   "execution_count": 81,
   "metadata": {
    "collapsed": false
   },
   "outputs": [
    {
     "name": "stdout",
     "output_type": "stream",
     "text": [
      "Validation RMSE: 0.0372984013679\n",
      "Test RMSE: 0.0362822930191\n"
     ]
    }
   ],
   "source": [
    "params = {'alpha': [ 1e-6, 1e-5, 1e-4, 1e-3, 0.1,0.2,0.5, 1]}\n",
    "result = do_regression('Ridge-Ngrams', Ridge(), X_train_ng, X_test_ng, params)"
   ]
  },
  {
   "cell_type": "code",
   "execution_count": 82,
   "metadata": {
    "collapsed": false
   },
   "outputs": [
    {
     "data": {
      "text/html": [
       "<div>\n",
       "<table border=\"1\" class=\"dataframe\">\n",
       "  <thead>\n",
       "    <tr style=\"text-align: right;\">\n",
       "      <th></th>\n",
       "      <th>model</th>\n",
       "      <th>cv_rmse</th>\n",
       "      <th>test_rmse</th>\n",
       "      <th>grid_scores</th>\n",
       "      <th>best_params</th>\n",
       "    </tr>\n",
       "  </thead>\n",
       "  <tbody>\n",
       "    <tr>\n",
       "      <th>0</th>\n",
       "      <td>Ridge</td>\n",
       "      <td>0.037298</td>\n",
       "      <td>0.036282</td>\n",
       "      <td>[({u'alpha': 1e-06}, -0.0372984013679, [-0.038...</td>\n",
       "      <td>{u'alpha': 1e-06}</td>\n",
       "    </tr>\n",
       "  </tbody>\n",
       "</table>\n",
       "</div>"
      ],
      "text/plain": [
       "   model   cv_rmse  test_rmse  \\\n",
       "0  Ridge  0.037298   0.036282   \n",
       "\n",
       "                                         grid_scores        best_params  \n",
       "0  [({u'alpha': 1e-06}, -0.0372984013679, [-0.038...  {u'alpha': 1e-06}  "
      ]
     },
     "execution_count": 82,
     "metadata": {},
     "output_type": "execute_result"
    }
   ],
   "source": [
    "results = pd.DataFrame(columns= ['model', 'cv_rmse', 'test_rmse','grid_scores','best_params'])\n",
    "results = results.append(result, ignore_index=True)\n",
    "results"
   ]
  },
  {
   "cell_type": "code",
   "execution_count": 84,
   "metadata": {
    "collapsed": false
   },
   "outputs": [
    {
     "data": {
      "image/png": "[encoded data removed]",
      "text/plain": [
       "<matplotlib.figure.Figure at 0x1229fa050>"
      ]
     },
     "metadata": {},
     "output_type": "display_data"
    }
   ],
   "source": [
    "plot_grid_scores(result['grid_scores'])"
   ]
  },
  {
   "cell_type": "markdown",
   "metadata": {},
   "source": [
    "### Morgan Fingerprints"
   ]
  },
  {
   "cell_type": "code",
   "execution_count": 99,
   "metadata": {
    "collapsed": false
   },
   "outputs": [
    {
     "name": "stdout",
     "output_type": "stream",
     "text": [
      "Validation RMSE: 0.0301618910175\n",
      "Test RMSE: 0.0362822930191\n"
     ]
    },
    {
     "data": {
      "image/png": "[encoded data removed]",
      "text/plain": [
       "<matplotlib.figure.Figure at 0x138ebdb90>"
      ]
     },
     "metadata": {},
     "output_type": "display_data"
    },
    {
     "data": {
      "text/html": [
       "<div>\n",
       "<table border=\"1\" class=\"dataframe\">\n",
       "  <thead>\n",
       "    <tr style=\"text-align: right;\">\n",
       "      <th></th>\n",
       "      <th>model</th>\n",
       "      <th>cv_rmse</th>\n",
       "      <th>test_rmse</th>\n",
       "      <th>grid_scores</th>\n",
       "      <th>best_params</th>\n",
       "    </tr>\n",
       "  </thead>\n",
       "  <tbody>\n",
       "    <tr>\n",
       "      <th>0</th>\n",
       "      <td>Ridge</td>\n",
       "      <td>0.037298</td>\n",
       "      <td>0.036282</td>\n",
       "      <td>[({u'alpha': 1e-06}, -0.0372984013679, [-0.038...</td>\n",
       "      <td>{u'alpha': 1e-06}</td>\n",
       "    </tr>\n",
       "    <tr>\n",
       "      <th>1</th>\n",
       "      <td>Ridge-Morgans-2048</td>\n",
       "      <td>0.030162</td>\n",
       "      <td>0.028413</td>\n",
       "      <td>[({u'alpha': 1e-06}, -0.0304537287038, [-0.031...</td>\n",
       "      <td>{u'alpha': 1}</td>\n",
       "    </tr>\n",
       "  </tbody>\n",
       "</table>\n",
       "</div>"
      ],
      "text/plain": [
       "                model   cv_rmse  test_rmse  \\\n",
       "0               Ridge  0.037298   0.036282   \n",
       "1  Ridge-Morgans-2048  0.030162   0.028413   \n",
       "\n",
       "                                         grid_scores        best_params  \n",
       "0  [({u'alpha': 1e-06}, -0.0372984013679, [-0.038...  {u'alpha': 1e-06}  \n",
       "1  [({u'alpha': 1e-06}, -0.0304537287038, [-0.031...      {u'alpha': 1}  "
      ]
     },
     "execution_count": 99,
     "metadata": {},
     "output_type": "execute_result"
    }
   ],
   "source": [
    "result = do_regression('Ridge-Morgans-2048', Ridge(),X_train_fp2048, X_test_fp2048, params)\n",
    "results = results.append(result, ignore_index=True)\n",
    "plot_grid_scores(result['grid_scores'],'alpha')\n",
    "results"
   ]
  },
  {
   "cell_type": "code",
   "execution_count": 100,
   "metadata": {
    "collapsed": false
   },
   "outputs": [
    {
     "name": "stdout",
     "output_type": "stream",
     "text": [
      "Validation RMSE: 0.0345557882171\n",
      "Test RMSE: 0.0362822930191\n"
     ]
    },
    {
     "data": {
      "image/png": "[encoded data removed]",
      "text/plain": [
       "<matplotlib.figure.Figure at 0x14ec3a050>"
      ]
     },
     "metadata": {},
     "output_type": "display_data"
    },
    {
     "data": {
      "text/html": [
       "<div>\n",
       "<table border=\"1\" class=\"dataframe\">\n",
       "  <thead>\n",
       "    <tr style=\"text-align: right;\">\n",
       "      <th></th>\n",
       "      <th>model</th>\n",
       "      <th>cv_rmse</th>\n",
       "      <th>test_rmse</th>\n",
       "      <th>grid_scores</th>\n",
       "      <th>best_params</th>\n",
       "    </tr>\n",
       "  </thead>\n",
       "  <tbody>\n",
       "    <tr>\n",
       "      <th>0</th>\n",
       "      <td>Ridge</td>\n",
       "      <td>0.037298</td>\n",
       "      <td>0.036282</td>\n",
       "      <td>[({u'alpha': 1e-06}, -0.0372984013679, [-0.038...</td>\n",
       "      <td>{u'alpha': 1e-06}</td>\n",
       "    </tr>\n",
       "    <tr>\n",
       "      <th>1</th>\n",
       "      <td>Ridge-Morgans-2048</td>\n",
       "      <td>0.030162</td>\n",
       "      <td>0.028413</td>\n",
       "      <td>[({u'alpha': 1e-06}, -0.0304537287038, [-0.031...</td>\n",
       "      <td>{u'alpha': 1}</td>\n",
       "    </tr>\n",
       "    <tr>\n",
       "      <th>2</th>\n",
       "      <td>Ridge-Morgans-4096</td>\n",
       "      <td>0.034556</td>\n",
       "      <td>0.029111</td>\n",
       "      <td>[({u'alpha': 1e-06}, -0.0384670367704, [-0.038...</td>\n",
       "      <td>{u'alpha': 1}</td>\n",
       "    </tr>\n",
       "  </tbody>\n",
       "</table>\n",
       "</div>"
      ],
      "text/plain": [
       "                model   cv_rmse  test_rmse  \\\n",
       "0               Ridge  0.037298   0.036282   \n",
       "1  Ridge-Morgans-2048  0.030162   0.028413   \n",
       "2  Ridge-Morgans-4096  0.034556   0.029111   \n",
       "\n",
       "                                         grid_scores        best_params  \n",
       "0  [({u'alpha': 1e-06}, -0.0372984013679, [-0.038...  {u'alpha': 1e-06}  \n",
       "1  [({u'alpha': 1e-06}, -0.0304537287038, [-0.031...      {u'alpha': 1}  \n",
       "2  [({u'alpha': 1e-06}, -0.0384670367704, [-0.038...      {u'alpha': 1}  "
      ]
     },
     "execution_count": 100,
     "metadata": {},
     "output_type": "execute_result"
    }
   ],
   "source": [
    "result = do_regression('Ridge-Morgans-4096', Ridge(),X_train_fp4096, X_test_fp4096, params)\n",
    "results = results.append(result, ignore_index=True)\n",
    "plot_grid_scores(result['grid_scores'],'alpha')\n",
    "results"
   ]
  },
  {
   "cell_type": "markdown",
   "metadata": {},
   "source": [
    "## Random Forests"
   ]
  },
  {
   "cell_type": "code",
   "execution_count": 27,
   "metadata": {
    "collapsed": false
   },
   "outputs": [],
   "source": [
    "params = {'n_estimators': [50,100,200]}\n",
    "result = do_regression('Forest-Ngrams', RandomForestRegressor(n_jobs=-1), X_train_ng, X_test_ng, params)\n",
    "results = results.append(result, ignore_index=True)\n",
    "plot_grid_scores(result['grid_scores'], 'n_estimators', log=True)\n",
    "results"
   ]
  },
  {
   "cell_type": "code",
   "execution_count": 31,
   "metadata": {
    "collapsed": false
   },
   "outputs": [
    {
     "data": {
      "image/png": "[encoded data removed]",
      "text/plain": [
       "<matplotlib.figure.Figure at 0x1b4a95790>"
      ]
     },
     "metadata": {},
     "output_type": "display_data"
    },
    {
     "data": {
      "text/html": [
       "<div>\n",
       "<table border=\"1\" class=\"dataframe\">\n",
       "  <thead>\n",
       "    <tr style=\"text-align: right;\">\n",
       "      <th></th>\n",
       "      <th>model</th>\n",
       "      <th>cv_rmse</th>\n",
       "      <th>test_rmse</th>\n",
       "      <th>grid_scores</th>\n",
       "      <th>best_params</th>\n",
       "    </tr>\n",
       "  </thead>\n",
       "  <tbody>\n",
       "    <tr>\n",
       "      <th>0</th>\n",
       "      <td>Forest-Morgans</td>\n",
       "      <td>0.029062</td>\n",
       "      <td>0.024776</td>\n",
       "      <td>[({u'n_estimators': 50}, -0.0297901907711, [-0...</td>\n",
       "      <td>{u'n_estimators': 200}</td>\n",
       "    </tr>\n",
       "  </tbody>\n",
       "</table>\n",
       "</div>"
      ],
      "text/plain": [
       "            model   cv_rmse  test_rmse  \\\n",
       "0  Forest-Morgans  0.029062   0.024776   \n",
       "\n",
       "                                         grid_scores             best_params  \n",
       "0  [({u'n_estimators': 50}, -0.0297901907711, [-0...  {u'n_estimators': 200}  "
      ]
     },
     "execution_count": 31,
     "metadata": {},
     "output_type": "execute_result"
    }
   ],
   "source": [
    "result = do_regression('Forest-Morgans', RandomForestRegressor(n_jobs=-1), X_train_fp2048, X_test_fp2048, params)\n",
    "results = results.append(result, ignore_index=True)\n",
    "plot_grid_scores(result['grid_scores'], 'n_estimators', log=False)\n",
    "results"
   ]
  },
  {
   "cell_type": "code",
   "execution_count": 243,
   "metadata": {
    "collapsed": false
   },
   "outputs": [],
   "source": [
    "results.to_csv('Data/results')"
   ]
  },
  {
   "cell_type": "markdown",
   "metadata": {},
   "source": [
    "## Combine Morgan footprints wih chemical properties from OpenBabel"
   ]
  },
  {
   "cell_type": "code",
   "execution_count": 3,
   "metadata": {
    "collapsed": false
   },
   "outputs": [],
   "source": [
    "df_train_ob = pd.read_csv(\"Data/OB_features/df_train_OB2.csv\")"
   ]
  },
  {
   "cell_type": "code",
   "execution_count": 4,
   "metadata": {
    "collapsed": false
   },
   "outputs": [],
   "source": [
    "df_train_ob = df_train_ob[['smiles', 'gap', u'weight', u'energy', u'dim', u'spin', u'charge', u'H', u'Nar', u'Si', u'Car', u'C2', u'S2', u'O2', u'Se', u'C3', u'N3', u'O3', u'S3']]\n",
    "df_train_ob = df_train_ob.drop(df_train_ob[df_train_ob.gap<0].index)"
   ]
  },
  {
   "cell_type": "code",
   "execution_count": 235,
   "metadata": {
    "collapsed": false
   },
   "outputs": [],
   "source": [
    "X_train_ob = df_train_ob.loc[df_sample_train.index]\n",
    "X_test_ob = df_train_ob.loc[df_sample_test.index]"
   ]
  },
  {
   "cell_type": "code",
   "execution_count": 6,
   "metadata": {
    "collapsed": true
   },
   "outputs": [],
   "source": [
    "def to_fps_obs(X):\n",
    "    train_fps = to_fingerprints(X, 2048)\n",
    "    train_obs = X.drop(['smiles','gap'], 1).as_matrix()\n",
    "    train_obs = StandardScaler().fit_transform(np.nan_to_num(train_obs))\n",
    "    X_train_fp_ob = np.hstack([train_fps,train_obs])\n",
    "    return X_train_fp_ob"
   ]
  },
  {
   "cell_type": "code",
   "execution_count": 236,
   "metadata": {
    "collapsed": false,
    "scrolled": true
   },
   "outputs": [],
   "source": [
    "X_train_fp_ob = to_fp_obs(X_train_ob)\n",
    "X_test_fp_ob = to_fp_obs(X_test_ob)"
   ]
  },
  {
   "cell_type": "markdown",
   "metadata": {},
   "source": [
    "### Ridge"
   ]
  },
  {
   "cell_type": "code",
   "execution_count": 240,
   "metadata": {
    "collapsed": false
   },
   "outputs": [
    {
     "data": {
      "image/png": "[encoded data removed]",
      "text/plain": [
       "<matplotlib.figure.Figure at 0x112896150>"
      ]
     },
     "metadata": {},
     "output_type": "display_data"
    },
    {
     "data": {
      "text/html": [
       "<div>\n",
       "<table border=\"1\" class=\"dataframe\">\n",
       "  <thead>\n",
       "    <tr style=\"text-align: right;\">\n",
       "      <th></th>\n",
       "      <th>model</th>\n",
       "      <th>cv_rmse</th>\n",
       "      <th>test_rmse</th>\n",
       "      <th>grid_scores</th>\n",
       "      <th>best_params</th>\n",
       "    </tr>\n",
       "  </thead>\n",
       "  <tbody>\n",
       "    <tr>\n",
       "      <th>0</th>\n",
       "      <td>Ridge-Ngrams</td>\n",
       "      <td>0.037298</td>\n",
       "      <td>0.036282</td>\n",
       "      <td>[({u'alpha': 1e-06}, -0.0372984013679, [-0.038...</td>\n",
       "      <td>{u'alpha': 1e-06}</td>\n",
       "    </tr>\n",
       "    <tr>\n",
       "      <th>1</th>\n",
       "      <td>Ridge-Morgans-2048</td>\n",
       "      <td>0.030162</td>\n",
       "      <td>0.028413</td>\n",
       "      <td>[({u'alpha': 1e-06}, -0.0304537287038, [-0.031...</td>\n",
       "      <td>{u'alpha': 1}</td>\n",
       "    </tr>\n",
       "    <tr>\n",
       "      <th>2</th>\n",
       "      <td>Ridge-Morgans-4096</td>\n",
       "      <td>0.034556</td>\n",
       "      <td>0.029111</td>\n",
       "      <td>[({u'alpha': 1e-06}, -0.0384670367704, [-0.038...</td>\n",
       "      <td>{u'alpha': 1}</td>\n",
       "    </tr>\n",
       "    <tr>\n",
       "      <th>3</th>\n",
       "      <td>Lasso-Ngrams</td>\n",
       "      <td>0.037600</td>\n",
       "      <td>0.036743</td>\n",
       "      <td>[({u'alpha': 1e-06}, -0.0376004612751, [-0.038...</td>\n",
       "      <td>{u'alpha': 1e-06}</td>\n",
       "    </tr>\n",
       "    <tr>\n",
       "      <th>4</th>\n",
       "      <td>Forest-Ngrams</td>\n",
       "      <td>0.035091</td>\n",
       "      <td>0.031596</td>\n",
       "      <td>[({u'n_estimators': 50}, -0.0359900951925, [-0...</td>\n",
       "      <td>{u'n_estimators': 200}</td>\n",
       "    </tr>\n",
       "    <tr>\n",
       "      <th>5</th>\n",
       "      <td>Forest-Morgans-2048</td>\n",
       "      <td>0.028585</td>\n",
       "      <td>0.288087</td>\n",
       "      <td>[({u'n_estimators': 50}, -0.0293351976174, [-0...</td>\n",
       "      <td>{u'n_estimators': 200}</td>\n",
       "    </tr>\n",
       "    <tr>\n",
       "      <th>6</th>\n",
       "      <td>Ridge-fps_obs</td>\n",
       "      <td>0.028844</td>\n",
       "      <td>0.025039</td>\n",
       "      <td>[({u'alpha': 1e-06}, -0.0292555896441, [-0.029...</td>\n",
       "      <td>{u'alpha': 1}</td>\n",
       "    </tr>\n",
       "  </tbody>\n",
       "</table>\n",
       "</div>"
      ],
      "text/plain": [
       "                 model   cv_rmse  test_rmse  \\\n",
       "0         Ridge-Ngrams  0.037298   0.036282   \n",
       "1   Ridge-Morgans-2048  0.030162   0.028413   \n",
       "2   Ridge-Morgans-4096  0.034556   0.029111   \n",
       "3         Lasso-Ngrams  0.037600   0.036743   \n",
       "4        Forest-Ngrams  0.035091   0.031596   \n",
       "5  Forest-Morgans-2048  0.028585   0.288087   \n",
       "6        Ridge-fps_obs  0.028844   0.025039   \n",
       "\n",
       "                                         grid_scores             best_params  \n",
       "0  [({u'alpha': 1e-06}, -0.0372984013679, [-0.038...       {u'alpha': 1e-06}  \n",
       "1  [({u'alpha': 1e-06}, -0.0304537287038, [-0.031...           {u'alpha': 1}  \n",
       "2  [({u'alpha': 1e-06}, -0.0384670367704, [-0.038...           {u'alpha': 1}  \n",
       "3  [({u'alpha': 1e-06}, -0.0376004612751, [-0.038...       {u'alpha': 1e-06}  \n",
       "4  [({u'n_estimators': 50}, -0.0359900951925, [-0...  {u'n_estimators': 200}  \n",
       "5  [({u'n_estimators': 50}, -0.0293351976174, [-0...  {u'n_estimators': 200}  \n",
       "6  [({u'alpha': 1e-06}, -0.0292555896441, [-0.029...           {u'alpha': 1}  "
      ]
     },
     "execution_count": 240,
     "metadata": {},
     "output_type": "execute_result"
    }
   ],
   "source": [
    "params = {'alpha': [ 1e-6, 1e-5, 1e-4, 1e-3, 0.1,0.2,0.5, 1]}\n",
    "result = do_regression('Ridge-Morgans-ChemProps', Ridge(), X_train_fp_ob, X_test_fp_ob, params)\n",
    "results = results.append(result, ignore_index=True)\n",
    "plot_grid_scores(result['grid_scores'],'alpha')\n",
    "results"
   ]
  },
  {
   "cell_type": "markdown",
   "metadata": {},
   "source": [
    "### Forests"
   ]
  },
  {
   "cell_type": "code",
   "execution_count": 241,
   "metadata": {
    "collapsed": false
   },
   "outputs": [
    {
     "name": "stdout",
     "output_type": "stream",
     "text": [
      "Validation RMSE: 0.026037796976\n",
      "Test RMSE: 0.0230098715314\n"
     ]
    },
    {
     "data": {
      "image/png": "[encoded data removed]",
      "text/plain": [
       "<matplotlib.figure.Figure at 0x11802e0d0>"
      ]
     },
     "metadata": {},
     "output_type": "display_data"
    },
    {
     "data": {
      "text/html": [
       "<div>\n",
       "<table border=\"1\" class=\"dataframe\">\n",
       "  <thead>\n",
       "    <tr style=\"text-align: right;\">\n",
       "      <th></th>\n",
       "      <th>model</th>\n",
       "      <th>cv_rmse</th>\n",
       "      <th>test_rmse</th>\n",
       "      <th>grid_scores</th>\n",
       "      <th>best_params</th>\n",
       "    </tr>\n",
       "  </thead>\n",
       "  <tbody>\n",
       "    <tr>\n",
       "      <th>0</th>\n",
       "      <td>Ridge-Ngrams</td>\n",
       "      <td>0.037298</td>\n",
       "      <td>0.036282</td>\n",
       "      <td>[({u'alpha': 1e-06}, -0.0372984013679, [-0.038...</td>\n",
       "      <td>{u'alpha': 1e-06}</td>\n",
       "    </tr>\n",
       "    <tr>\n",
       "      <th>1</th>\n",
       "      <td>Ridge-Morgans-2048</td>\n",
       "      <td>0.030162</td>\n",
       "      <td>0.028413</td>\n",
       "      <td>[({u'alpha': 1e-06}, -0.0304537287038, [-0.031...</td>\n",
       "      <td>{u'alpha': 1}</td>\n",
       "    </tr>\n",
       "    <tr>\n",
       "      <th>2</th>\n",
       "      <td>Ridge-Morgans-4096</td>\n",
       "      <td>0.034556</td>\n",
       "      <td>0.029111</td>\n",
       "      <td>[({u'alpha': 1e-06}, -0.0384670367704, [-0.038...</td>\n",
       "      <td>{u'alpha': 1}</td>\n",
       "    </tr>\n",
       "    <tr>\n",
       "      <th>3</th>\n",
       "      <td>Lasso-Ngrams</td>\n",
       "      <td>0.037600</td>\n",
       "      <td>0.036743</td>\n",
       "      <td>[({u'alpha': 1e-06}, -0.0376004612751, [-0.038...</td>\n",
       "      <td>{u'alpha': 1e-06}</td>\n",
       "    </tr>\n",
       "    <tr>\n",
       "      <th>4</th>\n",
       "      <td>Forest-Ngrams</td>\n",
       "      <td>0.035091</td>\n",
       "      <td>0.031596</td>\n",
       "      <td>[({u'n_estimators': 50}, -0.0359900951925, [-0...</td>\n",
       "      <td>{u'n_estimators': 200}</td>\n",
       "    </tr>\n",
       "    <tr>\n",
       "      <th>5</th>\n",
       "      <td>Forest-Morgans-2048</td>\n",
       "      <td>0.028585</td>\n",
       "      <td>0.288087</td>\n",
       "      <td>[({u'n_estimators': 50}, -0.0293351976174, [-0...</td>\n",
       "      <td>{u'n_estimators': 200}</td>\n",
       "    </tr>\n",
       "    <tr>\n",
       "      <th>6</th>\n",
       "      <td>Ridge-fps_obs</td>\n",
       "      <td>0.028844</td>\n",
       "      <td>0.025039</td>\n",
       "      <td>[({u'alpha': 1e-06}, -0.0292555896441, [-0.029...</td>\n",
       "      <td>{u'alpha': 1}</td>\n",
       "    </tr>\n",
       "    <tr>\n",
       "      <th>7</th>\n",
       "      <td>Forest-Morgans-ChemProps</td>\n",
       "      <td>0.026038</td>\n",
       "      <td>0.023010</td>\n",
       "      <td>[({u'n_estimators': 50}, -0.02649442744, [-0.0...</td>\n",
       "      <td>{u'n_estimators': 100}</td>\n",
       "    </tr>\n",
       "  </tbody>\n",
       "</table>\n",
       "</div>"
      ],
      "text/plain": [
       "                      model   cv_rmse  test_rmse  \\\n",
       "0              Ridge-Ngrams  0.037298   0.036282   \n",
       "1        Ridge-Morgans-2048  0.030162   0.028413   \n",
       "2        Ridge-Morgans-4096  0.034556   0.029111   \n",
       "3              Lasso-Ngrams  0.037600   0.036743   \n",
       "4             Forest-Ngrams  0.035091   0.031596   \n",
       "5       Forest-Morgans-2048  0.028585   0.288087   \n",
       "6             Ridge-fps_obs  0.028844   0.025039   \n",
       "7  Forest-Morgans-ChemProps  0.026038   0.023010   \n",
       "\n",
       "                                         grid_scores             best_params  \n",
       "0  [({u'alpha': 1e-06}, -0.0372984013679, [-0.038...       {u'alpha': 1e-06}  \n",
       "1  [({u'alpha': 1e-06}, -0.0304537287038, [-0.031...           {u'alpha': 1}  \n",
       "2  [({u'alpha': 1e-06}, -0.0384670367704, [-0.038...           {u'alpha': 1}  \n",
       "3  [({u'alpha': 1e-06}, -0.0376004612751, [-0.038...       {u'alpha': 1e-06}  \n",
       "4  [({u'n_estimators': 50}, -0.0359900951925, [-0...  {u'n_estimators': 200}  \n",
       "5  [({u'n_estimators': 50}, -0.0293351976174, [-0...  {u'n_estimators': 200}  \n",
       "6  [({u'alpha': 1e-06}, -0.0292555896441, [-0.029...           {u'alpha': 1}  \n",
       "7  [({u'n_estimators': 50}, -0.02649442744, [-0.0...  {u'n_estimators': 100}  "
      ]
     },
     "execution_count": 241,
     "metadata": {},
     "output_type": "execute_result"
    }
   ],
   "source": [
    "params = {'n_estimators': [50,100,200]}\n",
    "result = do_regression('Forest-Morgans-ChemProps', RandomForestRegressor(n_jobs=-1), X_train_fp_ob, X_test_fp_ob, params)\n",
    "results = results.append(result, ignore_index=True)\n",
    "plot_grid_scores(result['grid_scores'], 'n_estimators', log=False)\n",
    "results"
   ]
  },
  {
   "cell_type": "markdown",
   "metadata": {},
   "source": [
    "## Train best models on lots of data"
   ]
  },
  {
   "cell_type": "code",
   "execution_count": 17,
   "metadata": {
    "collapsed": false
   },
   "outputs": [],
   "source": [
    "X = to_fps_obs(df_train_ob)"
   ]
  },
  {
   "cell_type": "code",
   "execution_count": 5,
   "metadata": {
    "collapsed": false
   },
   "outputs": [],
   "source": [
    "#np.save('Data/train_all_feats', X)\n",
    "X = np.load('Data/train_all_feats.npy')"
   ]
  },
  {
   "cell_type": "code",
   "execution_count": 6,
   "metadata": {
    "collapsed": false
   },
   "outputs": [],
   "source": [
    "X_train, X_test, y_train, y_test = train_test_split(X, df_train_ob.gap.values, train_size=0.5, test_size=0.1)"
   ]
  },
  {
   "cell_type": "code",
   "execution_count": 7,
   "metadata": {
    "collapsed": false
   },
   "outputs": [
    {
     "data": {
      "text/plain": [
       "0.020679439312310127"
      ]
     },
     "execution_count": 7,
     "metadata": {},
     "output_type": "execute_result"
    }
   ],
   "source": [
    "ridge = Ridge(alpha=1.0)\n",
    "ridge.fit(X_train, y_train)\n",
    "pred = ridge.predict(X_test)\n",
    "mean_squared_error(pred, y_test)"
   ]
  },
  {
   "cell_type": "code",
   "execution_count": 8,
   "metadata": {
    "collapsed": true
   },
   "outputs": [],
   "source": [
    "X_train, X_test, y_train, y_test = train_test_split(X, df_train_ob.gap.values, train_size=0.1, test_size=0.1)"
   ]
  },
  {
   "cell_type": "code",
   "execution_count": 10,
   "metadata": {
    "collapsed": false
   },
   "outputs": [
    {
     "data": {
      "text/plain": [
       "0.012057428905116551"
      ]
     },
     "execution_count": 10,
     "metadata": {},
     "output_type": "execute_result"
    }
   ],
   "source": [
    "forest = RandomForestRegressor(warm_start=True, n_estimators=200)\n",
    "forest.fit(X_train, y_train)\n",
    "pred = forest.predict(X_test)\n",
    "mean_squared_error(pred, y_test)"
   ]
  },
  {
   "cell_type": "code",
   "execution_count": 12,
   "metadata": {
    "collapsed": false
   },
   "outputs": [],
   "source": [
    "X_train, X_test, y_train, y_test = train_test_split(X, df_train_ob.gap.values, train_size=0.1, test_size=0.5)"
   ]
  },
  {
   "cell_type": "code",
   "execution_count": 13,
   "metadata": {
    "collapsed": false
   },
   "outputs": [
    {
     "data": {
      "text/plain": [
       "0.010936519435976762"
      ]
     },
     "execution_count": 13,
     "metadata": {},
     "output_type": "execute_result"
    }
   ],
   "source": [
    "pred = forest.predict(X_test)\n",
    "mean_squared_error(pred, y_test)"
   ]
  },
  {
   "cell_type": "code",
   "execution_count": null,
   "metadata": {
    "collapsed": true
   },
   "outputs": [],
   "source": [
    "def write_to_file(filename, predictions):\n",
    "    with open(filename, \"w\") as f:\n",
    "        f.write(\"Id,Prediction\\n\")\n",
    "        for i,p in enumerate(predictions):\n",
    "            f.write(str(i+1) + \",\" + str(p) + \"\\n\")"
   ]
  }
 ],
 "metadata": {
  "kernelspec": {
   "display_name": "Python 2",
   "language": "python",
   "name": "python2"
  },
  "language_info": {
   "codemirror_mode": {
    "name": "ipython",
    "version": 2
   },
   "file_extension": ".py",
   "mimetype": "text/x-python",
   "name": "python",
   "nbconvert_exporter": "python",
   "pygments_lexer": "ipython2",
   "version": "2.7.11"
  }
 },
 "nbformat": 4,
 "nbformat_minor": 0
}
