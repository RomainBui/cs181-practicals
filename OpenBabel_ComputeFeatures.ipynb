{
 "cells": [
  {
   "cell_type": "markdown",
   "metadata": {},
   "source": [
    "# Compute the OpenBabel Features"
   ]
  },
  {
   "cell_type": "markdown",
   "metadata": {},
   "source": [
    "## Libraries Loading"
   ]
  },
  {
   "cell_type": "code",
   "execution_count": 1,
   "metadata": {
    "collapsed": false
   },
   "outputs": [],
   "source": [
    "import pandas as pd\n",
    "import numpy as np\n",
    "import matplotlib.pyplot as plt\n",
    "from sklearn.linear_model import LinearRegression\n",
    "from sklearn.ensemble import RandomForestRegressor\n",
    "from sklearn.cross_validation import cross_val_score\n",
    "from sklearn.cross_validation import train_test_split\n",
    "from sklearn.metrics import mean_squared_error"
   ]
  },
  {
   "cell_type": "code",
   "execution_count": 5,
   "metadata": {
    "collapsed": false
   },
   "outputs": [],
   "source": [
    "import openbabel\n",
    "import pybel\n",
    "from collections import Counter\n",
    "import pyprind"
   ]
  },
  {
   "cell_type": "markdown",
   "metadata": {},
   "source": [
    "## Data Loading"
   ]
  },
  {
   "cell_type": "code",
   "execution_count": 6,
   "metadata": {
    "collapsed": false
   },
   "outputs": [],
   "source": [
    "df_train = pd.read_csv(\"Data/train\")\n",
    "df_test = pd.read_csv(\"Data/test\")"
   ]
  },
  {
   "cell_type": "code",
   "execution_count": null,
   "metadata": {
    "collapsed": false
   },
   "outputs": [],
   "source": [
    "df,_ = train_test_split(df_train, train_size=0.1)\n",
    "print df.shape\n",
    "X = df.drop(['gap'], axis=1)\n",
    "y = df.gap.values\n",
    "X_train, X_test, y_train, y_test = train_test_split(X, y, test_size=0.2)"
   ]
  },
  {
   "cell_type": "markdown",
   "metadata": {},
   "source": [
    "## Feature Design"
   ]
  },
  {
   "cell_type": "code",
   "execution_count": 7,
   "metadata": {
    "collapsed": false
   },
   "outputs": [],
   "source": [
    "def MakeSomeFeatures(df):\n",
    "    #df = df_train.head(10)\n",
    "    df.index = df.smiles.values\n",
    "    mybar = pyprind.ProgBar(df.shape[0])\n",
    "\n",
    "    for s in df.smiles.values:\n",
    "        mol = pybel.readstring(\"smi\",s)\n",
    "        df.loc[s, 'weight'] = mol.molwt\n",
    "        df.loc[s, 'energy'] = mol.energy\n",
    "        df.loc[s, 'dim']    = mol.dim\n",
    "        df.loc[s, 'spin']   = mol.spin\n",
    "        df.loc[s, 'charge'] = mol.charge\n",
    "\n",
    "        # Get the Atomic Structure\n",
    "        for x in Counter([t.type for t in mol.atoms]).items():\n",
    "            df.loc[s, x[0]] = x[1]    \n",
    "\n",
    "        # Update the bar\n",
    "        mybar.update()\n",
    "    df = df.reset_index()\n",
    "    df = df.drop(['index'], axis = 1)\n",
    "    return df\n",
    "    "
   ]
  },
  {
   "cell_type": "code",
   "execution_count": 8,
   "metadata": {
    "collapsed": false
   },
   "outputs": [
    {
     "name": "stderr",
     "output_type": "stream",
     "text": [
      "0%                          100%\n",
      "[##############################] | ETA: 00:00:00\n",
      "Total time elapsed: 15:51:07\n"
     ]
    }
   ],
   "source": [
    "df_train_OB = MakeSomeFeatures(df_train)\n",
    "df_train_OB.to_csv(\"./Data/df_train_OB2.csv\")"
   ]
  },
  {
   "cell_type": "code",
   "execution_count": null,
   "metadata": {
    "collapsed": false
   },
   "outputs": [],
   "source": [
    "df_test_OB = MakeSomeFeatures(df)\n",
    "df_test_OB.to_csv(\"./Data/df_test_OB.csv\")"
   ]
  }
 ],
 "metadata": {
  "kernelspec": {
   "display_name": "py2",
   "language": "python",
   "name": "py2"
  },
  "language_info": {
   "codemirror_mode": {
    "name": "ipython",
    "version": 2
   },
   "file_extension": ".py",
   "mimetype": "text/x-python",
   "name": "python",
   "nbconvert_exporter": "python",
   "pygments_lexer": "ipython2",
   "version": "2.7.11"
  }
 },
 "nbformat": 4,
 "nbformat_minor": 0
}
