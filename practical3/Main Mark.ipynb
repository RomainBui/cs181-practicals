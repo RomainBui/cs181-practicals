{
 "cells": [
  {
   "cell_type": "code",
   "execution_count": 2,
   "metadata": {
    "collapsed": true
   },
   "outputs": [],
   "source": [
    "import numpy as np\n",
    "import csv\n",
    "import pandas as pd\n",
    "pd.set_option('display.width', 500)\n",
    "pd.set_option('display.max_columns', 100)\n",
    "pd.set_option('display.notebook_repr_html', True)\n",
    "import matplotlib.pyplot as plt\n",
    "import seaborn as sns\n",
    "sns.set_style(\"whitegrid\")\n",
    "sns.set_context(\"poster\")\n",
    "%matplotlib inline"
   ]
  },
  {
   "cell_type": "code",
   "execution_count": 6,
   "metadata": {
    "collapsed": false
   },
   "outputs": [],
   "source": [
    "train_file = 'data/train.csv'\n",
    "test_file  = 'data/test.csv'\n",
    "soln_file  = 'data/user_median.csv'"
   ]
  },
  {
   "cell_type": "code",
   "execution_count": 7,
   "metadata": {
    "collapsed": false
   },
   "outputs": [],
   "source": [
    "df = pd.read_csv(train_file, header=0)"
   ]
  },
  {
   "cell_type": "code",
   "execution_count": 8,
   "metadata": {
    "collapsed": false
   },
   "outputs": [
    {
     "data": {
      "text/html": [
       "<div>\n",
       "<table border=\"1\" class=\"dataframe\">\n",
       "  <thead>\n",
       "    <tr style=\"text-align: right;\">\n",
       "      <th></th>\n",
       "      <th>user</th>\n",
       "      <th>artist</th>\n",
       "      <th>plays</th>\n",
       "    </tr>\n",
       "  </thead>\n",
       "  <tbody>\n",
       "    <tr>\n",
       "      <th>0</th>\n",
       "      <td>eb1c57ddc9e0e2d005169d3a1a96e8dd95e3af03</td>\n",
       "      <td>5a8e07d5-d932-4484-a7f7-e700793a9c94</td>\n",
       "      <td>554</td>\n",
       "    </tr>\n",
       "    <tr>\n",
       "      <th>1</th>\n",
       "      <td>44ce793a6cd9d20f13f4a576a818ef983314bb5d</td>\n",
       "      <td>a3a92047-be1c-4f3e-8960-c4f8570984df</td>\n",
       "      <td>81</td>\n",
       "    </tr>\n",
       "    <tr>\n",
       "      <th>2</th>\n",
       "      <td>da9cf3f557161d54b76f24db64be9cc76db008e3</td>\n",
       "      <td>eeb1195b-f213-4ce1-b28c-8565211f8e43</td>\n",
       "      <td>708</td>\n",
       "    </tr>\n",
       "    <tr>\n",
       "      <th>3</th>\n",
       "      <td>8fa49ab25d425edcf05d44bfc1d5aea895287d81</td>\n",
       "      <td>a1419808-65d3-4d40-998c-1a0bac65eabc</td>\n",
       "      <td>265</td>\n",
       "    </tr>\n",
       "    <tr>\n",
       "      <th>4</th>\n",
       "      <td>b85fcaef67d2669cd99b334b5e8c8705263db2cf</td>\n",
       "      <td>a3cb23fc-acd3-4ce0-8f36-1e5aa6a18432</td>\n",
       "      <td>220</td>\n",
       "    </tr>\n",
       "  </tbody>\n",
       "</table>\n",
       "</div>"
      ],
      "text/plain": [
       "                                       user                                artist  plays\n",
       "0  eb1c57ddc9e0e2d005169d3a1a96e8dd95e3af03  5a8e07d5-d932-4484-a7f7-e700793a9c94    554\n",
       "1  44ce793a6cd9d20f13f4a576a818ef983314bb5d  a3a92047-be1c-4f3e-8960-c4f8570984df     81\n",
       "2  da9cf3f557161d54b76f24db64be9cc76db008e3  eeb1195b-f213-4ce1-b28c-8565211f8e43    708\n",
       "3  8fa49ab25d425edcf05d44bfc1d5aea895287d81  a1419808-65d3-4d40-998c-1a0bac65eabc    265\n",
       "4  b85fcaef67d2669cd99b334b5e8c8705263db2cf  a3cb23fc-acd3-4ce0-8f36-1e5aa6a18432    220"
      ]
     },
     "execution_count": 8,
     "metadata": {},
     "output_type": "execute_result"
    }
   ],
   "source": [
    "df.head()"
   ]
  },
  {
   "cell_type": "code",
   "execution_count": 9,
   "metadata": {
    "collapsed": false
   },
   "outputs": [
    {
     "data": {
      "text/plain": [
       "<matplotlib.legend.Legend at 0x104abf450>"
      ]
     },
     "execution_count": 9,
     "metadata": {},
     "output_type": "execute_result"
    },
    {
     "data": {
      "image/png": "[encoded data removed]",
      "text/plain": [
       "<matplotlib.figure.Figure at 0x10e5c3ed0>"
      ]
     },
     "metadata": {},
     "output_type": "display_data"
    }
   ],
   "source": [
    "#your code here\n",
    "artists_user = df.groupby('user')['artist'].count()\n",
    "plt.hist(artists_user, alpha=0.5, bins=np.arange(1,50,1), label=\"artists by user\");\n",
    "plt.xlabel('# artists')\n",
    "plt.ylabel('# users')\n",
    "#plt.xticks(np.arange(0,90,5))\n",
    "plt.legend()"
   ]
  },
  {
   "cell_type": "code",
   "execution_count": 10,
   "metadata": {
    "collapsed": false
   },
   "outputs": [
    {
     "data": {
      "text/plain": [
       "17.809915725761513"
      ]
     },
     "execution_count": 10,
     "metadata": {},
     "output_type": "execute_result"
    }
   ],
   "source": [
    "np.mean(df.groupby('user')['artist'].count())"
   ]
  },
  {
   "cell_type": "code",
   "execution_count": 11,
   "metadata": {
    "collapsed": false,
    "scrolled": false
   },
   "outputs": [
    {
     "data": {
      "text/plain": [
       "<matplotlib.legend.Legend at 0x10f234f10>"
      ]
     },
     "execution_count": 11,
     "metadata": {},
     "output_type": "execute_result"
    },
    {
     "data": {
      "image/png": "[encoded data removed]",
      "text/plain": [
       "<matplotlib.figure.Figure at 0x10343dcd0>"
      ]
     },
     "metadata": {},
     "output_type": "display_data"
    }
   ],
   "source": [
    "#your code here\n",
    "users_artist = df.groupby('artist')['user'].count()\n",
    "plt.hist(users_artist, alpha=0.5, bins=np.arange(1,35000,1000), label=\"users by artist\");\n",
    "plt.xlabel('# users')\n",
    "plt.ylabel('# artists')\n",
    "plt.legend()"
   ]
  },
  {
   "cell_type": "code",
   "execution_count": 12,
   "metadata": {
    "collapsed": false
   },
   "outputs": [
    {
     "data": {
      "text/plain": [
       "2077.402"
      ]
     },
     "execution_count": 12,
     "metadata": {},
     "output_type": "execute_result"
    }
   ],
   "source": [
    "np.mean(df.groupby('artist')['user'].count())"
   ]
  },
  {
   "cell_type": "code",
   "execution_count": 14,
   "metadata": {
    "collapsed": false
   },
   "outputs": [],
   "source": [
    "trainlist=[]\n",
    "validatelist=[]\n",
    "take=4\n",
    "i = 0\n",
    "for k, v in df.groupby('user'):\n",
    "    validatelist.append(v[-len(v)/8:]) \n",
    "    trainlist.append(v[:-len(v)/8])\n",
    "traindf=pd.concat(trainlist)\n",
    "validatedf=pd.concat(validatelist)\n",
    "print traindf.shape, validatedf.shape"
   ]
  },
  {
   "cell_type": "code",
   "execution_count": 9,
   "metadata": {
    "collapsed": false
   },
   "outputs": [],
   "source": [
    "pd.DataFrame.to_csv(traindf, 'data/traindf2')\n",
    "pd.DataFrame.to_csv(validatedf, 'data/validatedf2')"
   ]
  },
  {
   "cell_type": "code",
   "execution_count": 3,
   "metadata": {
    "collapsed": false
   },
   "outputs": [],
   "source": [
    "traindf = pd.DataFrame.from_csv('data/traindf2')\n",
    "validatedf = pd.DataFrame.from_csv('data/validatedf2')"
   ]
  },
  {
   "cell_type": "code",
   "execution_count": 16,
   "metadata": {
    "collapsed": false
   },
   "outputs": [
    {
     "data": {
      "text/html": [
       "<div>\n",
       "<table border=\"1\" class=\"dataframe\">\n",
       "  <thead>\n",
       "    <tr style=\"text-align: right;\">\n",
       "      <th></th>\n",
       "      <th>user</th>\n",
       "      <th>artist</th>\n",
       "      <th>plays</th>\n",
       "    </tr>\n",
       "  </thead>\n",
       "  <tbody>\n",
       "    <tr>\n",
       "      <th>158901</th>\n",
       "      <td>00000c289a1829a808ac09c00daf10bc3c4e223b</td>\n",
       "      <td>c995a379-60b9-404b-bd97-a7e2de0751d3</td>\n",
       "      <td>198</td>\n",
       "    </tr>\n",
       "    <tr>\n",
       "      <th>326827</th>\n",
       "      <td>00000c289a1829a808ac09c00daf10bc3c4e223b</td>\n",
       "      <td>b071f9fa-14b0-4217-8e97-eb41da73f598</td>\n",
       "      <td>150</td>\n",
       "    </tr>\n",
       "    <tr>\n",
       "      <th>752135</th>\n",
       "      <td>00000c289a1829a808ac09c00daf10bc3c4e223b</td>\n",
       "      <td>7b885d42-3c41-4f43-9944-a5855ec5155e</td>\n",
       "      <td>361</td>\n",
       "    </tr>\n",
       "    <tr>\n",
       "      <th>827437</th>\n",
       "      <td>00000c289a1829a808ac09c00daf10bc3c4e223b</td>\n",
       "      <td>9fdaa16b-a6c4-4831-b87c-bc9ca8ce7eaa</td>\n",
       "      <td>168</td>\n",
       "    </tr>\n",
       "    <tr>\n",
       "      <th>978405</th>\n",
       "      <td>00000c289a1829a808ac09c00daf10bc3c4e223b</td>\n",
       "      <td>fb01635c-51fc-4cad-b71f-62e18bb3433b</td>\n",
       "      <td>231</td>\n",
       "    </tr>\n",
       "  </tbody>\n",
       "</table>\n",
       "</div>"
      ],
      "text/plain": [
       "                                            user                                artist  plays\n",
       "158901  00000c289a1829a808ac09c00daf10bc3c4e223b  c995a379-60b9-404b-bd97-a7e2de0751d3    198\n",
       "326827  00000c289a1829a808ac09c00daf10bc3c4e223b  b071f9fa-14b0-4217-8e97-eb41da73f598    150\n",
       "752135  00000c289a1829a808ac09c00daf10bc3c4e223b  7b885d42-3c41-4f43-9944-a5855ec5155e    361\n",
       "827437  00000c289a1829a808ac09c00daf10bc3c4e223b  9fdaa16b-a6c4-4831-b87c-bc9ca8ce7eaa    168\n",
       "978405  00000c289a1829a808ac09c00daf10bc3c4e223b  fb01635c-51fc-4cad-b71f-62e18bb3433b    231"
      ]
     },
     "execution_count": 16,
     "metadata": {},
     "output_type": "execute_result"
    }
   ],
   "source": [
    "traindf.head()"
   ]
  },
  {
   "cell_type": "code",
   "execution_count": 52,
   "metadata": {
    "collapsed": false
   },
   "outputs": [
    {
     "data": {
      "text/plain": [
       "253.34438510117764"
      ]
     },
     "execution_count": 52,
     "metadata": {},
     "output_type": "execute_result"
    }
   ],
   "source": [
    "ybar = traindf.plays.mean()\n",
    "ybar"
   ]
  },
  {
   "cell_type": "code",
   "execution_count": 5,
   "metadata": {
    "collapsed": true
   },
   "outputs": [],
   "source": [
    "uuids=traindf.user.unique()#unique-users\n",
    "uiids=traindf.artist.unique()#unique-items\n",
    "uuidmap={v:k for k,v in enumerate(uuids)}#of length U\n",
    "uiidmap={v:k for k,v in enumerate(uiids)}#of length M"
   ]
  },
  {
   "cell_type": "code",
   "execution_count": 53,
   "metadata": {
    "collapsed": false
   },
   "outputs": [],
   "source": [
    "#your code here\n",
    "groupby_user = traindf.groupby('user')\n",
    "user_biases = dict()\n",
    "user_means = dict()\n",
    "user_medians = dict()\n",
    "for id in uuids:\n",
    "    group = groupby_user.get_group(id)\n",
    "    user_mean = group.plays.mean()\n",
    "    user_biases[id] = user_mean - ybar\n",
    "    user_means[id] = user_mean\n",
    "    user_medians[id] = group.plays.median()"
   ]
  },
  {
   "cell_type": "code",
   "execution_count": 54,
   "metadata": {
    "collapsed": false
   },
   "outputs": [],
   "source": [
    "groupby_item = traindf.groupby('artist')\n",
    "item_biases = dict()\n",
    "item_means = dict()\n",
    "item_medians = dict()\n",
    "for id in uiids:\n",
    "    group = groupby_item.get_group(id)\n",
    "    item_mean = group.plays.mean()\n",
    "    item_biases[id] = item_mean - ybar\n",
    "    item_means[id]  = item_mean\n",
    "    item_medians[id] = group.plays.median()"
   ]
  },
  {
   "cell_type": "code",
   "execution_count": 61,
   "metadata": {
    "collapsed": true
   },
   "outputs": [],
   "source": [
    "predictions={}\n",
    "#user_biases_validate = validatedf['user'].apply(lambda x: user_biases[x])\n",
    "#item_biases_validate = validatedf['artist'].apply(lambda x: item_biases[x])\n",
    "#predictions['baseline'] = (ybar + user_biases_validate + item_biases_validate).values"
   ]
  },
  {
   "cell_type": "code",
   "execution_count": 25,
   "metadata": {
    "collapsed": false
   },
   "outputs": [],
   "source": [
    "from sklearn.metrics import mean_absolute_error\n",
    "mean_absolute_error(validatedf.plays, predictions['baseline'])"
   ]
  },
  {
   "cell_type": "code",
   "execution_count": 102,
   "metadata": {
    "collapsed": false
   },
   "outputs": [
    {
     "data": {
      "text/plain": [
       "162.44725936000501"
      ]
     },
     "execution_count": 102,
     "metadata": {},
     "output_type": "execute_result"
    }
   ],
   "source": [
    "predictions['user_mean'] = validatedf['user'].apply(lambda x: user_means[x])\n",
    "mean_absolute_error(validatedf.plays, predictions['user_mean'])"
   ]
  },
  {
   "cell_type": "code",
   "execution_count": 62,
   "metadata": {
    "collapsed": false
   },
   "outputs": [
    {
     "data": {
      "text/plain": [
       "136.57260746288145"
      ]
     },
     "execution_count": 62,
     "metadata": {},
     "output_type": "execute_result"
    }
   ],
   "source": [
    "predictions['user_median'] = validatedf['user'].apply(lambda x: user_medians[x])\n",
    "mean_absolute_error(validatedf.plays, predictions['user_median'])"
   ]
  },
  {
   "cell_type": "code",
   "execution_count": 56,
   "metadata": {
    "collapsed": true
   },
   "outputs": [],
   "source": [
    "predictions_train = {}"
   ]
  },
  {
   "cell_type": "code",
   "execution_count": 73,
   "metadata": {
    "collapsed": false
   },
   "outputs": [],
   "source": [
    "predictions['item_median'] = validatedf['artist'].apply(lambda x: item_medians[x])\n",
    "predictions_train['user_median'] = traindf['user'].apply(lambda x: user_medians[x])\n",
    "predictions_train['item_median'] = traindf['artist'].apply(lambda x: item_medians[x])"
   ]
  },
  {
   "cell_type": "code",
   "execution_count": 19,
   "metadata": {
    "collapsed": false
   },
   "outputs": [
    {
     "name": "stdout",
     "output_type": "stream",
     "text": [
      "0\n",
      "CPU times: user 2.23 s, sys: 6.57 ms, total: 2.24 s\n",
      "Wall time: 2.25 s\n"
     ]
    }
   ],
   "source": [
    "%%time\n",
    "import scipy.sparse as sp\n",
    "test = validatedf[:1000].values\n",
    "n_features = uuids.size + uiids.size\n",
    "plays = np.zeros(test.shape[0])\n",
    "matrix = np.zeros(test.shape[0],dtype=object)\n",
    "for i,row in enumerate(test):\n",
    "    if i%10000 == 0: print i\n",
    "    user = row[0]\n",
    "    artist = row[1]\n",
    "    user_index = uuidmap[user]\n",
    "    item_index = uiidmap[artist] + uuids.size\n",
    "    newrow = np.zeros(n_features)\n",
    "    newrow[user_index] = 1\n",
    "    newrow[item_index] = 1\n",
    "    newrow = sp.coo_matrix(newrow)\n",
    "    matrix[i] = newrow\n",
    "    plays[i] = row[2]\n",
    "matrix = sp.vstack(matrix)"
   ]
  },
  {
   "cell_type": "code",
   "execution_count": 20,
   "metadata": {
    "collapsed": false
   },
   "outputs": [],
   "source": [
    "#your code here\n",
    "def getmats (indf):\n",
    "    plays = np.zeros(indf.shape[0])\n",
    "    n_features = uuids.size + uiids.size\n",
    "    matrix = np.zeros([indf.shape[0]], dtype=object)\n",
    "    for i,row in enumerate(indf.values):\n",
    "        if i%10000 == 0: print i\n",
    "        user = row[0]\n",
    "        artist = row[1]\n",
    "        user_index = uuidmap[user]\n",
    "        item_index = uiidmap[artist] + uuids.size\n",
    "        newrow = np.zeros(n_features)\n",
    "        newrow[user_index] = 1\n",
    "        newrow[item_index] = 1\n",
    "        newrow = sp.coo_matrix(newrow)\n",
    "        matrix[i] = newrow\n",
    "        plays[i] = row[2]\n",
    "    matrix = sp.vstack(matrix)\n",
    "    return matrix, plays"
   ]
  },
  {
   "cell_type": "code",
   "execution_count": 35,
   "metadata": {
    "collapsed": true
   },
   "outputs": [
    {
     "name": "stdout",
     "output_type": "stream",
     "text": [
      "0\n",
      "10000\n",
      "20000\n",
      "30000\n",
      "40000\n",
      "50000\n",
      "60000\n",
      "70000\n",
      "80000\n",
      "90000\n",
      "100000\n",
      "110000\n",
      "120000\n",
      "130000\n",
      "140000\n",
      "150000\n",
      "160000\n",
      "170000\n",
      "180000\n",
      "190000\n",
      "200000\n",
      "210000\n",
      "220000\n",
      "230000\n",
      "240000\n",
      "250000\n",
      "260000\n",
      "270000\n",
      "280000\n",
      "290000\n",
      "300000\n",
      "310000\n",
      "320000\n",
      "330000\n",
      "340000\n",
      "350000\n",
      "360000\n",
      "370000\n",
      "380000\n",
      "390000\n",
      "400000\n",
      "410000\n",
      "420000\n",
      "430000\n",
      "440000\n",
      "450000\n",
      "460000\n",
      "470000\n",
      "480000\n",
      "490000\n",
      "500000\n",
      "510000\n",
      "520000\n",
      "530000\n",
      "540000\n",
      "550000\n",
      "560000\n",
      "570000\n",
      "580000\n",
      "590000\n",
      "600000\n",
      "610000\n",
      "620000\n",
      "630000\n",
      "640000\n",
      "650000\n",
      "660000\n",
      "670000\n",
      "680000\n",
      "690000\n",
      "700000\n",
      "710000\n",
      "720000\n",
      "730000\n",
      "740000\n",
      "750000\n",
      "760000\n",
      "770000\n",
      "780000\n",
      "790000\n",
      "800000\n",
      "810000\n",
      "820000\n",
      "830000\n",
      "840000\n",
      "850000\n",
      "860000\n",
      "870000\n",
      "880000\n",
      "890000\n",
      "900000\n",
      "910000\n",
      "920000\n",
      "930000\n",
      "940000\n",
      "950000\n",
      "960000\n",
      "970000\n",
      "980000\n",
      "990000\n",
      "1000000\n",
      "1010000\n",
      "1020000\n",
      "1030000\n",
      "1040000\n",
      "1050000\n",
      "1060000\n",
      "1070000\n",
      "1080000\n",
      "1090000\n",
      "1100000\n",
      "1110000\n",
      "1120000\n",
      "1130000\n",
      "1140000\n",
      "1150000\n",
      "1160000\n",
      "1170000\n",
      "1180000\n",
      "1190000\n",
      "1200000\n",
      "1210000\n",
      "1220000\n",
      "1230000\n",
      "1240000\n",
      "1250000\n",
      "1260000\n",
      "1270000\n",
      "1280000\n",
      "1290000\n",
      "1300000\n",
      "1310000\n",
      "1320000\n",
      "1330000\n",
      "1340000\n",
      "1350000\n",
      "1360000\n",
      "1370000\n",
      "1380000\n",
      "1390000\n",
      "1400000\n",
      "1410000\n",
      "1420000\n",
      "1430000\n",
      "1440000\n",
      "1450000\n",
      "1460000\n",
      "1470000\n",
      "1480000\n",
      "1490000\n",
      "1500000\n",
      "1510000\n",
      "1520000\n",
      "1530000\n",
      "1540000\n",
      "1550000\n",
      "1560000\n",
      "1570000\n",
      "1580000\n",
      "1590000\n",
      "1600000\n",
      "1610000\n",
      "1620000\n",
      "1630000\n",
      "1640000\n",
      "1650000\n",
      "1660000\n",
      "1670000\n",
      "1680000\n",
      "1690000\n",
      "1700000\n",
      "1710000\n",
      "1720000\n",
      "1730000\n",
      "1740000\n",
      "1750000\n",
      "1760000\n",
      "1770000\n",
      "1780000\n",
      "1790000\n",
      "1800000\n",
      "1810000\n",
      "1820000\n",
      "1830000\n",
      "1840000\n",
      "1850000\n",
      "1860000\n",
      "1870000\n",
      "1880000\n",
      "1890000\n",
      "1900000\n",
      "1910000\n",
      "1920000\n",
      "1930000\n",
      "1940000\n",
      "1950000\n",
      "1960000\n",
      "1970000\n",
      "1980000\n",
      "1990000\n",
      "2000000\n",
      "2010000\n",
      "2020000\n",
      "2030000\n",
      "2040000\n",
      "2050000\n",
      "2060000\n",
      "2070000\n",
      "2080000\n",
      "2090000\n",
      "2100000\n",
      "2110000\n",
      "2120000\n",
      "2130000\n",
      "2140000\n",
      "2150000\n",
      "2160000\n",
      "2170000\n",
      "2180000\n",
      "2190000\n",
      "2200000\n",
      "2210000\n",
      "2220000\n",
      "2230000\n",
      "2240000\n",
      "2250000\n",
      "2260000\n",
      "2270000\n",
      "2280000\n",
      "2290000\n",
      "2300000\n",
      "2310000\n",
      "2320000\n",
      "2330000\n",
      "2340000\n",
      "2350000\n",
      "2360000\n",
      "2370000\n",
      "2380000\n",
      "2390000\n",
      "2400000\n",
      "2410000\n",
      "2420000\n",
      "2430000\n",
      "2440000\n",
      "2450000\n",
      "2460000\n",
      "2470000\n",
      "2480000\n",
      "2490000\n",
      "2500000\n",
      "2510000\n",
      "2520000\n",
      "2530000\n",
      "2540000\n",
      "2550000\n",
      "2560000\n",
      "2570000\n",
      "2580000\n",
      "2590000\n",
      "2600000\n",
      "2610000\n",
      "2620000\n",
      "2630000\n",
      "2640000\n",
      "2650000\n",
      "2660000\n",
      "2670000\n",
      "2680000\n",
      "2690000\n",
      "2700000\n",
      "2710000\n",
      "2720000\n",
      "2730000\n",
      "2740000\n",
      "2750000\n",
      "2760000\n",
      "2770000\n",
      "2780000\n",
      "2790000\n",
      "2800000\n",
      "2810000\n",
      "2820000\n",
      "2830000\n",
      "2840000\n",
      "2850000\n",
      "2860000\n",
      "2870000\n",
      "2880000\n",
      "2890000\n",
      "2900000\n",
      "2910000\n",
      "2920000\n",
      "2930000\n",
      "2940000\n",
      "2950000\n",
      "2960000\n",
      "2970000\n",
      "2980000\n",
      "2990000\n",
      "3000000\n",
      "3010000\n",
      "3020000\n",
      "3030000\n",
      "3040000\n",
      "3050000\n",
      "3060000\n",
      "3070000\n",
      "3080000\n",
      "3090000\n",
      "3100000\n",
      "3110000\n",
      "3120000\n",
      "3130000\n",
      "3140000\n",
      "3150000\n",
      "3160000\n",
      "3170000\n",
      "3180000\n",
      "3190000\n",
      "3200000\n",
      "3210000\n",
      "3220000\n",
      "3230000\n",
      "3240000\n",
      "3250000\n",
      "3260000\n",
      "3270000\n",
      "3280000\n",
      "3290000\n",
      "3300000\n",
      "3310000\n",
      "3320000\n",
      "3330000\n",
      "3340000\n",
      "3350000\n",
      "3360000\n",
      "3370000\n",
      "3380000\n",
      "3390000\n",
      "3400000\n",
      "3410000\n",
      "3420000\n",
      "3430000\n",
      "3440000\n",
      "3450000\n",
      "3460000\n",
      "3470000\n",
      "3480000\n",
      "3490000\n",
      "3500000\n",
      "3510000\n",
      "3520000\n",
      "3530000\n",
      "CPU times: user 2h 21min 36s, sys: 12min 48s, total: 2h 34min 25s\n",
      "Wall time: 2h 35min 7s\n"
     ]
    }
   ],
   "source": [
    "%%time\n",
    "traindm, trainplays = getmats(traindf)"
   ]
  },
  {
   "cell_type": "code",
   "execution_count": 22,
   "metadata": {
    "collapsed": false
   },
   "outputs": [
    {
     "name": "stdout",
     "output_type": "stream",
     "text": [
      "CPU times: user 4 µs, sys: 1 µs, total: 5 µs\n",
      "Wall time: 7.87 µs\n"
     ]
    }
   ],
   "source": [
    "%%time\n",
    "validatedm, validateplays = getmats(validatedf) "
   ]
  },
  {
   "cell_type": "code",
   "execution_count": 42,
   "metadata": {
    "collapsed": true
   },
   "outputs": [],
   "source": [
    "def save_sparse_csr(filename,array):\n",
    "    np.savez(filename,data = array.data ,indices=array.indices,\n",
    "             indptr =array.indptr, shape=array.shape )\n",
    "\n",
    "def load_sparse_csr(filename):\n",
    "    loader = np.load(filename)\n",
    "    return csr_matrix((  loader['data'], loader['indices'], loader['indptr']),\n",
    "                         shape = loader['shape'])"
   ]
  },
  {
   "cell_type": "code",
   "execution_count": 46,
   "metadata": {
    "collapsed": false
   },
   "outputs": [],
   "source": [
    "import cPickle as pickle\n",
    "\n",
    "with open('data/validatedm', 'wb') as f:\n",
    "    pickle.dump(validatedm, f, pickle.HIGHEST_PROTOCOL)\n",
    "with open('data/traindm', 'wb') as f:\n",
    "    pickle.dump(traindm, f, pickle.HIGHEST_PROTOCOL)"
   ]
  },
  {
   "cell_type": "code",
   "execution_count": 47,
   "metadata": {
    "collapsed": false
   },
   "outputs": [
    {
     "data": {
      "text/plain": [
       "Ridge(alpha=1.0, copy_X=True, fit_intercept=True, max_iter=None,\n",
       "   normalize=False, random_state=None, solver='auto', tol=0.001)"
      ]
     },
     "execution_count": 47,
     "metadata": {},
     "output_type": "execute_result"
    }
   ],
   "source": [
    "from sklearn.linear_model import Ridge\n",
    "ridge = Ridge()\n",
    "ridge.fit(traindm,trainplays)"
   ]
  },
  {
   "cell_type": "code",
   "execution_count": 63,
   "metadata": {
    "collapsed": false
   },
   "outputs": [],
   "source": [
    "predictions_train['ridge'] = ridge.predict(traindm)\n",
    "predictions['ridge'] = ridge.predict(validatedm)"
   ]
  },
  {
   "cell_type": "code",
   "execution_count": 37,
   "metadata": {
    "collapsed": false
   },
   "outputs": [
    {
     "data": {
      "text/plain": [
       "165.56824691504139"
      ]
     },
     "execution_count": 37,
     "metadata": {},
     "output_type": "execute_result"
    }
   ],
   "source": [
    "#alpha=1\n",
    "mean_absolute_error(validatedf.plays, rid))"
   ]
  },
  {
   "cell_type": "code",
   "execution_count": 38,
   "metadata": {
    "collapsed": false
   },
   "outputs": [
    {
     "data": {
      "text/plain": [
       "Ridge(alpha=0.1, copy_X=True, fit_intercept=True, max_iter=None,\n",
       "   normalize=False, random_state=None, solver='auto', tol=0.001)"
      ]
     },
     "execution_count": 38,
     "metadata": {},
     "output_type": "execute_result"
    }
   ],
   "source": [
    "ridge = Ridge(alpha=0.1)\n",
    "ridge.fit(traindm,trainplays)"
   ]
  },
  {
   "cell_type": "code",
   "execution_count": 39,
   "metadata": {
    "collapsed": false
   },
   "outputs": [
    {
     "data": {
      "text/plain": [
       "167.48475043641207"
      ]
     },
     "execution_count": 39,
     "metadata": {},
     "output_type": "execute_result"
    }
   ],
   "source": [
    "#alpha=0.1\n",
    "mean_absolute_error(validatedf.plays, ridge.predict(validatedm))"
   ]
  },
  {
   "cell_type": "code",
   "execution_count": 40,
   "metadata": {
    "collapsed": false
   },
   "outputs": [
    {
     "data": {
      "text/plain": [
       "Ridge(alpha=10, copy_X=True, fit_intercept=True, max_iter=None,\n",
       "   normalize=False, random_state=None, solver='auto', tol=0.001)"
      ]
     },
     "execution_count": 40,
     "metadata": {},
     "output_type": "execute_result"
    }
   ],
   "source": [
    "ridge = Ridge(alpha=10)\n",
    "ridge.fit(traindm,trainplays)"
   ]
  },
  {
   "cell_type": "code",
   "execution_count": 41,
   "metadata": {
    "collapsed": false
   },
   "outputs": [
    {
     "data": {
      "text/plain": [
       "171.54505788453324"
      ]
     },
     "execution_count": 41,
     "metadata": {},
     "output_type": "execute_result"
    }
   ],
   "source": [
    "#alpha=10\n",
    "mean_absolute_error(validatedf.plays, ridge.predict(validatedm))"
   ]
  },
  {
   "cell_type": "code",
   "execution_count": 78,
   "metadata": {
    "collapsed": false
   },
   "outputs": [
    {
     "data": {
      "text/plain": [
       "136.57260746288145"
      ]
     },
     "execution_count": 78,
     "metadata": {},
     "output_type": "execute_result"
    }
   ],
   "source": [
    "from sklearn.linear_model import LinearRegression\n",
    "X_train = np.dstack([predictions_train['user_median'], predictions_train['ridge'], predictions_train['item_median']])[0]\n",
    "ensemble = LinearRegression().fit(X_train, traindf.plays)\n",
    "X_val = np.dstack([predictions['user_median'], predictions['ridge'], predictions['item_median']])[0]\n",
    "preds = ensemble.predict(X_val)\n",
    "mean_absolute_error(validatedf.plays, preds)"
   ]
  },
  {
   "cell_type": "code",
   "execution_count": 80,
   "metadata": {
    "collapsed": false
   },
   "outputs": [
    {
     "name": "stdout",
     "output_type": "stream",
     "text": [
      "Collecting musicbrainzngs\n",
      "  Downloading musicbrainzngs-0.5.tar.gz (61kB)\n",
      "\u001b[K    100% |████████████████████████████████| 65kB 948kB/s \n",
      "\u001b[?25hBuilding wheels for collected packages: musicbrainzngs\n",
      "  Running setup.py bdist_wheel for musicbrainzngs ... \u001b[?25l-\b \bdone\n",
      "\u001b[?25h  Stored in directory: /Users/mr/Library/Caches/pip/wheels/c0/b0/b3/c571bda6ed58973b5dd33d1c4e27ed20e5a210ba35f4ca72da\n",
      "Successfully built musicbrainzngs\n",
      "Installing collected packages: musicbrainzngs\n",
      "Successfully installed musicbrainzngs-0.5\n",
      "\u001b[33mYou are using pip version 8.0.3, however version 8.1.1 is available.\n",
      "You should consider upgrading via the 'pip install --upgrade pip' command.\u001b[0m\n"
     ]
    }
   ],
   "source": [
    "! pip install musicbrainzngs"
   ]
  },
  {
   "cell_type": "code",
   "execution_count": 109,
   "metadata": {
    "collapsed": false
   },
   "outputs": [],
   "source": [
    "import musicbrainzngs\n",
    "musicbrainzngs.set_useragent(\"Example music app\", \"0.1\", \"http://example.com/music\")\n",
    "artist_id = \"c5c2ea1c-4bde-4f4d-bd0b-47b200bf99d6\"\n",
    "def get_artist_info(ids):\n",
    "    results = dict()\n",
    "    for id in ids:\n",
    "        try:\n",
    "            result = musicbrainzngs.get_artist_by_id(id, includes=['tags','ratings'])\n",
    "            results[id] = result\n",
    "        except Exception as e:\n",
    "            print id\n",
    "            print(\"Something went wrong with the request: %s\" + str(e))\n",
    "    return results"
   ]
  },
  {
   "cell_type": "code",
   "execution_count": 110,
   "metadata": {
    "collapsed": false
   },
   "outputs": [
    {
     "name": "stdout",
     "output_type": "stream",
     "text": [
      "0f3515b0-75c9-46c9-b26c-4cd05d26eae7\n",
      "Something went wrong with the request: %scaused by: HTTP Error 404: Not Found\n",
      "4b179fe2-dfa5-40b1-b6db-b56dbc3b5f09\n",
      "Something went wrong with the request: %scaused by: HTTP Error 404: Not Found\n",
      "5aca3051-afa2-4f5c-9974-cc9418482a58\n",
      "Something went wrong with the request: %scaused by: HTTP Error 404: Not Found\n",
      "ae681605-2801-4120-9a48-e18752042306\n",
      "Something went wrong with the request: %scaused by: HTTP Error 404: Not Found\n",
      "f1a95c6b-fb2a-41a6-bfcb-2453fee2a38c\n",
      "Something went wrong with the request: %scaused by: HTTP Error 404: Not Found\n",
      "64b86e99-b6ec-4fb1-a5cd-f95482d3b57a\n",
      "Something went wrong with the request: %scaused by: HTTP Error 404: Not Found\n",
      "9bf79f68-c064-44a1-8c2c-5764f1d7c016\n",
      "Something went wrong with the request: %scaused by: HTTP Error 404: Not Found\n",
      "b5da400c-9a62-4686-b6fe-91518e57ce5d\n",
      "Something went wrong with the request: %scaused by: HTTP Error 404: Not Found\n",
      "5385c403-1c49-4f2f-9b98-7085b5c84371\n",
      "Something went wrong with the request: %scaused by: HTTP Error 404: Not Found\n",
      "10b7b68c-390d-469a-915b-40bac704f288\n",
      "Something went wrong with the request: %scaused by: HTTP Error 404: Not Found\n",
      "8f3f7fec-cabf-4366-9c31-06f204b402f5\n",
      "Something went wrong with the request: %scaused by: HTTP Error 404: Not Found\n"
     ]
    }
   ],
   "source": [
    "artist_infos = get_artist_info(uiids)"
   ]
  },
  {
   "cell_type": "code",
   "execution_count": 113,
   "metadata": {
    "collapsed": false
   },
   "outputs": [],
   "source": [
    "import json\n",
    "with open('data/artist_infos','w') as f:\n",
    "    json.dump(artist_infos, f)"
   ]
  },
  {
   "cell_type": "code",
   "execution_count": null,
   "metadata": {
    "collapsed": true
   },
   "outputs": [],
   "source": [
    "#given the initial data frame, and the number of latent factors lshape\n",
    "def design_p(indf, lshape, inps):\n",
    "    #the number of columns in the added part of the feature matrix\n",
    "    qshape=lshape*len(uuids)\n",
    "    #the number of columns we are coming in with from the previous regression\n",
    "    pshape=lshape*len(uiids)\n",
    "    #the number of features from the baseline regression\n",
    "    fshape=len(uuids)+len(uiids)\n",
    "    #userid and itemid along with star rating from the input dataframe\n",
    "    stvals=indf[['user', 'artist', 'plays']].values\n",
    "    #the design matrix of size N rows X M+U+L*U columns\n",
    "    designp=np.zeros(stvals.shape[0], dtype=object)\n",
    "    #ratings column vector of N rows\n",
    "    plays=np.zeros(stvals.shape[0])\n",
    "    #for each row in the dataframe:\n",
    "    for i, row in enumerate(stvals):\n",
    "        #get userid, restaurant id and rating from the row\n",
    "        user=row[0]\n",
    "        artist=row[1]\n",
    "        plays=row[2]\n",
    "        #use the index corresponding to the userid and L to figure how many slots\n",
    "        #in the design matrix to take up and where to take them up from\n",
    "        #for e.g., if index is 2(ie third index) and L=2,this will be from index 4 on\n",
    "        #(which is the 5th index. )\n",
    "        posq=uuidmap[user]*lshape\n",
    "        putinat=fshape+posq\n",
    "\n",
    "        #use the index corresponding to the business id to get the indexes of the incoming p\n",
    "        posp=uiidmap[artist]*lshape\n",
    "        #fill the baseline part of the design matrix in for this row\n",
    "        designp[i,:-qshape]=np.concatenate([1*(userid==uuids), 1*(bizid==uiids)])\n",
    "        #set the ith element of the rating vector to the rating from the matching row\n",
    "        ratings[i]=rat\n",
    "        #Fill L of the slots from putinat onwards to L elements from the p matrix\n",
    "        #if the index is 4(the fifth index) and L=2, this is the 8th and 9th element of the\n",
    "        #p coefficients\n",
    "        designp[i,putinat:putinat+lshape]=inps[posp:posp+lshape]\n",
    "    #return the constructed design matrix and ratings\n",
    "    return designp, ratings"
   ]
  }
 ],
 "metadata": {
  "kernelspec": {
   "display_name": "Python 2",
   "language": "python",
   "name": "python2"
  },
  "language_info": {
   "codemirror_mode": {
    "name": "ipython",
    "version": 2
   },
   "file_extension": ".py",
   "mimetype": "text/x-python",
   "name": "python",
   "nbconvert_exporter": "python",
   "pygments_lexer": "ipython2",
   "version": "2.7.11"
  }
 },
 "nbformat": 4,
 "nbformat_minor": 0
}
