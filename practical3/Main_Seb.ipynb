{
 "cells": [
  {
   "cell_type": "code",
   "execution_count": 90,
   "metadata": {
    "collapsed": false
   },
   "outputs": [],
   "source": [
    "import numpy as np\n",
    "import csv\n",
    "import pandas as pd\n",
    "import pyprind\n",
    "import scipy.sparse as spr\n",
    "import graphlab as gl\n",
    "import gzip\n",
    "from sklearn.cluster import KMeans\n",
    "from math import isnan\n",
    "import matplotlib.pyplot as plt\n",
    "import seaborn as sns\n",
    "from sklearn.metrics import mean_absolute_error\n",
    "sns.set_style(\"whitegrid\")\n",
    "sns.set_context(\"poster\")\n",
    "pd.set_option('display.width', 500)\n",
    "pd.set_option('display.max_columns', 100)\n",
    "pd.set_option('display.notebook_repr_html', True)\n",
    "%matplotlib inline"
   ]
  },
  {
   "cell_type": "markdown",
   "metadata": {},
   "source": [
    "## Load Data"
   ]
  },
  {
   "cell_type": "code",
   "execution_count": 91,
   "metadata": {
    "collapsed": true
   },
   "outputs": [],
   "source": [
    "train_file = 'data/train.csv'\n",
    "test_file  = 'data/test.csv'\n",
    "profiles_file = 'data/profiles.csv'\n",
    "artists_file = 'data/artists.csv'\n",
    "artists_file_info = 'data/artist_infos.json'"
   ]
  },
  {
   "cell_type": "code",
   "execution_count": 93,
   "metadata": {
    "collapsed": false
   },
   "outputs": [],
   "source": [
    "df = pd.read_csv(train_file, header=0)"
   ]
  },
  {
   "cell_type": "markdown",
   "metadata": {},
   "source": [
    "## Baseline Model"
   ]
  },
  {
   "cell_type": "code",
   "execution_count": 94,
   "metadata": {
    "collapsed": false
   },
   "outputs": [
    {
     "name": "stdout",
     "output_type": "stream",
     "text": [
      "(3254976, 3) (899828, 3)\n"
     ]
    }
   ],
   "source": [
    "## Train-Test Split\n",
    "trainlist=[]\n",
    "validatelist=[]\n",
    "take=4\n",
    "i = 0\n",
    "for k, v in df.groupby('user'):\n",
    "    if v.artist.count() > 10:\n",
    "        validatelist.append(v[-take:]) \n",
    "        trainlist.append(v[:-take])\n",
    "    else:\n",
    "        trainlist.append(v)\n",
    "traindf=pd.concat(trainlist)\n",
    "validatedf=pd.concat(validatelist)\n",
    "print traindf.shape, validatedf.shape"
   ]
  },
  {
   "cell_type": "code",
   "execution_count": 8,
   "metadata": {
    "collapsed": true
   },
   "outputs": [],
   "source": [
    "pd.DataFrame.to_csv(traindf, 'data/traindf')\n",
    "pd.DataFrame.to_csv(validatedf, 'data/validatedf')"
   ]
  },
  {
   "cell_type": "code",
   "execution_count": 62,
   "metadata": {
    "collapsed": true
   },
   "outputs": [],
   "source": [
    "\"\"\"traindf = pd.read_csv(\"data/traindf\")\n",
    "validatedf = pd.read_csv(\"data/validatedf\")\"\"\""
   ]
  },
  {
   "cell_type": "code",
   "execution_count": 95,
   "metadata": {
    "collapsed": true
   },
   "outputs": [],
   "source": [
    "ybar = traindf.plays.mean()\n",
    "\n",
    "uuids=traindf.user.unique()#unique-users\n",
    "uiids=traindf.artist.unique()#unique-items\n",
    "uuidmap={v:k for k,v in enumerate(uuids)}#of length U\n",
    "uiidmap={v:k for k,v in enumerate(uiids)}#of length M\n",
    "\n",
    "groupby_user = traindf.groupby('user')\n",
    "user_biases = dict()\n",
    "user_means = dict()\n",
    "user_medians = dict()\n",
    "for id in uuids:\n",
    "    user_mean = groupby_user.get_group(id).plays.mean()\n",
    "    user_biases[id] = user_mean - ybar\n",
    "    user_means[id] = user_mean\n",
    "    user_medians[id] = groupby_user.get_group(id).plays.median()\n",
    "\n",
    "groupby_item = traindf.groupby('artist')\n",
    "item_biases = dict()\n",
    "item_means = dict()\n",
    "for id in uiids:\n",
    "    item_mean = groupby_item.get_group(id).plays.mean()\n",
    "    item_biases[id] = item_mean - ybar\n",
    "    item_means[id]  = item_mean\n",
    "    \n",
    "\n",
    "train_avgs={'mean':ybar, 'users':user_biases, 'items':item_biases}\n",
    "\n",
    "predictions={}\n",
    "user_biases_validate = validatedf['user'].apply(lambda x: user_biases[x])\n",
    "item_biases_validate = validatedf['artist'].apply(lambda x: item_biases[x])\n",
    "\n",
    "predictions['baseline'] = (ybar + user_biases_validate + item_biases_validate).values\n",
    "predictions['user_mean'] = validatedf['user'].apply(lambda x: user_means[x])\n",
    "predictions['user_median'] = validatedf['user'].apply(lambda x: user_medians[x])\n",
    "\n"
   ]
  },
  {
   "cell_type": "markdown",
   "metadata": {},
   "source": [
    "## GraphLab Create"
   ]
  },
  {
   "cell_type": "code",
   "execution_count": 96,
   "metadata": {
    "collapsed": true
   },
   "outputs": [],
   "source": [
    "#### Load Data as SFrames ####"
   ]
  },
  {
   "cell_type": "code",
   "execution_count": 97,
   "metadata": {
    "collapsed": false
   },
   "outputs": [
    {
     "data": {
      "text/html": [
       "<div style=\"max-height:1000px;max-width:1500px;overflow:auto;\"><table frame=\"box\" rules=\"cols\">\n",
       "    <tr>\n",
       "        <th style=\"padding-left: 1em; padding-right: 1em; text-align: center\">user_id</th>\n",
       "        <th style=\"padding-left: 1em; padding-right: 1em; text-align: center\">item_id</th>\n",
       "        <th style=\"padding-left: 1em; padding-right: 1em; text-align: center\">plays</th>\n",
       "    </tr>\n",
       "    <tr>\n",
       "        <td style=\"padding-left: 1em; padding-right: 1em; text-align: center; vertical-align: top\">00000c289a1829a808ac09c00<br>daf10bc3c4e223b ...</td>\n",
       "        <td style=\"padding-left: 1em; padding-right: 1em; text-align: center; vertical-align: top\">fb01635c-51fc-4cad-b71f-<br>62e18bb3433b ...</td>\n",
       "        <td style=\"padding-left: 1em; padding-right: 1em; text-align: center; vertical-align: top\">0</td>\n",
       "    </tr>\n",
       "    <tr>\n",
       "        <td style=\"padding-left: 1em; padding-right: 1em; text-align: center; vertical-align: top\">00000c289a1829a808ac09c00<br>daf10bc3c4e223b ...</td>\n",
       "        <td style=\"padding-left: 1em; padding-right: 1em; text-align: center; vertical-align: top\">83998f9c-846b-4294-aede-<br>d7735531c901 ...</td>\n",
       "        <td style=\"padding-left: 1em; padding-right: 1em; text-align: center; vertical-align: top\">0</td>\n",
       "    </tr>\n",
       "    <tr>\n",
       "        <td style=\"padding-left: 1em; padding-right: 1em; text-align: center; vertical-align: top\">00000c289a1829a808ac09c00<br>daf10bc3c4e223b ...</td>\n",
       "        <td style=\"padding-left: 1em; padding-right: 1em; text-align: center; vertical-align: top\">b071f9fa-14b0-4217-8e97-e<br>b41da73f598 ...</td>\n",
       "        <td style=\"padding-left: 1em; padding-right: 1em; text-align: center; vertical-align: top\">0</td>\n",
       "    </tr>\n",
       "    <tr>\n",
       "        <td style=\"padding-left: 1em; padding-right: 1em; text-align: center; vertical-align: top\">00000c289a1829a808ac09c00<br>daf10bc3c4e223b ...</td>\n",
       "        <td style=\"padding-left: 1em; padding-right: 1em; text-align: center; vertical-align: top\">144ef525-85e9-40c3-8335-0<br>2c32d0861f3 ...</td>\n",
       "        <td style=\"padding-left: 1em; padding-right: 1em; text-align: center; vertical-align: top\">0</td>\n",
       "    </tr>\n",
       "    <tr>\n",
       "        <td style=\"padding-left: 1em; padding-right: 1em; text-align: center; vertical-align: top\">00000c289a1829a808ac09c00<br>daf10bc3c4e223b ...</td>\n",
       "        <td style=\"padding-left: 1em; padding-right: 1em; text-align: center; vertical-align: top\">8000598a-5edb-401c-8e6d-<br>36b167feaf38 ...</td>\n",
       "        <td style=\"padding-left: 1em; padding-right: 1em; text-align: center; vertical-align: top\">0</td>\n",
       "    </tr>\n",
       "    <tr>\n",
       "        <td style=\"padding-left: 1em; padding-right: 1em; text-align: center; vertical-align: top\">00000c289a1829a808ac09c00<br>daf10bc3c4e223b ...</td>\n",
       "        <td style=\"padding-left: 1em; padding-right: 1em; text-align: center; vertical-align: top\">7b885d42-3c41-4f43-9944-a<br>5855ec5155e ...</td>\n",
       "        <td style=\"padding-left: 1em; padding-right: 1em; text-align: center; vertical-align: top\">0</td>\n",
       "    </tr>\n",
       "    <tr>\n",
       "        <td style=\"padding-left: 1em; padding-right: 1em; text-align: center; vertical-align: top\">00000c289a1829a808ac09c00<br>daf10bc3c4e223b ...</td>\n",
       "        <td style=\"padding-left: 1em; padding-right: 1em; text-align: center; vertical-align: top\">c995a379-60b9-404b-<br>bd97-a7e2de0751d3 ...</td>\n",
       "        <td style=\"padding-left: 1em; padding-right: 1em; text-align: center; vertical-align: top\">0</td>\n",
       "    </tr>\n",
       "    <tr>\n",
       "        <td style=\"padding-left: 1em; padding-right: 1em; text-align: center; vertical-align: top\">00000c289a1829a808ac09c00<br>daf10bc3c4e223b ...</td>\n",
       "        <td style=\"padding-left: 1em; padding-right: 1em; text-align: center; vertical-align: top\">3d6bbeb7-f90e-<br>4d10-b440-e153c0d10b53 ...</td>\n",
       "        <td style=\"padding-left: 1em; padding-right: 1em; text-align: center; vertical-align: top\">0</td>\n",
       "    </tr>\n",
       "    <tr>\n",
       "        <td style=\"padding-left: 1em; padding-right: 1em; text-align: center; vertical-align: top\">00000c289a1829a808ac09c00<br>daf10bc3c4e223b ...</td>\n",
       "        <td style=\"padding-left: 1em; padding-right: 1em; text-align: center; vertical-align: top\">9fdaa16b-a6c4-4831-b87c-<br>bc9ca8ce7eaa ...</td>\n",
       "        <td style=\"padding-left: 1em; padding-right: 1em; text-align: center; vertical-align: top\">0</td>\n",
       "    </tr>\n",
       "    <tr>\n",
       "        <td style=\"padding-left: 1em; padding-right: 1em; text-align: center; vertical-align: top\">00000c289a1829a808ac09c00<br>daf10bc3c4e223b ...</td>\n",
       "        <td style=\"padding-left: 1em; padding-right: 1em; text-align: center; vertical-align: top\">e8374874-4178-4869-b92e-<br>fef6bf30dc04 ...</td>\n",
       "        <td style=\"padding-left: 1em; padding-right: 1em; text-align: center; vertical-align: top\">0</td>\n",
       "    </tr>\n",
       "</table>\n",
       "[3254976 rows x 3 columns]<br/>Note: Only the head of the SFrame is printed.<br/>You can use print_rows(num_rows=m, num_columns=n) to print more rows and columns.\n",
       "</div>"
      ],
      "text/plain": [
       "Columns:\n",
       "\tuser_id\tstr\n",
       "\titem_id\tstr\n",
       "\tplays\tint\n",
       "\n",
       "Rows: 3254976\n",
       "\n",
       "Data:\n",
       "+-------------------------------+-------------------------------+-------+\n",
       "|            user_id            |            item_id            | plays |\n",
       "+-------------------------------+-------------------------------+-------+\n",
       "| 00000c289a1829a808ac09c00d... | fb01635c-51fc-4cad-b71f-62... |   0   |\n",
       "| 00000c289a1829a808ac09c00d... | 83998f9c-846b-4294-aede-d7... |   0   |\n",
       "| 00000c289a1829a808ac09c00d... | b071f9fa-14b0-4217-8e97-eb... |   0   |\n",
       "| 00000c289a1829a808ac09c00d... | 144ef525-85e9-40c3-8335-02... |   0   |\n",
       "| 00000c289a1829a808ac09c00d... | 8000598a-5edb-401c-8e6d-36... |   0   |\n",
       "| 00000c289a1829a808ac09c00d... | 7b885d42-3c41-4f43-9944-a5... |   0   |\n",
       "| 00000c289a1829a808ac09c00d... | c995a379-60b9-404b-bd97-a7... |   0   |\n",
       "| 00000c289a1829a808ac09c00d... | 3d6bbeb7-f90e-4d10-b440-e1... |   0   |\n",
       "| 00000c289a1829a808ac09c00d... | 9fdaa16b-a6c4-4831-b87c-bc... |   0   |\n",
       "| 00000c289a1829a808ac09c00d... | e8374874-4178-4869-b92e-fe... |   0   |\n",
       "+-------------------------------+-------------------------------+-------+\n",
       "[3254976 rows x 3 columns]\n",
       "Note: Only the head of the SFrame is printed.\n",
       "You can use print_rows(num_rows=m, num_columns=n) to print more rows and columns."
      ]
     },
     "execution_count": 97,
     "metadata": {},
     "output_type": "execute_result"
    }
   ],
   "source": [
    "sf_train = gl.SFrame.read_csv(\"data/traindf\", header=True, verbose=False, column_type_hints={\"plays\":int})\n",
    "sf_train.remove_column('X1')\n",
    "sf_train.rename({'user':'user_id', \"artist\": \"item_id\"})"
   ]
  },
  {
   "cell_type": "code",
   "execution_count": 98,
   "metadata": {
    "collapsed": false
   },
   "outputs": [
    {
     "data": {
      "text/html": [
       "<div style=\"max-height:1000px;max-width:1500px;overflow:auto;\"><table frame=\"box\" rules=\"cols\">\n",
       "    <tr>\n",
       "        <th style=\"padding-left: 1em; padding-right: 1em; text-align: center\">user_id</th>\n",
       "        <th style=\"padding-left: 1em; padding-right: 1em; text-align: center\">item_id</th>\n",
       "        <th style=\"padding-left: 1em; padding-right: 1em; text-align: center\">plays</th>\n",
       "    </tr>\n",
       "    <tr>\n",
       "        <td style=\"padding-left: 1em; padding-right: 1em; text-align: center; vertical-align: top\">00001411dc427966b17297bf4<br>d69e7e193135d89 ...</td>\n",
       "        <td style=\"padding-left: 1em; padding-right: 1em; text-align: center; vertical-align: top\">2c916f95-f6ba-46fa-<br>b9d8-dc0d9379f603 ...</td>\n",
       "        <td style=\"padding-left: 1em; padding-right: 1em; text-align: center; vertical-align: top\">0</td>\n",
       "    </tr>\n",
       "    <tr>\n",
       "        <td style=\"padding-left: 1em; padding-right: 1em; text-align: center; vertical-align: top\">00001411dc427966b17297bf4<br>d69e7e193135d89 ...</td>\n",
       "        <td style=\"padding-left: 1em; padding-right: 1em; text-align: center; vertical-align: top\">5aeb21a3-4606-4a0d-8369-5<br>0c768d1e99a ...</td>\n",
       "        <td style=\"padding-left: 1em; padding-right: 1em; text-align: center; vertical-align: top\">0</td>\n",
       "    </tr>\n",
       "    <tr>\n",
       "        <td style=\"padding-left: 1em; padding-right: 1em; text-align: center; vertical-align: top\">00001411dc427966b17297bf4<br>d69e7e193135d89 ...</td>\n",
       "        <td style=\"padding-left: 1em; padding-right: 1em; text-align: center; vertical-align: top\">7b52603c-a84c-<br>4a76-8dc8-899bb4dd9fa7 ...</td>\n",
       "        <td style=\"padding-left: 1em; padding-right: 1em; text-align: center; vertical-align: top\">0</td>\n",
       "    </tr>\n",
       "    <tr>\n",
       "        <td style=\"padding-left: 1em; padding-right: 1em; text-align: center; vertical-align: top\">00001411dc427966b17297bf4<br>d69e7e193135d89 ...</td>\n",
       "        <td style=\"padding-left: 1em; padding-right: 1em; text-align: center; vertical-align: top\">c485632c-b784-4ee9-8ea1-c<br>5fb365681fc ...</td>\n",
       "        <td style=\"padding-left: 1em; padding-right: 1em; text-align: center; vertical-align: top\">0</td>\n",
       "    </tr>\n",
       "    <tr>\n",
       "        <td style=\"padding-left: 1em; padding-right: 1em; text-align: center; vertical-align: top\">000063d3fe1cf2ba248b9e3c3<br>f0334845a27a6bf ...</td>\n",
       "        <td style=\"padding-left: 1em; padding-right: 1em; text-align: center; vertical-align: top\">24f1766e-9635-4d58-a4d4-9<br>413f9f98a4c ...</td>\n",
       "        <td style=\"padding-left: 1em; padding-right: 1em; text-align: center; vertical-align: top\">0</td>\n",
       "    </tr>\n",
       "    <tr>\n",
       "        <td style=\"padding-left: 1em; padding-right: 1em; text-align: center; vertical-align: top\">000063d3fe1cf2ba248b9e3c3<br>f0334845a27a6bf ...</td>\n",
       "        <td style=\"padding-left: 1em; padding-right: 1em; text-align: center; vertical-align: top\">17167af8-c1da-45cc-<br>bba2-9d23f068b7a3 ...</td>\n",
       "        <td style=\"padding-left: 1em; padding-right: 1em; text-align: center; vertical-align: top\">0</td>\n",
       "    </tr>\n",
       "    <tr>\n",
       "        <td style=\"padding-left: 1em; padding-right: 1em; text-align: center; vertical-align: top\">000063d3fe1cf2ba248b9e3c3<br>f0334845a27a6bf ...</td>\n",
       "        <td style=\"padding-left: 1em; padding-right: 1em; text-align: center; vertical-align: top\">ef58d4c9-0d40-42ba-bfab-<br>9186c1483edd ...</td>\n",
       "        <td style=\"padding-left: 1em; padding-right: 1em; text-align: center; vertical-align: top\">0</td>\n",
       "    </tr>\n",
       "    <tr>\n",
       "        <td style=\"padding-left: 1em; padding-right: 1em; text-align: center; vertical-align: top\">000063d3fe1cf2ba248b9e3c3<br>f0334845a27a6bf ...</td>\n",
       "        <td style=\"padding-left: 1em; padding-right: 1em; text-align: center; vertical-align: top\">61ed9c9c-79eb-<br>4e8f-8015-bd599ac0ab49 ...</td>\n",
       "        <td style=\"padding-left: 1em; padding-right: 1em; text-align: center; vertical-align: top\">0</td>\n",
       "    </tr>\n",
       "    <tr>\n",
       "        <td style=\"padding-left: 1em; padding-right: 1em; text-align: center; vertical-align: top\">00007a47085b9aab8af55f52e<br>c8846ac479ac4fe ...</td>\n",
       "        <td style=\"padding-left: 1em; padding-right: 1em; text-align: center; vertical-align: top\">328068c9-ee60-408e-<br>8c24-b1dc1ae08b94 ...</td>\n",
       "        <td style=\"padding-left: 1em; padding-right: 1em; text-align: center; vertical-align: top\">0</td>\n",
       "    </tr>\n",
       "    <tr>\n",
       "        <td style=\"padding-left: 1em; padding-right: 1em; text-align: center; vertical-align: top\">00007a47085b9aab8af55f52e<br>c8846ac479ac4fe ...</td>\n",
       "        <td style=\"padding-left: 1em; padding-right: 1em; text-align: center; vertical-align: top\">0a77bec1-12ef-4caa-b36a-<br>f533001fcd29 ...</td>\n",
       "        <td style=\"padding-left: 1em; padding-right: 1em; text-align: center; vertical-align: top\">0</td>\n",
       "    </tr>\n",
       "</table>\n",
       "[899828 rows x 3 columns]<br/>Note: Only the head of the SFrame is printed.<br/>You can use print_rows(num_rows=m, num_columns=n) to print more rows and columns.\n",
       "</div>"
      ],
      "text/plain": [
       "Columns:\n",
       "\tuser_id\tstr\n",
       "\titem_id\tstr\n",
       "\tplays\tint\n",
       "\n",
       "Rows: 899828\n",
       "\n",
       "Data:\n",
       "+-------------------------------+-------------------------------+-------+\n",
       "|            user_id            |            item_id            | plays |\n",
       "+-------------------------------+-------------------------------+-------+\n",
       "| 00001411dc427966b17297bf4d... | 2c916f95-f6ba-46fa-b9d8-dc... |   0   |\n",
       "| 00001411dc427966b17297bf4d... | 5aeb21a3-4606-4a0d-8369-50... |   0   |\n",
       "| 00001411dc427966b17297bf4d... | 7b52603c-a84c-4a76-8dc8-89... |   0   |\n",
       "| 00001411dc427966b17297bf4d... | c485632c-b784-4ee9-8ea1-c5... |   0   |\n",
       "| 000063d3fe1cf2ba248b9e3c3f... | 24f1766e-9635-4d58-a4d4-94... |   0   |\n",
       "| 000063d3fe1cf2ba248b9e3c3f... | 17167af8-c1da-45cc-bba2-9d... |   0   |\n",
       "| 000063d3fe1cf2ba248b9e3c3f... | ef58d4c9-0d40-42ba-bfab-91... |   0   |\n",
       "| 000063d3fe1cf2ba248b9e3c3f... | 61ed9c9c-79eb-4e8f-8015-bd... |   0   |\n",
       "| 00007a47085b9aab8af55f52ec... | 328068c9-ee60-408e-8c24-b1... |   0   |\n",
       "| 00007a47085b9aab8af55f52ec... | 0a77bec1-12ef-4caa-b36a-f5... |   0   |\n",
       "+-------------------------------+-------------------------------+-------+\n",
       "[899828 rows x 3 columns]\n",
       "Note: Only the head of the SFrame is printed.\n",
       "You can use print_rows(num_rows=m, num_columns=n) to print more rows and columns."
      ]
     },
     "execution_count": 98,
     "metadata": {},
     "output_type": "execute_result"
    }
   ],
   "source": [
    "sf_validate = gl.SFrame.read_csv(\"data/validatedf\", header=True, verbose=False, column_type_hints={\"plays\":int})\n",
    "sf_validate.remove_column('X1')\n",
    "sf_validate.rename({'user':'user_id', \"artist\": \"item_id\"})"
   ]
  },
  {
   "cell_type": "code",
   "execution_count": 99,
   "metadata": {
    "collapsed": false
   },
   "outputs": [
    {
     "data": {
      "text/html": [
       "<div style=\"max-height:1000px;max-width:1500px;overflow:auto;\"><table frame=\"box\" rules=\"cols\">\n",
       "    <tr>\n",
       "        <th style=\"padding-left: 1em; padding-right: 1em; text-align: center\">Id</th>\n",
       "        <th style=\"padding-left: 1em; padding-right: 1em; text-align: center\">user_id</th>\n",
       "        <th style=\"padding-left: 1em; padding-right: 1em; text-align: center\">item_id</th>\n",
       "    </tr>\n",
       "    <tr>\n",
       "        <td style=\"padding-left: 1em; padding-right: 1em; text-align: center; vertical-align: top\">1</td>\n",
       "        <td style=\"padding-left: 1em; padding-right: 1em; text-align: center; vertical-align: top\">306e19cce2522fa2d39ff5dfc<br>870992100ec22d2 ...</td>\n",
       "        <td style=\"padding-left: 1em; padding-right: 1em; text-align: center; vertical-align: top\">4ac4e32b-bd18-402e-adad-<br>ae00e72f8d85 ...</td>\n",
       "    </tr>\n",
       "    <tr>\n",
       "        <td style=\"padding-left: 1em; padding-right: 1em; text-align: center; vertical-align: top\">2</td>\n",
       "        <td style=\"padding-left: 1em; padding-right: 1em; text-align: center; vertical-align: top\">9450d351278df4938bdea4ed8<br>6aec940a4e927ac ...</td>\n",
       "        <td style=\"padding-left: 1em; padding-right: 1em; text-align: center; vertical-align: top\">1f574ab1-a46d-4586-9331-f<br>0ded23e0411 ...</td>\n",
       "    </tr>\n",
       "    <tr>\n",
       "        <td style=\"padding-left: 1em; padding-right: 1em; text-align: center; vertical-align: top\">3</td>\n",
       "        <td style=\"padding-left: 1em; padding-right: 1em; text-align: center; vertical-align: top\">801909d6955f59033c88595d3<br>d7f8a6a5dcd53cc ...</td>\n",
       "        <td style=\"padding-left: 1em; padding-right: 1em; text-align: center; vertical-align: top\">3eb72791-6322-466b-<br>87d3-24d74901eb2d ...</td>\n",
       "    </tr>\n",
       "    <tr>\n",
       "        <td style=\"padding-left: 1em; padding-right: 1em; text-align: center; vertical-align: top\">4</td>\n",
       "        <td style=\"padding-left: 1em; padding-right: 1em; text-align: center; vertical-align: top\">e3ed47445c127fbeff47fb58f<br>6bbf2f3b4535d82 ...</td>\n",
       "        <td style=\"padding-left: 1em; padding-right: 1em; text-align: center; vertical-align: top\">61604b45-8a91-4e33-a1b6-4<br>5d7b1fec4e5 ...</td>\n",
       "    </tr>\n",
       "    <tr>\n",
       "        <td style=\"padding-left: 1em; padding-right: 1em; text-align: center; vertical-align: top\">5</td>\n",
       "        <td style=\"padding-left: 1em; padding-right: 1em; text-align: center; vertical-align: top\">a73f46652103f3a5f74291593<br>10f6928f79644aa ...</td>\n",
       "        <td style=\"padding-left: 1em; padding-right: 1em; text-align: center; vertical-align: top\">5dfdca28-9ddc-4853-933c-<br>8bc97d87beec ...</td>\n",
       "    </tr>\n",
       "    <tr>\n",
       "        <td style=\"padding-left: 1em; padding-right: 1em; text-align: center; vertical-align: top\">6</td>\n",
       "        <td style=\"padding-left: 1em; padding-right: 1em; text-align: center; vertical-align: top\">55f1c89e3a102de38a0bdfcb1<br>fe660b028c5c0af ...</td>\n",
       "        <td style=\"padding-left: 1em; padding-right: 1em; text-align: center; vertical-align: top\">ef58d4c9-0d40-42ba-bfab-<br>9186c1483edd ...</td>\n",
       "    </tr>\n",
       "    <tr>\n",
       "        <td style=\"padding-left: 1em; padding-right: 1em; text-align: center; vertical-align: top\">7</td>\n",
       "        <td style=\"padding-left: 1em; padding-right: 1em; text-align: center; vertical-align: top\">7ad7619f38bf52de421b795f3<br>159949422b5bbee ...</td>\n",
       "        <td style=\"padding-left: 1em; padding-right: 1em; text-align: center; vertical-align: top\">a3cb23fc-acd3-4ce0-8f36-1<br>e5aa6a18432 ...</td>\n",
       "    </tr>\n",
       "    <tr>\n",
       "        <td style=\"padding-left: 1em; padding-right: 1em; text-align: center; vertical-align: top\">8</td>\n",
       "        <td style=\"padding-left: 1em; padding-right: 1em; text-align: center; vertical-align: top\">2a1ab291185cfc6fb99655648<br>1e178666e9731f9 ...</td>\n",
       "        <td style=\"padding-left: 1em; padding-right: 1em; text-align: center; vertical-align: top\">5dfdca28-9ddc-4853-933c-<br>8bc97d87beec ...</td>\n",
       "    </tr>\n",
       "    <tr>\n",
       "        <td style=\"padding-left: 1em; padding-right: 1em; text-align: center; vertical-align: top\">9</td>\n",
       "        <td style=\"padding-left: 1em; padding-right: 1em; text-align: center; vertical-align: top\">3f407fff902ab403f06668f6b<br>e3d10bb9e9a02cd ...</td>\n",
       "        <td style=\"padding-left: 1em; padding-right: 1em; text-align: center; vertical-align: top\">000fc734-b7e1-4a01-92d1-f<br>544261b43f5 ...</td>\n",
       "    </tr>\n",
       "    <tr>\n",
       "        <td style=\"padding-left: 1em; padding-right: 1em; text-align: center; vertical-align: top\">10</td>\n",
       "        <td style=\"padding-left: 1em; padding-right: 1em; text-align: center; vertical-align: top\">2eea5a2b68e6e9e0d9dd6b3c1<br>c0e1e5840fc9ce3 ...</td>\n",
       "        <td style=\"padding-left: 1em; padding-right: 1em; text-align: center; vertical-align: top\">84783313-2a3f-4f17-ab9a-<br>425a5d527879 ...</td>\n",
       "    </tr>\n",
       "</table>\n",
       "[4154804 rows x 3 columns]<br/>Note: Only the head of the SFrame is printed.<br/>You can use print_rows(num_rows=m, num_columns=n) to print more rows and columns.\n",
       "</div>"
      ],
      "text/plain": [
       "Columns:\n",
       "\tId\tint\n",
       "\tuser_id\tstr\n",
       "\titem_id\tstr\n",
       "\n",
       "Rows: 4154804\n",
       "\n",
       "Data:\n",
       "+----+-------------------------------+-------------------------------+\n",
       "| Id |            user_id            |            item_id            |\n",
       "+----+-------------------------------+-------------------------------+\n",
       "| 1  | 306e19cce2522fa2d39ff5dfc8... | 4ac4e32b-bd18-402e-adad-ae... |\n",
       "| 2  | 9450d351278df4938bdea4ed86... | 1f574ab1-a46d-4586-9331-f0... |\n",
       "| 3  | 801909d6955f59033c88595d3d... | 3eb72791-6322-466b-87d3-24... |\n",
       "| 4  | e3ed47445c127fbeff47fb58f6... | 61604b45-8a91-4e33-a1b6-45... |\n",
       "| 5  | a73f46652103f3a5f742915931... | 5dfdca28-9ddc-4853-933c-8b... |\n",
       "| 6  | 55f1c89e3a102de38a0bdfcb1f... | ef58d4c9-0d40-42ba-bfab-91... |\n",
       "| 7  | 7ad7619f38bf52de421b795f31... | a3cb23fc-acd3-4ce0-8f36-1e... |\n",
       "| 8  | 2a1ab291185cfc6fb996556481... | 5dfdca28-9ddc-4853-933c-8b... |\n",
       "| 9  | 3f407fff902ab403f06668f6be... | 000fc734-b7e1-4a01-92d1-f5... |\n",
       "| 10 | 2eea5a2b68e6e9e0d9dd6b3c1c... | 84783313-2a3f-4f17-ab9a-42... |\n",
       "+----+-------------------------------+-------------------------------+\n",
       "[4154804 rows x 3 columns]\n",
       "Note: Only the head of the SFrame is printed.\n",
       "You can use print_rows(num_rows=m, num_columns=n) to print more rows and columns."
      ]
     },
     "execution_count": 99,
     "metadata": {},
     "output_type": "execute_result"
    }
   ],
   "source": [
    "sf_test = gl.SFrame.read_csv(test_file, header=True, verbose=False)\n",
    "sf_test.rename({'user':'user_id', \"artist\": \"item_id\"})"
   ]
  },
  {
   "cell_type": "code",
   "execution_count": 100,
   "metadata": {
    "collapsed": true
   },
   "outputs": [],
   "source": [
    "#### Models ####"
   ]
  },
  {
   "cell_type": "code",
   "execution_count": 101,
   "metadata": {
    "collapsed": false
   },
   "outputs": [
    {
     "data": {
      "text/html": [
       "<pre>Recsys training: model = item_similarity</pre>"
      ],
      "text/plain": [
       "Recsys training: model = item_similarity"
      ]
     },
     "metadata": {},
     "output_type": "display_data"
    },
    {
     "data": {
      "text/html": [
       "<pre>Preparing data set.</pre>"
      ],
      "text/plain": [
       "Preparing data set."
      ]
     },
     "metadata": {},
     "output_type": "display_data"
    },
    {
     "data": {
      "text/html": [
       "<pre>    Data has 3254976 observations with 233286 users and 2000 items.</pre>"
      ],
      "text/plain": [
       "    Data has 3254976 observations with 233286 users and 2000 items."
      ]
     },
     "metadata": {},
     "output_type": "display_data"
    },
    {
     "data": {
      "text/html": [
       "<pre>    Data prepared in: 5.71287s</pre>"
      ],
      "text/plain": [
       "    Data prepared in: 5.71287s"
      ]
     },
     "metadata": {},
     "output_type": "display_data"
    },
    {
     "data": {
      "text/html": [
       "<pre>Computing item similarity statistics:</pre>"
      ],
      "text/plain": [
       "Computing item similarity statistics:"
      ]
     },
     "metadata": {},
     "output_type": "display_data"
    },
    {
     "data": {
      "text/html": [
       "<pre>+-----------------+-----------------+</pre>"
      ],
      "text/plain": [
       "+-----------------+-----------------+"
      ]
     },
     "metadata": {},
     "output_type": "display_data"
    },
    {
     "data": {
      "text/html": [
       "<pre>| Number of users | Elapsed Time    |</pre>"
      ],
      "text/plain": [
       "| Number of users | Elapsed Time    |"
      ]
     },
     "metadata": {},
     "output_type": "display_data"
    },
    {
     "data": {
      "text/html": [
       "<pre>+-----------------+-----------------+</pre>"
      ],
      "text/plain": [
       "+-----------------+-----------------+"
      ]
     },
     "metadata": {},
     "output_type": "display_data"
    },
    {
     "data": {
      "text/html": [
       "<pre>| 100000          | 0.181477        |</pre>"
      ],
      "text/plain": [
       "| 100000          | 0.181477        |"
      ]
     },
     "metadata": {},
     "output_type": "display_data"
    },
    {
     "data": {
      "text/html": [
       "<pre>| 200000          | 0.366375        |</pre>"
      ],
      "text/plain": [
       "| 200000          | 0.366375        |"
      ]
     },
     "metadata": {},
     "output_type": "display_data"
    },
    {
     "data": {
      "text/html": [
       "<pre>+-----------------+-----------------+</pre>"
      ],
      "text/plain": [
       "+-----------------+-----------------+"
      ]
     },
     "metadata": {},
     "output_type": "display_data"
    },
    {
     "data": {
      "text/html": [
       "<pre>Computing most similar items for 2000 items:</pre>"
      ],
      "text/plain": [
       "Computing most similar items for 2000 items:"
      ]
     },
     "metadata": {},
     "output_type": "display_data"
    },
    {
     "data": {
      "text/html": [
       "<pre>+-----------------+-----------------+</pre>"
      ],
      "text/plain": [
       "+-----------------+-----------------+"
      ]
     },
     "metadata": {},
     "output_type": "display_data"
    },
    {
     "data": {
      "text/html": [
       "<pre>| Number of items | Elapsed Time    |</pre>"
      ],
      "text/plain": [
       "| Number of items | Elapsed Time    |"
      ]
     },
     "metadata": {},
     "output_type": "display_data"
    },
    {
     "data": {
      "text/html": [
       "<pre>+-----------------+-----------------+</pre>"
      ],
      "text/plain": [
       "+-----------------+-----------------+"
      ]
     },
     "metadata": {},
     "output_type": "display_data"
    },
    {
     "data": {
      "text/html": [
       "<pre>| 1000            | 0.583012        |</pre>"
      ],
      "text/plain": [
       "| 1000            | 0.583012        |"
      ]
     },
     "metadata": {},
     "output_type": "display_data"
    },
    {
     "data": {
      "text/html": [
       "<pre>| 2000            | 0.646903        |</pre>"
      ],
      "text/plain": [
       "| 2000            | 0.646903        |"
      ]
     },
     "metadata": {},
     "output_type": "display_data"
    },
    {
     "data": {
      "text/html": [
       "<pre>+-----------------+-----------------+</pre>"
      ],
      "text/plain": [
       "+-----------------+-----------------+"
      ]
     },
     "metadata": {},
     "output_type": "display_data"
    },
    {
     "data": {
      "text/html": [
       "<pre>Finished training in 1.04038s</pre>"
      ],
      "text/plain": [
       "Finished training in 1.04038s"
      ]
     },
     "metadata": {},
     "output_type": "display_data"
    },
    {
     "data": {
      "text/html": [
       "<pre>Finished prediction in 2.29582s</pre>"
      ],
      "text/plain": [
       "Finished prediction in 2.29582s"
      ]
     },
     "metadata": {},
     "output_type": "display_data"
    },
    {
     "data": {
      "text/html": [
       "<pre>Finished prediction in 0.801723s</pre>"
      ],
      "text/plain": [
       "Finished prediction in 0.801723s"
      ]
     },
     "metadata": {},
     "output_type": "display_data"
    }
   ],
   "source": [
    "#### Item Similarity Models (Jaccard similarity) ####\n",
    "item_sim_model_jaccard = gl.item_similarity_recommender.create(sf_train, user_id=\"user_id\", item_id=\"item_id\", target=\"plays\")\n",
    "\n",
    "result_item_sim_model_jaccard = item_sim_model_jaccard.predict(sf_validate)\n",
    "\n",
    "predictions['item_sim_model_jaccard'] = result_item_sim_model_jaccard"
   ]
  },
  {
   "cell_type": "code",
   "execution_count": 102,
   "metadata": {
    "collapsed": false
   },
   "outputs": [
    {
     "data": {
      "text/html": [
       "<pre>Recsys training: model = item_similarity</pre>"
      ],
      "text/plain": [
       "Recsys training: model = item_similarity"
      ]
     },
     "metadata": {},
     "output_type": "display_data"
    },
    {
     "data": {
      "text/html": [
       "<pre>Preparing data set.</pre>"
      ],
      "text/plain": [
       "Preparing data set."
      ]
     },
     "metadata": {},
     "output_type": "display_data"
    },
    {
     "data": {
      "text/html": [
       "<pre>    Data has 3254976 observations with 233286 users and 2000 items.</pre>"
      ],
      "text/plain": [
       "    Data has 3254976 observations with 233286 users and 2000 items."
      ]
     },
     "metadata": {},
     "output_type": "display_data"
    },
    {
     "data": {
      "text/html": [
       "<pre>    Data prepared in: 7.13704s</pre>"
      ],
      "text/plain": [
       "    Data prepared in: 7.13704s"
      ]
     },
     "metadata": {},
     "output_type": "display_data"
    },
    {
     "data": {
      "text/html": [
       "<pre>Computing item similarity statistics:</pre>"
      ],
      "text/plain": [
       "Computing item similarity statistics:"
      ]
     },
     "metadata": {},
     "output_type": "display_data"
    },
    {
     "data": {
      "text/html": [
       "<pre>+-----------------+-----------------+</pre>"
      ],
      "text/plain": [
       "+-----------------+-----------------+"
      ]
     },
     "metadata": {},
     "output_type": "display_data"
    },
    {
     "data": {
      "text/html": [
       "<pre>| Number of users | Elapsed Time    |</pre>"
      ],
      "text/plain": [
       "| Number of users | Elapsed Time    |"
      ]
     },
     "metadata": {},
     "output_type": "display_data"
    },
    {
     "data": {
      "text/html": [
       "<pre>+-----------------+-----------------+</pre>"
      ],
      "text/plain": [
       "+-----------------+-----------------+"
      ]
     },
     "metadata": {},
     "output_type": "display_data"
    },
    {
     "data": {
      "text/html": [
       "<pre>| 100000          | 0.275647        |</pre>"
      ],
      "text/plain": [
       "| 100000          | 0.275647        |"
      ]
     },
     "metadata": {},
     "output_type": "display_data"
    },
    {
     "data": {
      "text/html": [
       "<pre>| 200000          | 0.501944        |</pre>"
      ],
      "text/plain": [
       "| 200000          | 0.501944        |"
      ]
     },
     "metadata": {},
     "output_type": "display_data"
    },
    {
     "data": {
      "text/html": [
       "<pre>+-----------------+-----------------+</pre>"
      ],
      "text/plain": [
       "+-----------------+-----------------+"
      ]
     },
     "metadata": {},
     "output_type": "display_data"
    },
    {
     "data": {
      "text/html": [
       "<pre>Computing most similar items for 2000 items:</pre>"
      ],
      "text/plain": [
       "Computing most similar items for 2000 items:"
      ]
     },
     "metadata": {},
     "output_type": "display_data"
    },
    {
     "data": {
      "text/html": [
       "<pre>+-----------------+-----------------+</pre>"
      ],
      "text/plain": [
       "+-----------------+-----------------+"
      ]
     },
     "metadata": {},
     "output_type": "display_data"
    },
    {
     "data": {
      "text/html": [
       "<pre>| Number of items | Elapsed Time    |</pre>"
      ],
      "text/plain": [
       "| Number of items | Elapsed Time    |"
      ]
     },
     "metadata": {},
     "output_type": "display_data"
    },
    {
     "data": {
      "text/html": [
       "<pre>+-----------------+-----------------+</pre>"
      ],
      "text/plain": [
       "+-----------------+-----------------+"
      ]
     },
     "metadata": {},
     "output_type": "display_data"
    },
    {
     "data": {
      "text/html": [
       "<pre>| 1000            | 0.666016        |</pre>"
      ],
      "text/plain": [
       "| 1000            | 0.666016        |"
      ]
     },
     "metadata": {},
     "output_type": "display_data"
    },
    {
     "data": {
      "text/html": [
       "<pre>| 2000            | 0.674472        |</pre>"
      ],
      "text/plain": [
       "| 2000            | 0.674472        |"
      ]
     },
     "metadata": {},
     "output_type": "display_data"
    },
    {
     "data": {
      "text/html": [
       "<pre>+-----------------+-----------------+</pre>"
      ],
      "text/plain": [
       "+-----------------+-----------------+"
      ]
     },
     "metadata": {},
     "output_type": "display_data"
    },
    {
     "data": {
      "text/html": [
       "<pre>Finished training in 1.14671s</pre>"
      ],
      "text/plain": [
       "Finished training in 1.14671s"
      ]
     },
     "metadata": {},
     "output_type": "display_data"
    },
    {
     "data": {
      "text/html": [
       "<pre>Finished prediction in 0.67475s</pre>"
      ],
      "text/plain": [
       "Finished prediction in 0.67475s"
      ]
     },
     "metadata": {},
     "output_type": "display_data"
    },
    {
     "data": {
      "text/html": [
       "<pre>Finished prediction in 0.484132s</pre>"
      ],
      "text/plain": [
       "Finished prediction in 0.484132s"
      ]
     },
     "metadata": {},
     "output_type": "display_data"
    }
   ],
   "source": [
    "#### Item Similarity Models (Cosine similarity) ####\n",
    "item_sim_model_cosine = gl.item_similarity_recommender.create(sf_train, user_id=\"user_id\", item_id=\"item_id\", target=\"plays\", similarity_type=\"cosine\")\n",
    "\n",
    "result_item_sim_model_cosine = item_sim_model_cosine.predict(sf_validate)\n",
    "\n",
    "predictions['item_sim_model_cosine'] = result_item_sim_model_cosine"
   ]
  },
  {
   "cell_type": "code",
   "execution_count": 103,
   "metadata": {
    "collapsed": false
   },
   "outputs": [
    {
     "data": {
      "text/html": [
       "<pre>Recsys training: model = item_similarity</pre>"
      ],
      "text/plain": [
       "Recsys training: model = item_similarity"
      ]
     },
     "metadata": {},
     "output_type": "display_data"
    },
    {
     "data": {
      "text/html": [
       "<pre>Preparing data set.</pre>"
      ],
      "text/plain": [
       "Preparing data set."
      ]
     },
     "metadata": {},
     "output_type": "display_data"
    },
    {
     "data": {
      "text/html": [
       "<pre>    Data has 3254976 observations with 233286 users and 2000 items.</pre>"
      ],
      "text/plain": [
       "    Data has 3254976 observations with 233286 users and 2000 items."
      ]
     },
     "metadata": {},
     "output_type": "display_data"
    },
    {
     "data": {
      "text/html": [
       "<pre>    Data prepared in: 7.10206s</pre>"
      ],
      "text/plain": [
       "    Data prepared in: 7.10206s"
      ]
     },
     "metadata": {},
     "output_type": "display_data"
    },
    {
     "data": {
      "text/html": [
       "<pre>Computing item similarity statistics:</pre>"
      ],
      "text/plain": [
       "Computing item similarity statistics:"
      ]
     },
     "metadata": {},
     "output_type": "display_data"
    },
    {
     "data": {
      "text/html": [
       "<pre>+-----------------+-----------------+</pre>"
      ],
      "text/plain": [
       "+-----------------+-----------------+"
      ]
     },
     "metadata": {},
     "output_type": "display_data"
    },
    {
     "data": {
      "text/html": [
       "<pre>| Number of users | Elapsed Time    |</pre>"
      ],
      "text/plain": [
       "| Number of users | Elapsed Time    |"
      ]
     },
     "metadata": {},
     "output_type": "display_data"
    },
    {
     "data": {
      "text/html": [
       "<pre>+-----------------+-----------------+</pre>"
      ],
      "text/plain": [
       "+-----------------+-----------------+"
      ]
     },
     "metadata": {},
     "output_type": "display_data"
    },
    {
     "data": {
      "text/html": [
       "<pre>| 100000          | 0.303574        |</pre>"
      ],
      "text/plain": [
       "| 100000          | 0.303574        |"
      ]
     },
     "metadata": {},
     "output_type": "display_data"
    },
    {
     "data": {
      "text/html": [
       "<pre>| 200000          | 0.543655        |</pre>"
      ],
      "text/plain": [
       "| 200000          | 0.543655        |"
      ]
     },
     "metadata": {},
     "output_type": "display_data"
    },
    {
     "data": {
      "text/html": [
       "<pre>+-----------------+-----------------+</pre>"
      ],
      "text/plain": [
       "+-----------------+-----------------+"
      ]
     },
     "metadata": {},
     "output_type": "display_data"
    },
    {
     "data": {
      "text/html": [
       "<pre>Computing most similar items for 2000 items:</pre>"
      ],
      "text/plain": [
       "Computing most similar items for 2000 items:"
      ]
     },
     "metadata": {},
     "output_type": "display_data"
    },
    {
     "data": {
      "text/html": [
       "<pre>+-----------------+-----------------+</pre>"
      ],
      "text/plain": [
       "+-----------------+-----------------+"
      ]
     },
     "metadata": {},
     "output_type": "display_data"
    },
    {
     "data": {
      "text/html": [
       "<pre>| Number of items | Elapsed Time    |</pre>"
      ],
      "text/plain": [
       "| Number of items | Elapsed Time    |"
      ]
     },
     "metadata": {},
     "output_type": "display_data"
    },
    {
     "data": {
      "text/html": [
       "<pre>+-----------------+-----------------+</pre>"
      ],
      "text/plain": [
       "+-----------------+-----------------+"
      ]
     },
     "metadata": {},
     "output_type": "display_data"
    },
    {
     "data": {
      "text/html": [
       "<pre>| 1000            | 0.65096         |</pre>"
      ],
      "text/plain": [
       "| 1000            | 0.65096         |"
      ]
     },
     "metadata": {},
     "output_type": "display_data"
    },
    {
     "data": {
      "text/html": [
       "<pre>| 2000            | 0.657753        |</pre>"
      ],
      "text/plain": [
       "| 2000            | 0.657753        |"
      ]
     },
     "metadata": {},
     "output_type": "display_data"
    },
    {
     "data": {
      "text/html": [
       "<pre>+-----------------+-----------------+</pre>"
      ],
      "text/plain": [
       "+-----------------+-----------------+"
      ]
     },
     "metadata": {},
     "output_type": "display_data"
    },
    {
     "data": {
      "text/html": [
       "<pre>Finished training in 1.13231s</pre>"
      ],
      "text/plain": [
       "Finished training in 1.13231s"
      ]
     },
     "metadata": {},
     "output_type": "display_data"
    },
    {
     "data": {
      "text/html": [
       "<pre>Finished prediction in 0.727073s</pre>"
      ],
      "text/plain": [
       "Finished prediction in 0.727073s"
      ]
     },
     "metadata": {},
     "output_type": "display_data"
    },
    {
     "data": {
      "text/html": [
       "<pre>Finished prediction in 0.467631s</pre>"
      ],
      "text/plain": [
       "Finished prediction in 0.467631s"
      ]
     },
     "metadata": {},
     "output_type": "display_data"
    }
   ],
   "source": [
    "#### Item Similarity Models (Pearson similarity) ####\n",
    "item_sim_model_pearson = gl.item_similarity_recommender.create(sf_train, user_id=\"user_id\", item_id=\"item_id\", target=\"plays\", similarity_type=\"pearson\")\n",
    "\n",
    "result_item_sim_model_pearson = item_sim_model_pearson.predict(sf_validate)\n",
    "\n",
    "predictions['item_sim_model_pearson'] = result_item_sim_model_pearson"
   ]
  },
  {
   "cell_type": "code",
   "execution_count": 104,
   "metadata": {
    "collapsed": false
   },
   "outputs": [
    {
     "data": {
      "text/html": [
       "<pre>Recsys training: model = popularity</pre>"
      ],
      "text/plain": [
       "Recsys training: model = popularity"
      ]
     },
     "metadata": {},
     "output_type": "display_data"
    },
    {
     "data": {
      "text/html": [
       "<pre>Preparing data set.</pre>"
      ],
      "text/plain": [
       "Preparing data set."
      ]
     },
     "metadata": {},
     "output_type": "display_data"
    },
    {
     "data": {
      "text/html": [
       "<pre>    Data has 3254976 observations with 233286 users and 2000 items.</pre>"
      ],
      "text/plain": [
       "    Data has 3254976 observations with 233286 users and 2000 items."
      ]
     },
     "metadata": {},
     "output_type": "display_data"
    },
    {
     "data": {
      "text/html": [
       "<pre>    Data prepared in: 6.80934s</pre>"
      ],
      "text/plain": [
       "    Data prepared in: 6.80934s"
      ]
     },
     "metadata": {},
     "output_type": "display_data"
    },
    {
     "data": {
      "text/html": [
       "<pre>3254976 observations to process; with 2000 unique items.</pre>"
      ],
      "text/plain": [
       "3254976 observations to process; with 2000 unique items."
      ]
     },
     "metadata": {},
     "output_type": "display_data"
    }
   ],
   "source": [
    "#### Popularity Model  ####\n",
    "popularity_model = gl.popularity_recommender.create(sf_train, user_id=\"user_id\", item_id=\"item_id\", target=\"plays\")\n",
    "\n",
    "result_popularity_model = popularity_model.predict(sf_validate)\n",
    "\n",
    "predictions['popularity_model'] = result_popularity_model"
   ]
  },
  {
   "cell_type": "code",
   "execution_count": 109,
   "metadata": {
    "collapsed": false
   },
   "outputs": [
    {
     "data": {
      "text/html": [
       "<pre>Recsys training: model = factorization_recommender</pre>"
      ],
      "text/plain": [
       "Recsys training: model = factorization_recommender"
      ]
     },
     "metadata": {},
     "output_type": "display_data"
    },
    {
     "data": {
      "text/html": [
       "<pre>Preparing data set.</pre>"
      ],
      "text/plain": [
       "Preparing data set."
      ]
     },
     "metadata": {},
     "output_type": "display_data"
    },
    {
     "data": {
      "text/html": [
       "<pre>    Data has 3254976 observations with 233286 users and 2000 items.</pre>"
      ],
      "text/plain": [
       "    Data has 3254976 observations with 233286 users and 2000 items."
      ]
     },
     "metadata": {},
     "output_type": "display_data"
    },
    {
     "data": {
      "text/html": [
       "<pre>    Data prepared in: 4.63415s</pre>"
      ],
      "text/plain": [
       "    Data prepared in: 4.63415s"
      ]
     },
     "metadata": {},
     "output_type": "display_data"
    },
    {
     "data": {
      "text/html": [
       "<pre>Training factorization_recommender for recommendations.</pre>"
      ],
      "text/plain": [
       "Training factorization_recommender for recommendations."
      ]
     },
     "metadata": {},
     "output_type": "display_data"
    },
    {
     "data": {
      "text/html": [
       "<pre>+--------------------------------+--------------------------------------------------+----------+</pre>"
      ],
      "text/plain": [
       "+--------------------------------+--------------------------------------------------+----------+"
      ]
     },
     "metadata": {},
     "output_type": "display_data"
    },
    {
     "data": {
      "text/html": [
       "<pre>| Parameter                      | Description                                      | Value    |</pre>"
      ],
      "text/plain": [
       "| Parameter                      | Description                                      | Value    |"
      ]
     },
     "metadata": {},
     "output_type": "display_data"
    },
    {
     "data": {
      "text/html": [
       "<pre>+--------------------------------+--------------------------------------------------+----------+</pre>"
      ],
      "text/plain": [
       "+--------------------------------+--------------------------------------------------+----------+"
      ]
     },
     "metadata": {},
     "output_type": "display_data"
    },
    {
     "data": {
      "text/html": [
       "<pre>| num_factors                    | Factor Dimension                                 | 10       |</pre>"
      ],
      "text/plain": [
       "| num_factors                    | Factor Dimension                                 | 10       |"
      ]
     },
     "metadata": {},
     "output_type": "display_data"
    },
    {
     "data": {
      "text/html": [
       "<pre>| regularization                 | L2 Regularization on Factors                     | 0.0001   |</pre>"
      ],
      "text/plain": [
       "| regularization                 | L2 Regularization on Factors                     | 0.0001   |"
      ]
     },
     "metadata": {},
     "output_type": "display_data"
    },
    {
     "data": {
      "text/html": [
       "<pre>| solver                         | Solver used for training                         | adagrad  |</pre>"
      ],
      "text/plain": [
       "| solver                         | Solver used for training                         | adagrad  |"
      ]
     },
     "metadata": {},
     "output_type": "display_data"
    },
    {
     "data": {
      "text/html": [
       "<pre>| linear_regularization          | L2 Regularization on Linear Coefficients         | 1e-10    |</pre>"
      ],
      "text/plain": [
       "| linear_regularization          | L2 Regularization on Linear Coefficients         | 1e-10    |"
      ]
     },
     "metadata": {},
     "output_type": "display_data"
    },
    {
     "data": {
      "text/html": [
       "<pre>| side_data_factorization        | Assign Factors for Side Data                     | True     |</pre>"
      ],
      "text/plain": [
       "| side_data_factorization        | Assign Factors for Side Data                     | True     |"
      ]
     },
     "metadata": {},
     "output_type": "display_data"
    },
    {
     "data": {
      "text/html": [
       "<pre>| max_iterations                 | Maximum Number of Iterations                     | 500      |</pre>"
      ],
      "text/plain": [
       "| max_iterations                 | Maximum Number of Iterations                     | 500      |"
      ]
     },
     "metadata": {},
     "output_type": "display_data"
    },
    {
     "data": {
      "text/html": [
       "<pre>+--------------------------------+--------------------------------------------------+----------+</pre>"
      ],
      "text/plain": [
       "+--------------------------------+--------------------------------------------------+----------+"
      ]
     },
     "metadata": {},
     "output_type": "display_data"
    },
    {
     "data": {
      "text/html": [
       "<pre>  Optimizing model using SGD; tuning step size.</pre>"
      ],
      "text/plain": [
       "  Optimizing model using SGD; tuning step size."
      ]
     },
     "metadata": {},
     "output_type": "display_data"
    },
    {
     "data": {
      "text/html": [
       "<pre>  Using 406872 / 3254976 points for tuning the step size.</pre>"
      ],
      "text/plain": [
       "  Using 406872 / 3254976 points for tuning the step size."
      ]
     },
     "metadata": {},
     "output_type": "display_data"
    },
    {
     "data": {
      "text/html": [
       "<pre>+---------+-------------------+------------------------------------------+</pre>"
      ],
      "text/plain": [
       "+---------+-------------------+------------------------------------------+"
      ]
     },
     "metadata": {},
     "output_type": "display_data"
    },
    {
     "data": {
      "text/html": [
       "<pre>| Attempt | Initial Step Size | Estimated Objective Value                |</pre>"
      ],
      "text/plain": [
       "| Attempt | Initial Step Size | Estimated Objective Value                |"
      ]
     },
     "metadata": {},
     "output_type": "display_data"
    },
    {
     "data": {
      "text/html": [
       "<pre>+---------+-------------------+------------------------------------------+</pre>"
      ],
      "text/plain": [
       "+---------+-------------------+------------------------------------------+"
      ]
     },
     "metadata": {},
     "output_type": "display_data"
    },
    {
     "data": {
      "text/html": [
       "<pre>| 0       | 0.226367          | Not Viable                               |</pre>"
      ],
      "text/plain": [
       "| 0       | 0.226367          | Not Viable                               |"
      ]
     },
     "metadata": {},
     "output_type": "display_data"
    },
    {
     "data": {
      "text/html": [
       "<pre>| 1       | 0.0565917         | Not Viable                               |</pre>"
      ],
      "text/plain": [
       "| 1       | 0.0565917         | Not Viable                               |"
      ]
     },
     "metadata": {},
     "output_type": "display_data"
    },
    {
     "data": {
      "text/html": [
       "<pre>| 2       | 0.0141479         | Not Viable                               |</pre>"
      ],
      "text/plain": [
       "| 2       | 0.0141479         | Not Viable                               |"
      ]
     },
     "metadata": {},
     "output_type": "display_data"
    },
    {
     "data": {
      "text/html": [
       "<pre>| 3       | 0.00353698        | No Decrease (0.00181506 >= 0.000930011)  |</pre>"
      ],
      "text/plain": [
       "| 3       | 0.00353698        | No Decrease (0.00181506 >= 0.000930011)  |"
      ]
     },
     "metadata": {},
     "output_type": "display_data"
    },
    {
     "data": {
      "text/html": [
       "<pre>| 4       | 0.000884246       | No Decrease (0.00109124 >= 0.000930011)  |</pre>"
      ],
      "text/plain": [
       "| 4       | 0.000884246       | No Decrease (0.00109124 >= 0.000930011)  |"
      ]
     },
     "metadata": {},
     "output_type": "display_data"
    },
    {
     "data": {
      "text/html": [
       "<pre>| 5       | 0.000221061       | No Decrease (0.000942392 >= 0.000930011) |</pre>"
      ],
      "text/plain": [
       "| 5       | 0.000221061       | No Decrease (0.000942392 >= 0.000930011) |"
      ]
     },
     "metadata": {},
     "output_type": "display_data"
    },
    {
     "data": {
      "text/html": [
       "<pre>| 6       | 5.52654e-05       | No Decrease (0.000930891 >= 0.000930011) |</pre>"
      ],
      "text/plain": [
       "| 6       | 5.52654e-05       | No Decrease (0.000930891 >= 0.000930011) |"
      ]
     },
     "metadata": {},
     "output_type": "display_data"
    },
    {
     "data": {
      "text/html": [
       "<pre>| 7       | 1.38163e-05       | 0.000929766                              |</pre>"
      ],
      "text/plain": [
       "| 7       | 1.38163e-05       | 0.000929766                              |"
      ]
     },
     "metadata": {},
     "output_type": "display_data"
    },
    {
     "data": {
      "text/html": [
       "<pre>| 8       | 6.90817e-06       | 0.000929717                              |</pre>"
      ],
      "text/plain": [
       "| 8       | 6.90817e-06       | 0.000929717                              |"
      ]
     },
     "metadata": {},
     "output_type": "display_data"
    },
    {
     "data": {
      "text/html": [
       "<pre>| 9       | 3.45409e-06       | 0.000929716                              |</pre>"
      ],
      "text/plain": [
       "| 9       | 3.45409e-06       | 0.000929716                              |"
      ]
     },
     "metadata": {},
     "output_type": "display_data"
    },
    {
     "data": {
      "text/html": [
       "<pre>| 10      | 1.72704e-06       | 0.000929746                              |</pre>"
      ],
      "text/plain": [
       "| 10      | 1.72704e-06       | 0.000929746                              |"
      ]
     },
     "metadata": {},
     "output_type": "display_data"
    },
    {
     "data": {
      "text/html": [
       "<pre>| 11      | 8.63521e-07       | 0.000929813                              |</pre>"
      ],
      "text/plain": [
       "| 11      | 8.63521e-07       | 0.000929813                              |"
      ]
     },
     "metadata": {},
     "output_type": "display_data"
    },
    {
     "data": {
      "text/html": [
       "<pre>| 12      | 4.31761e-07       | 0.000929853                              |</pre>"
      ],
      "text/plain": [
       "| 12      | 4.31761e-07       | 0.000929853                              |"
      ]
     },
     "metadata": {},
     "output_type": "display_data"
    },
    {
     "data": {
      "text/html": [
       "<pre>+---------+-------------------+------------------------------------------+</pre>"
      ],
      "text/plain": [
       "+---------+-------------------+------------------------------------------+"
      ]
     },
     "metadata": {},
     "output_type": "display_data"
    },
    {
     "data": {
      "text/html": [
       "<pre>| Final   | 3.45409e-06       | 0.000929716                              |</pre>"
      ],
      "text/plain": [
       "| Final   | 3.45409e-06       | 0.000929716                              |"
      ]
     },
     "metadata": {},
     "output_type": "display_data"
    },
    {
     "data": {
      "text/html": [
       "<pre>+---------+-------------------+------------------------------------------+</pre>"
      ],
      "text/plain": [
       "+---------+-------------------+------------------------------------------+"
      ]
     },
     "metadata": {},
     "output_type": "display_data"
    },
    {
     "data": {
      "text/html": [
       "<pre>Starting Optimization.</pre>"
      ],
      "text/plain": [
       "Starting Optimization."
      ]
     },
     "metadata": {},
     "output_type": "display_data"
    },
    {
     "data": {
      "text/html": [
       "<pre>+---------+--------------+-------------------+-----------------------+-------------+</pre>"
      ],
      "text/plain": [
       "+---------+--------------+-------------------+-----------------------+-------------+"
      ]
     },
     "metadata": {},
     "output_type": "display_data"
    },
    {
     "data": {
      "text/html": [
       "<pre>| Iter.   | Elapsed Time | Approx. Objective | Approx. Training RMSE | Step Size   |</pre>"
      ],
      "text/plain": [
       "| Iter.   | Elapsed Time | Approx. Objective | Approx. Training RMSE | Step Size   |"
      ]
     },
     "metadata": {},
     "output_type": "display_data"
    },
    {
     "data": {
      "text/html": [
       "<pre>+---------+--------------+-------------------+-----------------------+-------------+</pre>"
      ],
      "text/plain": [
       "+---------+--------------+-------------------+-----------------------+-------------+"
      ]
     },
     "metadata": {},
     "output_type": "display_data"
    },
    {
     "data": {
      "text/html": [
       "<pre>| Initial | 80us         | 0.000823979       | 0.0286961             |             |</pre>"
      ],
      "text/plain": [
       "| Initial | 80us         | 0.000823979       | 0.0286961             |             |"
      ]
     },
     "metadata": {},
     "output_type": "display_data"
    },
    {
     "data": {
      "text/html": [
       "<pre>+---------+--------------+-------------------+-----------------------+-------------+</pre>"
      ],
      "text/plain": [
       "+---------+--------------+-------------------+-----------------------+-------------+"
      ]
     },
     "metadata": {},
     "output_type": "display_data"
    },
    {
     "data": {
      "text/html": [
       "<pre>| 1       | 2.22s        | 0.00082378        | 0.0286909             | 3.45409e-06 |</pre>"
      ],
      "text/plain": [
       "| 1       | 2.22s        | 0.00082378        | 0.0286909             | 3.45409e-06 |"
      ]
     },
     "metadata": {},
     "output_type": "display_data"
    },
    {
     "data": {
      "text/html": [
       "<pre>| 2       | 4.48s        | 0.000823745       | 0.0286901             | 3.45409e-06 |</pre>"
      ],
      "text/plain": [
       "| 2       | 4.48s        | 0.000823745       | 0.0286901             | 3.45409e-06 |"
      ]
     },
     "metadata": {},
     "output_type": "display_data"
    },
    {
     "data": {
      "text/html": [
       "<pre>| 3       | 6.89s        | 0.000823742       | 0.02869               | 3.45409e-06 |</pre>"
      ],
      "text/plain": [
       "| 3       | 6.89s        | 0.000823742       | 0.02869               | 3.45409e-06 |"
      ]
     },
     "metadata": {},
     "output_type": "display_data"
    },
    {
     "data": {
      "text/html": [
       "<pre>| 4       | 9.43s        | 0.00082374        | 0.0286899             | 3.45409e-06 |</pre>"
      ],
      "text/plain": [
       "| 4       | 9.43s        | 0.00082374        | 0.0286899             | 3.45409e-06 |"
      ]
     },
     "metadata": {},
     "output_type": "display_data"
    },
    {
     "data": {
      "text/html": [
       "<pre>+---------+--------------+-------------------+-----------------------+-------------+</pre>"
      ],
      "text/plain": [
       "+---------+--------------+-------------------+-----------------------+-------------+"
      ]
     },
     "metadata": {},
     "output_type": "display_data"
    },
    {
     "data": {
      "text/html": [
       "<pre>Optimization Complete: Convergence on objective within bounds.</pre>"
      ],
      "text/plain": [
       "Optimization Complete: Convergence on objective within bounds."
      ]
     },
     "metadata": {},
     "output_type": "display_data"
    },
    {
     "data": {
      "text/html": [
       "<pre>Computing final objective value and training RMSE.</pre>"
      ],
      "text/plain": [
       "Computing final objective value and training RMSE."
      ]
     },
     "metadata": {},
     "output_type": "display_data"
    },
    {
     "data": {
      "text/html": [
       "<pre>       Final objective value: 0.000823736</pre>"
      ],
      "text/plain": [
       "       Final objective value: 0.000823736"
      ]
     },
     "metadata": {},
     "output_type": "display_data"
    },
    {
     "data": {
      "text/html": [
       "<pre>       Final training RMSE: 0.0286898</pre>"
      ],
      "text/plain": [
       "       Final training RMSE: 0.0286898"
      ]
     },
     "metadata": {},
     "output_type": "display_data"
    }
   ],
   "source": [
    "#### Factorization Recommender ####\n",
    "user_info = gl.SFrame.read_csv(profiles_file, header=True, verbose=False).dropna()\n",
    "user_info.rename({\"user\": \"user_id\"})\n",
    "\n",
    "item_info = gl.SFrame.read_csv(artists_file, header=True, verbose=False).dropna()\n",
    "item_info.rename({\"artist\": \"item_id\"})\n",
    "\n",
    "factorization_model = gl.factorization_recommender.create(sf_train, target='plays', \\\n",
    "        user_data=user_info, \\\n",
    "        item_data=item_info, max_iterations=500, num_factors=10, regularization=0.0001)\n",
    "\n",
    "predictions['factorization_model'] = factorization_model.predict(sf_validate)"
   ]
  },
  {
   "cell_type": "code",
   "execution_count": 110,
   "metadata": {
    "collapsed": false
   },
   "outputs": [
    {
     "data": {
      "text/html": [
       "<pre>Recsys training: model = factorization_recommender</pre>"
      ],
      "text/plain": [
       "Recsys training: model = factorization_recommender"
      ]
     },
     "metadata": {},
     "output_type": "display_data"
    },
    {
     "data": {
      "text/html": [
       "<pre>Preparing data set.</pre>"
      ],
      "text/plain": [
       "Preparing data set."
      ]
     },
     "metadata": {},
     "output_type": "display_data"
    },
    {
     "data": {
      "text/html": [
       "<pre>    Data has 3254976 observations with 233286 users and 2000 items.</pre>"
      ],
      "text/plain": [
       "    Data has 3254976 observations with 233286 users and 2000 items."
      ]
     },
     "metadata": {},
     "output_type": "display_data"
    },
    {
     "data": {
      "text/html": [
       "<pre>    Data prepared in: 6.07005s</pre>"
      ],
      "text/plain": [
       "    Data prepared in: 6.07005s"
      ]
     },
     "metadata": {},
     "output_type": "display_data"
    },
    {
     "data": {
      "text/html": [
       "<pre>Training factorization_recommender for recommendations.</pre>"
      ],
      "text/plain": [
       "Training factorization_recommender for recommendations."
      ]
     },
     "metadata": {},
     "output_type": "display_data"
    },
    {
     "data": {
      "text/html": [
       "<pre>+------------------------------+--------------------------------------------------+----------+</pre>"
      ],
      "text/plain": [
       "+------------------------------+--------------------------------------------------+----------+"
      ]
     },
     "metadata": {},
     "output_type": "display_data"
    },
    {
     "data": {
      "text/html": [
       "<pre>| Parameter                    | Description                                      | Value    |</pre>"
      ],
      "text/plain": [
       "| Parameter                    | Description                                      | Value    |"
      ]
     },
     "metadata": {},
     "output_type": "display_data"
    },
    {
     "data": {
      "text/html": [
       "<pre>+------------------------------+--------------------------------------------------+----------+</pre>"
      ],
      "text/plain": [
       "+------------------------------+--------------------------------------------------+----------+"
      ]
     },
     "metadata": {},
     "output_type": "display_data"
    },
    {
     "data": {
      "text/html": [
       "<pre>| num_factors                  | Factor Dimension                                 | 8        |</pre>"
      ],
      "text/plain": [
       "| num_factors                  | Factor Dimension                                 | 8        |"
      ]
     },
     "metadata": {},
     "output_type": "display_data"
    },
    {
     "data": {
      "text/html": [
       "<pre>| regularization               | L2 Regularization on Factors                     | 1e-08    |</pre>"
      ],
      "text/plain": [
       "| regularization               | L2 Regularization on Factors                     | 1e-08    |"
      ]
     },
     "metadata": {},
     "output_type": "display_data"
    },
    {
     "data": {
      "text/html": [
       "<pre>| max_iterations               | Maximum Number of Iterations                     | 50       |</pre>"
      ],
      "text/plain": [
       "| max_iterations               | Maximum Number of Iterations                     | 50       |"
      ]
     },
     "metadata": {},
     "output_type": "display_data"
    },
    {
     "data": {
      "text/html": [
       "<pre>| solver                       | Solver used for training                         | als      |</pre>"
      ],
      "text/plain": [
       "| solver                       | Solver used for training                         | als      |"
      ]
     },
     "metadata": {},
     "output_type": "display_data"
    },
    {
     "data": {
      "text/html": [
       "<pre>+------------------------------+--------------------------------------------------+----------+</pre>"
      ],
      "text/plain": [
       "+------------------------------+--------------------------------------------------+----------+"
      ]
     },
     "metadata": {},
     "output_type": "display_data"
    },
    {
     "data": {
      "text/html": [
       "<pre>+---------+--------------+------------------------+</pre>"
      ],
      "text/plain": [
       "+---------+--------------+------------------------+"
      ]
     },
     "metadata": {},
     "output_type": "display_data"
    },
    {
     "data": {
      "text/html": [
       "<pre>| Iter.   | Elapsed time | RMSE                   |</pre>"
      ],
      "text/plain": [
       "| Iter.   | Elapsed time | RMSE                   |"
      ]
     },
     "metadata": {},
     "output_type": "display_data"
    },
    {
     "data": {
      "text/html": [
       "<pre>+---------+--------------+------------------------+</pre>"
      ],
      "text/plain": [
       "+---------+--------------+------------------------+"
      ]
     },
     "metadata": {},
     "output_type": "display_data"
    },
    {
     "data": {
      "text/html": [
       "<pre>| Initial | 99us         | NA                     |</pre>"
      ],
      "text/plain": [
       "| Initial | 99us         | NA                     |"
      ]
     },
     "metadata": {},
     "output_type": "display_data"
    },
    {
     "data": {
      "text/html": [
       "<pre>+---------+--------------+------------------------+</pre>"
      ],
      "text/plain": [
       "+---------+--------------+------------------------+"
      ]
     },
     "metadata": {},
     "output_type": "display_data"
    },
    {
     "data": {
      "text/html": [
       "<pre>| 0       | 2.09s        | 0.00695216             |</pre>"
      ],
      "text/plain": [
       "| 0       | 2.09s        | 0.00695216             |"
      ]
     },
     "metadata": {},
     "output_type": "display_data"
    },
    {
     "data": {
      "text/html": [
       "<pre>| 1       | 4.09s        | 0.00317965             |</pre>"
      ],
      "text/plain": [
       "| 1       | 4.09s        | 0.00317965             |"
      ]
     },
     "metadata": {},
     "output_type": "display_data"
    },
    {
     "data": {
      "text/html": [
       "<pre>| 2       | 6.01s        | 0.00244741             |</pre>"
      ],
      "text/plain": [
       "| 2       | 6.01s        | 0.00244741             |"
      ]
     },
     "metadata": {},
     "output_type": "display_data"
    },
    {
     "data": {
      "text/html": [
       "<pre>| 3       | 7.88s        | 0.00202186             |</pre>"
      ],
      "text/plain": [
       "| 3       | 7.88s        | 0.00202186             |"
      ]
     },
     "metadata": {},
     "output_type": "display_data"
    },
    {
     "data": {
      "text/html": [
       "<pre>| 4       | 9.83s        | 0.00173476             |</pre>"
      ],
      "text/plain": [
       "| 4       | 9.83s        | 0.00173476             |"
      ]
     },
     "metadata": {},
     "output_type": "display_data"
    },
    {
     "data": {
      "text/html": [
       "<pre>| 5       | 11.66s       | 0.00152517             |</pre>"
      ],
      "text/plain": [
       "| 5       | 11.66s       | 0.00152517             |"
      ]
     },
     "metadata": {},
     "output_type": "display_data"
    },
    {
     "data": {
      "text/html": [
       "<pre>| 6       | 13.38s       | 0.00136427             |</pre>"
      ],
      "text/plain": [
       "| 6       | 13.38s       | 0.00136427             |"
      ]
     },
     "metadata": {},
     "output_type": "display_data"
    },
    {
     "data": {
      "text/html": [
       "<pre>| 7       | 15.27s       | 0.00123634             |</pre>"
      ],
      "text/plain": [
       "| 7       | 15.27s       | 0.00123634             |"
      ]
     },
     "metadata": {},
     "output_type": "display_data"
    },
    {
     "data": {
      "text/html": [
       "<pre>| 8       | 17.08s       | 0.00113203             |</pre>"
      ],
      "text/plain": [
       "| 8       | 17.08s       | 0.00113203             |"
      ]
     },
     "metadata": {},
     "output_type": "display_data"
    },
    {
     "data": {
      "text/html": [
       "<pre>| 9       | 18.83s       | 0.00104506             |</pre>"
      ],
      "text/plain": [
       "| 9       | 18.83s       | 0.00104506             |"
      ]
     },
     "metadata": {},
     "output_type": "display_data"
    },
    {
     "data": {
      "text/html": [
       "<pre>| 10      | 20.62s       | 0.000971332            |</pre>"
      ],
      "text/plain": [
       "| 10      | 20.62s       | 0.000971332            |"
      ]
     },
     "metadata": {},
     "output_type": "display_data"
    },
    {
     "data": {
      "text/html": [
       "<pre>| 11      | 22.34s       | 0.00090797             |</pre>"
      ],
      "text/plain": [
       "| 11      | 22.34s       | 0.00090797             |"
      ]
     },
     "metadata": {},
     "output_type": "display_data"
    },
    {
     "data": {
      "text/html": [
       "<pre>| 12      | 24.24s       | 0.000852895            |</pre>"
      ],
      "text/plain": [
       "| 12      | 24.24s       | 0.000852895            |"
      ]
     },
     "metadata": {},
     "output_type": "display_data"
    },
    {
     "data": {
      "text/html": [
       "<pre>| 13      | 26.23s       | 0.000804562            |</pre>"
      ],
      "text/plain": [
       "| 13      | 26.23s       | 0.000804562            |"
      ]
     },
     "metadata": {},
     "output_type": "display_data"
    },
    {
     "data": {
      "text/html": [
       "<pre>| 14      | 28.14s       | 0.000761792            |</pre>"
      ],
      "text/plain": [
       "| 14      | 28.14s       | 0.000761792            |"
      ]
     },
     "metadata": {},
     "output_type": "display_data"
    },
    {
     "data": {
      "text/html": [
       "<pre>| 15      | 29.98s       | 0.000723669            |</pre>"
      ],
      "text/plain": [
       "| 15      | 29.98s       | 0.000723669            |"
      ]
     },
     "metadata": {},
     "output_type": "display_data"
    },
    {
     "data": {
      "text/html": [
       "<pre>| 16      | 31.81s       | 0.000689467            |</pre>"
      ],
      "text/plain": [
       "| 16      | 31.81s       | 0.000689467            |"
      ]
     },
     "metadata": {},
     "output_type": "display_data"
    },
    {
     "data": {
      "text/html": [
       "<pre>| 17      | 33.89s       | 0.00065861             |</pre>"
      ],
      "text/plain": [
       "| 17      | 33.89s       | 0.00065861             |"
      ]
     },
     "metadata": {},
     "output_type": "display_data"
    },
    {
     "data": {
      "text/html": [
       "<pre>| 18      | 36.05s       | 0.000630631            |</pre>"
      ],
      "text/plain": [
       "| 18      | 36.05s       | 0.000630631            |"
      ]
     },
     "metadata": {},
     "output_type": "display_data"
    },
    {
     "data": {
      "text/html": [
       "<pre>| 19      | 38.10s       | 0.000605147            |</pre>"
      ],
      "text/plain": [
       "| 19      | 38.10s       | 0.000605147            |"
      ]
     },
     "metadata": {},
     "output_type": "display_data"
    },
    {
     "data": {
      "text/html": [
       "<pre>| 20      | 40.05s       | 0.000581839            |</pre>"
      ],
      "text/plain": [
       "| 20      | 40.05s       | 0.000581839            |"
      ]
     },
     "metadata": {},
     "output_type": "display_data"
    },
    {
     "data": {
      "text/html": [
       "<pre>| 21      | 41.81s       | 0.000560443            |</pre>"
      ],
      "text/plain": [
       "| 21      | 41.81s       | 0.000560443            |"
      ]
     },
     "metadata": {},
     "output_type": "display_data"
    },
    {
     "data": {
      "text/html": [
       "<pre>| 22      | 43.84s       | 0.000540736            |</pre>"
      ],
      "text/plain": [
       "| 22      | 43.84s       | 0.000540736            |"
      ]
     },
     "metadata": {},
     "output_type": "display_data"
    },
    {
     "data": {
      "text/html": [
       "<pre>| 23      | 46.02s       | 0.000522527            |</pre>"
      ],
      "text/plain": [
       "| 23      | 46.02s       | 0.000522527            |"
      ]
     },
     "metadata": {},
     "output_type": "display_data"
    },
    {
     "data": {
      "text/html": [
       "<pre>| 24      | 48.05s       | 0.000505656            |</pre>"
      ],
      "text/plain": [
       "| 24      | 48.05s       | 0.000505656            |"
      ]
     },
     "metadata": {},
     "output_type": "display_data"
    },
    {
     "data": {
      "text/html": [
       "<pre>| 25      | 49.83s       | 0.000489982            |</pre>"
      ],
      "text/plain": [
       "| 25      | 49.83s       | 0.000489982            |"
      ]
     },
     "metadata": {},
     "output_type": "display_data"
    },
    {
     "data": {
      "text/html": [
       "<pre>| 26      | 52.25s       | 0.000475386            |</pre>"
      ],
      "text/plain": [
       "| 26      | 52.25s       | 0.000475386            |"
      ]
     },
     "metadata": {},
     "output_type": "display_data"
    },
    {
     "data": {
      "text/html": [
       "<pre>| 27      | 54.47s       | 0.000461763            |</pre>"
      ],
      "text/plain": [
       "| 27      | 54.47s       | 0.000461763            |"
      ]
     },
     "metadata": {},
     "output_type": "display_data"
    },
    {
     "data": {
      "text/html": [
       "<pre>| 28      | 56.59s       | 0.000449021            |</pre>"
      ],
      "text/plain": [
       "| 28      | 56.59s       | 0.000449021            |"
      ]
     },
     "metadata": {},
     "output_type": "display_data"
    },
    {
     "data": {
      "text/html": [
       "<pre>| 29      | 58.80s       | 0.000437081            |</pre>"
      ],
      "text/plain": [
       "| 29      | 58.80s       | 0.000437081            |"
      ]
     },
     "metadata": {},
     "output_type": "display_data"
    },
    {
     "data": {
      "text/html": [
       "<pre>| 30      | 1m 0s        | 0.00042587             |</pre>"
      ],
      "text/plain": [
       "| 30      | 1m 0s        | 0.00042587             |"
      ]
     },
     "metadata": {},
     "output_type": "display_data"
    },
    {
     "data": {
      "text/html": [
       "<pre>| 31      | 1m 2s        | 0.000415327            |</pre>"
      ],
      "text/plain": [
       "| 31      | 1m 2s        | 0.000415327            |"
      ]
     },
     "metadata": {},
     "output_type": "display_data"
    },
    {
     "data": {
      "text/html": [
       "<pre>| 32      | 1m 4s        | 0.000405395            |</pre>"
      ],
      "text/plain": [
       "| 32      | 1m 4s        | 0.000405395            |"
      ]
     },
     "metadata": {},
     "output_type": "display_data"
    },
    {
     "data": {
      "text/html": [
       "<pre>| 33      | 1m 6s        | 0.000396026            |</pre>"
      ],
      "text/plain": [
       "| 33      | 1m 6s        | 0.000396026            |"
      ]
     },
     "metadata": {},
     "output_type": "display_data"
    },
    {
     "data": {
      "text/html": [
       "<pre>| 34      | 1m 8s        | 0.000387173            |</pre>"
      ],
      "text/plain": [
       "| 34      | 1m 8s        | 0.000387173            |"
      ]
     },
     "metadata": {},
     "output_type": "display_data"
    },
    {
     "data": {
      "text/html": [
       "<pre>| 35      | 1m 10s       | 0.000378797            |</pre>"
      ],
      "text/plain": [
       "| 35      | 1m 10s       | 0.000378797            |"
      ]
     },
     "metadata": {},
     "output_type": "display_data"
    },
    {
     "data": {
      "text/html": [
       "<pre>| 36      | 1m 11s       | 0.000370864            |</pre>"
      ],
      "text/plain": [
       "| 36      | 1m 11s       | 0.000370864            |"
      ]
     },
     "metadata": {},
     "output_type": "display_data"
    },
    {
     "data": {
      "text/html": [
       "<pre>| 37      | 1m 13s       | 0.000363339            |</pre>"
      ],
      "text/plain": [
       "| 37      | 1m 13s       | 0.000363339            |"
      ]
     },
     "metadata": {},
     "output_type": "display_data"
    },
    {
     "data": {
      "text/html": [
       "<pre>| 38      | 1m 15s       | 0.000356195            |</pre>"
      ],
      "text/plain": [
       "| 38      | 1m 15s       | 0.000356195            |"
      ]
     },
     "metadata": {},
     "output_type": "display_data"
    },
    {
     "data": {
      "text/html": [
       "<pre>| 39      | 1m 17s       | 0.000349404            |</pre>"
      ],
      "text/plain": [
       "| 39      | 1m 17s       | 0.000349404            |"
      ]
     },
     "metadata": {},
     "output_type": "display_data"
    },
    {
     "data": {
      "text/html": [
       "<pre>| 40      | 1m 19s       | 0.000342941            |</pre>"
      ],
      "text/plain": [
       "| 40      | 1m 19s       | 0.000342941            |"
      ]
     },
     "metadata": {},
     "output_type": "display_data"
    },
    {
     "data": {
      "text/html": [
       "<pre>| 41      | 1m 21s       | 0.000336786            |</pre>"
      ],
      "text/plain": [
       "| 41      | 1m 21s       | 0.000336786            |"
      ]
     },
     "metadata": {},
     "output_type": "display_data"
    },
    {
     "data": {
      "text/html": [
       "<pre>| 42      | 1m 22s       | 0.000330918            |</pre>"
      ],
      "text/plain": [
       "| 42      | 1m 22s       | 0.000330918            |"
      ]
     },
     "metadata": {},
     "output_type": "display_data"
    },
    {
     "data": {
      "text/html": [
       "<pre>| 43      | 1m 24s       | 0.000325319            |</pre>"
      ],
      "text/plain": [
       "| 43      | 1m 24s       | 0.000325319            |"
      ]
     },
     "metadata": {},
     "output_type": "display_data"
    },
    {
     "data": {
      "text/html": [
       "<pre>| 44      | 1m 26s       | 0.000319971            |</pre>"
      ],
      "text/plain": [
       "| 44      | 1m 26s       | 0.000319971            |"
      ]
     },
     "metadata": {},
     "output_type": "display_data"
    },
    {
     "data": {
      "text/html": [
       "<pre>| 45      | 1m 28s       | 0.000314861            |</pre>"
      ],
      "text/plain": [
       "| 45      | 1m 28s       | 0.000314861            |"
      ]
     },
     "metadata": {},
     "output_type": "display_data"
    },
    {
     "data": {
      "text/html": [
       "<pre>| 46      | 1m 30s       | 0.000309971            |</pre>"
      ],
      "text/plain": [
       "| 46      | 1m 30s       | 0.000309971            |"
      ]
     },
     "metadata": {},
     "output_type": "display_data"
    },
    {
     "data": {
      "text/html": [
       "<pre>| 47      | 1m 31s       | 0.000305291            |</pre>"
      ],
      "text/plain": [
       "| 47      | 1m 31s       | 0.000305291            |"
      ]
     },
     "metadata": {},
     "output_type": "display_data"
    },
    {
     "data": {
      "text/html": [
       "<pre>| 48      | 1m 33s       | 0.000300807            |</pre>"
      ],
      "text/plain": [
       "| 48      | 1m 33s       | 0.000300807            |"
      ]
     },
     "metadata": {},
     "output_type": "display_data"
    },
    {
     "data": {
      "text/html": [
       "<pre>| 49      | 1m 35s       | 0.00029651             |</pre>"
      ],
      "text/plain": [
       "| 49      | 1m 35s       | 0.00029651             |"
      ]
     },
     "metadata": {},
     "output_type": "display_data"
    },
    {
     "data": {
      "text/html": [
       "<pre>| FINAL   | 1m 35s       | 0.00029651             |</pre>"
      ],
      "text/plain": [
       "| FINAL   | 1m 35s       | 0.00029651             |"
      ]
     },
     "metadata": {},
     "output_type": "display_data"
    },
    {
     "data": {
      "text/html": [
       "<pre>+---------+--------------+------------------------+</pre>"
      ],
      "text/plain": [
       "+---------+--------------+------------------------+"
      ]
     },
     "metadata": {},
     "output_type": "display_data"
    },
    {
     "data": {
      "text/html": [
       "<pre>Optimization Complete: Iteration limit reached.</pre>"
      ],
      "text/plain": [
       "Optimization Complete: Iteration limit reached."
      ]
     },
     "metadata": {},
     "output_type": "display_data"
    }
   ],
   "source": [
    "#### Alternating Least Squares Model ####\n",
    "als_model = gl.factorization_recommender.create(sf_train, target='plays', \\\n",
    "        solver='als')\n",
    "\n",
    "predictions['als_model'] = als_model.predict(sf_validate)"
   ]
  },
  {
   "cell_type": "markdown",
   "metadata": {},
   "source": [
    "## Comparing Models:"
   ]
  },
  {
   "cell_type": "code",
   "execution_count": 113,
   "metadata": {
    "collapsed": false
   },
   "outputs": [
    {
     "name": "stdout",
     "output_type": "stream",
     "text": [
      "Mean Absolute Errors:\n",
      " \n",
      "Baseline: \t\t\t 180.750413294\n",
      "User Mean: \t\t\t 162.44725936\n",
      "User Median: \t\t\t 137.265611872\n",
      "Item Similarity (Jaccard): \t 249.901443691\n",
      "Item Similarity (Cosine): \t 249.901503881\n",
      "Item Similarity (Pearson): \t 249.901505264\n",
      "Popularity Model: \t\t 249.901503925\n",
      "Factorization Model: \t\t 249.901676252\n",
      "Alternating Least Squares Model: 249.901581465\n"
     ]
    }
   ],
   "source": [
    "print \"Mean Absolute Errors:\"\n",
    "print \" \"\n",
    "print \"Baseline: \\t\\t\\t %s\" % mean_absolute_error(validatedf.plays, predictions['baseline'])\n",
    "print \"User Mean: \\t\\t\\t %s\" % mean_absolute_error(validatedf.plays, predictions['user_mean'])\n",
    "print \"User Median: \\t\\t\\t %s\" % mean_absolute_error(validatedf.plays, predictions['user_median'])\n",
    "print \"Item Similarity (Jaccard): \\t %s\" % mean_absolute_error(validatedf.plays, predictions['item_sim_model_jaccard'])\n",
    "print \"Item Similarity (Cosine): \\t %s\" % mean_absolute_error(validatedf.plays, predictions['item_sim_model_cosine'])\n",
    "print \"Item Similarity (Pearson): \\t %s\" % mean_absolute_error(validatedf.plays, predictions['item_sim_model_pearson'])\n",
    "print \"Popularity Model: \\t\\t %s\" % mean_absolute_error(validatedf.plays, predictions['popularity_model'])\n",
    "print \"Factorization Model: \\t\\t %s\" % mean_absolute_error(validatedf.plays, predictions['factorization_model'])\n",
    "print \"Alternating Least Squares Model: %s\" % mean_absolute_error(validatedf.plays, predictions['als_model'])\n"
   ]
  },
  {
   "cell_type": "markdown",
   "metadata": {
    "collapsed": true
   },
   "source": [
    "## Code to store predictions"
   ]
  },
  {
   "cell_type": "code",
   "execution_count": null,
   "metadata": {
    "collapsed": true
   },
   "outputs": [],
   "source": [
    "with open(\"data/item_sim_model_jaccard.csv\", 'w') as soln_fh:\n",
    "    soln_csv = csv.writer(soln_fh,\n",
    "                          delimiter=',',\n",
    "                          quotechar='\"',\n",
    "                          quoting=csv.QUOTE_MINIMAL)\n",
    "    soln_csv.writerow(['Id', 'plays'])\n",
    "    loop_size = 4154804\n",
    "    mybar = pyprind.ProgBar(loop_size)\n",
    "    for i in range(4154804):\n",
    "        soln_csv.writerow([i + 1, item_sim_model_jaccard[i]])\n",
    "        mybar.update()"
   ]
  },
  {
   "cell_type": "code",
   "execution_count": null,
   "metadata": {
    "collapsed": true
   },
   "outputs": [],
   "source": []
  },
  {
   "cell_type": "markdown",
   "metadata": {},
   "source": [
    "# MISC\n",
    "### Old Ridge Regression Code"
   ]
  },
  {
   "cell_type": "code",
   "execution_count": null,
   "metadata": {
    "collapsed": true
   },
   "outputs": [],
   "source": [
    "\"\"\"# Design Matrix\n",
    "from sklearn.linear_model import Ridge\n",
    "features=np.concatenate([uuids,uiids])\n",
    "features.shape\n",
    "\n",
    "def getmats(indf):\n",
    "    stvals=indf[['user', 'artist', 'plays']].values\n",
    "    designm=np.zeros((stvals.shape[0], features.shape[0]))\n",
    "    ratings=np.zeros(stvals.shape[0])\n",
    "    loop_size = len(stvals)\n",
    "    mybar = pyprind.ProgBar(loop_size)\n",
    "    for i, row in enumerate(stvals):\n",
    "        designm[i,:]=np.concatenate([1*(row[0]==uuids), 1*(row[1]==uiids)])\n",
    "        ratings[i]=row[2]\n",
    "        mybar.update()\n",
    "    return designm, ratings\n",
    "\n",
    "\n",
    "\n",
    "#Carrying out the ridge regression\n",
    "designm, ratings = getmats(train_df)\n",
    "\n",
    "validatedm, validaterats = getmats(validate_df)\n",
    "\n",
    "\n",
    "\n",
    "#alphas=[0.01, 0.1, 10, 100, 1000]\n",
    "alphas=[7,8,9,10,11,12,13]\n",
    "vdict={}\n",
    "rdict={}\n",
    "loop_size = len(alphas)\n",
    "mybar = pyprind.ProgBar(loop_size)\n",
    "for a in alphas:\n",
    "    regr=Ridge(alpha=a).fit(designm, ratings)\n",
    "    vpreds=regr.predict(validatedm)\n",
    "    mae=mean_absolute_error(validaterats, vpreds)\n",
    "    vdict[a]=mae\n",
    "    rdict[a]=regr\n",
    "    mybar.update()\n",
    "\n",
    "minerroralpha=min(vdict, key=vdict.get)\n",
    "print minerroralpha\n",
    "regr=rdict[minerroralpha] \n",
    "\n",
    "regr.intercept_, ybar\n",
    "\n",
    "testdm, _ = getmats(test_df)\n",
    "\n",
    "predictions['baseline_r']=regr.predict(testdm)\n",
    "\n",
    "np.savetxt(\"baseline_r.csv\", predictions['baseline_r'], delimiter=\",\")\"\"\""
   ]
  }
 ],
 "metadata": {
  "kernelspec": {
   "display_name": "Python 2",
   "language": "python",
   "name": "python2"
  },
  "language_info": {
   "codemirror_mode": {
    "name": "ipython",
    "version": 2
   },
   "file_extension": ".py",
   "mimetype": "text/x-python",
   "name": "python",
   "nbconvert_exporter": "python",
   "pygments_lexer": "ipython2",
   "version": "2.7.11"
  }
 },
 "nbformat": 4,
 "nbformat_minor": 0
}
