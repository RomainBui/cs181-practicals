{
 "cells": [
  {
   "cell_type": "code",
   "execution_count": 30,
   "metadata": {
    "collapsed": false
   },
   "outputs": [],
   "source": [
    "import numpy as np\n",
    "import csv\n",
    "import pandas as pd\n",
    "import pyprind\n",
    "import scipy.sparse as spr\n",
    "import graphlab as gl\n",
    "import gzip\n",
    "from sklearn.cluster import KMeans\n",
    "from math import isnan\n",
    "import matplotlib.pyplot as plt\n",
    "import seaborn as sns\n",
    "from sklearn.metrics import mean_absolute_error\n",
    "sns.set_style(\"whitegrid\")\n",
    "sns.set_context(\"poster\")\n",
    "pd.set_option('display.width', 500)\n",
    "pd.set_option('display.max_columns', 100)\n",
    "pd.set_option('display.notebook_repr_html', True)\n",
    "%matplotlib inline"
   ]
  },
  {
   "cell_type": "markdown",
   "metadata": {},
   "source": [
    "## Load Data"
   ]
  },
  {
   "cell_type": "code",
   "execution_count": 31,
   "metadata": {
    "collapsed": true
   },
   "outputs": [],
   "source": [
    "train_file = 'data/train.csv'\n",
    "test_file  = 'data/test.csv'\n",
    "profiles_file = 'data/profiles.csv'\n",
    "artists_file = 'data/artists.csv'\n",
    "artists_file_info = 'data/artist_infos.json'"
   ]
  },
  {
   "cell_type": "code",
   "execution_count": 32,
   "metadata": {
    "collapsed": false
   },
   "outputs": [],
   "source": [
    "df = pd.read_csv(train_file, header=0)"
   ]
  },
  {
   "cell_type": "markdown",
   "metadata": {},
   "source": [
    "## Baseline Model"
   ]
  },
  {
   "cell_type": "code",
   "execution_count": 33,
   "metadata": {
    "collapsed": false
   },
   "outputs": [
    {
     "name": "stdout",
     "output_type": "stream",
     "text": [
      "(3254976, 3) (899828, 3)\n"
     ]
    }
   ],
   "source": [
    "## Train-Test Split\n",
    "trainlist=[]\n",
    "validatelist=[]\n",
    "take=4\n",
    "i = 0\n",
    "for k, v in df.groupby('user'):\n",
    "    if v.artist.count() > 10:\n",
    "        validatelist.append(v[-take:]) \n",
    "        trainlist.append(v[:-take])\n",
    "    else:\n",
    "        trainlist.append(v)\n",
    "traindf=pd.concat(trainlist)\n",
    "validatedf=pd.concat(validatelist)\n",
    "print traindf.shape, validatedf.shape"
   ]
  },
  {
   "cell_type": "code",
   "execution_count": 34,
   "metadata": {
    "collapsed": true
   },
   "outputs": [],
   "source": [
    "pd.DataFrame.to_csv(traindf, 'data/traindf')\n",
    "pd.DataFrame.to_csv(validatedf, 'data/validatedf')"
   ]
  },
  {
   "cell_type": "code",
   "execution_count": 35,
   "metadata": {
    "collapsed": true
   },
   "outputs": [],
   "source": [
    "traindf = pd.read_csv(\"data/traindf\")\n",
    "validatedf = pd.read_csv(\"data/validatedf\")"
   ]
  },
  {
   "cell_type": "code",
   "execution_count": 36,
   "metadata": {
    "collapsed": true
   },
   "outputs": [],
   "source": [
    "ybar = traindf.plays.mean()\n",
    "\n",
    "uuids=traindf.user.unique()#unique-users\n",
    "uiids=traindf.artist.unique()#unique-items\n",
    "uuidmap={v:k for k,v in enumerate(uuids)}#of length U\n",
    "uiidmap={v:k for k,v in enumerate(uiids)}#of length M\n",
    "\n",
    "groupby_user = traindf.groupby('user')\n",
    "user_biases = dict()\n",
    "user_means = dict()\n",
    "user_medians = dict()\n",
    "for id in uuids:\n",
    "    user_mean = groupby_user.get_group(id).plays.mean()\n",
    "    user_biases[id] = user_mean - ybar\n",
    "    user_means[id] = user_mean\n",
    "    user_medians[id] = groupby_user.get_group(id).plays.median()\n",
    "\n",
    "groupby_item = traindf.groupby('artist')\n",
    "item_biases = dict()\n",
    "item_means = dict()\n",
    "for id in uiids:\n",
    "    item_mean = groupby_item.get_group(id).plays.mean()\n",
    "    item_biases[id] = item_mean - ybar\n",
    "    item_means[id]  = item_mean\n",
    "    \n",
    "\n",
    "train_avgs={'mean':ybar, 'users':user_biases, 'items':item_biases}\n",
    "\n",
    "predictions={}\n",
    "user_biases_validate = validatedf['user'].apply(lambda x: user_biases[x])\n",
    "item_biases_validate = validatedf['artist'].apply(lambda x: item_biases[x])\n",
    "\n",
    "predictions['baseline'] = (ybar + user_biases_validate + item_biases_validate).values\n",
    "predictions['user_mean'] = validatedf['user'].apply(lambda x: user_means[x])\n",
    "predictions['user_median'] = validatedf['user'].apply(lambda x: user_medians[x])\n",
    "\n"
   ]
  },
  {
   "cell_type": "markdown",
   "metadata": {},
   "source": [
    "## GraphLab Create"
   ]
  },
  {
   "cell_type": "code",
   "execution_count": 37,
   "metadata": {
    "collapsed": true
   },
   "outputs": [],
   "source": [
    "#### Load Data as SFrames ####"
   ]
  },
  {
   "cell_type": "code",
   "execution_count": 38,
   "metadata": {
    "collapsed": false
   },
   "outputs": [
    {
     "data": {
      "text/html": [
       "<div style=\"max-height:1000px;max-width:1500px;overflow:auto;\"><table frame=\"box\" rules=\"cols\">\n",
       "    <tr>\n",
       "        <th style=\"padding-left: 1em; padding-right: 1em; text-align: center\">user_id</th>\n",
       "        <th style=\"padding-left: 1em; padding-right: 1em; text-align: center\">item_id</th>\n",
       "        <th style=\"padding-left: 1em; padding-right: 1em; text-align: center\">plays</th>\n",
       "    </tr>\n",
       "    <tr>\n",
       "        <td style=\"padding-left: 1em; padding-right: 1em; text-align: center; vertical-align: top\">00000c289a1829a808ac09c00<br>daf10bc3c4e223b ...</td>\n",
       "        <td style=\"padding-left: 1em; padding-right: 1em; text-align: center; vertical-align: top\">c995a379-60b9-404b-<br>bd97-a7e2de0751d3 ...</td>\n",
       "        <td style=\"padding-left: 1em; padding-right: 1em; text-align: center; vertical-align: top\">198</td>\n",
       "    </tr>\n",
       "    <tr>\n",
       "        <td style=\"padding-left: 1em; padding-right: 1em; text-align: center; vertical-align: top\">00000c289a1829a808ac09c00<br>daf10bc3c4e223b ...</td>\n",
       "        <td style=\"padding-left: 1em; padding-right: 1em; text-align: center; vertical-align: top\">b071f9fa-14b0-4217-8e97-e<br>b41da73f598 ...</td>\n",
       "        <td style=\"padding-left: 1em; padding-right: 1em; text-align: center; vertical-align: top\">150</td>\n",
       "    </tr>\n",
       "    <tr>\n",
       "        <td style=\"padding-left: 1em; padding-right: 1em; text-align: center; vertical-align: top\">00000c289a1829a808ac09c00<br>daf10bc3c4e223b ...</td>\n",
       "        <td style=\"padding-left: 1em; padding-right: 1em; text-align: center; vertical-align: top\">7b885d42-3c41-4f43-9944-a<br>5855ec5155e ...</td>\n",
       "        <td style=\"padding-left: 1em; padding-right: 1em; text-align: center; vertical-align: top\">361</td>\n",
       "    </tr>\n",
       "    <tr>\n",
       "        <td style=\"padding-left: 1em; padding-right: 1em; text-align: center; vertical-align: top\">00000c289a1829a808ac09c00<br>daf10bc3c4e223b ...</td>\n",
       "        <td style=\"padding-left: 1em; padding-right: 1em; text-align: center; vertical-align: top\">9fdaa16b-a6c4-4831-b87c-<br>bc9ca8ce7eaa ...</td>\n",
       "        <td style=\"padding-left: 1em; padding-right: 1em; text-align: center; vertical-align: top\">168</td>\n",
       "    </tr>\n",
       "    <tr>\n",
       "        <td style=\"padding-left: 1em; padding-right: 1em; text-align: center; vertical-align: top\">00000c289a1829a808ac09c00<br>daf10bc3c4e223b ...</td>\n",
       "        <td style=\"padding-left: 1em; padding-right: 1em; text-align: center; vertical-align: top\">fb01635c-51fc-4cad-b71f-<br>62e18bb3433b ...</td>\n",
       "        <td style=\"padding-left: 1em; padding-right: 1em; text-align: center; vertical-align: top\">231</td>\n",
       "    </tr>\n",
       "    <tr>\n",
       "        <td style=\"padding-left: 1em; padding-right: 1em; text-align: center; vertical-align: top\">00000c289a1829a808ac09c00<br>daf10bc3c4e223b ...</td>\n",
       "        <td style=\"padding-left: 1em; padding-right: 1em; text-align: center; vertical-align: top\">83998f9c-846b-4294-aede-<br>d7735531c901 ...</td>\n",
       "        <td style=\"padding-left: 1em; padding-right: 1em; text-align: center; vertical-align: top\">232</td>\n",
       "    </tr>\n",
       "    <tr>\n",
       "        <td style=\"padding-left: 1em; padding-right: 1em; text-align: center; vertical-align: top\">00000c289a1829a808ac09c00<br>daf10bc3c4e223b ...</td>\n",
       "        <td style=\"padding-left: 1em; padding-right: 1em; text-align: center; vertical-align: top\">e8374874-4178-4869-b92e-<br>fef6bf30dc04 ...</td>\n",
       "        <td style=\"padding-left: 1em; padding-right: 1em; text-align: center; vertical-align: top\">302</td>\n",
       "    </tr>\n",
       "    <tr>\n",
       "        <td style=\"padding-left: 1em; padding-right: 1em; text-align: center; vertical-align: top\">00000c289a1829a808ac09c00<br>daf10bc3c4e223b ...</td>\n",
       "        <td style=\"padding-left: 1em; padding-right: 1em; text-align: center; vertical-align: top\">144ef525-85e9-40c3-8335-0<br>2c32d0861f3 ...</td>\n",
       "        <td style=\"padding-left: 1em; padding-right: 1em; text-align: center; vertical-align: top\">182</td>\n",
       "    </tr>\n",
       "    <tr>\n",
       "        <td style=\"padding-left: 1em; padding-right: 1em; text-align: center; vertical-align: top\">00000c289a1829a808ac09c00<br>daf10bc3c4e223b ...</td>\n",
       "        <td style=\"padding-left: 1em; padding-right: 1em; text-align: center; vertical-align: top\">3d6bbeb7-f90e-<br>4d10-b440-e153c0d10b53 ...</td>\n",
       "        <td style=\"padding-left: 1em; padding-right: 1em; text-align: center; vertical-align: top\">717</td>\n",
       "    </tr>\n",
       "    <tr>\n",
       "        <td style=\"padding-left: 1em; padding-right: 1em; text-align: center; vertical-align: top\">00000c289a1829a808ac09c00<br>daf10bc3c4e223b ...</td>\n",
       "        <td style=\"padding-left: 1em; padding-right: 1em; text-align: center; vertical-align: top\">8000598a-5edb-401c-8e6d-<br>36b167feaf38 ...</td>\n",
       "        <td style=\"padding-left: 1em; padding-right: 1em; text-align: center; vertical-align: top\">222</td>\n",
       "    </tr>\n",
       "</table>\n",
       "[3254976 rows x 3 columns]<br/>Note: Only the head of the SFrame is printed.<br/>You can use print_rows(num_rows=m, num_columns=n) to print more rows and columns.\n",
       "</div>"
      ],
      "text/plain": [
       "Columns:\n",
       "\tuser_id\tstr\n",
       "\titem_id\tstr\n",
       "\tplays\tint\n",
       "\n",
       "Rows: 3254976\n",
       "\n",
       "Data:\n",
       "+-------------------------------+-------------------------------+-------+\n",
       "|            user_id            |            item_id            | plays |\n",
       "+-------------------------------+-------------------------------+-------+\n",
       "| 00000c289a1829a808ac09c00d... | c995a379-60b9-404b-bd97-a7... |  198  |\n",
       "| 00000c289a1829a808ac09c00d... | b071f9fa-14b0-4217-8e97-eb... |  150  |\n",
       "| 00000c289a1829a808ac09c00d... | 7b885d42-3c41-4f43-9944-a5... |  361  |\n",
       "| 00000c289a1829a808ac09c00d... | 9fdaa16b-a6c4-4831-b87c-bc... |  168  |\n",
       "| 00000c289a1829a808ac09c00d... | fb01635c-51fc-4cad-b71f-62... |  231  |\n",
       "| 00000c289a1829a808ac09c00d... | 83998f9c-846b-4294-aede-d7... |  232  |\n",
       "| 00000c289a1829a808ac09c00d... | e8374874-4178-4869-b92e-fe... |  302  |\n",
       "| 00000c289a1829a808ac09c00d... | 144ef525-85e9-40c3-8335-02... |  182  |\n",
       "| 00000c289a1829a808ac09c00d... | 3d6bbeb7-f90e-4d10-b440-e1... |  717  |\n",
       "| 00000c289a1829a808ac09c00d... | 8000598a-5edb-401c-8e6d-36... |  222  |\n",
       "+-------------------------------+-------------------------------+-------+\n",
       "[3254976 rows x 3 columns]\n",
       "Note: Only the head of the SFrame is printed.\n",
       "You can use print_rows(num_rows=m, num_columns=n) to print more rows and columns."
      ]
     },
     "execution_count": 38,
     "metadata": {},
     "output_type": "execute_result"
    }
   ],
   "source": [
    "sf_train = gl.SFrame.read_csv(\"data/traindf\", header=True, verbose=False, column_type_hints={\"plays\":int})\n",
    "sf_train.remove_column('X1')\n",
    "sf_train.rename({'user':'user_id', \"artist\": \"item_id\"})"
   ]
  },
  {
   "cell_type": "code",
   "execution_count": 39,
   "metadata": {
    "collapsed": false
   },
   "outputs": [
    {
     "data": {
      "text/html": [
       "<div style=\"max-height:1000px;max-width:1500px;overflow:auto;\"><table frame=\"box\" rules=\"cols\">\n",
       "    <tr>\n",
       "        <th style=\"padding-left: 1em; padding-right: 1em; text-align: center\">user_id</th>\n",
       "        <th style=\"padding-left: 1em; padding-right: 1em; text-align: center\">item_id</th>\n",
       "        <th style=\"padding-left: 1em; padding-right: 1em; text-align: center\">plays</th>\n",
       "    </tr>\n",
       "    <tr>\n",
       "        <td style=\"padding-left: 1em; padding-right: 1em; text-align: center; vertical-align: top\">00001411dc427966b17297bf4<br>d69e7e193135d89 ...</td>\n",
       "        <td style=\"padding-left: 1em; padding-right: 1em; text-align: center; vertical-align: top\">e105c272-b5d7-4135-82ef-<br>d60bded54345 ...</td>\n",
       "        <td style=\"padding-left: 1em; padding-right: 1em; text-align: center; vertical-align: top\">1244</td>\n",
       "    </tr>\n",
       "    <tr>\n",
       "        <td style=\"padding-left: 1em; padding-right: 1em; text-align: center; vertical-align: top\">00001411dc427966b17297bf4<br>d69e7e193135d89 ...</td>\n",
       "        <td style=\"padding-left: 1em; padding-right: 1em; text-align: center; vertical-align: top\">9fa07bb4-8312-4cd7-a19a-<br>4fdbc5797148 ...</td>\n",
       "        <td style=\"padding-left: 1em; padding-right: 1em; text-align: center; vertical-align: top\">2641</td>\n",
       "    </tr>\n",
       "    <tr>\n",
       "        <td style=\"padding-left: 1em; padding-right: 1em; text-align: center; vertical-align: top\">00001411dc427966b17297bf4<br>d69e7e193135d89 ...</td>\n",
       "        <td style=\"padding-left: 1em; padding-right: 1em; text-align: center; vertical-align: top\">ffb18e19-64a4-4a65-b4ce-<br>979e00c3c69d ...</td>\n",
       "        <td style=\"padding-left: 1em; padding-right: 1em; text-align: center; vertical-align: top\">622</td>\n",
       "    </tr>\n",
       "    <tr>\n",
       "        <td style=\"padding-left: 1em; padding-right: 1em; text-align: center; vertical-align: top\">00001411dc427966b17297bf4<br>d69e7e193135d89 ...</td>\n",
       "        <td style=\"padding-left: 1em; padding-right: 1em; text-align: center; vertical-align: top\">451f9db1-f75f-<br>44f9-b218-f8bdf22035a1 ...</td>\n",
       "        <td style=\"padding-left: 1em; padding-right: 1em; text-align: center; vertical-align: top\">2427</td>\n",
       "    </tr>\n",
       "    <tr>\n",
       "        <td style=\"padding-left: 1em; padding-right: 1em; text-align: center; vertical-align: top\">000063d3fe1cf2ba248b9e3c3<br>f0334845a27a6bf ...</td>\n",
       "        <td style=\"padding-left: 1em; padding-right: 1em; text-align: center; vertical-align: top\">50eec634-7c42-41ee-9b1f-<br>b41d9ca28b26 ...</td>\n",
       "        <td style=\"padding-left: 1em; padding-right: 1em; text-align: center; vertical-align: top\">8</td>\n",
       "    </tr>\n",
       "    <tr>\n",
       "        <td style=\"padding-left: 1em; padding-right: 1em; text-align: center; vertical-align: top\">000063d3fe1cf2ba248b9e3c3<br>f0334845a27a6bf ...</td>\n",
       "        <td style=\"padding-left: 1em; padding-right: 1em; text-align: center; vertical-align: top\">2449300a-6ca7-45da-8102-2<br>2789d256475 ...</td>\n",
       "        <td style=\"padding-left: 1em; padding-right: 1em; text-align: center; vertical-align: top\">14</td>\n",
       "    </tr>\n",
       "    <tr>\n",
       "        <td style=\"padding-left: 1em; padding-right: 1em; text-align: center; vertical-align: top\">000063d3fe1cf2ba248b9e3c3<br>f0334845a27a6bf ...</td>\n",
       "        <td style=\"padding-left: 1em; padding-right: 1em; text-align: center; vertical-align: top\">61ed9c9c-79eb-<br>4e8f-8015-bd599ac0ab49 ...</td>\n",
       "        <td style=\"padding-left: 1em; padding-right: 1em; text-align: center; vertical-align: top\">11</td>\n",
       "    </tr>\n",
       "    <tr>\n",
       "        <td style=\"padding-left: 1em; padding-right: 1em; text-align: center; vertical-align: top\">000063d3fe1cf2ba248b9e3c3<br>f0334845a27a6bf ...</td>\n",
       "        <td style=\"padding-left: 1em; padding-right: 1em; text-align: center; vertical-align: top\">66fc5bf8-daa4-4241-b378-9<br>bc9077939d2 ...</td>\n",
       "        <td style=\"padding-left: 1em; padding-right: 1em; text-align: center; vertical-align: top\">4</td>\n",
       "    </tr>\n",
       "    <tr>\n",
       "        <td style=\"padding-left: 1em; padding-right: 1em; text-align: center; vertical-align: top\">00007a47085b9aab8af55f52e<br>c8846ac479ac4fe ...</td>\n",
       "        <td style=\"padding-left: 1em; padding-right: 1em; text-align: center; vertical-align: top\">69158f97-4c07-4c4e-<br>baf8-4e4ab1ed666e ...</td>\n",
       "        <td style=\"padding-left: 1em; padding-right: 1em; text-align: center; vertical-align: top\">407</td>\n",
       "    </tr>\n",
       "    <tr>\n",
       "        <td style=\"padding-left: 1em; padding-right: 1em; text-align: center; vertical-align: top\">00007a47085b9aab8af55f52e<br>c8846ac479ac4fe ...</td>\n",
       "        <td style=\"padding-left: 1em; padding-right: 1em; text-align: center; vertical-align: top\">10adbe5e-a2c0-4bf3-8249-2<br>b4cbf6e6ca8 ...</td>\n",
       "        <td style=\"padding-left: 1em; padding-right: 1em; text-align: center; vertical-align: top\">149</td>\n",
       "    </tr>\n",
       "</table>\n",
       "[899828 rows x 3 columns]<br/>Note: Only the head of the SFrame is printed.<br/>You can use print_rows(num_rows=m, num_columns=n) to print more rows and columns.\n",
       "</div>"
      ],
      "text/plain": [
       "Columns:\n",
       "\tuser_id\tstr\n",
       "\titem_id\tstr\n",
       "\tplays\tint\n",
       "\n",
       "Rows: 899828\n",
       "\n",
       "Data:\n",
       "+-------------------------------+-------------------------------+-------+\n",
       "|            user_id            |            item_id            | plays |\n",
       "+-------------------------------+-------------------------------+-------+\n",
       "| 00001411dc427966b17297bf4d... | e105c272-b5d7-4135-82ef-d6... |  1244 |\n",
       "| 00001411dc427966b17297bf4d... | 9fa07bb4-8312-4cd7-a19a-4f... |  2641 |\n",
       "| 00001411dc427966b17297bf4d... | ffb18e19-64a4-4a65-b4ce-97... |  622  |\n",
       "| 00001411dc427966b17297bf4d... | 451f9db1-f75f-44f9-b218-f8... |  2427 |\n",
       "| 000063d3fe1cf2ba248b9e3c3f... | 50eec634-7c42-41ee-9b1f-b4... |   8   |\n",
       "| 000063d3fe1cf2ba248b9e3c3f... | 2449300a-6ca7-45da-8102-22... |   14  |\n",
       "| 000063d3fe1cf2ba248b9e3c3f... | 61ed9c9c-79eb-4e8f-8015-bd... |   11  |\n",
       "| 000063d3fe1cf2ba248b9e3c3f... | 66fc5bf8-daa4-4241-b378-9b... |   4   |\n",
       "| 00007a47085b9aab8af55f52ec... | 69158f97-4c07-4c4e-baf8-4e... |  407  |\n",
       "| 00007a47085b9aab8af55f52ec... | 10adbe5e-a2c0-4bf3-8249-2b... |  149  |\n",
       "+-------------------------------+-------------------------------+-------+\n",
       "[899828 rows x 3 columns]\n",
       "Note: Only the head of the SFrame is printed.\n",
       "You can use print_rows(num_rows=m, num_columns=n) to print more rows and columns."
      ]
     },
     "execution_count": 39,
     "metadata": {},
     "output_type": "execute_result"
    }
   ],
   "source": [
    "sf_validate = gl.SFrame.read_csv(\"data/validatedf\", header=True, verbose=False, column_type_hints={\"plays\":int})\n",
    "sf_validate.remove_column('X1')\n",
    "sf_validate.rename({'user':'user_id', \"artist\": \"item_id\"})"
   ]
  },
  {
   "cell_type": "code",
   "execution_count": 40,
   "metadata": {
    "collapsed": false
   },
   "outputs": [
    {
     "data": {
      "text/html": [
       "<div style=\"max-height:1000px;max-width:1500px;overflow:auto;\"><table frame=\"box\" rules=\"cols\">\n",
       "    <tr>\n",
       "        <th style=\"padding-left: 1em; padding-right: 1em; text-align: center\">Id</th>\n",
       "        <th style=\"padding-left: 1em; padding-right: 1em; text-align: center\">user_id</th>\n",
       "        <th style=\"padding-left: 1em; padding-right: 1em; text-align: center\">item_id</th>\n",
       "    </tr>\n",
       "    <tr>\n",
       "        <td style=\"padding-left: 1em; padding-right: 1em; text-align: center; vertical-align: top\">1</td>\n",
       "        <td style=\"padding-left: 1em; padding-right: 1em; text-align: center; vertical-align: top\">306e19cce2522fa2d39ff5dfc<br>870992100ec22d2 ...</td>\n",
       "        <td style=\"padding-left: 1em; padding-right: 1em; text-align: center; vertical-align: top\">4ac4e32b-bd18-402e-adad-<br>ae00e72f8d85 ...</td>\n",
       "    </tr>\n",
       "    <tr>\n",
       "        <td style=\"padding-left: 1em; padding-right: 1em; text-align: center; vertical-align: top\">2</td>\n",
       "        <td style=\"padding-left: 1em; padding-right: 1em; text-align: center; vertical-align: top\">9450d351278df4938bdea4ed8<br>6aec940a4e927ac ...</td>\n",
       "        <td style=\"padding-left: 1em; padding-right: 1em; text-align: center; vertical-align: top\">1f574ab1-a46d-4586-9331-f<br>0ded23e0411 ...</td>\n",
       "    </tr>\n",
       "    <tr>\n",
       "        <td style=\"padding-left: 1em; padding-right: 1em; text-align: center; vertical-align: top\">3</td>\n",
       "        <td style=\"padding-left: 1em; padding-right: 1em; text-align: center; vertical-align: top\">801909d6955f59033c88595d3<br>d7f8a6a5dcd53cc ...</td>\n",
       "        <td style=\"padding-left: 1em; padding-right: 1em; text-align: center; vertical-align: top\">3eb72791-6322-466b-<br>87d3-24d74901eb2d ...</td>\n",
       "    </tr>\n",
       "    <tr>\n",
       "        <td style=\"padding-left: 1em; padding-right: 1em; text-align: center; vertical-align: top\">4</td>\n",
       "        <td style=\"padding-left: 1em; padding-right: 1em; text-align: center; vertical-align: top\">e3ed47445c127fbeff47fb58f<br>6bbf2f3b4535d82 ...</td>\n",
       "        <td style=\"padding-left: 1em; padding-right: 1em; text-align: center; vertical-align: top\">61604b45-8a91-4e33-a1b6-4<br>5d7b1fec4e5 ...</td>\n",
       "    </tr>\n",
       "    <tr>\n",
       "        <td style=\"padding-left: 1em; padding-right: 1em; text-align: center; vertical-align: top\">5</td>\n",
       "        <td style=\"padding-left: 1em; padding-right: 1em; text-align: center; vertical-align: top\">a73f46652103f3a5f74291593<br>10f6928f79644aa ...</td>\n",
       "        <td style=\"padding-left: 1em; padding-right: 1em; text-align: center; vertical-align: top\">5dfdca28-9ddc-4853-933c-<br>8bc97d87beec ...</td>\n",
       "    </tr>\n",
       "    <tr>\n",
       "        <td style=\"padding-left: 1em; padding-right: 1em; text-align: center; vertical-align: top\">6</td>\n",
       "        <td style=\"padding-left: 1em; padding-right: 1em; text-align: center; vertical-align: top\">55f1c89e3a102de38a0bdfcb1<br>fe660b028c5c0af ...</td>\n",
       "        <td style=\"padding-left: 1em; padding-right: 1em; text-align: center; vertical-align: top\">ef58d4c9-0d40-42ba-bfab-<br>9186c1483edd ...</td>\n",
       "    </tr>\n",
       "    <tr>\n",
       "        <td style=\"padding-left: 1em; padding-right: 1em; text-align: center; vertical-align: top\">7</td>\n",
       "        <td style=\"padding-left: 1em; padding-right: 1em; text-align: center; vertical-align: top\">7ad7619f38bf52de421b795f3<br>159949422b5bbee ...</td>\n",
       "        <td style=\"padding-left: 1em; padding-right: 1em; text-align: center; vertical-align: top\">a3cb23fc-acd3-4ce0-8f36-1<br>e5aa6a18432 ...</td>\n",
       "    </tr>\n",
       "    <tr>\n",
       "        <td style=\"padding-left: 1em; padding-right: 1em; text-align: center; vertical-align: top\">8</td>\n",
       "        <td style=\"padding-left: 1em; padding-right: 1em; text-align: center; vertical-align: top\">2a1ab291185cfc6fb99655648<br>1e178666e9731f9 ...</td>\n",
       "        <td style=\"padding-left: 1em; padding-right: 1em; text-align: center; vertical-align: top\">5dfdca28-9ddc-4853-933c-<br>8bc97d87beec ...</td>\n",
       "    </tr>\n",
       "    <tr>\n",
       "        <td style=\"padding-left: 1em; padding-right: 1em; text-align: center; vertical-align: top\">9</td>\n",
       "        <td style=\"padding-left: 1em; padding-right: 1em; text-align: center; vertical-align: top\">3f407fff902ab403f06668f6b<br>e3d10bb9e9a02cd ...</td>\n",
       "        <td style=\"padding-left: 1em; padding-right: 1em; text-align: center; vertical-align: top\">000fc734-b7e1-4a01-92d1-f<br>544261b43f5 ...</td>\n",
       "    </tr>\n",
       "    <tr>\n",
       "        <td style=\"padding-left: 1em; padding-right: 1em; text-align: center; vertical-align: top\">10</td>\n",
       "        <td style=\"padding-left: 1em; padding-right: 1em; text-align: center; vertical-align: top\">2eea5a2b68e6e9e0d9dd6b3c1<br>c0e1e5840fc9ce3 ...</td>\n",
       "        <td style=\"padding-left: 1em; padding-right: 1em; text-align: center; vertical-align: top\">84783313-2a3f-4f17-ab9a-<br>425a5d527879 ...</td>\n",
       "    </tr>\n",
       "</table>\n",
       "[4154804 rows x 3 columns]<br/>Note: Only the head of the SFrame is printed.<br/>You can use print_rows(num_rows=m, num_columns=n) to print more rows and columns.\n",
       "</div>"
      ],
      "text/plain": [
       "Columns:\n",
       "\tId\tint\n",
       "\tuser_id\tstr\n",
       "\titem_id\tstr\n",
       "\n",
       "Rows: 4154804\n",
       "\n",
       "Data:\n",
       "+----+-------------------------------+-------------------------------+\n",
       "| Id |            user_id            |            item_id            |\n",
       "+----+-------------------------------+-------------------------------+\n",
       "| 1  | 306e19cce2522fa2d39ff5dfc8... | 4ac4e32b-bd18-402e-adad-ae... |\n",
       "| 2  | 9450d351278df4938bdea4ed86... | 1f574ab1-a46d-4586-9331-f0... |\n",
       "| 3  | 801909d6955f59033c88595d3d... | 3eb72791-6322-466b-87d3-24... |\n",
       "| 4  | e3ed47445c127fbeff47fb58f6... | 61604b45-8a91-4e33-a1b6-45... |\n",
       "| 5  | a73f46652103f3a5f742915931... | 5dfdca28-9ddc-4853-933c-8b... |\n",
       "| 6  | 55f1c89e3a102de38a0bdfcb1f... | ef58d4c9-0d40-42ba-bfab-91... |\n",
       "| 7  | 7ad7619f38bf52de421b795f31... | a3cb23fc-acd3-4ce0-8f36-1e... |\n",
       "| 8  | 2a1ab291185cfc6fb996556481... | 5dfdca28-9ddc-4853-933c-8b... |\n",
       "| 9  | 3f407fff902ab403f06668f6be... | 000fc734-b7e1-4a01-92d1-f5... |\n",
       "| 10 | 2eea5a2b68e6e9e0d9dd6b3c1c... | 84783313-2a3f-4f17-ab9a-42... |\n",
       "+----+-------------------------------+-------------------------------+\n",
       "[4154804 rows x 3 columns]\n",
       "Note: Only the head of the SFrame is printed.\n",
       "You can use print_rows(num_rows=m, num_columns=n) to print more rows and columns."
      ]
     },
     "execution_count": 40,
     "metadata": {},
     "output_type": "execute_result"
    }
   ],
   "source": [
    "sf_test = gl.SFrame.read_csv(test_file, header=True, verbose=False)\n",
    "sf_test.rename({'user':'user_id', \"artist\": \"item_id\"})"
   ]
  },
  {
   "cell_type": "code",
   "execution_count": 41,
   "metadata": {
    "collapsed": true
   },
   "outputs": [],
   "source": [
    "#### Models ####"
   ]
  },
  {
   "cell_type": "code",
   "execution_count": 42,
   "metadata": {
    "collapsed": false
   },
   "outputs": [
    {
     "data": {
      "text/html": [
       "<pre>Recsys training: model = item_similarity</pre>"
      ],
      "text/plain": [
       "Recsys training: model = item_similarity"
      ]
     },
     "metadata": {},
     "output_type": "display_data"
    },
    {
     "data": {
      "text/html": [
       "<pre>Preparing data set.</pre>"
      ],
      "text/plain": [
       "Preparing data set."
      ]
     },
     "metadata": {},
     "output_type": "display_data"
    },
    {
     "data": {
      "text/html": [
       "<pre>    Data has 3254976 observations with 233286 users and 2000 items.</pre>"
      ],
      "text/plain": [
       "    Data has 3254976 observations with 233286 users and 2000 items."
      ]
     },
     "metadata": {},
     "output_type": "display_data"
    },
    {
     "data": {
      "text/html": [
       "<pre>    Data prepared in: 5.65549s</pre>"
      ],
      "text/plain": [
       "    Data prepared in: 5.65549s"
      ]
     },
     "metadata": {},
     "output_type": "display_data"
    },
    {
     "data": {
      "text/html": [
       "<pre>Computing item similarity statistics:</pre>"
      ],
      "text/plain": [
       "Computing item similarity statistics:"
      ]
     },
     "metadata": {},
     "output_type": "display_data"
    },
    {
     "data": {
      "text/html": [
       "<pre>+-----------------+-----------------+</pre>"
      ],
      "text/plain": [
       "+-----------------+-----------------+"
      ]
     },
     "metadata": {},
     "output_type": "display_data"
    },
    {
     "data": {
      "text/html": [
       "<pre>| Number of users | Elapsed Time    |</pre>"
      ],
      "text/plain": [
       "| Number of users | Elapsed Time    |"
      ]
     },
     "metadata": {},
     "output_type": "display_data"
    },
    {
     "data": {
      "text/html": [
       "<pre>+-----------------+-----------------+</pre>"
      ],
      "text/plain": [
       "+-----------------+-----------------+"
      ]
     },
     "metadata": {},
     "output_type": "display_data"
    },
    {
     "data": {
      "text/html": [
       "<pre>| 100000          | 0.328635        |</pre>"
      ],
      "text/plain": [
       "| 100000          | 0.328635        |"
      ]
     },
     "metadata": {},
     "output_type": "display_data"
    },
    {
     "data": {
      "text/html": [
       "<pre>| 200000          | 0.687513        |</pre>"
      ],
      "text/plain": [
       "| 200000          | 0.687513        |"
      ]
     },
     "metadata": {},
     "output_type": "display_data"
    },
    {
     "data": {
      "text/html": [
       "<pre>+-----------------+-----------------+</pre>"
      ],
      "text/plain": [
       "+-----------------+-----------------+"
      ]
     },
     "metadata": {},
     "output_type": "display_data"
    },
    {
     "data": {
      "text/html": [
       "<pre>Computing most similar items for 2000 items:</pre>"
      ],
      "text/plain": [
       "Computing most similar items for 2000 items:"
      ]
     },
     "metadata": {},
     "output_type": "display_data"
    },
    {
     "data": {
      "text/html": [
       "<pre>+-----------------+-----------------+</pre>"
      ],
      "text/plain": [
       "+-----------------+-----------------+"
      ]
     },
     "metadata": {},
     "output_type": "display_data"
    },
    {
     "data": {
      "text/html": [
       "<pre>| Number of items | Elapsed Time    |</pre>"
      ],
      "text/plain": [
       "| Number of items | Elapsed Time    |"
      ]
     },
     "metadata": {},
     "output_type": "display_data"
    },
    {
     "data": {
      "text/html": [
       "<pre>+-----------------+-----------------+</pre>"
      ],
      "text/plain": [
       "+-----------------+-----------------+"
      ]
     },
     "metadata": {},
     "output_type": "display_data"
    },
    {
     "data": {
      "text/html": [
       "<pre>| 1000            | 0.911959        |</pre>"
      ],
      "text/plain": [
       "| 1000            | 0.911959        |"
      ]
     },
     "metadata": {},
     "output_type": "display_data"
    },
    {
     "data": {
      "text/html": [
       "<pre>| 2000            | 0.980958        |</pre>"
      ],
      "text/plain": [
       "| 2000            | 0.980958        |"
      ]
     },
     "metadata": {},
     "output_type": "display_data"
    },
    {
     "data": {
      "text/html": [
       "<pre>+-----------------+-----------------+</pre>"
      ],
      "text/plain": [
       "+-----------------+-----------------+"
      ]
     },
     "metadata": {},
     "output_type": "display_data"
    },
    {
     "data": {
      "text/html": [
       "<pre>Finished training in 1.44074s</pre>"
      ],
      "text/plain": [
       "Finished training in 1.44074s"
      ]
     },
     "metadata": {},
     "output_type": "display_data"
    },
    {
     "data": {
      "text/html": [
       "<pre>Finished prediction in 3.06442s</pre>"
      ],
      "text/plain": [
       "Finished prediction in 3.06442s"
      ]
     },
     "metadata": {},
     "output_type": "display_data"
    },
    {
     "data": {
      "text/html": [
       "<pre>Finished prediction in 0.862076s</pre>"
      ],
      "text/plain": [
       "Finished prediction in 0.862076s"
      ]
     },
     "metadata": {},
     "output_type": "display_data"
    }
   ],
   "source": [
    "#### Item Similarity Models (Jaccard similarity) ####\n",
    "item_sim_model_jaccard = gl.item_similarity_recommender.create(sf_train, user_id=\"user_id\", item_id=\"item_id\", target=\"plays\")\n",
    "\n",
    "result_item_sim_model_jaccard = item_sim_model_jaccard.predict(sf_validate)\n",
    "\n",
    "predictions['item_sim_model_jaccard'] = result_item_sim_model_jaccard"
   ]
  },
  {
   "cell_type": "code",
   "execution_count": 43,
   "metadata": {
    "collapsed": false
   },
   "outputs": [
    {
     "data": {
      "text/html": [
       "<pre>Recsys training: model = item_similarity</pre>"
      ],
      "text/plain": [
       "Recsys training: model = item_similarity"
      ]
     },
     "metadata": {},
     "output_type": "display_data"
    },
    {
     "data": {
      "text/html": [
       "<pre>Preparing data set.</pre>"
      ],
      "text/plain": [
       "Preparing data set."
      ]
     },
     "metadata": {},
     "output_type": "display_data"
    },
    {
     "data": {
      "text/html": [
       "<pre>    Data has 3254976 observations with 233286 users and 2000 items.</pre>"
      ],
      "text/plain": [
       "    Data has 3254976 observations with 233286 users and 2000 items."
      ]
     },
     "metadata": {},
     "output_type": "display_data"
    },
    {
     "data": {
      "text/html": [
       "<pre>    Data prepared in: 6.2959s</pre>"
      ],
      "text/plain": [
       "    Data prepared in: 6.2959s"
      ]
     },
     "metadata": {},
     "output_type": "display_data"
    },
    {
     "data": {
      "text/html": [
       "<pre>Computing item similarity statistics:</pre>"
      ],
      "text/plain": [
       "Computing item similarity statistics:"
      ]
     },
     "metadata": {},
     "output_type": "display_data"
    },
    {
     "data": {
      "text/html": [
       "<pre>+-----------------+-----------------+</pre>"
      ],
      "text/plain": [
       "+-----------------+-----------------+"
      ]
     },
     "metadata": {},
     "output_type": "display_data"
    },
    {
     "data": {
      "text/html": [
       "<pre>| Number of users | Elapsed Time    |</pre>"
      ],
      "text/plain": [
       "| Number of users | Elapsed Time    |"
      ]
     },
     "metadata": {},
     "output_type": "display_data"
    },
    {
     "data": {
      "text/html": [
       "<pre>+-----------------+-----------------+</pre>"
      ],
      "text/plain": [
       "+-----------------+-----------------+"
      ]
     },
     "metadata": {},
     "output_type": "display_data"
    },
    {
     "data": {
      "text/html": [
       "<pre>| 100000          | 0.17609         |</pre>"
      ],
      "text/plain": [
       "| 100000          | 0.17609         |"
      ]
     },
     "metadata": {},
     "output_type": "display_data"
    },
    {
     "data": {
      "text/html": [
       "<pre>| 200000          | 0.341739        |</pre>"
      ],
      "text/plain": [
       "| 200000          | 0.341739        |"
      ]
     },
     "metadata": {},
     "output_type": "display_data"
    },
    {
     "data": {
      "text/html": [
       "<pre>+-----------------+-----------------+</pre>"
      ],
      "text/plain": [
       "+-----------------+-----------------+"
      ]
     },
     "metadata": {},
     "output_type": "display_data"
    },
    {
     "data": {
      "text/html": [
       "<pre>Computing most similar items for 2000 items:</pre>"
      ],
      "text/plain": [
       "Computing most similar items for 2000 items:"
      ]
     },
     "metadata": {},
     "output_type": "display_data"
    },
    {
     "data": {
      "text/html": [
       "<pre>+-----------------+-----------------+</pre>"
      ],
      "text/plain": [
       "+-----------------+-----------------+"
      ]
     },
     "metadata": {},
     "output_type": "display_data"
    },
    {
     "data": {
      "text/html": [
       "<pre>| Number of items | Elapsed Time    |</pre>"
      ],
      "text/plain": [
       "| Number of items | Elapsed Time    |"
      ]
     },
     "metadata": {},
     "output_type": "display_data"
    },
    {
     "data": {
      "text/html": [
       "<pre>+-----------------+-----------------+</pre>"
      ],
      "text/plain": [
       "+-----------------+-----------------+"
      ]
     },
     "metadata": {},
     "output_type": "display_data"
    },
    {
     "data": {
      "text/html": [
       "<pre>| 1000            | 0.464674        |</pre>"
      ],
      "text/plain": [
       "| 1000            | 0.464674        |"
      ]
     },
     "metadata": {},
     "output_type": "display_data"
    },
    {
     "data": {
      "text/html": [
       "<pre>| 2000            | 0.500115        |</pre>"
      ],
      "text/plain": [
       "| 2000            | 0.500115        |"
      ]
     },
     "metadata": {},
     "output_type": "display_data"
    },
    {
     "data": {
      "text/html": [
       "<pre>+-----------------+-----------------+</pre>"
      ],
      "text/plain": [
       "+-----------------+-----------------+"
      ]
     },
     "metadata": {},
     "output_type": "display_data"
    },
    {
     "data": {
      "text/html": [
       "<pre>Finished training in 0.904401s</pre>"
      ],
      "text/plain": [
       "Finished training in 0.904401s"
      ]
     },
     "metadata": {},
     "output_type": "display_data"
    },
    {
     "data": {
      "text/html": [
       "<pre>Finished prediction in 2.37114s</pre>"
      ],
      "text/plain": [
       "Finished prediction in 2.37114s"
      ]
     },
     "metadata": {},
     "output_type": "display_data"
    },
    {
     "data": {
      "text/html": [
       "<pre>Finished prediction in 0.975346s</pre>"
      ],
      "text/plain": [
       "Finished prediction in 0.975346s"
      ]
     },
     "metadata": {},
     "output_type": "display_data"
    }
   ],
   "source": [
    "#### Item Similarity Models (Cosine similarity) ####\n",
    "item_sim_model_cosine = gl.item_similarity_recommender.create(sf_train, user_id=\"user_id\", item_id=\"item_id\", target=\"plays\", similarity_type=\"cosine\")\n",
    "\n",
    "result_item_sim_model_cosine = item_sim_model_cosine.predict(sf_validate)\n",
    "\n",
    "predictions['item_sim_model_cosine'] = result_item_sim_model_cosine"
   ]
  },
  {
   "cell_type": "code",
   "execution_count": 44,
   "metadata": {
    "collapsed": false
   },
   "outputs": [
    {
     "data": {
      "text/html": [
       "<pre>Recsys training: model = item_similarity</pre>"
      ],
      "text/plain": [
       "Recsys training: model = item_similarity"
      ]
     },
     "metadata": {},
     "output_type": "display_data"
    },
    {
     "data": {
      "text/html": [
       "<pre>Preparing data set.</pre>"
      ],
      "text/plain": [
       "Preparing data set."
      ]
     },
     "metadata": {},
     "output_type": "display_data"
    },
    {
     "data": {
      "text/html": [
       "<pre>    Data has 3254976 observations with 233286 users and 2000 items.</pre>"
      ],
      "text/plain": [
       "    Data has 3254976 observations with 233286 users and 2000 items."
      ]
     },
     "metadata": {},
     "output_type": "display_data"
    },
    {
     "data": {
      "text/html": [
       "<pre>    Data prepared in: 6.59028s</pre>"
      ],
      "text/plain": [
       "    Data prepared in: 6.59028s"
      ]
     },
     "metadata": {},
     "output_type": "display_data"
    },
    {
     "data": {
      "text/html": [
       "<pre>Computing item similarity statistics:</pre>"
      ],
      "text/plain": [
       "Computing item similarity statistics:"
      ]
     },
     "metadata": {},
     "output_type": "display_data"
    },
    {
     "data": {
      "text/html": [
       "<pre>+-----------------+-----------------+</pre>"
      ],
      "text/plain": [
       "+-----------------+-----------------+"
      ]
     },
     "metadata": {},
     "output_type": "display_data"
    },
    {
     "data": {
      "text/html": [
       "<pre>| Number of users | Elapsed Time    |</pre>"
      ],
      "text/plain": [
       "| Number of users | Elapsed Time    |"
      ]
     },
     "metadata": {},
     "output_type": "display_data"
    },
    {
     "data": {
      "text/html": [
       "<pre>+-----------------+-----------------+</pre>"
      ],
      "text/plain": [
       "+-----------------+-----------------+"
      ]
     },
     "metadata": {},
     "output_type": "display_data"
    },
    {
     "data": {
      "text/html": [
       "<pre>| 100000          | 0.277895        |</pre>"
      ],
      "text/plain": [
       "| 100000          | 0.277895        |"
      ]
     },
     "metadata": {},
     "output_type": "display_data"
    },
    {
     "data": {
      "text/html": [
       "<pre>| 200000          | 0.631321        |</pre>"
      ],
      "text/plain": [
       "| 200000          | 0.631321        |"
      ]
     },
     "metadata": {},
     "output_type": "display_data"
    },
    {
     "data": {
      "text/html": [
       "<pre>+-----------------+-----------------+</pre>"
      ],
      "text/plain": [
       "+-----------------+-----------------+"
      ]
     },
     "metadata": {},
     "output_type": "display_data"
    },
    {
     "data": {
      "text/html": [
       "<pre>Computing most similar items for 2000 items:</pre>"
      ],
      "text/plain": [
       "Computing most similar items for 2000 items:"
      ]
     },
     "metadata": {},
     "output_type": "display_data"
    },
    {
     "data": {
      "text/html": [
       "<pre>+-----------------+-----------------+</pre>"
      ],
      "text/plain": [
       "+-----------------+-----------------+"
      ]
     },
     "metadata": {},
     "output_type": "display_data"
    },
    {
     "data": {
      "text/html": [
       "<pre>| Number of items | Elapsed Time    |</pre>"
      ],
      "text/plain": [
       "| Number of items | Elapsed Time    |"
      ]
     },
     "metadata": {},
     "output_type": "display_data"
    },
    {
     "data": {
      "text/html": [
       "<pre>+-----------------+-----------------+</pre>"
      ],
      "text/plain": [
       "+-----------------+-----------------+"
      ]
     },
     "metadata": {},
     "output_type": "display_data"
    },
    {
     "data": {
      "text/html": [
       "<pre>| 1000            | 0.796224        |</pre>"
      ],
      "text/plain": [
       "| 1000            | 0.796224        |"
      ]
     },
     "metadata": {},
     "output_type": "display_data"
    },
    {
     "data": {
      "text/html": [
       "<pre>| 2000            | 0.837459        |</pre>"
      ],
      "text/plain": [
       "| 2000            | 0.837459        |"
      ]
     },
     "metadata": {},
     "output_type": "display_data"
    },
    {
     "data": {
      "text/html": [
       "<pre>+-----------------+-----------------+</pre>"
      ],
      "text/plain": [
       "+-----------------+-----------------+"
      ]
     },
     "metadata": {},
     "output_type": "display_data"
    },
    {
     "data": {
      "text/html": [
       "<pre>Finished training in 1.36061s</pre>"
      ],
      "text/plain": [
       "Finished training in 1.36061s"
      ]
     },
     "metadata": {},
     "output_type": "display_data"
    },
    {
     "data": {
      "text/html": [
       "<pre>Finished prediction in 2.00195s</pre>"
      ],
      "text/plain": [
       "Finished prediction in 2.00195s"
      ]
     },
     "metadata": {},
     "output_type": "display_data"
    },
    {
     "data": {
      "text/html": [
       "<pre>Finished prediction in 0.870869s</pre>"
      ],
      "text/plain": [
       "Finished prediction in 0.870869s"
      ]
     },
     "metadata": {},
     "output_type": "display_data"
    }
   ],
   "source": [
    "#### Item Similarity Models (Pearson similarity) ####\n",
    "item_sim_model_pearson = gl.item_similarity_recommender.create(sf_train, user_id=\"user_id\", item_id=\"item_id\", target=\"plays\", similarity_type=\"pearson\")\n",
    "\n",
    "result_item_sim_model_pearson = item_sim_model_pearson.predict(sf_validate)\n",
    "\n",
    "predictions['item_sim_model_pearson'] = result_item_sim_model_pearson"
   ]
  },
  {
   "cell_type": "code",
   "execution_count": 45,
   "metadata": {
    "collapsed": false
   },
   "outputs": [
    {
     "data": {
      "text/html": [
       "<pre>Recsys training: model = popularity</pre>"
      ],
      "text/plain": [
       "Recsys training: model = popularity"
      ]
     },
     "metadata": {},
     "output_type": "display_data"
    },
    {
     "data": {
      "text/html": [
       "<pre>Preparing data set.</pre>"
      ],
      "text/plain": [
       "Preparing data set."
      ]
     },
     "metadata": {},
     "output_type": "display_data"
    },
    {
     "data": {
      "text/html": [
       "<pre>    Data has 3254976 observations with 233286 users and 2000 items.</pre>"
      ],
      "text/plain": [
       "    Data has 3254976 observations with 233286 users and 2000 items."
      ]
     },
     "metadata": {},
     "output_type": "display_data"
    },
    {
     "data": {
      "text/html": [
       "<pre>    Data prepared in: 6.32245s</pre>"
      ],
      "text/plain": [
       "    Data prepared in: 6.32245s"
      ]
     },
     "metadata": {},
     "output_type": "display_data"
    },
    {
     "data": {
      "text/html": [
       "<pre>3254976 observations to process; with 2000 unique items.</pre>"
      ],
      "text/plain": [
       "3254976 observations to process; with 2000 unique items."
      ]
     },
     "metadata": {},
     "output_type": "display_data"
    }
   ],
   "source": [
    "#### Popularity Model  ####\n",
    "popularity_model = gl.popularity_recommender.create(sf_train, user_id=\"user_id\", item_id=\"item_id\", target=\"plays\")\n",
    "\n",
    "result_popularity_model = popularity_model.predict(sf_validate)\n",
    "\n",
    "predictions['popularity_model'] = result_popularity_model"
   ]
  },
  {
   "cell_type": "code",
   "execution_count": 47,
   "metadata": {
    "collapsed": false
   },
   "outputs": [
    {
     "data": {
      "text/html": [
       "<pre>Recsys training: model = factorization_recommender</pre>"
      ],
      "text/plain": [
       "Recsys training: model = factorization_recommender"
      ]
     },
     "metadata": {},
     "output_type": "display_data"
    },
    {
     "data": {
      "text/html": [
       "<pre>Preparing data set.</pre>"
      ],
      "text/plain": [
       "Preparing data set."
      ]
     },
     "metadata": {},
     "output_type": "display_data"
    },
    {
     "data": {
      "text/html": [
       "<pre>    Data has 3254976 observations with 233286 users and 2000 items.</pre>"
      ],
      "text/plain": [
       "    Data has 3254976 observations with 233286 users and 2000 items."
      ]
     },
     "metadata": {},
     "output_type": "display_data"
    },
    {
     "data": {
      "text/html": [
       "<pre>    Data prepared in: 5.38684s</pre>"
      ],
      "text/plain": [
       "    Data prepared in: 5.38684s"
      ]
     },
     "metadata": {},
     "output_type": "display_data"
    },
    {
     "data": {
      "text/html": [
       "<pre>Training factorization_recommender for recommendations.</pre>"
      ],
      "text/plain": [
       "Training factorization_recommender for recommendations."
      ]
     },
     "metadata": {},
     "output_type": "display_data"
    },
    {
     "data": {
      "text/html": [
       "<pre>+--------------------------------+--------------------------------------------------+----------+</pre>"
      ],
      "text/plain": [
       "+--------------------------------+--------------------------------------------------+----------+"
      ]
     },
     "metadata": {},
     "output_type": "display_data"
    },
    {
     "data": {
      "text/html": [
       "<pre>| Parameter                      | Description                                      | Value    |</pre>"
      ],
      "text/plain": [
       "| Parameter                      | Description                                      | Value    |"
      ]
     },
     "metadata": {},
     "output_type": "display_data"
    },
    {
     "data": {
      "text/html": [
       "<pre>+--------------------------------+--------------------------------------------------+----------+</pre>"
      ],
      "text/plain": [
       "+--------------------------------+--------------------------------------------------+----------+"
      ]
     },
     "metadata": {},
     "output_type": "display_data"
    },
    {
     "data": {
      "text/html": [
       "<pre>| num_factors                    | Factor Dimension                                 | 5        |</pre>"
      ],
      "text/plain": [
       "| num_factors                    | Factor Dimension                                 | 5        |"
      ]
     },
     "metadata": {},
     "output_type": "display_data"
    },
    {
     "data": {
      "text/html": [
       "<pre>| regularization                 | L2 Regularization on Factors                     | 0.0001   |</pre>"
      ],
      "text/plain": [
       "| regularization                 | L2 Regularization on Factors                     | 0.0001   |"
      ]
     },
     "metadata": {},
     "output_type": "display_data"
    },
    {
     "data": {
      "text/html": [
       "<pre>| solver                         | Solver used for training                         | adagrad  |</pre>"
      ],
      "text/plain": [
       "| solver                         | Solver used for training                         | adagrad  |"
      ]
     },
     "metadata": {},
     "output_type": "display_data"
    },
    {
     "data": {
      "text/html": [
       "<pre>| linear_regularization          | L2 Regularization on Linear Coefficients         | 1e-10    |</pre>"
      ],
      "text/plain": [
       "| linear_regularization          | L2 Regularization on Linear Coefficients         | 1e-10    |"
      ]
     },
     "metadata": {},
     "output_type": "display_data"
    },
    {
     "data": {
      "text/html": [
       "<pre>| side_data_factorization        | Assign Factors for Side Data                     | True     |</pre>"
      ],
      "text/plain": [
       "| side_data_factorization        | Assign Factors for Side Data                     | True     |"
      ]
     },
     "metadata": {},
     "output_type": "display_data"
    },
    {
     "data": {
      "text/html": [
       "<pre>| max_iterations                 | Maximum Number of Iterations                     | 50       |</pre>"
      ],
      "text/plain": [
       "| max_iterations                 | Maximum Number of Iterations                     | 50       |"
      ]
     },
     "metadata": {},
     "output_type": "display_data"
    },
    {
     "data": {
      "text/html": [
       "<pre>+--------------------------------+--------------------------------------------------+----------+</pre>"
      ],
      "text/plain": [
       "+--------------------------------+--------------------------------------------------+----------+"
      ]
     },
     "metadata": {},
     "output_type": "display_data"
    },
    {
     "data": {
      "text/html": [
       "<pre>  Optimizing model using SGD; tuning step size.</pre>"
      ],
      "text/plain": [
       "  Optimizing model using SGD; tuning step size."
      ]
     },
     "metadata": {},
     "output_type": "display_data"
    },
    {
     "data": {
      "text/html": [
       "<pre>  Using 406872 / 3254976 points for tuning the step size.</pre>"
      ],
      "text/plain": [
       "  Using 406872 / 3254976 points for tuning the step size."
      ]
     },
     "metadata": {},
     "output_type": "display_data"
    },
    {
     "data": {
      "text/html": [
       "<pre>+---------+-------------------+------------------------------------------+</pre>"
      ],
      "text/plain": [
       "+---------+-------------------+------------------------------------------+"
      ]
     },
     "metadata": {},
     "output_type": "display_data"
    },
    {
     "data": {
      "text/html": [
       "<pre>| Attempt | Initial Step Size | Estimated Objective Value                |</pre>"
      ],
      "text/plain": [
       "| Attempt | Initial Step Size | Estimated Objective Value                |"
      ]
     },
     "metadata": {},
     "output_type": "display_data"
    },
    {
     "data": {
      "text/html": [
       "<pre>+---------+-------------------+------------------------------------------+</pre>"
      ],
      "text/plain": [
       "+---------+-------------------+------------------------------------------+"
      ]
     },
     "metadata": {},
     "output_type": "display_data"
    },
    {
     "data": {
      "text/html": [
       "<pre>| 0       | 0.226367          | 455628                                   |</pre>"
      ],
      "text/plain": [
       "| 0       | 0.226367          | 455628                                   |"
      ]
     },
     "metadata": {},
     "output_type": "display_data"
    },
    {
     "data": {
      "text/html": [
       "<pre>| 1       | 0.113183          | 459033                                   |</pre>"
      ],
      "text/plain": [
       "| 1       | 0.113183          | 459033                                   |"
      ]
     },
     "metadata": {},
     "output_type": "display_data"
    },
    {
     "data": {
      "text/html": [
       "<pre>| 2       | 0.0565917         | 459724                                   |</pre>"
      ],
      "text/plain": [
       "| 2       | 0.0565917         | 459724                                   |"
      ]
     },
     "metadata": {},
     "output_type": "display_data"
    },
    {
     "data": {
      "text/html": [
       "<pre>| 3       | 0.0282959         | 460049                                   |</pre>"
      ],
      "text/plain": [
       "| 3       | 0.0282959         | 460049                                   |"
      ]
     },
     "metadata": {},
     "output_type": "display_data"
    },
    {
     "data": {
      "text/html": [
       "<pre>+---------+-------------------+------------------------------------------+</pre>"
      ],
      "text/plain": [
       "+---------+-------------------+------------------------------------------+"
      ]
     },
     "metadata": {},
     "output_type": "display_data"
    },
    {
     "data": {
      "text/html": [
       "<pre>| Final   | 0.226367          | 455628                                   |</pre>"
      ],
      "text/plain": [
       "| Final   | 0.226367          | 455628                                   |"
      ]
     },
     "metadata": {},
     "output_type": "display_data"
    },
    {
     "data": {
      "text/html": [
       "<pre>+---------+-------------------+------------------------------------------+</pre>"
      ],
      "text/plain": [
       "+---------+-------------------+------------------------------------------+"
      ]
     },
     "metadata": {},
     "output_type": "display_data"
    },
    {
     "data": {
      "text/html": [
       "<pre>Starting Optimization.</pre>"
      ],
      "text/plain": [
       "Starting Optimization."
      ]
     },
     "metadata": {},
     "output_type": "display_data"
    },
    {
     "data": {
      "text/html": [
       "<pre>+---------+--------------+-------------------+-----------------------+-------------+</pre>"
      ],
      "text/plain": [
       "+---------+--------------+-------------------+-----------------------+-------------+"
      ]
     },
     "metadata": {},
     "output_type": "display_data"
    },
    {
     "data": {
      "text/html": [
       "<pre>| Iter.   | Elapsed Time | Approx. Objective | Approx. Training RMSE | Step Size   |</pre>"
      ],
      "text/plain": [
       "| Iter.   | Elapsed Time | Approx. Objective | Approx. Training RMSE | Step Size   |"
      ]
     },
     "metadata": {},
     "output_type": "display_data"
    },
    {
     "data": {
      "text/html": [
       "<pre>+---------+--------------+-------------------+-----------------------+-------------+</pre>"
      ],
      "text/plain": [
       "+---------+--------------+-------------------+-----------------------+-------------+"
      ]
     },
     "metadata": {},
     "output_type": "display_data"
    },
    {
     "data": {
      "text/html": [
       "<pre>| Initial | 75us         | 533771            | 730.596               |             |</pre>"
      ],
      "text/plain": [
       "| Initial | 75us         | 533771            | 730.596               |             |"
      ]
     },
     "metadata": {},
     "output_type": "display_data"
    },
    {
     "data": {
      "text/html": [
       "<pre>+---------+--------------+-------------------+-----------------------+-------------+</pre>"
      ],
      "text/plain": [
       "+---------+--------------+-------------------+-----------------------+-------------+"
      ]
     },
     "metadata": {},
     "output_type": "display_data"
    },
    {
     "data": {
      "text/html": [
       "<pre>| 1       | 1.88s        | 531643            | 729.138               | 0.226367    |</pre>"
      ],
      "text/plain": [
       "| 1       | 1.88s        | 531643            | 729.138               | 0.226367    |"
      ]
     },
     "metadata": {},
     "output_type": "display_data"
    },
    {
     "data": {
      "text/html": [
       "<pre>| 2       | 3.77s        | 531180            | 728.802               | 0.226367    |</pre>"
      ],
      "text/plain": [
       "| 2       | 3.77s        | 531180            | 728.802               | 0.226367    |"
      ]
     },
     "metadata": {},
     "output_type": "display_data"
    },
    {
     "data": {
      "text/html": [
       "<pre>| 3       | 5.55s        | 527786            | 726.468               | 0.226367    |</pre>"
      ],
      "text/plain": [
       "| 3       | 5.55s        | 527786            | 726.468               | 0.226367    |"
      ]
     },
     "metadata": {},
     "output_type": "display_data"
    },
    {
     "data": {
      "text/html": [
       "<pre>| 4       | 7.30s        | 525495            | 724.888               | 0.226367    |</pre>"
      ],
      "text/plain": [
       "| 4       | 7.30s        | 525495            | 724.888               | 0.226367    |"
      ]
     },
     "metadata": {},
     "output_type": "display_data"
    },
    {
     "data": {
      "text/html": [
       "<pre>| 5       | 9.35s        | 524710            | 724.346               | 0.226367    |</pre>"
      ],
      "text/plain": [
       "| 5       | 9.35s        | 524710            | 724.346               | 0.226367    |"
      ]
     },
     "metadata": {},
     "output_type": "display_data"
    },
    {
     "data": {
      "text/html": [
       "<pre>| 6       | 11.31s       | 523866            | 723.763               | 0.226367    |</pre>"
      ],
      "text/plain": [
       "| 6       | 11.31s       | 523866            | 723.763               | 0.226367    |"
      ]
     },
     "metadata": {},
     "output_type": "display_data"
    },
    {
     "data": {
      "text/html": [
       "<pre>| 7       | 14.42s       | 523170            | 723.282               | 0.226367    |</pre>"
      ],
      "text/plain": [
       "| 7       | 14.42s       | 523170            | 723.282               | 0.226367    |"
      ]
     },
     "metadata": {},
     "output_type": "display_data"
    },
    {
     "data": {
      "text/html": [
       "<pre>| 8       | 16.25s       | 522503            | 722.819               | 0.226367    |</pre>"
      ],
      "text/plain": [
       "| 8       | 16.25s       | 522503            | 722.819               | 0.226367    |"
      ]
     },
     "metadata": {},
     "output_type": "display_data"
    },
    {
     "data": {
      "text/html": [
       "<pre>| 9       | 18.91s       | 521810            | 722.339               | 0.226367    |</pre>"
      ],
      "text/plain": [
       "| 9       | 18.91s       | 521810            | 722.339               | 0.226367    |"
      ]
     },
     "metadata": {},
     "output_type": "display_data"
    },
    {
     "data": {
      "text/html": [
       "<pre>| 10      | 21.60s       | 521143            | 721.877               | 0.226367    |</pre>"
      ],
      "text/plain": [
       "| 10      | 21.60s       | 521143            | 721.877               | 0.226367    |"
      ]
     },
     "metadata": {},
     "output_type": "display_data"
    },
    {
     "data": {
      "text/html": [
       "<pre>| 11      | 23.47s       | 520479            | 721.416               | 0.226367    |</pre>"
      ],
      "text/plain": [
       "| 11      | 23.47s       | 520479            | 721.416               | 0.226367    |"
      ]
     },
     "metadata": {},
     "output_type": "display_data"
    },
    {
     "data": {
      "text/html": [
       "<pre>| 12      | 25.83s       | 519789            | 720.938               | 0.226367    |</pre>"
      ],
      "text/plain": [
       "| 12      | 25.83s       | 519789            | 720.938               | 0.226367    |"
      ]
     },
     "metadata": {},
     "output_type": "display_data"
    },
    {
     "data": {
      "text/html": [
       "<pre>| 13      | 29.22s       | 519151            | 720.495               | 0.226367    |</pre>"
      ],
      "text/plain": [
       "| 13      | 29.22s       | 519151            | 720.495               | 0.226367    |"
      ]
     },
     "metadata": {},
     "output_type": "display_data"
    },
    {
     "data": {
      "text/html": [
       "<pre>| 14      | 31.23s       | 518603            | 720.114               | 0.226367    |</pre>"
      ],
      "text/plain": [
       "| 14      | 31.23s       | 518603            | 720.114               | 0.226367    |"
      ]
     },
     "metadata": {},
     "output_type": "display_data"
    },
    {
     "data": {
      "text/html": [
       "<pre>| 15      | 33.33s       | 517972            | 719.675               | 0.226367    |</pre>"
      ],
      "text/plain": [
       "| 15      | 33.33s       | 517972            | 719.675               | 0.226367    |"
      ]
     },
     "metadata": {},
     "output_type": "display_data"
    },
    {
     "data": {
      "text/html": [
       "<pre>| 16      | 36.00s       | 517388            | 719.269               | 0.226367    |</pre>"
      ],
      "text/plain": [
       "| 16      | 36.00s       | 517388            | 719.269               | 0.226367    |"
      ]
     },
     "metadata": {},
     "output_type": "display_data"
    },
    {
     "data": {
      "text/html": [
       "<pre>| 17      | 38.91s       | 516859            | 718.901               | 0.226367    |</pre>"
      ],
      "text/plain": [
       "| 17      | 38.91s       | 516859            | 718.901               | 0.226367    |"
      ]
     },
     "metadata": {},
     "output_type": "display_data"
    },
    {
     "data": {
      "text/html": [
       "<pre>| 18      | 41.92s       | 516280            | 718.497               | 0.226367    |</pre>"
      ],
      "text/plain": [
       "| 18      | 41.92s       | 516280            | 718.497               | 0.226367    |"
      ]
     },
     "metadata": {},
     "output_type": "display_data"
    },
    {
     "data": {
      "text/html": [
       "<pre>| 19      | 45.10s       | 515804            | 718.166               | 0.226367    |</pre>"
      ],
      "text/plain": [
       "| 19      | 45.10s       | 515804            | 718.166               | 0.226367    |"
      ]
     },
     "metadata": {},
     "output_type": "display_data"
    },
    {
     "data": {
      "text/html": [
       "<pre>| 20      | 49.80s       | 515262            | 717.788               | 0.226367    |</pre>"
      ],
      "text/plain": [
       "| 20      | 49.80s       | 515262            | 717.788               | 0.226367    |"
      ]
     },
     "metadata": {},
     "output_type": "display_data"
    },
    {
     "data": {
      "text/html": [
       "<pre>| 21      | 52.78s       | 514913            | 717.545               | 0.226367    |</pre>"
      ],
      "text/plain": [
       "| 21      | 52.78s       | 514913            | 717.545               | 0.226367    |"
      ]
     },
     "metadata": {},
     "output_type": "display_data"
    },
    {
     "data": {
      "text/html": [
       "<pre>| 22      | 54.78s       | 514426            | 717.205               | 0.226367    |</pre>"
      ],
      "text/plain": [
       "| 22      | 54.78s       | 514426            | 717.205               | 0.226367    |"
      ]
     },
     "metadata": {},
     "output_type": "display_data"
    },
    {
     "data": {
      "text/html": [
       "<pre>| 23      | 58.89s       | 514026            | 716.925               | 0.226367    |</pre>"
      ],
      "text/plain": [
       "| 23      | 58.89s       | 514026            | 716.925               | 0.226367    |"
      ]
     },
     "metadata": {},
     "output_type": "display_data"
    },
    {
     "data": {
      "text/html": [
       "<pre>| 24      | 1m 3s        | 513604            | 716.631               | 0.226367    |</pre>"
      ],
      "text/plain": [
       "| 24      | 1m 3s        | 513604            | 716.631               | 0.226367    |"
      ]
     },
     "metadata": {},
     "output_type": "display_data"
    },
    {
     "data": {
      "text/html": [
       "<pre>| 25      | 1m 6s        | 513187            | 716.339               | 0.226367    |</pre>"
      ],
      "text/plain": [
       "| 25      | 1m 6s        | 513187            | 716.339               | 0.226367    |"
      ]
     },
     "metadata": {},
     "output_type": "display_data"
    },
    {
     "data": {
      "text/html": [
       "<pre>| 26      | 1m 11s       | 512803            | 716.071               | 0.226367    |</pre>"
      ],
      "text/plain": [
       "| 26      | 1m 11s       | 512803            | 716.071               | 0.226367    |"
      ]
     },
     "metadata": {},
     "output_type": "display_data"
    },
    {
     "data": {
      "text/html": [
       "<pre>| 27      | 1m 16s       | 512434            | 715.813               | 0.226367    |</pre>"
      ],
      "text/plain": [
       "| 27      | 1m 16s       | 512434            | 715.813               | 0.226367    |"
      ]
     },
     "metadata": {},
     "output_type": "display_data"
    },
    {
     "data": {
      "text/html": [
       "<pre>| 28      | 1m 20s       | 512143            | 715.609               | 0.226367    |</pre>"
      ],
      "text/plain": [
       "| 28      | 1m 20s       | 512143            | 715.609               | 0.226367    |"
      ]
     },
     "metadata": {},
     "output_type": "display_data"
    },
    {
     "data": {
      "text/html": [
       "<pre>| 29      | 1m 24s       | 511808            | 715.375               | 0.226367    |</pre>"
      ],
      "text/plain": [
       "| 29      | 1m 24s       | 511808            | 715.375               | 0.226367    |"
      ]
     },
     "metadata": {},
     "output_type": "display_data"
    },
    {
     "data": {
      "text/html": [
       "<pre>| 30      | 1m 28s       | 511480            | 715.145               | 0.226367    |</pre>"
      ],
      "text/plain": [
       "| 30      | 1m 28s       | 511480            | 715.145               | 0.226367    |"
      ]
     },
     "metadata": {},
     "output_type": "display_data"
    },
    {
     "data": {
      "text/html": [
       "<pre>| 31      | 1m 31s       | 511171            | 714.929               | 0.226367    |</pre>"
      ],
      "text/plain": [
       "| 31      | 1m 31s       | 511171            | 714.929               | 0.226367    |"
      ]
     },
     "metadata": {},
     "output_type": "display_data"
    },
    {
     "data": {
      "text/html": [
       "<pre>| 32      | 1m 33s       | 510864            | 714.714               | 0.226367    |</pre>"
      ],
      "text/plain": [
       "| 32      | 1m 33s       | 510864            | 714.714               | 0.226367    |"
      ]
     },
     "metadata": {},
     "output_type": "display_data"
    },
    {
     "data": {
      "text/html": [
       "<pre>| 33      | 1m 36s       | 510639            | 714.556               | 0.226367    |</pre>"
      ],
      "text/plain": [
       "| 33      | 1m 36s       | 510639            | 714.556               | 0.226367    |"
      ]
     },
     "metadata": {},
     "output_type": "display_data"
    },
    {
     "data": {
      "text/html": [
       "<pre>| 34      | 1m 39s       | 510377            | 714.372               | 0.226367    |</pre>"
      ],
      "text/plain": [
       "| 34      | 1m 39s       | 510377            | 714.372               | 0.226367    |"
      ]
     },
     "metadata": {},
     "output_type": "display_data"
    },
    {
     "data": {
      "text/html": [
       "<pre>| 35      | 1m 42s       | 510063            | 714.152               | 0.226367    |</pre>"
      ],
      "text/plain": [
       "| 35      | 1m 42s       | 510063            | 714.152               | 0.226367    |"
      ]
     },
     "metadata": {},
     "output_type": "display_data"
    },
    {
     "data": {
      "text/html": [
       "<pre>| 36      | 1m 44s       | 509774            | 713.95                | 0.226367    |</pre>"
      ],
      "text/plain": [
       "| 36      | 1m 44s       | 509774            | 713.95                | 0.226367    |"
      ]
     },
     "metadata": {},
     "output_type": "display_data"
    },
    {
     "data": {
      "text/html": [
       "<pre>| 37      | 1m 46s       | 509510            | 713.764               | 0.226367    |</pre>"
      ],
      "text/plain": [
       "| 37      | 1m 46s       | 509510            | 713.764               | 0.226367    |"
      ]
     },
     "metadata": {},
     "output_type": "display_data"
    },
    {
     "data": {
      "text/html": [
       "<pre>| 38      | 1m 49s       | 509304            | 713.62                | 0.226367    |</pre>"
      ],
      "text/plain": [
       "| 38      | 1m 49s       | 509304            | 713.62                | 0.226367    |"
      ]
     },
     "metadata": {},
     "output_type": "display_data"
    },
    {
     "data": {
      "text/html": [
       "<pre>| 39      | 1m 52s       | 509030            | 713.427               | 0.226367    |</pre>"
      ],
      "text/plain": [
       "| 39      | 1m 52s       | 509030            | 713.427               | 0.226367    |"
      ]
     },
     "metadata": {},
     "output_type": "display_data"
    },
    {
     "data": {
      "text/html": [
       "<pre>| 40      | 1m 54s       | 508820            | 713.28                | 0.226367    |</pre>"
      ],
      "text/plain": [
       "| 40      | 1m 54s       | 508820            | 713.28                | 0.226367    |"
      ]
     },
     "metadata": {},
     "output_type": "display_data"
    },
    {
     "data": {
      "text/html": [
       "<pre>| 41      | 1m 56s       | 508596            | 713.123               | 0.226367    |</pre>"
      ],
      "text/plain": [
       "| 41      | 1m 56s       | 508596            | 713.123               | 0.226367    |"
      ]
     },
     "metadata": {},
     "output_type": "display_data"
    },
    {
     "data": {
      "text/html": [
       "<pre>| 42      | 1m 59s       | 508419            | 712.998               | 0.226367    |</pre>"
      ],
      "text/plain": [
       "| 42      | 1m 59s       | 508419            | 712.998               | 0.226367    |"
      ]
     },
     "metadata": {},
     "output_type": "display_data"
    },
    {
     "data": {
      "text/html": [
       "<pre>| 43      | 2m 2s        | 508183            | 712.833               | 0.226367    |</pre>"
      ],
      "text/plain": [
       "| 43      | 2m 2s        | 508183            | 712.833               | 0.226367    |"
      ]
     },
     "metadata": {},
     "output_type": "display_data"
    },
    {
     "data": {
      "text/html": [
       "<pre>| 44      | 2m 4s        | 508014            | 712.714               | 0.226367    |</pre>"
      ],
      "text/plain": [
       "| 44      | 2m 4s        | 508014            | 712.714               | 0.226367    |"
      ]
     },
     "metadata": {},
     "output_type": "display_data"
    },
    {
     "data": {
      "text/html": [
       "<pre>| 45      | 2m 6s        | 507769            | 712.541               | 0.226367    |</pre>"
      ],
      "text/plain": [
       "| 45      | 2m 6s        | 507769            | 712.541               | 0.226367    |"
      ]
     },
     "metadata": {},
     "output_type": "display_data"
    },
    {
     "data": {
      "text/html": [
       "<pre>| 46      | 2m 8s        | 507526            | 712.371               | 0.226367    |</pre>"
      ],
      "text/plain": [
       "| 46      | 2m 8s        | 507526            | 712.371               | 0.226367    |"
      ]
     },
     "metadata": {},
     "output_type": "display_data"
    },
    {
     "data": {
      "text/html": [
       "<pre>| 47      | 2m 10s       | 507351            | 712.248               | 0.226367    |</pre>"
      ],
      "text/plain": [
       "| 47      | 2m 10s       | 507351            | 712.248               | 0.226367    |"
      ]
     },
     "metadata": {},
     "output_type": "display_data"
    },
    {
     "data": {
      "text/html": [
       "<pre>| 48      | 2m 12s       | 507150            | 712.106               | 0.226367    |</pre>"
      ],
      "text/plain": [
       "| 48      | 2m 12s       | 507150            | 712.106               | 0.226367    |"
      ]
     },
     "metadata": {},
     "output_type": "display_data"
    },
    {
     "data": {
      "text/html": [
       "<pre>| 49      | 2m 14s       | 506995            | 711.997               | 0.226367    |</pre>"
      ],
      "text/plain": [
       "| 49      | 2m 14s       | 506995            | 711.997               | 0.226367    |"
      ]
     },
     "metadata": {},
     "output_type": "display_data"
    },
    {
     "data": {
      "text/html": [
       "<pre>| 50      | 2m 16s       | 506816            | 711.871               | 0.226367    |</pre>"
      ],
      "text/plain": [
       "| 50      | 2m 16s       | 506816            | 711.871               | 0.226367    |"
      ]
     },
     "metadata": {},
     "output_type": "display_data"
    },
    {
     "data": {
      "text/html": [
       "<pre>+---------+--------------+-------------------+-----------------------+-------------+</pre>"
      ],
      "text/plain": [
       "+---------+--------------+-------------------+-----------------------+-------------+"
      ]
     },
     "metadata": {},
     "output_type": "display_data"
    },
    {
     "data": {
      "text/html": [
       "<pre>Optimization Complete: Maximum number of passes through the data reached.</pre>"
      ],
      "text/plain": [
       "Optimization Complete: Maximum number of passes through the data reached."
      ]
     },
     "metadata": {},
     "output_type": "display_data"
    },
    {
     "data": {
      "text/html": [
       "<pre>Computing final objective value and training RMSE.</pre>"
      ],
      "text/plain": [
       "Computing final objective value and training RMSE."
      ]
     },
     "metadata": {},
     "output_type": "display_data"
    },
    {
     "data": {
      "text/html": [
       "<pre>       Final objective value: 506582</pre>"
      ],
      "text/plain": [
       "       Final objective value: 506582"
      ]
     },
     "metadata": {},
     "output_type": "display_data"
    },
    {
     "data": {
      "text/html": [
       "<pre>       Final training RMSE: 711.707</pre>"
      ],
      "text/plain": [
       "       Final training RMSE: 711.707"
      ]
     },
     "metadata": {},
     "output_type": "display_data"
    }
   ],
   "source": [
    "#### Factorization Recommender ####\n",
    "user_info = gl.SFrame.read_csv(profiles_file, header=True, verbose=False).dropna()\n",
    "user_info.rename({\"user\": \"user_id\"})\n",
    "\n",
    "item_info = gl.SFrame.read_csv(artists_file, header=True, verbose=False).dropna()\n",
    "item_info.rename({\"artist\": \"item_id\"})\n",
    "\n",
    "factorization_model = gl.factorization_recommender.create(sf_train, target='plays', \\\n",
    "        user_data=user_info, \\\n",
    "        item_data=item_info, max_iterations=50, num_factors=5, regularization=0.0001)\n",
    "\n",
    "predictions['factorization_model'] = factorization_model.predict(sf_validate)"
   ]
  },
  {
   "cell_type": "code",
   "execution_count": 48,
   "metadata": {
    "collapsed": false
   },
   "outputs": [
    {
     "data": {
      "text/html": [
       "<pre>Recsys training: model = factorization_recommender</pre>"
      ],
      "text/plain": [
       "Recsys training: model = factorization_recommender"
      ]
     },
     "metadata": {},
     "output_type": "display_data"
    },
    {
     "data": {
      "text/html": [
       "<pre>Preparing data set.</pre>"
      ],
      "text/plain": [
       "Preparing data set."
      ]
     },
     "metadata": {},
     "output_type": "display_data"
    },
    {
     "data": {
      "text/html": [
       "<pre>    Data has 3254976 observations with 233286 users and 2000 items.</pre>"
      ],
      "text/plain": [
       "    Data has 3254976 observations with 233286 users and 2000 items."
      ]
     },
     "metadata": {},
     "output_type": "display_data"
    },
    {
     "data": {
      "text/html": [
       "<pre>    Data prepared in: 5.70589s</pre>"
      ],
      "text/plain": [
       "    Data prepared in: 5.70589s"
      ]
     },
     "metadata": {},
     "output_type": "display_data"
    },
    {
     "data": {
      "text/html": [
       "<pre>Training factorization_recommender for recommendations.</pre>"
      ],
      "text/plain": [
       "Training factorization_recommender for recommendations."
      ]
     },
     "metadata": {},
     "output_type": "display_data"
    },
    {
     "data": {
      "text/html": [
       "<pre>+------------------------------+--------------------------------------------------+----------+</pre>"
      ],
      "text/plain": [
       "+------------------------------+--------------------------------------------------+----------+"
      ]
     },
     "metadata": {},
     "output_type": "display_data"
    },
    {
     "data": {
      "text/html": [
       "<pre>| Parameter                    | Description                                      | Value    |</pre>"
      ],
      "text/plain": [
       "| Parameter                    | Description                                      | Value    |"
      ]
     },
     "metadata": {},
     "output_type": "display_data"
    },
    {
     "data": {
      "text/html": [
       "<pre>+------------------------------+--------------------------------------------------+----------+</pre>"
      ],
      "text/plain": [
       "+------------------------------+--------------------------------------------------+----------+"
      ]
     },
     "metadata": {},
     "output_type": "display_data"
    },
    {
     "data": {
      "text/html": [
       "<pre>| num_factors                  | Factor Dimension                                 | 8        |</pre>"
      ],
      "text/plain": [
       "| num_factors                  | Factor Dimension                                 | 8        |"
      ]
     },
     "metadata": {},
     "output_type": "display_data"
    },
    {
     "data": {
      "text/html": [
       "<pre>| regularization               | L2 Regularization on Factors                     | 1e-08    |</pre>"
      ],
      "text/plain": [
       "| regularization               | L2 Regularization on Factors                     | 1e-08    |"
      ]
     },
     "metadata": {},
     "output_type": "display_data"
    },
    {
     "data": {
      "text/html": [
       "<pre>| max_iterations               | Maximum Number of Iterations                     | 50       |</pre>"
      ],
      "text/plain": [
       "| max_iterations               | Maximum Number of Iterations                     | 50       |"
      ]
     },
     "metadata": {},
     "output_type": "display_data"
    },
    {
     "data": {
      "text/html": [
       "<pre>| solver                       | Solver used for training                         | als      |</pre>"
      ],
      "text/plain": [
       "| solver                       | Solver used for training                         | als      |"
      ]
     },
     "metadata": {},
     "output_type": "display_data"
    },
    {
     "data": {
      "text/html": [
       "<pre>+------------------------------+--------------------------------------------------+----------+</pre>"
      ],
      "text/plain": [
       "+------------------------------+--------------------------------------------------+----------+"
      ]
     },
     "metadata": {},
     "output_type": "display_data"
    },
    {
     "data": {
      "text/html": [
       "<pre>+---------+--------------+------------------------+</pre>"
      ],
      "text/plain": [
       "+---------+--------------+------------------------+"
      ]
     },
     "metadata": {},
     "output_type": "display_data"
    },
    {
     "data": {
      "text/html": [
       "<pre>| Iter.   | Elapsed time | RMSE                   |</pre>"
      ],
      "text/plain": [
       "| Iter.   | Elapsed time | RMSE                   |"
      ]
     },
     "metadata": {},
     "output_type": "display_data"
    },
    {
     "data": {
      "text/html": [
       "<pre>+---------+--------------+------------------------+</pre>"
      ],
      "text/plain": [
       "+---------+--------------+------------------------+"
      ]
     },
     "metadata": {},
     "output_type": "display_data"
    },
    {
     "data": {
      "text/html": [
       "<pre>| Initial | 170us        | NA                     |</pre>"
      ],
      "text/plain": [
       "| Initial | 170us        | NA                     |"
      ]
     },
     "metadata": {},
     "output_type": "display_data"
    },
    {
     "data": {
      "text/html": [
       "<pre>+---------+--------------+------------------------+</pre>"
      ],
      "text/plain": [
       "+---------+--------------+------------------------+"
      ]
     },
     "metadata": {},
     "output_type": "display_data"
    },
    {
     "data": {
      "text/html": [
       "<pre>| 0       | 1.67s        | 458.356                |</pre>"
      ],
      "text/plain": [
       "| 0       | 1.67s        | 458.356                |"
      ]
     },
     "metadata": {},
     "output_type": "display_data"
    },
    {
     "data": {
      "text/html": [
       "<pre>| 1       | 3.41s        | 269.59                 |</pre>"
      ],
      "text/plain": [
       "| 1       | 3.41s        | 269.59                 |"
      ]
     },
     "metadata": {},
     "output_type": "display_data"
    },
    {
     "data": {
      "text/html": [
       "<pre>| 2       | 5.20s        | 248.175                |</pre>"
      ],
      "text/plain": [
       "| 2       | 5.20s        | 248.175                |"
      ]
     },
     "metadata": {},
     "output_type": "display_data"
    },
    {
     "data": {
      "text/html": [
       "<pre>| 3       | 7.16s        | 235.218                |</pre>"
      ],
      "text/plain": [
       "| 3       | 7.16s        | 235.218                |"
      ]
     },
     "metadata": {},
     "output_type": "display_data"
    },
    {
     "data": {
      "text/html": [
       "<pre>| 4       | 9.05s        | 226.514                |</pre>"
      ],
      "text/plain": [
       "| 4       | 9.05s        | 226.514                |"
      ]
     },
     "metadata": {},
     "output_type": "display_data"
    },
    {
     "data": {
      "text/html": [
       "<pre>| 5       | 10.92s       | 220.31                 |</pre>"
      ],
      "text/plain": [
       "| 5       | 10.92s       | 220.31                 |"
      ]
     },
     "metadata": {},
     "output_type": "display_data"
    },
    {
     "data": {
      "text/html": [
       "<pre>| 6       | 12.74s       | 215.55                 |</pre>"
      ],
      "text/plain": [
       "| 6       | 12.74s       | 215.55                 |"
      ]
     },
     "metadata": {},
     "output_type": "display_data"
    },
    {
     "data": {
      "text/html": [
       "<pre>| 7       | 14.29s       | 211.702                |</pre>"
      ],
      "text/plain": [
       "| 7       | 14.29s       | 211.702                |"
      ]
     },
     "metadata": {},
     "output_type": "display_data"
    },
    {
     "data": {
      "text/html": [
       "<pre>| 8       | 15.81s       | 208.47                 |</pre>"
      ],
      "text/plain": [
       "| 8       | 15.81s       | 208.47                 |"
      ]
     },
     "metadata": {},
     "output_type": "display_data"
    },
    {
     "data": {
      "text/html": [
       "<pre>| 9       | 17.53s       | 205.666                |</pre>"
      ],
      "text/plain": [
       "| 9       | 17.53s       | 205.666                |"
      ]
     },
     "metadata": {},
     "output_type": "display_data"
    },
    {
     "data": {
      "text/html": [
       "<pre>| 10      | 19.70s       | 203.207                |</pre>"
      ],
      "text/plain": [
       "| 10      | 19.70s       | 203.207                |"
      ]
     },
     "metadata": {},
     "output_type": "display_data"
    },
    {
     "data": {
      "text/html": [
       "<pre>| 11      | 21.67s       | 201.027                |</pre>"
      ],
      "text/plain": [
       "| 11      | 21.67s       | 201.027                |"
      ]
     },
     "metadata": {},
     "output_type": "display_data"
    },
    {
     "data": {
      "text/html": [
       "<pre>| 12      | 23.83s       | 199.068                |</pre>"
      ],
      "text/plain": [
       "| 12      | 23.83s       | 199.068                |"
      ]
     },
     "metadata": {},
     "output_type": "display_data"
    },
    {
     "data": {
      "text/html": [
       "<pre>| 13      | 26.06s       | 197.297                |</pre>"
      ],
      "text/plain": [
       "| 13      | 26.06s       | 197.297                |"
      ]
     },
     "metadata": {},
     "output_type": "display_data"
    },
    {
     "data": {
      "text/html": [
       "<pre>| 14      | 28.20s       | 195.7                  |</pre>"
      ],
      "text/plain": [
       "| 14      | 28.20s       | 195.7                  |"
      ]
     },
     "metadata": {},
     "output_type": "display_data"
    },
    {
     "data": {
      "text/html": [
       "<pre>| 15      | 30.04s       | 194.241                |</pre>"
      ],
      "text/plain": [
       "| 15      | 30.04s       | 194.241                |"
      ]
     },
     "metadata": {},
     "output_type": "display_data"
    },
    {
     "data": {
      "text/html": [
       "<pre>| 16      | 31.83s       | 192.895                |</pre>"
      ],
      "text/plain": [
       "| 16      | 31.83s       | 192.895                |"
      ]
     },
     "metadata": {},
     "output_type": "display_data"
    },
    {
     "data": {
      "text/html": [
       "<pre>| 17      | 33.38s       | 191.66                 |</pre>"
      ],
      "text/plain": [
       "| 17      | 33.38s       | 191.66                 |"
      ]
     },
     "metadata": {},
     "output_type": "display_data"
    },
    {
     "data": {
      "text/html": [
       "<pre>| 18      | 34.89s       | 190.522                |</pre>"
      ],
      "text/plain": [
       "| 18      | 34.89s       | 190.522                |"
      ]
     },
     "metadata": {},
     "output_type": "display_data"
    },
    {
     "data": {
      "text/html": [
       "<pre>| 19      | 36.40s       | 189.463                |</pre>"
      ],
      "text/plain": [
       "| 19      | 36.40s       | 189.463                |"
      ]
     },
     "metadata": {},
     "output_type": "display_data"
    },
    {
     "data": {
      "text/html": [
       "<pre>| 20      | 37.92s       | 188.476                |</pre>"
      ],
      "text/plain": [
       "| 20      | 37.92s       | 188.476                |"
      ]
     },
     "metadata": {},
     "output_type": "display_data"
    },
    {
     "data": {
      "text/html": [
       "<pre>| 21      | 39.43s       | 187.55                 |</pre>"
      ],
      "text/plain": [
       "| 21      | 39.43s       | 187.55                 |"
      ]
     },
     "metadata": {},
     "output_type": "display_data"
    },
    {
     "data": {
      "text/html": [
       "<pre>| 22      | 40.94s       | 186.683                |</pre>"
      ],
      "text/plain": [
       "| 22      | 40.94s       | 186.683                |"
      ]
     },
     "metadata": {},
     "output_type": "display_data"
    },
    {
     "data": {
      "text/html": [
       "<pre>| 23      | 42.47s       | 185.876                |</pre>"
      ],
      "text/plain": [
       "| 23      | 42.47s       | 185.876                |"
      ]
     },
     "metadata": {},
     "output_type": "display_data"
    },
    {
     "data": {
      "text/html": [
       "<pre>| 24      | 43.99s       | 185.126                |</pre>"
      ],
      "text/plain": [
       "| 24      | 43.99s       | 185.126                |"
      ]
     },
     "metadata": {},
     "output_type": "display_data"
    },
    {
     "data": {
      "text/html": [
       "<pre>| 25      | 45.68s       | 184.425                |</pre>"
      ],
      "text/plain": [
       "| 25      | 45.68s       | 184.425                |"
      ]
     },
     "metadata": {},
     "output_type": "display_data"
    },
    {
     "data": {
      "text/html": [
       "<pre>| 26      | 47.13s       | 183.765                |</pre>"
      ],
      "text/plain": [
       "| 26      | 47.13s       | 183.765                |"
      ]
     },
     "metadata": {},
     "output_type": "display_data"
    },
    {
     "data": {
      "text/html": [
       "<pre>| 27      | 48.75s       | 183.141                |</pre>"
      ],
      "text/plain": [
       "| 27      | 48.75s       | 183.141                |"
      ]
     },
     "metadata": {},
     "output_type": "display_data"
    },
    {
     "data": {
      "text/html": [
       "<pre>| 28      | 50.43s       | 182.551                |</pre>"
      ],
      "text/plain": [
       "| 28      | 50.43s       | 182.551                |"
      ]
     },
     "metadata": {},
     "output_type": "display_data"
    },
    {
     "data": {
      "text/html": [
       "<pre>| 29      | 52.23s       | 181.991                |</pre>"
      ],
      "text/plain": [
       "| 29      | 52.23s       | 181.991                |"
      ]
     },
     "metadata": {},
     "output_type": "display_data"
    },
    {
     "data": {
      "text/html": [
       "<pre>| 30      | 55.53s       | 181.459                |</pre>"
      ],
      "text/plain": [
       "| 30      | 55.53s       | 181.459                |"
      ]
     },
     "metadata": {},
     "output_type": "display_data"
    },
    {
     "data": {
      "text/html": [
       "<pre>| 31      | 57.60s       | 180.951                |</pre>"
      ],
      "text/plain": [
       "| 31      | 57.60s       | 180.951                |"
      ]
     },
     "metadata": {},
     "output_type": "display_data"
    },
    {
     "data": {
      "text/html": [
       "<pre>| 32      | 59.68s       | 180.467                |</pre>"
      ],
      "text/plain": [
       "| 32      | 59.68s       | 180.467                |"
      ]
     },
     "metadata": {},
     "output_type": "display_data"
    },
    {
     "data": {
      "text/html": [
       "<pre>| 33      | 1m 1s        | 180.003                |</pre>"
      ],
      "text/plain": [
       "| 33      | 1m 1s        | 180.003                |"
      ]
     },
     "metadata": {},
     "output_type": "display_data"
    },
    {
     "data": {
      "text/html": [
       "<pre>| 34      | 1m 3s        | 179.559                |</pre>"
      ],
      "text/plain": [
       "| 34      | 1m 3s        | 179.559                |"
      ]
     },
     "metadata": {},
     "output_type": "display_data"
    },
    {
     "data": {
      "text/html": [
       "<pre>| 35      | 1m 5s        | 179.134                |</pre>"
      ],
      "text/plain": [
       "| 35      | 1m 5s        | 179.134                |"
      ]
     },
     "metadata": {},
     "output_type": "display_data"
    },
    {
     "data": {
      "text/html": [
       "<pre>| 36      | 1m 7s        | 178.728                |</pre>"
      ],
      "text/plain": [
       "| 36      | 1m 7s        | 178.728                |"
      ]
     },
     "metadata": {},
     "output_type": "display_data"
    },
    {
     "data": {
      "text/html": [
       "<pre>| 37      | 1m 12s       | 178.341                |</pre>"
      ],
      "text/plain": [
       "| 37      | 1m 12s       | 178.341                |"
      ]
     },
     "metadata": {},
     "output_type": "display_data"
    },
    {
     "data": {
      "text/html": [
       "<pre>| 38      | 1m 14s       | 177.971                |</pre>"
      ],
      "text/plain": [
       "| 38      | 1m 14s       | 177.971                |"
      ]
     },
     "metadata": {},
     "output_type": "display_data"
    },
    {
     "data": {
      "text/html": [
       "<pre>| 39      | 1m 17s       | 177.617                |</pre>"
      ],
      "text/plain": [
       "| 39      | 1m 17s       | 177.617                |"
      ]
     },
     "metadata": {},
     "output_type": "display_data"
    },
    {
     "data": {
      "text/html": [
       "<pre>| 40      | 1m 19s       | 177.277                |</pre>"
      ],
      "text/plain": [
       "| 40      | 1m 19s       | 177.277                |"
      ]
     },
     "metadata": {},
     "output_type": "display_data"
    },
    {
     "data": {
      "text/html": [
       "<pre>| 41      | 1m 21s       | 176.95                 |</pre>"
      ],
      "text/plain": [
       "| 41      | 1m 21s       | 176.95                 |"
      ]
     },
     "metadata": {},
     "output_type": "display_data"
    },
    {
     "data": {
      "text/html": [
       "<pre>| 42      | 1m 23s       | 176.635                |</pre>"
      ],
      "text/plain": [
       "| 42      | 1m 23s       | 176.635                |"
      ]
     },
     "metadata": {},
     "output_type": "display_data"
    },
    {
     "data": {
      "text/html": [
       "<pre>| 43      | 1m 26s       | 176.33                 |</pre>"
      ],
      "text/plain": [
       "| 43      | 1m 26s       | 176.33                 |"
      ]
     },
     "metadata": {},
     "output_type": "display_data"
    },
    {
     "data": {
      "text/html": [
       "<pre>| 44      | 1m 28s       | 176.036                |</pre>"
      ],
      "text/plain": [
       "| 44      | 1m 28s       | 176.036                |"
      ]
     },
     "metadata": {},
     "output_type": "display_data"
    },
    {
     "data": {
      "text/html": [
       "<pre>| 45      | 1m 30s       | 175.749                |</pre>"
      ],
      "text/plain": [
       "| 45      | 1m 30s       | 175.749                |"
      ]
     },
     "metadata": {},
     "output_type": "display_data"
    },
    {
     "data": {
      "text/html": [
       "<pre>| 46      | 1m 32s       | 175.47                 |</pre>"
      ],
      "text/plain": [
       "| 46      | 1m 32s       | 175.47                 |"
      ]
     },
     "metadata": {},
     "output_type": "display_data"
    },
    {
     "data": {
      "text/html": [
       "<pre>| 47      | 1m 34s       | 175.2                  |</pre>"
      ],
      "text/plain": [
       "| 47      | 1m 34s       | 175.2                  |"
      ]
     },
     "metadata": {},
     "output_type": "display_data"
    },
    {
     "data": {
      "text/html": [
       "<pre>| 48      | 1m 36s       | 174.937                |</pre>"
      ],
      "text/plain": [
       "| 48      | 1m 36s       | 174.937                |"
      ]
     },
     "metadata": {},
     "output_type": "display_data"
    },
    {
     "data": {
      "text/html": [
       "<pre>| 49      | 1m 38s       | 174.681                |</pre>"
      ],
      "text/plain": [
       "| 49      | 1m 38s       | 174.681                |"
      ]
     },
     "metadata": {},
     "output_type": "display_data"
    },
    {
     "data": {
      "text/html": [
       "<pre>| FINAL   | 1m 38s       | 174.681                |</pre>"
      ],
      "text/plain": [
       "| FINAL   | 1m 38s       | 174.681                |"
      ]
     },
     "metadata": {},
     "output_type": "display_data"
    },
    {
     "data": {
      "text/html": [
       "<pre>+---------+--------------+------------------------+</pre>"
      ],
      "text/plain": [
       "+---------+--------------+------------------------+"
      ]
     },
     "metadata": {},
     "output_type": "display_data"
    },
    {
     "data": {
      "text/html": [
       "<pre>Optimization Complete: Iteration limit reached.</pre>"
      ],
      "text/plain": [
       "Optimization Complete: Iteration limit reached."
      ]
     },
     "metadata": {},
     "output_type": "display_data"
    }
   ],
   "source": [
    "#### Alternating Least Squares Model ####\n",
    "als_model = gl.factorization_recommender.create(sf_train, target='plays', \\\n",
    "        solver='als')\n",
    "\n",
    "predictions['als_model'] = als_model.predict(sf_validate)"
   ]
  },
  {
   "cell_type": "markdown",
   "metadata": {},
   "source": [
    "## Comparing Models:"
   ]
  },
  {
   "cell_type": "code",
   "execution_count": null,
   "metadata": {
    "collapsed": false
   },
   "outputs": [],
   "source": [
    "validatedf.plays"
   ]
  },
  {
   "cell_type": "code",
   "execution_count": null,
   "metadata": {
    "collapsed": false
   },
   "outputs": [],
   "source": []
  },
  {
   "cell_type": "code",
   "execution_count": 49,
   "metadata": {
    "collapsed": false
   },
   "outputs": [
    {
     "name": "stdout",
     "output_type": "stream",
     "text": [
      "Mean Absolute Errors:\n",
      " \n",
      "Baseline: \t\t\t 180.750413294\n",
      "User Mean: \t\t\t 162.44725936\n",
      "User Median: \t\t\t 137.265611872\n",
      "Item Similarity (Jaccard): \t 190.759273481\n",
      "Item Similarity (Cosine): \t 194.184909668\n",
      "Item Similarity (Pearson): \t 201.058108789\n",
      "Popularity Model: \t\t 233.484260639\n",
      "Factorization Model: \t\t 226.01765518\n",
      "Alternating Least Squares Model: 633.626737926\n"
     ]
    }
   ],
   "source": [
    "print \"Mean Absolute Errors:\"\n",
    "print \" \"\n",
    "print \"Baseline: \\t\\t\\t %s\" % mean_absolute_error(validatedf.plays, predictions['baseline'])\n",
    "print \"User Mean: \\t\\t\\t %s\" % mean_absolute_error(validatedf.plays, predictions['user_mean'])\n",
    "print \"User Median: \\t\\t\\t %s\" % mean_absolute_error(validatedf.plays, predictions['user_median'])\n",
    "print \"Item Similarity (Jaccard): \\t %s\" % mean_absolute_error(validatedf.plays, pd.Series(predictions['item_sim_model_jaccard']))\n",
    "print \"Item Similarity (Cosine): \\t %s\" % mean_absolute_error(validatedf.plays, pd.Series(predictions['item_sim_model_cosine']))\n",
    "print \"Item Similarity (Pearson): \\t %s\" % mean_absolute_error(validatedf.plays, pd.Series(predictions['item_sim_model_pearson']))\n",
    "print \"Popularity Model: \\t\\t %s\" % mean_absolute_error(validatedf.plays, pd.Series(predictions['popularity_model']))\n",
    "print \"Factorization Model: \\t\\t %s\" % mean_absolute_error(validatedf.plays, pd.Series(predictions['factorization_model']))\n",
    "print \"Alternating Least Squares Model: %s\" % mean_absolute_error(validatedf.plays, pd.Series(predictions['als_model']))\n"
   ]
  },
  {
   "cell_type": "markdown",
   "metadata": {
    "collapsed": true
   },
   "source": [
    "## Code to store predictions"
   ]
  },
  {
   "cell_type": "code",
   "execution_count": null,
   "metadata": {
    "collapsed": true
   },
   "outputs": [],
   "source": [
    "\"\"\"with open(\"data/item_sim_model_jaccard.csv\", 'w') as soln_fh:\n",
    "    soln_csv = csv.writer(soln_fh,\n",
    "                          delimiter=',',\n",
    "                          quotechar='\"',\n",
    "                          quoting=csv.QUOTE_MINIMAL)\n",
    "    soln_csv.writerow(['Id', 'plays'])\n",
    "    loop_size = 4154804\n",
    "    mybar = pyprind.ProgBar(loop_size)\n",
    "    for i in range(4154804):\n",
    "        soln_csv.writerow([i + 1, item_sim_model_jaccard[i]])\n",
    "        mybar.update()\"\"\""
   ]
  },
  {
   "cell_type": "code",
   "execution_count": null,
   "metadata": {
    "collapsed": true
   },
   "outputs": [],
   "source": []
  },
  {
   "cell_type": "markdown",
   "metadata": {},
   "source": [
    "# MISC\n",
    "### Old Ridge Regression Code"
   ]
  },
  {
   "cell_type": "code",
   "execution_count": null,
   "metadata": {
    "collapsed": true
   },
   "outputs": [],
   "source": [
    "\"\"\"# Design Matrix\n",
    "from sklearn.linear_model import Ridge\n",
    "features=np.concatenate([uuids,uiids])\n",
    "features.shape\n",
    "\n",
    "def getmats(indf):\n",
    "    stvals=indf[['user', 'artist', 'plays']].values\n",
    "    designm=np.zeros((stvals.shape[0], features.shape[0]))\n",
    "    ratings=np.zeros(stvals.shape[0])\n",
    "    loop_size = len(stvals)\n",
    "    mybar = pyprind.ProgBar(loop_size)\n",
    "    for i, row in enumerate(stvals):\n",
    "        designm[i,:]=np.concatenate([1*(row[0]==uuids), 1*(row[1]==uiids)])\n",
    "        ratings[i]=row[2]\n",
    "        mybar.update()\n",
    "    return designm, ratings\n",
    "\n",
    "\n",
    "\n",
    "#Carrying out the ridge regression\n",
    "designm, ratings = getmats(train_df)\n",
    "\n",
    "validatedm, validaterats = getmats(validate_df)\n",
    "\n",
    "\n",
    "\n",
    "#alphas=[0.01, 0.1, 10, 100, 1000]\n",
    "alphas=[7,8,9,10,11,12,13]\n",
    "vdict={}\n",
    "rdict={}\n",
    "loop_size = len(alphas)\n",
    "mybar = pyprind.ProgBar(loop_size)\n",
    "for a in alphas:\n",
    "    regr=Ridge(alpha=a).fit(designm, ratings)\n",
    "    vpreds=regr.predict(validatedm)\n",
    "    mae=mean_absolute_error(validaterats, vpreds)\n",
    "    vdict[a]=mae\n",
    "    rdict[a]=regr\n",
    "    mybar.update()\n",
    "\n",
    "minerroralpha=min(vdict, key=vdict.get)\n",
    "print minerroralpha\n",
    "regr=rdict[minerroralpha] \n",
    "\n",
    "regr.intercept_, ybar\n",
    "\n",
    "testdm, _ = getmats(test_df)\n",
    "\n",
    "predictions['baseline_r']=regr.predict(testdm)\n",
    "\n",
    "np.savetxt(\"baseline_r.csv\", predictions['baseline_r'], delimiter=\",\")\"\"\""
   ]
  }
 ],
 "metadata": {
  "kernelspec": {
   "display_name": "Python 2",
   "language": "python",
   "name": "python2"
  },
  "language_info": {
   "codemirror_mode": {
    "name": "ipython",
    "version": 2
   },
   "file_extension": ".py",
   "mimetype": "text/x-python",
   "name": "python",
   "nbconvert_exporter": "python",
   "pygments_lexer": "ipython2",
   "version": "2.7.11"
  }
 },
 "nbformat": 4,
 "nbformat_minor": 0
}
