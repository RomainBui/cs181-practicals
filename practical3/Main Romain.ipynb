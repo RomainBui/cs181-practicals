{
 "cells": [
  {
   "cell_type": "markdown",
   "metadata": {},
   "source": [
    "## Import the Librairies"
   ]
  },
  {
   "cell_type": "code",
   "execution_count": 39,
   "metadata": {
    "collapsed": false
   },
   "outputs": [],
   "source": [
    "import pandas as pd \n",
    "import numpy as np\n",
    "import pyprind\n",
    "from scipy import stats\n",
    "import scipy\n",
    "#%matplotlib inline"
   ]
  },
  {
   "cell_type": "markdown",
   "metadata": {},
   "source": [
    "## Loading the Data"
   ]
  },
  {
   "cell_type": "code",
   "execution_count": 6,
   "metadata": {
    "collapsed": false
   },
   "outputs": [],
   "source": [
    "train = pd.read_csv('Data/train.csv')\n",
    "train0 = train"
   ]
  },
  {
   "cell_type": "code",
   "execution_count": 42,
   "metadata": {
    "collapsed": true
   },
   "outputs": [],
   "source": [
    "#train = train0.loc[np.in1d(train0.artist, train0.artist.unique()[:20])] # Only use the 20 first artists\n",
    "train = train0"
   ]
  },
  {
   "cell_type": "code",
   "execution_count": 43,
   "metadata": {
    "collapsed": true
   },
   "outputs": [],
   "source": [
    "test = pd.read_csv('Data/test.csv')"
   ]
  },
  {
   "cell_type": "markdown",
   "metadata": {},
   "source": [
    "## Description of the Algorithm"
   ]
  },
  {
   "cell_type": "markdown",
   "metadata": {},
   "source": [
    "0. Compute the baseline\n",
    "1. Compute the Common Support as : $NCommon_{ij}$ How many users rated/played both music\n",
    "2. Compute the Rho_Correlation : $\\rho(\\bf{Y_{u_i}} - \\bf{\\overline{Y_u}} ; \\bf{Y_{u_j}} - \\bf{\\overline{Y_u}})$\n",
    "3. Compute the Similarity : $ \\frac{N_Common \\rho_{mj}}{N_Common + reg}$\n",
    "4. Apply the Central Dogma : $Y_{um} = Y_{um}^{Baseline} + \\frac{\\sum_{j \\in S^k(m)} s_{mj} (Y_{uj} - Y_{um}^{Baseline})}{\\sum_{j \\in S^k(m)} s_{mj}}$"
   ]
  },
  {
   "cell_type": "markdown",
   "metadata": {},
   "source": [
    "## Step 0 : Compute the Baseline"
   ]
  },
  {
   "cell_type": "code",
   "execution_count": 44,
   "metadata": {
    "collapsed": false
   },
   "outputs": [],
   "source": [
    "# u = test.loc[2827,'user']\n",
    "# m = test.loc[2827, 'artist']"
   ]
  },
  {
   "cell_type": "code",
   "execution_count": 45,
   "metadata": {
    "collapsed": false
   },
   "outputs": [],
   "source": [
    "def computeBaseline(u,m,train):\n",
    "    Y_bar = train.plays.median()\n",
    "    Y_u = train.loc[train.user == u].plays.median()\n",
    "    Y_m = train.loc[train.artist == m].plays.median()\n",
    "    Y_baseline = Y_bar + Y_u - Y_bar + Y_m - Y_bar\n",
    "    return Y_baseline"
   ]
  },
  {
   "cell_type": "code",
   "execution_count": 46,
   "metadata": {
    "collapsed": false
   },
   "outputs": [],
   "source": [
    "#computeBaseline(u,m,train)"
   ]
  },
  {
   "cell_type": "code",
   "execution_count": 47,
   "metadata": {
    "collapsed": false
   },
   "outputs": [],
   "source": [
    "#test.loc[np.in1d(test.artist, train.artist) & np.in1d(test.user, train.user)] # Only use the 20 first artists"
   ]
  },
  {
   "cell_type": "markdown",
   "metadata": {},
   "source": [
    "## Step 1 : Compute the Common Support"
   ]
  },
  {
   "cell_type": "code",
   "execution_count": 48,
   "metadata": {
    "collapsed": false
   },
   "outputs": [],
   "source": [
    "unique_artist = train.artist.unique()"
   ]
  },
  {
   "cell_type": "code",
   "execution_count": 49,
   "metadata": {
    "collapsed": false
   },
   "outputs": [
    {
     "name": "stderr",
     "output_type": "stream",
     "text": [
      "0%                          100%\n",
      "[                              ]"
     ]
    },
    {
     "ename": "KeyboardInterrupt",
     "evalue": "",
     "output_type": "error",
     "traceback": [
      "\u001b[0;31m---------------------------------------------------------------------------\u001b[0m",
      "\u001b[0;31mKeyboardInterrupt\u001b[0m                         Traceback (most recent call last)",
      "\u001b[0;32m<ipython-input-49-96dfbdad2c76>\u001b[0m in \u001b[0;36m<module>\u001b[0;34m()\u001b[0m\n\u001b[1;32m     11\u001b[0m                 \u001b[0mN_support\u001b[0m\u001b[0;34m[\u001b[0m\u001b[0mi\u001b[0m\u001b[0;34m,\u001b[0m\u001b[0mj\u001b[0m\u001b[0;34m]\u001b[0m  \u001b[0;34m=\u001b[0m \u001b[0mtrain\u001b[0m\u001b[0;34m.\u001b[0m\u001b[0mloc\u001b[0m\u001b[0;34m[\u001b[0m\u001b[0mtrain\u001b[0m\u001b[0;34m.\u001b[0m\u001b[0martist\u001b[0m \u001b[0;34m==\u001b[0m \u001b[0martist1\u001b[0m\u001b[0;34m]\u001b[0m\u001b[0;34m.\u001b[0m\u001b[0mshape\u001b[0m\u001b[0;34m[\u001b[0m\u001b[0;36m0\u001b[0m\u001b[0;34m]\u001b[0m\u001b[0;34m\u001b[0m\u001b[0m\n\u001b[1;32m     12\u001b[0m             \u001b[0;32mif\u001b[0m\u001b[0;34m(\u001b[0m\u001b[0martist1\u001b[0m \u001b[0;34m!=\u001b[0m \u001b[0martist2\u001b[0m\u001b[0;34m)\u001b[0m\u001b[0;34m:\u001b[0m\u001b[0;34m\u001b[0m\u001b[0m\n\u001b[0;32m---> 13\u001b[0;31m                 \u001b[0msupport\u001b[0m\u001b[0;34m[\u001b[0m\u001b[0mi\u001b[0m\u001b[0;34m]\u001b[0m\u001b[0;34m[\u001b[0m\u001b[0mj\u001b[0m\u001b[0;34m]\u001b[0m  \u001b[0;34m=\u001b[0m \u001b[0mset\u001b[0m\u001b[0;34m(\u001b[0m\u001b[0mtrain\u001b[0m\u001b[0;34m.\u001b[0m\u001b[0mloc\u001b[0m\u001b[0;34m[\u001b[0m\u001b[0;34m(\u001b[0m\u001b[0mtrain\u001b[0m\u001b[0;34m.\u001b[0m\u001b[0martist\u001b[0m \u001b[0;34m==\u001b[0m \u001b[0martist1\u001b[0m\u001b[0;34m)\u001b[0m\u001b[0;34m,\u001b[0m \u001b[0;34m'user'\u001b[0m\u001b[0;34m]\u001b[0m\u001b[0;34m)\u001b[0m\u001b[0;34m.\u001b[0m\u001b[0mintersection\u001b[0m\u001b[0;34m(\u001b[0m\u001b[0mset\u001b[0m\u001b[0;34m(\u001b[0m\u001b[0mtrain\u001b[0m\u001b[0;34m.\u001b[0m\u001b[0mloc\u001b[0m\u001b[0;34m[\u001b[0m\u001b[0;34m(\u001b[0m\u001b[0mtrain\u001b[0m\u001b[0;34m.\u001b[0m\u001b[0martist\u001b[0m \u001b[0;34m==\u001b[0m \u001b[0martist2\u001b[0m\u001b[0;34m)\u001b[0m\u001b[0;34m,\u001b[0m \u001b[0;34m'user'\u001b[0m\u001b[0;34m]\u001b[0m\u001b[0;34m)\u001b[0m\u001b[0;34m)\u001b[0m\u001b[0;34m\u001b[0m\u001b[0m\n\u001b[0m\u001b[1;32m     14\u001b[0m                 \u001b[0mN_support\u001b[0m\u001b[0;34m[\u001b[0m\u001b[0mi\u001b[0m\u001b[0;34m,\u001b[0m\u001b[0mj\u001b[0m\u001b[0;34m]\u001b[0m \u001b[0;34m=\u001b[0m \u001b[0mlen\u001b[0m\u001b[0;34m(\u001b[0m\u001b[0msupport\u001b[0m\u001b[0;34m[\u001b[0m\u001b[0mi\u001b[0m\u001b[0;34m]\u001b[0m\u001b[0;34m[\u001b[0m\u001b[0mj\u001b[0m\u001b[0;34m]\u001b[0m\u001b[0;34m)\u001b[0m\u001b[0;34m\u001b[0m\u001b[0m\n\u001b[1;32m     15\u001b[0m                 \u001b[0;31m# Symetry\u001b[0m\u001b[0;34m\u001b[0m\u001b[0;34m\u001b[0m\u001b[0m\n",
      "\u001b[0;32m/Users/romainbui/py3_kernel/lib/python3.5/site-packages/pandas/core/ops.py\u001b[0m in \u001b[0;36mwrapper\u001b[0;34m(self, other, axis)\u001b[0m\n\u001b[1;32m    759\u001b[0m                 \u001b[0mother\u001b[0m \u001b[0;34m=\u001b[0m \u001b[0mnp\u001b[0m\u001b[0;34m.\u001b[0m\u001b[0masarray\u001b[0m\u001b[0;34m(\u001b[0m\u001b[0mother\u001b[0m\u001b[0;34m)\u001b[0m\u001b[0;34m\u001b[0m\u001b[0m\n\u001b[1;32m    760\u001b[0m \u001b[0;34m\u001b[0m\u001b[0m\n\u001b[0;32m--> 761\u001b[0;31m             \u001b[0mres\u001b[0m \u001b[0;34m=\u001b[0m \u001b[0mna_op\u001b[0m\u001b[0;34m(\u001b[0m\u001b[0mvalues\u001b[0m\u001b[0;34m,\u001b[0m \u001b[0mother\u001b[0m\u001b[0;34m)\u001b[0m\u001b[0;34m\u001b[0m\u001b[0m\n\u001b[0m\u001b[1;32m    762\u001b[0m             \u001b[0;32mif\u001b[0m \u001b[0misscalar\u001b[0m\u001b[0;34m(\u001b[0m\u001b[0mres\u001b[0m\u001b[0;34m)\u001b[0m\u001b[0;34m:\u001b[0m\u001b[0;34m\u001b[0m\u001b[0m\n\u001b[1;32m    763\u001b[0m                 raise TypeError('Could not compare %s type with Series' %\n",
      "\u001b[0;32m/Users/romainbui/py3_kernel/lib/python3.5/site-packages/pandas/core/ops.py\u001b[0m in \u001b[0;36mna_op\u001b[0;34m(x, y)\u001b[0m\n\u001b[1;32m    679\u001b[0m                     \u001b[0mresult\u001b[0m \u001b[0;34m=\u001b[0m \u001b[0mlib\u001b[0m\u001b[0;34m.\u001b[0m\u001b[0mvec_compare\u001b[0m\u001b[0;34m(\u001b[0m\u001b[0mx\u001b[0m\u001b[0;34m,\u001b[0m \u001b[0my\u001b[0m\u001b[0;34m,\u001b[0m \u001b[0mop\u001b[0m\u001b[0;34m)\u001b[0m\u001b[0;34m\u001b[0m\u001b[0m\n\u001b[1;32m    680\u001b[0m             \u001b[0;32melse\u001b[0m\u001b[0;34m:\u001b[0m\u001b[0;34m\u001b[0m\u001b[0m\n\u001b[0;32m--> 681\u001b[0;31m                 \u001b[0mresult\u001b[0m \u001b[0;34m=\u001b[0m \u001b[0mlib\u001b[0m\u001b[0;34m.\u001b[0m\u001b[0mscalar_compare\u001b[0m\u001b[0;34m(\u001b[0m\u001b[0mx\u001b[0m\u001b[0;34m,\u001b[0m \u001b[0my\u001b[0m\u001b[0;34m,\u001b[0m \u001b[0mop\u001b[0m\u001b[0;34m)\u001b[0m\u001b[0;34m\u001b[0m\u001b[0m\n\u001b[0m\u001b[1;32m    682\u001b[0m         \u001b[0;32melse\u001b[0m\u001b[0;34m:\u001b[0m\u001b[0;34m\u001b[0m\u001b[0m\n\u001b[1;32m    683\u001b[0m \u001b[0;34m\u001b[0m\u001b[0m\n",
      "\u001b[0;31mKeyboardInterrupt\u001b[0m: "
     ]
    }
   ],
   "source": [
    "N_support = np.empty(shape = (len(unique_artist),len(unique_artist)))\n",
    "support=[[[] for i in range(len(unique_artist))] for i in range(len(unique_artist))]\n",
    "\n",
    "prog_bar = pyprind.ProgBar(len(unique_artist))\n",
    "for i,artist1 in enumerate(unique_artist):\n",
    "    prog_bar.update()\n",
    "    for j,artist2 in enumerate(unique_artist):\n",
    "        if(i<=j):\n",
    "            if(artist1 == artist2):\n",
    "                support[i][j]   = train.loc[train.artist == artist1]\n",
    "                N_support[i,j]  = train.loc[train.artist == artist1].shape[0]\n",
    "            if(artist1 != artist2):\n",
    "                support[i][j]  = set(train.loc[(train.artist == artist1), 'user']).intersection(set(train.loc[(train.artist == artist2), 'user']))\n",
    "                N_support[i,j] = len(support[i][j])\n",
    "                # Symetry\n",
    "                support[j][i]  = support[i][j]\n",
    "                N_support[j,i] = N_support[i,j]"
   ]
  },
  {
   "cell_type": "markdown",
   "metadata": {},
   "source": [
    "## Step 2 : Compute the correlation coefficient"
   ]
  },
  {
   "cell_type": "markdown",
   "metadata": {},
   "source": [
    "##### Compute the User Average"
   ]
  },
  {
   "cell_type": "code",
   "execution_count": 33,
   "metadata": {
    "collapsed": false
   },
   "outputs": [
    {
     "name": "stderr",
     "output_type": "stream",
     "text": [
      "0%                          100%\n",
      "[##############################] | ETA: 00:00:00\n",
      "Total time elapsed: 00:56:40\n"
     ]
    }
   ],
   "source": [
    "prog_bar = pyprind.ProgBar(len(train.user.unique()))\n",
    "user_avg = pd.DataFrame(columns=['User', 'AVG'])\n",
    "for u in train.user.unique():\n",
    "    user_avg = user_avg.append({'User': u, 'AVG' : train.loc[train.user == u].plays.median()}, ignore_index=True)\n",
    "    prog_bar.update()"
   ]
  },
  {
   "cell_type": "code",
   "execution_count": 35,
   "metadata": {
    "collapsed": false
   },
   "outputs": [],
   "source": [
    "user_avg.to_csv('user_avg2.csv')"
   ]
  },
  {
   "cell_type": "markdown",
   "metadata": {},
   "source": [
    "##### Compute the similarity"
   ]
  },
  {
   "cell_type": "code",
   "execution_count": null,
   "metadata": {
    "collapsed": false
   },
   "outputs": [],
   "source": [
    "def computeSim(artist1, artist2, unique_artist, support, N_support, user_avg, train, reg = 3):\n",
    "    commonUser = support[unique_artist.tolist().index(artist1)][unique_artist.tolist().index(artist2)]\n",
    "    N_Common = N_support[unique_artist.tolist().index(artist1)][unique_artist.tolist().index(artist2)]\n",
    "    user_artist1 = []\n",
    "    user_artist2 = []\n",
    "    for i in commonUser:\n",
    "        user_artist1.append(int(train.loc[(train.user == i) & (train.artist == artist1)].plays) - float(user_avg.loc[user_avg.User == i, 'AVG']))\n",
    "        user_artist2.append(int(train.loc[(train.user == i) & (train.artist == artist2)].plays) - float(user_avg.loc[user_avg.User == i, 'AVG']))\n",
    "    rho = scipy.stats.pearsonr(user_artist1, user_artist2)[0]\n",
    "    rho_shrunk = N_Common * rho / (N_Common + reg) \n",
    "    return((1-rho_shrunk)/2)"
   ]
  },
  {
   "cell_type": "code",
   "execution_count": null,
   "metadata": {
    "collapsed": false
   },
   "outputs": [],
   "source": [
    "sim = np.empty(shape = (len(unique_artist),len(unique_artist)))\n",
    "prog_bar = pyprind.ProgBar(len(unique_artist))\n",
    "for i,artist1 in enumerate(unique_artist):\n",
    "    prog_bar.update()\n",
    "    for j,artist2 in enumerate(unique_artist):\n",
    "        if(i<=j):\n",
    "            if(artist1 == artist2):\n",
    "                sim[i,j]  = 1\n",
    "            if(artist1 != artist2):\n",
    "                sim[i,j] = computeSim(artist1, artist2, unique_artist, support, N_support, user_avg, train)\n",
    "                sim[j,i] = sim[i,j] "
   ]
  },
  {
   "cell_type": "markdown",
   "metadata": {},
   "source": [
    "## Step 3 : Apply The Final Algo"
   ]
  },
  {
   "cell_type": "code",
   "execution_count": null,
   "metadata": {
    "collapsed": true
   },
   "outputs": [],
   "source": [
    "def MakePrediction(u,m,unique_artist,train,k):\n",
    "    # Get the base artist\n",
    "    base_artist = train.loc[train.user == u].artist.unique()\n",
    "    \n",
    "    # Construct the dataframe with the similarities and the base_artist, sort it DESC\n",
    "    a = np.where(np.in1d(unique_artist, m))[0]\n",
    "    b = np.where(np.in1d(unique_artist, base_artist))[0]\n",
    "    sim_base = sim[a][0][b]\n",
    "\n",
    "    res = pd.DataFrame(columns = ['artist_id', 'artist_name', 'sim'])\n",
    "    res.loc[:, 'sim']  = sim_base\n",
    "    res.artist_id = b\n",
    "    res.artist_name = base_artist\n",
    "    res = res.sort_values(by = 'sim', ascending = False)\n",
    "    \n",
    "    # Apply the final Algo\n",
    "    num = 0\n",
    "    denom = 0\n",
    "    Yum_base = computeBaseline(u, m, train)\n",
    "    for i in res.index[:k]:\n",
    "        Yuj = int(train[(train.user == u) & (train.artist == res.loc[i, 'artist_name'])].plays)\n",
    "        num += res.loc[i, 'sim']*(Yuj-Yum_base)\n",
    "        denom += res.loc[i, 'sim']\n",
    "\n",
    "    Y_um = Yum_base + num/denom\n",
    "    \n",
    "    return Y_um"
   ]
  },
  {
   "cell_type": "code",
   "execution_count": null,
   "metadata": {
    "collapsed": true
   },
   "outputs": [],
   "source": []
  }
 ],
 "metadata": {
  "kernelspec": {
   "display_name": "py3",
   "language": "python",
   "name": "py3"
  },
  "language_info": {
   "codemirror_mode": {
    "name": "ipython",
    "version": 3
   },
   "file_extension": ".py",
   "mimetype": "text/x-python",
   "name": "python",
   "nbconvert_exporter": "python",
   "pygments_lexer": "ipython3",
   "version": "3.5.1"
  }
 },
 "nbformat": 4,
 "nbformat_minor": 0
}
