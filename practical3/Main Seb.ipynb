{
 "cells": [
  {
   "cell_type": "code",
   "execution_count": 2,
   "metadata": {
    "collapsed": false
   },
   "outputs": [],
   "source": [
    "import numpy as np\n",
    "import csv\n",
    "import pandas as pd\n",
    "import pyprind\n",
    "import scipy.sparse as spr\n",
    "import graphlab as gl\n",
    "from sklearn.cluster import KMeans\n",
    "from math import isnan\n",
    "import matplotlib.pyplot as plt\n",
    "import seaborn as sns\n",
    "from sklearn.metrics import mean_absolute_error\n",
    "sns.set_style(\"whitegrid\")\n",
    "sns.set_context(\"poster\")\n",
    "pd.set_option('display.width', 500)\n",
    "pd.set_option('display.max_columns', 100)\n",
    "pd.set_option('display.notebook_repr_html', True)\n",
    "%matplotlib inline"
   ]
  },
  {
   "cell_type": "code",
   "execution_count": 5,
   "metadata": {
    "collapsed": false
   },
   "outputs": [],
   "source": [
    "train_file = 'data/train.csv'\n",
    "test_file  = 'data/test.csv'\n",
    "profiles_file = 'data/profiles.csv'\n",
    "artists_file = 'data/artists.csv'"
   ]
  },
  {
   "cell_type": "markdown",
   "metadata": {},
   "source": [
    "# Experimentation"
   ]
  },
  {
   "cell_type": "markdown",
   "metadata": {},
   "source": [
    "### User Profile Matrix\n",
    "#### Load the User data into a DataFrame"
   ]
  },
  {
   "cell_type": "code",
   "execution_count": 3,
   "metadata": {
    "collapsed": false
   },
   "outputs": [],
   "source": [
    "profiles = pd.read_csv(profiles_file, header=0)\n",
    "user_ids = profiles.user"
   ]
  },
  {
   "cell_type": "code",
   "execution_count": 4,
   "metadata": {
    "collapsed": false
   },
   "outputs": [],
   "source": [
    "profile_data = pd.DataFrame({'sex': profiles.sex.apply(lambda s: -1 if type(s) == float and np.isnan(s) else s).values, \\\n",
    "                                 'age': profiles.age.apply(lambda s: int(s) if not isnan(s) else -1).values, \\\n",
    "                                 'country': profiles.country.values}, \\\n",
    "                                index=user_ids.values)"
   ]
  },
  {
   "cell_type": "code",
   "execution_count": 5,
   "metadata": {
    "collapsed": false
   },
   "outputs": [
    {
     "data": {
      "text/html": [
       "<div>\n",
       "<table border=\"1\" class=\"dataframe\">\n",
       "  <thead>\n",
       "    <tr style=\"text-align: right;\">\n",
       "      <th></th>\n",
       "      <th>age</th>\n",
       "      <th>country</th>\n",
       "      <th>sex</th>\n",
       "    </tr>\n",
       "  </thead>\n",
       "  <tbody>\n",
       "    <tr>\n",
       "      <th>fa40b43298ba3f8aa52e8e8863faf2e2171e0b5d</th>\n",
       "      <td>25</td>\n",
       "      <td>Sweden</td>\n",
       "      <td>f</td>\n",
       "    </tr>\n",
       "    <tr>\n",
       "      <th>5909125332c108365a26ccf0ee62636eee08215c</th>\n",
       "      <td>29</td>\n",
       "      <td>Iceland</td>\n",
       "      <td>m</td>\n",
       "    </tr>\n",
       "    <tr>\n",
       "      <th>d1867cbda35e0d48e9a8390d9f5e079c9d99ea96</th>\n",
       "      <td>30</td>\n",
       "      <td>United States</td>\n",
       "      <td>m</td>\n",
       "    </tr>\n",
       "    <tr>\n",
       "      <th>63268cce0d68127729890c1691f62d5be5abd87c</th>\n",
       "      <td>21</td>\n",
       "      <td>Germany</td>\n",
       "      <td>m</td>\n",
       "    </tr>\n",
       "    <tr>\n",
       "      <th>02871cd952d607ba69b64e2e107773012c708113</th>\n",
       "      <td>24</td>\n",
       "      <td>Netherlands</td>\n",
       "      <td>m</td>\n",
       "    </tr>\n",
       "  </tbody>\n",
       "</table>\n",
       "</div>"
      ],
      "text/plain": [
       "                                          age        country sex\n",
       "fa40b43298ba3f8aa52e8e8863faf2e2171e0b5d   25         Sweden   f\n",
       "5909125332c108365a26ccf0ee62636eee08215c   29        Iceland   m\n",
       "d1867cbda35e0d48e9a8390d9f5e079c9d99ea96   30  United States   m\n",
       "63268cce0d68127729890c1691f62d5be5abd87c   21        Germany   m\n",
       "02871cd952d607ba69b64e2e107773012c708113   24    Netherlands   m"
      ]
     },
     "execution_count": 5,
     "metadata": {},
     "output_type": "execute_result"
    }
   ],
   "source": [
    "profile_data.head()"
   ]
  },
  {
   "cell_type": "code",
   "execution_count": 6,
   "metadata": {
    "collapsed": false
   },
   "outputs": [],
   "source": [
    "columns = list(set(profile_data.sex)) + list(set(profile_data.country)) + [15, 20, 25, 30, 35, 40, 45, 50]"
   ]
  },
  {
   "cell_type": "code",
   "execution_count": 7,
   "metadata": {
    "collapsed": false
   },
   "outputs": [],
   "source": [
    "#This was helpful: http://stackoverflow.com/questions/2272149/round-to-5-or-other-number-in-python\n",
    "def custom_round(x, base=5):\n",
    "    rounded = int(base * round(float(x)/base))\n",
    "    if rounded <15:\n",
    "        return 15\n",
    "    elif rounded > 50:\n",
    "        return 50\n",
    "    else:\n",
    "        return rounded"
   ]
  },
  {
   "cell_type": "markdown",
   "metadata": {},
   "source": [
    "#### Create a Matrix with 1 and 0 with a auser has a certaint characteristic"
   ]
  },
  {
   "cell_type": "code",
   "execution_count": 8,
   "metadata": {
    "collapsed": false
   },
   "outputs": [],
   "source": [
    "# User Profile Matrix\n",
    "profile_matrix = np.zeros((len(profile_data.index.values), len(columns)))\n",
    "loop_size = len(profile_data.index.values)\n",
    "mybar = pyprind.ProgBar(loop_size)\n",
    "\n",
    "for i, user in enumerate(profile_data.index.values):\n",
    "    profile = profile_data.ix[user]\n",
    "\n",
    "    #Sex indices\n",
    "    if profile['sex'] == 'm':\n",
    "        profile_matrix[i, 0] = 1  \n",
    "    elif profile['sex'] == 'f':\n",
    "        profile_matrix[i, 1] = 1\n",
    "        \n",
    "    # Country indices\n",
    "    country = profile['country']\n",
    "    country_col = columns.index(country)\n",
    "    profile_matrix[i, country_col] = 1\n",
    "    \n",
    "    # Age indices\n",
    "    age = custom_round(profile['age'])\n",
    "    profile_matrix[i, columns.index(age)] = 1\n",
    "    \n",
    "    mybar.update()"
   ]
  },
  {
   "cell_type": "code",
   "execution_count": 9,
   "metadata": {
    "collapsed": true
   },
   "outputs": [],
   "source": [
    "user_pos_by_id = {}\n",
    "for i, user_id in enumerate(user_ids):\n",
    "    user_pos_by_id[user_id] = i"
   ]
  },
  {
   "cell_type": "code",
   "execution_count": null,
   "metadata": {
    "collapsed": true
   },
   "outputs": [],
   "source": []
  },
  {
   "cell_type": "code",
   "execution_count": 10,
   "metadata": {
    "collapsed": false
   },
   "outputs": [],
   "source": [
    "train_data = pd.read_csv(train_file, header=0)"
   ]
  },
  {
   "cell_type": "code",
   "execution_count": 11,
   "metadata": {
    "collapsed": false
   },
   "outputs": [],
   "source": [
    "train = pd.DataFrame({'user': train_data.user.values, \\\n",
    "                        'artist': train_data.artist.values, \\\n",
    "                        'plays': train_data.plays.apply(lambda s: int(s) if not isnan(s) else 0).values}, \\\n",
    "                        index=train_data.user.values)"
   ]
  },
  {
   "cell_type": "code",
   "execution_count": 12,
   "metadata": {
    "collapsed": false
   },
   "outputs": [
    {
     "data": {
      "text/html": [
       "<div>\n",
       "<table border=\"1\" class=\"dataframe\">\n",
       "  <thead>\n",
       "    <tr style=\"text-align: right;\">\n",
       "      <th></th>\n",
       "      <th>artist</th>\n",
       "      <th>plays</th>\n",
       "      <th>user</th>\n",
       "    </tr>\n",
       "  </thead>\n",
       "  <tbody>\n",
       "    <tr>\n",
       "      <th>44ce793a6cd9d20f13f4a576a818ef983314bb5d</th>\n",
       "      <td>a3a92047-be1c-4f3e-8960-c4f8570984df</td>\n",
       "      <td>81</td>\n",
       "      <td>44ce793a6cd9d20f13f4a576a818ef983314bb5d</td>\n",
       "    </tr>\n",
       "    <tr>\n",
       "      <th>44ce793a6cd9d20f13f4a576a818ef983314bb5d</th>\n",
       "      <td>5441c29d-3602-4898-b1a1-b77fa23b8e50</td>\n",
       "      <td>70</td>\n",
       "      <td>44ce793a6cd9d20f13f4a576a818ef983314bb5d</td>\n",
       "    </tr>\n",
       "    <tr>\n",
       "      <th>44ce793a6cd9d20f13f4a576a818ef983314bb5d</th>\n",
       "      <td>f4857fb9-e255-4dc6-bd01-e4ca7cc68544</td>\n",
       "      <td>21</td>\n",
       "      <td>44ce793a6cd9d20f13f4a576a818ef983314bb5d</td>\n",
       "    </tr>\n",
       "    <tr>\n",
       "      <th>44ce793a6cd9d20f13f4a576a818ef983314bb5d</th>\n",
       "      <td>6ffb8ea9-2370-44d8-b678-e9237bbd347b</td>\n",
       "      <td>56</td>\n",
       "      <td>44ce793a6cd9d20f13f4a576a818ef983314bb5d</td>\n",
       "    </tr>\n",
       "    <tr>\n",
       "      <th>44ce793a6cd9d20f13f4a576a818ef983314bb5d</th>\n",
       "      <td>63011a8d-0117-4f7e-9991-1ef1f337ff70</td>\n",
       "      <td>13</td>\n",
       "      <td>44ce793a6cd9d20f13f4a576a818ef983314bb5d</td>\n",
       "    </tr>\n",
       "  </tbody>\n",
       "</table>\n",
       "</div>"
      ],
      "text/plain": [
       "                                                                        artist  plays                                      user\n",
       "44ce793a6cd9d20f13f4a576a818ef983314bb5d  a3a92047-be1c-4f3e-8960-c4f8570984df     81  44ce793a6cd9d20f13f4a576a818ef983314bb5d\n",
       "44ce793a6cd9d20f13f4a576a818ef983314bb5d  5441c29d-3602-4898-b1a1-b77fa23b8e50     70  44ce793a6cd9d20f13f4a576a818ef983314bb5d\n",
       "44ce793a6cd9d20f13f4a576a818ef983314bb5d  f4857fb9-e255-4dc6-bd01-e4ca7cc68544     21  44ce793a6cd9d20f13f4a576a818ef983314bb5d\n",
       "44ce793a6cd9d20f13f4a576a818ef983314bb5d  6ffb8ea9-2370-44d8-b678-e9237bbd347b     56  44ce793a6cd9d20f13f4a576a818ef983314bb5d\n",
       "44ce793a6cd9d20f13f4a576a818ef983314bb5d  63011a8d-0117-4f7e-9991-1ef1f337ff70     13  44ce793a6cd9d20f13f4a576a818ef983314bb5d"
      ]
     },
     "execution_count": 12,
     "metadata": {},
     "output_type": "execute_result"
    }
   ],
   "source": [
    "train.ix[\"44ce793a6cd9d20f13f4a576a818ef983314bb5d\"].head()"
   ]
  },
  {
   "cell_type": "markdown",
   "metadata": {
    "collapsed": true
   },
   "source": [
    "### Train/Validate Split"
   ]
  },
  {
   "cell_type": "code",
   "execution_count": 13,
   "metadata": {
    "collapsed": false
   },
   "outputs": [
    {
     "data": {
      "text/html": [
       "<div>\n",
       "<table border=\"1\" class=\"dataframe\">\n",
       "  <thead>\n",
       "    <tr style=\"text-align: right;\">\n",
       "      <th></th>\n",
       "      <th>artist</th>\n",
       "      <th>plays</th>\n",
       "      <th>user</th>\n",
       "    </tr>\n",
       "  </thead>\n",
       "  <tbody>\n",
       "    <tr>\n",
       "      <th>eb1c57ddc9e0e2d005169d3a1a96e8dd95e3af03</th>\n",
       "      <td>5a8e07d5-d932-4484-a7f7-e700793a9c94</td>\n",
       "      <td>554</td>\n",
       "      <td>eb1c57ddc9e0e2d005169d3a1a96e8dd95e3af03</td>\n",
       "    </tr>\n",
       "    <tr>\n",
       "      <th>44ce793a6cd9d20f13f4a576a818ef983314bb5d</th>\n",
       "      <td>a3a92047-be1c-4f3e-8960-c4f8570984df</td>\n",
       "      <td>81</td>\n",
       "      <td>44ce793a6cd9d20f13f4a576a818ef983314bb5d</td>\n",
       "    </tr>\n",
       "    <tr>\n",
       "      <th>da9cf3f557161d54b76f24db64be9cc76db008e3</th>\n",
       "      <td>eeb1195b-f213-4ce1-b28c-8565211f8e43</td>\n",
       "      <td>708</td>\n",
       "      <td>da9cf3f557161d54b76f24db64be9cc76db008e3</td>\n",
       "    </tr>\n",
       "    <tr>\n",
       "      <th>8fa49ab25d425edcf05d44bfc1d5aea895287d81</th>\n",
       "      <td>a1419808-65d3-4d40-998c-1a0bac65eabc</td>\n",
       "      <td>265</td>\n",
       "      <td>8fa49ab25d425edcf05d44bfc1d5aea895287d81</td>\n",
       "    </tr>\n",
       "    <tr>\n",
       "      <th>b85fcaef67d2669cd99b334b5e8c8705263db2cf</th>\n",
       "      <td>a3cb23fc-acd3-4ce0-8f36-1e5aa6a18432</td>\n",
       "      <td>220</td>\n",
       "      <td>b85fcaef67d2669cd99b334b5e8c8705263db2cf</td>\n",
       "    </tr>\n",
       "  </tbody>\n",
       "</table>\n",
       "</div>"
      ],
      "text/plain": [
       "                                                                        artist  plays                                      user\n",
       "eb1c57ddc9e0e2d005169d3a1a96e8dd95e3af03  5a8e07d5-d932-4484-a7f7-e700793a9c94    554  eb1c57ddc9e0e2d005169d3a1a96e8dd95e3af03\n",
       "44ce793a6cd9d20f13f4a576a818ef983314bb5d  a3a92047-be1c-4f3e-8960-c4f8570984df     81  44ce793a6cd9d20f13f4a576a818ef983314bb5d\n",
       "da9cf3f557161d54b76f24db64be9cc76db008e3  eeb1195b-f213-4ce1-b28c-8565211f8e43    708  da9cf3f557161d54b76f24db64be9cc76db008e3\n",
       "8fa49ab25d425edcf05d44bfc1d5aea895287d81  a1419808-65d3-4d40-998c-1a0bac65eabc    265  8fa49ab25d425edcf05d44bfc1d5aea895287d81\n",
       "b85fcaef67d2669cd99b334b5e8c8705263db2cf  a3cb23fc-acd3-4ce0-8f36-1e5aa6a18432    220  b85fcaef67d2669cd99b334b5e8c8705263db2cf"
      ]
     },
     "execution_count": 13,
     "metadata": {},
     "output_type": "execute_result"
    }
   ],
   "source": [
    "train.head()"
   ]
  },
  {
   "cell_type": "code",
   "execution_count": 14,
   "metadata": {
    "collapsed": false
   },
   "outputs": [
    {
     "name": "stderr",
     "output_type": "stream",
     "text": [
      "0%                          100%\n",
      "[##############################] | ETA: 00:00:00\n",
      "Total time elapsed: 00:02:09\n"
     ]
    }
   ],
   "source": [
    "trainlist=[]\n",
    "validatelist=[]\n",
    "take=4\n",
    "i = 0\n",
    "loop_size = len(train.groupby('user'))\n",
    "mybar = pyprind.ProgBar(loop_size)\n",
    "for k, v in train.groupby('user'):\n",
    "    if v.artist.count() > 10:\n",
    "        validatelist.append(v[-take:]) \n",
    "        trainlist.append(v[:-take])\n",
    "    else:\n",
    "        trainlist.append(v)\n",
    "    mybar.update()\n",
    "train_df=pd.concat(trainlist)\n",
    "validate_df=pd.concat(validatelist)"
   ]
  },
  {
   "cell_type": "code",
   "execution_count": 15,
   "metadata": {
    "collapsed": false
   },
   "outputs": [
    {
     "name": "stdout",
     "output_type": "stream",
     "text": [
      "233286\n",
      "224957\n"
     ]
    }
   ],
   "source": [
    "print len(set(train_df.user.values))\n",
    "print len(set(validate_df.user.values))"
   ]
  },
  {
   "cell_type": "code",
   "execution_count": 16,
   "metadata": {
    "collapsed": false
   },
   "outputs": [
    {
     "name": "stdout",
     "output_type": "stream",
     "text": [
      "9764928\n"
     ]
    }
   ],
   "source": [
    "# CALCULATE THE NUMBER OF SONGS WE ARE ESTIMATING IN OUR TRIAN_TEST SAMPLE\n",
    "num_songs_estimating = 0\n",
    "\n",
    "for user, user_data in train_df.iteritems():\n",
    "    for artist, plays in user_data.iteritems():\n",
    "        num_songs_estimating += 1\n",
    "        \n",
    "print num_songs_estimating"
   ]
  },
  {
   "cell_type": "code",
   "execution_count": 17,
   "metadata": {
    "collapsed": true
   },
   "outputs": [],
   "source": [
    "KM = KMeans(n_clusters=20, \\\n",
    "            init='k-means++', \\\n",
    "            n_init=10, \\\n",
    "            max_iter=300, \\\n",
    "            tol=0.0001, \\\n",
    "            precompute_distances='auto', \\\n",
    "            verbose=0, \\\n",
    "            random_state=37)\n",
    "# Calls fit and then predict\n",
    "predict = KM.fit_predict(profile_matrix)"
   ]
  },
  {
   "cell_type": "code",
   "execution_count": 18,
   "metadata": {
    "collapsed": false
   },
   "outputs": [
    {
     "name": "stdout",
     "output_type": "stream",
     "text": [
      "The objective function: -206859.457500\n"
     ]
    }
   ],
   "source": [
    "print \"The objective function: %f\" % KM.score(profile_matrix) "
   ]
  },
  {
   "cell_type": "code",
   "execution_count": 19,
   "metadata": {
    "collapsed": false
   },
   "outputs": [
    {
     "name": "stdout",
     "output_type": "stream",
     "text": [
      "[ 4  4  9 17  9 19  1  7 10]\n"
     ]
    }
   ],
   "source": [
    "# Examine the predicted clusters\n",
    "print predict[1:10]"
   ]
  },
  {
   "cell_type": "markdown",
   "metadata": {},
   "source": [
    "### Global-Median"
   ]
  },
  {
   "cell_type": "code",
   "execution_count": 20,
   "metadata": {
    "collapsed": false
   },
   "outputs": [
    {
     "name": "stdout",
     "output_type": "stream",
     "text": [
      "118.0\n"
     ]
    }
   ],
   "source": [
    "global_median = np.median(np.array(train_df.plays.values))\n",
    "print global_median"
   ]
  },
  {
   "cell_type": "markdown",
   "metadata": {},
   "source": [
    "### User-Medians"
   ]
  },
  {
   "cell_type": "code",
   "execution_count": 21,
   "metadata": {
    "collapsed": false
   },
   "outputs": [
    {
     "name": "stderr",
     "output_type": "stream",
     "text": [
      "0%                          100%\n",
      "[##############################] | ETA: 00:00:00\n",
      "Total time elapsed: 00:01:45\n"
     ]
    }
   ],
   "source": [
    "user_medians = {}\n",
    "\n",
    "uuids = list(set(train_df.user))\n",
    "loop_size = len(uuids)\n",
    "mybar = pyprind.ProgBar(loop_size)\n",
    "for k, user in enumerate(uuids):\n",
    "    user_medians[user] = np.median(np.array(train_df.ix[user].plays.values))\n",
    "    mybar.update()"
   ]
  },
  {
   "cell_type": "code",
   "execution_count": 22,
   "metadata": {
    "collapsed": false
   },
   "outputs": [],
   "source": [
    "medians_df = pd.DataFrame.from_dict(user_medians, orient='index')\n",
    "medians_df.rename(columns={0:\"user_median\"}, inplace=True)\n",
    "medians_df[\"global_median\"] = global_median\n",
    "medians_df[\"user\"] = medians_df.index.values"
   ]
  },
  {
   "cell_type": "code",
   "execution_count": 23,
   "metadata": {
    "collapsed": false
   },
   "outputs": [
    {
     "data": {
      "text/html": [
       "<div>\n",
       "<table border=\"1\" class=\"dataframe\">\n",
       "  <thead>\n",
       "    <tr style=\"text-align: right;\">\n",
       "      <th></th>\n",
       "      <th>user_median</th>\n",
       "      <th>global_median</th>\n",
       "      <th>user</th>\n",
       "    </tr>\n",
       "  </thead>\n",
       "  <tbody>\n",
       "    <tr>\n",
       "      <th>f283c15ed4180e686384dc1de2a5cbf5f95ae269</th>\n",
       "      <td>4.0</td>\n",
       "      <td>118</td>\n",
       "      <td>f283c15ed4180e686384dc1de2a5cbf5f95ae269</td>\n",
       "    </tr>\n",
       "    <tr>\n",
       "      <th>5909125332c108365a26ccf0ee62636eee08215c</th>\n",
       "      <td>415.0</td>\n",
       "      <td>118</td>\n",
       "      <td>5909125332c108365a26ccf0ee62636eee08215c</td>\n",
       "    </tr>\n",
       "    <tr>\n",
       "      <th>0eae120959c04371c23af09abaf71305ab2a1b3c</th>\n",
       "      <td>237.5</td>\n",
       "      <td>118</td>\n",
       "      <td>0eae120959c04371c23af09abaf71305ab2a1b3c</td>\n",
       "    </tr>\n",
       "    <tr>\n",
       "      <th>734f7337c7d33e99fa60a6361a5df8e3fb939ecf</th>\n",
       "      <td>242.0</td>\n",
       "      <td>118</td>\n",
       "      <td>734f7337c7d33e99fa60a6361a5df8e3fb939ecf</td>\n",
       "    </tr>\n",
       "    <tr>\n",
       "      <th>02871cd952d607ba69b64e2e107773012c708113</th>\n",
       "      <td>172.0</td>\n",
       "      <td>118</td>\n",
       "      <td>02871cd952d607ba69b64e2e107773012c708113</td>\n",
       "    </tr>\n",
       "  </tbody>\n",
       "</table>\n",
       "</div>"
      ],
      "text/plain": [
       "                                          user_median  global_median                                      user\n",
       "f283c15ed4180e686384dc1de2a5cbf5f95ae269          4.0            118  f283c15ed4180e686384dc1de2a5cbf5f95ae269\n",
       "5909125332c108365a26ccf0ee62636eee08215c        415.0            118  5909125332c108365a26ccf0ee62636eee08215c\n",
       "0eae120959c04371c23af09abaf71305ab2a1b3c        237.5            118  0eae120959c04371c23af09abaf71305ab2a1b3c\n",
       "734f7337c7d33e99fa60a6361a5df8e3fb939ecf        242.0            118  734f7337c7d33e99fa60a6361a5df8e3fb939ecf\n",
       "02871cd952d607ba69b64e2e107773012c708113        172.0            118  02871cd952d607ba69b64e2e107773012c708113"
      ]
     },
     "execution_count": 23,
     "metadata": {},
     "output_type": "execute_result"
    }
   ],
   "source": [
    "medians_df.head()"
   ]
  },
  {
   "cell_type": "markdown",
   "metadata": {},
   "source": [
    "### Create a Dataframe with actual plays of validation set and the user_medians of the train set"
   ]
  },
  {
   "cell_type": "code",
   "execution_count": 24,
   "metadata": {
    "collapsed": false
   },
   "outputs": [
    {
     "data": {
      "text/html": [
       "<div>\n",
       "<table border=\"1\" class=\"dataframe\">\n",
       "  <thead>\n",
       "    <tr style=\"text-align: right;\">\n",
       "      <th></th>\n",
       "      <th>artist</th>\n",
       "      <th>plays</th>\n",
       "      <th>user</th>\n",
       "    </tr>\n",
       "  </thead>\n",
       "  <tbody>\n",
       "    <tr>\n",
       "      <th>00001411dc427966b17297bf4d69e7e193135d89</th>\n",
       "      <td>e105c272-b5d7-4135-82ef-d60bded54345</td>\n",
       "      <td>1244</td>\n",
       "      <td>00001411dc427966b17297bf4d69e7e193135d89</td>\n",
       "    </tr>\n",
       "    <tr>\n",
       "      <th>00001411dc427966b17297bf4d69e7e193135d89</th>\n",
       "      <td>9fa07bb4-8312-4cd7-a19a-4fdbc5797148</td>\n",
       "      <td>2641</td>\n",
       "      <td>00001411dc427966b17297bf4d69e7e193135d89</td>\n",
       "    </tr>\n",
       "    <tr>\n",
       "      <th>00001411dc427966b17297bf4d69e7e193135d89</th>\n",
       "      <td>ffb18e19-64a4-4a65-b4ce-979e00c3c69d</td>\n",
       "      <td>622</td>\n",
       "      <td>00001411dc427966b17297bf4d69e7e193135d89</td>\n",
       "    </tr>\n",
       "    <tr>\n",
       "      <th>00001411dc427966b17297bf4d69e7e193135d89</th>\n",
       "      <td>451f9db1-f75f-44f9-b218-f8bdf22035a1</td>\n",
       "      <td>2427</td>\n",
       "      <td>00001411dc427966b17297bf4d69e7e193135d89</td>\n",
       "    </tr>\n",
       "    <tr>\n",
       "      <th>000063d3fe1cf2ba248b9e3c3f0334845a27a6bf</th>\n",
       "      <td>50eec634-7c42-41ee-9b1f-b41d9ca28b26</td>\n",
       "      <td>8</td>\n",
       "      <td>000063d3fe1cf2ba248b9e3c3f0334845a27a6bf</td>\n",
       "    </tr>\n",
       "  </tbody>\n",
       "</table>\n",
       "</div>"
      ],
      "text/plain": [
       "                                                                        artist  plays                                      user\n",
       "00001411dc427966b17297bf4d69e7e193135d89  e105c272-b5d7-4135-82ef-d60bded54345   1244  00001411dc427966b17297bf4d69e7e193135d89\n",
       "00001411dc427966b17297bf4d69e7e193135d89  9fa07bb4-8312-4cd7-a19a-4fdbc5797148   2641  00001411dc427966b17297bf4d69e7e193135d89\n",
       "00001411dc427966b17297bf4d69e7e193135d89  ffb18e19-64a4-4a65-b4ce-979e00c3c69d    622  00001411dc427966b17297bf4d69e7e193135d89\n",
       "00001411dc427966b17297bf4d69e7e193135d89  451f9db1-f75f-44f9-b218-f8bdf22035a1   2427  00001411dc427966b17297bf4d69e7e193135d89\n",
       "000063d3fe1cf2ba248b9e3c3f0334845a27a6bf  50eec634-7c42-41ee-9b1f-b41d9ca28b26      8  000063d3fe1cf2ba248b9e3c3f0334845a27a6bf"
      ]
     },
     "execution_count": 24,
     "metadata": {},
     "output_type": "execute_result"
    }
   ],
   "source": [
    "validate_df.head()"
   ]
  },
  {
   "cell_type": "code",
   "execution_count": 25,
   "metadata": {
    "collapsed": false
   },
   "outputs": [],
   "source": [
    "final_df = validate_df\n",
    "final_df[\"user_median\"] = 0"
   ]
  },
  {
   "cell_type": "code",
   "execution_count": 26,
   "metadata": {
    "collapsed": false
   },
   "outputs": [
    {
     "data": {
      "text/html": [
       "<div>\n",
       "<table border=\"1\" class=\"dataframe\">\n",
       "  <thead>\n",
       "    <tr style=\"text-align: right;\">\n",
       "      <th></th>\n",
       "      <th>artist</th>\n",
       "      <th>plays</th>\n",
       "      <th>user</th>\n",
       "      <th>user_median</th>\n",
       "    </tr>\n",
       "  </thead>\n",
       "  <tbody>\n",
       "    <tr>\n",
       "      <th>00001411dc427966b17297bf4d69e7e193135d89</th>\n",
       "      <td>e105c272-b5d7-4135-82ef-d60bded54345</td>\n",
       "      <td>1244</td>\n",
       "      <td>00001411dc427966b17297bf4d69e7e193135d89</td>\n",
       "      <td>0</td>\n",
       "    </tr>\n",
       "    <tr>\n",
       "      <th>00001411dc427966b17297bf4d69e7e193135d89</th>\n",
       "      <td>9fa07bb4-8312-4cd7-a19a-4fdbc5797148</td>\n",
       "      <td>2641</td>\n",
       "      <td>00001411dc427966b17297bf4d69e7e193135d89</td>\n",
       "      <td>0</td>\n",
       "    </tr>\n",
       "    <tr>\n",
       "      <th>00001411dc427966b17297bf4d69e7e193135d89</th>\n",
       "      <td>ffb18e19-64a4-4a65-b4ce-979e00c3c69d</td>\n",
       "      <td>622</td>\n",
       "      <td>00001411dc427966b17297bf4d69e7e193135d89</td>\n",
       "      <td>0</td>\n",
       "    </tr>\n",
       "    <tr>\n",
       "      <th>00001411dc427966b17297bf4d69e7e193135d89</th>\n",
       "      <td>451f9db1-f75f-44f9-b218-f8bdf22035a1</td>\n",
       "      <td>2427</td>\n",
       "      <td>00001411dc427966b17297bf4d69e7e193135d89</td>\n",
       "      <td>0</td>\n",
       "    </tr>\n",
       "    <tr>\n",
       "      <th>000063d3fe1cf2ba248b9e3c3f0334845a27a6bf</th>\n",
       "      <td>50eec634-7c42-41ee-9b1f-b41d9ca28b26</td>\n",
       "      <td>8</td>\n",
       "      <td>000063d3fe1cf2ba248b9e3c3f0334845a27a6bf</td>\n",
       "      <td>0</td>\n",
       "    </tr>\n",
       "  </tbody>\n",
       "</table>\n",
       "</div>"
      ],
      "text/plain": [
       "                                                                        artist  plays                                      user  user_median\n",
       "00001411dc427966b17297bf4d69e7e193135d89  e105c272-b5d7-4135-82ef-d60bded54345   1244  00001411dc427966b17297bf4d69e7e193135d89            0\n",
       "00001411dc427966b17297bf4d69e7e193135d89  9fa07bb4-8312-4cd7-a19a-4fdbc5797148   2641  00001411dc427966b17297bf4d69e7e193135d89            0\n",
       "00001411dc427966b17297bf4d69e7e193135d89  ffb18e19-64a4-4a65-b4ce-979e00c3c69d    622  00001411dc427966b17297bf4d69e7e193135d89            0\n",
       "00001411dc427966b17297bf4d69e7e193135d89  451f9db1-f75f-44f9-b218-f8bdf22035a1   2427  00001411dc427966b17297bf4d69e7e193135d89            0\n",
       "000063d3fe1cf2ba248b9e3c3f0334845a27a6bf  50eec634-7c42-41ee-9b1f-b41d9ca28b26      8  000063d3fe1cf2ba248b9e3c3f0334845a27a6bf            0"
      ]
     },
     "execution_count": 26,
     "metadata": {},
     "output_type": "execute_result"
    }
   ],
   "source": [
    "final_df.head()"
   ]
  },
  {
   "cell_type": "code",
   "execution_count": 54,
   "metadata": {
    "collapsed": false
   },
   "outputs": [
    {
     "name": "stderr",
     "output_type": "stream",
     "text": [
      "0%                          100%\n",
      "[##############################] | ETA: 00:00:00\n",
      "Total time elapsed: 00:36:04\n"
     ]
    }
   ],
   "source": [
    "\"\"\"loop_size = len(medians_df.user_median)\n",
    "mybar = pyprind.ProgBar(loop_size)\n",
    "test = []\n",
    "for k, user in enumerate(list(set(medians_df.user))):\n",
    "    #test.append(medians_df.ix[user].user_median)\n",
    "    if user in final_df.user:\n",
    "        final_df.loc[user, \"user_median\"] = medians_df.ix[user].user_median\n",
    "    mybar.update()\"\"\"\n"
   ]
  },
  {
   "cell_type": "code",
   "execution_count": 55,
   "metadata": {
    "collapsed": false
   },
   "outputs": [],
   "source": [
    "#final_df.to_csv(\"user_medians_validation.csv\", sep='\\t', encoding='utf-8')"
   ]
  },
  {
   "cell_type": "code",
   "execution_count": 58,
   "metadata": {
    "collapsed": false
   },
   "outputs": [],
   "source": [
    "final_df = pd.read_csv(\"user_medians_validation.csv\", sep='\\t', encoding='utf-8')"
   ]
  },
  {
   "cell_type": "code",
   "execution_count": 59,
   "metadata": {
    "collapsed": false
   },
   "outputs": [
    {
     "data": {
      "text/html": [
       "<div>\n",
       "<table border=\"1\" class=\"dataframe\">\n",
       "  <thead>\n",
       "    <tr style=\"text-align: right;\">\n",
       "      <th></th>\n",
       "      <th>Unnamed: 0</th>\n",
       "      <th>artist</th>\n",
       "      <th>plays</th>\n",
       "      <th>user</th>\n",
       "      <th>user_median</th>\n",
       "    </tr>\n",
       "  </thead>\n",
       "  <tbody>\n",
       "    <tr>\n",
       "      <th>0</th>\n",
       "      <td>00001411dc427966b17297bf4d69e7e193135d89</td>\n",
       "      <td>e105c272-b5d7-4135-82ef-d60bded54345</td>\n",
       "      <td>1244</td>\n",
       "      <td>00001411dc427966b17297bf4d69e7e193135d89</td>\n",
       "      <td>854.5</td>\n",
       "    </tr>\n",
       "    <tr>\n",
       "      <th>1</th>\n",
       "      <td>00001411dc427966b17297bf4d69e7e193135d89</td>\n",
       "      <td>9fa07bb4-8312-4cd7-a19a-4fdbc5797148</td>\n",
       "      <td>2641</td>\n",
       "      <td>00001411dc427966b17297bf4d69e7e193135d89</td>\n",
       "      <td>854.5</td>\n",
       "    </tr>\n",
       "    <tr>\n",
       "      <th>2</th>\n",
       "      <td>00001411dc427966b17297bf4d69e7e193135d89</td>\n",
       "      <td>ffb18e19-64a4-4a65-b4ce-979e00c3c69d</td>\n",
       "      <td>622</td>\n",
       "      <td>00001411dc427966b17297bf4d69e7e193135d89</td>\n",
       "      <td>854.5</td>\n",
       "    </tr>\n",
       "    <tr>\n",
       "      <th>3</th>\n",
       "      <td>00001411dc427966b17297bf4d69e7e193135d89</td>\n",
       "      <td>451f9db1-f75f-44f9-b218-f8bdf22035a1</td>\n",
       "      <td>2427</td>\n",
       "      <td>00001411dc427966b17297bf4d69e7e193135d89</td>\n",
       "      <td>854.5</td>\n",
       "    </tr>\n",
       "    <tr>\n",
       "      <th>4</th>\n",
       "      <td>000063d3fe1cf2ba248b9e3c3f0334845a27a6bf</td>\n",
       "      <td>50eec634-7c42-41ee-9b1f-b41d9ca28b26</td>\n",
       "      <td>8</td>\n",
       "      <td>000063d3fe1cf2ba248b9e3c3f0334845a27a6bf</td>\n",
       "      <td>4.0</td>\n",
       "    </tr>\n",
       "  </tbody>\n",
       "</table>\n",
       "</div>"
      ],
      "text/plain": [
       "                                 Unnamed: 0                                artist  plays                                      user  user_median\n",
       "0  00001411dc427966b17297bf4d69e7e193135d89  e105c272-b5d7-4135-82ef-d60bded54345   1244  00001411dc427966b17297bf4d69e7e193135d89        854.5\n",
       "1  00001411dc427966b17297bf4d69e7e193135d89  9fa07bb4-8312-4cd7-a19a-4fdbc5797148   2641  00001411dc427966b17297bf4d69e7e193135d89        854.5\n",
       "2  00001411dc427966b17297bf4d69e7e193135d89  ffb18e19-64a4-4a65-b4ce-979e00c3c69d    622  00001411dc427966b17297bf4d69e7e193135d89        854.5\n",
       "3  00001411dc427966b17297bf4d69e7e193135d89  451f9db1-f75f-44f9-b218-f8bdf22035a1   2427  00001411dc427966b17297bf4d69e7e193135d89        854.5\n",
       "4  000063d3fe1cf2ba248b9e3c3f0334845a27a6bf  50eec634-7c42-41ee-9b1f-b41d9ca28b26      8  000063d3fe1cf2ba248b9e3c3f0334845a27a6bf          4.0"
      ]
     },
     "execution_count": 59,
     "metadata": {},
     "output_type": "execute_result"
    }
   ],
   "source": [
    "final_df.head()"
   ]
  },
  {
   "cell_type": "markdown",
   "metadata": {},
   "source": [
    "### Validation Performance\n",
    "### MAE for User_median: 137"
   ]
  },
  {
   "cell_type": "code",
   "execution_count": 60,
   "metadata": {
    "collapsed": false
   },
   "outputs": [
    {
     "data": {
      "text/plain": [
       "137.26561187249118"
      ]
     },
     "execution_count": 60,
     "metadata": {},
     "output_type": "execute_result"
    }
   ],
   "source": [
    "mean_absolute_error(final_df.plays, final_df.user_median)"
   ]
  },
  {
   "cell_type": "code",
   "execution_count": 62,
   "metadata": {
    "collapsed": false
   },
   "outputs": [],
   "source": [
    "final_df_submit = final_df[[\"user\", \"user_median\"]]"
   ]
  },
  {
   "cell_type": "code",
   "execution_count": 63,
   "metadata": {
    "collapsed": false
   },
   "outputs": [
    {
     "data": {
      "text/html": [
       "<div>\n",
       "<table border=\"1\" class=\"dataframe\">\n",
       "  <thead>\n",
       "    <tr style=\"text-align: right;\">\n",
       "      <th></th>\n",
       "      <th>user</th>\n",
       "      <th>user_median</th>\n",
       "    </tr>\n",
       "  </thead>\n",
       "  <tbody>\n",
       "    <tr>\n",
       "      <th>0</th>\n",
       "      <td>00001411dc427966b17297bf4d69e7e193135d89</td>\n",
       "      <td>854.5</td>\n",
       "    </tr>\n",
       "    <tr>\n",
       "      <th>1</th>\n",
       "      <td>00001411dc427966b17297bf4d69e7e193135d89</td>\n",
       "      <td>854.5</td>\n",
       "    </tr>\n",
       "    <tr>\n",
       "      <th>2</th>\n",
       "      <td>00001411dc427966b17297bf4d69e7e193135d89</td>\n",
       "      <td>854.5</td>\n",
       "    </tr>\n",
       "    <tr>\n",
       "      <th>3</th>\n",
       "      <td>00001411dc427966b17297bf4d69e7e193135d89</td>\n",
       "      <td>854.5</td>\n",
       "    </tr>\n",
       "    <tr>\n",
       "      <th>4</th>\n",
       "      <td>000063d3fe1cf2ba248b9e3c3f0334845a27a6bf</td>\n",
       "      <td>4.0</td>\n",
       "    </tr>\n",
       "  </tbody>\n",
       "</table>\n",
       "</div>"
      ],
      "text/plain": [
       "                                       user  user_median\n",
       "0  00001411dc427966b17297bf4d69e7e193135d89        854.5\n",
       "1  00001411dc427966b17297bf4d69e7e193135d89        854.5\n",
       "2  00001411dc427966b17297bf4d69e7e193135d89        854.5\n",
       "3  00001411dc427966b17297bf4d69e7e193135d89        854.5\n",
       "4  000063d3fe1cf2ba248b9e3c3f0334845a27a6bf          4.0"
      ]
     },
     "execution_count": 63,
     "metadata": {},
     "output_type": "execute_result"
    }
   ],
   "source": [
    "final_df_submit.head()"
   ]
  },
  {
   "cell_type": "markdown",
   "metadata": {
    "collapsed": false
   },
   "source": [
    "### Making the prediction"
   ]
  },
  {
   "cell_type": "code",
   "execution_count": 65,
   "metadata": {
    "collapsed": false
   },
   "outputs": [],
   "source": [
    "test_df = pd.read_csv(test_file, header=0)"
   ]
  },
  {
   "cell_type": "code",
   "execution_count": 66,
   "metadata": {
    "collapsed": false
   },
   "outputs": [
    {
     "data": {
      "text/html": [
       "<div>\n",
       "<table border=\"1\" class=\"dataframe\">\n",
       "  <thead>\n",
       "    <tr style=\"text-align: right;\">\n",
       "      <th></th>\n",
       "      <th>Id</th>\n",
       "      <th>user</th>\n",
       "      <th>artist</th>\n",
       "    </tr>\n",
       "  </thead>\n",
       "  <tbody>\n",
       "    <tr>\n",
       "      <th>0</th>\n",
       "      <td>1</td>\n",
       "      <td>306e19cce2522fa2d39ff5dfc870992100ec22d2</td>\n",
       "      <td>4ac4e32b-bd18-402e-adad-ae00e72f8d85</td>\n",
       "    </tr>\n",
       "    <tr>\n",
       "      <th>1</th>\n",
       "      <td>2</td>\n",
       "      <td>9450d351278df4938bdea4ed86aec940a4e927ac</td>\n",
       "      <td>1f574ab1-a46d-4586-9331-f0ded23e0411</td>\n",
       "    </tr>\n",
       "    <tr>\n",
       "      <th>2</th>\n",
       "      <td>3</td>\n",
       "      <td>801909d6955f59033c88595d3d7f8a6a5dcd53cc</td>\n",
       "      <td>3eb72791-6322-466b-87d3-24d74901eb2d</td>\n",
       "    </tr>\n",
       "    <tr>\n",
       "      <th>3</th>\n",
       "      <td>4</td>\n",
       "      <td>e3ed47445c127fbeff47fb58f6bbf2f3b4535d82</td>\n",
       "      <td>61604b45-8a91-4e33-a1b6-45d7b1fec4e5</td>\n",
       "    </tr>\n",
       "    <tr>\n",
       "      <th>4</th>\n",
       "      <td>5</td>\n",
       "      <td>a73f46652103f3a5f7429159310f6928f79644aa</td>\n",
       "      <td>5dfdca28-9ddc-4853-933c-8bc97d87beec</td>\n",
       "    </tr>\n",
       "  </tbody>\n",
       "</table>\n",
       "</div>"
      ],
      "text/plain": [
       "   Id                                      user                                artist\n",
       "0   1  306e19cce2522fa2d39ff5dfc870992100ec22d2  4ac4e32b-bd18-402e-adad-ae00e72f8d85\n",
       "1   2  9450d351278df4938bdea4ed86aec940a4e927ac  1f574ab1-a46d-4586-9331-f0ded23e0411\n",
       "2   3  801909d6955f59033c88595d3d7f8a6a5dcd53cc  3eb72791-6322-466b-87d3-24d74901eb2d\n",
       "3   4  e3ed47445c127fbeff47fb58f6bbf2f3b4535d82  61604b45-8a91-4e33-a1b6-45d7b1fec4e5\n",
       "4   5  a73f46652103f3a5f7429159310f6928f79644aa  5dfdca28-9ddc-4853-933c-8bc97d87beec"
      ]
     },
     "execution_count": 66,
     "metadata": {},
     "output_type": "execute_result"
    }
   ],
   "source": [
    "test_df.head()"
   ]
  },
  {
   "cell_type": "code",
   "execution_count": null,
   "metadata": {
    "collapsed": false
   },
   "outputs": [],
   "source": [
    "test_df[\"artist\"] = 0\n",
    "test_df.rename(columns={\"artist\": \"plays\"}, inplace=True)\n",
    "test_df.head()"
   ]
  },
  {
   "cell_type": "code",
   "execution_count": null,
   "metadata": {
    "collapsed": false
   },
   "outputs": [
    {
     "name": "stderr",
     "output_type": "stream",
     "text": [
      "0%                          100%\n",
      "[                              ]"
     ]
    }
   ],
   "source": [
    "loop_size = len(medians_df.user_median)\n",
    "mybar = pyprind.ProgBar(loop_size)\n",
    "i = 0\n",
    "for k, user in enumerate(list(set(medians_df.user))):\n",
    "    if user in test_df[\"user\"].values:\n",
    "        i += 1\n",
    "        test_df.loc[user, \"plays\"] = medians_df.ix[user].user_median\n",
    "    mybar.update()"
   ]
  },
  {
   "cell_type": "code",
   "execution_count": 89,
   "metadata": {
    "collapsed": false
   },
   "outputs": [
    {
     "data": {
      "text/plain": [
       "array(['306e19cce2522fa2d39ff5dfc870992100ec22d2',\n",
       "       '9450d351278df4938bdea4ed86aec940a4e927ac',\n",
       "       '801909d6955f59033c88595d3d7f8a6a5dcd53cc', ...,\n",
       "       'f7fefb72eea0fa7976eb2fc5c0f1fe9f5d1149bd',\n",
       "       '6af6ded3c4a0894e65aed78d48f979a0ac3ce1ae',\n",
       "       'de29005de66c93b31a34991b0c72d9f70b9fc313'], dtype=object)"
      ]
     },
     "execution_count": 89,
     "metadata": {},
     "output_type": "execute_result"
    }
   ],
   "source": [
    "#test_df.user.values\n",
    "#medians_df.ix[\"734f7337c7d33e99fa60a6361a5df8e3fb939ecf\"].user_median"
   ]
  },
  {
   "cell_type": "markdown",
   "metadata": {
    "collapsed": false
   },
   "source": [
    "## GraphLab"
   ]
  },
  {
   "cell_type": "code",
   "execution_count": 14,
   "metadata": {
    "collapsed": true
   },
   "outputs": [],
   "source": [
    "gl.canvas.set_target('ipynb')"
   ]
  },
  {
   "cell_type": "code",
   "execution_count": 55,
   "metadata": {
    "collapsed": false
   },
   "outputs": [],
   "source": [
    "# The below will download a 118 MB file.\n",
    "sf = gl.SFrame.read_csv(train_file, header=True, verbose=False, column_type_hints={\"plays\":int})"
   ]
  },
  {
   "cell_type": "code",
   "execution_count": 60,
   "metadata": {
    "collapsed": false
   },
   "outputs": [
    {
     "data": {
      "text/html": [
       "<div style=\"max-height:1000px;max-width:1500px;overflow:auto;\"><table frame=\"box\" rules=\"cols\">\n",
       "    <tr>\n",
       "        <th style=\"padding-left: 1em; padding-right: 1em; text-align: center\">user_id</th>\n",
       "        <th style=\"padding-left: 1em; padding-right: 1em; text-align: center\">item_id</th>\n",
       "        <th style=\"padding-left: 1em; padding-right: 1em; text-align: center\">plays</th>\n",
       "    </tr>\n",
       "    <tr>\n",
       "        <td style=\"padding-left: 1em; padding-right: 1em; text-align: center; vertical-align: top\">eb1c57ddc9e0e2d005169d3a1<br>a96e8dd95e3af03 ...</td>\n",
       "        <td style=\"padding-left: 1em; padding-right: 1em; text-align: center; vertical-align: top\">5a8e07d5-d932-4484-a7f7-e<br>700793a9c94 ...</td>\n",
       "        <td style=\"padding-left: 1em; padding-right: 1em; text-align: center; vertical-align: top\">554</td>\n",
       "    </tr>\n",
       "    <tr>\n",
       "        <td style=\"padding-left: 1em; padding-right: 1em; text-align: center; vertical-align: top\">44ce793a6cd9d20f13f4a576a<br>818ef983314bb5d ...</td>\n",
       "        <td style=\"padding-left: 1em; padding-right: 1em; text-align: center; vertical-align: top\">a3a92047-be1c-<br>4f3e-8960-c4f8570984df ...</td>\n",
       "        <td style=\"padding-left: 1em; padding-right: 1em; text-align: center; vertical-align: top\">81</td>\n",
       "    </tr>\n",
       "    <tr>\n",
       "        <td style=\"padding-left: 1em; padding-right: 1em; text-align: center; vertical-align: top\">da9cf3f557161d54b76f24db6<br>4be9cc76db008e3 ...</td>\n",
       "        <td style=\"padding-left: 1em; padding-right: 1em; text-align: center; vertical-align: top\">eeb1195b-f213-4ce1-b28c-<br>8565211f8e43 ...</td>\n",
       "        <td style=\"padding-left: 1em; padding-right: 1em; text-align: center; vertical-align: top\">708</td>\n",
       "    </tr>\n",
       "    <tr>\n",
       "        <td style=\"padding-left: 1em; padding-right: 1em; text-align: center; vertical-align: top\">8fa49ab25d425edcf05d44bfc<br>1d5aea895287d81 ...</td>\n",
       "        <td style=\"padding-left: 1em; padding-right: 1em; text-align: center; vertical-align: top\">a1419808-65d3-4d40-998c-<br>1a0bac65eabc ...</td>\n",
       "        <td style=\"padding-left: 1em; padding-right: 1em; text-align: center; vertical-align: top\">265</td>\n",
       "    </tr>\n",
       "    <tr>\n",
       "        <td style=\"padding-left: 1em; padding-right: 1em; text-align: center; vertical-align: top\">b85fcaef67d2669cd99b334b5<br>e8c8705263db2cf ...</td>\n",
       "        <td style=\"padding-left: 1em; padding-right: 1em; text-align: center; vertical-align: top\">a3cb23fc-acd3-4ce0-8f36-1<br>e5aa6a18432 ...</td>\n",
       "        <td style=\"padding-left: 1em; padding-right: 1em; text-align: center; vertical-align: top\">220</td>\n",
       "    </tr>\n",
       "    <tr>\n",
       "        <td style=\"padding-left: 1em; padding-right: 1em; text-align: center; vertical-align: top\">feed7a0dc74c5251283a1505a<br>df453a2061d08f7 ...</td>\n",
       "        <td style=\"padding-left: 1em; padding-right: 1em; text-align: center; vertical-align: top\">1cc5adcd-1422-4b5c-a3cd-<br>3ecd4f43f506 ...</td>\n",
       "        <td style=\"padding-left: 1em; padding-right: 1em; text-align: center; vertical-align: top\">2113</td>\n",
       "    </tr>\n",
       "    <tr>\n",
       "        <td style=\"padding-left: 1em; padding-right: 1em; text-align: center; vertical-align: top\">cbb86d88a8d2d0bab8956807c<br>6c45cd0c752324b ...</td>\n",
       "        <td style=\"padding-left: 1em; padding-right: 1em; text-align: center; vertical-align: top\">9c9f1380-2516-4fc9-a3e6-f<br>9f61941d090 ...</td>\n",
       "        <td style=\"padding-left: 1em; padding-right: 1em; text-align: center; vertical-align: top\">127</td>\n",
       "    </tr>\n",
       "    <tr>\n",
       "        <td style=\"padding-left: 1em; padding-right: 1em; text-align: center; vertical-align: top\">5641e1e6f04868a61dc29f722<br>7e34f4640163e9b ...</td>\n",
       "        <td style=\"padding-left: 1em; padding-right: 1em; text-align: center; vertical-align: top\">832a43c7-aa7d-439b-<br>a6b4-4f1afa671c24 ...</td>\n",
       "        <td style=\"padding-left: 1em; padding-right: 1em; text-align: center; vertical-align: top\">305</td>\n",
       "    </tr>\n",
       "    <tr>\n",
       "        <td style=\"padding-left: 1em; padding-right: 1em; text-align: center; vertical-align: top\">9f748976d303db79f61bf570d<br>9549d6335b11b0e ...</td>\n",
       "        <td style=\"padding-left: 1em; padding-right: 1em; text-align: center; vertical-align: top\">2fddb92d-24b2-46a5-bf28-3<br>aed46f4684c ...</td>\n",
       "        <td style=\"padding-left: 1em; padding-right: 1em; text-align: center; vertical-align: top\">705</td>\n",
       "    </tr>\n",
       "    <tr>\n",
       "        <td style=\"padding-left: 1em; padding-right: 1em; text-align: center; vertical-align: top\">056d5d2467dc63c4520963323<br>e2ebf9576b58229 ...</td>\n",
       "        <td style=\"padding-left: 1em; padding-right: 1em; text-align: center; vertical-align: top\">847e8284-8582-4b0e-<br>9c26-b042a4f49e57 ...</td>\n",
       "        <td style=\"padding-left: 1em; padding-right: 1em; text-align: center; vertical-align: top\">7</td>\n",
       "    </tr>\n",
       "</table>\n",
       "[4154804 rows x 3 columns]<br/>Note: Only the head of the SFrame is printed.<br/>You can use print_rows(num_rows=m, num_columns=n) to print more rows and columns.\n",
       "</div>"
      ],
      "text/plain": [
       "Columns:\n",
       "\tuser_id\tstr\n",
       "\titem_id\tstr\n",
       "\tplays\tint\n",
       "\n",
       "Rows: 4154804\n",
       "\n",
       "Data:\n",
       "+-------------------------------+-------------------------------+-------+\n",
       "|            user_id            |            item_id            | plays |\n",
       "+-------------------------------+-------------------------------+-------+\n",
       "| eb1c57ddc9e0e2d005169d3a1a... | 5a8e07d5-d932-4484-a7f7-e7... |  554  |\n",
       "| 44ce793a6cd9d20f13f4a576a8... | a3a92047-be1c-4f3e-8960-c4... |   81  |\n",
       "| da9cf3f557161d54b76f24db64... | eeb1195b-f213-4ce1-b28c-85... |  708  |\n",
       "| 8fa49ab25d425edcf05d44bfc1... | a1419808-65d3-4d40-998c-1a... |  265  |\n",
       "| b85fcaef67d2669cd99b334b5e... | a3cb23fc-acd3-4ce0-8f36-1e... |  220  |\n",
       "| feed7a0dc74c5251283a1505ad... | 1cc5adcd-1422-4b5c-a3cd-3e... |  2113 |\n",
       "| cbb86d88a8d2d0bab8956807c6... | 9c9f1380-2516-4fc9-a3e6-f9... |  127  |\n",
       "| 5641e1e6f04868a61dc29f7227... | 832a43c7-aa7d-439b-a6b4-4f... |  305  |\n",
       "| 9f748976d303db79f61bf570d9... | 2fddb92d-24b2-46a5-bf28-3a... |  705  |\n",
       "| 056d5d2467dc63c4520963323e... | 847e8284-8582-4b0e-9c26-b0... |   7   |\n",
       "+-------------------------------+-------------------------------+-------+\n",
       "[4154804 rows x 3 columns]\n",
       "Note: Only the head of the SFrame is printed.\n",
       "You can use print_rows(num_rows=m, num_columns=n) to print more rows and columns."
      ]
     },
     "execution_count": 60,
     "metadata": {},
     "output_type": "execute_result"
    }
   ],
   "source": [
    "#sf.rename({'user':'user_id', \"artist\": \"item_id\"})\n",
    "sf.rename({\"artist\": \"item_id\"})"
   ]
  },
  {
   "cell_type": "code",
   "execution_count": 71,
   "metadata": {
    "collapsed": false
   },
   "outputs": [
    {
     "data": {
      "text/html": [
       "<div style=\"max-height:1000px;max-width:1500px;overflow:auto;\"><table frame=\"box\" rules=\"cols\">\n",
       "    <tr>\n",
       "        <th style=\"padding-left: 1em; padding-right: 1em; text-align: center\">Id</th>\n",
       "        <th style=\"padding-left: 1em; padding-right: 1em; text-align: center\">user_id</th>\n",
       "        <th style=\"padding-left: 1em; padding-right: 1em; text-align: center\">item_id</th>\n",
       "    </tr>\n",
       "    <tr>\n",
       "        <td style=\"padding-left: 1em; padding-right: 1em; text-align: center; vertical-align: top\">1</td>\n",
       "        <td style=\"padding-left: 1em; padding-right: 1em; text-align: center; vertical-align: top\">306e19cce2522fa2d39ff5dfc<br>870992100ec22d2 ...</td>\n",
       "        <td style=\"padding-left: 1em; padding-right: 1em; text-align: center; vertical-align: top\">4ac4e32b-bd18-402e-adad-<br>ae00e72f8d85 ...</td>\n",
       "    </tr>\n",
       "    <tr>\n",
       "        <td style=\"padding-left: 1em; padding-right: 1em; text-align: center; vertical-align: top\">2</td>\n",
       "        <td style=\"padding-left: 1em; padding-right: 1em; text-align: center; vertical-align: top\">9450d351278df4938bdea4ed8<br>6aec940a4e927ac ...</td>\n",
       "        <td style=\"padding-left: 1em; padding-right: 1em; text-align: center; vertical-align: top\">1f574ab1-a46d-4586-9331-f<br>0ded23e0411 ...</td>\n",
       "    </tr>\n",
       "    <tr>\n",
       "        <td style=\"padding-left: 1em; padding-right: 1em; text-align: center; vertical-align: top\">3</td>\n",
       "        <td style=\"padding-left: 1em; padding-right: 1em; text-align: center; vertical-align: top\">801909d6955f59033c88595d3<br>d7f8a6a5dcd53cc ...</td>\n",
       "        <td style=\"padding-left: 1em; padding-right: 1em; text-align: center; vertical-align: top\">3eb72791-6322-466b-<br>87d3-24d74901eb2d ...</td>\n",
       "    </tr>\n",
       "    <tr>\n",
       "        <td style=\"padding-left: 1em; padding-right: 1em; text-align: center; vertical-align: top\">4</td>\n",
       "        <td style=\"padding-left: 1em; padding-right: 1em; text-align: center; vertical-align: top\">e3ed47445c127fbeff47fb58f<br>6bbf2f3b4535d82 ...</td>\n",
       "        <td style=\"padding-left: 1em; padding-right: 1em; text-align: center; vertical-align: top\">61604b45-8a91-4e33-a1b6-4<br>5d7b1fec4e5 ...</td>\n",
       "    </tr>\n",
       "    <tr>\n",
       "        <td style=\"padding-left: 1em; padding-right: 1em; text-align: center; vertical-align: top\">5</td>\n",
       "        <td style=\"padding-left: 1em; padding-right: 1em; text-align: center; vertical-align: top\">a73f46652103f3a5f74291593<br>10f6928f79644aa ...</td>\n",
       "        <td style=\"padding-left: 1em; padding-right: 1em; text-align: center; vertical-align: top\">5dfdca28-9ddc-4853-933c-<br>8bc97d87beec ...</td>\n",
       "    </tr>\n",
       "    <tr>\n",
       "        <td style=\"padding-left: 1em; padding-right: 1em; text-align: center; vertical-align: top\">6</td>\n",
       "        <td style=\"padding-left: 1em; padding-right: 1em; text-align: center; vertical-align: top\">55f1c89e3a102de38a0bdfcb1<br>fe660b028c5c0af ...</td>\n",
       "        <td style=\"padding-left: 1em; padding-right: 1em; text-align: center; vertical-align: top\">ef58d4c9-0d40-42ba-bfab-<br>9186c1483edd ...</td>\n",
       "    </tr>\n",
       "    <tr>\n",
       "        <td style=\"padding-left: 1em; padding-right: 1em; text-align: center; vertical-align: top\">7</td>\n",
       "        <td style=\"padding-left: 1em; padding-right: 1em; text-align: center; vertical-align: top\">7ad7619f38bf52de421b795f3<br>159949422b5bbee ...</td>\n",
       "        <td style=\"padding-left: 1em; padding-right: 1em; text-align: center; vertical-align: top\">a3cb23fc-acd3-4ce0-8f36-1<br>e5aa6a18432 ...</td>\n",
       "    </tr>\n",
       "    <tr>\n",
       "        <td style=\"padding-left: 1em; padding-right: 1em; text-align: center; vertical-align: top\">8</td>\n",
       "        <td style=\"padding-left: 1em; padding-right: 1em; text-align: center; vertical-align: top\">2a1ab291185cfc6fb99655648<br>1e178666e9731f9 ...</td>\n",
       "        <td style=\"padding-left: 1em; padding-right: 1em; text-align: center; vertical-align: top\">5dfdca28-9ddc-4853-933c-<br>8bc97d87beec ...</td>\n",
       "    </tr>\n",
       "    <tr>\n",
       "        <td style=\"padding-left: 1em; padding-right: 1em; text-align: center; vertical-align: top\">9</td>\n",
       "        <td style=\"padding-left: 1em; padding-right: 1em; text-align: center; vertical-align: top\">3f407fff902ab403f06668f6b<br>e3d10bb9e9a02cd ...</td>\n",
       "        <td style=\"padding-left: 1em; padding-right: 1em; text-align: center; vertical-align: top\">000fc734-b7e1-4a01-92d1-f<br>544261b43f5 ...</td>\n",
       "    </tr>\n",
       "    <tr>\n",
       "        <td style=\"padding-left: 1em; padding-right: 1em; text-align: center; vertical-align: top\">10</td>\n",
       "        <td style=\"padding-left: 1em; padding-right: 1em; text-align: center; vertical-align: top\">2eea5a2b68e6e9e0d9dd6b3c1<br>c0e1e5840fc9ce3 ...</td>\n",
       "        <td style=\"padding-left: 1em; padding-right: 1em; text-align: center; vertical-align: top\">84783313-2a3f-4f17-ab9a-<br>425a5d527879 ...</td>\n",
       "    </tr>\n",
       "</table>\n",
       "[4154804 rows x 3 columns]<br/>Note: Only the head of the SFrame is printed.<br/>You can use print_rows(num_rows=m, num_columns=n) to print more rows and columns.\n",
       "</div>"
      ],
      "text/plain": [
       "Columns:\n",
       "\tId\tint\n",
       "\tuser_id\tstr\n",
       "\titem_id\tstr\n",
       "\n",
       "Rows: 4154804\n",
       "\n",
       "Data:\n",
       "+----+-------------------------------+-------------------------------+\n",
       "| Id |            user_id            |            item_id            |\n",
       "+----+-------------------------------+-------------------------------+\n",
       "| 1  | 306e19cce2522fa2d39ff5dfc8... | 4ac4e32b-bd18-402e-adad-ae... |\n",
       "| 2  | 9450d351278df4938bdea4ed86... | 1f574ab1-a46d-4586-9331-f0... |\n",
       "| 3  | 801909d6955f59033c88595d3d... | 3eb72791-6322-466b-87d3-24... |\n",
       "| 4  | e3ed47445c127fbeff47fb58f6... | 61604b45-8a91-4e33-a1b6-45... |\n",
       "| 5  | a73f46652103f3a5f742915931... | 5dfdca28-9ddc-4853-933c-8b... |\n",
       "| 6  | 55f1c89e3a102de38a0bdfcb1f... | ef58d4c9-0d40-42ba-bfab-91... |\n",
       "| 7  | 7ad7619f38bf52de421b795f31... | a3cb23fc-acd3-4ce0-8f36-1e... |\n",
       "| 8  | 2a1ab291185cfc6fb996556481... | 5dfdca28-9ddc-4853-933c-8b... |\n",
       "| 9  | 3f407fff902ab403f06668f6be... | 000fc734-b7e1-4a01-92d1-f5... |\n",
       "| 10 | 2eea5a2b68e6e9e0d9dd6b3c1c... | 84783313-2a3f-4f17-ab9a-42... |\n",
       "+----+-------------------------------+-------------------------------+\n",
       "[4154804 rows x 3 columns]\n",
       "Note: Only the head of the SFrame is printed.\n",
       "You can use print_rows(num_rows=m, num_columns=n) to print more rows and columns."
      ]
     },
     "execution_count": 71,
     "metadata": {},
     "output_type": "execute_result"
    }
   ],
   "source": [
    "sf_test = gl.SFrame.read_csv(test_file, header=True, verbose=False, column_type_hints={\"plays\":int})\n",
    "sf_test.rename({'user':'user_id', \"artist\": \"item_id\"})"
   ]
  },
  {
   "cell_type": "code",
   "execution_count": 38,
   "metadata": {
    "collapsed": false
   },
   "outputs": [],
   "source": [
    "#http://blog.dato.com/choosing-a-recommender-model"
   ]
  },
  {
   "cell_type": "markdown",
   "metadata": {},
   "source": [
    "#### Item Similarity Models"
   ]
  },
  {
   "cell_type": "code",
   "execution_count": null,
   "metadata": {
    "collapsed": false
   },
   "outputs": [],
   "source": [
    "item_sim_model = gl.item_similarity_recommender.create(train_set, user_id=\"user\", item_id=\"artist\", target=\"plays\")\n",
    "\n",
    "result_ismodel = item_sim_model.predict(sf_test)\n",
    "\n",
    "scaled_result_ismodel = (result_ismodel - result_ismodel.min())/(result_ismodel.max() - result_ismodel.min()) * sf['plays'].max()\n",
    "print scaled_result_ismodel"
   ]
  },
  {
   "cell_type": "code",
   "execution_count": 37,
   "metadata": {
    "collapsed": true
   },
   "outputs": [],
   "source": [
    "\n",
    "with open(\"data/item_sim_results.csv\", 'w') as soln_fh:\n",
    "    soln_csv = csv.writer(soln_fh,\n",
    "                          delimiter=',',\n",
    "                          quotechar='\"',\n",
    "                          quoting=csv.QUOTE_MINIMAL)\n",
    "    soln_csv.writerow(['Id', 'plays'])\n",
    "    loop_size = 4154804\n",
    "    mybar = pyprind.ProgBar(loop_size)\n",
    "    for i in range(4154804):\n",
    "        soln_csv.writerow([i + 1, scaled_result_ismodel[i]])\n",
    "        mybar.update()"
   ]
  },
  {
   "cell_type": "markdown",
   "metadata": {},
   "source": [
    "#### Popularity Model"
   ]
  },
  {
   "cell_type": "code",
   "execution_count": null,
   "metadata": {
    "collapsed": true
   },
   "outputs": [],
   "source": [
    "#Popularity Model\n",
    "popularity_model = gl.popularity_recommender.create(train_set, user_id=\"user_id\", item_id=\"\", target=\"plays\")\n",
    "\n",
    "result_pm = popularity_model.predict(sf_test)\n",
    "\n",
    "scaled_result_pm = (result_pm - result_pm.min())/(result_pm.max() - result_pm.min()) * sf['plays'].max()\n",
    "print scaled_result_pm\n",
    "\n",
    "with open(\"data/popularity_model_results.csv\", 'w') as soln_fh:\n",
    "    soln_csv = csv.writer(soln_fh,\n",
    "                          delimiter=',',\n",
    "                          quotechar='\"',\n",
    "                          quoting=csv.QUOTE_MINIMAL)\n",
    "    soln_csv.writerow(['Id', 'plays'])\n",
    "    loop_size = 4154804\n",
    "    mybar = pyprind.ProgBar(loop_size)\n",
    "    for i in range(4154804):\n",
    "        soln_csv.writerow([i + 1, scaled_result_pm[i]])\n",
    "        mybar.update()"
   ]
  },
  {
   "cell_type": "markdown",
   "metadata": {},
   "source": [
    "#### Factorization Recommender"
   ]
  },
  {
   "cell_type": "code",
   "execution_count": 69,
   "metadata": {
    "collapsed": false
   },
   "outputs": [
    {
     "data": {
      "text/html": [
       "<pre>Recsys training: model = factorization_recommender</pre>"
      ],
      "text/plain": [
       "Recsys training: model = factorization_recommender"
      ]
     },
     "metadata": {},
     "output_type": "display_data"
    },
    {
     "data": {
      "text/html": [
       "<pre>Preparing data set.</pre>"
      ],
      "text/plain": [
       "Preparing data set."
      ]
     },
     "metadata": {},
     "output_type": "display_data"
    },
    {
     "data": {
      "text/html": [
       "<pre>    Data has 4154804 observations with 233286 users and 2000 items.</pre>"
      ],
      "text/plain": [
       "    Data has 4154804 observations with 233286 users and 2000 items."
      ]
     },
     "metadata": {},
     "output_type": "display_data"
    },
    {
     "data": {
      "text/html": [
       "<pre>    Data prepared in: 6.62665s</pre>"
      ],
      "text/plain": [
       "    Data prepared in: 6.62665s"
      ]
     },
     "metadata": {},
     "output_type": "display_data"
    },
    {
     "data": {
      "text/html": [
       "<pre>Training factorization_recommender for recommendations.</pre>"
      ],
      "text/plain": [
       "Training factorization_recommender for recommendations."
      ]
     },
     "metadata": {},
     "output_type": "display_data"
    },
    {
     "data": {
      "text/html": [
       "<pre>+--------------------------------+--------------------------------------------------+----------+</pre>"
      ],
      "text/plain": [
       "+--------------------------------+--------------------------------------------------+----------+"
      ]
     },
     "metadata": {},
     "output_type": "display_data"
    },
    {
     "data": {
      "text/html": [
       "<pre>| Parameter                      | Description                                      | Value    |</pre>"
      ],
      "text/plain": [
       "| Parameter                      | Description                                      | Value    |"
      ]
     },
     "metadata": {},
     "output_type": "display_data"
    },
    {
     "data": {
      "text/html": [
       "<pre>+--------------------------------+--------------------------------------------------+----------+</pre>"
      ],
      "text/plain": [
       "+--------------------------------+--------------------------------------------------+----------+"
      ]
     },
     "metadata": {},
     "output_type": "display_data"
    },
    {
     "data": {
      "text/html": [
       "<pre>| num_factors                    | Factor Dimension                                 | 8        |</pre>"
      ],
      "text/plain": [
       "| num_factors                    | Factor Dimension                                 | 8        |"
      ]
     },
     "metadata": {},
     "output_type": "display_data"
    },
    {
     "data": {
      "text/html": [
       "<pre>| regularization                 | L2 Regularization on Factors                     | 1e-08    |</pre>"
      ],
      "text/plain": [
       "| regularization                 | L2 Regularization on Factors                     | 1e-08    |"
      ]
     },
     "metadata": {},
     "output_type": "display_data"
    },
    {
     "data": {
      "text/html": [
       "<pre>| solver                         | Solver used for training                         | adagrad  |</pre>"
      ],
      "text/plain": [
       "| solver                         | Solver used for training                         | adagrad  |"
      ]
     },
     "metadata": {},
     "output_type": "display_data"
    },
    {
     "data": {
      "text/html": [
       "<pre>| linear_regularization          | L2 Regularization on Linear Coefficients         | 1e-10    |</pre>"
      ],
      "text/plain": [
       "| linear_regularization          | L2 Regularization on Linear Coefficients         | 1e-10    |"
      ]
     },
     "metadata": {},
     "output_type": "display_data"
    },
    {
     "data": {
      "text/html": [
       "<pre>| side_data_factorization        | Assign Factors for Side Data                     | True     |</pre>"
      ],
      "text/plain": [
       "| side_data_factorization        | Assign Factors for Side Data                     | True     |"
      ]
     },
     "metadata": {},
     "output_type": "display_data"
    },
    {
     "data": {
      "text/html": [
       "<pre>| max_iterations                 | Maximum Number of Iterations                     | 50       |</pre>"
      ],
      "text/plain": [
       "| max_iterations                 | Maximum Number of Iterations                     | 50       |"
      ]
     },
     "metadata": {},
     "output_type": "display_data"
    },
    {
     "data": {
      "text/html": [
       "<pre>+--------------------------------+--------------------------------------------------+----------+</pre>"
      ],
      "text/plain": [
       "+--------------------------------+--------------------------------------------------+----------+"
      ]
     },
     "metadata": {},
     "output_type": "display_data"
    },
    {
     "data": {
      "text/html": [
       "<pre>  Optimizing model using SGD; tuning step size.</pre>"
      ],
      "text/plain": [
       "  Optimizing model using SGD; tuning step size."
      ]
     },
     "metadata": {},
     "output_type": "display_data"
    },
    {
     "data": {
      "text/html": [
       "<pre>  Using 519350 / 4154804 points for tuning the step size.</pre>"
      ],
      "text/plain": [
       "  Using 519350 / 4154804 points for tuning the step size."
      ]
     },
     "metadata": {},
     "output_type": "display_data"
    },
    {
     "data": {
      "text/html": [
       "<pre>+---------+-------------------+------------------------------------------+</pre>"
      ],
      "text/plain": [
       "+---------+-------------------+------------------------------------------+"
      ]
     },
     "metadata": {},
     "output_type": "display_data"
    },
    {
     "data": {
      "text/html": [
       "<pre>| Attempt | Initial Step Size | Estimated Objective Value                |</pre>"
      ],
      "text/plain": [
       "| Attempt | Initial Step Size | Estimated Objective Value                |"
      ]
     },
     "metadata": {},
     "output_type": "display_data"
    },
    {
     "data": {
      "text/html": [
       "<pre>+---------+-------------------+------------------------------------------+</pre>"
      ],
      "text/plain": [
       "+---------+-------------------+------------------------------------------+"
      ]
     },
     "metadata": {},
     "output_type": "display_data"
    },
    {
     "data": {
      "text/html": [
       "<pre>| 0       | 8.33333           | No Decrease (2.21905e+06 >= 792118)      |</pre>"
      ],
      "text/plain": [
       "| 0       | 8.33333           | No Decrease (2.21905e+06 >= 792118)      |"
      ]
     },
     "metadata": {},
     "output_type": "display_data"
    },
    {
     "data": {
      "text/html": [
       "<pre>| 1       | 2.08333           | No Decrease (1.22144e+06 >= 792118)      |</pre>"
      ],
      "text/plain": [
       "| 1       | 2.08333           | No Decrease (1.22144e+06 >= 792118)      |"
      ]
     },
     "metadata": {},
     "output_type": "display_data"
    },
    {
     "data": {
      "text/html": [
       "<pre>| 2       | 0.520833          | 762063                                   |</pre>"
      ],
      "text/plain": [
       "| 2       | 0.520833          | 762063                                   |"
      ]
     },
     "metadata": {},
     "output_type": "display_data"
    },
    {
     "data": {
      "text/html": [
       "<pre>| 3       | 0.260417          | 779639                                   |</pre>"
      ],
      "text/plain": [
       "| 3       | 0.260417          | 779639                                   |"
      ]
     },
     "metadata": {},
     "output_type": "display_data"
    },
    {
     "data": {
      "text/html": [
       "<pre>| 4       | 0.130208          | 784502                                   |</pre>"
      ],
      "text/plain": [
       "| 4       | 0.130208          | 784502                                   |"
      ]
     },
     "metadata": {},
     "output_type": "display_data"
    },
    {
     "data": {
      "text/html": [
       "<pre>| 5       | 0.0651042         | 789713                                   |</pre>"
      ],
      "text/plain": [
       "| 5       | 0.0651042         | 789713                                   |"
      ]
     },
     "metadata": {},
     "output_type": "display_data"
    },
    {
     "data": {
      "text/html": [
       "<pre>+---------+-------------------+------------------------------------------+</pre>"
      ],
      "text/plain": [
       "+---------+-------------------+------------------------------------------+"
      ]
     },
     "metadata": {},
     "output_type": "display_data"
    },
    {
     "data": {
      "text/html": [
       "<pre>| Final   | 0.520833          | 762063                                   |</pre>"
      ],
      "text/plain": [
       "| Final   | 0.520833          | 762063                                   |"
      ]
     },
     "metadata": {},
     "output_type": "display_data"
    },
    {
     "data": {
      "text/html": [
       "<pre>+---------+-------------------+------------------------------------------+</pre>"
      ],
      "text/plain": [
       "+---------+-------------------+------------------------------------------+"
      ]
     },
     "metadata": {},
     "output_type": "display_data"
    },
    {
     "data": {
      "text/html": [
       "<pre>Starting Optimization.</pre>"
      ],
      "text/plain": [
       "Starting Optimization."
      ]
     },
     "metadata": {},
     "output_type": "display_data"
    },
    {
     "data": {
      "text/html": [
       "<pre>+---------+--------------+-------------------+-----------------------+-------------+</pre>"
      ],
      "text/plain": [
       "+---------+--------------+-------------------+-----------------------+-------------+"
      ]
     },
     "metadata": {},
     "output_type": "display_data"
    },
    {
     "data": {
      "text/html": [
       "<pre>| Iter.   | Elapsed Time | Approx. Objective | Approx. Training RMSE | Step Size   |</pre>"
      ],
      "text/plain": [
       "| Iter.   | Elapsed Time | Approx. Objective | Approx. Training RMSE | Step Size   |"
      ]
     },
     "metadata": {},
     "output_type": "display_data"
    },
    {
     "data": {
      "text/html": [
       "<pre>+---------+--------------+-------------------+-----------------------+-------------+</pre>"
      ],
      "text/plain": [
       "+---------+--------------+-------------------+-----------------------+-------------+"
      ]
     },
     "metadata": {},
     "output_type": "display_data"
    },
    {
     "data": {
      "text/html": [
       "<pre>| Initial | 74us         | 514227            | 717.096               |             |</pre>"
      ],
      "text/plain": [
       "| Initial | 74us         | 514227            | 717.096               |             |"
      ]
     },
     "metadata": {},
     "output_type": "display_data"
    },
    {
     "data": {
      "text/html": [
       "<pre>+---------+--------------+-------------------+-----------------------+-------------+</pre>"
      ],
      "text/plain": [
       "+---------+--------------+-------------------+-----------------------+-------------+"
      ]
     },
     "metadata": {},
     "output_type": "display_data"
    },
    {
     "data": {
      "text/html": [
       "<pre>| 1       | 1.71s        | 488181            | 698.699               | 0.520833    |</pre>"
      ],
      "text/plain": [
       "| 1       | 1.71s        | 488181            | 698.699               | 0.520833    |"
      ]
     },
     "metadata": {},
     "output_type": "display_data"
    },
    {
     "data": {
      "text/html": [
       "<pre>| 2       | 3.06s        | 464535            | 681.568               | 0.520833    |</pre>"
      ],
      "text/plain": [
       "| 2       | 3.06s        | 464535            | 681.568               | 0.520833    |"
      ]
     },
     "metadata": {},
     "output_type": "display_data"
    },
    {
     "data": {
      "text/html": [
       "<pre>| 3       | 4.47s        | 462695            | 680.216               | 0.520833    |</pre>"
      ],
      "text/plain": [
       "| 3       | 4.47s        | 462695            | 680.216               | 0.520833    |"
      ]
     },
     "metadata": {},
     "output_type": "display_data"
    },
    {
     "data": {
      "text/html": [
       "<pre>| 4       | 5.96s        | 458692            | 677.268               | 0.520833    |</pre>"
      ],
      "text/plain": [
       "| 4       | 5.96s        | 458692            | 677.268               | 0.520833    |"
      ]
     },
     "metadata": {},
     "output_type": "display_data"
    },
    {
     "data": {
      "text/html": [
       "<pre>| 5       | 7.39s        | 448132            | 669.426               | 0.520833    |</pre>"
      ],
      "text/plain": [
       "| 5       | 7.39s        | 448132            | 669.426               | 0.520833    |"
      ]
     },
     "metadata": {},
     "output_type": "display_data"
    },
    {
     "data": {
      "text/html": [
       "<pre>| 6       | 8.90s        | 442821            | 665.448               | 0.520833    |</pre>"
      ],
      "text/plain": [
       "| 6       | 8.90s        | 442821            | 665.448               | 0.520833    |"
      ]
     },
     "metadata": {},
     "output_type": "display_data"
    },
    {
     "data": {
      "text/html": [
       "<pre>| 7       | 10.37s       | 438314            | 662.053               | 0.520833    |</pre>"
      ],
      "text/plain": [
       "| 7       | 10.37s       | 438314            | 662.053               | 0.520833    |"
      ]
     },
     "metadata": {},
     "output_type": "display_data"
    },
    {
     "data": {
      "text/html": [
       "<pre>| 8       | 11.87s       | 435134            | 659.647               | 0.520833    |</pre>"
      ],
      "text/plain": [
       "| 8       | 11.87s       | 435134            | 659.647               | 0.520833    |"
      ]
     },
     "metadata": {},
     "output_type": "display_data"
    },
    {
     "data": {
      "text/html": [
       "<pre>| 9       | 13.34s       | 432649            | 657.761               | 0.520833    |</pre>"
      ],
      "text/plain": [
       "| 9       | 13.34s       | 432649            | 657.761               | 0.520833    |"
      ]
     },
     "metadata": {},
     "output_type": "display_data"
    },
    {
     "data": {
      "text/html": [
       "<pre>| 10      | 14.86s       | 430463            | 656.097               | 0.520833    |</pre>"
      ],
      "text/plain": [
       "| 10      | 14.86s       | 430463            | 656.097               | 0.520833    |"
      ]
     },
     "metadata": {},
     "output_type": "display_data"
    },
    {
     "data": {
      "text/html": [
       "<pre>| 11      | 16.41s       | 428629            | 654.697               | 0.520833    |</pre>"
      ],
      "text/plain": [
       "| 11      | 16.41s       | 428629            | 654.697               | 0.520833    |"
      ]
     },
     "metadata": {},
     "output_type": "display_data"
    },
    {
     "data": {
      "text/html": [
       "<pre>| 12      | 17.93s       | 427036            | 653.48                | 0.520833    |</pre>"
      ],
      "text/plain": [
       "| 12      | 17.93s       | 427036            | 653.48                | 0.520833    |"
      ]
     },
     "metadata": {},
     "output_type": "display_data"
    },
    {
     "data": {
      "text/html": [
       "<pre>| 13      | 19.41s       | 425594            | 652.376               | 0.520833    |</pre>"
      ],
      "text/plain": [
       "| 13      | 19.41s       | 425594            | 652.376               | 0.520833    |"
      ]
     },
     "metadata": {},
     "output_type": "display_data"
    },
    {
     "data": {
      "text/html": [
       "<pre>| 14      | 20.90s       | 424274            | 651.363               | 0.520833    |</pre>"
      ],
      "text/plain": [
       "| 14      | 20.90s       | 424274            | 651.363               | 0.520833    |"
      ]
     },
     "metadata": {},
     "output_type": "display_data"
    },
    {
     "data": {
      "text/html": [
       "<pre>| 15      | 22.36s       | 423121            | 650.478               | 0.520833    |</pre>"
      ],
      "text/plain": [
       "| 15      | 22.36s       | 423121            | 650.478               | 0.520833    |"
      ]
     },
     "metadata": {},
     "output_type": "display_data"
    },
    {
     "data": {
      "text/html": [
       "<pre>| 16      | 23.87s       | 422062            | 649.663               | 0.520833    |</pre>"
      ],
      "text/plain": [
       "| 16      | 23.87s       | 422062            | 649.663               | 0.520833    |"
      ]
     },
     "metadata": {},
     "output_type": "display_data"
    },
    {
     "data": {
      "text/html": [
       "<pre>| 17      | 25.33s       | 421127            | 648.943               | 0.520833    |</pre>"
      ],
      "text/plain": [
       "| 17      | 25.33s       | 421127            | 648.943               | 0.520833    |"
      ]
     },
     "metadata": {},
     "output_type": "display_data"
    },
    {
     "data": {
      "text/html": [
       "<pre>| 18      | 26.87s       | 420213            | 648.238               | 0.520833    |</pre>"
      ],
      "text/plain": [
       "| 18      | 26.87s       | 420213            | 648.238               | 0.520833    |"
      ]
     },
     "metadata": {},
     "output_type": "display_data"
    },
    {
     "data": {
      "text/html": [
       "<pre>| 19      | 28.35s       | 419416            | 647.623               | 0.520833    |</pre>"
      ],
      "text/plain": [
       "| 19      | 28.35s       | 419416            | 647.623               | 0.520833    |"
      ]
     },
     "metadata": {},
     "output_type": "display_data"
    },
    {
     "data": {
      "text/html": [
       "<pre>| 20      | 29.85s       | 418680            | 647.055               | 0.520833    |</pre>"
      ],
      "text/plain": [
       "| 20      | 29.85s       | 418680            | 647.055               | 0.520833    |"
      ]
     },
     "metadata": {},
     "output_type": "display_data"
    },
    {
     "data": {
      "text/html": [
       "<pre>| 21      | 31.32s       | 417979            | 646.513               | 0.520833    |</pre>"
      ],
      "text/plain": [
       "| 21      | 31.32s       | 417979            | 646.513               | 0.520833    |"
      ]
     },
     "metadata": {},
     "output_type": "display_data"
    },
    {
     "data": {
      "text/html": [
       "<pre>| 22      | 32.80s       | 417324            | 646.006               | 0.520833    |</pre>"
      ],
      "text/plain": [
       "| 22      | 32.80s       | 417324            | 646.006               | 0.520833    |"
      ]
     },
     "metadata": {},
     "output_type": "display_data"
    },
    {
     "data": {
      "text/html": [
       "<pre>| 23      | 35.33s       | 416741            | 645.555               | 0.520833    |</pre>"
      ],
      "text/plain": [
       "| 23      | 35.33s       | 416741            | 645.555               | 0.520833    |"
      ]
     },
     "metadata": {},
     "output_type": "display_data"
    },
    {
     "data": {
      "text/html": [
       "<pre>| 24      | 37.59s       | 416127            | 645.079               | 0.520833    |</pre>"
      ],
      "text/plain": [
       "| 24      | 37.59s       | 416127            | 645.079               | 0.520833    |"
      ]
     },
     "metadata": {},
     "output_type": "display_data"
    },
    {
     "data": {
      "text/html": [
       "<pre>| 25      | 39.66s       | 415605            | 644.674               | 0.520833    |</pre>"
      ],
      "text/plain": [
       "| 25      | 39.66s       | 415605            | 644.674               | 0.520833    |"
      ]
     },
     "metadata": {},
     "output_type": "display_data"
    },
    {
     "data": {
      "text/html": [
       "<pre>| 26      | 41.47s       | 415111            | 644.291               | 0.520833    |</pre>"
      ],
      "text/plain": [
       "| 26      | 41.47s       | 415111            | 644.291               | 0.520833    |"
      ]
     },
     "metadata": {},
     "output_type": "display_data"
    },
    {
     "data": {
      "text/html": [
       "<pre>| 27      | 43.04s       | 414641            | 643.926               | 0.520833    |</pre>"
      ],
      "text/plain": [
       "| 27      | 43.04s       | 414641            | 643.926               | 0.520833    |"
      ]
     },
     "metadata": {},
     "output_type": "display_data"
    },
    {
     "data": {
      "text/html": [
       "<pre>| 28      | 44.95s       | 414152            | 643.546               | 0.520833    |</pre>"
      ],
      "text/plain": [
       "| 28      | 44.95s       | 414152            | 643.546               | 0.520833    |"
      ]
     },
     "metadata": {},
     "output_type": "display_data"
    },
    {
     "data": {
      "text/html": [
       "<pre>| 29      | 46.79s       | 413722            | 643.212               | 0.520833    |</pre>"
      ],
      "text/plain": [
       "| 29      | 46.79s       | 413722            | 643.212               | 0.520833    |"
      ]
     },
     "metadata": {},
     "output_type": "display_data"
    },
    {
     "data": {
      "text/html": [
       "<pre>| 30      | 48.50s       | 413327            | 642.905               | 0.520833    |</pre>"
      ],
      "text/plain": [
       "| 30      | 48.50s       | 413327            | 642.905               | 0.520833    |"
      ]
     },
     "metadata": {},
     "output_type": "display_data"
    },
    {
     "data": {
      "text/html": [
       "<pre>| 31      | 49.98s       | 412941            | 642.605               | 0.520833    |</pre>"
      ],
      "text/plain": [
       "| 31      | 49.98s       | 412941            | 642.605               | 0.520833    |"
      ]
     },
     "metadata": {},
     "output_type": "display_data"
    },
    {
     "data": {
      "text/html": [
       "<pre>| 32      | 51.62s       | 412555            | 642.304               | 0.520833    |</pre>"
      ],
      "text/plain": [
       "| 32      | 51.62s       | 412555            | 642.304               | 0.520833    |"
      ]
     },
     "metadata": {},
     "output_type": "display_data"
    },
    {
     "data": {
      "text/html": [
       "<pre>| 33      | 53.59s       | 412176            | 642.009               | 0.520833    |</pre>"
      ],
      "text/plain": [
       "| 33      | 53.59s       | 412176            | 642.009               | 0.520833    |"
      ]
     },
     "metadata": {},
     "output_type": "display_data"
    },
    {
     "data": {
      "text/html": [
       "<pre>| 34      | 55.30s       | 411822            | 641.733               | 0.520833    |</pre>"
      ],
      "text/plain": [
       "| 34      | 55.30s       | 411822            | 641.733               | 0.520833    |"
      ]
     },
     "metadata": {},
     "output_type": "display_data"
    },
    {
     "data": {
      "text/html": [
       "<pre>| 35      | 58.10s       | 411507            | 641.488               | 0.520833    |</pre>"
      ],
      "text/plain": [
       "| 35      | 58.10s       | 411507            | 641.488               | 0.520833    |"
      ]
     },
     "metadata": {},
     "output_type": "display_data"
    },
    {
     "data": {
      "text/html": [
       "<pre>| 36      | 59.98s       | 411178            | 641.231               | 0.520833    |</pre>"
      ],
      "text/plain": [
       "| 36      | 59.98s       | 411178            | 641.231               | 0.520833    |"
      ]
     },
     "metadata": {},
     "output_type": "display_data"
    },
    {
     "data": {
      "text/html": [
       "<pre>| 37      | 1m 1s        | 410853            | 640.978               | 0.520833    |</pre>"
      ],
      "text/plain": [
       "| 37      | 1m 1s        | 410853            | 640.978               | 0.520833    |"
      ]
     },
     "metadata": {},
     "output_type": "display_data"
    },
    {
     "data": {
      "text/html": [
       "<pre>| 38      | 1m 2s        | 410522            | 640.72                | 0.520833    |</pre>"
      ],
      "text/plain": [
       "| 38      | 1m 2s        | 410522            | 640.72                | 0.520833    |"
      ]
     },
     "metadata": {},
     "output_type": "display_data"
    },
    {
     "data": {
      "text/html": [
       "<pre>| 39      | 1m 4s        | 410218            | 640.483               | 0.520833    |</pre>"
      ],
      "text/plain": [
       "| 39      | 1m 4s        | 410218            | 640.483               | 0.520833    |"
      ]
     },
     "metadata": {},
     "output_type": "display_data"
    },
    {
     "data": {
      "text/html": [
       "<pre>| 40      | 1m 5s        | 409962            | 640.283               | 0.520833    |</pre>"
      ],
      "text/plain": [
       "| 40      | 1m 5s        | 409962            | 640.283               | 0.520833    |"
      ]
     },
     "metadata": {},
     "output_type": "display_data"
    },
    {
     "data": {
      "text/html": [
       "<pre>| 41      | 1m 7s        | 409641            | 640.032               | 0.520833    |</pre>"
      ],
      "text/plain": [
       "| 41      | 1m 7s        | 409641            | 640.032               | 0.520833    |"
      ]
     },
     "metadata": {},
     "output_type": "display_data"
    },
    {
     "data": {
      "text/html": [
       "<pre>| 42      | 1m 8s        | 409392            | 639.838               | 0.520833    |</pre>"
      ],
      "text/plain": [
       "| 42      | 1m 8s        | 409392            | 639.838               | 0.520833    |"
      ]
     },
     "metadata": {},
     "output_type": "display_data"
    },
    {
     "data": {
      "text/html": [
       "<pre>| 43      | 1m 10s       | 409092            | 639.603               | 0.520833    |</pre>"
      ],
      "text/plain": [
       "| 43      | 1m 10s       | 409092            | 639.603               | 0.520833    |"
      ]
     },
     "metadata": {},
     "output_type": "display_data"
    },
    {
     "data": {
      "text/html": [
       "<pre>| 44      | 1m 11s       | 408811            | 639.383               | 0.520833    |</pre>"
      ],
      "text/plain": [
       "| 44      | 1m 11s       | 408811            | 639.383               | 0.520833    |"
      ]
     },
     "metadata": {},
     "output_type": "display_data"
    },
    {
     "data": {
      "text/html": [
       "<pre>| 45      | 1m 13s       | 408588            | 639.209               | 0.520833    |</pre>"
      ],
      "text/plain": [
       "| 45      | 1m 13s       | 408588            | 639.209               | 0.520833    |"
      ]
     },
     "metadata": {},
     "output_type": "display_data"
    },
    {
     "data": {
      "text/html": [
       "<pre>| 46      | 1m 14s       | 408306            | 638.988               | 0.520833    |</pre>"
      ],
      "text/plain": [
       "| 46      | 1m 14s       | 408306            | 638.988               | 0.520833    |"
      ]
     },
     "metadata": {},
     "output_type": "display_data"
    },
    {
     "data": {
      "text/html": [
       "<pre>| 47      | 1m 16s       | 408086            | 638.816               | 0.520833    |</pre>"
      ],
      "text/plain": [
       "| 47      | 1m 16s       | 408086            | 638.816               | 0.520833    |"
      ]
     },
     "metadata": {},
     "output_type": "display_data"
    },
    {
     "data": {
      "text/html": [
       "<pre>| 48      | 1m 17s       | 407828            | 638.614               | 0.520833    |</pre>"
      ],
      "text/plain": [
       "| 48      | 1m 17s       | 407828            | 638.614               | 0.520833    |"
      ]
     },
     "metadata": {},
     "output_type": "display_data"
    },
    {
     "data": {
      "text/html": [
       "<pre>| 49      | 1m 19s       | 407608            | 638.442               | 0.520833    |</pre>"
      ],
      "text/plain": [
       "| 49      | 1m 19s       | 407608            | 638.442               | 0.520833    |"
      ]
     },
     "metadata": {},
     "output_type": "display_data"
    },
    {
     "data": {
      "text/html": [
       "<pre>| 50      | 1m 20s       | 407430            | 638.302               | 0.520833    |</pre>"
      ],
      "text/plain": [
       "| 50      | 1m 20s       | 407430            | 638.302               | 0.520833    |"
      ]
     },
     "metadata": {},
     "output_type": "display_data"
    },
    {
     "data": {
      "text/html": [
       "<pre>+---------+--------------+-------------------+-----------------------+-------------+</pre>"
      ],
      "text/plain": [
       "+---------+--------------+-------------------+-----------------------+-------------+"
      ]
     },
     "metadata": {},
     "output_type": "display_data"
    },
    {
     "data": {
      "text/html": [
       "<pre>Optimization Complete: Maximum number of passes through the data reached.</pre>"
      ],
      "text/plain": [
       "Optimization Complete: Maximum number of passes through the data reached."
      ]
     },
     "metadata": {},
     "output_type": "display_data"
    },
    {
     "data": {
      "text/html": [
       "<pre>Computing final objective value and training RMSE.</pre>"
      ],
      "text/plain": [
       "Computing final objective value and training RMSE."
      ]
     },
     "metadata": {},
     "output_type": "display_data"
    },
    {
     "data": {
      "text/html": [
       "<pre>       Final objective value: 406490</pre>"
      ],
      "text/plain": [
       "       Final objective value: 406490"
      ]
     },
     "metadata": {},
     "output_type": "display_data"
    },
    {
     "data": {
      "text/html": [
       "<pre>       Final training RMSE: 637.565</pre>"
      ],
      "text/plain": [
       "       Final training RMSE: 637.565"
      ]
     },
     "metadata": {},
     "output_type": "display_data"
    }
   ],
   "source": [
    "user_info = gl.SFrame.read_csv(profiles_file, header=True, verbose=False).dropna()\n",
    "user_info.rename({\"user\": \"user_id\"})\n",
    "\n",
    "item_info = gl.SFrame.read_csv(artists_file, header=True, verbose=False).dropna()\n",
    "item_info.rename({\"artist\": \"item_id\"})\n",
    "\n",
    "factorization_model = gl.factorization_recommender.create(sf, target='plays', \\\n",
    "        user_data=user_info, \\\n",
    "        item_data=item_info)"
   ]
  },
  {
   "cell_type": "code",
   "execution_count": 72,
   "metadata": {
    "collapsed": false
   },
   "outputs": [
    {
     "name": "stderr",
     "output_type": "stream",
     "text": [
      "0%                          100%\n",
      "[##############################] | ETA: 00:00:00"
     ]
    },
    {
     "name": "stdout",
     "output_type": "stream",
     "text": [
      "[126589.9086052624, 126149.35035344078, 126860.41042363497, 127179.35514811601, 126248.15224840365, 126137.11054576185, 127073.72321182169, 126630.45022026588, 129744.80045072273, 125434.86314587752, 125596.65664816876, 127086.09997808782, 125890.059747164, 126611.75345949495, 126743.90989168786, 126770.33517681311, 126874.08498783663, 129291.66683791726, 126008.32091449168, 126324.1751028491, 125302.60357262075, 126149.35424323128, 125733.72624397627, 130474.46634822941, 126494.22123822037, 127454.49392436605, 126455.12525925816, 126225.3174548953, 125607.45568596211, 126517.42473622785, 126818.30153189495, 126161.4465024317, 125781.80658399346, 131347.85751924713, 126114.4221331824, 127680.90788069298, 125361.68791648406, 125775.86851346258, 127304.20717705789, 127349.34867343778, 126325.37573317853, 125967.9506260165, 127292.8541788464, 127098.96415240053, 129005.76603681965, 129055.98589724903, 127962.53760870126, 126322.35132891864, 126965.34332670047, 126413.52815834564, 126612.5000424089, 126206.99212286368, 126084.5469242417, 131639.6276411297, 125769.97556350977, 126342.80264977182, 128077.19425506551, 126727.31306243016, 128121.94832166101, 126175.06671488396, 125331.32773504742, 127062.03750125498, 125349.20000168766, 126868.1004525004, 125997.05671068089, 130341.96489592604, 125635.81884890512, 126693.62068029612, 124686.23648349177, 128255.36419503039, 126636.07969794418, 126314.90279584375, 127008.93823197355, 130383.55482681667, 127866.38026237683, 125593.38582906802, 125703.19708963347, 127754.43643447549, 127852.64849217558, 125615.75299291221, 125201.92965997565, 125028.74785654884, 125999.34660825715, 126122.43423533256, 127313.64288270347, 125223.04916866188, 125755.96091493424, 126875.30681899047, 124712.64151505176, 125123.99704223851, 125270.7245202668, 126593.59195510758, 126343.96925828111, 124301.84185641409, 127232.0883090192, 125883.85338494649, 127436.52134124402, 127675.24845941653, 127044.2021568584, 125975.7778039523, ... ]\n"
     ]
    },
    {
     "name": "stderr",
     "output_type": "stream",
     "text": [
      "\n",
      "Total time elapsed: 00:13:35\n"
     ]
    }
   ],
   "source": [
    "result_fm = factorization_model.predict(sf_test)\n",
    "\n",
    "scaled_result_fm = (result_fm - result_fm.min())/(result_fm.max() - result_fm.min()) * sf['plays'].max()\n",
    "print scaled_result_fm\n",
    "\n",
    "with open(\"data/factorization_model_results.csv\", 'w') as soln_fh:\n",
    "    soln_csv = csv.writer(soln_fh,\n",
    "                          delimiter=',',\n",
    "                          quotechar='\"',\n",
    "                          quoting=csv.QUOTE_MINIMAL)\n",
    "    soln_csv.writerow(['Id', 'plays'])\n",
    "    loop_size = 4154804\n",
    "    mybar = pyprind.ProgBar(loop_size)\n",
    "    for i in range(4154804):\n",
    "        soln_csv.writerow([i + 1, scaled_result_fm[i]])\n",
    "        mybar.update()"
   ]
  },
  {
   "cell_type": "code",
   "execution_count": 73,
   "metadata": {
    "collapsed": false
   },
   "outputs": [
    {
     "data": {
      "text/plain": [
       "dtype: float\n",
       "Rows: 4154804\n",
       "[238.5622514834668, 169.05476199149925, 281.23970042545506, 331.56005418962434, 184.6428746815276, 167.1236704727044, 314.8943563582103, 244.95855859425325, 736.3139356022425, 56.32911931767012, 81.85550570103541, 316.8470560242131, 128.14612160936994, 242.00874458567304, 262.8592491079762, 267.028403176867, 283.39715548077595, 664.822413878832, 146.8043508250275, 196.63710639701014, 35.46234208594916, 169.05537568916793, 103.4811668953599, 851.4343413462902, 223.46552220490236, 374.96908243947706, 217.2972951074471, 181.04019747988386, 83.55928494666429, 227.126370429318, 274.5961218792954, 170.96318827883405, 111.06686915992145, 989.2304838334235, 163.54408799425764, 410.69072793166606, 44.7841613759943, 110.13001149508375, 351.25813282927174, 358.3801696366687, 196.82653151766462, 140.4350741394253, 349.46695447629884, 318.87665473713423, 619.715445967392, 627.6387033497008, 455.1238426882783, 196.3493670418111, 297.795110809962, 210.7344625135293, 242.12653401268074, 178.14898430124921, 158.83063463609187, 1035.2634626664549, 109.20027256673768, 199.57600044027967, 473.21338160712435, 260.2407442213695, 480.27429307739703, 173.11206818288758, 39.994193231132215, 313.05068551317856, 42.81392565143656, 282.4529669988278, 145.02718168841923, 830.5294025202306, 88.03418070010432, 254.92505012766523, -61.78275273110057, 501.32350138967035, 245.84672913458604, 195.1742015959422, 304.67313978262337, 837.0911038898004, 439.95296412321943, 81.33946401225651, 98.66453965955458, 422.2914303547067, 437.78648359760484, 84.8683626299449, 19.578878556754773, -7.744255971124687, 145.3884620209565, 164.80816851870222, 352.7468172615751, 22.910932881045028, 106.98916192570698, 283.5899254850484, -57.61679409543373, 7.283340824686832, 30.432739559284073, 239.14337872282667, 199.76005789094648, -122.42922885973485, 339.87983849101744, 127.16693519115287, 372.1335229480112, 409.7978331481131, 310.2367783667247, 141.6699789128007, ... ]"
      ]
     },
     "execution_count": 73,
     "metadata": {},
     "output_type": "execute_result"
    }
   ],
   "source": [
    "result_fm"
   ]
  },
  {
   "cell_type": "code",
   "execution_count": 74,
   "metadata": {
    "collapsed": false
   },
   "outputs": [
    {
     "data": {
      "text/html": [
       "<pre>Recsys training: model = factorization_recommender</pre>"
      ],
      "text/plain": [
       "Recsys training: model = factorization_recommender"
      ]
     },
     "metadata": {},
     "output_type": "display_data"
    },
    {
     "data": {
      "text/html": [
       "<pre>Preparing data set.</pre>"
      ],
      "text/plain": [
       "Preparing data set."
      ]
     },
     "metadata": {},
     "output_type": "display_data"
    },
    {
     "data": {
      "text/html": [
       "<pre>    Data has 4154804 observations with 233286 users and 2000 items.</pre>"
      ],
      "text/plain": [
       "    Data has 4154804 observations with 233286 users and 2000 items."
      ]
     },
     "metadata": {},
     "output_type": "display_data"
    },
    {
     "data": {
      "text/html": [
       "<pre>    Data prepared in: 6.72592s</pre>"
      ],
      "text/plain": [
       "    Data prepared in: 6.72592s"
      ]
     },
     "metadata": {},
     "output_type": "display_data"
    },
    {
     "data": {
      "text/html": [
       "<pre>Training factorization_recommender for recommendations.</pre>"
      ],
      "text/plain": [
       "Training factorization_recommender for recommendations."
      ]
     },
     "metadata": {},
     "output_type": "display_data"
    },
    {
     "data": {
      "text/html": [
       "<pre>+------------------------------+--------------------------------------------------+----------+</pre>"
      ],
      "text/plain": [
       "+------------------------------+--------------------------------------------------+----------+"
      ]
     },
     "metadata": {},
     "output_type": "display_data"
    },
    {
     "data": {
      "text/html": [
       "<pre>| Parameter                    | Description                                      | Value    |</pre>"
      ],
      "text/plain": [
       "| Parameter                    | Description                                      | Value    |"
      ]
     },
     "metadata": {},
     "output_type": "display_data"
    },
    {
     "data": {
      "text/html": [
       "<pre>+------------------------------+--------------------------------------------------+----------+</pre>"
      ],
      "text/plain": [
       "+------------------------------+--------------------------------------------------+----------+"
      ]
     },
     "metadata": {},
     "output_type": "display_data"
    },
    {
     "data": {
      "text/html": [
       "<pre>| num_factors                  | Factor Dimension                                 | 8        |</pre>"
      ],
      "text/plain": [
       "| num_factors                  | Factor Dimension                                 | 8        |"
      ]
     },
     "metadata": {},
     "output_type": "display_data"
    },
    {
     "data": {
      "text/html": [
       "<pre>| regularization               | L2 Regularization on Factors                     | 1e-08    |</pre>"
      ],
      "text/plain": [
       "| regularization               | L2 Regularization on Factors                     | 1e-08    |"
      ]
     },
     "metadata": {},
     "output_type": "display_data"
    },
    {
     "data": {
      "text/html": [
       "<pre>| max_iterations               | Maximum Number of Iterations                     | 50       |</pre>"
      ],
      "text/plain": [
       "| max_iterations               | Maximum Number of Iterations                     | 50       |"
      ]
     },
     "metadata": {},
     "output_type": "display_data"
    },
    {
     "data": {
      "text/html": [
       "<pre>| solver                       | Solver used for training                         | als      |</pre>"
      ],
      "text/plain": [
       "| solver                       | Solver used for training                         | als      |"
      ]
     },
     "metadata": {},
     "output_type": "display_data"
    },
    {
     "data": {
      "text/html": [
       "<pre>+------------------------------+--------------------------------------------------+----------+</pre>"
      ],
      "text/plain": [
       "+------------------------------+--------------------------------------------------+----------+"
      ]
     },
     "metadata": {},
     "output_type": "display_data"
    },
    {
     "data": {
      "text/html": [
       "<pre>+---------+--------------+------------------------+</pre>"
      ],
      "text/plain": [
       "+---------+--------------+------------------------+"
      ]
     },
     "metadata": {},
     "output_type": "display_data"
    },
    {
     "data": {
      "text/html": [
       "<pre>| Iter.   | Elapsed time | RMSE                   |</pre>"
      ],
      "text/plain": [
       "| Iter.   | Elapsed time | RMSE                   |"
      ]
     },
     "metadata": {},
     "output_type": "display_data"
    },
    {
     "data": {
      "text/html": [
       "<pre>+---------+--------------+------------------------+</pre>"
      ],
      "text/plain": [
       "+---------+--------------+------------------------+"
      ]
     },
     "metadata": {},
     "output_type": "display_data"
    },
    {
     "data": {
      "text/html": [
       "<pre>| Initial | 66us         | NA                     |</pre>"
      ],
      "text/plain": [
       "| Initial | 66us         | NA                     |"
      ]
     },
     "metadata": {},
     "output_type": "display_data"
    },
    {
     "data": {
      "text/html": [
       "<pre>+---------+--------------+------------------------+</pre>"
      ],
      "text/plain": [
       "+---------+--------------+------------------------+"
      ]
     },
     "metadata": {},
     "output_type": "display_data"
    },
    {
     "data": {
      "text/html": [
       "<pre>| 0       | 1.95s        | 460.273                |</pre>"
      ],
      "text/plain": [
       "| 0       | 1.95s        | 460.273                |"
      ]
     },
     "metadata": {},
     "output_type": "display_data"
    },
    {
     "data": {
      "text/html": [
       "<pre>| 1       | 3.90s        | 304.895                |</pre>"
      ],
      "text/plain": [
       "| 1       | 3.90s        | 304.895                |"
      ]
     },
     "metadata": {},
     "output_type": "display_data"
    },
    {
     "data": {
      "text/html": [
       "<pre>| 2       | 5.84s        | 276.286                |</pre>"
      ],
      "text/plain": [
       "| 2       | 5.84s        | 276.286                |"
      ]
     },
     "metadata": {},
     "output_type": "display_data"
    },
    {
     "data": {
      "text/html": [
       "<pre>| 3       | 7.80s        | 261.652                |</pre>"
      ],
      "text/plain": [
       "| 3       | 7.80s        | 261.652                |"
      ]
     },
     "metadata": {},
     "output_type": "display_data"
    },
    {
     "data": {
      "text/html": [
       "<pre>| 4       | 9.83s        | 252.711                |</pre>"
      ],
      "text/plain": [
       "| 4       | 9.83s        | 252.711                |"
      ]
     },
     "metadata": {},
     "output_type": "display_data"
    },
    {
     "data": {
      "text/html": [
       "<pre>| 5       | 11.90s       | 246.595                |</pre>"
      ],
      "text/plain": [
       "| 5       | 11.90s       | 246.595                |"
      ]
     },
     "metadata": {},
     "output_type": "display_data"
    },
    {
     "data": {
      "text/html": [
       "<pre>| 6       | 13.93s       | 242.066                |</pre>"
      ],
      "text/plain": [
       "| 6       | 13.93s       | 242.066                |"
      ]
     },
     "metadata": {},
     "output_type": "display_data"
    },
    {
     "data": {
      "text/html": [
       "<pre>| 7       | 16.03s       | 238.549                |</pre>"
      ],
      "text/plain": [
       "| 7       | 16.03s       | 238.549                |"
      ]
     },
     "metadata": {},
     "output_type": "display_data"
    },
    {
     "data": {
      "text/html": [
       "<pre>| 8       | 18.06s       | 235.705                |</pre>"
      ],
      "text/plain": [
       "| 8       | 18.06s       | 235.705                |"
      ]
     },
     "metadata": {},
     "output_type": "display_data"
    },
    {
     "data": {
      "text/html": [
       "<pre>| 9       | 20.12s       | 233.313                |</pre>"
      ],
      "text/plain": [
       "| 9       | 20.12s       | 233.313                |"
      ]
     },
     "metadata": {},
     "output_type": "display_data"
    },
    {
     "data": {
      "text/html": [
       "<pre>| 10      | 22.21s       | 231.252                |</pre>"
      ],
      "text/plain": [
       "| 10      | 22.21s       | 231.252                |"
      ]
     },
     "metadata": {},
     "output_type": "display_data"
    },
    {
     "data": {
      "text/html": [
       "<pre>| 11      | 24.50s       | 229.469                |</pre>"
      ],
      "text/plain": [
       "| 11      | 24.50s       | 229.469                |"
      ]
     },
     "metadata": {},
     "output_type": "display_data"
    },
    {
     "data": {
      "text/html": [
       "<pre>| 12      | 26.64s       | 227.907                |</pre>"
      ],
      "text/plain": [
       "| 12      | 26.64s       | 227.907                |"
      ]
     },
     "metadata": {},
     "output_type": "display_data"
    },
    {
     "data": {
      "text/html": [
       "<pre>| 13      | 28.71s       | 226.528                |</pre>"
      ],
      "text/plain": [
       "| 13      | 28.71s       | 226.528                |"
      ]
     },
     "metadata": {},
     "output_type": "display_data"
    },
    {
     "data": {
      "text/html": [
       "<pre>| 14      | 31.37s       | 225.302                |</pre>"
      ],
      "text/plain": [
       "| 14      | 31.37s       | 225.302                |"
      ]
     },
     "metadata": {},
     "output_type": "display_data"
    },
    {
     "data": {
      "text/html": [
       "<pre>| 15      | 34.14s       | 224.202                |</pre>"
      ],
      "text/plain": [
       "| 15      | 34.14s       | 224.202                |"
      ]
     },
     "metadata": {},
     "output_type": "display_data"
    },
    {
     "data": {
      "text/html": [
       "<pre>| 16      | 36.50s       | 223.209                |</pre>"
      ],
      "text/plain": [
       "| 16      | 36.50s       | 223.209                |"
      ]
     },
     "metadata": {},
     "output_type": "display_data"
    },
    {
     "data": {
      "text/html": [
       "<pre>| 17      | 38.60s       | 222.304                |</pre>"
      ],
      "text/plain": [
       "| 17      | 38.60s       | 222.304                |"
      ]
     },
     "metadata": {},
     "output_type": "display_data"
    },
    {
     "data": {
      "text/html": [
       "<pre>| 18      | 40.97s       | 221.476                |</pre>"
      ],
      "text/plain": [
       "| 18      | 40.97s       | 221.476                |"
      ]
     },
     "metadata": {},
     "output_type": "display_data"
    },
    {
     "data": {
      "text/html": [
       "<pre>| 19      | 43.37s       | 220.715                |</pre>"
      ],
      "text/plain": [
       "| 19      | 43.37s       | 220.715                |"
      ]
     },
     "metadata": {},
     "output_type": "display_data"
    },
    {
     "data": {
      "text/html": [
       "<pre>| 20      | 45.64s       | 220.011                |</pre>"
      ],
      "text/plain": [
       "| 20      | 45.64s       | 220.011                |"
      ]
     },
     "metadata": {},
     "output_type": "display_data"
    },
    {
     "data": {
      "text/html": [
       "<pre>| 21      | 48.52s       | 219.355                |</pre>"
      ],
      "text/plain": [
       "| 21      | 48.52s       | 219.355                |"
      ]
     },
     "metadata": {},
     "output_type": "display_data"
    },
    {
     "data": {
      "text/html": [
       "<pre>| 22      | 51.52s       | 218.744                |</pre>"
      ],
      "text/plain": [
       "| 22      | 51.52s       | 218.744                |"
      ]
     },
     "metadata": {},
     "output_type": "display_data"
    },
    {
     "data": {
      "text/html": [
       "<pre>| 23      | 53.84s       | 218.172                |</pre>"
      ],
      "text/plain": [
       "| 23      | 53.84s       | 218.172                |"
      ]
     },
     "metadata": {},
     "output_type": "display_data"
    },
    {
     "data": {
      "text/html": [
       "<pre>| 24      | 56.01s       | 217.635                |</pre>"
      ],
      "text/plain": [
       "| 24      | 56.01s       | 217.635                |"
      ]
     },
     "metadata": {},
     "output_type": "display_data"
    },
    {
     "data": {
      "text/html": [
       "<pre>| 25      | 58.97s       | 217.128                |</pre>"
      ],
      "text/plain": [
       "| 25      | 58.97s       | 217.128                |"
      ]
     },
     "metadata": {},
     "output_type": "display_data"
    },
    {
     "data": {
      "text/html": [
       "<pre>| 26      | 1m 2s        | 216.649                |</pre>"
      ],
      "text/plain": [
       "| 26      | 1m 2s        | 216.649                |"
      ]
     },
     "metadata": {},
     "output_type": "display_data"
    },
    {
     "data": {
      "text/html": [
       "<pre>| 27      | 1m 4s        | 216.195                |</pre>"
      ],
      "text/plain": [
       "| 27      | 1m 4s        | 216.195                |"
      ]
     },
     "metadata": {},
     "output_type": "display_data"
    },
    {
     "data": {
      "text/html": [
       "<pre>| 28      | 1m 6s        | 215.764                |</pre>"
      ],
      "text/plain": [
       "| 28      | 1m 6s        | 215.764                |"
      ]
     },
     "metadata": {},
     "output_type": "display_data"
    },
    {
     "data": {
      "text/html": [
       "<pre>| 29      | 1m 8s        | 215.355                |</pre>"
      ],
      "text/plain": [
       "| 29      | 1m 8s        | 215.355                |"
      ]
     },
     "metadata": {},
     "output_type": "display_data"
    },
    {
     "data": {
      "text/html": [
       "<pre>| 30      | 1m 10s       | 214.966                |</pre>"
      ],
      "text/plain": [
       "| 30      | 1m 10s       | 214.966                |"
      ]
     },
     "metadata": {},
     "output_type": "display_data"
    },
    {
     "data": {
      "text/html": [
       "<pre>| 31      | 1m 12s       | 214.596                |</pre>"
      ],
      "text/plain": [
       "| 31      | 1m 12s       | 214.596                |"
      ]
     },
     "metadata": {},
     "output_type": "display_data"
    },
    {
     "data": {
      "text/html": [
       "<pre>| 32      | 1m 14s       | 214.243                |</pre>"
      ],
      "text/plain": [
       "| 32      | 1m 14s       | 214.243                |"
      ]
     },
     "metadata": {},
     "output_type": "display_data"
    },
    {
     "data": {
      "text/html": [
       "<pre>| 33      | 1m 17s       | 213.906                |</pre>"
      ],
      "text/plain": [
       "| 33      | 1m 17s       | 213.906                |"
      ]
     },
     "metadata": {},
     "output_type": "display_data"
    },
    {
     "data": {
      "text/html": [
       "<pre>| 34      | 1m 19s       | 213.585                |</pre>"
      ],
      "text/plain": [
       "| 34      | 1m 19s       | 213.585                |"
      ]
     },
     "metadata": {},
     "output_type": "display_data"
    },
    {
     "data": {
      "text/html": [
       "<pre>| 35      | 1m 21s       | 213.279                |</pre>"
      ],
      "text/plain": [
       "| 35      | 1m 21s       | 213.279                |"
      ]
     },
     "metadata": {},
     "output_type": "display_data"
    },
    {
     "data": {
      "text/html": [
       "<pre>| 36      | 1m 24s       | 212.987                |</pre>"
      ],
      "text/plain": [
       "| 36      | 1m 24s       | 212.987                |"
      ]
     },
     "metadata": {},
     "output_type": "display_data"
    },
    {
     "data": {
      "text/html": [
       "<pre>| 37      | 1m 26s       | 212.708                |</pre>"
      ],
      "text/plain": [
       "| 37      | 1m 26s       | 212.708                |"
      ]
     },
     "metadata": {},
     "output_type": "display_data"
    },
    {
     "data": {
      "text/html": [
       "<pre>| 38      | 1m 28s       | 212.442                |</pre>"
      ],
      "text/plain": [
       "| 38      | 1m 28s       | 212.442                |"
      ]
     },
     "metadata": {},
     "output_type": "display_data"
    },
    {
     "data": {
      "text/html": [
       "<pre>| 39      | 1m 30s       | 212.187                |</pre>"
      ],
      "text/plain": [
       "| 39      | 1m 30s       | 212.187                |"
      ]
     },
     "metadata": {},
     "output_type": "display_data"
    },
    {
     "data": {
      "text/html": [
       "<pre>| 40      | 1m 32s       | 211.942                |</pre>"
      ],
      "text/plain": [
       "| 40      | 1m 32s       | 211.942                |"
      ]
     },
     "metadata": {},
     "output_type": "display_data"
    },
    {
     "data": {
      "text/html": [
       "<pre>| 41      | 1m 34s       | 211.707                |</pre>"
      ],
      "text/plain": [
       "| 41      | 1m 34s       | 211.707                |"
      ]
     },
     "metadata": {},
     "output_type": "display_data"
    },
    {
     "data": {
      "text/html": [
       "<pre>| 42      | 1m 36s       | 211.481                |</pre>"
      ],
      "text/plain": [
       "| 42      | 1m 36s       | 211.481                |"
      ]
     },
     "metadata": {},
     "output_type": "display_data"
    },
    {
     "data": {
      "text/html": [
       "<pre>| 43      | 1m 38s       | 211.262                |</pre>"
      ],
      "text/plain": [
       "| 43      | 1m 38s       | 211.262                |"
      ]
     },
     "metadata": {},
     "output_type": "display_data"
    },
    {
     "data": {
      "text/html": [
       "<pre>| 44      | 1m 40s       | 211.051                |</pre>"
      ],
      "text/plain": [
       "| 44      | 1m 40s       | 211.051                |"
      ]
     },
     "metadata": {},
     "output_type": "display_data"
    },
    {
     "data": {
      "text/html": [
       "<pre>| 45      | 1m 42s       | 210.847                |</pre>"
      ],
      "text/plain": [
       "| 45      | 1m 42s       | 210.847                |"
      ]
     },
     "metadata": {},
     "output_type": "display_data"
    },
    {
     "data": {
      "text/html": [
       "<pre>| 46      | 1m 44s       | 210.65                 |</pre>"
      ],
      "text/plain": [
       "| 46      | 1m 44s       | 210.65                 |"
      ]
     },
     "metadata": {},
     "output_type": "display_data"
    },
    {
     "data": {
      "text/html": [
       "<pre>| 47      | 1m 47s       | 210.46                 |</pre>"
      ],
      "text/plain": [
       "| 47      | 1m 47s       | 210.46                 |"
      ]
     },
     "metadata": {},
     "output_type": "display_data"
    },
    {
     "data": {
      "text/html": [
       "<pre>| 48      | 1m 49s       | 210.276                |</pre>"
      ],
      "text/plain": [
       "| 48      | 1m 49s       | 210.276                |"
      ]
     },
     "metadata": {},
     "output_type": "display_data"
    },
    {
     "data": {
      "text/html": [
       "<pre>| 49      | 1m 51s       | 210.097                |</pre>"
      ],
      "text/plain": [
       "| 49      | 1m 51s       | 210.097                |"
      ]
     },
     "metadata": {},
     "output_type": "display_data"
    },
    {
     "data": {
      "text/html": [
       "<pre>| FINAL   | 1m 51s       | 210.097                |</pre>"
      ],
      "text/plain": [
       "| FINAL   | 1m 51s       | 210.097                |"
      ]
     },
     "metadata": {},
     "output_type": "display_data"
    },
    {
     "data": {
      "text/html": [
       "<pre>+---------+--------------+------------------------+</pre>"
      ],
      "text/plain": [
       "+---------+--------------+------------------------+"
      ]
     },
     "metadata": {},
     "output_type": "display_data"
    },
    {
     "data": {
      "text/html": [
       "<pre>Optimization Complete: Iteration limit reached.</pre>"
      ],
      "text/plain": [
       "Optimization Complete: Iteration limit reached."
      ]
     },
     "metadata": {},
     "output_type": "display_data"
    },
    {
     "name": "stderr",
     "output_type": "stream",
     "text": [
      "0%                          100%\n",
      "[##############################] | ETA: 00:00:00"
     ]
    },
    {
     "name": "stdout",
     "output_type": "stream",
     "text": [
      "[238610.74922568726, 238971.32364234547, 239000.67325308928, 239049.14187597352, 238938.0717390984, 238986.11719675062, 238975.0791579878, 239115.74242785058, 240008.71945606527, 238969.08956375797, 238936.6838972174, 239012.25881250718, 238939.90615107285, 238871.59027367856, 239008.40998857038, 238893.25522247853, 238858.9214956692, 239047.97964556175, 238956.34769816638, 238953.09674008968, 238918.19577006417, 238594.51482704643, 238943.06511964195, 241260.71105421483, 238959.1120856944, 238987.75135660073, 238983.97654442728, 238922.45926387564, 238952.70221674556, 238466.55695625683, 238962.27583898715, 238931.70414139103, 238934.59769585365, 239879.0395133392, 238945.54365598774, 238276.81095184348, 238896.76504193922, 238890.6875938351, 238887.79957415623, 238998.18829899066, 238906.95031342466, 238950.70245362085, 238876.4419917816, 238934.35783324344, 238992.37013572478, 239077.50567702332, 239037.63006147073, 238972.4472467253, 239215.34009128466, 238929.293489601, 239042.91683913025, 238927.69558145132, 238981.73735244962, 239275.9027751495, 239013.9721000865, 238948.8275631309, 240162.29726811903, 238873.6957829068, 239057.86696187398, 238369.62255824383, 238907.15662115064, 238956.9488300847, 238956.80801455266, 238993.81040453666, 239157.34595921417, 239145.43434621958, 238670.2328451393, 239023.81507631036, 238919.8747794871, 238831.6534169592, 238906.01877181168, 238931.40669724773, 239038.78474182752, 239450.49786327084, 238355.33627161442, 238983.1912439181, 238970.36226936066, 238967.71223302066, 239005.9575271143, 238950.7171086403, 238930.53170686556, 238939.72512696453, 238933.6813450173, 238933.5800498196, 238983.79268544228, 238983.20568772557, 238967.2854406096, 238939.11988620076, 238940.69716769908, 238915.3077462641, 238934.74643441013, 238991.68321156694, 238991.31309350778, 238924.39971043824, 238999.9937625623, 238893.5313764558, 239035.99170777528, 238978.5513672945, 239041.82014418504, 238948.27250220874, ... ]\n"
     ]
    },
    {
     "name": "stderr",
     "output_type": "stream",
     "text": [
      "\n",
      "Total time elapsed: 00:13:20\n"
     ]
    }
   ],
   "source": [
    "#Alternating Least Squares Model\n",
    "als_model = gl.factorization_recommender.create(sf, target='plays', solver = 'als')\n",
    "\n",
    "result_als = als_model.predict(sf_test)\n",
    "\n",
    "scaled_result_als = (result_als - result_als.min())/(result_als.max() - result_als.min()) * sf['plays'].max()\n",
    "print scaled_result_als\n",
    "\n",
    "with open(\"data/popularity_model_results.csv\", 'w') as soln_fh:\n",
    "    soln_csv = csv.writer(soln_fh,\n",
    "                          delimiter=',',\n",
    "                          quotechar='\"',\n",
    "                          quoting=csv.QUOTE_MINIMAL)\n",
    "    soln_csv.writerow(['Id', 'plays'])\n",
    "    loop_size = 4154804\n",
    "    mybar = pyprind.ProgBar(loop_size)\n",
    "    for i in range(4154804):\n",
    "        soln_csv.writerow([i + 1, scaled_result_als[i]])\n",
    "        mybar.update()"
   ]
  },
  {
   "cell_type": "code",
   "execution_count": 75,
   "metadata": {
    "collapsed": false
   },
   "outputs": [
    {
     "data": {
      "text/plain": [
       "dtype: float\n",
       "Rows: 4154804\n",
       "[-1140.0237311242417, 195.0041390539809, 303.67116175905903, 483.1263848425551, 71.88886653200825, 249.77731906191548, 208.9089470984145, 729.7151299597426, 4035.9652825476333, 186.7324563147231, 66.750377762477, 346.5667306067153, 78.68078242556294, -174.25896061642925, 332.3164483191176, -94.0444220422105, -221.165149581273, 478.8232232214614, 139.55566035525044, 127.51897822634419, -1.7019690392808116, -1200.1316412804917, 90.37687312380513, 8671.467968094508, 149.79081355349263, 255.82780085818013, 241.85154734865864, 14.083629715602001, 126.05825434939106, -1673.8960455773667, 161.50461970583638, 48.31281672732075, 59.02621089235981, 3555.8249016882583, 99.55366145388325, -2376.4312018273667, -81.0493048547105, -103.55107487424175, -114.24397648556987, 294.47061167971333, -43.33830631955425, 118.65412532107075, -156.29545963986675, 58.13811885134419, 272.928844559352, 588.143444168727, 440.50385676638325, 199.16428767458638, 1098.4757805945083, 39.387371170680126, 460.0781670691176, 33.471111405055126, 233.56093226687153, 1322.7093011023208, 352.91018306032856, 111.71233760134419, 4604.587597000758, -166.46330631955425, 515.431041824977, -2032.7959479211167, -42.5744513390855, 141.78135310427388, 141.25998317019184, 278.2614441992446, 883.752330887477, 839.649547684352, -919.7854498742417, 389.35383235232075, 4.514568436305126, -322.12529362424175, -46.7873419640855, 47.211528885523876, 444.7790642859145, 1969.1481438757583, -2085.6909674523667, 238.9439698340102, 191.44465266482075, 181.63288508669575, 323.23620234743794, 118.708385574977, 43.97187434450825, 78.01054011599263, 55.63341914431294, 55.25837336794575, 241.17080889956196, 238.997448074977, 180.05268489138325, 75.76963435427388, 81.60952388064106, -12.394885909397999, 59.5769158484145, 270.38550578371724, 269.0151425482436, 21.26813899294575, 301.15534602419575, -93.0219611047105, 434.4378472448989, 221.76481257693013, 456.01765071169575, 109.65722285525044, ... ]"
      ]
     },
     "execution_count": 75,
     "metadata": {},
     "output_type": "execute_result"
    }
   ],
   "source": [
    "result_als"
   ]
  },
  {
   "cell_type": "markdown",
   "metadata": {
    "collapsed": true
   },
   "source": [
    "### Ridge Regression"
   ]
  },
  {
   "cell_type": "code",
   "execution_count": 20,
   "metadata": {
    "collapsed": false
   },
   "outputs": [
    {
     "data": {
      "text/plain": [
       "(235286,)"
      ]
     },
     "execution_count": 20,
     "metadata": {},
     "output_type": "execute_result"
    }
   ],
   "source": [
    "# Design Matrix\n",
    "from sklearn.linear_model import Ridge\n",
    "features=np.concatenate([uuids,uiids])\n",
    "features.shape"
   ]
  },
  {
   "cell_type": "code",
   "execution_count": 19,
   "metadata": {
    "collapsed": true
   },
   "outputs": [],
   "source": [
    "def getmats(indf):\n",
    "    stvals=indf[['user', 'artist', 'plays']].values\n",
    "    designm=np.zeros((stvals.shape[0], features.shape[0]))\n",
    "    ratings=np.zeros(stvals.shape[0])\n",
    "    loop_size = len(stvals)\n",
    "    mybar = pyprind.ProgBar(loop_size)\n",
    "    for i, row in enumerate(stvals):\n",
    "        designm[i,:]=np.concatenate([1*(row[0]==uuids), 1*(row[1]==uiids)])\n",
    "        ratings[i]=row[2]\n",
    "        mybar.update()\n",
    "    return designm, ratings"
   ]
  },
  {
   "cell_type": "code",
   "execution_count": null,
   "metadata": {
    "collapsed": false
   },
   "outputs": [
    {
     "name": "stderr",
     "output_type": "stream",
     "text": [
      "0%                          100%\n",
      "[                              ]"
     ]
    }
   ],
   "source": [
    "#Carrying out the ridge regression\n",
    "designm, ratings = getmats(train_df)"
   ]
  },
  {
   "cell_type": "code",
   "execution_count": null,
   "metadata": {
    "collapsed": true
   },
   "outputs": [],
   "source": [
    "validatedm, validaterats = getmats(validate_df)"
   ]
  },
  {
   "cell_type": "code",
   "execution_count": 122,
   "metadata": {
    "collapsed": false
   },
   "outputs": [
    {
     "name": "stderr",
     "output_type": "stream",
     "text": [
      "0%   100%\n",
      "[#######] | ETA: 00:00:00\n",
      "Total time elapsed: 00:06:58\n"
     ]
    }
   ],
   "source": [
    "#alphas=[0.01, 0.1, 10, 100, 1000]\n",
    "alphas=[7,8,9,10,11,12,13]\n",
    "vdict={}\n",
    "rdict={}\n",
    "loop_size = len(alphas)\n",
    "mybar = pyprind.ProgBar(loop_size)\n",
    "for a in alphas:\n",
    "    regr=Ridge(alpha=a).fit(designm, ratings)\n",
    "    vpreds=regr.predict(validatedm)\n",
    "    mae=mean_absolute_error(validaterats, vpreds)\n",
    "    vdict[a]=mae\n",
    "    rdict[a]=regr\n",
    "    mybar.update()"
   ]
  },
  {
   "cell_type": "code",
   "execution_count": 123,
   "metadata": {
    "collapsed": false
   },
   "outputs": [
    {
     "name": "stdout",
     "output_type": "stream",
     "text": [
      "11\n"
     ]
    }
   ],
   "source": [
    "minerroralpha=min(vdict, key=vdict.get)\n",
    "print minerroralpha\n",
    "regr=rdict[minerroralpha] "
   ]
  },
  {
   "cell_type": "code",
   "execution_count": 124,
   "metadata": {
    "collapsed": false
   },
   "outputs": [
    {
     "data": {
      "text/plain": [
       "(252.07751787456544, 252.7676107730693)"
      ]
     },
     "execution_count": 124,
     "metadata": {},
     "output_type": "execute_result"
    }
   ],
   "source": [
    "regr.intercept_, ybar"
   ]
  },
  {
   "cell_type": "code",
   "execution_count": null,
   "metadata": {
    "collapsed": true
   },
   "outputs": [],
   "source": [
    "testdm, _ = getmats(test_df)"
   ]
  },
  {
   "cell_type": "code",
   "execution_count": 164,
   "metadata": {
    "collapsed": false
   },
   "outputs": [],
   "source": [
    "predictions['baseline_r']=regr.predict(testdm)"
   ]
  },
  {
   "cell_type": "code",
   "execution_count": 242,
   "metadata": {
    "collapsed": true
   },
   "outputs": [],
   "source": [
    "np.savetxt(\"baseline_r.csv\", predictions['baseline_r'], delimiter=\",\")"
   ]
  },
  {
   "cell_type": "code",
   "execution_count": null,
   "metadata": {
    "collapsed": true
   },
   "outputs": [],
   "source": []
  },
  {
   "cell_type": "code",
   "execution_count": null,
   "metadata": {
    "collapsed": true
   },
   "outputs": [],
   "source": []
  },
  {
   "cell_type": "code",
   "execution_count": null,
   "metadata": {
    "collapsed": true
   },
   "outputs": [],
   "source": []
  },
  {
   "cell_type": "code",
   "execution_count": null,
   "metadata": {
    "collapsed": true
   },
   "outputs": [],
   "source": []
  },
  {
   "cell_type": "code",
   "execution_count": null,
   "metadata": {
    "collapsed": true
   },
   "outputs": [],
   "source": []
  }
 ],
 "metadata": {
  "kernelspec": {
   "display_name": "Python 2",
   "language": "python",
   "name": "python2"
  },
  "language_info": {
   "codemirror_mode": {
    "name": "ipython",
    "version": 2
   },
   "file_extension": ".py",
   "mimetype": "text/x-python",
   "name": "python",
   "nbconvert_exporter": "python",
   "pygments_lexer": "ipython2",
   "version": "2.7.11"
  }
 },
 "nbformat": 4,
 "nbformat_minor": 0
}
