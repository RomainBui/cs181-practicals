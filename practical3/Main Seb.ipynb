{
 "cells": [
  {
   "cell_type": "code",
   "execution_count": 2,
   "metadata": {
    "collapsed": true
   },
   "outputs": [],
   "source": [
    "import numpy as np\n",
    "import csv\n",
    "import pandas as pd\n",
    "pd.set_option('display.width', 500)\n",
    "pd.set_option('display.max_columns', 100)\n",
    "pd.set_option('display.notebook_repr_html', True)\n",
    "import matplotlib.pyplot as plt\n",
    "import seaborn as sns\n",
    "sns.set_style(\"whitegrid\")\n",
    "sns.set_context(\"poster\")\n",
    "%matplotlib inline\n",
    "import pyprind"
   ]
  },
  {
   "cell_type": "code",
   "execution_count": 3,
   "metadata": {
    "collapsed": false
   },
   "outputs": [],
   "source": [
    "train_file = 'data/train.csv'\n",
    "test_file  = 'data/test.csv'\n",
    "df = pd.read_csv(train_file, header=0)"
   ]
  },
  {
   "cell_type": "code",
   "execution_count": 4,
   "metadata": {
    "collapsed": false
   },
   "outputs": [],
   "source": [
    "trainlist=[]\n",
    "validatelist=[]\n",
    "take=4\n",
    "i = 0\n",
    "for k, v in df.groupby('user'):\n",
    "    if v.artist.count() > 10:\n",
    "        validatelist.append(v[-take:]) \n",
    "        trainlist.append(v[:-take])\n",
    "    else:\n",
    "        trainlist.append(v)\n",
    "train_df=pd.concat(trainlist)\n",
    "validate_df=pd.concat(validatelist)"
   ]
  },
  {
   "cell_type": "code",
   "execution_count": 5,
   "metadata": {
    "collapsed": false
   },
   "outputs": [
    {
     "name": "stdout",
     "output_type": "stream",
     "text": [
      "(3254976, 3) (899828, 3)\n"
     ]
    }
   ],
   "source": [
    "print train_df.shape, validate_df.shape"
   ]
  },
  {
   "cell_type": "code",
   "execution_count": 6,
   "metadata": {
    "collapsed": false
   },
   "outputs": [],
   "source": [
    "test_df = pd.read_csv(test_file, header=0)"
   ]
  },
  {
   "cell_type": "code",
   "execution_count": 7,
   "metadata": {
    "collapsed": false
   },
   "outputs": [],
   "source": [
    "test_df[\"plays\"] = 0\n",
    "#test_df.head()"
   ]
  },
  {
   "cell_type": "markdown",
   "metadata": {},
   "source": [
    "### Data Distribution"
   ]
  },
  {
   "cell_type": "code",
   "execution_count": 8,
   "metadata": {
    "collapsed": false
   },
   "outputs": [
    {
     "data": {
      "text/plain": [
       "'#your code here\\nartists_user = test_df.groupby(\\'user\\')[\\'artist\\'].count()\\nplt.hist(artists_user, alpha=0.5, bins=np.arange(1,50,1), label=\"artists by user\");\\nplt.xlabel(\\'# artists\\')\\nplt.ylabel(\\'# users\\')\\n#plt.xticks(np.arange(0,90,5))\\nplt.legend()'"
      ]
     },
     "execution_count": 8,
     "metadata": {},
     "output_type": "execute_result"
    }
   ],
   "source": [
    "\"\"\"#your code here\n",
    "artists_user = test_df.groupby('user')['artist'].count()\n",
    "plt.hist(artists_user, alpha=0.5, bins=np.arange(1,50,1), label=\"artists by user\");\n",
    "plt.xlabel('# artists')\n",
    "plt.ylabel('# users')\n",
    "#plt.xticks(np.arange(0,90,5))\n",
    "plt.legend()\"\"\""
   ]
  },
  {
   "cell_type": "code",
   "execution_count": 9,
   "metadata": {
    "collapsed": false
   },
   "outputs": [
    {
     "data": {
      "text/plain": [
       "\"np.mean(df.groupby('user')['artist'].count())\""
      ]
     },
     "execution_count": 9,
     "metadata": {},
     "output_type": "execute_result"
    }
   ],
   "source": [
    "\"\"\"np.mean(df.groupby('user')['artist'].count())\"\"\""
   ]
  },
  {
   "cell_type": "code",
   "execution_count": 10,
   "metadata": {
    "collapsed": false,
    "scrolled": false
   },
   "outputs": [
    {
     "data": {
      "text/plain": [
       "'#your code here\\nusers_artist = df.groupby(\\'artist\\')[\\'user\\'].count()\\nplt.hist(users_artist, alpha=0.5, bins=np.arange(1,35000,1000), label=\"users by artist\");\\nplt.xlabel(\\'# users\\')\\nplt.ylabel(\\'# artists\\')\\nplt.legend()'"
      ]
     },
     "execution_count": 10,
     "metadata": {},
     "output_type": "execute_result"
    }
   ],
   "source": [
    "\"\"\"#your code here\n",
    "users_artist = df.groupby('artist')['user'].count()\n",
    "plt.hist(users_artist, alpha=0.5, bins=np.arange(1,35000,1000), label=\"users by artist\");\n",
    "plt.xlabel('# users')\n",
    "plt.ylabel('# artists')\n",
    "plt.legend()\"\"\""
   ]
  },
  {
   "cell_type": "code",
   "execution_count": 11,
   "metadata": {
    "collapsed": false
   },
   "outputs": [
    {
     "data": {
      "text/plain": [
       "1627.488"
      ]
     },
     "execution_count": 11,
     "metadata": {},
     "output_type": "execute_result"
    }
   ],
   "source": [
    "np.mean(train_df.groupby('artist')['user'].count())"
   ]
  },
  {
   "cell_type": "code",
   "execution_count": 12,
   "metadata": {
    "collapsed": false
   },
   "outputs": [
    {
     "data": {
      "text/plain": [
       "\"pd.DataFrame.to_csv(traindf, 'data/traindf')\\npd.DataFrame.to_csv(validatedf, 'data/validatedf')\""
      ]
     },
     "execution_count": 12,
     "metadata": {},
     "output_type": "execute_result"
    }
   ],
   "source": [
    "\"\"\"pd.DataFrame.to_csv(traindf, 'data/traindf')\n",
    "pd.DataFrame.to_csv(validatedf, 'data/validatedf')\"\"\""
   ]
  },
  {
   "cell_type": "code",
   "execution_count": 13,
   "metadata": {
    "collapsed": false
   },
   "outputs": [
    {
     "data": {
      "text/plain": [
       "253.87795148105548"
      ]
     },
     "execution_count": 13,
     "metadata": {},
     "output_type": "execute_result"
    }
   ],
   "source": [
    "ybar = train_df.plays.mean()\n",
    "ybar"
   ]
  },
  {
   "cell_type": "code",
   "execution_count": 14,
   "metadata": {
    "collapsed": true
   },
   "outputs": [],
   "source": [
    "uuids=train_df.user.unique()#unique-users\n",
    "uiids=train_df.artist.unique()#unique-items\n",
    "uuidmap={v:k for k,v in enumerate(uuids)}#of length U\n",
    "uiidmap={v:k for k,v in enumerate(uiids)}#of length M"
   ]
  },
  {
   "cell_type": "code",
   "execution_count": 15,
   "metadata": {
    "collapsed": false
   },
   "outputs": [
    {
     "name": "stderr",
     "output_type": "stream",
     "text": [
      "0%                          100%\n",
      "[##############################] | ETA: 00:00:00\n",
      "Total time elapsed: 00:03:30\n"
     ]
    }
   ],
   "source": [
    "groupby_user = train_df.groupby('user')\n",
    "user_biases = dict()\n",
    "user_means = dict()\n",
    "user_medians = dict()\n",
    "loop_size = len(uuids)\n",
    "mybar = pyprind.ProgBar(loop_size)\n",
    "for id in uuids:\n",
    "    user_mean = groupby_user.get_group(id).plays.mean()\n",
    "    user_biases[id] = user_mean - ybar\n",
    "    user_means[id] = user_mean\n",
    "    user_medians[id] = groupby_user.get_group(id).plays.median()\n",
    "    mybar.update()"
   ]
  },
  {
   "cell_type": "code",
   "execution_count": 16,
   "metadata": {
    "collapsed": false
   },
   "outputs": [
    {
     "name": "stderr",
     "output_type": "stream",
     "text": [
      "0%                          100%\n",
      "[##############################] | ETA: 00:00:00\n",
      "Total time elapsed: 00:00:02\n"
     ]
    }
   ],
   "source": [
    "groupby_item = train_df.groupby('artist')\n",
    "item_biases = dict()\n",
    "item_means = dict()\n",
    "loop_size = len(uiids)\n",
    "mybar = pyprind.ProgBar(loop_size)\n",
    "for id in uiids:\n",
    "    item_mean = groupby_item.get_group(id).plays.mean()\n",
    "    item_biases[id] = item_mean - ybar\n",
    "    item_means[id]  = item_mean\n",
    "    mybar.update()"
   ]
  },
  {
   "cell_type": "code",
   "execution_count": 17,
   "metadata": {
    "collapsed": true
   },
   "outputs": [],
   "source": [
    "train_avgs={'mean':ybar, 'users':user_biases, 'items':item_biases}"
   ]
  },
  {
   "cell_type": "markdown",
   "metadata": {},
   "source": [
    "### Baseline Model "
   ]
  },
  {
   "cell_type": "code",
   "execution_count": 19,
   "metadata": {
    "collapsed": false
   },
   "outputs": [],
   "source": [
    "predictions={}\n",
    "user_biases_validate = validate_df['user'].apply(lambda x: user_biases[x])\n",
    "item_biases_validate = validate_df['artist'].apply(lambda x: item_biases[x])\n",
    "predictions['baseline'] = (ybar + user_biases_validate + item_biases_validate).values"
   ]
  },
  {
   "cell_type": "code",
   "execution_count": 20,
   "metadata": {
    "collapsed": false
   },
   "outputs": [
    {
     "data": {
      "text/plain": [
       "180.75041329445514"
      ]
     },
     "execution_count": 20,
     "metadata": {},
     "output_type": "execute_result"
    }
   ],
   "source": [
    "from sklearn.metrics import mean_absolute_error\n",
    "mean_absolute_error(validate_df.plays, predictions['baseline'])"
   ]
  },
  {
   "cell_type": "code",
   "execution_count": 21,
   "metadata": {
    "collapsed": false
   },
   "outputs": [
    {
     "data": {
      "text/plain": [
       "162.44725936000501"
      ]
     },
     "execution_count": 21,
     "metadata": {},
     "output_type": "execute_result"
    }
   ],
   "source": [
    "predictions['user_mean'] = validate_df['user'].apply(lambda x: user_means[x])\n",
    "mean_absolute_error(validate_df.plays, predictions['user_mean'])"
   ]
  },
  {
   "cell_type": "code",
   "execution_count": 22,
   "metadata": {
    "collapsed": false
   },
   "outputs": [
    {
     "data": {
      "text/plain": [
       "137.26561187249118"
      ]
     },
     "execution_count": 22,
     "metadata": {},
     "output_type": "execute_result"
    }
   ],
   "source": [
    "predictions['user_median'] = validate_df['user'].apply(lambda x: user_medians[x])\n",
    "mean_absolute_error(validate_df.plays, predictions['user_median'])"
   ]
  },
  {
   "cell_type": "markdown",
   "metadata": {
    "collapsed": true
   },
   "source": [
    "### Ridge Regression"
   ]
  },
  {
   "cell_type": "code",
   "execution_count": 20,
   "metadata": {
    "collapsed": false
   },
   "outputs": [
    {
     "data": {
      "text/plain": [
       "(235286,)"
      ]
     },
     "execution_count": 20,
     "metadata": {},
     "output_type": "execute_result"
    }
   ],
   "source": [
    "# Design Matrix\n",
    "from sklearn.linear_model import Ridge\n",
    "features=np.concatenate([uuids,uiids])\n",
    "features.shape"
   ]
  },
  {
   "cell_type": "code",
   "execution_count": 19,
   "metadata": {
    "collapsed": true
   },
   "outputs": [],
   "source": [
    "def getmats(indf):\n",
    "    stvals=indf[['user', 'artist', 'plays']].values\n",
    "    designm=np.zeros((stvals.shape[0], features.shape[0]))\n",
    "    ratings=np.zeros(stvals.shape[0])\n",
    "    loop_size = len(stvals)\n",
    "    mybar = pyprind.ProgBar(loop_size)\n",
    "    for i, row in enumerate(stvals):\n",
    "        designm[i,:]=np.concatenate([1*(row[0]==uuids), 1*(row[1]==uiids)])\n",
    "        ratings[i]=row[2]\n",
    "        mybar.update()\n",
    "    return designm, ratings"
   ]
  },
  {
   "cell_type": "code",
   "execution_count": null,
   "metadata": {
    "collapsed": false
   },
   "outputs": [
    {
     "name": "stderr",
     "output_type": "stream",
     "text": [
      "0%                          100%\n",
      "[                              ]"
     ]
    }
   ],
   "source": [
    "#Carrying out the ridge regression\n",
    "designm, ratings = getmats(train_df)"
   ]
  },
  {
   "cell_type": "code",
   "execution_count": null,
   "metadata": {
    "collapsed": true
   },
   "outputs": [],
   "source": [
    "validatedm, validaterats = getmats(validate_df)"
   ]
  },
  {
   "cell_type": "code",
   "execution_count": 122,
   "metadata": {
    "collapsed": false
   },
   "outputs": [
    {
     "name": "stderr",
     "output_type": "stream",
     "text": [
      "0%   100%\n",
      "[#######] | ETA: 00:00:00\n",
      "Total time elapsed: 00:06:58\n"
     ]
    }
   ],
   "source": [
    "#alphas=[0.01, 0.1, 10, 100, 1000]\n",
    "alphas=[7,8,9,10,11,12,13]\n",
    "vdict={}\n",
    "rdict={}\n",
    "loop_size = len(alphas)\n",
    "mybar = pyprind.ProgBar(loop_size)\n",
    "for a in alphas:\n",
    "    regr=Ridge(alpha=a).fit(designm, ratings)\n",
    "    vpreds=regr.predict(validatedm)\n",
    "    mae=mean_absolute_error(validaterats, vpreds)\n",
    "    vdict[a]=mae\n",
    "    rdict[a]=regr\n",
    "    mybar.update()"
   ]
  },
  {
   "cell_type": "code",
   "execution_count": 123,
   "metadata": {
    "collapsed": false
   },
   "outputs": [
    {
     "name": "stdout",
     "output_type": "stream",
     "text": [
      "11\n"
     ]
    }
   ],
   "source": [
    "minerroralpha=min(vdict, key=vdict.get)\n",
    "print minerroralpha\n",
    "regr=rdict[minerroralpha] "
   ]
  },
  {
   "cell_type": "code",
   "execution_count": 124,
   "metadata": {
    "collapsed": false
   },
   "outputs": [
    {
     "data": {
      "text/plain": [
       "(252.07751787456544, 252.7676107730693)"
      ]
     },
     "execution_count": 124,
     "metadata": {},
     "output_type": "execute_result"
    }
   ],
   "source": [
    "regr.intercept_, ybar"
   ]
  },
  {
   "cell_type": "code",
   "execution_count": null,
   "metadata": {
    "collapsed": true
   },
   "outputs": [],
   "source": [
    "testdm, _ = getmats(test_df)"
   ]
  },
  {
   "cell_type": "code",
   "execution_count": 164,
   "metadata": {
    "collapsed": false
   },
   "outputs": [],
   "source": [
    "predictions['baseline_r']=regr.predict(testdm)"
   ]
  },
  {
   "cell_type": "code",
   "execution_count": 242,
   "metadata": {
    "collapsed": true
   },
   "outputs": [],
   "source": [
    "np.savetxt(\"baseline_r.csv\", predictions['baseline_r'], delimiter=\",\")"
   ]
  }
 ],
 "metadata": {
  "kernelspec": {
   "display_name": "Python 2",
   "language": "python",
   "name": "python2"
  },
  "language_info": {
   "codemirror_mode": {
    "name": "ipython",
    "version": 2
   },
   "file_extension": ".py",
   "mimetype": "text/x-python",
   "name": "python",
   "nbconvert_exporter": "python",
   "pygments_lexer": "ipython2",
   "version": "2.7.11"
  }
 },
 "nbformat": 4,
 "nbformat_minor": 0
}
