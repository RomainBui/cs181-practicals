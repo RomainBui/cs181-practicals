{
 "cells": [
  {
   "cell_type": "code",
   "execution_count": 2,
   "metadata": {
    "collapsed": false
   },
   "outputs": [],
   "source": [
    "import numpy as np\n",
    "import csv\n",
    "import pandas as pd\n",
    "import pyprind\n",
    "import scipy.sparse as spr\n",
    "import graphlab as gl\n",
    "from sklearn.cluster import KMeans\n",
    "from math import isnan\n",
    "import matplotlib.pyplot as plt\n",
    "import seaborn as sns\n",
    "from sklearn.metrics import mean_absolute_error\n",
    "sns.set_style(\"whitegrid\")\n",
    "sns.set_context(\"poster\")\n",
    "pd.set_option('display.width', 500)\n",
    "pd.set_option('display.max_columns', 100)\n",
    "pd.set_option('display.notebook_repr_html', True)\n",
    "%matplotlib inline"
   ]
  },
  {
   "cell_type": "code",
   "execution_count": 5,
   "metadata": {
    "collapsed": false
   },
   "outputs": [],
   "source": [
    "train_file = 'data/train.csv'\n",
    "test_file  = 'data/test.csv'\n",
    "profiles_file = 'data/profiles.csv'\n",
    "artists_file = 'data/artists.csv'"
   ]
  },
  {
   "cell_type": "markdown",
   "metadata": {},
   "source": [
    "# Experimentation"
   ]
  },
  {
   "cell_type": "markdown",
   "metadata": {},
   "source": [
    "### User Profile Matrix\n",
    "#### Load the User data into a DataFrame"
   ]
  },
  {
   "cell_type": "code",
   "execution_count": 3,
   "metadata": {
    "collapsed": false
   },
   "outputs": [],
   "source": [
    "profiles = pd.read_csv(profiles_file, header=0)\n",
    "user_ids = profiles.user"
   ]
  },
  {
   "cell_type": "code",
   "execution_count": 4,
   "metadata": {
    "collapsed": false
   },
   "outputs": [],
   "source": [
    "profile_data = pd.DataFrame({'sex': profiles.sex.apply(lambda s: -1 if type(s) == float and np.isnan(s) else s).values, \\\n",
    "                                 'age': profiles.age.apply(lambda s: int(s) if not isnan(s) else -1).values, \\\n",
    "                                 'country': profiles.country.values}, \\\n",
    "                                index=user_ids.values)"
   ]
  },
  {
   "cell_type": "code",
   "execution_count": 5,
   "metadata": {
    "collapsed": false
   },
   "outputs": [
    {
     "data": {
      "text/html": [
       "<div>\n",
       "<table border=\"1\" class=\"dataframe\">\n",
       "  <thead>\n",
       "    <tr style=\"text-align: right;\">\n",
       "      <th></th>\n",
       "      <th>age</th>\n",
       "      <th>country</th>\n",
       "      <th>sex</th>\n",
       "    </tr>\n",
       "  </thead>\n",
       "  <tbody>\n",
       "    <tr>\n",
       "      <th>fa40b43298ba3f8aa52e8e8863faf2e2171e0b5d</th>\n",
       "      <td>25</td>\n",
       "      <td>Sweden</td>\n",
       "      <td>f</td>\n",
       "    </tr>\n",
       "    <tr>\n",
       "      <th>5909125332c108365a26ccf0ee62636eee08215c</th>\n",
       "      <td>29</td>\n",
       "      <td>Iceland</td>\n",
       "      <td>m</td>\n",
       "    </tr>\n",
       "    <tr>\n",
       "      <th>d1867cbda35e0d48e9a8390d9f5e079c9d99ea96</th>\n",
       "      <td>30</td>\n",
       "      <td>United States</td>\n",
       "      <td>m</td>\n",
       "    </tr>\n",
       "    <tr>\n",
       "      <th>63268cce0d68127729890c1691f62d5be5abd87c</th>\n",
       "      <td>21</td>\n",
       "      <td>Germany</td>\n",
       "      <td>m</td>\n",
       "    </tr>\n",
       "    <tr>\n",
       "      <th>02871cd952d607ba69b64e2e107773012c708113</th>\n",
       "      <td>24</td>\n",
       "      <td>Netherlands</td>\n",
       "      <td>m</td>\n",
       "    </tr>\n",
       "  </tbody>\n",
       "</table>\n",
       "</div>"
      ],
      "text/plain": [
       "                                          age        country sex\n",
       "fa40b43298ba3f8aa52e8e8863faf2e2171e0b5d   25         Sweden   f\n",
       "5909125332c108365a26ccf0ee62636eee08215c   29        Iceland   m\n",
       "d1867cbda35e0d48e9a8390d9f5e079c9d99ea96   30  United States   m\n",
       "63268cce0d68127729890c1691f62d5be5abd87c   21        Germany   m\n",
       "02871cd952d607ba69b64e2e107773012c708113   24    Netherlands   m"
      ]
     },
     "execution_count": 5,
     "metadata": {},
     "output_type": "execute_result"
    }
   ],
   "source": [
    "profile_data.head()"
   ]
  },
  {
   "cell_type": "code",
   "execution_count": 6,
   "metadata": {
    "collapsed": false
   },
   "outputs": [],
   "source": [
    "columns = list(set(profile_data.sex)) + list(set(profile_data.country)) + [15, 20, 25, 30, 35, 40, 45, 50]"
   ]
  },
  {
   "cell_type": "code",
   "execution_count": 7,
   "metadata": {
    "collapsed": false
   },
   "outputs": [],
   "source": [
    "#This was helpful: http://stackoverflow.com/questions/2272149/round-to-5-or-other-number-in-python\n",
    "def custom_round(x, base=5):\n",
    "    rounded = int(base * round(float(x)/base))\n",
    "    if rounded <15:\n",
    "        return 15\n",
    "    elif rounded > 50:\n",
    "        return 50\n",
    "    else:\n",
    "        return rounded"
   ]
  },
  {
   "cell_type": "markdown",
   "metadata": {},
   "source": [
    "#### Create a Matrix with 1 and 0 with a auser has a certaint characteristic"
   ]
  },
  {
   "cell_type": "code",
   "execution_count": 8,
   "metadata": {
    "collapsed": false
   },
   "outputs": [],
   "source": [
    "# User Profile Matrix\n",
    "profile_matrix = np.zeros((len(profile_data.index.values), len(columns)))\n",
    "loop_size = len(profile_data.index.values)\n",
    "mybar = pyprind.ProgBar(loop_size)\n",
    "\n",
    "for i, user in enumerate(profile_data.index.values):\n",
    "    profile = profile_data.ix[user]\n",
    "\n",
    "    #Sex indices\n",
    "    if profile['sex'] == 'm':\n",
    "        profile_matrix[i, 0] = 1  \n",
    "    elif profile['sex'] == 'f':\n",
    "        profile_matrix[i, 1] = 1\n",
    "        \n",
    "    # Country indices\n",
    "    country = profile['country']\n",
    "    country_col = columns.index(country)\n",
    "    profile_matrix[i, country_col] = 1\n",
    "    \n",
    "    # Age indices\n",
    "    age = custom_round(profile['age'])\n",
    "    profile_matrix[i, columns.index(age)] = 1\n",
    "    \n",
    "    mybar.update()"
   ]
  },
  {
   "cell_type": "code",
   "execution_count": 9,
   "metadata": {
    "collapsed": true
   },
   "outputs": [],
   "source": [
    "user_pos_by_id = {}\n",
    "for i, user_id in enumerate(user_ids):\n",
    "    user_pos_by_id[user_id] = i"
   ]
  },
  {
   "cell_type": "code",
   "execution_count": null,
   "metadata": {
    "collapsed": true
   },
   "outputs": [],
   "source": []
  },
  {
   "cell_type": "code",
   "execution_count": 10,
   "metadata": {
    "collapsed": false
   },
   "outputs": [],
   "source": [
    "train_data = pd.read_csv(train_file, header=0)"
   ]
  },
  {
   "cell_type": "code",
   "execution_count": 11,
   "metadata": {
    "collapsed": false
   },
   "outputs": [],
   "source": [
    "train = pd.DataFrame({'user': train_data.user.values, \\\n",
    "                        'artist': train_data.artist.values, \\\n",
    "                        'plays': train_data.plays.apply(lambda s: int(s) if not isnan(s) else 0).values}, \\\n",
    "                        index=train_data.user.values)"
   ]
  },
  {
   "cell_type": "code",
   "execution_count": 12,
   "metadata": {
    "collapsed": false
   },
   "outputs": [
    {
     "data": {
      "text/html": [
       "<div>\n",
       "<table border=\"1\" class=\"dataframe\">\n",
       "  <thead>\n",
       "    <tr style=\"text-align: right;\">\n",
       "      <th></th>\n",
       "      <th>artist</th>\n",
       "      <th>plays</th>\n",
       "      <th>user</th>\n",
       "    </tr>\n",
       "  </thead>\n",
       "  <tbody>\n",
       "    <tr>\n",
       "      <th>44ce793a6cd9d20f13f4a576a818ef983314bb5d</th>\n",
       "      <td>a3a92047-be1c-4f3e-8960-c4f8570984df</td>\n",
       "      <td>81</td>\n",
       "      <td>44ce793a6cd9d20f13f4a576a818ef983314bb5d</td>\n",
       "    </tr>\n",
       "    <tr>\n",
       "      <th>44ce793a6cd9d20f13f4a576a818ef983314bb5d</th>\n",
       "      <td>5441c29d-3602-4898-b1a1-b77fa23b8e50</td>\n",
       "      <td>70</td>\n",
       "      <td>44ce793a6cd9d20f13f4a576a818ef983314bb5d</td>\n",
       "    </tr>\n",
       "    <tr>\n",
       "      <th>44ce793a6cd9d20f13f4a576a818ef983314bb5d</th>\n",
       "      <td>f4857fb9-e255-4dc6-bd01-e4ca7cc68544</td>\n",
       "      <td>21</td>\n",
       "      <td>44ce793a6cd9d20f13f4a576a818ef983314bb5d</td>\n",
       "    </tr>\n",
       "    <tr>\n",
       "      <th>44ce793a6cd9d20f13f4a576a818ef983314bb5d</th>\n",
       "      <td>6ffb8ea9-2370-44d8-b678-e9237bbd347b</td>\n",
       "      <td>56</td>\n",
       "      <td>44ce793a6cd9d20f13f4a576a818ef983314bb5d</td>\n",
       "    </tr>\n",
       "    <tr>\n",
       "      <th>44ce793a6cd9d20f13f4a576a818ef983314bb5d</th>\n",
       "      <td>63011a8d-0117-4f7e-9991-1ef1f337ff70</td>\n",
       "      <td>13</td>\n",
       "      <td>44ce793a6cd9d20f13f4a576a818ef983314bb5d</td>\n",
       "    </tr>\n",
       "  </tbody>\n",
       "</table>\n",
       "</div>"
      ],
      "text/plain": [
       "                                                                        artist  plays                                      user\n",
       "44ce793a6cd9d20f13f4a576a818ef983314bb5d  a3a92047-be1c-4f3e-8960-c4f8570984df     81  44ce793a6cd9d20f13f4a576a818ef983314bb5d\n",
       "44ce793a6cd9d20f13f4a576a818ef983314bb5d  5441c29d-3602-4898-b1a1-b77fa23b8e50     70  44ce793a6cd9d20f13f4a576a818ef983314bb5d\n",
       "44ce793a6cd9d20f13f4a576a818ef983314bb5d  f4857fb9-e255-4dc6-bd01-e4ca7cc68544     21  44ce793a6cd9d20f13f4a576a818ef983314bb5d\n",
       "44ce793a6cd9d20f13f4a576a818ef983314bb5d  6ffb8ea9-2370-44d8-b678-e9237bbd347b     56  44ce793a6cd9d20f13f4a576a818ef983314bb5d\n",
       "44ce793a6cd9d20f13f4a576a818ef983314bb5d  63011a8d-0117-4f7e-9991-1ef1f337ff70     13  44ce793a6cd9d20f13f4a576a818ef983314bb5d"
      ]
     },
     "execution_count": 12,
     "metadata": {},
     "output_type": "execute_result"
    }
   ],
   "source": [
    "train.ix[\"44ce793a6cd9d20f13f4a576a818ef983314bb5d\"].head()"
   ]
  },
  {
   "cell_type": "markdown",
   "metadata": {
    "collapsed": true
   },
   "source": [
    "### Train/Validate Split"
   ]
  },
  {
   "cell_type": "code",
   "execution_count": 13,
   "metadata": {
    "collapsed": false
   },
   "outputs": [
    {
     "data": {
      "text/html": [
       "<div>\n",
       "<table border=\"1\" class=\"dataframe\">\n",
       "  <thead>\n",
       "    <tr style=\"text-align: right;\">\n",
       "      <th></th>\n",
       "      <th>artist</th>\n",
       "      <th>plays</th>\n",
       "      <th>user</th>\n",
       "    </tr>\n",
       "  </thead>\n",
       "  <tbody>\n",
       "    <tr>\n",
       "      <th>eb1c57ddc9e0e2d005169d3a1a96e8dd95e3af03</th>\n",
       "      <td>5a8e07d5-d932-4484-a7f7-e700793a9c94</td>\n",
       "      <td>554</td>\n",
       "      <td>eb1c57ddc9e0e2d005169d3a1a96e8dd95e3af03</td>\n",
       "    </tr>\n",
       "    <tr>\n",
       "      <th>44ce793a6cd9d20f13f4a576a818ef983314bb5d</th>\n",
       "      <td>a3a92047-be1c-4f3e-8960-c4f8570984df</td>\n",
       "      <td>81</td>\n",
       "      <td>44ce793a6cd9d20f13f4a576a818ef983314bb5d</td>\n",
       "    </tr>\n",
       "    <tr>\n",
       "      <th>da9cf3f557161d54b76f24db64be9cc76db008e3</th>\n",
       "      <td>eeb1195b-f213-4ce1-b28c-8565211f8e43</td>\n",
       "      <td>708</td>\n",
       "      <td>da9cf3f557161d54b76f24db64be9cc76db008e3</td>\n",
       "    </tr>\n",
       "    <tr>\n",
       "      <th>8fa49ab25d425edcf05d44bfc1d5aea895287d81</th>\n",
       "      <td>a1419808-65d3-4d40-998c-1a0bac65eabc</td>\n",
       "      <td>265</td>\n",
       "      <td>8fa49ab25d425edcf05d44bfc1d5aea895287d81</td>\n",
       "    </tr>\n",
       "    <tr>\n",
       "      <th>b85fcaef67d2669cd99b334b5e8c8705263db2cf</th>\n",
       "      <td>a3cb23fc-acd3-4ce0-8f36-1e5aa6a18432</td>\n",
       "      <td>220</td>\n",
       "      <td>b85fcaef67d2669cd99b334b5e8c8705263db2cf</td>\n",
       "    </tr>\n",
       "  </tbody>\n",
       "</table>\n",
       "</div>"
      ],
      "text/plain": [
       "                                                                        artist  plays                                      user\n",
       "eb1c57ddc9e0e2d005169d3a1a96e8dd95e3af03  5a8e07d5-d932-4484-a7f7-e700793a9c94    554  eb1c57ddc9e0e2d005169d3a1a96e8dd95e3af03\n",
       "44ce793a6cd9d20f13f4a576a818ef983314bb5d  a3a92047-be1c-4f3e-8960-c4f8570984df     81  44ce793a6cd9d20f13f4a576a818ef983314bb5d\n",
       "da9cf3f557161d54b76f24db64be9cc76db008e3  eeb1195b-f213-4ce1-b28c-8565211f8e43    708  da9cf3f557161d54b76f24db64be9cc76db008e3\n",
       "8fa49ab25d425edcf05d44bfc1d5aea895287d81  a1419808-65d3-4d40-998c-1a0bac65eabc    265  8fa49ab25d425edcf05d44bfc1d5aea895287d81\n",
       "b85fcaef67d2669cd99b334b5e8c8705263db2cf  a3cb23fc-acd3-4ce0-8f36-1e5aa6a18432    220  b85fcaef67d2669cd99b334b5e8c8705263db2cf"
      ]
     },
     "execution_count": 13,
     "metadata": {},
     "output_type": "execute_result"
    }
   ],
   "source": [
    "train.head()"
   ]
  },
  {
   "cell_type": "code",
   "execution_count": 14,
   "metadata": {
    "collapsed": false
   },
   "outputs": [
    {
     "name": "stderr",
     "output_type": "stream",
     "text": [
      "0%                          100%\n",
      "[##############################] | ETA: 00:00:00\n",
      "Total time elapsed: 00:02:09\n"
     ]
    }
   ],
   "source": [
    "trainlist=[]\n",
    "validatelist=[]\n",
    "take=4\n",
    "i = 0\n",
    "loop_size = len(train.groupby('user'))\n",
    "mybar = pyprind.ProgBar(loop_size)\n",
    "for k, v in train.groupby('user'):\n",
    "    if v.artist.count() > 10:\n",
    "        validatelist.append(v[-take:]) \n",
    "        trainlist.append(v[:-take])\n",
    "    else:\n",
    "        trainlist.append(v)\n",
    "    mybar.update()\n",
    "train_df=pd.concat(trainlist)\n",
    "validate_df=pd.concat(validatelist)"
   ]
  },
  {
   "cell_type": "code",
   "execution_count": 15,
   "metadata": {
    "collapsed": false
   },
   "outputs": [
    {
     "name": "stdout",
     "output_type": "stream",
     "text": [
      "233286\n",
      "224957\n"
     ]
    }
   ],
   "source": [
    "print len(set(train_df.user.values))\n",
    "print len(set(validate_df.user.values))"
   ]
  },
  {
   "cell_type": "code",
   "execution_count": 16,
   "metadata": {
    "collapsed": false
   },
   "outputs": [
    {
     "name": "stdout",
     "output_type": "stream",
     "text": [
      "9764928\n"
     ]
    }
   ],
   "source": [
    "# CALCULATE THE NUMBER OF SONGS WE ARE ESTIMATING IN OUR TRIAN_TEST SAMPLE\n",
    "num_songs_estimating = 0\n",
    "\n",
    "for user, user_data in train_df.iteritems():\n",
    "    for artist, plays in user_data.iteritems():\n",
    "        num_songs_estimating += 1\n",
    "        \n",
    "print num_songs_estimating"
   ]
  },
  {
   "cell_type": "code",
   "execution_count": 17,
   "metadata": {
    "collapsed": true
   },
   "outputs": [],
   "source": [
    "KM = KMeans(n_clusters=20, \\\n",
    "            init='k-means++', \\\n",
    "            n_init=10, \\\n",
    "            max_iter=300, \\\n",
    "            tol=0.0001, \\\n",
    "            precompute_distances='auto', \\\n",
    "            verbose=0, \\\n",
    "            random_state=37)\n",
    "# Calls fit and then predict\n",
    "predict = KM.fit_predict(profile_matrix)"
   ]
  },
  {
   "cell_type": "code",
   "execution_count": 18,
   "metadata": {
    "collapsed": false
   },
   "outputs": [
    {
     "name": "stdout",
     "output_type": "stream",
     "text": [
      "The objective function: -206859.457500\n"
     ]
    }
   ],
   "source": [
    "print \"The objective function: %f\" % KM.score(profile_matrix) "
   ]
  },
  {
   "cell_type": "code",
   "execution_count": 19,
   "metadata": {
    "collapsed": false
   },
   "outputs": [
    {
     "name": "stdout",
     "output_type": "stream",
     "text": [
      "[ 4  4  9 17  9 19  1  7 10]\n"
     ]
    }
   ],
   "source": [
    "# Examine the predicted clusters\n",
    "print predict[1:10]"
   ]
  },
  {
   "cell_type": "markdown",
   "metadata": {},
   "source": [
    "### Global-Median"
   ]
  },
  {
   "cell_type": "code",
   "execution_count": 20,
   "metadata": {
    "collapsed": false
   },
   "outputs": [
    {
     "name": "stdout",
     "output_type": "stream",
     "text": [
      "118.0\n"
     ]
    }
   ],
   "source": [
    "global_median = np.median(np.array(train_df.plays.values))\n",
    "print global_median"
   ]
  },
  {
   "cell_type": "markdown",
   "metadata": {},
   "source": [
    "### User-Medians"
   ]
  },
  {
   "cell_type": "code",
   "execution_count": 21,
   "metadata": {
    "collapsed": false
   },
   "outputs": [
    {
     "name": "stderr",
     "output_type": "stream",
     "text": [
      "0%                          100%\n",
      "[##############################] | ETA: 00:00:00\n",
      "Total time elapsed: 00:01:45\n"
     ]
    }
   ],
   "source": [
    "user_medians = {}\n",
    "\n",
    "uuids = list(set(train_df.user))\n",
    "loop_size = len(uuids)\n",
    "mybar = pyprind.ProgBar(loop_size)\n",
    "for k, user in enumerate(uuids):\n",
    "    user_medians[user] = np.median(np.array(train_df.ix[user].plays.values))\n",
    "    mybar.update()"
   ]
  },
  {
   "cell_type": "code",
   "execution_count": 22,
   "metadata": {
    "collapsed": false
   },
   "outputs": [],
   "source": [
    "medians_df = pd.DataFrame.from_dict(user_medians, orient='index')\n",
    "medians_df.rename(columns={0:\"user_median\"}, inplace=True)\n",
    "medians_df[\"global_median\"] = global_median\n",
    "medians_df[\"user\"] = medians_df.index.values"
   ]
  },
  {
   "cell_type": "code",
   "execution_count": 23,
   "metadata": {
    "collapsed": false
   },
   "outputs": [
    {
     "data": {
      "text/html": [
       "<div>\n",
       "<table border=\"1\" class=\"dataframe\">\n",
       "  <thead>\n",
       "    <tr style=\"text-align: right;\">\n",
       "      <th></th>\n",
       "      <th>user_median</th>\n",
       "      <th>global_median</th>\n",
       "      <th>user</th>\n",
       "    </tr>\n",
       "  </thead>\n",
       "  <tbody>\n",
       "    <tr>\n",
       "      <th>f283c15ed4180e686384dc1de2a5cbf5f95ae269</th>\n",
       "      <td>4.0</td>\n",
       "      <td>118</td>\n",
       "      <td>f283c15ed4180e686384dc1de2a5cbf5f95ae269</td>\n",
       "    </tr>\n",
       "    <tr>\n",
       "      <th>5909125332c108365a26ccf0ee62636eee08215c</th>\n",
       "      <td>415.0</td>\n",
       "      <td>118</td>\n",
       "      <td>5909125332c108365a26ccf0ee62636eee08215c</td>\n",
       "    </tr>\n",
       "    <tr>\n",
       "      <th>0eae120959c04371c23af09abaf71305ab2a1b3c</th>\n",
       "      <td>237.5</td>\n",
       "      <td>118</td>\n",
       "      <td>0eae120959c04371c23af09abaf71305ab2a1b3c</td>\n",
       "    </tr>\n",
       "    <tr>\n",
       "      <th>734f7337c7d33e99fa60a6361a5df8e3fb939ecf</th>\n",
       "      <td>242.0</td>\n",
       "      <td>118</td>\n",
       "      <td>734f7337c7d33e99fa60a6361a5df8e3fb939ecf</td>\n",
       "    </tr>\n",
       "    <tr>\n",
       "      <th>02871cd952d607ba69b64e2e107773012c708113</th>\n",
       "      <td>172.0</td>\n",
       "      <td>118</td>\n",
       "      <td>02871cd952d607ba69b64e2e107773012c708113</td>\n",
       "    </tr>\n",
       "  </tbody>\n",
       "</table>\n",
       "</div>"
      ],
      "text/plain": [
       "                                          user_median  global_median                                      user\n",
       "f283c15ed4180e686384dc1de2a5cbf5f95ae269          4.0            118  f283c15ed4180e686384dc1de2a5cbf5f95ae269\n",
       "5909125332c108365a26ccf0ee62636eee08215c        415.0            118  5909125332c108365a26ccf0ee62636eee08215c\n",
       "0eae120959c04371c23af09abaf71305ab2a1b3c        237.5            118  0eae120959c04371c23af09abaf71305ab2a1b3c\n",
       "734f7337c7d33e99fa60a6361a5df8e3fb939ecf        242.0            118  734f7337c7d33e99fa60a6361a5df8e3fb939ecf\n",
       "02871cd952d607ba69b64e2e107773012c708113        172.0            118  02871cd952d607ba69b64e2e107773012c708113"
      ]
     },
     "execution_count": 23,
     "metadata": {},
     "output_type": "execute_result"
    }
   ],
   "source": [
    "medians_df.head()"
   ]
  },
  {
   "cell_type": "markdown",
   "metadata": {},
   "source": [
    "### Create a Dataframe with actual plays of validation set and the user_medians of the train set"
   ]
  },
  {
   "cell_type": "code",
   "execution_count": 24,
   "metadata": {
    "collapsed": false
   },
   "outputs": [
    {
     "data": {
      "text/html": [
       "<div>\n",
       "<table border=\"1\" class=\"dataframe\">\n",
       "  <thead>\n",
       "    <tr style=\"text-align: right;\">\n",
       "      <th></th>\n",
       "      <th>artist</th>\n",
       "      <th>plays</th>\n",
       "      <th>user</th>\n",
       "    </tr>\n",
       "  </thead>\n",
       "  <tbody>\n",
       "    <tr>\n",
       "      <th>00001411dc427966b17297bf4d69e7e193135d89</th>\n",
       "      <td>e105c272-b5d7-4135-82ef-d60bded54345</td>\n",
       "      <td>1244</td>\n",
       "      <td>00001411dc427966b17297bf4d69e7e193135d89</td>\n",
       "    </tr>\n",
       "    <tr>\n",
       "      <th>00001411dc427966b17297bf4d69e7e193135d89</th>\n",
       "      <td>9fa07bb4-8312-4cd7-a19a-4fdbc5797148</td>\n",
       "      <td>2641</td>\n",
       "      <td>00001411dc427966b17297bf4d69e7e193135d89</td>\n",
       "    </tr>\n",
       "    <tr>\n",
       "      <th>00001411dc427966b17297bf4d69e7e193135d89</th>\n",
       "      <td>ffb18e19-64a4-4a65-b4ce-979e00c3c69d</td>\n",
       "      <td>622</td>\n",
       "      <td>00001411dc427966b17297bf4d69e7e193135d89</td>\n",
       "    </tr>\n",
       "    <tr>\n",
       "      <th>00001411dc427966b17297bf4d69e7e193135d89</th>\n",
       "      <td>451f9db1-f75f-44f9-b218-f8bdf22035a1</td>\n",
       "      <td>2427</td>\n",
       "      <td>00001411dc427966b17297bf4d69e7e193135d89</td>\n",
       "    </tr>\n",
       "    <tr>\n",
       "      <th>000063d3fe1cf2ba248b9e3c3f0334845a27a6bf</th>\n",
       "      <td>50eec634-7c42-41ee-9b1f-b41d9ca28b26</td>\n",
       "      <td>8</td>\n",
       "      <td>000063d3fe1cf2ba248b9e3c3f0334845a27a6bf</td>\n",
       "    </tr>\n",
       "  </tbody>\n",
       "</table>\n",
       "</div>"
      ],
      "text/plain": [
       "                                                                        artist  plays                                      user\n",
       "00001411dc427966b17297bf4d69e7e193135d89  e105c272-b5d7-4135-82ef-d60bded54345   1244  00001411dc427966b17297bf4d69e7e193135d89\n",
       "00001411dc427966b17297bf4d69e7e193135d89  9fa07bb4-8312-4cd7-a19a-4fdbc5797148   2641  00001411dc427966b17297bf4d69e7e193135d89\n",
       "00001411dc427966b17297bf4d69e7e193135d89  ffb18e19-64a4-4a65-b4ce-979e00c3c69d    622  00001411dc427966b17297bf4d69e7e193135d89\n",
       "00001411dc427966b17297bf4d69e7e193135d89  451f9db1-f75f-44f9-b218-f8bdf22035a1   2427  00001411dc427966b17297bf4d69e7e193135d89\n",
       "000063d3fe1cf2ba248b9e3c3f0334845a27a6bf  50eec634-7c42-41ee-9b1f-b41d9ca28b26      8  000063d3fe1cf2ba248b9e3c3f0334845a27a6bf"
      ]
     },
     "execution_count": 24,
     "metadata": {},
     "output_type": "execute_result"
    }
   ],
   "source": [
    "validate_df.head()"
   ]
  },
  {
   "cell_type": "code",
   "execution_count": 25,
   "metadata": {
    "collapsed": false
   },
   "outputs": [],
   "source": [
    "final_df = validate_df\n",
    "final_df[\"user_median\"] = 0"
   ]
  },
  {
   "cell_type": "code",
   "execution_count": 26,
   "metadata": {
    "collapsed": false
   },
   "outputs": [
    {
     "data": {
      "text/html": [
       "<div>\n",
       "<table border=\"1\" class=\"dataframe\">\n",
       "  <thead>\n",
       "    <tr style=\"text-align: right;\">\n",
       "      <th></th>\n",
       "      <th>artist</th>\n",
       "      <th>plays</th>\n",
       "      <th>user</th>\n",
       "      <th>user_median</th>\n",
       "    </tr>\n",
       "  </thead>\n",
       "  <tbody>\n",
       "    <tr>\n",
       "      <th>00001411dc427966b17297bf4d69e7e193135d89</th>\n",
       "      <td>e105c272-b5d7-4135-82ef-d60bded54345</td>\n",
       "      <td>1244</td>\n",
       "      <td>00001411dc427966b17297bf4d69e7e193135d89</td>\n",
       "      <td>0</td>\n",
       "    </tr>\n",
       "    <tr>\n",
       "      <th>00001411dc427966b17297bf4d69e7e193135d89</th>\n",
       "      <td>9fa07bb4-8312-4cd7-a19a-4fdbc5797148</td>\n",
       "      <td>2641</td>\n",
       "      <td>00001411dc427966b17297bf4d69e7e193135d89</td>\n",
       "      <td>0</td>\n",
       "    </tr>\n",
       "    <tr>\n",
       "      <th>00001411dc427966b17297bf4d69e7e193135d89</th>\n",
       "      <td>ffb18e19-64a4-4a65-b4ce-979e00c3c69d</td>\n",
       "      <td>622</td>\n",
       "      <td>00001411dc427966b17297bf4d69e7e193135d89</td>\n",
       "      <td>0</td>\n",
       "    </tr>\n",
       "    <tr>\n",
       "      <th>00001411dc427966b17297bf4d69e7e193135d89</th>\n",
       "      <td>451f9db1-f75f-44f9-b218-f8bdf22035a1</td>\n",
       "      <td>2427</td>\n",
       "      <td>00001411dc427966b17297bf4d69e7e193135d89</td>\n",
       "      <td>0</td>\n",
       "    </tr>\n",
       "    <tr>\n",
       "      <th>000063d3fe1cf2ba248b9e3c3f0334845a27a6bf</th>\n",
       "      <td>50eec634-7c42-41ee-9b1f-b41d9ca28b26</td>\n",
       "      <td>8</td>\n",
       "      <td>000063d3fe1cf2ba248b9e3c3f0334845a27a6bf</td>\n",
       "      <td>0</td>\n",
       "    </tr>\n",
       "  </tbody>\n",
       "</table>\n",
       "</div>"
      ],
      "text/plain": [
       "                                                                        artist  plays                                      user  user_median\n",
       "00001411dc427966b17297bf4d69e7e193135d89  e105c272-b5d7-4135-82ef-d60bded54345   1244  00001411dc427966b17297bf4d69e7e193135d89            0\n",
       "00001411dc427966b17297bf4d69e7e193135d89  9fa07bb4-8312-4cd7-a19a-4fdbc5797148   2641  00001411dc427966b17297bf4d69e7e193135d89            0\n",
       "00001411dc427966b17297bf4d69e7e193135d89  ffb18e19-64a4-4a65-b4ce-979e00c3c69d    622  00001411dc427966b17297bf4d69e7e193135d89            0\n",
       "00001411dc427966b17297bf4d69e7e193135d89  451f9db1-f75f-44f9-b218-f8bdf22035a1   2427  00001411dc427966b17297bf4d69e7e193135d89            0\n",
       "000063d3fe1cf2ba248b9e3c3f0334845a27a6bf  50eec634-7c42-41ee-9b1f-b41d9ca28b26      8  000063d3fe1cf2ba248b9e3c3f0334845a27a6bf            0"
      ]
     },
     "execution_count": 26,
     "metadata": {},
     "output_type": "execute_result"
    }
   ],
   "source": [
    "final_df.head()"
   ]
  },
  {
   "cell_type": "code",
   "execution_count": 54,
   "metadata": {
    "collapsed": false
   },
   "outputs": [
    {
     "name": "stderr",
     "output_type": "stream",
     "text": [
      "0%                          100%\n",
      "[##############################] | ETA: 00:00:00\n",
      "Total time elapsed: 00:36:04\n"
     ]
    }
   ],
   "source": [
    "\"\"\"loop_size = len(medians_df.user_median)\n",
    "mybar = pyprind.ProgBar(loop_size)\n",
    "test = []\n",
    "for k, user in enumerate(list(set(medians_df.user))):\n",
    "    #test.append(medians_df.ix[user].user_median)\n",
    "    if user in final_df.user:\n",
    "        final_df.loc[user, \"user_median\"] = medians_df.ix[user].user_median\n",
    "    mybar.update()\"\"\"\n"
   ]
  },
  {
   "cell_type": "code",
   "execution_count": 55,
   "metadata": {
    "collapsed": false
   },
   "outputs": [],
   "source": [
    "#final_df.to_csv(\"user_medians_validation.csv\", sep='\\t', encoding='utf-8')"
   ]
  },
  {
   "cell_type": "code",
   "execution_count": 58,
   "metadata": {
    "collapsed": false
   },
   "outputs": [],
   "source": [
    "final_df = pd.read_csv(\"user_medians_validation.csv\", sep='\\t', encoding='utf-8')"
   ]
  },
  {
   "cell_type": "code",
   "execution_count": 59,
   "metadata": {
    "collapsed": false
   },
   "outputs": [
    {
     "data": {
      "text/html": [
       "<div>\n",
       "<table border=\"1\" class=\"dataframe\">\n",
       "  <thead>\n",
       "    <tr style=\"text-align: right;\">\n",
       "      <th></th>\n",
       "      <th>Unnamed: 0</th>\n",
       "      <th>artist</th>\n",
       "      <th>plays</th>\n",
       "      <th>user</th>\n",
       "      <th>user_median</th>\n",
       "    </tr>\n",
       "  </thead>\n",
       "  <tbody>\n",
       "    <tr>\n",
       "      <th>0</th>\n",
       "      <td>00001411dc427966b17297bf4d69e7e193135d89</td>\n",
       "      <td>e105c272-b5d7-4135-82ef-d60bded54345</td>\n",
       "      <td>1244</td>\n",
       "      <td>00001411dc427966b17297bf4d69e7e193135d89</td>\n",
       "      <td>854.5</td>\n",
       "    </tr>\n",
       "    <tr>\n",
       "      <th>1</th>\n",
       "      <td>00001411dc427966b17297bf4d69e7e193135d89</td>\n",
       "      <td>9fa07bb4-8312-4cd7-a19a-4fdbc5797148</td>\n",
       "      <td>2641</td>\n",
       "      <td>00001411dc427966b17297bf4d69e7e193135d89</td>\n",
       "      <td>854.5</td>\n",
       "    </tr>\n",
       "    <tr>\n",
       "      <th>2</th>\n",
       "      <td>00001411dc427966b17297bf4d69e7e193135d89</td>\n",
       "      <td>ffb18e19-64a4-4a65-b4ce-979e00c3c69d</td>\n",
       "      <td>622</td>\n",
       "      <td>00001411dc427966b17297bf4d69e7e193135d89</td>\n",
       "      <td>854.5</td>\n",
       "    </tr>\n",
       "    <tr>\n",
       "      <th>3</th>\n",
       "      <td>00001411dc427966b17297bf4d69e7e193135d89</td>\n",
       "      <td>451f9db1-f75f-44f9-b218-f8bdf22035a1</td>\n",
       "      <td>2427</td>\n",
       "      <td>00001411dc427966b17297bf4d69e7e193135d89</td>\n",
       "      <td>854.5</td>\n",
       "    </tr>\n",
       "    <tr>\n",
       "      <th>4</th>\n",
       "      <td>000063d3fe1cf2ba248b9e3c3f0334845a27a6bf</td>\n",
       "      <td>50eec634-7c42-41ee-9b1f-b41d9ca28b26</td>\n",
       "      <td>8</td>\n",
       "      <td>000063d3fe1cf2ba248b9e3c3f0334845a27a6bf</td>\n",
       "      <td>4.0</td>\n",
       "    </tr>\n",
       "  </tbody>\n",
       "</table>\n",
       "</div>"
      ],
      "text/plain": [
       "                                 Unnamed: 0                                artist  plays                                      user  user_median\n",
       "0  00001411dc427966b17297bf4d69e7e193135d89  e105c272-b5d7-4135-82ef-d60bded54345   1244  00001411dc427966b17297bf4d69e7e193135d89        854.5\n",
       "1  00001411dc427966b17297bf4d69e7e193135d89  9fa07bb4-8312-4cd7-a19a-4fdbc5797148   2641  00001411dc427966b17297bf4d69e7e193135d89        854.5\n",
       "2  00001411dc427966b17297bf4d69e7e193135d89  ffb18e19-64a4-4a65-b4ce-979e00c3c69d    622  00001411dc427966b17297bf4d69e7e193135d89        854.5\n",
       "3  00001411dc427966b17297bf4d69e7e193135d89  451f9db1-f75f-44f9-b218-f8bdf22035a1   2427  00001411dc427966b17297bf4d69e7e193135d89        854.5\n",
       "4  000063d3fe1cf2ba248b9e3c3f0334845a27a6bf  50eec634-7c42-41ee-9b1f-b41d9ca28b26      8  000063d3fe1cf2ba248b9e3c3f0334845a27a6bf          4.0"
      ]
     },
     "execution_count": 59,
     "metadata": {},
     "output_type": "execute_result"
    }
   ],
   "source": [
    "final_df.head()"
   ]
  },
  {
   "cell_type": "markdown",
   "metadata": {},
   "source": [
    "### Validation Performance\n",
    "### MAE for User_median: 137"
   ]
  },
  {
   "cell_type": "code",
   "execution_count": 60,
   "metadata": {
    "collapsed": false
   },
   "outputs": [
    {
     "data": {
      "text/plain": [
       "137.26561187249118"
      ]
     },
     "execution_count": 60,
     "metadata": {},
     "output_type": "execute_result"
    }
   ],
   "source": [
    "mean_absolute_error(final_df.plays, final_df.user_median)"
   ]
  },
  {
   "cell_type": "code",
   "execution_count": 62,
   "metadata": {
    "collapsed": false
   },
   "outputs": [],
   "source": [
    "final_df_submit = final_df[[\"user\", \"user_median\"]]"
   ]
  },
  {
   "cell_type": "code",
   "execution_count": 63,
   "metadata": {
    "collapsed": false
   },
   "outputs": [
    {
     "data": {
      "text/html": [
       "<div>\n",
       "<table border=\"1\" class=\"dataframe\">\n",
       "  <thead>\n",
       "    <tr style=\"text-align: right;\">\n",
       "      <th></th>\n",
       "      <th>user</th>\n",
       "      <th>user_median</th>\n",
       "    </tr>\n",
       "  </thead>\n",
       "  <tbody>\n",
       "    <tr>\n",
       "      <th>0</th>\n",
       "      <td>00001411dc427966b17297bf4d69e7e193135d89</td>\n",
       "      <td>854.5</td>\n",
       "    </tr>\n",
       "    <tr>\n",
       "      <th>1</th>\n",
       "      <td>00001411dc427966b17297bf4d69e7e193135d89</td>\n",
       "      <td>854.5</td>\n",
       "    </tr>\n",
       "    <tr>\n",
       "      <th>2</th>\n",
       "      <td>00001411dc427966b17297bf4d69e7e193135d89</td>\n",
       "      <td>854.5</td>\n",
       "    </tr>\n",
       "    <tr>\n",
       "      <th>3</th>\n",
       "      <td>00001411dc427966b17297bf4d69e7e193135d89</td>\n",
       "      <td>854.5</td>\n",
       "    </tr>\n",
       "    <tr>\n",
       "      <th>4</th>\n",
       "      <td>000063d3fe1cf2ba248b9e3c3f0334845a27a6bf</td>\n",
       "      <td>4.0</td>\n",
       "    </tr>\n",
       "  </tbody>\n",
       "</table>\n",
       "</div>"
      ],
      "text/plain": [
       "                                       user  user_median\n",
       "0  00001411dc427966b17297bf4d69e7e193135d89        854.5\n",
       "1  00001411dc427966b17297bf4d69e7e193135d89        854.5\n",
       "2  00001411dc427966b17297bf4d69e7e193135d89        854.5\n",
       "3  00001411dc427966b17297bf4d69e7e193135d89        854.5\n",
       "4  000063d3fe1cf2ba248b9e3c3f0334845a27a6bf          4.0"
      ]
     },
     "execution_count": 63,
     "metadata": {},
     "output_type": "execute_result"
    }
   ],
   "source": [
    "final_df_submit.head()"
   ]
  },
  {
   "cell_type": "markdown",
   "metadata": {
    "collapsed": false
   },
   "source": [
    "### Making the prediction"
   ]
  },
  {
   "cell_type": "code",
   "execution_count": 65,
   "metadata": {
    "collapsed": false
   },
   "outputs": [],
   "source": [
    "test_df = pd.read_csv(test_file, header=0)"
   ]
  },
  {
   "cell_type": "code",
   "execution_count": 66,
   "metadata": {
    "collapsed": false
   },
   "outputs": [
    {
     "data": {
      "text/html": [
       "<div>\n",
       "<table border=\"1\" class=\"dataframe\">\n",
       "  <thead>\n",
       "    <tr style=\"text-align: right;\">\n",
       "      <th></th>\n",
       "      <th>Id</th>\n",
       "      <th>user</th>\n",
       "      <th>artist</th>\n",
       "    </tr>\n",
       "  </thead>\n",
       "  <tbody>\n",
       "    <tr>\n",
       "      <th>0</th>\n",
       "      <td>1</td>\n",
       "      <td>306e19cce2522fa2d39ff5dfc870992100ec22d2</td>\n",
       "      <td>4ac4e32b-bd18-402e-adad-ae00e72f8d85</td>\n",
       "    </tr>\n",
       "    <tr>\n",
       "      <th>1</th>\n",
       "      <td>2</td>\n",
       "      <td>9450d351278df4938bdea4ed86aec940a4e927ac</td>\n",
       "      <td>1f574ab1-a46d-4586-9331-f0ded23e0411</td>\n",
       "    </tr>\n",
       "    <tr>\n",
       "      <th>2</th>\n",
       "      <td>3</td>\n",
       "      <td>801909d6955f59033c88595d3d7f8a6a5dcd53cc</td>\n",
       "      <td>3eb72791-6322-466b-87d3-24d74901eb2d</td>\n",
       "    </tr>\n",
       "    <tr>\n",
       "      <th>3</th>\n",
       "      <td>4</td>\n",
       "      <td>e3ed47445c127fbeff47fb58f6bbf2f3b4535d82</td>\n",
       "      <td>61604b45-8a91-4e33-a1b6-45d7b1fec4e5</td>\n",
       "    </tr>\n",
       "    <tr>\n",
       "      <th>4</th>\n",
       "      <td>5</td>\n",
       "      <td>a73f46652103f3a5f7429159310f6928f79644aa</td>\n",
       "      <td>5dfdca28-9ddc-4853-933c-8bc97d87beec</td>\n",
       "    </tr>\n",
       "  </tbody>\n",
       "</table>\n",
       "</div>"
      ],
      "text/plain": [
       "   Id                                      user                                artist\n",
       "0   1  306e19cce2522fa2d39ff5dfc870992100ec22d2  4ac4e32b-bd18-402e-adad-ae00e72f8d85\n",
       "1   2  9450d351278df4938bdea4ed86aec940a4e927ac  1f574ab1-a46d-4586-9331-f0ded23e0411\n",
       "2   3  801909d6955f59033c88595d3d7f8a6a5dcd53cc  3eb72791-6322-466b-87d3-24d74901eb2d\n",
       "3   4  e3ed47445c127fbeff47fb58f6bbf2f3b4535d82  61604b45-8a91-4e33-a1b6-45d7b1fec4e5\n",
       "4   5  a73f46652103f3a5f7429159310f6928f79644aa  5dfdca28-9ddc-4853-933c-8bc97d87beec"
      ]
     },
     "execution_count": 66,
     "metadata": {},
     "output_type": "execute_result"
    }
   ],
   "source": [
    "test_df.head()"
   ]
  },
  {
   "cell_type": "code",
   "execution_count": null,
   "metadata": {
    "collapsed": false
   },
   "outputs": [],
   "source": [
    "test_df[\"artist\"] = 0\n",
    "test_df.rename(columns={\"artist\": \"plays\"}, inplace=True)\n",
    "test_df.head()"
   ]
  },
  {
   "cell_type": "code",
   "execution_count": null,
   "metadata": {
    "collapsed": false
   },
   "outputs": [
    {
     "name": "stderr",
     "output_type": "stream",
     "text": [
      "0%                          100%\n",
      "[                              ]"
     ]
    }
   ],
   "source": [
    "loop_size = len(medians_df.user_median)\n",
    "mybar = pyprind.ProgBar(loop_size)\n",
    "i = 0\n",
    "for k, user in enumerate(list(set(medians_df.user))):\n",
    "    if user in test_df[\"user\"].values:\n",
    "        i += 1\n",
    "        test_df.loc[user, \"plays\"] = medians_df.ix[user].user_median\n",
    "    mybar.update()"
   ]
  },
  {
   "cell_type": "code",
   "execution_count": 89,
   "metadata": {
    "collapsed": false
   },
   "outputs": [
    {
     "data": {
      "text/plain": [
       "array(['306e19cce2522fa2d39ff5dfc870992100ec22d2',\n",
       "       '9450d351278df4938bdea4ed86aec940a4e927ac',\n",
       "       '801909d6955f59033c88595d3d7f8a6a5dcd53cc', ...,\n",
       "       'f7fefb72eea0fa7976eb2fc5c0f1fe9f5d1149bd',\n",
       "       '6af6ded3c4a0894e65aed78d48f979a0ac3ce1ae',\n",
       "       'de29005de66c93b31a34991b0c72d9f70b9fc313'], dtype=object)"
      ]
     },
     "execution_count": 89,
     "metadata": {},
     "output_type": "execute_result"
    }
   ],
   "source": [
    "#test_df.user.values\n",
    "#medians_df.ix[\"734f7337c7d33e99fa60a6361a5df8e3fb939ecf\"].user_median"
   ]
  },
  {
   "cell_type": "markdown",
   "metadata": {
    "collapsed": false
   },
   "source": [
    "## GraphLab"
   ]
  },
  {
   "cell_type": "code",
   "execution_count": 76,
   "metadata": {
    "collapsed": true
   },
   "outputs": [],
   "source": [
    "gl.canvas.set_target('ipynb')"
   ]
  },
  {
   "cell_type": "code",
   "execution_count": 77,
   "metadata": {
    "collapsed": false
   },
   "outputs": [],
   "source": [
    "# The below will download a 118 MB file.\n",
    "sf = gl.SFrame.read_csv(train_file, header=True, verbose=False, column_type_hints={\"plays\":int})"
   ]
  },
  {
   "cell_type": "code",
   "execution_count": 78,
   "metadata": {
    "collapsed": false
   },
   "outputs": [
    {
     "data": {
      "text/html": [
       "<div style=\"max-height:1000px;max-width:1500px;overflow:auto;\"><table frame=\"box\" rules=\"cols\">\n",
       "    <tr>\n",
       "        <th style=\"padding-left: 1em; padding-right: 1em; text-align: center\">user_id</th>\n",
       "        <th style=\"padding-left: 1em; padding-right: 1em; text-align: center\">item_id</th>\n",
       "        <th style=\"padding-left: 1em; padding-right: 1em; text-align: center\">plays</th>\n",
       "    </tr>\n",
       "    <tr>\n",
       "        <td style=\"padding-left: 1em; padding-right: 1em; text-align: center; vertical-align: top\">eb1c57ddc9e0e2d005169d3a1<br>a96e8dd95e3af03 ...</td>\n",
       "        <td style=\"padding-left: 1em; padding-right: 1em; text-align: center; vertical-align: top\">5a8e07d5-d932-4484-a7f7-e<br>700793a9c94 ...</td>\n",
       "        <td style=\"padding-left: 1em; padding-right: 1em; text-align: center; vertical-align: top\">554</td>\n",
       "    </tr>\n",
       "    <tr>\n",
       "        <td style=\"padding-left: 1em; padding-right: 1em; text-align: center; vertical-align: top\">44ce793a6cd9d20f13f4a576a<br>818ef983314bb5d ...</td>\n",
       "        <td style=\"padding-left: 1em; padding-right: 1em; text-align: center; vertical-align: top\">a3a92047-be1c-<br>4f3e-8960-c4f8570984df ...</td>\n",
       "        <td style=\"padding-left: 1em; padding-right: 1em; text-align: center; vertical-align: top\">81</td>\n",
       "    </tr>\n",
       "    <tr>\n",
       "        <td style=\"padding-left: 1em; padding-right: 1em; text-align: center; vertical-align: top\">da9cf3f557161d54b76f24db6<br>4be9cc76db008e3 ...</td>\n",
       "        <td style=\"padding-left: 1em; padding-right: 1em; text-align: center; vertical-align: top\">eeb1195b-f213-4ce1-b28c-<br>8565211f8e43 ...</td>\n",
       "        <td style=\"padding-left: 1em; padding-right: 1em; text-align: center; vertical-align: top\">708</td>\n",
       "    </tr>\n",
       "    <tr>\n",
       "        <td style=\"padding-left: 1em; padding-right: 1em; text-align: center; vertical-align: top\">8fa49ab25d425edcf05d44bfc<br>1d5aea895287d81 ...</td>\n",
       "        <td style=\"padding-left: 1em; padding-right: 1em; text-align: center; vertical-align: top\">a1419808-65d3-4d40-998c-<br>1a0bac65eabc ...</td>\n",
       "        <td style=\"padding-left: 1em; padding-right: 1em; text-align: center; vertical-align: top\">265</td>\n",
       "    </tr>\n",
       "    <tr>\n",
       "        <td style=\"padding-left: 1em; padding-right: 1em; text-align: center; vertical-align: top\">b85fcaef67d2669cd99b334b5<br>e8c8705263db2cf ...</td>\n",
       "        <td style=\"padding-left: 1em; padding-right: 1em; text-align: center; vertical-align: top\">a3cb23fc-acd3-4ce0-8f36-1<br>e5aa6a18432 ...</td>\n",
       "        <td style=\"padding-left: 1em; padding-right: 1em; text-align: center; vertical-align: top\">220</td>\n",
       "    </tr>\n",
       "    <tr>\n",
       "        <td style=\"padding-left: 1em; padding-right: 1em; text-align: center; vertical-align: top\">feed7a0dc74c5251283a1505a<br>df453a2061d08f7 ...</td>\n",
       "        <td style=\"padding-left: 1em; padding-right: 1em; text-align: center; vertical-align: top\">1cc5adcd-1422-4b5c-a3cd-<br>3ecd4f43f506 ...</td>\n",
       "        <td style=\"padding-left: 1em; padding-right: 1em; text-align: center; vertical-align: top\">2113</td>\n",
       "    </tr>\n",
       "    <tr>\n",
       "        <td style=\"padding-left: 1em; padding-right: 1em; text-align: center; vertical-align: top\">cbb86d88a8d2d0bab8956807c<br>6c45cd0c752324b ...</td>\n",
       "        <td style=\"padding-left: 1em; padding-right: 1em; text-align: center; vertical-align: top\">9c9f1380-2516-4fc9-a3e6-f<br>9f61941d090 ...</td>\n",
       "        <td style=\"padding-left: 1em; padding-right: 1em; text-align: center; vertical-align: top\">127</td>\n",
       "    </tr>\n",
       "    <tr>\n",
       "        <td style=\"padding-left: 1em; padding-right: 1em; text-align: center; vertical-align: top\">5641e1e6f04868a61dc29f722<br>7e34f4640163e9b ...</td>\n",
       "        <td style=\"padding-left: 1em; padding-right: 1em; text-align: center; vertical-align: top\">832a43c7-aa7d-439b-<br>a6b4-4f1afa671c24 ...</td>\n",
       "        <td style=\"padding-left: 1em; padding-right: 1em; text-align: center; vertical-align: top\">305</td>\n",
       "    </tr>\n",
       "    <tr>\n",
       "        <td style=\"padding-left: 1em; padding-right: 1em; text-align: center; vertical-align: top\">9f748976d303db79f61bf570d<br>9549d6335b11b0e ...</td>\n",
       "        <td style=\"padding-left: 1em; padding-right: 1em; text-align: center; vertical-align: top\">2fddb92d-24b2-46a5-bf28-3<br>aed46f4684c ...</td>\n",
       "        <td style=\"padding-left: 1em; padding-right: 1em; text-align: center; vertical-align: top\">705</td>\n",
       "    </tr>\n",
       "    <tr>\n",
       "        <td style=\"padding-left: 1em; padding-right: 1em; text-align: center; vertical-align: top\">056d5d2467dc63c4520963323<br>e2ebf9576b58229 ...</td>\n",
       "        <td style=\"padding-left: 1em; padding-right: 1em; text-align: center; vertical-align: top\">847e8284-8582-4b0e-<br>9c26-b042a4f49e57 ...</td>\n",
       "        <td style=\"padding-left: 1em; padding-right: 1em; text-align: center; vertical-align: top\">7</td>\n",
       "    </tr>\n",
       "</table>\n",
       "[4154804 rows x 3 columns]<br/>Note: Only the head of the SFrame is printed.<br/>You can use print_rows(num_rows=m, num_columns=n) to print more rows and columns.\n",
       "</div>"
      ],
      "text/plain": [
       "Columns:\n",
       "\tuser_id\tstr\n",
       "\titem_id\tstr\n",
       "\tplays\tint\n",
       "\n",
       "Rows: 4154804\n",
       "\n",
       "Data:\n",
       "+-------------------------------+-------------------------------+-------+\n",
       "|            user_id            |            item_id            | plays |\n",
       "+-------------------------------+-------------------------------+-------+\n",
       "| eb1c57ddc9e0e2d005169d3a1a... | 5a8e07d5-d932-4484-a7f7-e7... |  554  |\n",
       "| 44ce793a6cd9d20f13f4a576a8... | a3a92047-be1c-4f3e-8960-c4... |   81  |\n",
       "| da9cf3f557161d54b76f24db64... | eeb1195b-f213-4ce1-b28c-85... |  708  |\n",
       "| 8fa49ab25d425edcf05d44bfc1... | a1419808-65d3-4d40-998c-1a... |  265  |\n",
       "| b85fcaef67d2669cd99b334b5e... | a3cb23fc-acd3-4ce0-8f36-1e... |  220  |\n",
       "| feed7a0dc74c5251283a1505ad... | 1cc5adcd-1422-4b5c-a3cd-3e... |  2113 |\n",
       "| cbb86d88a8d2d0bab8956807c6... | 9c9f1380-2516-4fc9-a3e6-f9... |  127  |\n",
       "| 5641e1e6f04868a61dc29f7227... | 832a43c7-aa7d-439b-a6b4-4f... |  305  |\n",
       "| 9f748976d303db79f61bf570d9... | 2fddb92d-24b2-46a5-bf28-3a... |  705  |\n",
       "| 056d5d2467dc63c4520963323e... | 847e8284-8582-4b0e-9c26-b0... |   7   |\n",
       "+-------------------------------+-------------------------------+-------+\n",
       "[4154804 rows x 3 columns]\n",
       "Note: Only the head of the SFrame is printed.\n",
       "You can use print_rows(num_rows=m, num_columns=n) to print more rows and columns."
      ]
     },
     "execution_count": 78,
     "metadata": {},
     "output_type": "execute_result"
    }
   ],
   "source": [
    "sf.rename({'user':'user_id', \"artist\": \"item_id\"})\n",
    "#sf.rename({\"artist\": \"item_id\"})"
   ]
  },
  {
   "cell_type": "code",
   "execution_count": 79,
   "metadata": {
    "collapsed": false
   },
   "outputs": [
    {
     "data": {
      "text/html": [
       "<div style=\"max-height:1000px;max-width:1500px;overflow:auto;\"><table frame=\"box\" rules=\"cols\">\n",
       "    <tr>\n",
       "        <th style=\"padding-left: 1em; padding-right: 1em; text-align: center\">Id</th>\n",
       "        <th style=\"padding-left: 1em; padding-right: 1em; text-align: center\">user_id</th>\n",
       "        <th style=\"padding-left: 1em; padding-right: 1em; text-align: center\">item_id</th>\n",
       "    </tr>\n",
       "    <tr>\n",
       "        <td style=\"padding-left: 1em; padding-right: 1em; text-align: center; vertical-align: top\">1</td>\n",
       "        <td style=\"padding-left: 1em; padding-right: 1em; text-align: center; vertical-align: top\">306e19cce2522fa2d39ff5dfc<br>870992100ec22d2 ...</td>\n",
       "        <td style=\"padding-left: 1em; padding-right: 1em; text-align: center; vertical-align: top\">4ac4e32b-bd18-402e-adad-<br>ae00e72f8d85 ...</td>\n",
       "    </tr>\n",
       "    <tr>\n",
       "        <td style=\"padding-left: 1em; padding-right: 1em; text-align: center; vertical-align: top\">2</td>\n",
       "        <td style=\"padding-left: 1em; padding-right: 1em; text-align: center; vertical-align: top\">9450d351278df4938bdea4ed8<br>6aec940a4e927ac ...</td>\n",
       "        <td style=\"padding-left: 1em; padding-right: 1em; text-align: center; vertical-align: top\">1f574ab1-a46d-4586-9331-f<br>0ded23e0411 ...</td>\n",
       "    </tr>\n",
       "    <tr>\n",
       "        <td style=\"padding-left: 1em; padding-right: 1em; text-align: center; vertical-align: top\">3</td>\n",
       "        <td style=\"padding-left: 1em; padding-right: 1em; text-align: center; vertical-align: top\">801909d6955f59033c88595d3<br>d7f8a6a5dcd53cc ...</td>\n",
       "        <td style=\"padding-left: 1em; padding-right: 1em; text-align: center; vertical-align: top\">3eb72791-6322-466b-<br>87d3-24d74901eb2d ...</td>\n",
       "    </tr>\n",
       "    <tr>\n",
       "        <td style=\"padding-left: 1em; padding-right: 1em; text-align: center; vertical-align: top\">4</td>\n",
       "        <td style=\"padding-left: 1em; padding-right: 1em; text-align: center; vertical-align: top\">e3ed47445c127fbeff47fb58f<br>6bbf2f3b4535d82 ...</td>\n",
       "        <td style=\"padding-left: 1em; padding-right: 1em; text-align: center; vertical-align: top\">61604b45-8a91-4e33-a1b6-4<br>5d7b1fec4e5 ...</td>\n",
       "    </tr>\n",
       "    <tr>\n",
       "        <td style=\"padding-left: 1em; padding-right: 1em; text-align: center; vertical-align: top\">5</td>\n",
       "        <td style=\"padding-left: 1em; padding-right: 1em; text-align: center; vertical-align: top\">a73f46652103f3a5f74291593<br>10f6928f79644aa ...</td>\n",
       "        <td style=\"padding-left: 1em; padding-right: 1em; text-align: center; vertical-align: top\">5dfdca28-9ddc-4853-933c-<br>8bc97d87beec ...</td>\n",
       "    </tr>\n",
       "    <tr>\n",
       "        <td style=\"padding-left: 1em; padding-right: 1em; text-align: center; vertical-align: top\">6</td>\n",
       "        <td style=\"padding-left: 1em; padding-right: 1em; text-align: center; vertical-align: top\">55f1c89e3a102de38a0bdfcb1<br>fe660b028c5c0af ...</td>\n",
       "        <td style=\"padding-left: 1em; padding-right: 1em; text-align: center; vertical-align: top\">ef58d4c9-0d40-42ba-bfab-<br>9186c1483edd ...</td>\n",
       "    </tr>\n",
       "    <tr>\n",
       "        <td style=\"padding-left: 1em; padding-right: 1em; text-align: center; vertical-align: top\">7</td>\n",
       "        <td style=\"padding-left: 1em; padding-right: 1em; text-align: center; vertical-align: top\">7ad7619f38bf52de421b795f3<br>159949422b5bbee ...</td>\n",
       "        <td style=\"padding-left: 1em; padding-right: 1em; text-align: center; vertical-align: top\">a3cb23fc-acd3-4ce0-8f36-1<br>e5aa6a18432 ...</td>\n",
       "    </tr>\n",
       "    <tr>\n",
       "        <td style=\"padding-left: 1em; padding-right: 1em; text-align: center; vertical-align: top\">8</td>\n",
       "        <td style=\"padding-left: 1em; padding-right: 1em; text-align: center; vertical-align: top\">2a1ab291185cfc6fb99655648<br>1e178666e9731f9 ...</td>\n",
       "        <td style=\"padding-left: 1em; padding-right: 1em; text-align: center; vertical-align: top\">5dfdca28-9ddc-4853-933c-<br>8bc97d87beec ...</td>\n",
       "    </tr>\n",
       "    <tr>\n",
       "        <td style=\"padding-left: 1em; padding-right: 1em; text-align: center; vertical-align: top\">9</td>\n",
       "        <td style=\"padding-left: 1em; padding-right: 1em; text-align: center; vertical-align: top\">3f407fff902ab403f06668f6b<br>e3d10bb9e9a02cd ...</td>\n",
       "        <td style=\"padding-left: 1em; padding-right: 1em; text-align: center; vertical-align: top\">000fc734-b7e1-4a01-92d1-f<br>544261b43f5 ...</td>\n",
       "    </tr>\n",
       "    <tr>\n",
       "        <td style=\"padding-left: 1em; padding-right: 1em; text-align: center; vertical-align: top\">10</td>\n",
       "        <td style=\"padding-left: 1em; padding-right: 1em; text-align: center; vertical-align: top\">2eea5a2b68e6e9e0d9dd6b3c1<br>c0e1e5840fc9ce3 ...</td>\n",
       "        <td style=\"padding-left: 1em; padding-right: 1em; text-align: center; vertical-align: top\">84783313-2a3f-4f17-ab9a-<br>425a5d527879 ...</td>\n",
       "    </tr>\n",
       "</table>\n",
       "[4154804 rows x 3 columns]<br/>Note: Only the head of the SFrame is printed.<br/>You can use print_rows(num_rows=m, num_columns=n) to print more rows and columns.\n",
       "</div>"
      ],
      "text/plain": [
       "Columns:\n",
       "\tId\tint\n",
       "\tuser_id\tstr\n",
       "\titem_id\tstr\n",
       "\n",
       "Rows: 4154804\n",
       "\n",
       "Data:\n",
       "+----+-------------------------------+-------------------------------+\n",
       "| Id |            user_id            |            item_id            |\n",
       "+----+-------------------------------+-------------------------------+\n",
       "| 1  | 306e19cce2522fa2d39ff5dfc8... | 4ac4e32b-bd18-402e-adad-ae... |\n",
       "| 2  | 9450d351278df4938bdea4ed86... | 1f574ab1-a46d-4586-9331-f0... |\n",
       "| 3  | 801909d6955f59033c88595d3d... | 3eb72791-6322-466b-87d3-24... |\n",
       "| 4  | e3ed47445c127fbeff47fb58f6... | 61604b45-8a91-4e33-a1b6-45... |\n",
       "| 5  | a73f46652103f3a5f742915931... | 5dfdca28-9ddc-4853-933c-8b... |\n",
       "| 6  | 55f1c89e3a102de38a0bdfcb1f... | ef58d4c9-0d40-42ba-bfab-91... |\n",
       "| 7  | 7ad7619f38bf52de421b795f31... | a3cb23fc-acd3-4ce0-8f36-1e... |\n",
       "| 8  | 2a1ab291185cfc6fb996556481... | 5dfdca28-9ddc-4853-933c-8b... |\n",
       "| 9  | 3f407fff902ab403f06668f6be... | 000fc734-b7e1-4a01-92d1-f5... |\n",
       "| 10 | 2eea5a2b68e6e9e0d9dd6b3c1c... | 84783313-2a3f-4f17-ab9a-42... |\n",
       "+----+-------------------------------+-------------------------------+\n",
       "[4154804 rows x 3 columns]\n",
       "Note: Only the head of the SFrame is printed.\n",
       "You can use print_rows(num_rows=m, num_columns=n) to print more rows and columns."
      ]
     },
     "execution_count": 79,
     "metadata": {},
     "output_type": "execute_result"
    }
   ],
   "source": [
    "sf_test = gl.SFrame.read_csv(test_file, header=True, verbose=False, column_type_hints={\"plays\":int})\n",
    "sf_test.rename({'user':'user_id', \"artist\": \"item_id\"})"
   ]
  },
  {
   "cell_type": "code",
   "execution_count": 80,
   "metadata": {
    "collapsed": false
   },
   "outputs": [],
   "source": [
    "#http://blog.dato.com/choosing-a-recommender-model"
   ]
  },
  {
   "cell_type": "markdown",
   "metadata": {},
   "source": [
    "### Train/Validate split"
   ]
  },
  {
   "cell_type": "code",
   "execution_count": 91,
   "metadata": {
    "collapsed": true
   },
   "outputs": [],
   "source": [
    "(train_set, test_set) = sf.random_split(0.8)\n",
    "\n",
    "#Comment that before running final output\n",
    "sf = train_set\n",
    "sf_test = test_set"
   ]
  },
  {
   "cell_type": "markdown",
   "metadata": {},
   "source": [
    "#### Item Similarity Models (Jaccard similarity)"
   ]
  },
  {
   "cell_type": "code",
   "execution_count": 82,
   "metadata": {
    "collapsed": false
   },
   "outputs": [
    {
     "data": {
      "text/html": [
       "<pre>Recsys training: model = item_similarity</pre>"
      ],
      "text/plain": [
       "Recsys training: model = item_similarity"
      ]
     },
     "metadata": {},
     "output_type": "display_data"
    },
    {
     "data": {
      "text/html": [
       "<pre>Preparing data set.</pre>"
      ],
      "text/plain": [
       "Preparing data set."
      ]
     },
     "metadata": {},
     "output_type": "display_data"
    },
    {
     "data": {
      "text/html": [
       "<pre>    Data has 4154804 observations with 233286 users and 2000 items.</pre>"
      ],
      "text/plain": [
       "    Data has 4154804 observations with 233286 users and 2000 items."
      ]
     },
     "metadata": {},
     "output_type": "display_data"
    },
    {
     "data": {
      "text/html": [
       "<pre>    Data prepared in: 8.54925s</pre>"
      ],
      "text/plain": [
       "    Data prepared in: 8.54925s"
      ]
     },
     "metadata": {},
     "output_type": "display_data"
    },
    {
     "data": {
      "text/html": [
       "<pre>Computing item similarity statistics:</pre>"
      ],
      "text/plain": [
       "Computing item similarity statistics:"
      ]
     },
     "metadata": {},
     "output_type": "display_data"
    },
    {
     "data": {
      "text/html": [
       "<pre>+-----------------+-----------------+</pre>"
      ],
      "text/plain": [
       "+-----------------+-----------------+"
      ]
     },
     "metadata": {},
     "output_type": "display_data"
    },
    {
     "data": {
      "text/html": [
       "<pre>| Number of users | Elapsed Time    |</pre>"
      ],
      "text/plain": [
       "| Number of users | Elapsed Time    |"
      ]
     },
     "metadata": {},
     "output_type": "display_data"
    },
    {
     "data": {
      "text/html": [
       "<pre>+-----------------+-----------------+</pre>"
      ],
      "text/plain": [
       "+-----------------+-----------------+"
      ]
     },
     "metadata": {},
     "output_type": "display_data"
    },
    {
     "data": {
      "text/html": [
       "<pre>| 100000          | 0.301903        |</pre>"
      ],
      "text/plain": [
       "| 100000          | 0.301903        |"
      ]
     },
     "metadata": {},
     "output_type": "display_data"
    },
    {
     "data": {
      "text/html": [
       "<pre>| 200000          | 0.62009         |</pre>"
      ],
      "text/plain": [
       "| 200000          | 0.62009         |"
      ]
     },
     "metadata": {},
     "output_type": "display_data"
    },
    {
     "data": {
      "text/html": [
       "<pre>+-----------------+-----------------+</pre>"
      ],
      "text/plain": [
       "+-----------------+-----------------+"
      ]
     },
     "metadata": {},
     "output_type": "display_data"
    },
    {
     "data": {
      "text/html": [
       "<pre>Computing most similar items for 2000 items:</pre>"
      ],
      "text/plain": [
       "Computing most similar items for 2000 items:"
      ]
     },
     "metadata": {},
     "output_type": "display_data"
    },
    {
     "data": {
      "text/html": [
       "<pre>+-----------------+-----------------+</pre>"
      ],
      "text/plain": [
       "+-----------------+-----------------+"
      ]
     },
     "metadata": {},
     "output_type": "display_data"
    },
    {
     "data": {
      "text/html": [
       "<pre>| Number of items | Elapsed Time    |</pre>"
      ],
      "text/plain": [
       "| Number of items | Elapsed Time    |"
      ]
     },
     "metadata": {},
     "output_type": "display_data"
    },
    {
     "data": {
      "text/html": [
       "<pre>+-----------------+-----------------+</pre>"
      ],
      "text/plain": [
       "+-----------------+-----------------+"
      ]
     },
     "metadata": {},
     "output_type": "display_data"
    },
    {
     "data": {
      "text/html": [
       "<pre>| 1000            | 0.916175        |</pre>"
      ],
      "text/plain": [
       "| 1000            | 0.916175        |"
      ]
     },
     "metadata": {},
     "output_type": "display_data"
    },
    {
     "data": {
      "text/html": [
       "<pre>| 2000            | 0.988465        |</pre>"
      ],
      "text/plain": [
       "| 2000            | 0.988465        |"
      ]
     },
     "metadata": {},
     "output_type": "display_data"
    },
    {
     "data": {
      "text/html": [
       "<pre>+-----------------+-----------------+</pre>"
      ],
      "text/plain": [
       "+-----------------+-----------------+"
      ]
     },
     "metadata": {},
     "output_type": "display_data"
    },
    {
     "data": {
      "text/html": [
       "<pre>Finished training in 1.44511s</pre>"
      ],
      "text/plain": [
       "Finished training in 1.44511s"
      ]
     },
     "metadata": {},
     "output_type": "display_data"
    },
    {
     "data": {
      "text/html": [
       "<pre>Finished prediction in 3.1775s</pre>"
      ],
      "text/plain": [
       "Finished prediction in 3.1775s"
      ]
     },
     "metadata": {},
     "output_type": "display_data"
    },
    {
     "data": {
      "text/html": [
       "<pre>Finished prediction in 3.3058s</pre>"
      ],
      "text/plain": [
       "Finished prediction in 3.3058s"
      ]
     },
     "metadata": {},
     "output_type": "display_data"
    },
    {
     "name": "stdout",
     "output_type": "stream",
     "text": [
      "[220.98930849550774, 460.5599048125369, 580.8977691713282, 590.9799447444939, 260.2241414171353, 503.05911503801485, 1541.218156743547, 153.83807861770052, 1882.7327619596406, 423.2535054754637, 19.451074662635545, 1804.0541101103718, 35.60992685520734, 295.2800659310563, 962.4527916413724, 308.7455464554072, 178.10332215300096, 1532.8240006663357, 507.61831788854863, 481.28035539324065, 211.39138469075758, 161.8503201461162, 226.13620976344697, 4798.203206305778, 737.3841438972244, 710.8622290677372, 1043.932317919479, 33.8047909015708, 122.89899911043803, 744.5497589476129, 716.4625064218919, 50.307116200797736, 332.98525948813455, 3883.5667787442303, 197.56431341874725, 413.1230104809141, 29.836082257697242, 143.9592871002036, 708.4990002955782, 582.6739582522437, 79.8629295809786, 145.67102756457444, 722.009898273399, 406.2816996262716, 248.10584345899207, 1410.7039933374042, 845.4841844643817, 520.5449003129596, 494.7588393814824, 587.9980067427198, 694.2932049820575, 36.91660932566817, 854.8243900383898, 2637.9336248481886, 195.6726654737615, 452.6213586201434, 296.53016137513464, 180.6109942894911, 391.1779015670202, 165.21598756953478, 64.72800649820776, 1214.5324799106377, 230.33011075941883, 1247.0333738445406, 326.4438685181715, 2395.926302296796, 40.53512683531479, 1409.5789769192352, 41.05863000622868, 683.5117679897048, 263.6661321179698, 246.57395191125985, 1247.4886903317688, 1768.706264980879, 69.77578533248189, 464.4055426097031, 218.86400417895692, 939.5697464156382, 1497.1394620273775, 413.0516222287938, 133.32052384302784, 13.595490794430823, 438.35372487543054, 255.1247019152404, 812.622521901543, 90.89713748735001, 511.0836407516771, 433.755444505445, 37.70735914801948, 43.20157405741439, 224.74061646270516, 396.2182916115257, 692.7522944723383, 32.62301483994592, 820.4641011331599, 253.02514097951405, 622.8601782879889, 499.0351861128184, 1107.4867095282468, 203.03982307266978, ... ]\n"
     ]
    }
   ],
   "source": [
    "item_sim_model = gl.item_similarity_recommender.create(sf, user_id=\"user_id\", item_id=\"item_id\", target=\"plays\")\n",
    "\n",
    "result_ismodel = item_sim_model.predict(sf_test)\n",
    "\n",
    "scaled_result_ismodel = (result_ismodel - result_ismodel.min())/(result_ismodel.max() - result_ismodel.min()) * sf['plays'].max()\n",
    "print scaled_result_ismodel"
   ]
  },
  {
   "cell_type": "code",
   "execution_count": null,
   "metadata": {
    "collapsed": true
   },
   "outputs": [],
   "source": [
    "with open(\"data/item_sim_jaccard_results.csv\", 'w') as soln_fh:\n",
    "    soln_csv = csv.writer(soln_fh,\n",
    "                          delimiter=',',\n",
    "                          quotechar='\"',\n",
    "                          quoting=csv.QUOTE_MINIMAL)\n",
    "    soln_csv.writerow(['Id', 'plays'])\n",
    "    loop_size = 4154804\n",
    "    mybar = pyprind.ProgBar(loop_size)\n",
    "    for i in range(4154804):\n",
    "        soln_csv.writerow([i + 1, scaled_result_ismodel[i]])\n",
    "        mybar.update()"
   ]
  },
  {
   "cell_type": "markdown",
   "metadata": {},
   "source": [
    "#### Item Similarity Models (Cosine similarity)"
   ]
  },
  {
   "cell_type": "code",
   "execution_count": 87,
   "metadata": {
    "collapsed": false
   },
   "outputs": [
    {
     "data": {
      "text/html": [
       "<pre>Recsys training: model = item_similarity</pre>"
      ],
      "text/plain": [
       "Recsys training: model = item_similarity"
      ]
     },
     "metadata": {},
     "output_type": "display_data"
    },
    {
     "data": {
      "text/html": [
       "<pre>Preparing data set.</pre>"
      ],
      "text/plain": [
       "Preparing data set."
      ]
     },
     "metadata": {},
     "output_type": "display_data"
    },
    {
     "data": {
      "text/html": [
       "<pre>    Data has 4154804 observations with 233286 users and 2000 items.</pre>"
      ],
      "text/plain": [
       "    Data has 4154804 observations with 233286 users and 2000 items."
      ]
     },
     "metadata": {},
     "output_type": "display_data"
    },
    {
     "data": {
      "text/html": [
       "<pre>    Data prepared in: 7.28395s</pre>"
      ],
      "text/plain": [
       "    Data prepared in: 7.28395s"
      ]
     },
     "metadata": {},
     "output_type": "display_data"
    },
    {
     "data": {
      "text/html": [
       "<pre>Computing item similarity statistics:</pre>"
      ],
      "text/plain": [
       "Computing item similarity statistics:"
      ]
     },
     "metadata": {},
     "output_type": "display_data"
    },
    {
     "data": {
      "text/html": [
       "<pre>+-----------------+-----------------+</pre>"
      ],
      "text/plain": [
       "+-----------------+-----------------+"
      ]
     },
     "metadata": {},
     "output_type": "display_data"
    },
    {
     "data": {
      "text/html": [
       "<pre>| Number of users | Elapsed Time    |</pre>"
      ],
      "text/plain": [
       "| Number of users | Elapsed Time    |"
      ]
     },
     "metadata": {},
     "output_type": "display_data"
    },
    {
     "data": {
      "text/html": [
       "<pre>+-----------------+-----------------+</pre>"
      ],
      "text/plain": [
       "+-----------------+-----------------+"
      ]
     },
     "metadata": {},
     "output_type": "display_data"
    },
    {
     "data": {
      "text/html": [
       "<pre>| 100000          | 0.311505        |</pre>"
      ],
      "text/plain": [
       "| 100000          | 0.311505        |"
      ]
     },
     "metadata": {},
     "output_type": "display_data"
    },
    {
     "data": {
      "text/html": [
       "<pre>| 200000          | 0.629195        |</pre>"
      ],
      "text/plain": [
       "| 200000          | 0.629195        |"
      ]
     },
     "metadata": {},
     "output_type": "display_data"
    },
    {
     "data": {
      "text/html": [
       "<pre>+-----------------+-----------------+</pre>"
      ],
      "text/plain": [
       "+-----------------+-----------------+"
      ]
     },
     "metadata": {},
     "output_type": "display_data"
    },
    {
     "data": {
      "text/html": [
       "<pre>Computing most similar items for 2000 items:</pre>"
      ],
      "text/plain": [
       "Computing most similar items for 2000 items:"
      ]
     },
     "metadata": {},
     "output_type": "display_data"
    },
    {
     "data": {
      "text/html": [
       "<pre>+-----------------+-----------------+</pre>"
      ],
      "text/plain": [
       "+-----------------+-----------------+"
      ]
     },
     "metadata": {},
     "output_type": "display_data"
    },
    {
     "data": {
      "text/html": [
       "<pre>| Number of items | Elapsed Time    |</pre>"
      ],
      "text/plain": [
       "| Number of items | Elapsed Time    |"
      ]
     },
     "metadata": {},
     "output_type": "display_data"
    },
    {
     "data": {
      "text/html": [
       "<pre>+-----------------+-----------------+</pre>"
      ],
      "text/plain": [
       "+-----------------+-----------------+"
      ]
     },
     "metadata": {},
     "output_type": "display_data"
    },
    {
     "data": {
      "text/html": [
       "<pre>| 1000            | 0.849123        |</pre>"
      ],
      "text/plain": [
       "| 1000            | 0.849123        |"
      ]
     },
     "metadata": {},
     "output_type": "display_data"
    },
    {
     "data": {
      "text/html": [
       "<pre>| 2000            | 0.902872        |</pre>"
      ],
      "text/plain": [
       "| 2000            | 0.902872        |"
      ]
     },
     "metadata": {},
     "output_type": "display_data"
    },
    {
     "data": {
      "text/html": [
       "<pre>+-----------------+-----------------+</pre>"
      ],
      "text/plain": [
       "+-----------------+-----------------+"
      ]
     },
     "metadata": {},
     "output_type": "display_data"
    },
    {
     "data": {
      "text/html": [
       "<pre>Finished training in 1.34722s</pre>"
      ],
      "text/plain": [
       "Finished training in 1.34722s"
      ]
     },
     "metadata": {},
     "output_type": "display_data"
    },
    {
     "data": {
      "text/html": [
       "<pre>Finished prediction in 3.19783s</pre>"
      ],
      "text/plain": [
       "Finished prediction in 3.19783s"
      ]
     },
     "metadata": {},
     "output_type": "display_data"
    },
    {
     "data": {
      "text/html": [
       "<pre>Finished prediction in 3.10682s</pre>"
      ],
      "text/plain": [
       "Finished prediction in 3.10682s"
      ]
     },
     "metadata": {},
     "output_type": "display_data"
    },
    {
     "name": "stdout",
     "output_type": "stream",
     "text": [
      "[350.7574879204341, 733.7418092554427, 667.2831471841013, 1244.0566684010228, 321.2029414306743, 932.9411466426824, 4183.495631641452, 299.7596111440166, 3204.504677455189, 737.9235717639305, 42.312769576939296, 3261.850421628807, 64.01617587625799, 550.8284935861909, 1559.0099250632402, 674.1211101739327, 375.7865841436792, 2911.8006561440748, 630.6303595974387, 685.59717990996, 203.01114315807953, 451.16785853779675, 573.0609924855906, 7992.472500210376, 1573.1034557329042, 1711.1679675213786, 3138.1290690352807, 69.35284751061621, 222.04115165594328, 1238.9912775689147, 943.8311918127941, 94.4219782047116, 622.1760205676496, 10081.179628488733, 164.13666893631964, 359.38241485649337, 52.85025629803167, 108.61318909761539, 1471.6967770859708, 1079.8465061599975, 165.01078754109656, 279.9977048455774, 1251.3797568672574, 637.922509733607, 1719.1156378067162, 2565.3478647113925, 1510.5966767717575, 959.8217627119491, 936.6298004403778, 786.4161456299378, 561.5201832031988, 73.42956241887984, 1739.3852896749913, 4124.186357205637, 405.1207382570599, 822.1887723454678, 529.4821419175735, 401.8912869147371, 281.7692697755013, 138.2203527884797, 100.94164450592038, 2010.30534678309, 432.9095799682183, 1719.2841557049858, 539.727754269239, 4358.697779095316, 85.36797247940795, 2646.49220770165, 72.01688469359858, 1199.3694407774062, 504.76322395746274, 673.7798587534957, 2971.0316655373194, 3033.09774640525, 126.49881697619796, 1009.0195582064753, 391.4317176924838, 1975.3003473460155, 3164.675825081577, 784.2260825643494, 1019.8740105662935, 40.57898509937508, 746.0983027460634, 425.18164948300074, 1602.5710037858203, 323.95395184799924, 660.7287262178085, 708.3793080409584, 42.51979896002223, 68.25579554911158, 391.0245240067332, 919.212974435459, 1313.9076224087135, 25.91631614783994, 1586.3172626401624, 387.11820213697956, 630.8356221166182, 798.949774983612, 2176.3621444940927, 382.4240192911031, ... ]\n"
     ]
    }
   ],
   "source": [
    "item_sim_model2 = gl.item_similarity_recommender.create(sf, user_id=\"user_id\", item_id=\"item_id\", target=\"plays\", similarity_type=\"cosine\")\n",
    "\n",
    "result_ismodel2 = item_sim_model2.predict(sf_test)\n",
    "\n",
    "scaled_result_ismodel2 = (result_ismodel2 - result_ismodel2.min())/(result_ismodel2.max() - result_ismodel2.min()) * sf['plays'].max()\n",
    "print scaled_result_ismodel2"
   ]
  },
  {
   "cell_type": "code",
   "execution_count": null,
   "metadata": {
    "collapsed": true
   },
   "outputs": [],
   "source": [
    "with open(\"data/item_sim_cosine_results.csv\", 'w') as soln_fh:\n",
    "    soln_csv = csv.writer(soln_fh,\n",
    "                          delimiter=',',\n",
    "                          quotechar='\"',\n",
    "                          quoting=csv.QUOTE_MINIMAL)\n",
    "    soln_csv.writerow(['Id', 'plays'])\n",
    "    loop_size = 4154804\n",
    "    mybar = pyprind.ProgBar(loop_size)\n",
    "    for i in range(4154804):\n",
    "        soln_csv.writerow([i + 1, scaled_result_ismodel2[i]])\n",
    "        mybar.update()"
   ]
  },
  {
   "cell_type": "markdown",
   "metadata": {},
   "source": [
    "#### Item Similarity Models (Pearson similarity)"
   ]
  },
  {
   "cell_type": "code",
   "execution_count": 89,
   "metadata": {
    "collapsed": false
   },
   "outputs": [
    {
     "data": {
      "text/html": [
       "<pre>Recsys training: model = item_similarity</pre>"
      ],
      "text/plain": [
       "Recsys training: model = item_similarity"
      ]
     },
     "metadata": {},
     "output_type": "display_data"
    },
    {
     "data": {
      "text/html": [
       "<pre>Preparing data set.</pre>"
      ],
      "text/plain": [
       "Preparing data set."
      ]
     },
     "metadata": {},
     "output_type": "display_data"
    },
    {
     "data": {
      "text/html": [
       "<pre>    Data has 4154804 observations with 233286 users and 2000 items.</pre>"
      ],
      "text/plain": [
       "    Data has 4154804 observations with 233286 users and 2000 items."
      ]
     },
     "metadata": {},
     "output_type": "display_data"
    },
    {
     "data": {
      "text/html": [
       "<pre>    Data prepared in: 9.02574s</pre>"
      ],
      "text/plain": [
       "    Data prepared in: 9.02574s"
      ]
     },
     "metadata": {},
     "output_type": "display_data"
    },
    {
     "data": {
      "text/html": [
       "<pre>Computing item similarity statistics:</pre>"
      ],
      "text/plain": [
       "Computing item similarity statistics:"
      ]
     },
     "metadata": {},
     "output_type": "display_data"
    },
    {
     "data": {
      "text/html": [
       "<pre>+-----------------+-----------------+</pre>"
      ],
      "text/plain": [
       "+-----------------+-----------------+"
      ]
     },
     "metadata": {},
     "output_type": "display_data"
    },
    {
     "data": {
      "text/html": [
       "<pre>| Number of users | Elapsed Time    |</pre>"
      ],
      "text/plain": [
       "| Number of users | Elapsed Time    |"
      ]
     },
     "metadata": {},
     "output_type": "display_data"
    },
    {
     "data": {
      "text/html": [
       "<pre>+-----------------+-----------------+</pre>"
      ],
      "text/plain": [
       "+-----------------+-----------------+"
      ]
     },
     "metadata": {},
     "output_type": "display_data"
    },
    {
     "data": {
      "text/html": [
       "<pre>| 100000          | 0.451146        |</pre>"
      ],
      "text/plain": [
       "| 100000          | 0.451146        |"
      ]
     },
     "metadata": {},
     "output_type": "display_data"
    },
    {
     "data": {
      "text/html": [
       "<pre>| 200000          | 0.899894        |</pre>"
      ],
      "text/plain": [
       "| 200000          | 0.899894        |"
      ]
     },
     "metadata": {},
     "output_type": "display_data"
    },
    {
     "data": {
      "text/html": [
       "<pre>+-----------------+-----------------+</pre>"
      ],
      "text/plain": [
       "+-----------------+-----------------+"
      ]
     },
     "metadata": {},
     "output_type": "display_data"
    },
    {
     "data": {
      "text/html": [
       "<pre>Computing most similar items for 2000 items:</pre>"
      ],
      "text/plain": [
       "Computing most similar items for 2000 items:"
      ]
     },
     "metadata": {},
     "output_type": "display_data"
    },
    {
     "data": {
      "text/html": [
       "<pre>+-----------------+-----------------+</pre>"
      ],
      "text/plain": [
       "+-----------------+-----------------+"
      ]
     },
     "metadata": {},
     "output_type": "display_data"
    },
    {
     "data": {
      "text/html": [
       "<pre>| Number of items | Elapsed Time    |</pre>"
      ],
      "text/plain": [
       "| Number of items | Elapsed Time    |"
      ]
     },
     "metadata": {},
     "output_type": "display_data"
    },
    {
     "data": {
      "text/html": [
       "<pre>+-----------------+-----------------+</pre>"
      ],
      "text/plain": [
       "+-----------------+-----------------+"
      ]
     },
     "metadata": {},
     "output_type": "display_data"
    },
    {
     "data": {
      "text/html": [
       "<pre>| 1000            | 1.08387         |</pre>"
      ],
      "text/plain": [
       "| 1000            | 1.08387         |"
      ]
     },
     "metadata": {},
     "output_type": "display_data"
    },
    {
     "data": {
      "text/html": [
       "<pre>| 2000            | 1.12673         |</pre>"
      ],
      "text/plain": [
       "| 2000            | 1.12673         |"
      ]
     },
     "metadata": {},
     "output_type": "display_data"
    },
    {
     "data": {
      "text/html": [
       "<pre>+-----------------+-----------------+</pre>"
      ],
      "text/plain": [
       "+-----------------+-----------------+"
      ]
     },
     "metadata": {},
     "output_type": "display_data"
    },
    {
     "data": {
      "text/html": [
       "<pre>Finished training in 1.58326s</pre>"
      ],
      "text/plain": [
       "Finished training in 1.58326s"
      ]
     },
     "metadata": {},
     "output_type": "display_data"
    },
    {
     "data": {
      "text/html": [
       "<pre>Finished prediction in 2.90293s</pre>"
      ],
      "text/plain": [
       "Finished prediction in 2.90293s"
      ]
     },
     "metadata": {},
     "output_type": "display_data"
    },
    {
     "data": {
      "text/html": [
       "<pre>Finished prediction in 3.37222s</pre>"
      ],
      "text/plain": [
       "Finished prediction in 3.37222s"
      ]
     },
     "metadata": {},
     "output_type": "display_data"
    },
    {
     "name": "stdout",
     "output_type": "stream",
     "text": [
      "[714.9953049211526, 158.49975667200852, 456.0762808767589, 1069.9057474827334, 393.36385328888645, 765.324479976131, 3888.0069225631682, 134.8929559329846, 2674.8563336823686, 381.26944485414685, 71.355403533259, 2621.974413043326, 0.0, 660.9148009226828, 836.6521940328792, 992.3597653745004, 726.5478934962476, 2214.8697018381777, 457.1461315342248, 623.6653654997014, 287.6353815256864, 826.1241866080624, 97.33115877242568, 7099.412934247599, 1218.4668556957565, 1401.6904449331105, 2846.2167631107804, 0.0, 35.015003856922725, 1296.733765428936, 626.6732660126806, 0.0, 299.5758053657405, 8121.721687239829, 0.0, 544.0374776340823, 0.0, 402.4179196674946, 844.5527588078842, 506.1010390326096, 479.4471514773242, 128.52792551014375, 1404.4240669224603, 620.299510015522, 310.5371810121976, 1894.5006339734182, 989.9512963009379, 633.4093222477247, 730.9262839832588, 797.8015661778081, 162.8383093254406, 174.640223648631, 1163.0474196772998, 3476.1762083916674, 560.2207163845829, 587.4394016451532, 198.88533479227723, 534.166517556811, 728.3669755546734, 1221.6796746544808, 0.0, 1267.8878141675489, 0.0, 1233.2175680001926, 826.6833894512253, 3447.800487607506, 283.85450470011375, 2163.715338260794, 53.60059771540623, 1193.6603358079742, 524.6839344209138, 276.0625955210296, 2472.991328080936, 2624.076064631837, 1215.1150072016794, 704.2472720748941, 70.71004107232714, 2116.2091530821813, 2577.1072807812093, 333.250127153982, 836.583536145915, 30.01682944754771, 340.8604547437305, 444.8747034992174, 1335.1798197324595, 732.6568488993782, 570.2546084203244, 571.759881800728, 0.0, 132.64960552445922, 116.10905622286165, 423.70839776788273, 703.7991562213981, 14.016372247102591, 1199.408978478446, 668.6712368000278, 741.2613979089349, 420.5773776243398, 1686.7211890498702, 441.20026271520396, ... ]\n"
     ]
    }
   ],
   "source": [
    "item_sim_model3 = gl.item_similarity_recommender.create(sf, user_id=\"user_id\", item_id=\"item_id\", target=\"plays\", similarity_type=\"pearson\")\n",
    "\n",
    "result_ismodel3 = item_sim_model3.predict(sf_test)\n",
    "\n",
    "scaled_result_ismodel3 = (result_ismodel3 - result_ismodel3.min())/(result_ismodel3.max() - result_ismodel3.min()) * sf['plays'].max()\n",
    "print scaled_result_ismodel3"
   ]
  },
  {
   "cell_type": "code",
   "execution_count": null,
   "metadata": {
    "collapsed": true
   },
   "outputs": [],
   "source": [
    "with open(\"data/item_sim_pearson_results.csv\", 'w') as soln_fh:\n",
    "    soln_csv = csv.writer(soln_fh,\n",
    "                          delimiter=',',\n",
    "                          quotechar='\"',\n",
    "                          quoting=csv.QUOTE_MINIMAL)\n",
    "    soln_csv.writerow(['Id', 'plays'])\n",
    "    loop_size = 4154804\n",
    "    mybar = pyprind.ProgBar(loop_size)\n",
    "    for i in range(4154804):\n",
    "        soln_csv.writerow([i + 1, scaled_result_ismodel3[i]])\n",
    "        mybar.update()"
   ]
  },
  {
   "cell_type": "markdown",
   "metadata": {},
   "source": [
    "#### Popularity Model"
   ]
  },
  {
   "cell_type": "code",
   "execution_count": null,
   "metadata": {
    "collapsed": false
   },
   "outputs": [],
   "source": [
    "#Popularity Model\n",
    "popularity_model = gl.popularity_recommender.create(sf, user_id=\"user_id\", item_id=\"item_id\", target=\"plays\")\n",
    "\n",
    "result_pm = popularity_model.predict(sf_test)\n",
    "\n",
    "scaled_result_pm = (result_pm - result_pm.min())/(result_pm.max() - result_pm.min()) * sf['plays'].max()\n",
    "#Scaled results look very strange. I stick to the unnormilzed once.\n",
    "#print scaled_result_pm"
   ]
  },
  {
   "cell_type": "code",
   "execution_count": 90,
   "metadata": {
    "collapsed": false
   },
   "outputs": [
    {
     "data": {
      "text/plain": [
       "dtype: float\n",
       "Rows: 4154804\n",
       "[349.8149028933809, 184.20293978188715, 254.09487534626038, 286.12068965517244, 340.1960881406289, 216.83710407239818, 254.99787117154236, 340.1960881406289, 288.88788040576617, 141.04631578947368, 386.2808277027027, 199.76539179104478, 133.38118811881188, 323.3389679715302, 245.81038374717832, 386.3238395477769, 341.7984685234126, 173.59254190899762, 181.52311790993468, 181.78495692511598, 248.31994635798983, 362.22479580641226, 226.9754782254782, 379.63953488372096, 252.41912358642972, 397.16, 214.1608606557377, 191.73986194995686, 206.35928143712576, 446.4553586788233, 204.83849452120057, 165.2882298424467, 170.4765683114307, 318.022884283247, 146.48602719033232, 274.41233964569335, 255.96879675144262, 334.2321340561853, 341.7984685234126, 131.00301204819277, 325.13953488372096, 235.8340807174888, 461.8585320676082, 308.3623324711968, 107.41271551724138, 264.4872425453428, 273.3251993067591, 159.99216369177188, 166.60046838407493, 342.77262485918135, 297.05244996549345, 339.8206236776745, 189.4618320610687, 365.63965037743344, 270.9842485549133, 164.18339276617422, 296.1324535286071, 381.706925498426, 345.1274935808809, 348.0558170077706, 175.39540229885057, 341.7984685234126, 198.23206160308015, 248.32372986369268, 342.77262485918135, 397.3876314382463, 367.64266749960956, 237.1065686152312, 145.02175732217574, 304.63058047221364, 346.2497743575127, 136.60841836734693, 295.06345177664974, 366.34920165582497, 601.5263528583167, 238.81109979633402, 214.1608606557377, 439.28285714285715, 224.54122855561704, 243.3864293037562, 237.1065686152312, 171.30648167322428, 195.9853896103896, 219.03509532062392, 242.02358280017853, 259.17241379310343, 314.59756838905776, 245.43627781523938, 145.98384925975773, 209.05669199298654, 160.8763511732138, 278.67296631059986, 156.44010416666666, 216.83710407239818, 148.93601968625038, 434.19035859995705, 332.5946595798532, 219.9063231850117, 170.4765683114307, 256.92010514577026, ... ]"
      ]
     },
     "execution_count": 90,
     "metadata": {},
     "output_type": "execute_result"
    }
   ],
   "source": [
    "result_pm"
   ]
  },
  {
   "cell_type": "code",
   "execution_count": null,
   "metadata": {
    "collapsed": true
   },
   "outputs": [],
   "source": [
    "with open(\"data/popularity_model_results.csv\", 'w') as soln_fh:\n",
    "    soln_csv = csv.writer(soln_fh,\n",
    "                          delimiter=',',\n",
    "                          quotechar='\"',\n",
    "                          quoting=csv.QUOTE_MINIMAL)\n",
    "    soln_csv.writerow(['Id', 'plays'])\n",
    "    loop_size = 4154804\n",
    "    mybar = pyprind.ProgBar(loop_size)\n",
    "    for i in range(4154804):\n",
    "        soln_csv.writerow([i + 1, result_pm[i]])\n",
    "        mybar.update()"
   ]
  },
  {
   "cell_type": "markdown",
   "metadata": {},
   "source": [
    "#### Factorization Recommender"
   ]
  },
  {
   "cell_type": "code",
   "execution_count": 92,
   "metadata": {
    "collapsed": false
   },
   "outputs": [
    {
     "data": {
      "text/html": [
       "<pre>Recsys training: model = factorization_recommender</pre>"
      ],
      "text/plain": [
       "Recsys training: model = factorization_recommender"
      ]
     },
     "metadata": {},
     "output_type": "display_data"
    },
    {
     "data": {
      "text/html": [
       "<pre>Preparing data set.</pre>"
      ],
      "text/plain": [
       "Preparing data set."
      ]
     },
     "metadata": {},
     "output_type": "display_data"
    },
    {
     "data": {
      "text/html": [
       "<pre>    Data has 3323726 observations with 233286 users and 2000 items.</pre>"
      ],
      "text/plain": [
       "    Data has 3323726 observations with 233286 users and 2000 items."
      ]
     },
     "metadata": {},
     "output_type": "display_data"
    },
    {
     "data": {
      "text/html": [
       "<pre>    Data prepared in: 5.36324s</pre>"
      ],
      "text/plain": [
       "    Data prepared in: 5.36324s"
      ]
     },
     "metadata": {},
     "output_type": "display_data"
    },
    {
     "data": {
      "text/html": [
       "<pre>Training factorization_recommender for recommendations.</pre>"
      ],
      "text/plain": [
       "Training factorization_recommender for recommendations."
      ]
     },
     "metadata": {},
     "output_type": "display_data"
    },
    {
     "data": {
      "text/html": [
       "<pre>+--------------------------------+--------------------------------------------------+----------+</pre>"
      ],
      "text/plain": [
       "+--------------------------------+--------------------------------------------------+----------+"
      ]
     },
     "metadata": {},
     "output_type": "display_data"
    },
    {
     "data": {
      "text/html": [
       "<pre>| Parameter                      | Description                                      | Value    |</pre>"
      ],
      "text/plain": [
       "| Parameter                      | Description                                      | Value    |"
      ]
     },
     "metadata": {},
     "output_type": "display_data"
    },
    {
     "data": {
      "text/html": [
       "<pre>+--------------------------------+--------------------------------------------------+----------+</pre>"
      ],
      "text/plain": [
       "+--------------------------------+--------------------------------------------------+----------+"
      ]
     },
     "metadata": {},
     "output_type": "display_data"
    },
    {
     "data": {
      "text/html": [
       "<pre>| num_factors                    | Factor Dimension                                 | 5        |</pre>"
      ],
      "text/plain": [
       "| num_factors                    | Factor Dimension                                 | 5        |"
      ]
     },
     "metadata": {},
     "output_type": "display_data"
    },
    {
     "data": {
      "text/html": [
       "<pre>| regularization                 | L2 Regularization on Factors                     | 0.1      |</pre>"
      ],
      "text/plain": [
       "| regularization                 | L2 Regularization on Factors                     | 0.1      |"
      ]
     },
     "metadata": {},
     "output_type": "display_data"
    },
    {
     "data": {
      "text/html": [
       "<pre>| solver                         | Solver used for training                         | adagrad  |</pre>"
      ],
      "text/plain": [
       "| solver                         | Solver used for training                         | adagrad  |"
      ]
     },
     "metadata": {},
     "output_type": "display_data"
    },
    {
     "data": {
      "text/html": [
       "<pre>| linear_regularization          | L2 Regularization on Linear Coefficients         | 1e-10    |</pre>"
      ],
      "text/plain": [
       "| linear_regularization          | L2 Regularization on Linear Coefficients         | 1e-10    |"
      ]
     },
     "metadata": {},
     "output_type": "display_data"
    },
    {
     "data": {
      "text/html": [
       "<pre>| side_data_factorization        | Assign Factors for Side Data                     | True     |</pre>"
      ],
      "text/plain": [
       "| side_data_factorization        | Assign Factors for Side Data                     | True     |"
      ]
     },
     "metadata": {},
     "output_type": "display_data"
    },
    {
     "data": {
      "text/html": [
       "<pre>| max_iterations                 | Maximum Number of Iterations                     | 50       |</pre>"
      ],
      "text/plain": [
       "| max_iterations                 | Maximum Number of Iterations                     | 50       |"
      ]
     },
     "metadata": {},
     "output_type": "display_data"
    },
    {
     "data": {
      "text/html": [
       "<pre>+--------------------------------+--------------------------------------------------+----------+</pre>"
      ],
      "text/plain": [
       "+--------------------------------+--------------------------------------------------+----------+"
      ]
     },
     "metadata": {},
     "output_type": "display_data"
    },
    {
     "data": {
      "text/html": [
       "<pre>  Optimizing model using SGD; tuning step size.</pre>"
      ],
      "text/plain": [
       "  Optimizing model using SGD; tuning step size."
      ]
     },
     "metadata": {},
     "output_type": "display_data"
    },
    {
     "data": {
      "text/html": [
       "<pre>  Using 415465 / 3323726 points for tuning the step size.</pre>"
      ],
      "text/plain": [
       "  Using 415465 / 3323726 points for tuning the step size."
      ]
     },
     "metadata": {},
     "output_type": "display_data"
    },
    {
     "data": {
      "text/html": [
       "<pre>+---------+-------------------+------------------------------------------+</pre>"
      ],
      "text/plain": [
       "+---------+-------------------+------------------------------------------+"
      ]
     },
     "metadata": {},
     "output_type": "display_data"
    },
    {
     "data": {
      "text/html": [
       "<pre>| Attempt | Initial Step Size | Estimated Objective Value                |</pre>"
      ],
      "text/plain": [
       "| Attempt | Initial Step Size | Estimated Objective Value                |"
      ]
     },
     "metadata": {},
     "output_type": "display_data"
    },
    {
     "data": {
      "text/html": [
       "<pre>+---------+-------------------+------------------------------------------+</pre>"
      ],
      "text/plain": [
       "+---------+-------------------+------------------------------------------+"
      ]
     },
     "metadata": {},
     "output_type": "display_data"
    },
    {
     "data": {
      "text/html": [
       "<pre>| 0       | 0.000221685       | 647654                                   |</pre>"
      ],
      "text/plain": [
       "| 0       | 0.000221685       | 647654                                   |"
      ]
     },
     "metadata": {},
     "output_type": "display_data"
    },
    {
     "data": {
      "text/html": [
       "<pre>| 1       | 0.000110842       | 647656                                   |</pre>"
      ],
      "text/plain": [
       "| 1       | 0.000110842       | 647656                                   |"
      ]
     },
     "metadata": {},
     "output_type": "display_data"
    },
    {
     "data": {
      "text/html": [
       "<pre>| 2       | 5.54212e-05       | 647656                                   |</pre>"
      ],
      "text/plain": [
       "| 2       | 5.54212e-05       | 647656                                   |"
      ]
     },
     "metadata": {},
     "output_type": "display_data"
    },
    {
     "data": {
      "text/html": [
       "<pre>| 3       | 2.77106e-05       | 647657                                   |</pre>"
      ],
      "text/plain": [
       "| 3       | 2.77106e-05       | 647657                                   |"
      ]
     },
     "metadata": {},
     "output_type": "display_data"
    },
    {
     "data": {
      "text/html": [
       "<pre>+---------+-------------------+------------------------------------------+</pre>"
      ],
      "text/plain": [
       "+---------+-------------------+------------------------------------------+"
      ]
     },
     "metadata": {},
     "output_type": "display_data"
    },
    {
     "data": {
      "text/html": [
       "<pre>| Final   | 0.000221685       | 647654                                   |</pre>"
      ],
      "text/plain": [
       "| Final   | 0.000221685       | 647654                                   |"
      ]
     },
     "metadata": {},
     "output_type": "display_data"
    },
    {
     "data": {
      "text/html": [
       "<pre>+---------+-------------------+------------------------------------------+</pre>"
      ],
      "text/plain": [
       "+---------+-------------------+------------------------------------------+"
      ]
     },
     "metadata": {},
     "output_type": "display_data"
    },
    {
     "data": {
      "text/html": [
       "<pre>Starting Optimization.</pre>"
      ],
      "text/plain": [
       "Starting Optimization."
      ]
     },
     "metadata": {},
     "output_type": "display_data"
    },
    {
     "data": {
      "text/html": [
       "<pre>+---------+--------------+-------------------+-----------------------+-------------+</pre>"
      ],
      "text/plain": [
       "+---------+--------------+-------------------+-----------------------+-------------+"
      ]
     },
     "metadata": {},
     "output_type": "display_data"
    },
    {
     "data": {
      "text/html": [
       "<pre>| Iter.   | Elapsed Time | Approx. Objective | Approx. Training RMSE | Step Size   |</pre>"
      ],
      "text/plain": [
       "| Iter.   | Elapsed Time | Approx. Objective | Approx. Training RMSE | Step Size   |"
      ]
     },
     "metadata": {},
     "output_type": "display_data"
    },
    {
     "data": {
      "text/html": [
       "<pre>+---------+--------------+-------------------+-----------------------+-------------+</pre>"
      ],
      "text/plain": [
       "+---------+--------------+-------------------+-----------------------+-------------+"
      ]
     },
     "metadata": {},
     "output_type": "display_data"
    },
    {
     "data": {
      "text/html": [
       "<pre>| Initial | 71us         | 531798            | 729.245               |             |</pre>"
      ],
      "text/plain": [
       "| Initial | 71us         | 531798            | 729.245               |             |"
      ]
     },
     "metadata": {},
     "output_type": "display_data"
    },
    {
     "data": {
      "text/html": [
       "<pre>+---------+--------------+-------------------+-----------------------+-------------+</pre>"
      ],
      "text/plain": [
       "+---------+--------------+-------------------+-----------------------+-------------+"
      ]
     },
     "metadata": {},
     "output_type": "display_data"
    },
    {
     "data": {
      "text/html": [
       "<pre>| 1       | 4.16s        | 531795            | 729.243               | 0.000221685 |</pre>"
      ],
      "text/plain": [
       "| 1       | 4.16s        | 531795            | 729.243               | 0.000221685 |"
      ]
     },
     "metadata": {},
     "output_type": "display_data"
    },
    {
     "data": {
      "text/html": [
       "<pre>| 2       | 7.00s        | 531793            | 729.242               | 0.000221685 |</pre>"
      ],
      "text/plain": [
       "| 2       | 7.00s        | 531793            | 729.242               | 0.000221685 |"
      ]
     },
     "metadata": {},
     "output_type": "display_data"
    },
    {
     "data": {
      "text/html": [
       "<pre>| 3       | 9.74s        | 531792            | 729.241               | 0.000221685 |</pre>"
      ],
      "text/plain": [
       "| 3       | 9.74s        | 531792            | 729.241               | 0.000221685 |"
      ]
     },
     "metadata": {},
     "output_type": "display_data"
    },
    {
     "data": {
      "text/html": [
       "<pre>| 4       | 11.88s       | 531791            | 729.24                | 0.000221685 |</pre>"
      ],
      "text/plain": [
       "| 4       | 11.88s       | 531791            | 729.24                | 0.000221685 |"
      ]
     },
     "metadata": {},
     "output_type": "display_data"
    },
    {
     "data": {
      "text/html": [
       "<pre>+---------+--------------+-------------------+-----------------------+-------------+</pre>"
      ],
      "text/plain": [
       "+---------+--------------+-------------------+-----------------------+-------------+"
      ]
     },
     "metadata": {},
     "output_type": "display_data"
    },
    {
     "data": {
      "text/html": [
       "<pre>Optimization Complete: Convergence on objective within bounds.</pre>"
      ],
      "text/plain": [
       "Optimization Complete: Convergence on objective within bounds."
      ]
     },
     "metadata": {},
     "output_type": "display_data"
    },
    {
     "data": {
      "text/html": [
       "<pre>Computing final objective value and training RMSE.</pre>"
      ],
      "text/plain": [
       "Computing final objective value and training RMSE."
      ]
     },
     "metadata": {},
     "output_type": "display_data"
    },
    {
     "data": {
      "text/html": [
       "<pre>       Final objective value: 531791</pre>"
      ],
      "text/plain": [
       "       Final objective value: 531791"
      ]
     },
     "metadata": {},
     "output_type": "display_data"
    },
    {
     "data": {
      "text/html": [
       "<pre>       Final training RMSE: 729.24</pre>"
      ],
      "text/plain": [
       "       Final training RMSE: 729.24"
      ]
     },
     "metadata": {},
     "output_type": "display_data"
    },
    {
     "data": {
      "text/html": [
       "<pre>Recsys training: model = factorization_recommender</pre>"
      ],
      "text/plain": [
       "Recsys training: model = factorization_recommender"
      ]
     },
     "metadata": {},
     "output_type": "display_data"
    },
    {
     "data": {
      "text/html": [
       "<pre>Preparing data set.</pre>"
      ],
      "text/plain": [
       "Preparing data set."
      ]
     },
     "metadata": {},
     "output_type": "display_data"
    },
    {
     "data": {
      "text/html": [
       "<pre>    Data has 3323726 observations with 233286 users and 2000 items.</pre>"
      ],
      "text/plain": [
       "    Data has 3323726 observations with 233286 users and 2000 items."
      ]
     },
     "metadata": {},
     "output_type": "display_data"
    },
    {
     "data": {
      "text/html": [
       "<pre>    Data prepared in: 7.20953s</pre>"
      ],
      "text/plain": [
       "    Data prepared in: 7.20953s"
      ]
     },
     "metadata": {},
     "output_type": "display_data"
    },
    {
     "data": {
      "text/html": [
       "<pre>Training factorization_recommender for recommendations.</pre>"
      ],
      "text/plain": [
       "Training factorization_recommender for recommendations."
      ]
     },
     "metadata": {},
     "output_type": "display_data"
    },
    {
     "data": {
      "text/html": [
       "<pre>+--------------------------------+--------------------------------------------------+----------+</pre>"
      ],
      "text/plain": [
       "+--------------------------------+--------------------------------------------------+----------+"
      ]
     },
     "metadata": {},
     "output_type": "display_data"
    },
    {
     "data": {
      "text/html": [
       "<pre>| Parameter                      | Description                                      | Value    |</pre>"
      ],
      "text/plain": [
       "| Parameter                      | Description                                      | Value    |"
      ]
     },
     "metadata": {},
     "output_type": "display_data"
    },
    {
     "data": {
      "text/html": [
       "<pre>+--------------------------------+--------------------------------------------------+----------+</pre>"
      ],
      "text/plain": [
       "+--------------------------------+--------------------------------------------------+----------+"
      ]
     },
     "metadata": {},
     "output_type": "display_data"
    },
    {
     "data": {
      "text/html": [
       "<pre>| num_factors                    | Factor Dimension                                 | 5        |</pre>"
      ],
      "text/plain": [
       "| num_factors                    | Factor Dimension                                 | 5        |"
      ]
     },
     "metadata": {},
     "output_type": "display_data"
    },
    {
     "data": {
      "text/html": [
       "<pre>| regularization                 | L2 Regularization on Factors                     | 0.001    |</pre>"
      ],
      "text/plain": [
       "| regularization                 | L2 Regularization on Factors                     | 0.001    |"
      ]
     },
     "metadata": {},
     "output_type": "display_data"
    },
    {
     "data": {
      "text/html": [
       "<pre>| solver                         | Solver used for training                         | adagrad  |</pre>"
      ],
      "text/plain": [
       "| solver                         | Solver used for training                         | adagrad  |"
      ]
     },
     "metadata": {},
     "output_type": "display_data"
    },
    {
     "data": {
      "text/html": [
       "<pre>| linear_regularization          | L2 Regularization on Linear Coefficients         | 1e-10    |</pre>"
      ],
      "text/plain": [
       "| linear_regularization          | L2 Regularization on Linear Coefficients         | 1e-10    |"
      ]
     },
     "metadata": {},
     "output_type": "display_data"
    },
    {
     "data": {
      "text/html": [
       "<pre>| side_data_factorization        | Assign Factors for Side Data                     | True     |</pre>"
      ],
      "text/plain": [
       "| side_data_factorization        | Assign Factors for Side Data                     | True     |"
      ]
     },
     "metadata": {},
     "output_type": "display_data"
    },
    {
     "data": {
      "text/html": [
       "<pre>| max_iterations                 | Maximum Number of Iterations                     | 50       |</pre>"
      ],
      "text/plain": [
       "| max_iterations                 | Maximum Number of Iterations                     | 50       |"
      ]
     },
     "metadata": {},
     "output_type": "display_data"
    },
    {
     "data": {
      "text/html": [
       "<pre>+--------------------------------+--------------------------------------------------+----------+</pre>"
      ],
      "text/plain": [
       "+--------------------------------+--------------------------------------------------+----------+"
      ]
     },
     "metadata": {},
     "output_type": "display_data"
    },
    {
     "data": {
      "text/html": [
       "<pre>  Optimizing model using SGD; tuning step size.</pre>"
      ],
      "text/plain": [
       "  Optimizing model using SGD; tuning step size."
      ]
     },
     "metadata": {},
     "output_type": "display_data"
    },
    {
     "data": {
      "text/html": [
       "<pre>  Using 415465 / 3323726 points for tuning the step size.</pre>"
      ],
      "text/plain": [
       "  Using 415465 / 3323726 points for tuning the step size."
      ]
     },
     "metadata": {},
     "output_type": "display_data"
    },
    {
     "data": {
      "text/html": [
       "<pre>+---------+-------------------+------------------------------------------+</pre>"
      ],
      "text/plain": [
       "+---------+-------------------+------------------------------------------+"
      ]
     },
     "metadata": {},
     "output_type": "display_data"
    },
    {
     "data": {
      "text/html": [
       "<pre>| Attempt | Initial Step Size | Estimated Objective Value                |</pre>"
      ],
      "text/plain": [
       "| Attempt | Initial Step Size | Estimated Objective Value                |"
      ]
     },
     "metadata": {},
     "output_type": "display_data"
    },
    {
     "data": {
      "text/html": [
       "<pre>+---------+-------------------+------------------------------------------+</pre>"
      ],
      "text/plain": [
       "+---------+-------------------+------------------------------------------+"
      ]
     },
     "metadata": {},
     "output_type": "display_data"
    },
    {
     "data": {
      "text/html": [
       "<pre>| 0       | 0.0221685         | 441378                                   |</pre>"
      ],
      "text/plain": [
       "| 0       | 0.0221685         | 441378                                   |"
      ]
     },
     "metadata": {},
     "output_type": "display_data"
    },
    {
     "data": {
      "text/html": [
       "<pre>| 1       | 0.0110842         | 441605                                   |</pre>"
      ],
      "text/plain": [
       "| 1       | 0.0110842         | 441605                                   |"
      ]
     },
     "metadata": {},
     "output_type": "display_data"
    },
    {
     "data": {
      "text/html": [
       "<pre>| 2       | 0.00554212        | 441896                                   |</pre>"
      ],
      "text/plain": [
       "| 2       | 0.00554212        | 441896                                   |"
      ]
     },
     "metadata": {},
     "output_type": "display_data"
    },
    {
     "data": {
      "text/html": [
       "<pre>| 3       | 0.00277106        | 442031                                   |</pre>"
      ],
      "text/plain": [
       "| 3       | 0.00277106        | 442031                                   |"
      ]
     },
     "metadata": {},
     "output_type": "display_data"
    },
    {
     "data": {
      "text/html": [
       "<pre>+---------+-------------------+------------------------------------------+</pre>"
      ],
      "text/plain": [
       "+---------+-------------------+------------------------------------------+"
      ]
     },
     "metadata": {},
     "output_type": "display_data"
    },
    {
     "data": {
      "text/html": [
       "<pre>| Final   | 0.0221685         | 441378                                   |</pre>"
      ],
      "text/plain": [
       "| Final   | 0.0221685         | 441378                                   |"
      ]
     },
     "metadata": {},
     "output_type": "display_data"
    },
    {
     "data": {
      "text/html": [
       "<pre>+---------+-------------------+------------------------------------------+</pre>"
      ],
      "text/plain": [
       "+---------+-------------------+------------------------------------------+"
      ]
     },
     "metadata": {},
     "output_type": "display_data"
    },
    {
     "data": {
      "text/html": [
       "<pre>Starting Optimization.</pre>"
      ],
      "text/plain": [
       "Starting Optimization."
      ]
     },
     "metadata": {},
     "output_type": "display_data"
    },
    {
     "data": {
      "text/html": [
       "<pre>+---------+--------------+-------------------+-----------------------+-------------+</pre>"
      ],
      "text/plain": [
       "+---------+--------------+-------------------+-----------------------+-------------+"
      ]
     },
     "metadata": {},
     "output_type": "display_data"
    },
    {
     "data": {
      "text/html": [
       "<pre>| Iter.   | Elapsed Time | Approx. Objective | Approx. Training RMSE | Step Size   |</pre>"
      ],
      "text/plain": [
       "| Iter.   | Elapsed Time | Approx. Objective | Approx. Training RMSE | Step Size   |"
      ]
     },
     "metadata": {},
     "output_type": "display_data"
    },
    {
     "data": {
      "text/html": [
       "<pre>+---------+--------------+-------------------+-----------------------+-------------+</pre>"
      ],
      "text/plain": [
       "+---------+--------------+-------------------+-----------------------+-------------+"
      ]
     },
     "metadata": {},
     "output_type": "display_data"
    },
    {
     "data": {
      "text/html": [
       "<pre>| Initial | 77us         | 531798            | 729.245               |             |</pre>"
      ],
      "text/plain": [
       "| Initial | 77us         | 531798            | 729.245               |             |"
      ]
     },
     "metadata": {},
     "output_type": "display_data"
    },
    {
     "data": {
      "text/html": [
       "<pre>+---------+--------------+-------------------+-----------------------+-------------+</pre>"
      ],
      "text/plain": [
       "+---------+--------------+-------------------+-----------------------+-------------+"
      ]
     },
     "metadata": {},
     "output_type": "display_data"
    },
    {
     "data": {
      "text/html": [
       "<pre>| 1       | 1.95s        | 531563            | 729.084               | 0.0221685   |</pre>"
      ],
      "text/plain": [
       "| 1       | 1.95s        | 531563            | 729.084               | 0.0221685   |"
      ]
     },
     "metadata": {},
     "output_type": "display_data"
    },
    {
     "data": {
      "text/html": [
       "<pre>| 2       | 4.08s        | 531214            | 728.839               | 0.0221685   |</pre>"
      ],
      "text/plain": [
       "| 2       | 4.08s        | 531214            | 728.839               | 0.0221685   |"
      ]
     },
     "metadata": {},
     "output_type": "display_data"
    },
    {
     "data": {
      "text/html": [
       "<pre>| 3       | 6.33s        | 531187            | 728.819               | 0.0221685   |</pre>"
      ],
      "text/plain": [
       "| 3       | 6.33s        | 531187            | 728.819               | 0.0221685   |"
      ]
     },
     "metadata": {},
     "output_type": "display_data"
    },
    {
     "data": {
      "text/html": [
       "<pre>| 4       | 9.21s        | 531259            | 728.868               | 0.0221685   |</pre>"
      ],
      "text/plain": [
       "| 4       | 9.21s        | 531259            | 728.868               | 0.0221685   |"
      ]
     },
     "metadata": {},
     "output_type": "display_data"
    },
    {
     "data": {
      "text/html": [
       "<pre>| 5       | 11.97s       | 531304            | 728.898               | 0.0221685   |</pre>"
      ],
      "text/plain": [
       "| 5       | 11.97s       | 531304            | 728.898               | 0.0221685   |"
      ]
     },
     "metadata": {},
     "output_type": "display_data"
    },
    {
     "data": {
      "text/html": [
       "<pre>| 6       | 14.99s       | 531276            | 728.878               | 0.0221685   |</pre>"
      ],
      "text/plain": [
       "| 6       | 14.99s       | 531276            | 728.878               | 0.0221685   |"
      ]
     },
     "metadata": {},
     "output_type": "display_data"
    },
    {
     "data": {
      "text/html": [
       "<pre>| 7       | 17.02s       | 531238            | 728.852               | 0.0221685   |</pre>"
      ],
      "text/plain": [
       "| 7       | 17.02s       | 531238            | 728.852               | 0.0221685   |"
      ]
     },
     "metadata": {},
     "output_type": "display_data"
    },
    {
     "data": {
      "text/html": [
       "<pre>| 8       | 18.85s       | 531159            | 728.797               | 0.0221685   |</pre>"
      ],
      "text/plain": [
       "| 8       | 18.85s       | 531159            | 728.797               | 0.0221685   |"
      ]
     },
     "metadata": {},
     "output_type": "display_data"
    },
    {
     "data": {
      "text/html": [
       "<pre>| 9       | 20.63s       | 531070            | 728.736               | 0.0221685   |</pre>"
      ],
      "text/plain": [
       "| 9       | 20.63s       | 531070            | 728.736               | 0.0221685   |"
      ]
     },
     "metadata": {},
     "output_type": "display_data"
    },
    {
     "data": {
      "text/html": [
       "<pre>| 10      | 22.71s       | 530972            | 728.669               | 0.0221685   |</pre>"
      ],
      "text/plain": [
       "| 10      | 22.71s       | 530972            | 728.669               | 0.0221685   |"
      ]
     },
     "metadata": {},
     "output_type": "display_data"
    },
    {
     "data": {
      "text/html": [
       "<pre>| 11      | 25.15s       | 530870            | 728.598               | 0.0221685   |</pre>"
      ],
      "text/plain": [
       "| 11      | 25.15s       | 530870            | 728.598               | 0.0221685   |"
      ]
     },
     "metadata": {},
     "output_type": "display_data"
    },
    {
     "data": {
      "text/html": [
       "<pre>| 12      | 27.99s       | 530750            | 728.516               | 0.0221685   |</pre>"
      ],
      "text/plain": [
       "| 12      | 27.99s       | 530750            | 728.516               | 0.0221685   |"
      ]
     },
     "metadata": {},
     "output_type": "display_data"
    },
    {
     "data": {
      "text/html": [
       "<pre>| 13      | 30.29s       | 530639            | 728.44                | 0.0221685   |</pre>"
      ],
      "text/plain": [
       "| 13      | 30.29s       | 530639            | 728.44                | 0.0221685   |"
      ]
     },
     "metadata": {},
     "output_type": "display_data"
    },
    {
     "data": {
      "text/html": [
       "<pre>| 14      | 32.82s       | 530521            | 728.358               | 0.0221685   |</pre>"
      ],
      "text/plain": [
       "| 14      | 32.82s       | 530521            | 728.358               | 0.0221685   |"
      ]
     },
     "metadata": {},
     "output_type": "display_data"
    },
    {
     "data": {
      "text/html": [
       "<pre>| 15      | 34.88s       | 530405            | 728.278               | 0.0221685   |</pre>"
      ],
      "text/plain": [
       "| 15      | 34.88s       | 530405            | 728.278               | 0.0221685   |"
      ]
     },
     "metadata": {},
     "output_type": "display_data"
    },
    {
     "data": {
      "text/html": [
       "<pre>| 16      | 36.89s       | 530279            | 728.192               | 0.0221685   |</pre>"
      ],
      "text/plain": [
       "| 16      | 36.89s       | 530279            | 728.192               | 0.0221685   |"
      ]
     },
     "metadata": {},
     "output_type": "display_data"
    },
    {
     "data": {
      "text/html": [
       "<pre>| 17      | 39.10s       | 530163            | 728.112               | 0.0221685   |</pre>"
      ],
      "text/plain": [
       "| 17      | 39.10s       | 530163            | 728.112               | 0.0221685   |"
      ]
     },
     "metadata": {},
     "output_type": "display_data"
    },
    {
     "data": {
      "text/html": [
       "<pre>| 18      | 41.04s       | 530037            | 728.025               | 0.0221685   |</pre>"
      ],
      "text/plain": [
       "| 18      | 41.04s       | 530037            | 728.025               | 0.0221685   |"
      ]
     },
     "metadata": {},
     "output_type": "display_data"
    },
    {
     "data": {
      "text/html": [
       "<pre>| 19      | 43.04s       | 529914            | 727.941               | 0.0221685   |</pre>"
      ],
      "text/plain": [
       "| 19      | 43.04s       | 529914            | 727.941               | 0.0221685   |"
      ]
     },
     "metadata": {},
     "output_type": "display_data"
    },
    {
     "data": {
      "text/html": [
       "<pre>| 20      | 45.03s       | 529792            | 727.857               | 0.0221685   |</pre>"
      ],
      "text/plain": [
       "| 20      | 45.03s       | 529792            | 727.857               | 0.0221685   |"
      ]
     },
     "metadata": {},
     "output_type": "display_data"
    },
    {
     "data": {
      "text/html": [
       "<pre>| 21      | 47.27s       | 529668            | 727.771               | 0.0221685   |</pre>"
      ],
      "text/plain": [
       "| 21      | 47.27s       | 529668            | 727.771               | 0.0221685   |"
      ]
     },
     "metadata": {},
     "output_type": "display_data"
    },
    {
     "data": {
      "text/html": [
       "<pre>| 22      | 49.40s       | 529545            | 727.686               | 0.0221685   |</pre>"
      ],
      "text/plain": [
       "| 22      | 49.40s       | 529545            | 727.686               | 0.0221685   |"
      ]
     },
     "metadata": {},
     "output_type": "display_data"
    },
    {
     "data": {
      "text/html": [
       "<pre>| 23      | 52.15s       | 529424            | 727.603               | 0.0221685   |</pre>"
      ],
      "text/plain": [
       "| 23      | 52.15s       | 529424            | 727.603               | 0.0221685   |"
      ]
     },
     "metadata": {},
     "output_type": "display_data"
    },
    {
     "data": {
      "text/html": [
       "<pre>| 24      | 55.33s       | 529305            | 727.522               | 0.0221685   |</pre>"
      ],
      "text/plain": [
       "| 24      | 55.33s       | 529305            | 727.522               | 0.0221685   |"
      ]
     },
     "metadata": {},
     "output_type": "display_data"
    },
    {
     "data": {
      "text/html": [
       "<pre>| 25      | 58.29s       | 529188            | 727.441               | 0.0221685   |</pre>"
      ],
      "text/plain": [
       "| 25      | 58.29s       | 529188            | 727.441               | 0.0221685   |"
      ]
     },
     "metadata": {},
     "output_type": "display_data"
    },
    {
     "data": {
      "text/html": [
       "<pre>| 26      | 1m 0s        | 529073            | 727.361               | 0.0221685   |</pre>"
      ],
      "text/plain": [
       "| 26      | 1m 0s        | 529073            | 727.361               | 0.0221685   |"
      ]
     },
     "metadata": {},
     "output_type": "display_data"
    },
    {
     "data": {
      "text/html": [
       "<pre>| 27      | 1m 4s        | 528956            | 727.281               | 0.0221685   |</pre>"
      ],
      "text/plain": [
       "| 27      | 1m 4s        | 528956            | 727.281               | 0.0221685   |"
      ]
     },
     "metadata": {},
     "output_type": "display_data"
    },
    {
     "data": {
      "text/html": [
       "<pre>| 28      | 1m 6s        | 528847            | 727.206               | 0.0221685   |</pre>"
      ],
      "text/plain": [
       "| 28      | 1m 6s        | 528847            | 727.206               | 0.0221685   |"
      ]
     },
     "metadata": {},
     "output_type": "display_data"
    },
    {
     "data": {
      "text/html": [
       "<pre>| 29      | 1m 9s        | 528735            | 727.129               | 0.0221685   |</pre>"
      ],
      "text/plain": [
       "| 29      | 1m 9s        | 528735            | 727.129               | 0.0221685   |"
      ]
     },
     "metadata": {},
     "output_type": "display_data"
    },
    {
     "data": {
      "text/html": [
       "<pre>| 30      | 1m 12s       | 528628            | 727.055               | 0.0221685   |</pre>"
      ],
      "text/plain": [
       "| 30      | 1m 12s       | 528628            | 727.055               | 0.0221685   |"
      ]
     },
     "metadata": {},
     "output_type": "display_data"
    },
    {
     "data": {
      "text/html": [
       "<pre>| 31      | 1m 14s       | 528523            | 726.982               | 0.0221685   |</pre>"
      ],
      "text/plain": [
       "| 31      | 1m 14s       | 528523            | 726.982               | 0.0221685   |"
      ]
     },
     "metadata": {},
     "output_type": "display_data"
    },
    {
     "data": {
      "text/html": [
       "<pre>| 32      | 1m 16s       | 528420            | 726.911               | 0.0221685   |</pre>"
      ],
      "text/plain": [
       "| 32      | 1m 16s       | 528420            | 726.911               | 0.0221685   |"
      ]
     },
     "metadata": {},
     "output_type": "display_data"
    },
    {
     "data": {
      "text/html": [
       "<pre>| 33      | 1m 19s       | 528318            | 726.841               | 0.0221685   |</pre>"
      ],
      "text/plain": [
       "| 33      | 1m 19s       | 528318            | 726.841               | 0.0221685   |"
      ]
     },
     "metadata": {},
     "output_type": "display_data"
    },
    {
     "data": {
      "text/html": [
       "<pre>| 34      | 1m 21s       | 528220            | 726.774               | 0.0221685   |</pre>"
      ],
      "text/plain": [
       "| 34      | 1m 21s       | 528220            | 726.774               | 0.0221685   |"
      ]
     },
     "metadata": {},
     "output_type": "display_data"
    },
    {
     "data": {
      "text/html": [
       "<pre>| 35      | 1m 24s       | 528123            | 726.707               | 0.0221685   |</pre>"
      ],
      "text/plain": [
       "| 35      | 1m 24s       | 528123            | 726.707               | 0.0221685   |"
      ]
     },
     "metadata": {},
     "output_type": "display_data"
    },
    {
     "data": {
      "text/html": [
       "<pre>| 36      | 1m 26s       | 528030            | 726.643               | 0.0221685   |</pre>"
      ],
      "text/plain": [
       "| 36      | 1m 26s       | 528030            | 726.643               | 0.0221685   |"
      ]
     },
     "metadata": {},
     "output_type": "display_data"
    },
    {
     "data": {
      "text/html": [
       "<pre>| 37      | 1m 29s       | 527938            | 726.579               | 0.0221685   |</pre>"
      ],
      "text/plain": [
       "| 37      | 1m 29s       | 527938            | 726.579               | 0.0221685   |"
      ]
     },
     "metadata": {},
     "output_type": "display_data"
    },
    {
     "data": {
      "text/html": [
       "<pre>| 38      | 1m 31s       | 527848            | 726.517               | 0.0221685   |</pre>"
      ],
      "text/plain": [
       "| 38      | 1m 31s       | 527848            | 726.517               | 0.0221685   |"
      ]
     },
     "metadata": {},
     "output_type": "display_data"
    },
    {
     "data": {
      "text/html": [
       "<pre>| 39      | 1m 33s       | 527761            | 726.457               | 0.0221685   |</pre>"
      ],
      "text/plain": [
       "| 39      | 1m 33s       | 527761            | 726.457               | 0.0221685   |"
      ]
     },
     "metadata": {},
     "output_type": "display_data"
    },
    {
     "data": {
      "text/html": [
       "<pre>| 40      | 1m 35s       | 527675            | 726.398               | 0.0221685   |</pre>"
      ],
      "text/plain": [
       "| 40      | 1m 35s       | 527675            | 726.398               | 0.0221685   |"
      ]
     },
     "metadata": {},
     "output_type": "display_data"
    },
    {
     "data": {
      "text/html": [
       "<pre>| 41      | 1m 37s       | 527592            | 726.341               | 0.0221685   |</pre>"
      ],
      "text/plain": [
       "| 41      | 1m 37s       | 527592            | 726.341               | 0.0221685   |"
      ]
     },
     "metadata": {},
     "output_type": "display_data"
    },
    {
     "data": {
      "text/html": [
       "<pre>| 42      | 1m 41s       | 527511            | 726.284               | 0.0221685   |</pre>"
      ],
      "text/plain": [
       "| 42      | 1m 41s       | 527511            | 726.284               | 0.0221685   |"
      ]
     },
     "metadata": {},
     "output_type": "display_data"
    },
    {
     "data": {
      "text/html": [
       "<pre>| 43      | 1m 43s       | 527431            | 726.229               | 0.0221685   |</pre>"
      ],
      "text/plain": [
       "| 43      | 1m 43s       | 527431            | 726.229               | 0.0221685   |"
      ]
     },
     "metadata": {},
     "output_type": "display_data"
    },
    {
     "data": {
      "text/html": [
       "<pre>| 44      | 1m 46s       | 527353            | 726.176               | 0.0221685   |</pre>"
      ],
      "text/plain": [
       "| 44      | 1m 46s       | 527353            | 726.176               | 0.0221685   |"
      ]
     },
     "metadata": {},
     "output_type": "display_data"
    },
    {
     "data": {
      "text/html": [
       "<pre>| 45      | 1m 48s       | 527276            | 726.123               | 0.0221685   |</pre>"
      ],
      "text/plain": [
       "| 45      | 1m 48s       | 527276            | 726.123               | 0.0221685   |"
      ]
     },
     "metadata": {},
     "output_type": "display_data"
    },
    {
     "data": {
      "text/html": [
       "<pre>| 46      | 1m 50s       | 527201            | 726.071               | 0.0221685   |</pre>"
      ],
      "text/plain": [
       "| 46      | 1m 50s       | 527201            | 726.071               | 0.0221685   |"
      ]
     },
     "metadata": {},
     "output_type": "display_data"
    },
    {
     "data": {
      "text/html": [
       "<pre>| 47      | 1m 53s       | 527128            | 726.02                | 0.0221685   |</pre>"
      ],
      "text/plain": [
       "| 47      | 1m 53s       | 527128            | 726.02                | 0.0221685   |"
      ]
     },
     "metadata": {},
     "output_type": "display_data"
    },
    {
     "data": {
      "text/html": [
       "<pre>| 48      | 1m 56s       | 527057            | 725.971               | 0.0221685   |</pre>"
      ],
      "text/plain": [
       "| 48      | 1m 56s       | 527057            | 725.971               | 0.0221685   |"
      ]
     },
     "metadata": {},
     "output_type": "display_data"
    },
    {
     "data": {
      "text/html": [
       "<pre>| 49      | 1m 59s       | 526986            | 725.923               | 0.0221685   |</pre>"
      ],
      "text/plain": [
       "| 49      | 1m 59s       | 526986            | 725.923               | 0.0221685   |"
      ]
     },
     "metadata": {},
     "output_type": "display_data"
    },
    {
     "data": {
      "text/html": [
       "<pre>| 50      | 2m 2s        | 526918            | 725.875               | 0.0221685   |</pre>"
      ],
      "text/plain": [
       "| 50      | 2m 2s        | 526918            | 725.875               | 0.0221685   |"
      ]
     },
     "metadata": {},
     "output_type": "display_data"
    },
    {
     "data": {
      "text/html": [
       "<pre>+---------+--------------+-------------------+-----------------------+-------------+</pre>"
      ],
      "text/plain": [
       "+---------+--------------+-------------------+-----------------------+-------------+"
      ]
     },
     "metadata": {},
     "output_type": "display_data"
    },
    {
     "data": {
      "text/html": [
       "<pre>Optimization Complete: Maximum number of passes through the data reached.</pre>"
      ],
      "text/plain": [
       "Optimization Complete: Maximum number of passes through the data reached."
      ]
     },
     "metadata": {},
     "output_type": "display_data"
    },
    {
     "data": {
      "text/html": [
       "<pre>Computing final objective value and training RMSE.</pre>"
      ],
      "text/plain": [
       "Computing final objective value and training RMSE."
      ]
     },
     "metadata": {},
     "output_type": "display_data"
    },
    {
     "data": {
      "text/html": [
       "<pre>       Final objective value: 526866</pre>"
      ],
      "text/plain": [
       "       Final objective value: 526866"
      ]
     },
     "metadata": {},
     "output_type": "display_data"
    },
    {
     "data": {
      "text/html": [
       "<pre>       Final training RMSE: 725.84</pre>"
      ],
      "text/plain": [
       "       Final training RMSE: 725.84"
      ]
     },
     "metadata": {},
     "output_type": "display_data"
    },
    {
     "data": {
      "text/html": [
       "<pre>Recsys training: model = factorization_recommender</pre>"
      ],
      "text/plain": [
       "Recsys training: model = factorization_recommender"
      ]
     },
     "metadata": {},
     "output_type": "display_data"
    },
    {
     "data": {
      "text/html": [
       "<pre>Preparing data set.</pre>"
      ],
      "text/plain": [
       "Preparing data set."
      ]
     },
     "metadata": {},
     "output_type": "display_data"
    },
    {
     "data": {
      "text/html": [
       "<pre>    Data has 3323726 observations with 233286 users and 2000 items.</pre>"
      ],
      "text/plain": [
       "    Data has 3323726 observations with 233286 users and 2000 items."
      ]
     },
     "metadata": {},
     "output_type": "display_data"
    },
    {
     "data": {
      "text/html": [
       "<pre>    Data prepared in: 5.8829s</pre>"
      ],
      "text/plain": [
       "    Data prepared in: 5.8829s"
      ]
     },
     "metadata": {},
     "output_type": "display_data"
    },
    {
     "data": {
      "text/html": [
       "<pre>Training factorization_recommender for recommendations.</pre>"
      ],
      "text/plain": [
       "Training factorization_recommender for recommendations."
      ]
     },
     "metadata": {},
     "output_type": "display_data"
    },
    {
     "data": {
      "text/html": [
       "<pre>+--------------------------------+--------------------------------------------------+----------+</pre>"
      ],
      "text/plain": [
       "+--------------------------------+--------------------------------------------------+----------+"
      ]
     },
     "metadata": {},
     "output_type": "display_data"
    },
    {
     "data": {
      "text/html": [
       "<pre>| Parameter                      | Description                                      | Value    |</pre>"
      ],
      "text/plain": [
       "| Parameter                      | Description                                      | Value    |"
      ]
     },
     "metadata": {},
     "output_type": "display_data"
    },
    {
     "data": {
      "text/html": [
       "<pre>+--------------------------------+--------------------------------------------------+----------+</pre>"
      ],
      "text/plain": [
       "+--------------------------------+--------------------------------------------------+----------+"
      ]
     },
     "metadata": {},
     "output_type": "display_data"
    },
    {
     "data": {
      "text/html": [
       "<pre>| num_factors                    | Factor Dimension                                 | 5        |</pre>"
      ],
      "text/plain": [
       "| num_factors                    | Factor Dimension                                 | 5        |"
      ]
     },
     "metadata": {},
     "output_type": "display_data"
    },
    {
     "data": {
      "text/html": [
       "<pre>| regularization                 | L2 Regularization on Factors                     | 0.0001   |</pre>"
      ],
      "text/plain": [
       "| regularization                 | L2 Regularization on Factors                     | 0.0001   |"
      ]
     },
     "metadata": {},
     "output_type": "display_data"
    },
    {
     "data": {
      "text/html": [
       "<pre>| solver                         | Solver used for training                         | adagrad  |</pre>"
      ],
      "text/plain": [
       "| solver                         | Solver used for training                         | adagrad  |"
      ]
     },
     "metadata": {},
     "output_type": "display_data"
    },
    {
     "data": {
      "text/html": [
       "<pre>| linear_regularization          | L2 Regularization on Linear Coefficients         | 1e-10    |</pre>"
      ],
      "text/plain": [
       "| linear_regularization          | L2 Regularization on Linear Coefficients         | 1e-10    |"
      ]
     },
     "metadata": {},
     "output_type": "display_data"
    },
    {
     "data": {
      "text/html": [
       "<pre>| side_data_factorization        | Assign Factors for Side Data                     | True     |</pre>"
      ],
      "text/plain": [
       "| side_data_factorization        | Assign Factors for Side Data                     | True     |"
      ]
     },
     "metadata": {},
     "output_type": "display_data"
    },
    {
     "data": {
      "text/html": [
       "<pre>| max_iterations                 | Maximum Number of Iterations                     | 50       |</pre>"
      ],
      "text/plain": [
       "| max_iterations                 | Maximum Number of Iterations                     | 50       |"
      ]
     },
     "metadata": {},
     "output_type": "display_data"
    },
    {
     "data": {
      "text/html": [
       "<pre>+--------------------------------+--------------------------------------------------+----------+</pre>"
      ],
      "text/plain": [
       "+--------------------------------+--------------------------------------------------+----------+"
      ]
     },
     "metadata": {},
     "output_type": "display_data"
    },
    {
     "data": {
      "text/html": [
       "<pre>  Optimizing model using SGD; tuning step size.</pre>"
      ],
      "text/plain": [
       "  Optimizing model using SGD; tuning step size."
      ]
     },
     "metadata": {},
     "output_type": "display_data"
    },
    {
     "data": {
      "text/html": [
       "<pre>  Using 415465 / 3323726 points for tuning the step size.</pre>"
      ],
      "text/plain": [
       "  Using 415465 / 3323726 points for tuning the step size."
      ]
     },
     "metadata": {},
     "output_type": "display_data"
    },
    {
     "data": {
      "text/html": [
       "<pre>+---------+-------------------+------------------------------------------+</pre>"
      ],
      "text/plain": [
       "+---------+-------------------+------------------------------------------+"
      ]
     },
     "metadata": {},
     "output_type": "display_data"
    },
    {
     "data": {
      "text/html": [
       "<pre>| Attempt | Initial Step Size | Estimated Objective Value                |</pre>"
      ],
      "text/plain": [
       "| Attempt | Initial Step Size | Estimated Objective Value                |"
      ]
     },
     "metadata": {},
     "output_type": "display_data"
    },
    {
     "data": {
      "text/html": [
       "<pre>+---------+-------------------+------------------------------------------+</pre>"
      ],
      "text/plain": [
       "+---------+-------------------+------------------------------------------+"
      ]
     },
     "metadata": {},
     "output_type": "display_data"
    },
    {
     "data": {
      "text/html": [
       "<pre>| 0       | 0.221685          | 396043                                   |</pre>"
      ],
      "text/plain": [
       "| 0       | 0.221685          | 396043                                   |"
      ]
     },
     "metadata": {},
     "output_type": "display_data"
    },
    {
     "data": {
      "text/html": [
       "<pre>| 1       | 0.110842          | 396876                                   |</pre>"
      ],
      "text/plain": [
       "| 1       | 0.110842          | 396876                                   |"
      ]
     },
     "metadata": {},
     "output_type": "display_data"
    },
    {
     "data": {
      "text/html": [
       "<pre>| 2       | 0.0554212         | 399633                                   |</pre>"
      ],
      "text/plain": [
       "| 2       | 0.0554212         | 399633                                   |"
      ]
     },
     "metadata": {},
     "output_type": "display_data"
    },
    {
     "data": {
      "text/html": [
       "<pre>| 3       | 0.0277106         | 400429                                   |</pre>"
      ],
      "text/plain": [
       "| 3       | 0.0277106         | 400429                                   |"
      ]
     },
     "metadata": {},
     "output_type": "display_data"
    },
    {
     "data": {
      "text/html": [
       "<pre>+---------+-------------------+------------------------------------------+</pre>"
      ],
      "text/plain": [
       "+---------+-------------------+------------------------------------------+"
      ]
     },
     "metadata": {},
     "output_type": "display_data"
    },
    {
     "data": {
      "text/html": [
       "<pre>| Final   | 0.221685          | 396043                                   |</pre>"
      ],
      "text/plain": [
       "| Final   | 0.221685          | 396043                                   |"
      ]
     },
     "metadata": {},
     "output_type": "display_data"
    },
    {
     "data": {
      "text/html": [
       "<pre>+---------+-------------------+------------------------------------------+</pre>"
      ],
      "text/plain": [
       "+---------+-------------------+------------------------------------------+"
      ]
     },
     "metadata": {},
     "output_type": "display_data"
    },
    {
     "data": {
      "text/html": [
       "<pre>Starting Optimization.</pre>"
      ],
      "text/plain": [
       "Starting Optimization."
      ]
     },
     "metadata": {},
     "output_type": "display_data"
    },
    {
     "data": {
      "text/html": [
       "<pre>+---------+--------------+-------------------+-----------------------+-------------+</pre>"
      ],
      "text/plain": [
       "+---------+--------------+-------------------+-----------------------+-------------+"
      ]
     },
     "metadata": {},
     "output_type": "display_data"
    },
    {
     "data": {
      "text/html": [
       "<pre>| Iter.   | Elapsed Time | Approx. Objective | Approx. Training RMSE | Step Size   |</pre>"
      ],
      "text/plain": [
       "| Iter.   | Elapsed Time | Approx. Objective | Approx. Training RMSE | Step Size   |"
      ]
     },
     "metadata": {},
     "output_type": "display_data"
    },
    {
     "data": {
      "text/html": [
       "<pre>+---------+--------------+-------------------+-----------------------+-------------+</pre>"
      ],
      "text/plain": [
       "+---------+--------------+-------------------+-----------------------+-------------+"
      ]
     },
     "metadata": {},
     "output_type": "display_data"
    },
    {
     "data": {
      "text/html": [
       "<pre>| Initial | 71us         | 531798            | 729.245               |             |</pre>"
      ],
      "text/plain": [
       "| Initial | 71us         | 531798            | 729.245               |             |"
      ]
     },
     "metadata": {},
     "output_type": "display_data"
    },
    {
     "data": {
      "text/html": [
       "<pre>+---------+--------------+-------------------+-----------------------+-------------+</pre>"
      ],
      "text/plain": [
       "+---------+--------------+-------------------+-----------------------+-------------+"
      ]
     },
     "metadata": {},
     "output_type": "display_data"
    },
    {
     "data": {
      "text/html": [
       "<pre>| 1       | 2.03s        | 529788            | 727.865               | 0.221685    |</pre>"
      ],
      "text/plain": [
       "| 1       | 2.03s        | 529788            | 727.865               | 0.221685    |"
      ]
     },
     "metadata": {},
     "output_type": "display_data"
    },
    {
     "data": {
      "text/html": [
       "<pre>| 2       | 3.92s        | 529590            | 727.71                | 0.221685    |</pre>"
      ],
      "text/plain": [
       "| 2       | 3.92s        | 529590            | 727.71                | 0.221685    |"
      ]
     },
     "metadata": {},
     "output_type": "display_data"
    },
    {
     "data": {
      "text/html": [
       "<pre>| 3       | 5.65s        | 525010            | 724.555               | 0.221685    |</pre>"
      ],
      "text/plain": [
       "| 3       | 5.65s        | 525010            | 724.555               | 0.221685    |"
      ]
     },
     "metadata": {},
     "output_type": "display_data"
    },
    {
     "data": {
      "text/html": [
       "<pre>| 4       | 7.40s        | 522068            | 722.521               | 0.221685    |</pre>"
      ],
      "text/plain": [
       "| 4       | 7.40s        | 522068            | 722.521               | 0.221685    |"
      ]
     },
     "metadata": {},
     "output_type": "display_data"
    },
    {
     "data": {
      "text/html": [
       "<pre>| 5       | 9.12s        | 520249            | 721.26                | 0.221685    |</pre>"
      ],
      "text/plain": [
       "| 5       | 9.12s        | 520249            | 721.26                | 0.221685    |"
      ]
     },
     "metadata": {},
     "output_type": "display_data"
    },
    {
     "data": {
      "text/html": [
       "<pre>| 6       | 10.93s       | 519143            | 720.493               | 0.221685    |</pre>"
      ],
      "text/plain": [
       "| 6       | 10.93s       | 519143            | 720.493               | 0.221685    |"
      ]
     },
     "metadata": {},
     "output_type": "display_data"
    },
    {
     "data": {
      "text/html": [
       "<pre>| 7       | 12.66s       | 518239            | 719.865               | 0.221685    |</pre>"
      ],
      "text/plain": [
       "| 7       | 12.66s       | 518239            | 719.865               | 0.221685    |"
      ]
     },
     "metadata": {},
     "output_type": "display_data"
    },
    {
     "data": {
      "text/html": [
       "<pre>| 8       | 14.41s       | 517705            | 719.493               | 0.221685    |</pre>"
      ],
      "text/plain": [
       "| 8       | 14.41s       | 517705            | 719.493               | 0.221685    |"
      ]
     },
     "metadata": {},
     "output_type": "display_data"
    },
    {
     "data": {
      "text/html": [
       "<pre>| 9       | 16.11s       | 517244            | 719.172               | 0.221685    |</pre>"
      ],
      "text/plain": [
       "| 9       | 16.11s       | 517244            | 719.172               | 0.221685    |"
      ]
     },
     "metadata": {},
     "output_type": "display_data"
    },
    {
     "data": {
      "text/html": [
       "<pre>| 10      | 17.87s       | 516869            | 718.91                | 0.221685    |</pre>"
      ],
      "text/plain": [
       "| 10      | 17.87s       | 516869            | 718.91                | 0.221685    |"
      ]
     },
     "metadata": {},
     "output_type": "display_data"
    },
    {
     "data": {
      "text/html": [
       "<pre>| 11      | 19.63s       | 516508            | 718.659               | 0.221685    |</pre>"
      ],
      "text/plain": [
       "| 11      | 19.63s       | 516508            | 718.659               | 0.221685    |"
      ]
     },
     "metadata": {},
     "output_type": "display_data"
    },
    {
     "data": {
      "text/html": [
       "<pre>| 12      | 21.37s       | 516266            | 718.49                | 0.221685    |</pre>"
      ],
      "text/plain": [
       "| 12      | 21.37s       | 516266            | 718.49                | 0.221685    |"
      ]
     },
     "metadata": {},
     "output_type": "display_data"
    },
    {
     "data": {
      "text/html": [
       "<pre>| 13      | 23.08s       | 516099            | 718.374               | 0.221685    |</pre>"
      ],
      "text/plain": [
       "| 13      | 23.08s       | 516099            | 718.374               | 0.221685    |"
      ]
     },
     "metadata": {},
     "output_type": "display_data"
    },
    {
     "data": {
      "text/html": [
       "<pre>| 14      | 24.98s       | 516000            | 718.304               | 0.221685    |</pre>"
      ],
      "text/plain": [
       "| 14      | 24.98s       | 516000            | 718.304               | 0.221685    |"
      ]
     },
     "metadata": {},
     "output_type": "display_data"
    },
    {
     "data": {
      "text/html": [
       "<pre>| 15      | 27.25s       | 515901            | 718.235               | 0.221685    |</pre>"
      ],
      "text/plain": [
       "| 15      | 27.25s       | 515901            | 718.235               | 0.221685    |"
      ]
     },
     "metadata": {},
     "output_type": "display_data"
    },
    {
     "data": {
      "text/html": [
       "<pre>| 16      | 29.18s       | 515814            | 718.174               | 0.221685    |</pre>"
      ],
      "text/plain": [
       "| 16      | 29.18s       | 515814            | 718.174               | 0.221685    |"
      ]
     },
     "metadata": {},
     "output_type": "display_data"
    },
    {
     "data": {
      "text/html": [
       "<pre>| 17      | 31.01s       | 515794            | 718.16                | 0.221685    |</pre>"
      ],
      "text/plain": [
       "| 17      | 31.01s       | 515794            | 718.16                | 0.221685    |"
      ]
     },
     "metadata": {},
     "output_type": "display_data"
    },
    {
     "data": {
      "text/html": [
       "<pre>| 18      | 34.03s       | 515809            | 718.17                | 0.221685    |</pre>"
      ],
      "text/plain": [
       "| 18      | 34.03s       | 515809            | 718.17                | 0.221685    |"
      ]
     },
     "metadata": {},
     "output_type": "display_data"
    },
    {
     "data": {
      "text/html": [
       "<pre>| 19      | 36.03s       | 515718            | 718.107               | 0.221685    |</pre>"
      ],
      "text/plain": [
       "| 19      | 36.03s       | 515718            | 718.107               | 0.221685    |"
      ]
     },
     "metadata": {},
     "output_type": "display_data"
    },
    {
     "data": {
      "text/html": [
       "<pre>| 20      | 37.92s       | 515790            | 718.156               | 0.221685    |</pre>"
      ],
      "text/plain": [
       "| 20      | 37.92s       | 515790            | 718.156               | 0.221685    |"
      ]
     },
     "metadata": {},
     "output_type": "display_data"
    },
    {
     "data": {
      "text/html": [
       "<pre>| 21      | 39.94s       | 515765            | 718.138               | 0.221685    |</pre>"
      ],
      "text/plain": [
       "| 21      | 39.94s       | 515765            | 718.138               | 0.221685    |"
      ]
     },
     "metadata": {},
     "output_type": "display_data"
    },
    {
     "data": {
      "text/html": [
       "<pre>| 22      | 42.26s       | 515783            | 718.15                | 0.221685    |</pre>"
      ],
      "text/plain": [
       "| 22      | 42.26s       | 515783            | 718.15                | 0.221685    |"
      ]
     },
     "metadata": {},
     "output_type": "display_data"
    },
    {
     "data": {
      "text/html": [
       "<pre>| 23      | 44.02s       | 515787            | 718.153               | 0.221685    |</pre>"
      ],
      "text/plain": [
       "| 23      | 44.02s       | 515787            | 718.153               | 0.221685    |"
      ]
     },
     "metadata": {},
     "output_type": "display_data"
    },
    {
     "data": {
      "text/html": [
       "<pre>| 24      | 45.90s       | 515896            | 718.228               | 0.221685    |</pre>"
      ],
      "text/plain": [
       "| 24      | 45.90s       | 515896            | 718.228               | 0.221685    |"
      ]
     },
     "metadata": {},
     "output_type": "display_data"
    },
    {
     "data": {
      "text/html": [
       "<pre>| 25      | 47.79s       | 515786            | 718.152               | 0.221685    |</pre>"
      ],
      "text/plain": [
       "| 25      | 47.79s       | 515786            | 718.152               | 0.221685    |"
      ]
     },
     "metadata": {},
     "output_type": "display_data"
    },
    {
     "data": {
      "text/html": [
       "<pre>| 26      | 49.80s       | 515952            | 718.267               | 0.221685    |</pre>"
      ],
      "text/plain": [
       "| 26      | 49.80s       | 515952            | 718.267               | 0.221685    |"
      ]
     },
     "metadata": {},
     "output_type": "display_data"
    },
    {
     "data": {
      "text/html": [
       "<pre>| 27      | 51.84s       | 515903            | 718.233               | 0.221685    |</pre>"
      ],
      "text/plain": [
       "| 27      | 51.84s       | 515903            | 718.233               | 0.221685    |"
      ]
     },
     "metadata": {},
     "output_type": "display_data"
    },
    {
     "data": {
      "text/html": [
       "<pre>| 28      | 54.49s       | 515945            | 718.261               | 0.221685    |</pre>"
      ],
      "text/plain": [
       "| 28      | 54.49s       | 515945            | 718.261               | 0.221685    |"
      ]
     },
     "metadata": {},
     "output_type": "display_data"
    },
    {
     "data": {
      "text/html": [
       "<pre>| 29      | 57.92s       | 515974            | 718.281               | 0.221685    |</pre>"
      ],
      "text/plain": [
       "| 29      | 57.92s       | 515974            | 718.281               | 0.221685    |"
      ]
     },
     "metadata": {},
     "output_type": "display_data"
    },
    {
     "data": {
      "text/html": [
       "<pre>| 30      | 1m 0s        | 515948            | 718.263               | 0.221685    |</pre>"
      ],
      "text/plain": [
       "| 30      | 1m 0s        | 515948            | 718.263               | 0.221685    |"
      ]
     },
     "metadata": {},
     "output_type": "display_data"
    },
    {
     "data": {
      "text/html": [
       "<pre>| 31      | 1m 3s        | 515879            | 718.214               | 0.221685    |</pre>"
      ],
      "text/plain": [
       "| 31      | 1m 3s        | 515879            | 718.214               | 0.221685    |"
      ]
     },
     "metadata": {},
     "output_type": "display_data"
    },
    {
     "data": {
      "text/html": [
       "<pre>| 32      | 1m 5s        | 515794            | 718.155               | 0.221685    |</pre>"
      ],
      "text/plain": [
       "| 32      | 1m 5s        | 515794            | 718.155               | 0.221685    |"
      ]
     },
     "metadata": {},
     "output_type": "display_data"
    },
    {
     "data": {
      "text/html": [
       "<pre>| 33      | 1m 7s        | 515739            | 718.117               | 0.221685    |</pre>"
      ],
      "text/plain": [
       "| 33      | 1m 7s        | 515739            | 718.117               | 0.221685    |"
      ]
     },
     "metadata": {},
     "output_type": "display_data"
    },
    {
     "data": {
      "text/html": [
       "<pre>| 34      | 1m 10s       | 515667            | 718.066               | 0.221685    |</pre>"
      ],
      "text/plain": [
       "| 34      | 1m 10s       | 515667            | 718.066               | 0.221685    |"
      ]
     },
     "metadata": {},
     "output_type": "display_data"
    },
    {
     "data": {
      "text/html": [
       "<pre>| 35      | 1m 12s       | 515552            | 717.986               | 0.221685    |</pre>"
      ],
      "text/plain": [
       "| 35      | 1m 12s       | 515552            | 717.986               | 0.221685    |"
      ]
     },
     "metadata": {},
     "output_type": "display_data"
    },
    {
     "data": {
      "text/html": [
       "<pre>| 36      | 1m 16s       | 515403            | 717.882               | 0.221685    |</pre>"
      ],
      "text/plain": [
       "| 36      | 1m 16s       | 515403            | 717.882               | 0.221685    |"
      ]
     },
     "metadata": {},
     "output_type": "display_data"
    },
    {
     "data": {
      "text/html": [
       "<pre>| 37      | 1m 21s       | 515253            | 717.778               | 0.221685    |</pre>"
      ],
      "text/plain": [
       "| 37      | 1m 21s       | 515253            | 717.778               | 0.221685    |"
      ]
     },
     "metadata": {},
     "output_type": "display_data"
    },
    {
     "data": {
      "text/html": [
       "<pre>| 38      | 1m 25s       | 515037            | 717.627               | 0.221685    |</pre>"
      ],
      "text/plain": [
       "| 38      | 1m 25s       | 515037            | 717.627               | 0.221685    |"
      ]
     },
     "metadata": {},
     "output_type": "display_data"
    },
    {
     "data": {
      "text/html": [
       "<pre>| 39      | 1m 30s       | 514862            | 717.504               | 0.221685    |</pre>"
      ],
      "text/plain": [
       "| 39      | 1m 30s       | 514862            | 717.504               | 0.221685    |"
      ]
     },
     "metadata": {},
     "output_type": "display_data"
    },
    {
     "data": {
      "text/html": [
       "<pre>| 40      | 1m 32s       | 514591            | 717.315               | 0.221685    |</pre>"
      ],
      "text/plain": [
       "| 40      | 1m 32s       | 514591            | 717.315               | 0.221685    |"
      ]
     },
     "metadata": {},
     "output_type": "display_data"
    },
    {
     "data": {
      "text/html": [
       "<pre>| 41      | 1m 34s       | 514362            | 717.156               | 0.221685    |</pre>"
      ],
      "text/plain": [
       "| 41      | 1m 34s       | 514362            | 717.156               | 0.221685    |"
      ]
     },
     "metadata": {},
     "output_type": "display_data"
    },
    {
     "data": {
      "text/html": [
       "<pre>| 42      | 1m 37s       | 514118            | 716.985               | 0.221685    |</pre>"
      ],
      "text/plain": [
       "| 42      | 1m 37s       | 514118            | 716.985               | 0.221685    |"
      ]
     },
     "metadata": {},
     "output_type": "display_data"
    },
    {
     "data": {
      "text/html": [
       "<pre>| 43      | 1m 39s       | 513875            | 716.815               | 0.221685    |</pre>"
      ],
      "text/plain": [
       "| 43      | 1m 39s       | 513875            | 716.815               | 0.221685    |"
      ]
     },
     "metadata": {},
     "output_type": "display_data"
    },
    {
     "data": {
      "text/html": [
       "<pre>| 44      | 1m 41s       | 513618            | 716.635               | 0.221685    |</pre>"
      ],
      "text/plain": [
       "| 44      | 1m 41s       | 513618            | 716.635               | 0.221685    |"
      ]
     },
     "metadata": {},
     "output_type": "display_data"
    },
    {
     "data": {
      "text/html": [
       "<pre>| 45      | 1m 44s       | 513339            | 716.441               | 0.221685    |</pre>"
      ],
      "text/plain": [
       "| 45      | 1m 44s       | 513339            | 716.441               | 0.221685    |"
      ]
     },
     "metadata": {},
     "output_type": "display_data"
    },
    {
     "data": {
      "text/html": [
       "<pre>| 46      | 1m 46s       | 513039            | 716.231               | 0.221685    |</pre>"
      ],
      "text/plain": [
       "| 46      | 1m 46s       | 513039            | 716.231               | 0.221685    |"
      ]
     },
     "metadata": {},
     "output_type": "display_data"
    },
    {
     "data": {
      "text/html": [
       "<pre>| 47      | 1m 48s       | 512825            | 716.081               | 0.221685    |</pre>"
      ],
      "text/plain": [
       "| 47      | 1m 48s       | 512825            | 716.081               | 0.221685    |"
      ]
     },
     "metadata": {},
     "output_type": "display_data"
    },
    {
     "data": {
      "text/html": [
       "<pre>| 48      | 1m 50s       | 512540            | 715.882               | 0.221685    |</pre>"
      ],
      "text/plain": [
       "| 48      | 1m 50s       | 512540            | 715.882               | 0.221685    |"
      ]
     },
     "metadata": {},
     "output_type": "display_data"
    },
    {
     "data": {
      "text/html": [
       "<pre>| 49      | 1m 52s       | 512251            | 715.679               | 0.221685    |</pre>"
      ],
      "text/plain": [
       "| 49      | 1m 52s       | 512251            | 715.679               | 0.221685    |"
      ]
     },
     "metadata": {},
     "output_type": "display_data"
    },
    {
     "data": {
      "text/html": [
       "<pre>| 50      | 1m 54s       | 511982            | 715.491               | 0.221685    |</pre>"
      ],
      "text/plain": [
       "| 50      | 1m 54s       | 511982            | 715.491               | 0.221685    |"
      ]
     },
     "metadata": {},
     "output_type": "display_data"
    },
    {
     "data": {
      "text/html": [
       "<pre>+---------+--------------+-------------------+-----------------------+-------------+</pre>"
      ],
      "text/plain": [
       "+---------+--------------+-------------------+-----------------------+-------------+"
      ]
     },
     "metadata": {},
     "output_type": "display_data"
    },
    {
     "data": {
      "text/html": [
       "<pre>Optimization Complete: Maximum number of passes through the data reached.</pre>"
      ],
      "text/plain": [
       "Optimization Complete: Maximum number of passes through the data reached."
      ]
     },
     "metadata": {},
     "output_type": "display_data"
    },
    {
     "data": {
      "text/html": [
       "<pre>Computing final objective value and training RMSE.</pre>"
      ],
      "text/plain": [
       "Computing final objective value and training RMSE."
      ]
     },
     "metadata": {},
     "output_type": "display_data"
    },
    {
     "data": {
      "text/html": [
       "<pre>       Final objective value: 511758</pre>"
      ],
      "text/plain": [
       "       Final objective value: 511758"
      ]
     },
     "metadata": {},
     "output_type": "display_data"
    },
    {
     "data": {
      "text/html": [
       "<pre>       Final training RMSE: 715.334</pre>"
      ],
      "text/plain": [
       "       Final training RMSE: 715.334"
      ]
     },
     "metadata": {},
     "output_type": "display_data"
    },
    {
     "data": {
      "text/html": [
       "<pre>Recsys training: model = factorization_recommender</pre>"
      ],
      "text/plain": [
       "Recsys training: model = factorization_recommender"
      ]
     },
     "metadata": {},
     "output_type": "display_data"
    },
    {
     "data": {
      "text/html": [
       "<pre>Preparing data set.</pre>"
      ],
      "text/plain": [
       "Preparing data set."
      ]
     },
     "metadata": {},
     "output_type": "display_data"
    },
    {
     "data": {
      "text/html": [
       "<pre>    Data has 3323726 observations with 233286 users and 2000 items.</pre>"
      ],
      "text/plain": [
       "    Data has 3323726 observations with 233286 users and 2000 items."
      ]
     },
     "metadata": {},
     "output_type": "display_data"
    },
    {
     "data": {
      "text/html": [
       "<pre>    Data prepared in: 6.51858s</pre>"
      ],
      "text/plain": [
       "    Data prepared in: 6.51858s"
      ]
     },
     "metadata": {},
     "output_type": "display_data"
    },
    {
     "data": {
      "text/html": [
       "<pre>Training factorization_recommender for recommendations.</pre>"
      ],
      "text/plain": [
       "Training factorization_recommender for recommendations."
      ]
     },
     "metadata": {},
     "output_type": "display_data"
    },
    {
     "data": {
      "text/html": [
       "<pre>+--------------------------------+--------------------------------------------------+----------+</pre>"
      ],
      "text/plain": [
       "+--------------------------------+--------------------------------------------------+----------+"
      ]
     },
     "metadata": {},
     "output_type": "display_data"
    },
    {
     "data": {
      "text/html": [
       "<pre>| Parameter                      | Description                                      | Value    |</pre>"
      ],
      "text/plain": [
       "| Parameter                      | Description                                      | Value    |"
      ]
     },
     "metadata": {},
     "output_type": "display_data"
    },
    {
     "data": {
      "text/html": [
       "<pre>+--------------------------------+--------------------------------------------------+----------+</pre>"
      ],
      "text/plain": [
       "+--------------------------------+--------------------------------------------------+----------+"
      ]
     },
     "metadata": {},
     "output_type": "display_data"
    },
    {
     "data": {
      "text/html": [
       "<pre>| num_factors                    | Factor Dimension                                 | 5        |</pre>"
      ],
      "text/plain": [
       "| num_factors                    | Factor Dimension                                 | 5        |"
      ]
     },
     "metadata": {},
     "output_type": "display_data"
    },
    {
     "data": {
      "text/html": [
       "<pre>| regularization                 | L2 Regularization on Factors                     | 1e-05    |</pre>"
      ],
      "text/plain": [
       "| regularization                 | L2 Regularization on Factors                     | 1e-05    |"
      ]
     },
     "metadata": {},
     "output_type": "display_data"
    },
    {
     "data": {
      "text/html": [
       "<pre>| solver                         | Solver used for training                         | adagrad  |</pre>"
      ],
      "text/plain": [
       "| solver                         | Solver used for training                         | adagrad  |"
      ]
     },
     "metadata": {},
     "output_type": "display_data"
    },
    {
     "data": {
      "text/html": [
       "<pre>| linear_regularization          | L2 Regularization on Linear Coefficients         | 1e-10    |</pre>"
      ],
      "text/plain": [
       "| linear_regularization          | L2 Regularization on Linear Coefficients         | 1e-10    |"
      ]
     },
     "metadata": {},
     "output_type": "display_data"
    },
    {
     "data": {
      "text/html": [
       "<pre>| side_data_factorization        | Assign Factors for Side Data                     | True     |</pre>"
      ],
      "text/plain": [
       "| side_data_factorization        | Assign Factors for Side Data                     | True     |"
      ]
     },
     "metadata": {},
     "output_type": "display_data"
    },
    {
     "data": {
      "text/html": [
       "<pre>| max_iterations                 | Maximum Number of Iterations                     | 50       |</pre>"
      ],
      "text/plain": [
       "| max_iterations                 | Maximum Number of Iterations                     | 50       |"
      ]
     },
     "metadata": {},
     "output_type": "display_data"
    },
    {
     "data": {
      "text/html": [
       "<pre>+--------------------------------+--------------------------------------------------+----------+</pre>"
      ],
      "text/plain": [
       "+--------------------------------+--------------------------------------------------+----------+"
      ]
     },
     "metadata": {},
     "output_type": "display_data"
    },
    {
     "data": {
      "text/html": [
       "<pre>  Optimizing model using SGD; tuning step size.</pre>"
      ],
      "text/plain": [
       "  Optimizing model using SGD; tuning step size."
      ]
     },
     "metadata": {},
     "output_type": "display_data"
    },
    {
     "data": {
      "text/html": [
       "<pre>  Using 415465 / 3323726 points for tuning the step size.</pre>"
      ],
      "text/plain": [
       "  Using 415465 / 3323726 points for tuning the step size."
      ]
     },
     "metadata": {},
     "output_type": "display_data"
    },
    {
     "data": {
      "text/html": [
       "<pre>+---------+-------------------+------------------------------------------+</pre>"
      ],
      "text/plain": [
       "+---------+-------------------+------------------------------------------+"
      ]
     },
     "metadata": {},
     "output_type": "display_data"
    },
    {
     "data": {
      "text/html": [
       "<pre>| Attempt | Initial Step Size | Estimated Objective Value                |</pre>"
      ],
      "text/plain": [
       "| Attempt | Initial Step Size | Estimated Objective Value                |"
      ]
     },
     "metadata": {},
     "output_type": "display_data"
    },
    {
     "data": {
      "text/html": [
       "<pre>+---------+-------------------+------------------------------------------+</pre>"
      ],
      "text/plain": [
       "+---------+-------------------+------------------------------------------+"
      ]
     },
     "metadata": {},
     "output_type": "display_data"
    },
    {
     "data": {
      "text/html": [
       "<pre>| 0       | 2.21685           | No Decrease (578282 >= 555261)           |</pre>"
      ],
      "text/plain": [
       "| 0       | 2.21685           | No Decrease (578282 >= 555261)           |"
      ]
     },
     "metadata": {},
     "output_type": "display_data"
    },
    {
     "data": {
      "text/html": [
       "<pre>| 1       | 0.554212          | 541777                                   |</pre>"
      ],
      "text/plain": [
       "| 1       | 0.554212          | 541777                                   |"
      ]
     },
     "metadata": {},
     "output_type": "display_data"
    },
    {
     "data": {
      "text/html": [
       "<pre>| 2       | 0.277106          | 542641                                   |</pre>"
      ],
      "text/plain": [
       "| 2       | 0.277106          | 542641                                   |"
      ]
     },
     "metadata": {},
     "output_type": "display_data"
    },
    {
     "data": {
      "text/html": [
       "<pre>| 3       | 0.138553          | 550430                                   |</pre>"
      ],
      "text/plain": [
       "| 3       | 0.138553          | 550430                                   |"
      ]
     },
     "metadata": {},
     "output_type": "display_data"
    },
    {
     "data": {
      "text/html": [
       "<pre>| 4       | 0.0692765         | 551973                                   |</pre>"
      ],
      "text/plain": [
       "| 4       | 0.0692765         | 551973                                   |"
      ]
     },
     "metadata": {},
     "output_type": "display_data"
    },
    {
     "data": {
      "text/html": [
       "<pre>+---------+-------------------+------------------------------------------+</pre>"
      ],
      "text/plain": [
       "+---------+-------------------+------------------------------------------+"
      ]
     },
     "metadata": {},
     "output_type": "display_data"
    },
    {
     "data": {
      "text/html": [
       "<pre>| Final   | 0.554212          | 541777                                   |</pre>"
      ],
      "text/plain": [
       "| Final   | 0.554212          | 541777                                   |"
      ]
     },
     "metadata": {},
     "output_type": "display_data"
    },
    {
     "data": {
      "text/html": [
       "<pre>+---------+-------------------+------------------------------------------+</pre>"
      ],
      "text/plain": [
       "+---------+-------------------+------------------------------------------+"
      ]
     },
     "metadata": {},
     "output_type": "display_data"
    },
    {
     "data": {
      "text/html": [
       "<pre>Starting Optimization.</pre>"
      ],
      "text/plain": [
       "Starting Optimization."
      ]
     },
     "metadata": {},
     "output_type": "display_data"
    },
    {
     "data": {
      "text/html": [
       "<pre>+---------+--------------+-------------------+-----------------------+-------------+</pre>"
      ],
      "text/plain": [
       "+---------+--------------+-------------------+-----------------------+-------------+"
      ]
     },
     "metadata": {},
     "output_type": "display_data"
    },
    {
     "data": {
      "text/html": [
       "<pre>| Iter.   | Elapsed Time | Approx. Objective | Approx. Training RMSE | Step Size   |</pre>"
      ],
      "text/plain": [
       "| Iter.   | Elapsed Time | Approx. Objective | Approx. Training RMSE | Step Size   |"
      ]
     },
     "metadata": {},
     "output_type": "display_data"
    },
    {
     "data": {
      "text/html": [
       "<pre>+---------+--------------+-------------------+-----------------------+-------------+</pre>"
      ],
      "text/plain": [
       "+---------+--------------+-------------------+-----------------------+-------------+"
      ]
     },
     "metadata": {},
     "output_type": "display_data"
    },
    {
     "data": {
      "text/html": [
       "<pre>| Initial | 154us        | 531798            | 729.245               |             |</pre>"
      ],
      "text/plain": [
       "| Initial | 154us        | 531798            | 729.245               |             |"
      ]
     },
     "metadata": {},
     "output_type": "display_data"
    },
    {
     "data": {
      "text/html": [
       "<pre>+---------+--------------+-------------------+-----------------------+-------------+</pre>"
      ],
      "text/plain": [
       "+---------+--------------+-------------------+-----------------------+-------------+"
      ]
     },
     "metadata": {},
     "output_type": "display_data"
    },
    {
     "data": {
      "text/html": [
       "<pre>| 1       | 2.74s        | 523688            | 723.662               | 0.554212    |</pre>"
      ],
      "text/plain": [
       "| 1       | 2.74s        | 523688            | 723.662               | 0.554212    |"
      ]
     },
     "metadata": {},
     "output_type": "display_data"
    },
    {
     "data": {
      "text/html": [
       "<pre>| 2       | 5.27s        | 523458            | 723.501               | 0.554212    |</pre>"
      ],
      "text/plain": [
       "| 2       | 5.27s        | 523458            | 723.501               | 0.554212    |"
      ]
     },
     "metadata": {},
     "output_type": "display_data"
    },
    {
     "data": {
      "text/html": [
       "<pre>| 3       | 7.19s        | 515188            | 717.762               | 0.554212    |</pre>"
      ],
      "text/plain": [
       "| 3       | 7.19s        | 515188            | 717.762               | 0.554212    |"
      ]
     },
     "metadata": {},
     "output_type": "display_data"
    },
    {
     "data": {
      "text/html": [
       "<pre>| 4       | 9.33s        | 507677            | 712.51                | 0.554212    |</pre>"
      ],
      "text/plain": [
       "| 4       | 9.33s        | 507677            | 712.51                | 0.554212    |"
      ]
     },
     "metadata": {},
     "output_type": "display_data"
    },
    {
     "data": {
      "text/html": [
       "<pre>| 5       | 11.66s       | 501240            | 707.978               | 0.554212    |</pre>"
      ],
      "text/plain": [
       "| 5       | 11.66s       | 501240            | 707.978               | 0.554212    |"
      ]
     },
     "metadata": {},
     "output_type": "display_data"
    },
    {
     "data": {
      "text/html": [
       "<pre>| 6       | 13.89s       | 495951            | 704.232               | 0.554212    |</pre>"
      ],
      "text/plain": [
       "| 6       | 13.89s       | 495951            | 704.232               | 0.554212    |"
      ]
     },
     "metadata": {},
     "output_type": "display_data"
    },
    {
     "data": {
      "text/html": [
       "<pre>| 7       | 15.75s       | 491025            | 700.725               | 0.554212    |</pre>"
      ],
      "text/plain": [
       "| 7       | 15.75s       | 491025            | 700.725               | 0.554212    |"
      ]
     },
     "metadata": {},
     "output_type": "display_data"
    },
    {
     "data": {
      "text/html": [
       "<pre>| 8       | 17.67s       | 486368            | 697.394               | 0.554212    |</pre>"
      ],
      "text/plain": [
       "| 8       | 17.67s       | 486368            | 697.394               | 0.554212    |"
      ]
     },
     "metadata": {},
     "output_type": "display_data"
    },
    {
     "data": {
      "text/html": [
       "<pre>| 9       | 20.15s       | 481685            | 694.029               | 0.554212    |</pre>"
      ],
      "text/plain": [
       "| 9       | 20.15s       | 481685            | 694.029               | 0.554212    |"
      ]
     },
     "metadata": {},
     "output_type": "display_data"
    },
    {
     "data": {
      "text/html": [
       "<pre>| 10      | 22.46s       | 477168            | 690.766               | 0.554212    |</pre>"
      ],
      "text/plain": [
       "| 10      | 22.46s       | 477168            | 690.766               | 0.554212    |"
      ]
     },
     "metadata": {},
     "output_type": "display_data"
    },
    {
     "data": {
      "text/html": [
       "<pre>| 11      | 24.92s       | 472956            | 687.71                | 0.554212    |</pre>"
      ],
      "text/plain": [
       "| 11      | 24.92s       | 472956            | 687.71                | 0.554212    |"
      ]
     },
     "metadata": {},
     "output_type": "display_data"
    },
    {
     "data": {
      "text/html": [
       "<pre>| 12      | 26.78s       | 468917            | 684.767               | 0.554212    |</pre>"
      ],
      "text/plain": [
       "| 12      | 26.78s       | 468917            | 684.767               | 0.554212    |"
      ]
     },
     "metadata": {},
     "output_type": "display_data"
    },
    {
     "data": {
      "text/html": [
       "<pre>| 13      | 28.88s       | 465192            | 682.041               | 0.554212    |</pre>"
      ],
      "text/plain": [
       "| 13      | 28.88s       | 465192            | 682.041               | 0.554212    |"
      ]
     },
     "metadata": {},
     "output_type": "display_data"
    },
    {
     "data": {
      "text/html": [
       "<pre>| 14      | 30.97s       | 461699            | 679.476               | 0.554212    |</pre>"
      ],
      "text/plain": [
       "| 14      | 30.97s       | 461699            | 679.476               | 0.554212    |"
      ]
     },
     "metadata": {},
     "output_type": "display_data"
    },
    {
     "data": {
      "text/html": [
       "<pre>| 15      | 32.84s       | 458436            | 677.07                | 0.554212    |</pre>"
      ],
      "text/plain": [
       "| 15      | 32.84s       | 458436            | 677.07                | 0.554212    |"
      ]
     },
     "metadata": {},
     "output_type": "display_data"
    },
    {
     "data": {
      "text/html": [
       "<pre>| 16      | 34.99s       | 455413            | 674.834               | 0.554212    |</pre>"
      ],
      "text/plain": [
       "| 16      | 34.99s       | 455413            | 674.834               | 0.554212    |"
      ]
     },
     "metadata": {},
     "output_type": "display_data"
    },
    {
     "data": {
      "text/html": [
       "<pre>| 17      | 36.99s       | 452770            | 672.873               | 0.554212    |</pre>"
      ],
      "text/plain": [
       "| 17      | 36.99s       | 452770            | 672.873               | 0.554212    |"
      ]
     },
     "metadata": {},
     "output_type": "display_data"
    },
    {
     "data": {
      "text/html": [
       "<pre>| 18      | 39.30s       | 450420            | 671.123               | 0.554212    |</pre>"
      ],
      "text/plain": [
       "| 18      | 39.30s       | 450420            | 671.123               | 0.554212    |"
      ]
     },
     "metadata": {},
     "output_type": "display_data"
    },
    {
     "data": {
      "text/html": [
       "<pre>| 19      | 42.11s       | 448307            | 669.547               | 0.554212    |</pre>"
      ],
      "text/plain": [
       "| 19      | 42.11s       | 448307            | 669.547               | 0.554212    |"
      ]
     },
     "metadata": {},
     "output_type": "display_data"
    },
    {
     "data": {
      "text/html": [
       "<pre>| 20      | 44.34s       | 446472            | 668.176               | 0.554212    |</pre>"
      ],
      "text/plain": [
       "| 20      | 44.34s       | 446472            | 668.176               | 0.554212    |"
      ]
     },
     "metadata": {},
     "output_type": "display_data"
    },
    {
     "data": {
      "text/html": [
       "<pre>| 21      | 46.53s       | 444821            | 666.939               | 0.554212    |</pre>"
      ],
      "text/plain": [
       "| 21      | 46.53s       | 444821            | 666.939               | 0.554212    |"
      ]
     },
     "metadata": {},
     "output_type": "display_data"
    },
    {
     "data": {
      "text/html": [
       "<pre>| 22      | 48.82s       | 443345            | 665.831               | 0.554212    |</pre>"
      ],
      "text/plain": [
       "| 22      | 48.82s       | 443345            | 665.831               | 0.554212    |"
      ]
     },
     "metadata": {},
     "output_type": "display_data"
    },
    {
     "data": {
      "text/html": [
       "<pre>| 23      | 50.88s       | 442015            | 664.832               | 0.554212    |</pre>"
      ],
      "text/plain": [
       "| 23      | 50.88s       | 442015            | 664.832               | 0.554212    |"
      ]
     },
     "metadata": {},
     "output_type": "display_data"
    },
    {
     "data": {
      "text/html": [
       "<pre>| 24      | 53.44s       | 440913            | 664.002               | 0.554212    |</pre>"
      ],
      "text/plain": [
       "| 24      | 53.44s       | 440913            | 664.002               | 0.554212    |"
      ]
     },
     "metadata": {},
     "output_type": "display_data"
    },
    {
     "data": {
      "text/html": [
       "<pre>| 25      | 55.52s       | 439904            | 663.242               | 0.554212    |</pre>"
      ],
      "text/plain": [
       "| 25      | 55.52s       | 439904            | 663.242               | 0.554212    |"
      ]
     },
     "metadata": {},
     "output_type": "display_data"
    },
    {
     "data": {
      "text/html": [
       "<pre>| 26      | 57.57s       | 438949            | 662.521               | 0.554212    |</pre>"
      ],
      "text/plain": [
       "| 26      | 57.57s       | 438949            | 662.521               | 0.554212    |"
      ]
     },
     "metadata": {},
     "output_type": "display_data"
    },
    {
     "data": {
      "text/html": [
       "<pre>| 27      | 59.37s       | 438170            | 661.933               | 0.554212    |</pre>"
      ],
      "text/plain": [
       "| 27      | 59.37s       | 438170            | 661.933               | 0.554212    |"
      ]
     },
     "metadata": {},
     "output_type": "display_data"
    },
    {
     "data": {
      "text/html": [
       "<pre>| 28      | 1m 1s        | 437397            | 661.349               | 0.554212    |</pre>"
      ],
      "text/plain": [
       "| 28      | 1m 1s        | 437397            | 661.349               | 0.554212    |"
      ]
     },
     "metadata": {},
     "output_type": "display_data"
    },
    {
     "data": {
      "text/html": [
       "<pre>| 29      | 1m 3s        | 436787            | 660.887               | 0.554212    |</pre>"
      ],
      "text/plain": [
       "| 29      | 1m 3s        | 436787            | 660.887               | 0.554212    |"
      ]
     },
     "metadata": {},
     "output_type": "display_data"
    },
    {
     "data": {
      "text/html": [
       "<pre>| 30      | 1m 5s        | 436051            | 660.331               | 0.554212    |</pre>"
      ],
      "text/plain": [
       "| 30      | 1m 5s        | 436051            | 660.331               | 0.554212    |"
      ]
     },
     "metadata": {},
     "output_type": "display_data"
    },
    {
     "data": {
      "text/html": [
       "<pre>| 31      | 1m 7s        | 435574            | 659.97                | 0.554212    |</pre>"
      ],
      "text/plain": [
       "| 31      | 1m 7s        | 435574            | 659.97                | 0.554212    |"
      ]
     },
     "metadata": {},
     "output_type": "display_data"
    },
    {
     "data": {
      "text/html": [
       "<pre>| 32      | 1m 10s       | 434948            | 659.495               | 0.554212    |</pre>"
      ],
      "text/plain": [
       "| 32      | 1m 10s       | 434948            | 659.495               | 0.554212    |"
      ]
     },
     "metadata": {},
     "output_type": "display_data"
    },
    {
     "data": {
      "text/html": [
       "<pre>| 33      | 1m 12s       | 434539            | 659.184               | 0.554212    |</pre>"
      ],
      "text/plain": [
       "| 33      | 1m 12s       | 434539            | 659.184               | 0.554212    |"
      ]
     },
     "metadata": {},
     "output_type": "display_data"
    },
    {
     "data": {
      "text/html": [
       "<pre>| 34      | 1m 14s       | 434116            | 658.864               | 0.554212    |</pre>"
      ],
      "text/plain": [
       "| 34      | 1m 14s       | 434116            | 658.864               | 0.554212    |"
      ]
     },
     "metadata": {},
     "output_type": "display_data"
    },
    {
     "data": {
      "text/html": [
       "<pre>| 35      | 1m 16s       | 433711            | 658.556               | 0.554212    |</pre>"
      ],
      "text/plain": [
       "| 35      | 1m 16s       | 433711            | 658.556               | 0.554212    |"
      ]
     },
     "metadata": {},
     "output_type": "display_data"
    },
    {
     "data": {
      "text/html": [
       "<pre>| 36      | 1m 18s       | 433260            | 658.213               | 0.554212    |</pre>"
      ],
      "text/plain": [
       "| 36      | 1m 18s       | 433260            | 658.213               | 0.554212    |"
      ]
     },
     "metadata": {},
     "output_type": "display_data"
    },
    {
     "data": {
      "text/html": [
       "<pre>| 37      | 1m 21s       | 432838            | 657.893               | 0.554212    |</pre>"
      ],
      "text/plain": [
       "| 37      | 1m 21s       | 432838            | 657.893               | 0.554212    |"
      ]
     },
     "metadata": {},
     "output_type": "display_data"
    },
    {
     "data": {
      "text/html": [
       "<pre>| 38      | 1m 23s       | 432549            | 657.673               | 0.554212    |</pre>"
      ],
      "text/plain": [
       "| 38      | 1m 23s       | 432549            | 657.673               | 0.554212    |"
      ]
     },
     "metadata": {},
     "output_type": "display_data"
    },
    {
     "data": {
      "text/html": [
       "<pre>| 39      | 1m 25s       | 432074            | 657.312               | 0.554212    |</pre>"
      ],
      "text/plain": [
       "| 39      | 1m 25s       | 432074            | 657.312               | 0.554212    |"
      ]
     },
     "metadata": {},
     "output_type": "display_data"
    },
    {
     "data": {
      "text/html": [
       "<pre>| 40      | 1m 27s       | 431634            | 656.978               | 0.554212    |</pre>"
      ],
      "text/plain": [
       "| 40      | 1m 27s       | 431634            | 656.978               | 0.554212    |"
      ]
     },
     "metadata": {},
     "output_type": "display_data"
    },
    {
     "data": {
      "text/html": [
       "<pre>| 41      | 1m 29s       | 431413            | 656.809               | 0.554212    |</pre>"
      ],
      "text/plain": [
       "| 41      | 1m 29s       | 431413            | 656.809               | 0.554212    |"
      ]
     },
     "metadata": {},
     "output_type": "display_data"
    },
    {
     "data": {
      "text/html": [
       "<pre>| 42      | 1m 31s       | 431042            | 656.526               | 0.554212    |</pre>"
      ],
      "text/plain": [
       "| 42      | 1m 31s       | 431042            | 656.526               | 0.554212    |"
      ]
     },
     "metadata": {},
     "output_type": "display_data"
    },
    {
     "data": {
      "text/html": [
       "<pre>| 43      | 1m 34s       | 430822            | 656.359               | 0.554212    |</pre>"
      ],
      "text/plain": [
       "| 43      | 1m 34s       | 430822            | 656.359               | 0.554212    |"
      ]
     },
     "metadata": {},
     "output_type": "display_data"
    },
    {
     "data": {
      "text/html": [
       "<pre>| 44      | 1m 36s       | 430551            | 656.152               | 0.554212    |</pre>"
      ],
      "text/plain": [
       "| 44      | 1m 36s       | 430551            | 656.152               | 0.554212    |"
      ]
     },
     "metadata": {},
     "output_type": "display_data"
    },
    {
     "data": {
      "text/html": [
       "<pre>| 45      | 1m 38s       | 430227            | 655.906               | 0.554212    |</pre>"
      ],
      "text/plain": [
       "| 45      | 1m 38s       | 430227            | 655.906               | 0.554212    |"
      ]
     },
     "metadata": {},
     "output_type": "display_data"
    },
    {
     "data": {
      "text/html": [
       "<pre>| 46      | 1m 39s       | 429938            | 655.685               | 0.554212    |</pre>"
      ],
      "text/plain": [
       "| 46      | 1m 39s       | 429938            | 655.685               | 0.554212    |"
      ]
     },
     "metadata": {},
     "output_type": "display_data"
    },
    {
     "data": {
      "text/html": [
       "<pre>| 47      | 1m 41s       | 429578            | 655.411               | 0.554212    |</pre>"
      ],
      "text/plain": [
       "| 47      | 1m 41s       | 429578            | 655.411               | 0.554212    |"
      ]
     },
     "metadata": {},
     "output_type": "display_data"
    },
    {
     "data": {
      "text/html": [
       "<pre>| 48      | 1m 43s       | 429349            | 655.236               | 0.554212    |</pre>"
      ],
      "text/plain": [
       "| 48      | 1m 43s       | 429349            | 655.236               | 0.554212    |"
      ]
     },
     "metadata": {},
     "output_type": "display_data"
    },
    {
     "data": {
      "text/html": [
       "<pre>| 49      | 1m 45s       | 429023            | 654.987               | 0.554212    |</pre>"
      ],
      "text/plain": [
       "| 49      | 1m 45s       | 429023            | 654.987               | 0.554212    |"
      ]
     },
     "metadata": {},
     "output_type": "display_data"
    },
    {
     "data": {
      "text/html": [
       "<pre>| 50      | 1m 47s       | 428707            | 654.746               | 0.554212    |</pre>"
      ],
      "text/plain": [
       "| 50      | 1m 47s       | 428707            | 654.746               | 0.554212    |"
      ]
     },
     "metadata": {},
     "output_type": "display_data"
    },
    {
     "data": {
      "text/html": [
       "<pre>+---------+--------------+-------------------+-----------------------+-------------+</pre>"
      ],
      "text/plain": [
       "+---------+--------------+-------------------+-----------------------+-------------+"
      ]
     },
     "metadata": {},
     "output_type": "display_data"
    },
    {
     "data": {
      "text/html": [
       "<pre>Optimization Complete: Maximum number of passes through the data reached.</pre>"
      ],
      "text/plain": [
       "Optimization Complete: Maximum number of passes through the data reached."
      ]
     },
     "metadata": {},
     "output_type": "display_data"
    },
    {
     "data": {
      "text/html": [
       "<pre>Computing final objective value and training RMSE.</pre>"
      ],
      "text/plain": [
       "Computing final objective value and training RMSE."
      ]
     },
     "metadata": {},
     "output_type": "display_data"
    },
    {
     "data": {
      "text/html": [
       "<pre>       Final objective value: 427996</pre>"
      ],
      "text/plain": [
       "       Final objective value: 427996"
      ]
     },
     "metadata": {},
     "output_type": "display_data"
    },
    {
     "data": {
      "text/html": [
       "<pre>       Final training RMSE: 654.203</pre>"
      ],
      "text/plain": [
       "       Final training RMSE: 654.203"
      ]
     },
     "metadata": {},
     "output_type": "display_data"
    },
    {
     "data": {
      "text/html": [
       "<pre>Recsys training: model = factorization_recommender</pre>"
      ],
      "text/plain": [
       "Recsys training: model = factorization_recommender"
      ]
     },
     "metadata": {},
     "output_type": "display_data"
    },
    {
     "data": {
      "text/html": [
       "<pre>Preparing data set.</pre>"
      ],
      "text/plain": [
       "Preparing data set."
      ]
     },
     "metadata": {},
     "output_type": "display_data"
    },
    {
     "data": {
      "text/html": [
       "<pre>    Data has 3323726 observations with 233286 users and 2000 items.</pre>"
      ],
      "text/plain": [
       "    Data has 3323726 observations with 233286 users and 2000 items."
      ]
     },
     "metadata": {},
     "output_type": "display_data"
    },
    {
     "data": {
      "text/html": [
       "<pre>    Data prepared in: 5.38817s</pre>"
      ],
      "text/plain": [
       "    Data prepared in: 5.38817s"
      ]
     },
     "metadata": {},
     "output_type": "display_data"
    },
    {
     "data": {
      "text/html": [
       "<pre>Training factorization_recommender for recommendations.</pre>"
      ],
      "text/plain": [
       "Training factorization_recommender for recommendations."
      ]
     },
     "metadata": {},
     "output_type": "display_data"
    },
    {
     "data": {
      "text/html": [
       "<pre>+--------------------------------+--------------------------------------------------+----------+</pre>"
      ],
      "text/plain": [
       "+--------------------------------+--------------------------------------------------+----------+"
      ]
     },
     "metadata": {},
     "output_type": "display_data"
    },
    {
     "data": {
      "text/html": [
       "<pre>| Parameter                      | Description                                      | Value    |</pre>"
      ],
      "text/plain": [
       "| Parameter                      | Description                                      | Value    |"
      ]
     },
     "metadata": {},
     "output_type": "display_data"
    },
    {
     "data": {
      "text/html": [
       "<pre>+--------------------------------+--------------------------------------------------+----------+</pre>"
      ],
      "text/plain": [
       "+--------------------------------+--------------------------------------------------+----------+"
      ]
     },
     "metadata": {},
     "output_type": "display_data"
    },
    {
     "data": {
      "text/html": [
       "<pre>| num_factors                    | Factor Dimension                                 | 5        |</pre>"
      ],
      "text/plain": [
       "| num_factors                    | Factor Dimension                                 | 5        |"
      ]
     },
     "metadata": {},
     "output_type": "display_data"
    },
    {
     "data": {
      "text/html": [
       "<pre>| regularization                 | L2 Regularization on Factors                     | 1e-06    |</pre>"
      ],
      "text/plain": [
       "| regularization                 | L2 Regularization on Factors                     | 1e-06    |"
      ]
     },
     "metadata": {},
     "output_type": "display_data"
    },
    {
     "data": {
      "text/html": [
       "<pre>| solver                         | Solver used for training                         | adagrad  |</pre>"
      ],
      "text/plain": [
       "| solver                         | Solver used for training                         | adagrad  |"
      ]
     },
     "metadata": {},
     "output_type": "display_data"
    },
    {
     "data": {
      "text/html": [
       "<pre>| linear_regularization          | L2 Regularization on Linear Coefficients         | 1e-10    |</pre>"
      ],
      "text/plain": [
       "| linear_regularization          | L2 Regularization on Linear Coefficients         | 1e-10    |"
      ]
     },
     "metadata": {},
     "output_type": "display_data"
    },
    {
     "data": {
      "text/html": [
       "<pre>| side_data_factorization        | Assign Factors for Side Data                     | True     |</pre>"
      ],
      "text/plain": [
       "| side_data_factorization        | Assign Factors for Side Data                     | True     |"
      ]
     },
     "metadata": {},
     "output_type": "display_data"
    },
    {
     "data": {
      "text/html": [
       "<pre>| max_iterations                 | Maximum Number of Iterations                     | 50       |</pre>"
      ],
      "text/plain": [
       "| max_iterations                 | Maximum Number of Iterations                     | 50       |"
      ]
     },
     "metadata": {},
     "output_type": "display_data"
    },
    {
     "data": {
      "text/html": [
       "<pre>+--------------------------------+--------------------------------------------------+----------+</pre>"
      ],
      "text/plain": [
       "+--------------------------------+--------------------------------------------------+----------+"
      ]
     },
     "metadata": {},
     "output_type": "display_data"
    },
    {
     "data": {
      "text/html": [
       "<pre>  Optimizing model using SGD; tuning step size.</pre>"
      ],
      "text/plain": [
       "  Optimizing model using SGD; tuning step size."
      ]
     },
     "metadata": {},
     "output_type": "display_data"
    },
    {
     "data": {
      "text/html": [
       "<pre>  Using 415465 / 3323726 points for tuning the step size.</pre>"
      ],
      "text/plain": [
       "  Using 415465 / 3323726 points for tuning the step size."
      ]
     },
     "metadata": {},
     "output_type": "display_data"
    },
    {
     "data": {
      "text/html": [
       "<pre>+---------+-------------------+------------------------------------------+</pre>"
      ],
      "text/plain": [
       "+---------+-------------------+------------------------------------------+"
      ]
     },
     "metadata": {},
     "output_type": "display_data"
    },
    {
     "data": {
      "text/html": [
       "<pre>| Attempt | Initial Step Size | Estimated Objective Value                |</pre>"
      ],
      "text/plain": [
       "| Attempt | Initial Step Size | Estimated Objective Value                |"
      ]
     },
     "metadata": {},
     "output_type": "display_data"
    },
    {
     "data": {
      "text/html": [
       "<pre>+---------+-------------------+------------------------------------------+</pre>"
      ],
      "text/plain": [
       "+---------+-------------------+------------------------------------------+"
      ]
     },
     "metadata": {},
     "output_type": "display_data"
    },
    {
     "data": {
      "text/html": [
       "<pre>| 0       | 8.33333           | No Decrease (578820 >= 463483)           |</pre>"
      ],
      "text/plain": [
       "| 0       | 8.33333           | No Decrease (578820 >= 463483)           |"
      ]
     },
     "metadata": {},
     "output_type": "display_data"
    },
    {
     "data": {
      "text/html": [
       "<pre>| 1       | 2.08333           | No Decrease (661246 >= 463483)           |</pre>"
      ],
      "text/plain": [
       "| 1       | 2.08333           | No Decrease (661246 >= 463483)           |"
      ]
     },
     "metadata": {},
     "output_type": "display_data"
    },
    {
     "data": {
      "text/html": [
       "<pre>| 2       | 0.520833          | 446180                                   |</pre>"
      ],
      "text/plain": [
       "| 2       | 0.520833          | 446180                                   |"
      ]
     },
     "metadata": {},
     "output_type": "display_data"
    },
    {
     "data": {
      "text/html": [
       "<pre>| 3       | 0.260417          | 452571                                   |</pre>"
      ],
      "text/plain": [
       "| 3       | 0.260417          | 452571                                   |"
      ]
     },
     "metadata": {},
     "output_type": "display_data"
    },
    {
     "data": {
      "text/html": [
       "<pre>| 4       | 0.130208          | 462190                                   |</pre>"
      ],
      "text/plain": [
       "| 4       | 0.130208          | 462190                                   |"
      ]
     },
     "metadata": {},
     "output_type": "display_data"
    },
    {
     "data": {
      "text/html": [
       "<pre>| 5       | 0.0651042         | 460755                                   |</pre>"
      ],
      "text/plain": [
       "| 5       | 0.0651042         | 460755                                   |"
      ]
     },
     "metadata": {},
     "output_type": "display_data"
    },
    {
     "data": {
      "text/html": [
       "<pre>+---------+-------------------+------------------------------------------+</pre>"
      ],
      "text/plain": [
       "+---------+-------------------+------------------------------------------+"
      ]
     },
     "metadata": {},
     "output_type": "display_data"
    },
    {
     "data": {
      "text/html": [
       "<pre>| Final   | 0.520833          | 446180                                   |</pre>"
      ],
      "text/plain": [
       "| Final   | 0.520833          | 446180                                   |"
      ]
     },
     "metadata": {},
     "output_type": "display_data"
    },
    {
     "data": {
      "text/html": [
       "<pre>+---------+-------------------+------------------------------------------+</pre>"
      ],
      "text/plain": [
       "+---------+-------------------+------------------------------------------+"
      ]
     },
     "metadata": {},
     "output_type": "display_data"
    },
    {
     "data": {
      "text/html": [
       "<pre>Starting Optimization.</pre>"
      ],
      "text/plain": [
       "Starting Optimization."
      ]
     },
     "metadata": {},
     "output_type": "display_data"
    },
    {
     "data": {
      "text/html": [
       "<pre>+---------+--------------+-------------------+-----------------------+-------------+</pre>"
      ],
      "text/plain": [
       "+---------+--------------+-------------------+-----------------------+-------------+"
      ]
     },
     "metadata": {},
     "output_type": "display_data"
    },
    {
     "data": {
      "text/html": [
       "<pre>| Iter.   | Elapsed Time | Approx. Objective | Approx. Training RMSE | Step Size   |</pre>"
      ],
      "text/plain": [
       "| Iter.   | Elapsed Time | Approx. Objective | Approx. Training RMSE | Step Size   |"
      ]
     },
     "metadata": {},
     "output_type": "display_data"
    },
    {
     "data": {
      "text/html": [
       "<pre>+---------+--------------+-------------------+-----------------------+-------------+</pre>"
      ],
      "text/plain": [
       "+---------+--------------+-------------------+-----------------------+-------------+"
      ]
     },
     "metadata": {},
     "output_type": "display_data"
    },
    {
     "data": {
      "text/html": [
       "<pre>| Initial | 72us         | 531798            | 729.245               |             |</pre>"
      ],
      "text/plain": [
       "| Initial | 72us         | 531798            | 729.245               |             |"
      ]
     },
     "metadata": {},
     "output_type": "display_data"
    },
    {
     "data": {
      "text/html": [
       "<pre>+---------+--------------+-------------------+-----------------------+-------------+</pre>"
      ],
      "text/plain": [
       "+---------+--------------+-------------------+-----------------------+-------------+"
      ]
     },
     "metadata": {},
     "output_type": "display_data"
    },
    {
     "data": {
      "text/html": [
       "<pre>| 1       | 1.96s        | 519528            | 720.782               | 0.520833    |</pre>"
      ],
      "text/plain": [
       "| 1       | 1.96s        | 519528            | 720.782               | 0.520833    |"
      ]
     },
     "metadata": {},
     "output_type": "display_data"
    },
    {
     "data": {
      "text/html": [
       "<pre>| 2       | 3.65s        | 525030            | 724.589               | 0.520833    |</pre>"
      ],
      "text/plain": [
       "| 2       | 3.65s        | 525030            | 724.589               | 0.520833    |"
      ]
     },
     "metadata": {},
     "output_type": "display_data"
    },
    {
     "data": {
      "text/html": [
       "<pre>| 3       | 5.47s        | 522778            | 723.033               | 0.520833    |</pre>"
      ],
      "text/plain": [
       "| 3       | 5.47s        | 522778            | 723.033               | 0.520833    |"
      ]
     },
     "metadata": {},
     "output_type": "display_data"
    },
    {
     "data": {
      "text/html": [
       "<pre>| 4       | 8.38s        | 520791            | 721.658               | 0.520833    |</pre>"
      ],
      "text/plain": [
       "| 4       | 8.38s        | 520791            | 721.658               | 0.520833    |"
      ]
     },
     "metadata": {},
     "output_type": "display_data"
    },
    {
     "data": {
      "text/html": [
       "<pre>| 5       | 10.99s       | 517798            | 719.581               | 0.520833    |</pre>"
      ],
      "text/plain": [
       "| 5       | 10.99s       | 517798            | 719.581               | 0.520833    |"
      ]
     },
     "metadata": {},
     "output_type": "display_data"
    },
    {
     "data": {
      "text/html": [
       "<pre>| 6       | 14.06s       | 515645            | 718.084               | 0.520833    |</pre>"
      ],
      "text/plain": [
       "| 6       | 14.06s       | 515645            | 718.084               | 0.520833    |"
      ]
     },
     "metadata": {},
     "output_type": "display_data"
    },
    {
     "data": {
      "text/html": [
       "<pre>| 7       | 16.45s       | 513569            | 716.636               | 0.520833    |</pre>"
      ],
      "text/plain": [
       "| 7       | 16.45s       | 513569            | 716.636               | 0.520833    |"
      ]
     },
     "metadata": {},
     "output_type": "display_data"
    },
    {
     "data": {
      "text/html": [
       "<pre>| 8       | 18.93s       | 512497            | 715.888               | 0.520833    |</pre>"
      ],
      "text/plain": [
       "| 8       | 18.93s       | 512497            | 715.888               | 0.520833    |"
      ]
     },
     "metadata": {},
     "output_type": "display_data"
    },
    {
     "data": {
      "text/html": [
       "<pre>| 9       | 21.65s       | 510494            | 714.488               | 0.520833    |</pre>"
      ],
      "text/plain": [
       "| 9       | 21.65s       | 510494            | 714.488               | 0.520833    |"
      ]
     },
     "metadata": {},
     "output_type": "display_data"
    },
    {
     "data": {
      "text/html": [
       "<pre>| 10      | 24.42s       | 509377            | 713.705               | 0.520833    |</pre>"
      ],
      "text/plain": [
       "| 10      | 24.42s       | 509377            | 713.705               | 0.520833    |"
      ]
     },
     "metadata": {},
     "output_type": "display_data"
    },
    {
     "data": {
      "text/html": [
       "<pre>| 11      | 27.06s       | 508530            | 713.112               | 0.520833    |</pre>"
      ],
      "text/plain": [
       "| 11      | 27.06s       | 508530            | 713.112               | 0.520833    |"
      ]
     },
     "metadata": {},
     "output_type": "display_data"
    },
    {
     "data": {
      "text/html": [
       "<pre>| 12      | 29.22s       | 507357            | 712.289               | 0.520833    |</pre>"
      ],
      "text/plain": [
       "| 12      | 29.22s       | 507357            | 712.289               | 0.520833    |"
      ]
     },
     "metadata": {},
     "output_type": "display_data"
    },
    {
     "data": {
      "text/html": [
       "<pre>| 13      | 31.66s       | 506438            | 711.644               | 0.520833    |</pre>"
      ],
      "text/plain": [
       "| 13      | 31.66s       | 506438            | 711.644               | 0.520833    |"
      ]
     },
     "metadata": {},
     "output_type": "display_data"
    },
    {
     "data": {
      "text/html": [
       "<pre>| 14      | 33.59s       | 505067            | 710.68                | 0.520833    |</pre>"
      ],
      "text/plain": [
       "| 14      | 33.59s       | 505067            | 710.68                | 0.520833    |"
      ]
     },
     "metadata": {},
     "output_type": "display_data"
    },
    {
     "data": {
      "text/html": [
       "<pre>| 15      | 35.34s       | 504082            | 709.986               | 0.520833    |</pre>"
      ],
      "text/plain": [
       "| 15      | 35.34s       | 504082            | 709.986               | 0.520833    |"
      ]
     },
     "metadata": {},
     "output_type": "display_data"
    },
    {
     "data": {
      "text/html": [
       "<pre>| 16      | 37.09s       | 503363            | 709.48                | 0.520833    |</pre>"
      ],
      "text/plain": [
       "| 16      | 37.09s       | 503363            | 709.48                | 0.520833    |"
      ]
     },
     "metadata": {},
     "output_type": "display_data"
    },
    {
     "data": {
      "text/html": [
       "<pre>| 17      | 38.78s       | 502785            | 709.072               | 0.520833    |</pre>"
      ],
      "text/plain": [
       "| 17      | 38.78s       | 502785            | 709.072               | 0.520833    |"
      ]
     },
     "metadata": {},
     "output_type": "display_data"
    },
    {
     "data": {
      "text/html": [
       "<pre>| 18      | 40.76s       | 502263            | 708.704               | 0.520833    |</pre>"
      ],
      "text/plain": [
       "| 18      | 40.76s       | 502263            | 708.704               | 0.520833    |"
      ]
     },
     "metadata": {},
     "output_type": "display_data"
    },
    {
     "data": {
      "text/html": [
       "<pre>| 19      | 42.55s       | 501449            | 708.13                | 0.520833    |</pre>"
      ],
      "text/plain": [
       "| 19      | 42.55s       | 501449            | 708.13                | 0.520833    |"
      ]
     },
     "metadata": {},
     "output_type": "display_data"
    },
    {
     "data": {
      "text/html": [
       "<pre>| 20      | 44.32s       | 500684            | 707.589               | 0.520833    |</pre>"
      ],
      "text/plain": [
       "| 20      | 44.32s       | 500684            | 707.589               | 0.520833    |"
      ]
     },
     "metadata": {},
     "output_type": "display_data"
    },
    {
     "data": {
      "text/html": [
       "<pre>| 21      | 46.05s       | 499280            | 706.597               | 0.520833    |</pre>"
      ],
      "text/plain": [
       "| 21      | 46.05s       | 499280            | 706.597               | 0.520833    |"
      ]
     },
     "metadata": {},
     "output_type": "display_data"
    },
    {
     "data": {
      "text/html": [
       "<pre>| 22      | 47.80s       | 498975            | 706.38                | 0.520833    |</pre>"
      ],
      "text/plain": [
       "| 22      | 47.80s       | 498975            | 706.38                | 0.520833    |"
      ]
     },
     "metadata": {},
     "output_type": "display_data"
    },
    {
     "data": {
      "text/html": [
       "<pre>| 23      | 49.48s       | 497908            | 705.625               | 0.520833    |</pre>"
      ],
      "text/plain": [
       "| 23      | 49.48s       | 497908            | 705.625               | 0.520833    |"
      ]
     },
     "metadata": {},
     "output_type": "display_data"
    },
    {
     "data": {
      "text/html": [
       "<pre>| 24      | 51.26s       | 497724            | 705.494               | 0.520833    |</pre>"
      ],
      "text/plain": [
       "| 24      | 51.26s       | 497724            | 705.494               | 0.520833    |"
      ]
     },
     "metadata": {},
     "output_type": "display_data"
    },
    {
     "data": {
      "text/html": [
       "<pre>| 25      | 53.04s       | 497034            | 705.005               | 0.520833    |</pre>"
      ],
      "text/plain": [
       "| 25      | 53.04s       | 497034            | 705.005               | 0.520833    |"
      ]
     },
     "metadata": {},
     "output_type": "display_data"
    },
    {
     "data": {
      "text/html": [
       "<pre>| 26      | 54.78s       | 497000            | 704.981               | 0.520833    |</pre>"
      ],
      "text/plain": [
       "| 26      | 54.78s       | 497000            | 704.981               | 0.520833    |"
      ]
     },
     "metadata": {},
     "output_type": "display_data"
    },
    {
     "data": {
      "text/html": [
       "<pre>| 27      | 56.53s       | 496239            | 704.441               | 0.520833    |</pre>"
      ],
      "text/plain": [
       "| 27      | 56.53s       | 496239            | 704.441               | 0.520833    |"
      ]
     },
     "metadata": {},
     "output_type": "display_data"
    },
    {
     "data": {
      "text/html": [
       "<pre>| 28      | 58.25s       | 496606            | 704.701               | 0.520833    |</pre>"
      ],
      "text/plain": [
       "| 28      | 58.25s       | 496606            | 704.701               | 0.520833    |"
      ]
     },
     "metadata": {},
     "output_type": "display_data"
    },
    {
     "data": {
      "text/html": [
       "<pre>| 29      | 1m 0s        | 495510            | 703.924               | 0.520833    |</pre>"
      ],
      "text/plain": [
       "| 29      | 1m 0s        | 495510            | 703.924               | 0.520833    |"
      ]
     },
     "metadata": {},
     "output_type": "display_data"
    },
    {
     "data": {
      "text/html": [
       "<pre>| 30      | 1m 2s        | 494793            | 703.414               | 0.520833    |</pre>"
      ],
      "text/plain": [
       "| 30      | 1m 2s        | 494793            | 703.414               | 0.520833    |"
      ]
     },
     "metadata": {},
     "output_type": "display_data"
    },
    {
     "data": {
      "text/html": [
       "<pre>| 31      | 1m 4s        | 493680            | 702.622               | 0.520833    |</pre>"
      ],
      "text/plain": [
       "| 31      | 1m 4s        | 493680            | 702.622               | 0.520833    |"
      ]
     },
     "metadata": {},
     "output_type": "display_data"
    },
    {
     "data": {
      "text/html": [
       "<pre>| 32      | 1m 6s        | 493709            | 702.643               | 0.520833    |</pre>"
      ],
      "text/plain": [
       "| 32      | 1m 6s        | 493709            | 702.643               | 0.520833    |"
      ]
     },
     "metadata": {},
     "output_type": "display_data"
    },
    {
     "data": {
      "text/html": [
       "<pre>| 33      | 1m 7s        | 493801            | 702.709               | 0.520833    |</pre>"
      ],
      "text/plain": [
       "| 33      | 1m 7s        | 493801            | 702.709               | 0.520833    |"
      ]
     },
     "metadata": {},
     "output_type": "display_data"
    },
    {
     "data": {
      "text/html": [
       "<pre>| 34      | 1m 10s       | 493121            | 702.224               | 0.520833    |</pre>"
      ],
      "text/plain": [
       "| 34      | 1m 10s       | 493121            | 702.224               | 0.520833    |"
      ]
     },
     "metadata": {},
     "output_type": "display_data"
    },
    {
     "data": {
      "text/html": [
       "<pre>| 35      | 1m 11s       | 493279            | 702.337               | 0.520833    |</pre>"
      ],
      "text/plain": [
       "| 35      | 1m 11s       | 493279            | 702.337               | 0.520833    |"
      ]
     },
     "metadata": {},
     "output_type": "display_data"
    },
    {
     "data": {
      "text/html": [
       "<pre>| 36      | 1m 13s       | 493167            | 702.257               | 0.520833    |</pre>"
      ],
      "text/plain": [
       "| 36      | 1m 13s       | 493167            | 702.257               | 0.520833    |"
      ]
     },
     "metadata": {},
     "output_type": "display_data"
    },
    {
     "data": {
      "text/html": [
       "<pre>| 37      | 1m 15s       | 492716            | 701.936               | 0.520833    |</pre>"
      ],
      "text/plain": [
       "| 37      | 1m 15s       | 492716            | 701.936               | 0.520833    |"
      ]
     },
     "metadata": {},
     "output_type": "display_data"
    },
    {
     "data": {
      "text/html": [
       "<pre>| 38      | 1m 17s       | 492926            | 702.086               | 0.520833    |</pre>"
      ],
      "text/plain": [
       "| 38      | 1m 17s       | 492926            | 702.086               | 0.520833    |"
      ]
     },
     "metadata": {},
     "output_type": "display_data"
    },
    {
     "data": {
      "text/html": [
       "<pre>| 39      | 1m 19s       | 492072            | 701.478               | 0.520833    |</pre>"
      ],
      "text/plain": [
       "| 39      | 1m 19s       | 492072            | 701.478               | 0.520833    |"
      ]
     },
     "metadata": {},
     "output_type": "display_data"
    },
    {
     "data": {
      "text/html": [
       "<pre>| 40      | 1m 23s       | 491350            | 700.963               | 0.520833    |</pre>"
      ],
      "text/plain": [
       "| 40      | 1m 23s       | 491350            | 700.963               | 0.520833    |"
      ]
     },
     "metadata": {},
     "output_type": "display_data"
    },
    {
     "data": {
      "text/html": [
       "<pre>| 41      | 1m 26s       | 490155            | 700.11                | 0.520833    |</pre>"
      ],
      "text/plain": [
       "| 41      | 1m 26s       | 490155            | 700.11                | 0.520833    |"
      ]
     },
     "metadata": {},
     "output_type": "display_data"
    },
    {
     "data": {
      "text/html": [
       "<pre>| 42      | 1m 29s       | 489995            | 699.996               | 0.520833    |</pre>"
      ],
      "text/plain": [
       "| 42      | 1m 29s       | 489995            | 699.996               | 0.520833    |"
      ]
     },
     "metadata": {},
     "output_type": "display_data"
    },
    {
     "data": {
      "text/html": [
       "<pre>| 43      | 1m 33s       | 489936            | 699.953               | 0.520833    |</pre>"
      ],
      "text/plain": [
       "| 43      | 1m 33s       | 489936            | 699.953               | 0.520833    |"
      ]
     },
     "metadata": {},
     "output_type": "display_data"
    },
    {
     "data": {
      "text/html": [
       "<pre>| 44      | 1m 36s       | 489110            | 699.363               | 0.520833    |</pre>"
      ],
      "text/plain": [
       "| 44      | 1m 36s       | 489110            | 699.363               | 0.520833    |"
      ]
     },
     "metadata": {},
     "output_type": "display_data"
    },
    {
     "data": {
      "text/html": [
       "<pre>| 45      | 1m 38s       | 489410            | 699.577               | 0.520833    |</pre>"
      ],
      "text/plain": [
       "| 45      | 1m 38s       | 489410            | 699.577               | 0.520833    |"
      ]
     },
     "metadata": {},
     "output_type": "display_data"
    },
    {
     "data": {
      "text/html": [
       "<pre>| 46      | 1m 41s       | 488087            | 698.631               | 0.520833    |</pre>"
      ],
      "text/plain": [
       "| 46      | 1m 41s       | 488087            | 698.631               | 0.520833    |"
      ]
     },
     "metadata": {},
     "output_type": "display_data"
    },
    {
     "data": {
      "text/html": [
       "<pre>| 47      | 1m 43s       | 488632            | 699.021               | 0.520833    |</pre>"
      ],
      "text/plain": [
       "| 47      | 1m 43s       | 488632            | 699.021               | 0.520833    |"
      ]
     },
     "metadata": {},
     "output_type": "display_data"
    },
    {
     "data": {
      "text/html": [
       "<pre>| 48      | 1m 45s       | 488852            | 699.178               | 0.520833    |</pre>"
      ],
      "text/plain": [
       "| 48      | 1m 45s       | 488852            | 699.178               | 0.520833    |"
      ]
     },
     "metadata": {},
     "output_type": "display_data"
    },
    {
     "data": {
      "text/html": [
       "<pre>| 49      | 1m 47s       | 488863            | 699.186               | 0.520833    |</pre>"
      ],
      "text/plain": [
       "| 49      | 1m 47s       | 488863            | 699.186               | 0.520833    |"
      ]
     },
     "metadata": {},
     "output_type": "display_data"
    },
    {
     "data": {
      "text/html": [
       "<pre>| 50      | 1m 49s       | 488043            | 698.6                 | 0.520833    |</pre>"
      ],
      "text/plain": [
       "| 50      | 1m 49s       | 488043            | 698.6                 | 0.520833    |"
      ]
     },
     "metadata": {},
     "output_type": "display_data"
    },
    {
     "data": {
      "text/html": [
       "<pre>+---------+--------------+-------------------+-----------------------+-------------+</pre>"
      ],
      "text/plain": [
       "+---------+--------------+-------------------+-----------------------+-------------+"
      ]
     },
     "metadata": {},
     "output_type": "display_data"
    },
    {
     "data": {
      "text/html": [
       "<pre>Optimization Complete: Maximum number of passes through the data reached.</pre>"
      ],
      "text/plain": [
       "Optimization Complete: Maximum number of passes through the data reached."
      ]
     },
     "metadata": {},
     "output_type": "display_data"
    },
    {
     "data": {
      "text/html": [
       "<pre>Computing final objective value and training RMSE.</pre>"
      ],
      "text/plain": [
       "Computing final objective value and training RMSE."
      ]
     },
     "metadata": {},
     "output_type": "display_data"
    },
    {
     "data": {
      "text/html": [
       "<pre>       Final objective value: 488277</pre>"
      ],
      "text/plain": [
       "       Final objective value: 488277"
      ]
     },
     "metadata": {},
     "output_type": "display_data"
    },
    {
     "data": {
      "text/html": [
       "<pre>       Final training RMSE: 698.767</pre>"
      ],
      "text/plain": [
       "       Final training RMSE: 698.767"
      ]
     },
     "metadata": {},
     "output_type": "display_data"
    }
   ],
   "source": [
    "user_info = gl.SFrame.read_csv(profiles_file, header=True, verbose=False).dropna()\n",
    "user_info.rename({\"user\": \"user_id\"})\n",
    "\n",
    "item_info = gl.SFrame.read_csv(artists_file, header=True, verbose=False).dropna()\n",
    "item_info.rename({\"artist\": \"item_id\"})\n",
    "\n",
    "regularization_vals = [0.1, 0.001, 0.0001, 0.00001, 0.000001]\n",
    "\n",
    "factorization_model = [gl.factorization_recommender.create(sf, target='plays', \\\n",
    "        user_data=user_info, \\\n",
    "        item_data=item_info, max_iterations=50, num_factors=5, regularization=r)\n",
    "          for r in regularization_vals]"
   ]
  },
  {
   "cell_type": "code",
   "execution_count": null,
   "metadata": {
    "collapsed": false
   },
   "outputs": [],
   "source": [
    "result_fm = factorization_model.predict(sf_test)\n",
    "\n",
    "scaled_result_fm = (result_fm - result_fm.min())/(result_fm.max() - result_fm.min()) * sf['plays'].max()\n",
    "print scaled_result_fm\n",
    "\n",
    "with open(\"data/factorization_model_results.csv\", 'w') as soln_fh:\n",
    "    soln_csv = csv.writer(soln_fh,\n",
    "                          delimiter=',',\n",
    "                          quotechar='\"',\n",
    "                          quoting=csv.QUOTE_MINIMAL)\n",
    "    soln_csv.writerow(['Id', 'plays'])\n",
    "    loop_size = 4154804\n",
    "    mybar = pyprind.ProgBar(loop_size)\n",
    "    for i in range(4154804):\n",
    "        soln_csv.writerow([i + 1, scaled_result_fm[i]])\n",
    "        mybar.update()"
   ]
  },
  {
   "cell_type": "code",
   "execution_count": null,
   "metadata": {
    "collapsed": false
   },
   "outputs": [],
   "source": [
    "result_fm"
   ]
  },
  {
   "cell_type": "markdown",
   "metadata": {},
   "source": [
    "#### Alternating Least Squares Model"
   ]
  },
  {
   "cell_type": "code",
   "execution_count": null,
   "metadata": {
    "collapsed": false
   },
   "outputs": [],
   "source": [
    "als_model = gl.factorization_recommender.create(sf, target='plays', solver = 'als')\n",
    "\n",
    "result_als = als_model.predict(sf_test)\n",
    "\n",
    "scaled_result_als = (result_als - result_als.min())/(result_als.max() - result_als.min()) * sf['plays'].max()\n",
    "print scaled_result_als\n",
    "\n",
    "with open(\"data/als_model_results.csv\", 'w') as soln_fh:\n",
    "    soln_csv = csv.writer(soln_fh,\n",
    "                          delimiter=',',\n",
    "                          quotechar='\"',\n",
    "                          quoting=csv.QUOTE_MINIMAL)\n",
    "    soln_csv.writerow(['Id', 'plays'])\n",
    "    loop_size = 4154804\n",
    "    mybar = pyprind.ProgBar(loop_size)\n",
    "    for i in range(4154804):\n",
    "        soln_csv.writerow([i + 1, scaled_result_als[i]])\n",
    "        mybar.update()"
   ]
  },
  {
   "cell_type": "code",
   "execution_count": null,
   "metadata": {
    "collapsed": false
   },
   "outputs": [],
   "source": [
    "result_als"
   ]
  },
  {
   "cell_type": "markdown",
   "metadata": {},
   "source": [
    "### Comparing the Models"
   ]
  },
  {
   "cell_type": "code",
   "execution_count": 104,
   "metadata": {
    "collapsed": false
   },
   "outputs": [],
   "source": [
    "\n",
    "#gl.recommender.util.compare_models(sf_test, [item_sim_model, item_sim_model2, item_sim_model3], model_names=[\"ItemSimilarity1\", \"ItemSimilarity2\", \"ItemSimilarity3\"])"
   ]
  },
  {
   "cell_type": "code",
   "execution_count": null,
   "metadata": {
    "collapsed": true
   },
   "outputs": [],
   "source": []
  },
  {
   "cell_type": "markdown",
   "metadata": {
    "collapsed": true
   },
   "source": [
    "## Ridge Regression"
   ]
  },
  {
   "cell_type": "code",
   "execution_count": 20,
   "metadata": {
    "collapsed": false
   },
   "outputs": [
    {
     "data": {
      "text/plain": [
       "(235286,)"
      ]
     },
     "execution_count": 20,
     "metadata": {},
     "output_type": "execute_result"
    }
   ],
   "source": [
    "# Design Matrix\n",
    "from sklearn.linear_model import Ridge\n",
    "features=np.concatenate([uuids,uiids])\n",
    "features.shape"
   ]
  },
  {
   "cell_type": "code",
   "execution_count": 19,
   "metadata": {
    "collapsed": true
   },
   "outputs": [],
   "source": [
    "def getmats(indf):\n",
    "    stvals=indf[['user', 'artist', 'plays']].values\n",
    "    designm=np.zeros((stvals.shape[0], features.shape[0]))\n",
    "    ratings=np.zeros(stvals.shape[0])\n",
    "    loop_size = len(stvals)\n",
    "    mybar = pyprind.ProgBar(loop_size)\n",
    "    for i, row in enumerate(stvals):\n",
    "        designm[i,:]=np.concatenate([1*(row[0]==uuids), 1*(row[1]==uiids)])\n",
    "        ratings[i]=row[2]\n",
    "        mybar.update()\n",
    "    return designm, ratings"
   ]
  },
  {
   "cell_type": "code",
   "execution_count": null,
   "metadata": {
    "collapsed": false
   },
   "outputs": [
    {
     "name": "stderr",
     "output_type": "stream",
     "text": [
      "0%                          100%\n",
      "[                              ]"
     ]
    }
   ],
   "source": [
    "#Carrying out the ridge regression\n",
    "designm, ratings = getmats(train_df)"
   ]
  },
  {
   "cell_type": "code",
   "execution_count": null,
   "metadata": {
    "collapsed": true
   },
   "outputs": [],
   "source": [
    "validatedm, validaterats = getmats(validate_df)"
   ]
  },
  {
   "cell_type": "code",
   "execution_count": 122,
   "metadata": {
    "collapsed": false
   },
   "outputs": [
    {
     "name": "stderr",
     "output_type": "stream",
     "text": [
      "0%   100%\n",
      "[#######] | ETA: 00:00:00\n",
      "Total time elapsed: 00:06:58\n"
     ]
    }
   ],
   "source": [
    "#alphas=[0.01, 0.1, 10, 100, 1000]\n",
    "alphas=[7,8,9,10,11,12,13]\n",
    "vdict={}\n",
    "rdict={}\n",
    "loop_size = len(alphas)\n",
    "mybar = pyprind.ProgBar(loop_size)\n",
    "for a in alphas:\n",
    "    regr=Ridge(alpha=a).fit(designm, ratings)\n",
    "    vpreds=regr.predict(validatedm)\n",
    "    mae=mean_absolute_error(validaterats, vpreds)\n",
    "    vdict[a]=mae\n",
    "    rdict[a]=regr\n",
    "    mybar.update()"
   ]
  },
  {
   "cell_type": "code",
   "execution_count": 123,
   "metadata": {
    "collapsed": false
   },
   "outputs": [
    {
     "name": "stdout",
     "output_type": "stream",
     "text": [
      "11\n"
     ]
    }
   ],
   "source": [
    "minerroralpha=min(vdict, key=vdict.get)\n",
    "print minerroralpha\n",
    "regr=rdict[minerroralpha] "
   ]
  },
  {
   "cell_type": "code",
   "execution_count": 124,
   "metadata": {
    "collapsed": false
   },
   "outputs": [
    {
     "data": {
      "text/plain": [
       "(252.07751787456544, 252.7676107730693)"
      ]
     },
     "execution_count": 124,
     "metadata": {},
     "output_type": "execute_result"
    }
   ],
   "source": [
    "regr.intercept_, ybar"
   ]
  },
  {
   "cell_type": "code",
   "execution_count": null,
   "metadata": {
    "collapsed": true
   },
   "outputs": [],
   "source": [
    "testdm, _ = getmats(test_df)"
   ]
  },
  {
   "cell_type": "code",
   "execution_count": 164,
   "metadata": {
    "collapsed": false
   },
   "outputs": [],
   "source": [
    "predictions['baseline_r']=regr.predict(testdm)"
   ]
  },
  {
   "cell_type": "code",
   "execution_count": 242,
   "metadata": {
    "collapsed": true
   },
   "outputs": [],
   "source": [
    "np.savetxt(\"baseline_r.csv\", predictions['baseline_r'], delimiter=\",\")"
   ]
  },
  {
   "cell_type": "code",
   "execution_count": null,
   "metadata": {
    "collapsed": true
   },
   "outputs": [],
   "source": []
  },
  {
   "cell_type": "code",
   "execution_count": null,
   "metadata": {
    "collapsed": true
   },
   "outputs": [],
   "source": []
  },
  {
   "cell_type": "code",
   "execution_count": null,
   "metadata": {
    "collapsed": true
   },
   "outputs": [],
   "source": []
  },
  {
   "cell_type": "code",
   "execution_count": null,
   "metadata": {
    "collapsed": true
   },
   "outputs": [],
   "source": []
  },
  {
   "cell_type": "code",
   "execution_count": null,
   "metadata": {
    "collapsed": true
   },
   "outputs": [],
   "source": []
  }
 ],
 "metadata": {
  "kernelspec": {
   "display_name": "Python 2",
   "language": "python",
   "name": "python2"
  },
  "language_info": {
   "codemirror_mode": {
    "name": "ipython",
    "version": 2
   },
   "file_extension": ".py",
   "mimetype": "text/x-python",
   "name": "python",
   "nbconvert_exporter": "python",
   "pygments_lexer": "ipython2",
   "version": "2.7.11"
  }
 },
 "nbformat": 4,
 "nbformat_minor": 0
}
