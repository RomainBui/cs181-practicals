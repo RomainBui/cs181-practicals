{
 "cells": [
  {
   "cell_type": "code",
   "execution_count": 6,
   "metadata": {
    "collapsed": true
   },
   "outputs": [],
   "source": [
    "import sys\n",
    "import datetime\n",
    "import time"
   ]
  },
  {
   "cell_type": "code",
   "execution_count": 7,
   "metadata": {
    "collapsed": false
   },
   "outputs": [
    {
     "name": "stdout",
     "output_type": "stream",
     "text": [
      "/Users/romainbui/miniconda2/envs/mypython/bin/python\n"
     ]
    }
   ],
   "source": [
    "print sys.executable"
   ]
  },
  {
   "cell_type": "code",
   "execution_count": 8,
   "metadata": {
    "collapsed": true
   },
   "outputs": [],
   "source": [
    "from rdkit.Chem import AllChem"
   ]
  },
  {
   "cell_type": "code",
   "execution_count": 9,
   "metadata": {
    "collapsed": false
   },
   "outputs": [],
   "source": [
    "import pandas as pd\n",
    "import numpy as np\n",
    "import matplotlib.pyplot as plt\n",
    "from sklearn.feature_extraction.text import CountVectorizer\n",
    "from sklearn.feature_extraction.text import TfidfVectorizer\n",
    "from sklearn.linear_model import LinearRegression\n",
    "from sklearn.ensemble import RandomForestRegressor\n",
    "from sklearn.cross_validation import train_test_split\n",
    "from sklearn.metrics import mean_squared_error\n",
    "from sklearn.grid_search import GridSearchCV\n",
    "from rdkit import Chem, DataStructs\n",
    "from rdkit.Chem import AllChem\n",
    "from rdkit import Chem, DataStructs\n",
    "from rdkit.Chem import AllChem\n",
    "import pickle"
   ]
  },
  {
   "cell_type": "code",
   "execution_count": 11,
   "metadata": {
    "collapsed": false
   },
   "outputs": [],
   "source": [
    "\"\"\"\n",
    "Read in train and test as Pandas DataFrames\n",
    "\"\"\"\n",
    "df_train = pd.read_csv(\"Data/train\")\n",
    "df_test = pd.read_csv(\"Data/test\")\n"
   ]
  },
  {
   "cell_type": "code",
   "execution_count": 12,
   "metadata": {
    "collapsed": true
   },
   "outputs": [],
   "source": [
    "def smiles_to_fingerprint (smiles, method='Morgan'):\n",
    "    if method == \"Morgan\": \n",
    "        mol = Chem.MolFromSmiles(smiles)\n",
    "        fp = AllChem.GetMorganFingerprintAsBitVect(mol, 2)\n",
    "        fp_arr = np.zeros((1,))\n",
    "        DataStructs.ConvertToNumpyArray(fp, fp_arr)\n",
    "        return fp_arr\n",
    "    elif method == \"other\":\n",
    "        print \"another fingerprint\"   "
   ]
  },
  {
   "cell_type": "code",
   "execution_count": 13,
   "metadata": {
    "collapsed": true
   },
   "outputs": [],
   "source": [
    "def write_to_file(filename, predictions):\n",
    "    with open(filename, \"w\") as f:\n",
    "        f.write(\"Id,Prediction\\n\")\n",
    "        for i,p in enumerate(predictions):\n",
    "            f.write(str(i+1) + \",\" + str(p) + \"\\n\")"
   ]
  },
  {
   "cell_type": "code",
   "execution_count": 14,
   "metadata": {
    "collapsed": false
   },
   "outputs": [],
   "source": [
    "def do_forest(forest, smiles, y, fold=None):\n",
    "    if fold:\n",
    "        smiles = smiles[fold]\n",
    "        y = y[fold]\n",
    "    fps = smiles.apply(smiles_to_fingerprint).tolist()\n",
    "    X = np.ndarray((smiles.shape[0], 2048))\n",
    "    for i in range (smiles.shape[0]):\n",
    "        X[i] = fps[i]\n",
    "    X_train, X_test, y_train, y_test = train_test_split(X, y, test_size=0.1)\n",
    "    forest.fit(X_train, y_train)\n",
    "    print mean_squared_error(y_test, forest.predict(X_test))"
   ]
  },
  {
   "cell_type": "code",
   "execution_count": 15,
   "metadata": {
    "collapsed": false
   },
   "outputs": [],
   "source": [
    "#convert the test set to fingerprints for submission\n",
    "test_fps = df_test.smiles.apply(smiles_to_fingerprint)\n",
    "X_test = np.ndarray((824230, 2048))\n",
    "for i in range (test_fps.shape[0]):\n",
    "    X_test[i] = test_fps[i]\n",
    "np.save('Data/test_morgans',X_test)"
   ]
  },
  {
   "cell_type": "code",
   "execution_count": 16,
   "metadata": {
    "collapsed": false
   },
   "outputs": [],
   "source": [
    "# Romain's Data\n",
    "#test_r = pd.read_csv(\"Data/X_test_r.csv\")\n",
    "#train_r = pd.read_csv(\"Data/X_train_r.csv\")"
   ]
  },
  {
   "cell_type": "code",
   "execution_count": 17,
   "metadata": {
    "collapsed": true
   },
   "outputs": [],
   "source": [
    "r = pd.read_csv(\"Data/df_train_OB2.csv\")\n",
    "r.index = r.smiles.values"
   ]
  },
  {
   "cell_type": "code",
   "execution_count": 18,
   "metadata": {
    "collapsed": true
   },
   "outputs": [],
   "source": [
    "r_test = pd.read_csv(\"Data/df_test_r.csv\")\n",
    "r_test.index = r_test.smiles.values"
   ]
  },
  {
   "cell_type": "code",
   "execution_count": 19,
   "metadata": {
    "collapsed": false
   },
   "outputs": [],
   "source": [
    "df_train.loc[:, 'C2'] = r.loc[df_train.smiles.values, 'C2'].values\n",
    "df_train.loc[:, 'C3'] = r.loc[df_train.smiles.values, 'C3'].values\n",
    "df_train.loc[:, 'Car'] = r.loc[df_train.smiles.values, 'Car'].values\n",
    "df_train.loc[:, 'H'] = r.loc[df_train.smiles.values, 'H'].values\n",
    "df_train.loc[:, 'N3'] = r.loc[df_train.smiles.values, 'N3'].values\n",
    "df_train.loc[:, 'Nar'] = r.loc[df_train.smiles.values, 'Nar'].values\n",
    "df_train.loc[:, 'O2'] = r.loc[df_train.smiles.values, 'O2'].values\n",
    "df_train.loc[:, 'O3'] = r.loc[df_train.smiles.values, 'O3'].values\n",
    "df_train.loc[:, 'S2'] = r.loc[df_train.smiles.values, 'S2'].values\n",
    "df_train.loc[:, 'S3'] = r.loc[df_train.smiles.values, 'S3'].values\n",
    "df_train.loc[:, 'Se'] = r.loc[df_train.smiles.values, 'Se'].values\n",
    "df_train.loc[:, 'Si'] = r.loc[df_train.smiles.values, 'Si'].values\n",
    "df_train.loc[:, 'weight'] = r.loc[df_train.smiles.values, 'weight'].values"
   ]
  },
  {
   "cell_type": "code",
   "execution_count": 20,
   "metadata": {
    "collapsed": false
   },
   "outputs": [],
   "source": [
    "df_test.loc[:, 'C2'] = r_test.loc[df_test.smiles.values, 'C2'].values\n",
    "df_test.loc[:, 'C3'] = r_test.loc[df_test.smiles.values, 'C3'].values\n",
    "df_test.loc[:, 'Car'] = r_test.loc[df_test.smiles.values, 'Car'].values\n",
    "df_test.loc[:, 'H'] = r_test.loc[df_test.smiles.values, 'H'].values\n",
    "df_test.loc[:, 'N3'] = r_test.loc[df_test.smiles.values, 'N3'].values\n",
    "df_test.loc[:, 'Nar'] = r_test.loc[df_test.smiles.values, 'Nar'].values\n",
    "df_test.loc[:, 'O2'] = r_test.loc[df_test.smiles.values, 'O2'].values\n",
    "df_test.loc[:, 'O3'] = r_test.loc[df_test.smiles.values, 'O3'].values\n",
    "df_test.loc[:, 'S2'] = r_test.loc[df_test.smiles.values, 'S2'].values\n",
    "df_test.loc[:, 'S3'] = r_test.loc[df_test.smiles.values, 'S3'].values\n",
    "df_test.loc[:, 'Se'] = r_test.loc[df_test.smiles.values, 'Se'].values\n",
    "df_test.loc[:, 'Si'] = r_test.loc[df_test.smiles.values, 'Si'].values\n",
    "df_test.loc[:, 'weight'] = r_test.loc[df_test.smiles.values, 'weight'].values"
   ]
  },
  {
   "cell_type": "code",
   "execution_count": 21,
   "metadata": {
    "collapsed": false
   },
   "outputs": [
    {
     "name": "stdout",
     "output_type": "stream",
     "text": [
      "CPU times: user 5 µs, sys: 8 µs, total: 13 µs\n",
      "Wall time: 25 µs\n",
      "2016-02-12 00:45:54.025306\n",
      "0.00771984469583\n",
      "2016-02-12 01:29:59.812632\n"
     ]
    }
   ],
   "source": [
    "%time\n",
    "from sklearn.ensemble import AdaBoostRegressor\n",
    "print(datetime.datetime.now())\n",
    "#forest = AdaBoostRegressor(n_estimators = 350)\n",
    "forest = RandomForestRegressor(n_estimators=200, warm_start=True)\n",
    "do_forest(forest, df_train.smiles,df_train.gap, slice(0,100000))\n",
    "print(datetime.datetime.now())"
   ]
  },
  {
   "cell_type": "code",
   "execution_count": 22,
   "metadata": {
    "collapsed": false
   },
   "outputs": [],
   "source": [
    "f = open('Data/RF_OpenBabel.forest','wb')\n",
    "pickle.dump(forest, f)\n",
    "f.close()\n",
    "#forest = pickle.load(f)"
   ]
  },
  {
   "cell_type": "code",
   "execution_count": 23,
   "metadata": {
    "collapsed": false
   },
   "outputs": [],
   "source": [
    "f = open('Data/RF_OpenBabel.forest','rb')\n",
    "forest = pickle.load(f)"
   ]
  },
  {
   "cell_type": "code",
   "execution_count": 24,
   "metadata": {
    "collapsed": false
   },
   "outputs": [],
   "source": [
    "write_to_file('Data/RF_OpenBabel.csv', forest.predict(X_test))"
   ]
  }
 ],
 "metadata": {
  "kernelspec": {
   "display_name": "Python 2",
   "language": "python",
   "name": "python2"
  },
  "language_info": {
   "codemirror_mode": {
    "name": "ipython",
    "version": 2
   },
   "file_extension": ".py",
   "mimetype": "text/x-python",
   "name": "python",
   "nbconvert_exporter": "python",
   "pygments_lexer": "ipython2",
   "version": "2.7.11"
  }
 },
 "nbformat": 4,
 "nbformat_minor": 0
}
