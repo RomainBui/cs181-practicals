{
 "cells": [
  {
   "cell_type": "markdown",
   "metadata": {},
   "source": [
    "### Basic XGBoost Multiclassification Implementation on subset of features\n",
    "#### https://github.com/dmlc/xgboost/blob/master/demo/multiclass_classification/train.py"
   ]
  },
  {
   "cell_type": "code",
   "execution_count": 35,
   "metadata": {
    "collapsed": true
   },
   "outputs": [],
   "source": [
    "import os\n",
    "from collections import Counter\n",
    "try:\n",
    "    import xml.etree.cElementTree as ET\n",
    "except ImportError:\n",
    "    import xml.etree.ElementTree as ET\n",
    "import numpy as np\n",
    "from scipy import sparse\n",
    "\n",
    "from sklearn.linear_model import LogisticRegression\n",
    "from sklearn.feature_extraction.text import TfidfVectorizer\n",
    "import sklearn.metrics as metrics\n",
    "from sklearn.ensemble import RandomForestClassifier as RFC\n",
    "from sklearn.cross_validation import train_test_split\n",
    "from sklearn.svm import LinearSVC\n",
    "import matplotlib.pyplot as plt\n",
    "%matplotlib inline"
   ]
  },
  {
   "cell_type": "code",
   "execution_count": 36,
   "metadata": {
    "collapsed": false
   },
   "outputs": [],
   "source": [
    "# these are the fifteen malware classes we're looking for\n",
    "malware_classes = [\"Agent\", \"AutoRun\", \"FraudLoad\", \"FraudPack\", \"Hupigon\", \"Krap\",\n",
    "           \"Lipler\", \"Magania\", \"None\", \"Poison\", \"Swizzor\", \"Tdss\",\n",
    "           \"VB\", \"Virut\", \"Zbot\"]\n",
    "\n",
    "# a function for writing predictions in the required format\n",
    "def write_predictions(predictions, ids, outfile):\n",
    "    \"\"\"\n",
    "    assumes len(predictions) == len(ids), and that predictions[i] is the\n",
    "    index of the predicted class with the malware_classes list above for \n",
    "    the executable corresponding to ids[i].\n",
    "    outfile will be overwritten\n",
    "    \"\"\"\n",
    "    with open(outfile,\"w+\") as f:\n",
    "        # write header\n",
    "        f.write(\"Id,Prediction\\n\")\n",
    "        for i, history_id in enumerate(ids):\n",
    "            f.write(\"%s,%d\\n\" % (history_id, predictions[i]))"
   ]
  },
  {
   "cell_type": "code",
   "execution_count": 37,
   "metadata": {
    "collapsed": false
   },
   "outputs": [],
   "source": [
    "import pandas as pd\n",
    "\n",
    "ids_classes = []\n",
    "trees = []\n",
    "for fname in os.listdir('train'):\n",
    "    if fname == '.DS_Store':\n",
    "        continue\n",
    "    id_str, clazz = fname.split('.')[:2]\n",
    "    ids_classes.append((id_str, clazz))\n",
    "    tree = ET.parse(os.path.join('train', fname))\n",
    "    trees.append(tree)\n",
    "\n",
    "train_df = pd.DataFrame.from_records(ids_classes, columns=['id','class']) "
   ]
  },
  {
   "cell_type": "code",
   "execution_count": 38,
   "metadata": {
    "collapsed": false
   },
   "outputs": [
    {
     "data": {
      "text/html": [
       "<div>\n",
       "<table border=\"1\" class=\"dataframe\">\n",
       "  <thead>\n",
       "    <tr style=\"text-align: right;\">\n",
       "      <th></th>\n",
       "      <th>id</th>\n",
       "      <th>class</th>\n",
       "    </tr>\n",
       "  </thead>\n",
       "  <tbody>\n",
       "    <tr>\n",
       "      <th>0</th>\n",
       "      <td>00269ea50001a6c699d0222032d45b74b2e7e8be9</td>\n",
       "      <td>None</td>\n",
       "    </tr>\n",
       "    <tr>\n",
       "      <th>1</th>\n",
       "      <td>00278ec420236020d6121dffe0cc20034422e7228</td>\n",
       "      <td>Lipler</td>\n",
       "    </tr>\n",
       "    <tr>\n",
       "      <th>2</th>\n",
       "      <td>002d5615d19c851934dc481c607b6a74a6e9e536e</td>\n",
       "      <td>VB</td>\n",
       "    </tr>\n",
       "    <tr>\n",
       "      <th>3</th>\n",
       "      <td>006be5Dc265600c19728c9747fb4c7bc9e8d6f106</td>\n",
       "      <td>None</td>\n",
       "    </tr>\n",
       "    <tr>\n",
       "      <th>4</th>\n",
       "      <td>0089453df77890cae95ce7d9130a4ef85eaea36e8</td>\n",
       "      <td>Swizzor</td>\n",
       "    </tr>\n",
       "  </tbody>\n",
       "</table>\n",
       "</div>"
      ],
      "text/plain": [
       "                                          id    class\n",
       "0  00269ea50001a6c699d0222032d45b74b2e7e8be9     None\n",
       "1  00278ec420236020d6121dffe0cc20034422e7228   Lipler\n",
       "2  002d5615d19c851934dc481c607b6a74a6e9e536e       VB\n",
       "3  006be5Dc265600c19728c9747fb4c7bc9e8d6f106     None\n",
       "4  0089453df77890cae95ce7d9130a4ef85eaea36e8  Swizzor"
      ]
     },
     "execution_count": 38,
     "metadata": {},
     "output_type": "execute_result"
    }
   ],
   "source": [
    "train_df.head()"
   ]
  },
  {
   "cell_type": "code",
   "execution_count": 39,
   "metadata": {
    "collapsed": true
   },
   "outputs": [],
   "source": [
    "y = train_df['class'].values"
   ]
  },
  {
   "cell_type": "code",
   "execution_count": 40,
   "metadata": {
    "collapsed": true
   },
   "outputs": [],
   "source": [
    "def to_2class(classes):\n",
    "    return ['None' if label == 'None' else 'Mal' for label in classes] "
   ]
  },
  {
   "cell_type": "code",
   "execution_count": 41,
   "metadata": {
    "collapsed": true
   },
   "outputs": [],
   "source": [
    "not_calls = ['processes','all_section','thread','process']\n",
    "docs = []\n",
    "for tree in trees:\n",
    "    calls = []\n",
    "    for ele in tree.iter():\n",
    "        if ele.tag not in not_calls:\n",
    "            calls.append(ele.tag)   \n",
    "    docs.append(calls)"
   ]
  },
  {
   "cell_type": "code",
   "execution_count": 72,
   "metadata": {
    "collapsed": true
   },
   "outputs": [],
   "source": [
    "vectorizer = TfidfVectorizer(ngram_range=(1,5))\n",
    "tfidf = vectorizer.fit_transform([' '.join(doc) for doc in docs])"
   ]
  },
  {
   "cell_type": "code",
   "execution_count": 73,
   "metadata": {
    "collapsed": true
   },
   "outputs": [],
   "source": [
    "X = pd.DataFrame(tfidf.toarray(), columns=vectorizer.get_feature_names())"
   ]
  },
  {
   "cell_type": "code",
   "execution_count": null,
   "metadata": {
    "collapsed": true
   },
   "outputs": [],
   "source": [
    "malware_classes = [\"Agent\", \"AutoRun\", \"FraudLoad\", \"FraudPack\", \"Hupigon\", \"Krap\",\n",
    "           \"Lipler\", \"Magania\", \"None\", \"Poison\", \"Swizzor\", \"Tdss\",\n",
    "           \"VB\", \"Virut\", \"Zbot\"]"
   ]
  },
  {
   "cell_type": "code",
   "execution_count": 98,
   "metadata": {
    "collapsed": false
   },
   "outputs": [],
   "source": [
    "y_list = []\n",
    "for clazz in y:\n",
    "    i=0\n",
    "    for el in malware_classes:\n",
    "        if clazz == el:\n",
    "            y_list.append(i)\n",
    "        i+=1\n",
    "        \n",
    "numerical_y = np.array(y_list)"
   ]
  },
  {
   "cell_type": "code",
   "execution_count": 137,
   "metadata": {
    "collapsed": false
   },
   "outputs": [
    {
     "name": "stderr",
     "output_type": "stream",
     "text": [
      "[0]\ttrain-merror:0.072602\ttest-merror:0.116580\n",
      "[1]\ttrain-merror:0.060501\ttest-merror:0.110104\n",
      "[2]\ttrain-merror:0.050130\ttest-merror:0.102332\n",
      "[3]\ttrain-merror:0.045376\ttest-merror:0.090674\n",
      "[4]\ttrain-merror:0.039758\ttest-merror:0.091969\n",
      "[0]\ttrain-merror:0.027226\ttest-merror:0.101036\n",
      "[1]\ttrain-merror:0.058341\ttest-merror:0.147668\n",
      "[2]\ttrain-merror:0.143042\ttest-merror:0.196891\n",
      "[3]\ttrain-merror:0.732498\ttest-merror:0.787565\n",
      "[4]\ttrain-merror:0.369490\ttest-merror:0.362694\n"
     ]
    },
    {
     "name": "stdout",
     "output_type": "stream",
     "text": [
      "predicting, classification error (Tree)=0.091969\n",
      "predicting, classification error (Generalized Linear)=0.362694\n"
     ]
    }
   ],
   "source": [
    "import numpy as np\n",
    "import xgboost as xgb\n",
    "\n",
    "train_X, test_X, train_Y, test_Y = train_test_split(X, numerical_y)\n",
    "\n",
    "xg_train = xgb.DMatrix( train_X, label=train_Y)\n",
    "xg_test = xgb.DMatrix(test_X, label=test_Y)\n",
    "# setup parameters for xgboost\n",
    "param = {}\n",
    "# use softmax multi-class classification\n",
    "param['objective'] = 'multi:softmax'\n",
    "# scale weight of positive examples\n",
    "param['eta'] = 0.1\n",
    "param['max_depth'] = 6\n",
    "param['silent'] = 1\n",
    "#param['nthread'] = 4 #If not defined, it is set to maximum\n",
    "param['num_class'] = 15\n",
    "param[\"booster\"] = \"gbtree\"\n",
    "#param[\"lambda\"] = 1 #default: 1\n",
    "#param[\"alpha\"] = 0 #default:0\n",
    "#param[\"gamma\"] = 0 # the larger the more conservative the model is\n",
    "\n",
    "num_round = 5 # Given was 5 (Train error decreases with increasing rounds, maybe keep it small to avoid overfitting)\n",
    "ntree=200 # Given was 6\n",
    "\n",
    "watchlist = [ (xg_train,'train'), (xg_test, 'test') ]\n",
    "\n",
    "#Tree\n",
    "bst = xgb.train(param, xg_train, num_round, watchlist );\n",
    "# get prediction\n",
    "pred = bst.predict( xg_test , ntree_limit=ntree);\n",
    "\n",
    "print ('predicting, classification error (Tree)=%f' % (sum( int(pred[i]) != test_Y[i] for i in range(len(test_Y))) / float(len(test_Y)) ))\n",
    "\n",
    "\n",
    "#General Linear \n",
    "param[\"booster\"] = \"gblinear\"\n",
    "bst_linear = xgb.train(param, xg_train, num_round, watchlist );\n",
    "# get prediction\n",
    "pred_linear = bst_linear.predict( xg_test );\n",
    "\n",
    "print ('predicting, classification error (Generalized Linear)=%f' % (sum( int(pred_linear[i]) != test_Y[i] for i in range(len(test_Y))) / float(len(test_Y)) ))\n",
    "\n",
    "\n"
   ]
  }
 ],
 "metadata": {
  "kernelspec": {
   "display_name": "Python 2",
   "language": "python",
   "name": "python2"
  },
  "language_info": {
   "codemirror_mode": {
    "name": "ipython",
    "version": 2
   },
   "file_extension": ".py",
   "mimetype": "text/x-python",
   "name": "python",
   "nbconvert_exporter": "python",
   "pygments_lexer": "ipython2",
   "version": "2.7.11"
  }
 },
 "nbformat": 4,
 "nbformat_minor": 0
}
