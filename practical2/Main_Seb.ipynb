{
 "cells": [
  {
   "cell_type": "markdown",
   "metadata": {},
   "source": [
    "# !! Scroll down for XGBoost implementation"
   ]
  },
  {
   "cell_type": "code",
   "execution_count": 35,
   "metadata": {
    "collapsed": true
   },
   "outputs": [],
   "source": [
    "import os\n",
    "from collections import Counter\n",
    "try:\n",
    "    import xml.etree.cElementTree as ET\n",
    "except ImportError:\n",
    "    import xml.etree.ElementTree as ET\n",
    "import numpy as np\n",
    "from scipy import sparse\n",
    "\n",
    "from sklearn.linear_model import LogisticRegression\n",
    "from sklearn.feature_extraction.text import TfidfVectorizer\n",
    "import sklearn.metrics as metrics\n",
    "from sklearn.ensemble import RandomForestClassifier as RFC\n",
    "from sklearn.cross_validation import train_test_split\n",
    "from sklearn.svm import LinearSVC\n",
    "import matplotlib.pyplot as plt\n",
    "%matplotlib inline"
   ]
  },
  {
   "cell_type": "code",
   "execution_count": 36,
   "metadata": {
    "collapsed": false
   },
   "outputs": [],
   "source": [
    "# these are the fifteen malware classes we're looking for\n",
    "malware_classes = [\"Agent\", \"AutoRun\", \"FraudLoad\", \"FraudPack\", \"Hupigon\", \"Krap\",\n",
    "           \"Lipler\", \"Magania\", \"None\", \"Poison\", \"Swizzor\", \"Tdss\",\n",
    "           \"VB\", \"Virut\", \"Zbot\"]\n",
    "\n",
    "# a function for writing predictions in the required format\n",
    "def write_predictions(predictions, ids, outfile):\n",
    "    \"\"\"\n",
    "    assumes len(predictions) == len(ids), and that predictions[i] is the\n",
    "    index of the predicted class with the malware_classes list above for \n",
    "    the executable corresponding to ids[i].\n",
    "    outfile will be overwritten\n",
    "    \"\"\"\n",
    "    with open(outfile,\"w+\") as f:\n",
    "        # write header\n",
    "        f.write(\"Id,Prediction\\n\")\n",
    "        for i, history_id in enumerate(ids):\n",
    "            f.write(\"%s,%d\\n\" % (history_id, predictions[i]))"
   ]
  },
  {
   "cell_type": "code",
   "execution_count": 37,
   "metadata": {
    "collapsed": false
   },
   "outputs": [],
   "source": [
    "import pandas as pd\n",
    "\n",
    "ids_classes = []\n",
    "trees = []\n",
    "for fname in os.listdir('train'):\n",
    "    if fname == '.DS_Store':\n",
    "        continue\n",
    "    id_str, clazz = fname.split('.')[:2]\n",
    "    ids_classes.append((id_str, clazz))\n",
    "    tree = ET.parse(os.path.join('train', fname))\n",
    "    trees.append(tree)\n",
    "\n",
    "train_df = pd.DataFrame.from_records(ids_classes, columns=['id','class']) "
   ]
  },
  {
   "cell_type": "code",
   "execution_count": 38,
   "metadata": {
    "collapsed": false
   },
   "outputs": [
    {
     "data": {
      "text/html": [
       "<div>\n",
       "<table border=\"1\" class=\"dataframe\">\n",
       "  <thead>\n",
       "    <tr style=\"text-align: right;\">\n",
       "      <th></th>\n",
       "      <th>id</th>\n",
       "      <th>class</th>\n",
       "    </tr>\n",
       "  </thead>\n",
       "  <tbody>\n",
       "    <tr>\n",
       "      <th>0</th>\n",
       "      <td>00269ea50001a6c699d0222032d45b74b2e7e8be9</td>\n",
       "      <td>None</td>\n",
       "    </tr>\n",
       "    <tr>\n",
       "      <th>1</th>\n",
       "      <td>00278ec420236020d6121dffe0cc20034422e7228</td>\n",
       "      <td>Lipler</td>\n",
       "    </tr>\n",
       "    <tr>\n",
       "      <th>2</th>\n",
       "      <td>002d5615d19c851934dc481c607b6a74a6e9e536e</td>\n",
       "      <td>VB</td>\n",
       "    </tr>\n",
       "    <tr>\n",
       "      <th>3</th>\n",
       "      <td>006be5Dc265600c19728c9747fb4c7bc9e8d6f106</td>\n",
       "      <td>None</td>\n",
       "    </tr>\n",
       "    <tr>\n",
       "      <th>4</th>\n",
       "      <td>0089453df77890cae95ce7d9130a4ef85eaea36e8</td>\n",
       "      <td>Swizzor</td>\n",
       "    </tr>\n",
       "  </tbody>\n",
       "</table>\n",
       "</div>"
      ],
      "text/plain": [
       "                                          id    class\n",
       "0  00269ea50001a6c699d0222032d45b74b2e7e8be9     None\n",
       "1  00278ec420236020d6121dffe0cc20034422e7228   Lipler\n",
       "2  002d5615d19c851934dc481c607b6a74a6e9e536e       VB\n",
       "3  006be5Dc265600c19728c9747fb4c7bc9e8d6f106     None\n",
       "4  0089453df77890cae95ce7d9130a4ef85eaea36e8  Swizzor"
      ]
     },
     "execution_count": 38,
     "metadata": {},
     "output_type": "execute_result"
    }
   ],
   "source": [
    "train_df.head()"
   ]
  },
  {
   "cell_type": "code",
   "execution_count": 39,
   "metadata": {
    "collapsed": true
   },
   "outputs": [],
   "source": [
    "y = train_df['class'].values"
   ]
  },
  {
   "cell_type": "code",
   "execution_count": 40,
   "metadata": {
    "collapsed": true
   },
   "outputs": [],
   "source": [
    "def to_2class(classes):\n",
    "    return ['None' if label == 'None' else 'Mal' for label in classes] "
   ]
  },
  {
   "cell_type": "code",
   "execution_count": 41,
   "metadata": {
    "collapsed": true
   },
   "outputs": [],
   "source": [
    "not_calls = ['processes','all_section','thread','process']\n",
    "docs = []\n",
    "for tree in trees:\n",
    "    calls = []\n",
    "    for ele in tree.iter():\n",
    "        if ele.tag not in not_calls:\n",
    "            calls.append(ele.tag)   \n",
    "    docs.append(calls)"
   ]
  },
  {
   "cell_type": "code",
   "execution_count": 72,
   "metadata": {
    "collapsed": true
   },
   "outputs": [],
   "source": [
    "vectorizer = TfidfVectorizer(ngram_range=(1,5))\n",
    "tfidf = vectorizer.fit_transform([' '.join(doc) for doc in docs])"
   ]
  },
  {
   "cell_type": "code",
   "execution_count": 73,
   "metadata": {
    "collapsed": true
   },
   "outputs": [],
   "source": [
    "X = pd.DataFrame(tfidf.toarray(), columns=vectorizer.get_feature_names())"
   ]
  },
  {
   "cell_type": "code",
   "execution_count": null,
   "metadata": {
    "collapsed": false
   },
   "outputs": [],
   "source": []
  },
  {
   "cell_type": "code",
   "execution_count": 44,
   "metadata": {
    "collapsed": true
   },
   "outputs": [],
   "source": [
    "lr = LogisticRegression()"
   ]
  },
  {
   "cell_type": "code",
   "execution_count": 45,
   "metadata": {
    "collapsed": true
   },
   "outputs": [],
   "source": [
    "def classify_and_score(clf, X, y):\n",
    "    X_train, X_test, y_train, y_test = train_test_split(X, y)\n",
    "    clf.fit(X_train, y_train)\n",
    "    train_preds = clf.predict(X_train)\n",
    "    print 'train accuracy: ' + str(metrics.accuracy_score(y_train, train_preds))\n",
    "    test_preds = clf.predict(X_test)\n",
    "    print 'validation accuracy: ' + str(metrics.accuracy_score(y_test, test_preds))\n",
    "    return X_train, X_test, y_train, y_test"
   ]
  },
  {
   "cell_type": "code",
   "execution_count": 46,
   "metadata": {
    "collapsed": false
   },
   "outputs": [
    {
     "name": "stdout",
     "output_type": "stream",
     "text": [
      "train accuracy: 0.821521175454\n",
      "validation accuracy: 0.812176165803\n"
     ]
    }
   ],
   "source": [
    "_ = classify_and_score(lr, X, y)"
   ]
  },
  {
   "cell_type": "code",
   "execution_count": 47,
   "metadata": {
    "collapsed": false
   },
   "outputs": [
    {
     "name": "stdout",
     "output_type": "stream",
     "text": [
      "train accuracy: 0.991789109767\n",
      "validation accuracy: 0.900259067358\n"
     ]
    }
   ],
   "source": [
    "rfc = RFC(n_estimators=50)\n",
    "_ = classify_and_score(rfc, X, y)"
   ]
  },
  {
   "cell_type": "code",
   "execution_count": 48,
   "metadata": {
    "collapsed": false
   },
   "outputs": [
    {
     "data": {
      "text/plain": [
       "Index([u'vm_allocate vm_protect create_thread_remote',\n",
       "       u'create_thread_remote vm_allocate',\n",
       "       u'open_file vm_allocate vm_protect', u'create_thread connect_socket',\n",
       "       u'get_host_by_name', u'query_value create_process',\n",
       "       u'create_window get_system_directory find_window',\n",
       "       u'get_system_directory', u'create_mutex get_system_directory',\n",
       "       u'open_file vm_allocate'],\n",
       "      dtype='object')"
      ]
     },
     "execution_count": 48,
     "metadata": {},
     "output_type": "execute_result"
    }
   ],
   "source": [
    "topfeats = rfc.feature_importances_.argsort()[-10:][::-1]\n",
    "X.columns[topfeats]"
   ]
  },
  {
   "cell_type": "code",
   "execution_count": 49,
   "metadata": {
    "collapsed": false
   },
   "outputs": [
    {
     "data": {
      "text/plain": [
       "Index([u'open_file get_system_time set_value',\n",
       "       u'open_file get_system_time read_value',\n",
       "       u'open_file get_system_time open_key',\n",
       "       u'open_file get_system_time open_file',\n",
       "       u'open_file get_system_time load_image',\n",
       "       u'open_file get_system_time get_system_time',\n",
       "       u'open_file get_system_time get_file_attributes',\n",
       "       u'open_file get_system_time find_window',\n",
       "       u'open_file get_system_time delete_share', u'accept_socket'],\n",
       "      dtype='object')"
      ]
     },
     "execution_count": 49,
     "metadata": {},
     "output_type": "execute_result"
    }
   ],
   "source": [
    "bottomfeats = rfc.feature_importances_.argsort()[:10][::-1]\n",
    "X.columns[bottomfeats]"
   ]
  },
  {
   "cell_type": "code",
   "execution_count": 50,
   "metadata": {
    "collapsed": false
   },
   "outputs": [
    {
     "name": "stdout",
     "output_type": "stream",
     "text": [
      "(3086, 15336)\n",
      "(3086, 1422)\n"
     ]
    },
    {
     "name": "stderr",
     "output_type": "stream",
     "text": [
      "//anaconda/lib/python2.7/site-packages/sklearn/utils/__init__.py:93: DeprecationWarning: Function transform is deprecated; Support to use estimators as feature selectors will be removed in version 0.19. Use SelectFromModel instead.\n",
      "  warnings.warn(msg, category=DeprecationWarning)\n"
     ]
    }
   ],
   "source": [
    "print X.shape\n",
    "X_trans = rfc.transform(X)\n",
    "print X_trans.shape"
   ]
  },
  {
   "cell_type": "code",
   "execution_count": 76,
   "metadata": {
    "collapsed": false
   },
   "outputs": [
    {
     "data": {
      "text/plain": [
       "array([[ 0.        ,  0.        ,  0.        , ...,  0.        ,\n",
       "         0.        ,  0.        ],\n",
       "       [ 0.        ,  0.00108171,  0.00023368, ...,  0.        ,\n",
       "         0.        ,  0.        ],\n",
       "       [ 0.        ,  0.        ,  0.        , ...,  0.        ,\n",
       "         0.        ,  0.        ],\n",
       "       ..., \n",
       "       [ 0.        ,  0.        ,  0.        , ...,  0.        ,\n",
       "         0.        ,  0.        ],\n",
       "       [ 0.        ,  0.        ,  0.        , ...,  0.        ,\n",
       "         0.        ,  0.        ],\n",
       "       [ 0.        ,  0.00562801,  0.00687816, ...,  0.        ,\n",
       "         0.        ,  0.        ]])"
      ]
     },
     "execution_count": 76,
     "metadata": {},
     "output_type": "execute_result"
    }
   ],
   "source": [
    "X_trans"
   ]
  },
  {
   "cell_type": "code",
   "execution_count": 51,
   "metadata": {
    "collapsed": false
   },
   "outputs": [
    {
     "name": "stdout",
     "output_type": "stream",
     "text": [
      "train accuracy: 0.993085566119\n",
      "validation accuracy: 0.900259067358\n"
     ]
    }
   ],
   "source": [
    "_ = classify_and_score(rfc, X_trans, y)"
   ]
  },
  {
   "cell_type": "code",
   "execution_count": 52,
   "metadata": {
    "collapsed": false
   },
   "outputs": [
    {
     "name": "stdout",
     "output_type": "stream",
     "text": [
      "train accuracy: 0.994382022472\n",
      "validation accuracy: 0.930051813472\n"
     ]
    }
   ],
   "source": [
    "_ = classify_and_score(rfc, X_trans, to_2class(y))"
   ]
  },
  {
   "cell_type": "code",
   "execution_count": 53,
   "metadata": {
    "collapsed": false
   },
   "outputs": [
    {
     "name": "stdout",
     "output_type": "stream",
     "text": [
      "train accuracy: 0.873379429559\n",
      "validation accuracy: 0.825129533679\n"
     ]
    }
   ],
   "source": [
    "svm = LinearSVC()\n",
    "_ = classify_and_score(svm, X_trans, y)"
   ]
  },
  {
   "cell_type": "code",
   "execution_count": 54,
   "metadata": {
    "collapsed": true
   },
   "outputs": [],
   "source": [
    "from sklearn.grid_search import GridSearchCV"
   ]
  },
  {
   "cell_type": "code",
   "execution_count": 55,
   "metadata": {
    "collapsed": true
   },
   "outputs": [],
   "source": [
    "param_grid = {'n_estimators':[50, 100, 200, 500]}\n",
    "gs_rfc = GridSearchCV(rfc, param_grid)"
   ]
  },
  {
   "cell_type": "code",
   "execution_count": 56,
   "metadata": {
    "collapsed": false
   },
   "outputs": [
    {
     "data": {
      "text/plain": [
       "GridSearchCV(cv=None, error_score='raise',\n",
       "       estimator=RandomForestClassifier(bootstrap=True, class_weight=None, criterion='gini',\n",
       "            max_depth=None, max_features='auto', max_leaf_nodes=None,\n",
       "            min_samples_leaf=1, min_samples_split=2,\n",
       "            min_weight_fraction_leaf=0.0, n_estimators=50, n_jobs=1,\n",
       "            oob_score=False, random_state=None, verbose=0,\n",
       "            warm_start=False),\n",
       "       fit_params={}, iid=True, n_jobs=1,\n",
       "       param_grid={'n_estimators': [50, 100, 200, 500]},\n",
       "       pre_dispatch='2*n_jobs', refit=True, scoring=None, verbose=0)"
      ]
     },
     "execution_count": 56,
     "metadata": {},
     "output_type": "execute_result"
    }
   ],
   "source": [
    "gs_rfc.fit(X_trans, y)"
   ]
  },
  {
   "cell_type": "code",
   "execution_count": 57,
   "metadata": {
    "collapsed": true
   },
   "outputs": [],
   "source": [
    "def plot_grid_scores(grid_scores, param_name, log=False):\n",
    "    params =  [model.parameters[param_name] for model in grid_scores]\n",
    "    scores = [model.mean_validation_score for model in grid_scores]\n",
    "    plt.plot(params, scores)\n",
    "    if log:\n",
    "        plt.xscale('log')\n",
    "    plt.xlabel(param_name)\n",
    "    plt.ylabel('accuracy')\n",
    "    plt.show()"
   ]
  },
  {
   "cell_type": "code",
   "execution_count": 75,
   "metadata": {
    "collapsed": false
   },
   "outputs": [
    {
     "data": {
      "image/png": "[encoded data removed]",
      "text/plain": [
       "<matplotlib.figure.Figure at 0x242d0f690>"
      ]
     },
     "metadata": {},
     "output_type": "display_data"
    }
   ],
   "source": [
    "plot_grid_scores(gs_rfc.grid_scores_, 'n_estimators')"
   ]
  },
  {
   "cell_type": "markdown",
   "metadata": {},
   "source": [
    "## XGBoost Multiclassification\n",
    "### https://github.com/dmlc/xgboost/blob/master/demo/multiclass_classification/train.py"
   ]
  },
  {
   "cell_type": "code",
   "execution_count": null,
   "metadata": {
    "collapsed": true
   },
   "outputs": [],
   "source": [
    "malware_classes = [\"Agent\", \"AutoRun\", \"FraudLoad\", \"FraudPack\", \"Hupigon\", \"Krap\",\n",
    "           \"Lipler\", \"Magania\", \"None\", \"Poison\", \"Swizzor\", \"Tdss\",\n",
    "           \"VB\", \"Virut\", \"Zbot\"]"
   ]
  },
  {
   "cell_type": "code",
   "execution_count": 98,
   "metadata": {
    "collapsed": false
   },
   "outputs": [],
   "source": [
    "y_list = []\n",
    "for clazz in y:\n",
    "    i=0\n",
    "    for el in malware_classes:\n",
    "        if clazz == el:\n",
    "            y_list.append(i)\n",
    "        i+=1\n",
    "        \n",
    "numerical_y = np.array(y_list)"
   ]
  },
  {
   "cell_type": "code",
   "execution_count": 102,
   "metadata": {
    "collapsed": false
   },
   "outputs": [
    {
     "name": "stdout",
     "output_type": "stream",
     "text": [
      "(3086,)\n",
      "(3086,)\n"
     ]
    }
   ],
   "source": [
    "print y.shape\n",
    "print numerical_y.shape"
   ]
  },
  {
   "cell_type": "code",
   "execution_count": 137,
   "metadata": {
    "collapsed": false
   },
   "outputs": [
    {
     "name": "stderr",
     "output_type": "stream",
     "text": [
      "[0]\ttrain-merror:0.072602\ttest-merror:0.116580\n",
      "[1]\ttrain-merror:0.060501\ttest-merror:0.110104\n",
      "[2]\ttrain-merror:0.050130\ttest-merror:0.102332\n",
      "[3]\ttrain-merror:0.045376\ttest-merror:0.090674\n",
      "[4]\ttrain-merror:0.039758\ttest-merror:0.091969\n",
      "[0]\ttrain-merror:0.027226\ttest-merror:0.101036\n",
      "[1]\ttrain-merror:0.058341\ttest-merror:0.147668\n",
      "[2]\ttrain-merror:0.143042\ttest-merror:0.196891\n",
      "[3]\ttrain-merror:0.732498\ttest-merror:0.787565\n",
      "[4]\ttrain-merror:0.369490\ttest-merror:0.362694\n"
     ]
    },
    {
     "name": "stdout",
     "output_type": "stream",
     "text": [
      "predicting, classification error (Tree)=0.091969\n",
      "predicting, classification error (Generalized Linear)=0.362694\n"
     ]
    }
   ],
   "source": [
    "import numpy as np\n",
    "import xgboost as xgb\n",
    "\n",
    "train_X, test_X, train_Y, test_Y = train_test_split(X, numerical_y)\n",
    "\n",
    "xg_train = xgb.DMatrix( train_X, label=train_Y)\n",
    "xg_test = xgb.DMatrix(test_X, label=test_Y)\n",
    "# setup parameters for xgboost\n",
    "param = {}\n",
    "# use softmax multi-class classification\n",
    "param['objective'] = 'multi:softmax'\n",
    "# scale weight of positive examples\n",
    "param['eta'] = 0.1\n",
    "param['max_depth'] = 6\n",
    "param['silent'] = 1\n",
    "#param['nthread'] = 4 #If not defined, it is set to maximum\n",
    "param['num_class'] = 15\n",
    "param[\"booster\"] = \"gbtree\"\n",
    "#param[\"lambda\"] = 1 #default: 1\n",
    "#param[\"alpha\"] = 0 #default:0\n",
    "#param[\"gamma\"] = 0 # the larger the more conservative the model is\n",
    "\n",
    "num_round = 5 # Given was 5 (Train error decreases with increasing rounds, maybe keep it small to avoid overfitting)\n",
    "ntree=200 # Given was 6\n",
    "\n",
    "watchlist = [ (xg_train,'train'), (xg_test, 'test') ]\n",
    "\n",
    "#Tree\n",
    "bst = xgb.train(param, xg_train, num_round, watchlist );\n",
    "# get prediction\n",
    "pred = bst.predict( xg_test , ntree_limit=ntree);\n",
    "\n",
    "print ('predicting, classification error (Tree)=%f' % (sum( int(pred[i]) != test_Y[i] for i in range(len(test_Y))) / float(len(test_Y)) ))\n",
    "\n",
    "\n",
    "#General Linear \n",
    "param[\"booster\"] = \"gblinear\"\n",
    "bst_linear = xgb.train(param, xg_train, num_round, watchlist );\n",
    "# get prediction\n",
    "pred_linear = bst_linear.predict( xg_test );\n",
    "\n",
    "print ('predicting, classification error (Generalized Linear)=%f' % (sum( int(pred_linear[i]) != test_Y[i] for i in range(len(test_Y))) / float(len(test_Y)) ))\n",
    "\n",
    "\n"
   ]
  },
  {
   "cell_type": "code",
   "execution_count": null,
   "metadata": {
    "collapsed": false
   },
   "outputs": [],
   "source": []
  },
  {
   "cell_type": "code",
   "execution_count": null,
   "metadata": {
    "collapsed": false
   },
   "outputs": [],
   "source": []
  },
  {
   "cell_type": "code",
   "execution_count": null,
   "metadata": {
    "collapsed": true
   },
   "outputs": [],
   "source": []
  }
 ],
 "metadata": {
  "kernelspec": {
   "display_name": "Python 2",
   "language": "python",
   "name": "python2"
  },
  "language_info": {
   "codemirror_mode": {
    "name": "ipython",
    "version": 2
   },
   "file_extension": ".py",
   "mimetype": "text/x-python",
   "name": "python",
   "nbconvert_exporter": "python",
   "pygments_lexer": "ipython2",
   "version": "2.7.11"
  }
 },
 "nbformat": 4,
 "nbformat_minor": 0
}
