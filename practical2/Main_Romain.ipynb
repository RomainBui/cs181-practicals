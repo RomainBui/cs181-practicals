{
 "cells": [
  {
   "cell_type": "markdown",
   "metadata": {},
   "source": [
    "# Main Romain"
   ]
  },
  {
   "cell_type": "markdown",
   "metadata": {},
   "source": [
    "## Ideas\n",
    "\n",
    "- A lot of unsuccesfull execution of task, might indicates 'trying to find a breach'"
   ]
  },
  {
   "cell_type": "markdown",
   "metadata": {},
   "source": [
    "## Library Loading"
   ]
  },
  {
   "cell_type": "code",
   "execution_count": 1,
   "metadata": {
    "collapsed": false
   },
   "outputs": [],
   "source": [
    "## Classical libraries\n",
    "import pandas as pd\n",
    "import numpy as np\n",
    "import matplotlib.pyplot as plt\n",
    "# from sklearn.linear_model import LinearRegression\n",
    "# from sklearn.ensemble import RandomForestRegressor\n",
    "# from sklearn.cross_validation import cross_val_score\n",
    "# from sklearn.cross_validation import train_test_split\n",
    "# from sklearn.metrics import mean_squared_error"
   ]
  },
  {
   "cell_type": "code",
   "execution_count": 2,
   "metadata": {
    "collapsed": true
   },
   "outputs": [],
   "source": [
    "## Specific libraries"
   ]
  },
  {
   "cell_type": "code",
   "execution_count": 3,
   "metadata": {
    "collapsed": true
   },
   "outputs": [],
   "source": [
    "from collections import Counter\n",
    "try:\n",
    "    import xml.etree.cElementTree as ET\n",
    "except ImportError:\n",
    "    import xml.etree.ElementTree as ET"
   ]
  },
  {
   "cell_type": "markdown",
   "metadata": {},
   "source": [
    "## Loading the data"
   ]
  },
  {
   "cell_type": "code",
   "execution_count": 4,
   "metadata": {
    "collapsed": false
   },
   "outputs": [],
   "source": [
    "path = 'Data/train/0a8e69f80f39b18a78ca7B778a4efb029e7b42fbf.Zbot.xml'\n",
    "tree = ET.parse(path)\n",
    "root = tree.getroot()"
   ]
  },
  {
   "cell_type": "markdown",
   "metadata": {},
   "source": [
    "## Features Engineering"
   ]
  },
  {
   "cell_type": "code",
   "execution_count": 5,
   "metadata": {
    "collapsed": false
   },
   "outputs": [],
   "source": [
    "def XML_get(root, element, attrib_name=''):\n",
    "    res = []\n",
    "    if attrib_name != '':\n",
    "        for t in root.iter(element):\n",
    "            try: \n",
    "                res.append(t.attrib[attrib_name])\n",
    "            except:\n",
    "                res.append(None)\n",
    "    else:\n",
    "        for t in root.iter(element):\n",
    "            try:\n",
    "                res.append(t.attrib)\n",
    "            except:\n",
    "                res.append(None)\n",
    "    return res\n",
    "\n",
    "### Get some potential features\n",
    "\n",
    "    # Load DLL\n",
    "load_dll_files              = XML_get(root, 'load_dll',   'filename')\n",
    "\n",
    "    # VM_Protect\n",
    "vm_protect_target           = XML_get(root, 'vm_protect', 'target')\n",
    "vm_protect_protect          = XML_get(root, 'vm_protect', 'protect')\n",
    "vm_protect_behavior         = XML_get(root, 'vm_protect', 'behavior')\n",
    "\n",
    "    # Open Key\n",
    "open_key_key                = XML_get(root, 'open_key', 'key')\n",
    "\n",
    "    # Process\n",
    "process_filename            = XML_get(root, 'process', 'filename')\n",
    "process_filesize            = XML_get(root, 'process', 'filesize')\n",
    "process_username            = XML_get(root, 'process', 'username')\n",
    "process_applicationtype     = XML_get(root, 'process', 'applicationtype')\n",
    "process_terminationreason   = XML_get(root, 'process', 'terminationreason')\n",
    "\n",
    "    # Set Files Attributes\n",
    "set_file_attributes_srcfile = XML_get(root, 'set_file_attributes', 'srcfile')\n",
    "\n",
    "    # Open File\n",
    "open_file_filetype      = XML_get(root, 'open_file', 'filetype')\n",
    "open_file_srcfile       = XML_get(root, 'open_file', 'srcfile')\n",
    "open_file_desiredaccess = XML_get(root, 'open_file', 'desiredaccess')\n",
    "\n",
    "    # Find the successes\n",
    "successes = []\n",
    "for t in root.findall(\".//*[@successful]\"):\n",
    "    successes.append(int(t.attrib['successful']))\n",
    "success_ratio = sum(successes) / float(len(successes))\n",
    "\n",
    "    # Kill Process\n",
    "kill_process = XML_get(root, 'kill_process', 'apifunction')\n",
    "\n",
    "\n"
   ]
  },
  {
   "cell_type": "code",
   "execution_count": 6,
   "metadata": {
    "collapsed": false
   },
   "outputs": [
    {
     "data": {
      "text/plain": [
       "['NtTerminateProcess']"
      ]
     },
     "execution_count": 6,
     "metadata": {},
     "output_type": "execute_result"
    }
   ],
   "source": [
    "kill_process"
   ]
  },
  {
   "cell_type": "markdown",
   "metadata": {},
   "source": [
    "##### Find all the tags "
   ]
  },
  {
   "cell_type": "code",
   "execution_count": 7,
   "metadata": {
    "collapsed": false
   },
   "outputs": [],
   "source": [
    "all_tags = []\n",
    "for t in root.iter('all_section'):\n",
    "    for child in t.getchildren():\n",
    "        all_tags.append(child.tag)\n"
   ]
  },
  {
   "cell_type": "code",
   "execution_count": 8,
   "metadata": {
    "collapsed": false
   },
   "outputs": [
    {
     "data": {
      "text/plain": [
       "{'bind_socket',\n",
       " 'check_for_debugger',\n",
       " 'com_create_instance',\n",
       " 'connect',\n",
       " 'copy_file',\n",
       " 'create_interface',\n",
       " 'create_key',\n",
       " 'create_mutex',\n",
       " 'create_open_file',\n",
       " 'create_socket',\n",
       " 'create_thread',\n",
       " 'create_thread_remote',\n",
       " 'delete_file',\n",
       " 'enum_keys',\n",
       " 'enum_modules',\n",
       " 'enum_processes',\n",
       " 'enum_types',\n",
       " 'enum_values',\n",
       " 'find_file',\n",
       " 'get_computer_name',\n",
       " 'get_file_attributes',\n",
       " 'get_host_by_name',\n",
       " 'get_system_directory',\n",
       " 'get_system_time',\n",
       " 'get_username',\n",
       " 'impersonate_user',\n",
       " 'kill_process',\n",
       " 'listen_socket',\n",
       " 'load_dll',\n",
       " 'load_image',\n",
       " 'move_file',\n",
       " 'open_file',\n",
       " 'open_key',\n",
       " 'open_mutex',\n",
       " 'open_process',\n",
       " 'open_scmanager',\n",
       " 'open_service',\n",
       " 'open_url',\n",
       " 'query_value',\n",
       " 'revert_to_self',\n",
       " 'set_file_attributes',\n",
       " 'set_file_time',\n",
       " 'set_value',\n",
       " 'set_windows_hook',\n",
       " 'sleep',\n",
       " 'vm_allocate',\n",
       " 'vm_protect',\n",
       " 'vm_write'}"
      ]
     },
     "execution_count": 8,
     "metadata": {},
     "output_type": "execute_result"
    }
   ],
   "source": [
    "set(all_tags)"
   ]
  },
  {
   "cell_type": "markdown",
   "metadata": {},
   "source": [
    "## Trying to add a new single feature into Mark's Model"
   ]
  },
  {
   "cell_type": "code",
   "execution_count": null,
   "metadata": {
    "collapsed": true
   },
   "outputs": [],
   "source": [
    "\n",
    "\n",
    "path = 'Data/train/0a8e69f80f39b18a78ca7B778a4efb029e7b42fbf.Zbot.xml'\n",
    "tree = ET.parse(path)\n",
    "root = tree.getroot()"
   ]
  },
  {
   "cell_type": "markdown",
   "metadata": {},
   "source": [
    "## Mark EXAMPLE"
   ]
  },
  {
   "cell_type": "code",
   "execution_count": 8,
   "metadata": {
    "collapsed": true
   },
   "outputs": [],
   "source": [
    "import os\n",
    "from collections import Counter\n",
    "try:\n",
    "    import xml.etree.cElementTree as ET\n",
    "except ImportError:\n",
    "    import xml.etree.ElementTree as ET\n",
    "import numpy as np\n",
    "from scipy import sparse\n",
    "\n",
    "from sklearn.linear_model import LogisticRegression\n",
    "from sklearn.feature_extraction.text import TfidfVectorizer\n",
    "import sklearn.metrics as metrics\n",
    "from sklearn.ensemble import RandomForestClassifier as RFC\n",
    "from sklearn.cross_validation import train_test_split\n",
    "from sklearn.svm import LinearSVC\n",
    "import matplotlib.pyplot as plt\n",
    "%matplotlib inline"
   ]
  },
  {
   "cell_type": "code",
   "execution_count": 9,
   "metadata": {
    "collapsed": true
   },
   "outputs": [],
   "source": [
    "# these are the fifteen malware classes we're looking for\n",
    "malware_classes = [\"Agent\", \"AutoRun\", \"FraudLoad\", \"FraudPack\", \"Hupigon\", \"Krap\",\n",
    "           \"Lipler\", \"Magania\", \"None\", \"Poison\", \"Swizzor\", \"Tdss\",\n",
    "           \"VB\", \"Virut\", \"Zbot\"]\n",
    "\n",
    "# a function for writing predictions in the required format\n",
    "def write_predictions(predictions, ids, outfile):\n",
    "    \"\"\"\n",
    "    assumes len(predictions) == len(ids), and that predictions[i] is the\n",
    "    index of the predicted class with the malware_classes list above for \n",
    "    the executable corresponding to ids[i].\n",
    "    outfile will be overwritten\n",
    "    \"\"\"\n",
    "    with open(outfile,\"w+\") as f:\n",
    "        # write header\n",
    "        f.write(\"Id,Prediction\\n\")\n",
    "        for i, history_id in enumerate(ids):\n",
    "            f.write(\"%s,%d\\n\" % (history_id, predictions[i]))"
   ]
  },
  {
   "cell_type": "code",
   "execution_count": 12,
   "metadata": {
    "collapsed": false
   },
   "outputs": [],
   "source": [
    "import pandas as pd\n",
    "\n",
    "ids_classes = []\n",
    "trees = []\n",
    "for fname in os.listdir('Data/train')[:100]:\n",
    "    if fname == '.DS_Store':\n",
    "        continue\n",
    "    id_str, clazz = fname.split('.')[:2]\n",
    "    ids_classes.append((id_str, clazz))\n",
    "    tree = ET.parse(os.path.join('Data/train', fname))\n",
    "    trees.append(tree)\n",
    "\n",
    "train_df = pd.DataFrame.from_records(ids_classes, columns=['id','class']) "
   ]
  },
  {
   "cell_type": "code",
   "execution_count": 17,
   "metadata": {
    "collapsed": true
   },
   "outputs": [],
   "source": [
    "y = train_df['class'].values"
   ]
  },
  {
   "cell_type": "code",
   "execution_count": 16,
   "metadata": {
    "collapsed": true
   },
   "outputs": [],
   "source": [
    "def to_2class(classes):\n",
    "    return ['None' if label == 'None' else 'Mal' for label in classes] "
   ]
  },
  {
   "cell_type": "code",
   "execution_count": 18,
   "metadata": {
    "collapsed": false
   },
   "outputs": [
    {
     "data": {
      "text/plain": [
       "array(['None', 'Lipler', 'VB', 'None', 'Swizzor', 'Zbot', 'None', 'None',\n",
       "       'None', 'None', 'None', 'None', 'None', 'Zbot', 'Swizzor', 'Virut',\n",
       "       'None', 'None', 'None', 'Virut', 'Swizzor', 'VB', 'Agent', 'None',\n",
       "       'Swizzor', 'Swizzor', 'None', 'None', 'Agent', 'Swizzor', 'Tdss',\n",
       "       'Agent', 'None', 'Magania', 'VB', 'None', 'None', 'None', 'None',\n",
       "       'None', 'VB', 'AutoRun', 'Swizzor', 'VB', 'None', 'AutoRun',\n",
       "       'Agent', 'None', 'None', 'Swizzor', 'None', 'Agent', 'None', 'Krap',\n",
       "       'Swizzor', 'FraudPack', 'None', 'Zbot', 'None', 'None', 'None',\n",
       "       'VB', 'FraudPack', 'None', 'None', 'None', 'Agent', 'None', 'None',\n",
       "       'None', 'Virut', 'None', 'VB', 'None', 'None', 'None', 'Swizzor',\n",
       "       'Swizzor', 'None', 'Swizzor', 'None', 'None', 'VB', 'None', 'None',\n",
       "       'VB', 'Swizzor', 'None', 'None', 'FraudLoad', 'None', 'None',\n",
       "       'None', 'Swizzor', 'None', 'Swizzor', 'Swizzor', 'Swizzor', 'None',\n",
       "       'None'], dtype=object)"
      ]
     },
     "execution_count": 18,
     "metadata": {},
     "output_type": "execute_result"
    }
   ],
   "source": [
    "y"
   ]
  },
  {
   "cell_type": "code",
   "execution_count": 19,
   "metadata": {
    "collapsed": true
   },
   "outputs": [],
   "source": [
    "not_calls = ['processes','all_section','thread','process']\n",
    "docs = []\n",
    "for tree in trees:\n",
    "    calls = []\n",
    "    for ele in tree.iter():\n",
    "        if ele.tag not in not_calls:\n",
    "            calls.append(ele.tag)   \n",
    "    docs.append(calls)"
   ]
  },
  {
   "cell_type": "code",
   "execution_count": 21,
   "metadata": {
    "collapsed": true
   },
   "outputs": [],
   "source": [
    "vectorizer = TfidfVectorizer(ngram_range=(1,3))\n",
    "tfidf = vectorizer.fit_transform([' '.join(doc) for doc in docs])"
   ]
  },
  {
   "cell_type": "code",
   "execution_count": 24,
   "metadata": {
    "collapsed": true
   },
   "outputs": [],
   "source": [
    "X = pd.DataFrame(tfidf.toarray(), columns=vectorizer.get_feature_names())"
   ]
  },
  {
   "cell_type": "code",
   "execution_count": 26,
   "metadata": {
    "collapsed": true
   },
   "outputs": [],
   "source": [
    "lr = LogisticRegression()"
   ]
  },
  {
   "cell_type": "code",
   "execution_count": 27,
   "metadata": {
    "collapsed": true
   },
   "outputs": [],
   "source": [
    "def classify_and_score(clf, X, y):\n",
    "    X_train, X_test, y_train, y_test = train_test_split(X, y)\n",
    "    clf.fit(X_train, y_train)\n",
    "    train_preds = clf.predict(X_train)\n",
    "    print 'train accuracy: ' + str(metrics.accuracy_score(y_train, train_preds))\n",
    "    test_preds = clf.predict(X_test)\n",
    "    print 'validation accuracy: ' + str(metrics.accuracy_score(y_test, test_preds))\n",
    "    return X_train, X_test, y_train, y_test"
   ]
  },
  {
   "cell_type": "code",
   "execution_count": 28,
   "metadata": {
    "collapsed": false
   },
   "outputs": [
    {
     "name": "stdout",
     "output_type": "stream",
     "text": [
      "train accuracy: 0.76\n",
      "validation accuracy: 0.68\n"
     ]
    }
   ],
   "source": [
    "_ = classify_and_score(lr, X, y)"
   ]
  },
  {
   "cell_type": "code",
   "execution_count": null,
   "metadata": {
    "collapsed": true
   },
   "outputs": [],
   "source": []
  }
 ],
 "metadata": {
  "kernelspec": {
   "display_name": "Python 2",
   "language": "python",
   "name": "python2"
  },
  "language_info": {
   "codemirror_mode": {
    "name": "ipython",
    "version": 2
   },
   "file_extension": ".py",
   "mimetype": "text/x-python",
   "name": "python",
   "nbconvert_exporter": "python",
   "pygments_lexer": "ipython2",
   "version": "2.7.11"
  }
 },
 "nbformat": 4,
 "nbformat_minor": 0
}
