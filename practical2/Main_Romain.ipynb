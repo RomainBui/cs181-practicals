{
 "cells": [
  {
   "cell_type": "markdown",
   "metadata": {},
   "source": [
    "# Main Romain"
   ]
  },
  {
   "cell_type": "markdown",
   "metadata": {},
   "source": [
    "## Ideas\n",
    "\n",
    "- A lot of unsuccesfull execution of task, might indicates 'trying to find a breach'"
   ]
  },
  {
   "cell_type": "markdown",
   "metadata": {},
   "source": [
    "## Library Loading"
   ]
  },
  {
   "cell_type": "code",
   "execution_count": 3,
   "metadata": {
    "collapsed": false
   },
   "outputs": [],
   "source": [
    "## Classical libraries\n",
    "import pandas as pd\n",
    "import numpy as np\n",
    "import matplotlib.pyplot as plt\n",
    "from sklearn.linear_model import LinearRegression\n",
    "from sklearn.ensemble import RandomForestRegressor\n",
    "from sklearn.cross_validation import cross_val_score\n",
    "from sklearn.cross_validation import train_test_split\n",
    "from sklearn.metrics import mean_squared_error"
   ]
  },
  {
   "cell_type": "code",
   "execution_count": 5,
   "metadata": {
    "collapsed": true
   },
   "outputs": [],
   "source": [
    "## Specific libraries"
   ]
  },
  {
   "cell_type": "code",
   "execution_count": 6,
   "metadata": {
    "collapsed": true
   },
   "outputs": [],
   "source": [
    "from collections import Counter\n",
    "try:\n",
    "    import xml.etree.cElementTree as ET\n",
    "except ImportError:\n",
    "    import xml.etree.ElementTree as ET"
   ]
  },
  {
   "cell_type": "markdown",
   "metadata": {},
   "source": [
    "## Loading the data"
   ]
  },
  {
   "cell_type": "code",
   "execution_count": 41,
   "metadata": {
    "collapsed": false
   },
   "outputs": [],
   "source": [
    "path = 'Data/train/0a8e69f80f39b18a78ca7B778a4efb029e7b42fbf.Zbot.xml'\n",
    "tree = ET.parse(path)\n",
    "root = tree.getroot()"
   ]
  },
  {
   "cell_type": "markdown",
   "metadata": {},
   "source": [
    "## Features Engineering"
   ]
  },
  {
   "cell_type": "code",
   "execution_count": 168,
   "metadata": {
    "collapsed": false
   },
   "outputs": [],
   "source": [
    "def XML_get(root, element, attrib_name=''):\n",
    "    res = []\n",
    "    if attrib_name != '':\n",
    "        for t in root.iter(element):\n",
    "            try: \n",
    "                res.append(t.attrib[attrib_name])\n",
    "            except:\n",
    "                res.append(None)\n",
    "    else:\n",
    "        for t in root.iter(element):\n",
    "            try:\n",
    "                res.append(t.attrib)\n",
    "            except:\n",
    "                res.append(None)\n",
    "    return res\n",
    "\n",
    "### Get some potential features\n",
    "load_dll_files      = XML_get(root, 'load_dll',   'filename')\n",
    "vm_protect_target   = XML_get(root, 'vm_protect', 'target')\n",
    "vm_protect_protect  = XML_get(root, 'vm_protect', 'protect')\n",
    "vm_protect_behavior = XML_get(root, 'vm_protect', 'behavior')\n",
    "open_key_key        = XML_get(root, 'open_key', 'key')\n",
    "process_filename    = XML_get(root, 'process', 'filename')\n",
    "process_filesize    = XML_get(root, 'process', 'filesize')\n",
    "process_username    = XML_get(root, 'process', 'username')\n",
    "\n",
    "### Find the successes\n",
    "successes = []\n",
    "for t in root.findall(\".//*[@successful]\"):\n",
    "    successes.append(int(t.attrib['successful']))\n",
    "    \n",
    "success_ratio = sum(successes) / float(len(successes))\n",
    "    "
   ]
  },
  {
   "cell_type": "code",
   "execution_count": 169,
   "metadata": {
    "collapsed": false
   },
   "outputs": [
    {
     "data": {
      "text/plain": [
       "0.9850857568978374"
      ]
     },
     "execution_count": 169,
     "metadata": {},
     "output_type": "execute_result"
    }
   ],
   "source": [
    "success_ratio"
   ]
  },
  {
   "cell_type": "markdown",
   "metadata": {},
   "source": [
    "##### Find all the tags "
   ]
  },
  {
   "cell_type": "code",
   "execution_count": 99,
   "metadata": {
    "collapsed": false
   },
   "outputs": [],
   "source": [
    "all_tags = []\n",
    "for t in root.iter('all_section'):\n",
    "    for child in t.getchildren():\n",
    "        all_tags.append(child.tag)\n"
   ]
  },
  {
   "cell_type": "code",
   "execution_count": 101,
   "metadata": {
    "collapsed": false
   },
   "outputs": [
    {
     "data": {
      "text/plain": [
       "{'bind_socket',\n",
       " 'check_for_debugger',\n",
       " 'com_create_instance',\n",
       " 'connect',\n",
       " 'copy_file',\n",
       " 'create_interface',\n",
       " 'create_key',\n",
       " 'create_mutex',\n",
       " 'create_open_file',\n",
       " 'create_socket',\n",
       " 'create_thread',\n",
       " 'create_thread_remote',\n",
       " 'delete_file',\n",
       " 'enum_keys',\n",
       " 'enum_modules',\n",
       " 'enum_processes',\n",
       " 'enum_types',\n",
       " 'enum_values',\n",
       " 'find_file',\n",
       " 'get_computer_name',\n",
       " 'get_file_attributes',\n",
       " 'get_host_by_name',\n",
       " 'get_system_directory',\n",
       " 'get_system_time',\n",
       " 'get_username',\n",
       " 'impersonate_user',\n",
       " 'kill_process',\n",
       " 'listen_socket',\n",
       " 'load_dll',\n",
       " 'load_image',\n",
       " 'move_file',\n",
       " 'open_file',\n",
       " 'open_key',\n",
       " 'open_mutex',\n",
       " 'open_process',\n",
       " 'open_scmanager',\n",
       " 'open_service',\n",
       " 'open_url',\n",
       " 'query_value',\n",
       " 'revert_to_self',\n",
       " 'set_file_attributes',\n",
       " 'set_file_time',\n",
       " 'set_value',\n",
       " 'set_windows_hook',\n",
       " 'sleep',\n",
       " 'vm_allocate',\n",
       " 'vm_protect',\n",
       " 'vm_write'}"
      ]
     },
     "execution_count": 101,
     "metadata": {},
     "output_type": "execute_result"
    }
   ],
   "source": [
    "set(all_tags)"
   ]
  }
 ],
 "metadata": {
  "kernelspec": {
   "display_name": "py22",
   "language": "python",
   "name": "py22"
  },
  "language_info": {
   "codemirror_mode": {
    "name": "ipython",
    "version": 2
   },
   "file_extension": ".py",
   "mimetype": "text/x-python",
   "name": "python",
   "nbconvert_exporter": "python",
   "pygments_lexer": "ipython2",
   "version": "2.7.11"
  }
 },
 "nbformat": 4,
 "nbformat_minor": 0
}
