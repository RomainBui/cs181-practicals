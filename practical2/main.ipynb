{
 "cells": [
  {
   "cell_type": "code",
   "execution_count": 8,
   "metadata": {
    "collapsed": false
   },
   "outputs": [
    {
     "name": "stdout",
     "output_type": "stream",
     "text": [
      "   0\n",
      "0  0\n",
      "1  1\n",
      "2  2\n"
     ]
    }
   ],
   "source": [
    "import pandas as pd\n",
    "import boto\n",
    "\n",
    "a = pd.DataFrame([0,1,2])\n",
    "print(a)\n",
    "a.to_csv('res.csv')\n",
    "\n",
    "### Connection to S3\n",
    "\n",
    "s3 = boto.connect_s3(aws_access_key_id='', \n",
    "                     aws_secret_access_key='')\n",
    "\n",
    "s3_bucket_p2 = s3.get_bucket('harvard_practicals2')\n",
    "k = s3_bucket_p2.new_key('res.csv')\n",
    "k.set_contents_from_filename('res.csv')"
   ]
  }
 ],
 "metadata": {
  "kernelspec": {
   "display_name": "py22",
   "language": "python",
   "name": "py22"
  },
  "language_info": {
   "codemirror_mode": {
    "name": "ipython",
    "version": 2
   },
   "file_extension": ".py",
   "mimetype": "text/x-python",
   "name": "python",
   "nbconvert_exporter": "python",
   "pygments_lexer": "ipython2",
   "version": "2.7.11"
  }
 },
 "nbformat": 4,
 "nbformat_minor": 0
}
