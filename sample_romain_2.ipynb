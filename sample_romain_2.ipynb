{
 "cells": [
  {
   "cell_type": "markdown",
   "metadata": {},
   "source": [
    "# Romain's Notebook - Section 1"
   ]
  },
  {
   "cell_type": "markdown",
   "metadata": {},
   "source": [
    "## Libraries Loading"
   ]
  },
  {
   "cell_type": "code",
   "execution_count": 6,
   "metadata": {
    "collapsed": false
   },
   "outputs": [],
   "source": [
    "import pandas as pd\n",
    "import numpy as np\n",
    "import matplotlib.pyplot as plt\n",
    "from sklearn.linear_model import LinearRegression\n",
    "from sklearn.ensemble import RandomForestRegressor\n",
    "from sklearn.cross_validation import cross_val_score\n",
    "from sklearn.cross_validation import train_test_split\n",
    "from sklearn.metrics import mean_squared_error"
   ]
  },
  {
   "cell_type": "code",
   "execution_count": 3,
   "metadata": {
    "collapsed": false
   },
   "outputs": [],
   "source": [
    "import openbabel\n",
    "import pybel\n",
    "from collections import Counter\n",
    "import pyprind"
   ]
  },
  {
   "cell_type": "markdown",
   "metadata": {},
   "source": [
    "## Data Loading"
   ]
  },
  {
   "cell_type": "code",
   "execution_count": 4,
   "metadata": {
    "collapsed": false
   },
   "outputs": [],
   "source": [
    "df_train = pd.read_csv(\"Data/train\")\n",
    "df_test = pd.read_csv(\"Data/test\")"
   ]
  },
  {
   "cell_type": "code",
   "execution_count": 8,
   "metadata": {
    "collapsed": false
   },
   "outputs": [
    {
     "name": "stdout",
     "output_type": "stream",
     "text": [
      "(100000, 258)\n"
     ]
    }
   ],
   "source": [
    "df,_ = train_test_split(df_train, train_size=0.1)\n",
    "print df.shape\n",
    "X = df.drop(['gap'], axis=1)\n",
    "y = df.gap.values\n",
    "X_train, X_test, y_train, y_test = train_test_split(X, y, test_size=0.2)"
   ]
  },
  {
   "cell_type": "markdown",
   "metadata": {},
   "source": [
    "## Feature Design"
   ]
  },
  {
   "cell_type": "code",
   "execution_count": 18,
   "metadata": {
    "collapsed": false
   },
   "outputs": [],
   "source": [
    "def MakeSomeFeatures(df):\n",
    "    #df = df_train.head(10)\n",
    "    df.index = df.smiles.values\n",
    "    mybar = pyprind.ProgBar(df.shape[0])\n",
    "\n",
    "    for s in df.smiles.values:\n",
    "        mol = pybel.readstring(\"smi\",s)\n",
    "        df.loc[s, 'weight'] = mol.molwt\n",
    "        df.loc[s, 'energy'] = mol.energy\n",
    "        df.loc[s, 'dim']    = mol.dim\n",
    "        df.loc[s, 'spin']   = mol.spin\n",
    "        df.loc[s, 'charge'] = mol.charge\n",
    "\n",
    "        # Get the Atomic Structure\n",
    "        for x in Counter([t.type for t in mol.atoms]).items():\n",
    "            df.loc[s, x[0]] = x[1]    \n",
    "\n",
    "        # Update the bar\n",
    "        mybar.update()\n",
    "    df = df.reset_index()\n",
    "    df = df.drop(['index'], axis = 1)\n",
    "    return df\n",
    "    "
   ]
  },
  {
   "cell_type": "code",
   "execution_count": null,
   "metadata": {
    "collapsed": false
   },
   "outputs": [
    {
     "name": "stderr",
     "output_type": "stream",
     "text": [
      "0%                          100%\n",
      "[                              ]"
     ]
    }
   ],
   "source": [
    "X_train = MakeSomeFeatures(X_train)"
   ]
  },
  {
   "cell_type": "markdown",
   "metadata": {},
   "source": [
    "## TEST ZONE ##"
   ]
  },
  {
   "cell_type": "markdown",
   "metadata": {},
   "source": [
    "##### Usage of the package : OpenBabel"
   ]
  },
  {
   "cell_type": "code",
   "execution_count": null,
   "metadata": {
    "collapsed": false
   },
   "outputs": [],
   "source": [
    "mols = df_train.loc[0:1, 'smiles'].values\n",
    "\n",
    "# Read a Molecule\n",
    "a = pybel.readstring(\"smi\",mols[0])\n",
    "b = pybel.readstring(\"smi\",mols[1])"
   ]
  },
  {
   "cell_type": "code",
   "execution_count": null,
   "metadata": {
    "collapsed": false
   },
   "outputs": [],
   "source": [
    "a"
   ]
  },
  {
   "cell_type": "code",
   "execution_count": null,
   "metadata": {
    "collapsed": false
   },
   "outputs": [],
   "source": [
    "b.charge"
   ]
  },
  {
   "cell_type": "code",
   "execution_count": null,
   "metadata": {
    "collapsed": false
   },
   "outputs": [],
   "source": [
    "print('Molecule : '), a\n",
    "print('Weight :'), a.molwt\n",
    "print('FingerPrint:'), a.calcfp().bits[0:10]\n",
    "print('Atomic Structure:'), Counter([t.type for t in a.atoms])\n",
    "print('Energy'), a.energy\n",
    "print('Dim'), a.dim\n",
    "print('Spin'), a.spin\n",
    "\n",
    "print('tanimoto A|B'), a.calcfp()|b.calcfp()"
   ]
  },
  {
   "cell_type": "code",
   "execution_count": null,
   "metadata": {
    "collapsed": false
   },
   "outputs": [],
   "source": [
    "test = a.conformers"
   ]
  },
  {
   "cell_type": "code",
   "execution_count": null,
   "metadata": {
    "collapsed": false
   },
   "outputs": [],
   "source": [
    "a.spin"
   ]
  },
  {
   "cell_type": "markdown",
   "metadata": {},
   "source": [
    "## RF Test"
   ]
  },
  {
   "cell_type": "code",
   "execution_count": null,
   "metadata": {
    "collapsed": true
   },
   "outputs": [],
   "source": [
    "#store gap values\n",
    "Y_train = df_train.gap.values\n",
    "#row where testing examples start\n",
    "test_idx = df_train.shape[0]\n",
    "#delete 'Id' column\n",
    "df_test = df_test.drop(['Id'], axis=1)\n",
    "#delete 'gap' column\n",
    "df_train = df_train.drop(['gap'], axis=1)"
   ]
  },
  {
   "cell_type": "code",
   "execution_count": null,
   "metadata": {
    "collapsed": false
   },
   "outputs": [],
   "source": [
    "#DataFrame with all train and test examples so we can more easily apply feature engineering on\n",
    "df_all = pd.concat((df_train, df_test), axis=0)\n",
    "df_all.head()\n",
    "\n",
    "#Drop the 'smiles' column\n",
    "df_all = df_all.drop(['smiles'], axis=1)\n",
    "vals = df_all.values\n",
    "X_train = vals[:test_idx]\n",
    "X_test = vals[test_idx:]\n",
    "print \"Train features:\", X_train.shape\n",
    "print \"Train gap:\", Y_train.shape\n",
    "print \"Test features:\", X_test.shape\n",
    "\n",
    "LR = LinearRegression()\n",
    "LR.fit(X_train, Y_train)\n",
    "LR_pred = LR.predict(X_test)\n",
    "\n",
    "print('INSAMPLE RMSE'),\n",
    "print mean_squared_error(LR.predict(X_train), Y_train)"
   ]
  },
  {
   "cell_type": "markdown",
   "metadata": {},
   "source": [
    "## Various Links"
   ]
  },
  {
   "cell_type": "markdown",
   "metadata": {},
   "source": [
    "http://stats.stackexchange.com/questions/56010/predicting-chemical-property-boiling-point-from-a-smiles-string\n",
    "\n",
    "http://openbabel.org/docs/dev/Features/Fingerprints.html\n",
    "\n",
    "http://openbabel.org/wiki/Tutorial:Fingerprints\n",
    "\n",
    "https://pypi.python.org/pypi/openbabel\n",
    "\n",
    "https://openbabel.org/docs/dev/UseTheLibrary/Python_Pybel.html\n",
    "\n",
    "/usr/local/Cellar/open-babel/2.3.2\n",
    "\n"
   ]
  },
  {
   "cell_type": "markdown",
   "metadata": {},
   "source": [
    "## Command Lines"
   ]
  },
  {
   "cell_type": "markdown",
   "metadata": {},
   "source": [
    "brew install open-babel\n",
    "\n",
    "pip install openbabel"
   ]
  },
  {
   "cell_type": "code",
   "execution_count": null,
   "metadata": {
    "collapsed": true
   },
   "outputs": [],
   "source": [
    "import openbabel"
   ]
  },
  {
   "cell_type": "code",
   "execution_count": null,
   "metadata": {
    "collapsed": false
   },
   "outputs": [],
   "source": [
    "import pybel\n",
    "smiles = ['CCCC', 'CCCN']\n",
    "mols = [pybel.readstring(\"smi\", x) for x in smiles] # Create a list of two molecules\n",
    "fps = [x.calcfp() for x in mols] # Calculate their fingerprints\n",
    "print fps[0].bits, fps[1].bits\n",
    "print fps[0] | fps[1] # Print the Tanimoto coefficient"
   ]
  },
  {
   "cell_type": "markdown",
   "metadata": {},
   "source": [
    "class pybel.Molecule(OBMol)\n",
    "Represent a Pybel Molecule.\n",
    "\n",
    "Required parameter:\n",
    "OBMol – an Open Babel OBMol or any type of Cinfony Molecule\n",
    "Attributes:\n",
    "atoms, charge, conformers, data, dim, energy, exactmass, formula, molwt, spin, sssr, title, unitcell.\n",
    "Methods:\n",
    "addh(), calcfp(), calcdesc(), draw(), localopt(), make3D(), removeh(), write()\n",
    "The underlying Open Babel OBMol can be accessed using the attribute:"
   ]
  }
 ],
 "metadata": {
  "kernelspec": {
   "display_name": "py2",
   "language": "python",
   "name": "py2"
  },
  "language_info": {
   "codemirror_mode": {
    "name": "ipython",
    "version": 2
   },
   "file_extension": ".py",
   "mimetype": "text/x-python",
   "name": "python",
   "nbconvert_exporter": "python",
   "pygments_lexer": "ipython2",
   "version": "2.7.11"
  }
 },
 "nbformat": 4,
 "nbformat_minor": 0
}
