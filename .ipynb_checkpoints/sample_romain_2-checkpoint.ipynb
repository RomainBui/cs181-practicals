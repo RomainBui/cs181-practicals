{
 "cells": [
  {
   "cell_type": "markdown",
   "metadata": {},
   "source": [
    "# Romain's Notebook - Section 1"
   ]
  },
  {
   "cell_type": "markdown",
   "metadata": {},
   "source": [
    "## Libraries Loading"
   ]
  },
  {
   "cell_type": "code",
   "execution_count": 1,
   "metadata": {
    "collapsed": false
   },
   "outputs": [],
   "source": [
    "import pandas as pd\n",
    "import numpy as np\n",
    "import matplotlib.pyplot as plt\n",
    "from sklearn.linear_model import LinearRegression\n",
    "from sklearn.ensemble import RandomForestRegressor\n",
    "from sklearn.cross_validation import cross_val_score\n",
    "from sklearn.metrics import mean_squared_error"
   ]
  },
  {
   "cell_type": "code",
   "execution_count": 71,
   "metadata": {
    "collapsed": true
   },
   "outputs": [],
   "source": [
    "import openbabel\n",
    "import pybel\n",
    "from collections import Counter"
   ]
  },
  {
   "cell_type": "markdown",
   "metadata": {},
   "source": [
    "## Data Loading"
   ]
  },
  {
   "cell_type": "code",
   "execution_count": 3,
   "metadata": {
    "collapsed": false
   },
   "outputs": [],
   "source": [
    "df_train = pd.read_csv(\"Data/train\")\n",
    "df_test = pd.read_csv(\"Data/test\")"
   ]
  },
  {
   "cell_type": "code",
   "execution_count": 4,
   "metadata": {
    "collapsed": true
   },
   "outputs": [],
   "source": [
    "## Temporary shrinking the training and testing set to be able to quickly work :\n",
    "df_train = df_train.head(100000)\n",
    "df_test = df_test.head(100000)"
   ]
  },
  {
   "cell_type": "markdown",
   "metadata": {},
   "source": [
    "## Feature Design"
   ]
  },
  {
   "cell_type": "markdown",
   "metadata": {},
   "source": [
    "##### Usage of the package : OpenBabel"
   ]
  },
  {
   "cell_type": "code",
   "execution_count": 95,
   "metadata": {
    "collapsed": false
   },
   "outputs": [],
   "source": [
    "mols = df_train.loc[0:1, 'smiles'].values\n",
    "\n",
    "# Read a Molecule\n",
    "a = pybel.readstring(\"smi\",mols[0])\n",
    "b = pybel.readstring(\"smi\",mols[1])"
   ]
  },
  {
   "cell_type": "code",
   "execution_count": 96,
   "metadata": {
    "collapsed": false
   },
   "outputs": [
    {
     "data": {
      "image/svg+xml": [
       "<svg xmlns=\"http://www.w3.org/2000/svg\" font-family=\"sans-serif\" height=\"100\" stroke=\"rgb(0,0,0)\" stroke-linecap=\"round\" stroke-width=\"2\" viewBox=\"0 0 480.533 210.836\" width=\"100\" x=\"0\" y=\"0\">\n",
       "<line stroke=\"rgb(0,0,0)\" stroke-width=\"2.0\" x1=\"379.0\" x2=\"346.6\" y1=\"92.7\" y2=\"116.2\" />\n",
       "<line stroke=\"rgb(0,0,0)\" stroke-width=\"2.0\" x1=\"285.1\" x2=\"245.1\" y1=\"136.2\" y2=\"136.2\" />\n",
       "<line stroke=\"rgb(0,0,0)\" stroke-width=\"2.0\" x1=\"165.1\" x2=\"125.1\" y1=\"136.2\" y2=\"136.2\" />\n",
       "<line stroke=\"rgb(0,0,0)\" stroke-width=\"2.0\" x1=\"417.0\" x2=\"440.5\" y1=\"40.3\" y2=\"72.7\" />\n",
       "<line stroke=\"rgb(0,0,0)\" stroke-width=\"2.0\" x1=\"414.7\" x2=\"431.2\" y1=\"49.4\" y2=\"72.1\" />\n",
       "<line stroke=\"rgb(0,0,0)\" stroke-width=\"2.0\" x1=\"440.5\" x2=\"417.0\" y1=\"72.7\" y2=\"105.0\" />\n",
       "<line stroke=\"rgb(0,0,0)\" stroke-width=\"2.0\" x1=\"417.0\" x2=\"379.0\" y1=\"105.0\" y2=\"92.7\" />\n",
       "<line stroke=\"rgb(0,0,0)\" stroke-width=\"2.0\" x1=\"413.5\" x2=\"386.9\" y1=\"96.3\" y2=\"87.7\" />\n",
       "<line stroke=\"rgb(0,0,0)\" stroke-width=\"2.0\" x1=\"379.0\" x2=\"379.0\" y1=\"92.7\" y2=\"65.7\" />\n",
       "<line stroke=\"rgb(0,0,0)\" stroke-width=\"2.0\" x1=\"391.3\" x2=\"417.0\" y1=\"48.7\" y2=\"40.3\" />\n",
       "<line stroke=\"rgb(0,0,0)\" stroke-width=\"2.0\" x1=\"346.6\" x2=\"346.6\" y1=\"116.2\" y2=\"156.2\" />\n",
       "<line stroke=\"rgb(0,0,0)\" stroke-width=\"2.0\" x1=\"339.4\" x2=\"339.4\" y1=\"122.2\" y2=\"150.2\" />\n",
       "<line stroke=\"rgb(0,0,0)\" stroke-width=\"2.0\" x1=\"346.6\" x2=\"308.6\" y1=\"156.2\" y2=\"168.6\" />\n",
       "<line stroke=\"rgb(0,0,0)\" stroke-width=\"2.0\" x1=\"308.6\" x2=\"285.1\" y1=\"168.6\" y2=\"136.2\" />\n",
       "<line stroke=\"rgb(0,0,0)\" stroke-width=\"2.0\" x1=\"310.9\" x2=\"294.4\" y1=\"159.5\" y2=\"136.8\" />\n",
       "<line stroke=\"rgb(0,0,0)\" stroke-width=\"2.0\" x1=\"285.1\" x2=\"300.9\" y1=\"136.2\" y2=\"114.4\" />\n",
       "<line stroke=\"rgb(0,0,0)\" stroke-width=\"2.0\" x1=\"320.9\" x2=\"346.6\" y1=\"107.9\" y2=\"116.2\" />\n",
       "<line stroke=\"rgb(0,0,0)\" stroke-width=\"2.0\" x1=\"215.6\" x2=\"226.9\" y1=\"47.6\" y2=\"55.9\" />\n",
       "<line stroke=\"rgb(0,0,0)\" stroke-width=\"2.0\" x1=\"233.3\" x2=\"225.1\" y1=\"76.1\" y2=\"101.6\" />\n",
       "<line stroke=\"rgb(0,0,0)\" stroke-width=\"2.0\" x1=\"225.9\" x2=\"220.1\" y1=\"75.7\" y2=\"93.6\" />\n",
       "<line stroke=\"rgb(0,0,0)\" stroke-width=\"2.0\" x1=\"225.1\" x2=\"185.1\" y1=\"101.6\" y2=\"101.6\" />\n",
       "<line stroke=\"rgb(0,0,0)\" stroke-width=\"2.0\" x1=\"185.1\" x2=\"176.8\" y1=\"101.6\" y2=\"76.1\" />\n",
       "<line stroke=\"rgb(0,0,0)\" stroke-width=\"2.0\" x1=\"190.1\" x2=\"184.2\" y1=\"93.6\" y2=\"75.7\" />\n",
       "<line stroke=\"rgb(0,0,0)\" stroke-width=\"2.0\" x1=\"183.2\" x2=\"194.5\" y1=\"55.9\" y2=\"47.6\" />\n",
       "<line stroke=\"rgb(0,0,0)\" stroke-width=\"2.0\" x1=\"125.1\" x2=\"109.2\" y1=\"136.2\" y2=\"158.0\" />\n",
       "<line stroke=\"rgb(0,0,0)\" stroke-width=\"2.0\" x1=\"89.2\" x2=\"63.5\" y1=\"164.5\" y2=\"156.2\" />\n",
       "<line stroke=\"rgb(0,0,0)\" stroke-width=\"2.0\" x1=\"63.5\" x2=\"63.5\" y1=\"156.2\" y2=\"116.2\" />\n",
       "<line stroke=\"rgb(0,0,0)\" stroke-width=\"2.0\" x1=\"70.7\" x2=\"70.7\" y1=\"150.2\" y2=\"122.2\" />\n",
       "<line stroke=\"rgb(0,0,0)\" stroke-width=\"2.0\" x1=\"63.5\" x2=\"101.6\" y1=\"116.2\" y2=\"103.8\" />\n",
       "<line stroke=\"rgb(0,0,0)\" stroke-width=\"2.0\" x1=\"101.6\" x2=\"125.1\" y1=\"103.8\" y2=\"136.2\" />\n",
       "<line stroke=\"rgb(0,0,0)\" stroke-width=\"2.0\" x1=\"99.3\" x2=\"115.7\" y1=\"112.9\" y2=\"135.6\" />\n",
       "<line stroke=\"rgb(0,0,0)\" stroke-width=\"2.0\" x1=\"47.6\" x2=\"63.5\" y1=\"73.3\" y2=\"51.5\" />\n",
       "<line stroke=\"rgb(0,0,0)\" stroke-width=\"2.0\" x1=\"63.5\" x2=\"101.6\" y1=\"51.5\" y2=\"63.8\" />\n",
       "<line stroke=\"rgb(0,0,0)\" stroke-width=\"2.0\" x1=\"67.0\" x2=\"93.6\" y1=\"60.2\" y2=\"68.8\" />\n",
       "<line stroke=\"rgb(0,0,0)\" stroke-width=\"2.0\" x1=\"101.6\" x2=\"101.6\" y1=\"63.8\" y2=\"103.8\" />\n",
       "<line stroke=\"rgb(0,0,0)\" stroke-width=\"2.0\" x1=\"63.5\" x2=\"47.6\" y1=\"116.2\" y2=\"94.4\" />\n",
       "<line stroke=\"rgb(0,0,0)\" stroke-width=\"2.0\" x1=\"245.1\" x2=\"225.1\" y1=\"136.2\" y2=\"170.8\" />\n",
       "<line stroke=\"rgb(0,0,0)\" stroke-width=\"2.0\" x1=\"235.8\" x2=\"221.8\" y1=\"137.8\" y2=\"162.0\" />\n",
       "<line stroke=\"rgb(0,0,0)\" stroke-width=\"2.0\" x1=\"225.1\" x2=\"198.1\" y1=\"170.8\" y2=\"170.8\" />\n",
       "<line stroke=\"rgb(0,0,0)\" stroke-width=\"2.0\" x1=\"178.5\" x2=\"165.1\" y1=\"159.4\" y2=\"136.2\" />\n",
       "<line stroke=\"rgb(0,0,0)\" stroke-width=\"2.0\" x1=\"183.7\" x2=\"174.3\" y1=\"154.1\" y2=\"137.8\" />\n",
       "<line stroke=\"rgb(0,0,0)\" stroke-width=\"2.0\" x1=\"165.1\" x2=\"185.1\" y1=\"136.2\" y2=\"101.6\" />\n",
       "<line stroke=\"rgb(0,0,0)\" stroke-width=\"2.0\" x1=\"225.1\" x2=\"245.1\" y1=\"101.6\" y2=\"136.2\" />\n",
       "<text fill=\"rgb(255,12,12)\" font-size=\"16\" stroke=\"rgb(255,12,12)\" stroke-width=\"1\" x=\"372.979431\" y=\"60.683277\">O</text>\n",
       "<text fill=\"rgb(178,178,0)\" font-size=\"16\" stroke=\"rgb(178,178,0)\" stroke-width=\"1\" x=\"302.576491\" y=\"111.834007\">S</text>\n",
       "<text fill=\"rgb(12,12,255)\" font-size=\"16\" stroke=\"rgb(12,12,255)\" stroke-width=\"1\" x=\"179.065081\" y=\"178.835703\">N</text>\n",
       "<text fill=\"rgb(178,178,0)\" font-size=\"16\" stroke=\"rgb(178,178,0)\" stroke-width=\"1\" x=\"95.553671\" y=\"176.555367\">S</text>\n",
       "<text fill=\"rgb(255,160,0)\" font-size=\"16\" stroke=\"rgb(255,160,0)\" stroke-width=\"1\" x=\"22.000000\" y=\"91.834007\">Se</text>\n",
       "<text fill=\"rgb(12,12,255)\" font-size=\"16\" stroke=\"rgb(12,12,255)\" stroke-width=\"1\" x=\"166.704401\" y=\"71.511410\">N</text>\n",
       "<text fill=\"rgb(178,178,0)\" font-size=\"16\" stroke=\"rgb(178,178,0)\" stroke-width=\"1\" x=\"199.065081\" y=\"48.000000\">S</text>\n",
       "<text fill=\"rgb(12,12,255)\" font-size=\"16\" stroke=\"rgb(12,12,255)\" stroke-width=\"1\" x=\"231.425761\" y=\"71.511410\">N</text>\n",
       "</svg>\n"
      ],
      "text/plain": [
       "<pybel.Molecule at 0x1130a0710>"
      ]
     },
     "execution_count": 96,
     "metadata": {},
     "output_type": "execute_result"
    }
   ],
   "source": [
    "a"
   ]
  },
  {
   "cell_type": "code",
   "execution_count": 97,
   "metadata": {
    "collapsed": false
   },
   "outputs": [
    {
     "data": {
      "image/svg+xml": [
       "<svg xmlns=\"http://www.w3.org/2000/svg\" font-family=\"sans-serif\" height=\"100\" stroke=\"rgb(0,0,0)\" stroke-linecap=\"round\" stroke-width=\"2\" viewBox=\"0 0 450.383 291.768\" width=\"100\" x=\"0\" y=\"0\">\n",
       "<line stroke=\"rgb(0,0,0)\" stroke-width=\"2.0\" x1=\"350.3\" x2=\"316.5\" y1=\"200.7\" y2=\"181.2\" />\n",
       "<line stroke=\"rgb(0,0,0)\" stroke-width=\"2.0\" x1=\"70.8\" x2=\"60.9\" y1=\"131.9\" y2=\"141.8\" />\n",
       "<line stroke=\"rgb(0,0,0)\" stroke-width=\"2.0\" x1=\"67.0\" x2=\"53.0\" y1=\"122.7\" y2=\"122.8\" />\n",
       "<line stroke=\"rgb(0,0,0)\" stroke-width=\"2.0\" x1=\"340.9\" x2=\"353.4\" y1=\"73.9\" y2=\"66.7\" />\n",
       "<line stroke=\"rgb(0,0,0)\" stroke-width=\"2.0\" x1=\"329.7\" x2=\"329.7\" y1=\"67.4\" y2=\"53.0\" />\n",
       "<line stroke=\"rgb(0,0,0)\" stroke-width=\"2.0\" x1=\"410.4\" x2=\"387.5\" y1=\"220.2\" y2=\"251.8\" />\n",
       "<line stroke=\"rgb(0,0,0)\" stroke-width=\"2.0\" x1=\"401.0\" x2=\"385.2\" y1=\"220.8\" y2=\"242.7\" />\n",
       "<line stroke=\"rgb(0,0,0)\" stroke-width=\"2.0\" x1=\"387.5\" x2=\"350.4\" y1=\"251.8\" y2=\"239.7\" />\n",
       "<line stroke=\"rgb(0,0,0)\" stroke-width=\"2.0\" x1=\"350.4\" x2=\"350.3\" y1=\"239.7\" y2=\"200.7\" />\n",
       "<line stroke=\"rgb(0,0,0)\" stroke-width=\"2.0\" x1=\"357.6\" x2=\"357.5\" y1=\"233.7\" y2=\"206.7\" />\n",
       "<line stroke=\"rgb(0,0,0)\" stroke-width=\"2.0\" x1=\"350.3\" x2=\"387.4\" y1=\"200.7\" y2=\"188.6\" />\n",
       "<line stroke=\"rgb(0,0,0)\" stroke-width=\"2.0\" x1=\"387.4\" x2=\"410.4\" y1=\"188.6\" y2=\"220.2\" />\n",
       "<line stroke=\"rgb(0,0,0)\" stroke-width=\"2.0\" x1=\"80.0\" x2=\"113.7\" y1=\"83.7\" y2=\"64.2\" />\n",
       "<line stroke=\"rgb(0,0,0)\" stroke-width=\"2.0\" x1=\"88.8\" x2=\"112.2\" y1=\"87.0\" y2=\"73.4\" />\n",
       "<line stroke=\"rgb(0,0,0)\" stroke-width=\"2.0\" x1=\"113.7\" x2=\"147.5\" y1=\"64.2\" y2=\"83.7\" />\n",
       "<line stroke=\"rgb(0,0,0)\" stroke-width=\"2.0\" x1=\"147.5\" x2=\"147.6\" y1=\"83.7\" y2=\"122.7\" />\n",
       "<line stroke=\"rgb(0,0,0)\" stroke-width=\"2.0\" x1=\"140.4\" x2=\"140.4\" y1=\"89.7\" y2=\"116.7\" />\n",
       "<line stroke=\"rgb(0,0,0)\" stroke-width=\"2.0\" x1=\"147.6\" x2=\"93.0\" y1=\"122.7\" y2=\"122.7\" />\n",
       "<line stroke=\"rgb(0,0,0)\" stroke-width=\"2.0\" x1=\"80.0\" x2=\"80.0\" y1=\"109.7\" y2=\"83.7\" />\n",
       "<line stroke=\"rgb(0,0,0)\" stroke-width=\"2.0\" x1=\"334.9\" x2=\"345.5\" y1=\"92.3\" y2=\"116.1\" />\n",
       "<line stroke=\"rgb(0,0,0)\" stroke-width=\"2.0\" x1=\"345.5\" x2=\"316.5\" y1=\"116.1\" y2=\"142.2\" />\n",
       "<line stroke=\"rgb(0,0,0)\" stroke-width=\"2.0\" x1=\"336.3\" x2=\"316.2\" y1=\"114.8\" y2=\"132.8\" />\n",
       "<line stroke=\"rgb(0,0,0)\" stroke-width=\"2.0\" x1=\"316.5\" x2=\"282.8\" y1=\"142.2\" y2=\"122.7\" />\n",
       "<line stroke=\"rgb(0,0,0)\" stroke-width=\"2.0\" x1=\"282.8\" x2=\"290.9\" y1=\"122.7\" y2=\"84.5\" />\n",
       "<line stroke=\"rgb(0,0,0)\" stroke-width=\"2.0\" x1=\"291.0\" x2=\"296.7\" y1=\"118.3\" y2=\"91.9\" />\n",
       "<line stroke=\"rgb(0,0,0)\" stroke-width=\"2.0\" x1=\"290.9\" x2=\"316.7\" y1=\"84.5\" y2=\"81.8\" />\n",
       "<line stroke=\"rgb(0,0,0)\" stroke-width=\"2.0\" x1=\"249.0\" x2=\"226.3\" y1=\"181.2\" y2=\"194.3\" />\n",
       "<line stroke=\"rgb(0,0,0)\" stroke-width=\"2.0\" x1=\"240.2\" x2=\"224.6\" y1=\"178.0\" y2=\"187.0\" />\n",
       "<line stroke=\"rgb(0,0,0)\" stroke-width=\"2.0\" x1=\"203.9\" x2=\"181.4\" y1=\"194.3\" y2=\"181.3\" />\n",
       "<line stroke=\"rgb(0,0,0)\" stroke-width=\"2.0\" x1=\"181.4\" x2=\"181.4\" y1=\"181.3\" y2=\"142.2\" />\n",
       "<line stroke=\"rgb(0,0,0)\" stroke-width=\"2.0\" x1=\"188.6\" x2=\"188.6\" y1=\"175.3\" y2=\"148.2\" />\n",
       "<line stroke=\"rgb(0,0,0)\" stroke-width=\"2.0\" x1=\"181.4\" x2=\"215.2\" y1=\"142.2\" y2=\"122.7\" />\n",
       "<line stroke=\"rgb(0,0,0)\" stroke-width=\"2.0\" x1=\"215.2\" x2=\"249.0\" y1=\"122.7\" y2=\"142.2\" />\n",
       "<line stroke=\"rgb(0,0,0)\" stroke-width=\"2.0\" x1=\"216.8\" x2=\"240.2\" y1=\"131.9\" y2=\"145.5\" />\n",
       "<line stroke=\"rgb(0,0,0)\" stroke-width=\"2.0\" x1=\"249.0\" x2=\"249.0\" y1=\"142.2\" y2=\"181.2\" />\n",
       "<line stroke=\"rgb(0,0,0)\" stroke-width=\"2.0\" x1=\"147.5\" x2=\"170.1\" y1=\"83.7\" y2=\"70.7\" />\n",
       "<line stroke=\"rgb(0,0,0)\" stroke-width=\"2.0\" x1=\"192.5\" x2=\"215.2\" y1=\"70.6\" y2=\"83.7\" />\n",
       "<line stroke=\"rgb(0,0,0)\" stroke-width=\"2.0\" x1=\"190.7\" x2=\"206.4\" y1=\"77.9\" y2=\"86.9\" />\n",
       "<line stroke=\"rgb(0,0,0)\" stroke-width=\"2.0\" x1=\"215.2\" x2=\"215.2\" y1=\"83.7\" y2=\"122.7\" />\n",
       "<line stroke=\"rgb(0,0,0)\" stroke-width=\"2.0\" x1=\"181.4\" x2=\"147.6\" y1=\"142.2\" y2=\"122.7\" />\n",
       "<line stroke=\"rgb(0,0,0)\" stroke-width=\"2.0\" x1=\"316.5\" x2=\"316.5\" y1=\"142.2\" y2=\"181.2\" />\n",
       "<line stroke=\"rgb(0,0,0)\" stroke-width=\"2.0\" x1=\"316.5\" x2=\"282.8\" y1=\"181.2\" y2=\"200.7\" />\n",
       "<line stroke=\"rgb(0,0,0)\" stroke-width=\"2.0\" x1=\"307.7\" x2=\"284.4\" y1=\"178.0\" y2=\"191.5\" />\n",
       "<line stroke=\"rgb(0,0,0)\" stroke-width=\"2.0\" x1=\"282.8\" x2=\"249.0\" y1=\"200.7\" y2=\"181.2\" />\n",
       "<line stroke=\"rgb(0,0,0)\" stroke-width=\"2.0\" x1=\"249.0\" x2=\"282.8\" y1=\"142.2\" y2=\"122.7\" />\n",
       "<text fill=\"rgb(12,12,255)\" font-size=\"16\" stroke=\"rgb(12,12,255)\" stroke-width=\"1\" x=\"209.189538\" y=\"208.768864\">N</text>\n",
       "<text fill=\"rgb(127,153,153)\" font-size=\"16\" stroke=\"rgb(127,153,153)\" stroke-width=\"1\" x=\"73.999998\" y=\"130.744475\">Si</text>\n",
       "<text fill=\"rgb(191,191,191)\" font-size=\"16\" stroke=\"rgb(191,191,191)\" stroke-width=\"1\" x=\"45.723805\" y=\"159.036823\">H</text>\n",
       "<text fill=\"rgb(191,191,191)\" font-size=\"16\" stroke=\"rgb(191,191,191)\" stroke-width=\"1\" x=\"34.000000\" y=\"130.755898\">H</text>\n",
       "<text fill=\"rgb(12,12,255)\" font-size=\"16\" stroke=\"rgb(12,12,255)\" stroke-width=\"1\" x=\"175.346894\" y=\"72.191943\">N</text>\n",
       "<text fill=\"rgb(127,153,153)\" font-size=\"16\" stroke=\"rgb(127,153,153)\" stroke-width=\"1\" x=\"311.660450\" y=\"88.448999\">Si</text>\n",
       "<text fill=\"rgb(191,191,191)\" font-size=\"16\" stroke=\"rgb(191,191,191)\" stroke-width=\"1\" x=\"358.690311\" y=\"68.224500\">H</text>\n",
       "<text fill=\"rgb(191,191,191)\" font-size=\"16\" stroke=\"rgb(191,191,191)\" stroke-width=\"1\" x=\"323.660450\" y=\"48.000000\">H</text>\n",
       "</svg>\n"
      ],
      "text/plain": [
       "<pybel.Molecule at 0x1130a0290>"
      ]
     },
     "execution_count": 97,
     "metadata": {},
     "output_type": "execute_result"
    }
   ],
   "source": [
    "b"
   ]
  },
  {
   "cell_type": "code",
   "execution_count": 99,
   "metadata": {
    "collapsed": false
   },
   "outputs": [
    {
     "name": "stdout",
     "output_type": "stream",
     "text": [
      " Molecule :  c1ccc(o1)c1ccc(s1)c1cnc(c2scc3[se]ccc23)c2nsnc12\t\n",
      "\n",
      "Weight : 470.44926\n",
      "FingerPrint: [6, 11, 14, 17, 23, 24, 25, 35, 38, 39]\n",
      "Atomic Structure: Counter({'Car': 19, 'Nar': 3, 'S2': 3, 'O2': 1, 'Se': 1})\n",
      "Energy 0.0\n",
      "Dim 0\n",
      "Spin 1\n",
      "tanimoto 0.209944751381\n"
     ]
    }
   ],
   "source": [
    "print('Molecule : '), a\n",
    "print('Weight :'), a.molwt\n",
    "print('FingerPrint:'), a.calcfp().bits[0:10]\n",
    "print('Atomic Structure:'), Counter([t.type for t in a.atoms])\n",
    "print('Energy'), a.energy\n",
    "print('Dim'), a.dim\n",
    "print('Spin'), a.spin\n",
    "\n",
    "print('tanimoto A|B'), a.calcfp()|b.calcfp()"
   ]
  },
  {
   "cell_type": "code",
   "execution_count": 86,
   "metadata": {
    "collapsed": false
   },
   "outputs": [],
   "source": [
    "test = a.conformers"
   ]
  },
  {
   "cell_type": "code",
   "execution_count": 93,
   "metadata": {
    "collapsed": false
   },
   "outputs": [
    {
     "data": {
      "text/plain": [
       "1"
      ]
     },
     "execution_count": 93,
     "metadata": {},
     "output_type": "execute_result"
    }
   ],
   "source": [
    "a.spin"
   ]
  },
  {
   "cell_type": "markdown",
   "metadata": {},
   "source": [
    "## RF Test"
   ]
  },
  {
   "cell_type": "code",
   "execution_count": null,
   "metadata": {
    "collapsed": true
   },
   "outputs": [],
   "source": [
    "#store gap values\n",
    "Y_train = df_train.gap.values\n",
    "#row where testing examples start\n",
    "test_idx = df_train.shape[0]\n",
    "#delete 'Id' column\n",
    "df_test = df_test.drop(['Id'], axis=1)\n",
    "#delete 'gap' column\n",
    "df_train = df_train.drop(['gap'], axis=1)"
   ]
  },
  {
   "cell_type": "code",
   "execution_count": null,
   "metadata": {
    "collapsed": false
   },
   "outputs": [],
   "source": [
    "#DataFrame with all train and test examples so we can more easily apply feature engineering on\n",
    "df_all = pd.concat((df_train, df_test), axis=0)\n",
    "df_all.head()\n",
    "\n",
    "#Drop the 'smiles' column\n",
    "df_all = df_all.drop(['smiles'], axis=1)\n",
    "vals = df_all.values\n",
    "X_train = vals[:test_idx]\n",
    "X_test = vals[test_idx:]\n",
    "print \"Train features:\", X_train.shape\n",
    "print \"Train gap:\", Y_train.shape\n",
    "print \"Test features:\", X_test.shape\n",
    "\n",
    "LR = LinearRegression()\n",
    "LR.fit(X_train, Y_train)\n",
    "LR_pred = LR.predict(X_test)\n",
    "\n",
    "print('INSAMPLE RMSE'),\n",
    "print mean_squared_error(LR.predict(X_train), Y_train)"
   ]
  },
  {
   "cell_type": "markdown",
   "metadata": {},
   "source": [
    "## Various Links"
   ]
  },
  {
   "cell_type": "markdown",
   "metadata": {},
   "source": [
    "http://stats.stackexchange.com/questions/56010/predicting-chemical-property-boiling-point-from-a-smiles-string\n",
    "\n",
    "http://openbabel.org/docs/dev/Features/Fingerprints.html\n",
    "\n",
    "http://openbabel.org/wiki/Tutorial:Fingerprints\n",
    "\n",
    "https://pypi.python.org/pypi/openbabel\n",
    "\n",
    "https://openbabel.org/docs/dev/UseTheLibrary/Python_Pybel.html\n",
    "\n",
    "/usr/local/Cellar/open-babel/2.3.2\n",
    "\n"
   ]
  },
  {
   "cell_type": "markdown",
   "metadata": {},
   "source": [
    "## Command Lines"
   ]
  },
  {
   "cell_type": "markdown",
   "metadata": {},
   "source": [
    "brew install open-babel\n",
    "\n",
    "pip install openbabel"
   ]
  },
  {
   "cell_type": "code",
   "execution_count": null,
   "metadata": {
    "collapsed": true
   },
   "outputs": [],
   "source": [
    "import openbabel"
   ]
  },
  {
   "cell_type": "code",
   "execution_count": null,
   "metadata": {
    "collapsed": false
   },
   "outputs": [],
   "source": [
    "import pybel\n",
    "smiles = ['CCCC', 'CCCN']\n",
    "mols = [pybel.readstring(\"smi\", x) for x in smiles] # Create a list of two molecules\n",
    "fps = [x.calcfp() for x in mols] # Calculate their fingerprints\n",
    "print fps[0].bits, fps[1].bits\n",
    "print fps[0] | fps[1] # Print the Tanimoto coefficient"
   ]
  },
  {
   "cell_type": "markdown",
   "metadata": {},
   "source": [
    "class pybel.Molecule(OBMol)\n",
    "Represent a Pybel Molecule.\n",
    "\n",
    "Required parameter:\n",
    "OBMol – an Open Babel OBMol or any type of Cinfony Molecule\n",
    "Attributes:\n",
    "atoms, charge, conformers, data, dim, energy, exactmass, formula, molwt, spin, sssr, title, unitcell.\n",
    "Methods:\n",
    "addh(), calcfp(), calcdesc(), draw(), localopt(), make3D(), removeh(), write()\n",
    "The underlying Open Babel OBMol can be accessed using the attribute:"
   ]
  }
 ],
 "metadata": {
  "kernelspec": {
   "display_name": "py2",
   "language": "python",
   "name": "py2"
  },
  "language_info": {
   "codemirror_mode": {
    "name": "ipython",
    "version": 2
   },
   "file_extension": ".py",
   "mimetype": "text/x-python",
   "name": "python",
   "nbconvert_exporter": "python",
   "pygments_lexer": "ipython2",
   "version": "2.7.11"
  }
 },
 "nbformat": 4,
 "nbformat_minor": 0
}
