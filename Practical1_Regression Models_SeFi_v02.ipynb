{
 "cells": [
  {
   "cell_type": "code",
   "execution_count": 1,
   "metadata": {
    "collapsed": false
   },
   "outputs": [],
   "source": [
    "import pandas as pd\n",
    "import numpy as np\n",
    "import matplotlib.pyplot as plt\n",
    "from sklearn.feature_extraction.text import CountVectorizer\n",
    "from sklearn.feature_extraction.text import TfidfVectorizer\n",
    "from sklearn.linear_model import LinearRegression\n",
    "from sklearn.ensemble import RandomForestRegressor\n",
    "from sklearn.cross_validation import train_test_split\n",
    "from sklearn.metrics import mean_squared_error\n",
    "from sklearn.grid_search import GridSearchCV\n",
    "from rdkit import Chem, DataStructs\n",
    "from rdkit.Chem import AllChem\n",
    "from rdkit import Chem, DataStructs\n",
    "from rdkit.Chem import AllChem\n",
    "import pickle"
   ]
  },
  {
   "cell_type": "markdown",
   "metadata": {},
   "source": [
    "# Creating a 4096 Bit Fingerprint with Radius 4"
   ]
  },
  {
   "cell_type": "code",
   "execution_count": null,
   "metadata": {
    "collapsed": true
   },
   "outputs": [],
   "source": [
    "df_train = pd.read_csv(\"train.csv\")\n",
    "df_test = pd.read_csv(\"test.csv\")\n",
    "\n",
    "def smiles_to_fingerprint (smiles, method='Morgan'):\n",
    "    if method == \"Morgan\": \n",
    "        mol = Chem.MolFromSmiles(smiles)\n",
    "        fp = AllChem.GetMorganFingerprintAsBitVect(mol, 4, 4096)\n",
    "        fp_arr = np.zeros((1,))\n",
    "        DataStructs.ConvertToNumpyArray(fp, fp_arr)\n",
    "        return fp_arr\n",
    "    elif method == \"other\":\n",
    "        print \"another fingerprint\"   \n",
    "        \n",
    "        \n",
    "\n",
    "#convert the test set to fingerprints for submission\n",
    "test_fps = df_test.smiles.apply(smiles_to_fingerprint)\n",
    "X_test = np.ndarray((824230, 4096))\n",
    "for i in range (test_fps.shape[0]):\n",
    "    X_test[i] = test_fps[i]\n",
    "np.save('test_morgans_radius4_4096bit',X_test)"
   ]
  },
  {
   "cell_type": "code",
   "execution_count": null,
   "metadata": {
    "collapsed": true
   },
   "outputs": [],
   "source": []
  },
  {
   "cell_type": "code",
   "execution_count": 2,
   "metadata": {
    "collapsed": false
   },
   "outputs": [],
   "source": []
  },
  {
   "cell_type": "code",
   "execution_count": 3,
   "metadata": {
    "collapsed": false
   },
   "outputs": [],
   "source": [
    "#Only taking 100.000 rows\n",
    "#df,_ = train_test_split(df_train, train_size=0.1)\n",
    "#print df.shape\n",
    "#df.head()"
   ]
  },
  {
   "cell_type": "code",
   "execution_count": 8,
   "metadata": {
    "collapsed": false
   },
   "outputs": [
    {
     "data": {
      "text/plain": [
       "(100000, 257)"
      ]
     },
     "execution_count": 8,
     "metadata": {},
     "output_type": "execute_result"
    }
   ],
   "source": [
    "#Dropping Output Variable \"GAP\"\n",
    "X = df.drop(['gap'], axis=1)\n",
    "X.shape"
   ]
  },
  {
   "cell_type": "code",
   "execution_count": 9,
   "metadata": {
    "collapsed": false
   },
   "outputs": [
    {
     "data": {
      "text/plain": [
       "(100000,)"
      ]
     },
     "execution_count": 9,
     "metadata": {},
     "output_type": "execute_result"
    }
   ],
   "source": [
    "#Storing \"GAP\" Variable into y\n",
    "y = df.gap.values\n",
    "y.shape"
   ]
  },
  {
   "cell_type": "markdown",
   "metadata": {},
   "source": [
    "# RDKIT - Fingerprints"
   ]
  },
  {
   "cell_type": "code",
   "execution_count": 3,
   "metadata": {
    "collapsed": true
   },
   "outputs": [],
   "source": [
    "#Some Helpful Links:\n",
    "# From: http://www.rdkit.org/docs/Cookbook.html\n",
    "# From https://github.com/rdkit/benchmarking_platform/blob/master/scoring/fingerprint_lib.py"
   ]
  },
  {
   "cell_type": "code",
   "execution_count": 12,
   "metadata": {
    "collapsed": false
   },
   "outputs": [
    {
     "data": {
      "text/plain": [
       "'mols = []\\nfor smile in df.smiles:\\n    mols.append(Chem.MolFromSmiles(smile))'"
      ]
     },
     "execution_count": 12,
     "metadata": {},
     "output_type": "execute_result"
    }
   ],
   "source": [
    "\"\"\"mols = []\n",
    "for smile in df.smiles:\n",
    "    mols.append(Chem.MolFromSmiles(smile))\"\"\""
   ]
  },
  {
   "cell_type": "code",
   "execution_count": 4,
   "metadata": {
    "collapsed": true
   },
   "outputs": [],
   "source": []
  },
  {
   "cell_type": "code",
   "execution_count": 6,
   "metadata": {
    "collapsed": false
   },
   "outputs": [],
   "source": []
  },
  {
   "cell_type": "code",
   "execution_count": null,
   "metadata": {
    "collapsed": true
   },
   "outputs": [],
   "source": []
  },
  {
   "cell_type": "code",
   "execution_count": 3,
   "metadata": {
    "collapsed": false
   },
   "outputs": [],
   "source": [
    "#Function:    createFingerprint\n",
    "#Parameter:   Fingerprint-Method as String and molsdf as Array\n",
    "#Return:      Data frame the fingerprint as feature columns\n",
    "def createFingerprint (method, mols):\n",
    "    if method == \"Morgan\":\n",
    "        # generate fingeprints: Morgan fingerprint with radius 2\n",
    "        fps = [AllChem.GetMorganFingerprintAsBitVect(m, 2) for m in mols]\n",
    "\n",
    "        # convert the RDKit explicit vectors into numpy arrays\n",
    "        np_fps = []\n",
    "        for fp in fps:\n",
    "          arr = numpy.zeros((1,))\n",
    "          DataStructs.ConvertToNumpyArray(fp, arr)\n",
    "          np_fps.append(arr)\n",
    "\n",
    "        #Create new DF with Morgan Fingerprints\n",
    "        fingerprintsdf = pd.DataFrame(np_fps)\n",
    "        return fingerprintsdf\n",
    "    \n",
    "    elif method == \"GenMACCSKeys\":\n",
    "        # generate fingeprints: GenMACCSKeys\n",
    "        fps = [MACCSkeys.GenMACCSKeys(m) for m in mols]\n",
    "\n",
    "        # convert the RDKit explicit vectors into numpy arrays\n",
    "        np_fps = []\n",
    "        for fp in fps:\n",
    "          arr = numpy.zeros((1,))\n",
    "          DataStructs.ConvertToNumpyArray(fp, arr)\n",
    "          np_fps.append(arr)\n",
    "\n",
    "        #Create new DF with GenMACCSKeys\n",
    "        fingerprintsdf = pd.DataFrame(np_fps)\n",
    "        return fingerprintsdf\n",
    "\n",
    "    elif method == \"rdMolDescriptors.GetHashedTopologicalTorsionFingerprintAsBitVect\":\n",
    "        # generate fingeprints: rdMolDescriptors.GetTopologicalTorsionFingerprintAsIntVect\n",
    "        fps = [rdMolDescriptors.GetHashedTopologicalTorsionFingerprintAsBitVect(m, nBits=1024) for m in mols]\n",
    "\n",
    "        # convert the RDKit explicit vectors into numpy arrays\n",
    "        np_fps = []\n",
    "        for fp in fps:\n",
    "          arr = numpy.zeros((1,))\n",
    "          DataStructs.ConvertToNumpyArray(fp, arr)\n",
    "          np_fps.append(arr)\n",
    "\n",
    "        #Create new DF with rdMolDescriptors.GetHashedTopologicalTorsionFingerprintAsBitVect\n",
    "        fingerprintsdf = pd.DataFrame(np_fps)\n",
    "        return fingerprintsdf\n",
    "    \n",
    "    elif method == \"fpAvalon.GetAvalonFP\":\n",
    "        # generate fingeprints: fpAvalon.GetAvalonFP\n",
    "        fps = [fpAvalon.GetAvalonFP(m, nBits=1024) for m in mols]\n",
    "\n",
    "        # convert the RDKit explicit vectors into numpy arrays\n",
    "        np_fps = []\n",
    "        for fp in fps:\n",
    "          arr = numpy.zeros((1,))\n",
    "          DataStructs.ConvertToNumpyArray(fp, arr)\n",
    "          np_fps.append(arr)\n",
    "\n",
    "        #Create new DF with fpAvalon.GetAvalonFP\n",
    "        fingerprintsdf = pd.DataFrame(np_fps)\n",
    "        return fingerprintsdf\n",
    "    \n",
    "    elif method == \"Chem.RDKFingerprint\":\n",
    "        # generate fingeprints: Chem.RDKFingerprint\n",
    "        fps = [Chem.RDKFingerprint(m, maxPath=7, fpSize=1024, nBitsPerHash=2) for m in mols]\n",
    "\n",
    "        # convert the RDKit explicit vectors into numpy arrays\n",
    "        np_fps = []\n",
    "        for fp in fps:\n",
    "          arr = numpy.zeros((1,))\n",
    "          DataStructs.ConvertToNumpyArray(fp, arr)\n",
    "          np_fps.append(arr)\n",
    "\n",
    "        #Create new DF with Chem.RDKFingerprint\n",
    "        fingerprintsdf = pd.DataFrame(np_fps)\n",
    "        return fingerprintsdf"
   ]
  },
  {
   "cell_type": "markdown",
   "metadata": {},
   "source": [
    "## Morgan Fingerprint "
   ]
  },
  {
   "cell_type": "code",
   "execution_count": 199,
   "metadata": {
    "collapsed": false
   },
   "outputs": [
    {
     "data": {
      "text/html": [
       "<div>\n",
       "<table border=\"1\" class=\"dataframe\">\n",
       "  <thead>\n",
       "    <tr style=\"text-align: right;\">\n",
       "      <th></th>\n",
       "      <th>0</th>\n",
       "      <th>1</th>\n",
       "      <th>2</th>\n",
       "      <th>3</th>\n",
       "      <th>4</th>\n",
       "      <th>5</th>\n",
       "      <th>6</th>\n",
       "      <th>7</th>\n",
       "      <th>8</th>\n",
       "      <th>9</th>\n",
       "      <th>...</th>\n",
       "      <th>2038</th>\n",
       "      <th>2039</th>\n",
       "      <th>2040</th>\n",
       "      <th>2041</th>\n",
       "      <th>2042</th>\n",
       "      <th>2043</th>\n",
       "      <th>2044</th>\n",
       "      <th>2045</th>\n",
       "      <th>2046</th>\n",
       "      <th>2047</th>\n",
       "    </tr>\n",
       "  </thead>\n",
       "  <tbody>\n",
       "    <tr>\n",
       "      <th>0</th>\n",
       "      <td>0</td>\n",
       "      <td>0</td>\n",
       "      <td>0</td>\n",
       "      <td>0</td>\n",
       "      <td>0</td>\n",
       "      <td>0</td>\n",
       "      <td>0</td>\n",
       "      <td>0</td>\n",
       "      <td>0</td>\n",
       "      <td>0</td>\n",
       "      <td>...</td>\n",
       "      <td>0</td>\n",
       "      <td>0</td>\n",
       "      <td>0</td>\n",
       "      <td>0</td>\n",
       "      <td>0</td>\n",
       "      <td>0</td>\n",
       "      <td>0</td>\n",
       "      <td>0</td>\n",
       "      <td>0</td>\n",
       "      <td>0</td>\n",
       "    </tr>\n",
       "    <tr>\n",
       "      <th>1</th>\n",
       "      <td>0</td>\n",
       "      <td>0</td>\n",
       "      <td>0</td>\n",
       "      <td>0</td>\n",
       "      <td>0</td>\n",
       "      <td>0</td>\n",
       "      <td>0</td>\n",
       "      <td>0</td>\n",
       "      <td>0</td>\n",
       "      <td>0</td>\n",
       "      <td>...</td>\n",
       "      <td>0</td>\n",
       "      <td>0</td>\n",
       "      <td>0</td>\n",
       "      <td>0</td>\n",
       "      <td>0</td>\n",
       "      <td>0</td>\n",
       "      <td>0</td>\n",
       "      <td>0</td>\n",
       "      <td>0</td>\n",
       "      <td>0</td>\n",
       "    </tr>\n",
       "    <tr>\n",
       "      <th>2</th>\n",
       "      <td>0</td>\n",
       "      <td>0</td>\n",
       "      <td>0</td>\n",
       "      <td>0</td>\n",
       "      <td>1</td>\n",
       "      <td>0</td>\n",
       "      <td>0</td>\n",
       "      <td>0</td>\n",
       "      <td>0</td>\n",
       "      <td>0</td>\n",
       "      <td>...</td>\n",
       "      <td>0</td>\n",
       "      <td>0</td>\n",
       "      <td>0</td>\n",
       "      <td>0</td>\n",
       "      <td>0</td>\n",
       "      <td>0</td>\n",
       "      <td>0</td>\n",
       "      <td>0</td>\n",
       "      <td>0</td>\n",
       "      <td>0</td>\n",
       "    </tr>\n",
       "    <tr>\n",
       "      <th>3</th>\n",
       "      <td>0</td>\n",
       "      <td>0</td>\n",
       "      <td>0</td>\n",
       "      <td>0</td>\n",
       "      <td>0</td>\n",
       "      <td>0</td>\n",
       "      <td>0</td>\n",
       "      <td>0</td>\n",
       "      <td>1</td>\n",
       "      <td>0</td>\n",
       "      <td>...</td>\n",
       "      <td>0</td>\n",
       "      <td>0</td>\n",
       "      <td>0</td>\n",
       "      <td>0</td>\n",
       "      <td>0</td>\n",
       "      <td>0</td>\n",
       "      <td>0</td>\n",
       "      <td>0</td>\n",
       "      <td>0</td>\n",
       "      <td>0</td>\n",
       "    </tr>\n",
       "    <tr>\n",
       "      <th>4</th>\n",
       "      <td>0</td>\n",
       "      <td>0</td>\n",
       "      <td>0</td>\n",
       "      <td>0</td>\n",
       "      <td>0</td>\n",
       "      <td>0</td>\n",
       "      <td>0</td>\n",
       "      <td>0</td>\n",
       "      <td>0</td>\n",
       "      <td>0</td>\n",
       "      <td>...</td>\n",
       "      <td>0</td>\n",
       "      <td>0</td>\n",
       "      <td>0</td>\n",
       "      <td>0</td>\n",
       "      <td>0</td>\n",
       "      <td>0</td>\n",
       "      <td>0</td>\n",
       "      <td>0</td>\n",
       "      <td>0</td>\n",
       "      <td>0</td>\n",
       "    </tr>\n",
       "  </tbody>\n",
       "</table>\n",
       "<p>5 rows × 2048 columns</p>\n",
       "</div>"
      ],
      "text/plain": [
       "   0     1     2     3     4     5     6     7     8     9     ...   2038  \\\n",
       "0     0     0     0     0     0     0     0     0     0     0  ...      0   \n",
       "1     0     0     0     0     0     0     0     0     0     0  ...      0   \n",
       "2     0     0     0     0     1     0     0     0     0     0  ...      0   \n",
       "3     0     0     0     0     0     0     0     0     1     0  ...      0   \n",
       "4     0     0     0     0     0     0     0     0     0     0  ...      0   \n",
       "\n",
       "   2039  2040  2041  2042  2043  2044  2045  2046  2047  \n",
       "0     0     0     0     0     0     0     0     0     0  \n",
       "1     0     0     0     0     0     0     0     0     0  \n",
       "2     0     0     0     0     0     0     0     0     0  \n",
       "3     0     0     0     0     0     0     0     0     0  \n",
       "4     0     0     0     0     0     0     0     0     0  \n",
       "\n",
       "[5 rows x 2048 columns]"
      ]
     },
     "execution_count": 199,
     "metadata": {},
     "output_type": "execute_result"
    }
   ],
   "source": [
    "morganDF = createFingerprint(\"Morgan\", mols)\n",
    "#morganDF.head()"
   ]
  },
  {
   "cell_type": "code",
   "execution_count": 229,
   "metadata": {
    "collapsed": false
   },
   "outputs": [],
   "source": [
    "#New Train/Test Sets\n",
    "X_train, X_test, y_train, y_test = train_test_split(morganDF, y, test_size=0.2)"
   ]
  },
  {
   "cell_type": "markdown",
   "metadata": {},
   "source": [
    "### Linear Regression"
   ]
  },
  {
   "cell_type": "code",
   "execution_count": 230,
   "metadata": {
    "collapsed": false
   },
   "outputs": [],
   "source": [
    "\"\"\"LR = LinearRegression()\n",
    "LR.fit(X_train, y_train)\n",
    "LR_pred = LR.predict(X_test)\n",
    "\n",
    "print(\"Explained variance score: 1 is perfect prediction: %0.2f\") % (LR.score(X_train, y_train))\n",
    "print(\"RMSE: %0.2f\") % mean_squared_error(y_test, LR_pred)\n",
    "\n",
    "write_to_file(\"Data/MorganFingerprint_LinearRegression.csv\", LR_pred)\"\"\""
   ]
  },
  {
   "cell_type": "markdown",
   "metadata": {},
   "source": [
    "### Ridge Regression with CV (Best performing, thereby used for all other fingerprints at first)"
   ]
  },
  {
   "cell_type": "code",
   "execution_count": 236,
   "metadata": {
    "collapsed": true
   },
   "outputs": [],
   "source": [
    "#Conduct a Ridge Regression with 5-fold cross validation\n",
    "from sklearn.linear_model import RidgeCV \n",
    "LR_ridge = RidgeCV(alphas=(0.001, 0.01, 0.1, 1.0, 10.0, 100.0), cv=5)\n",
    "LR_ridge.fit(X_train, y_train)\n",
    "LR_ridge_pred = LR_ridge.predict(X_test)\n",
    "\n",
    "print(\"Explained variance score: 1 is perfect prediction: %0.2f\") % (LR_ridge.score(X_train, y_train))\n",
    "print(\"RMSE: %0.2f\") % mean_squared_error(y_test, LR_ridge_pred)\n",
    "\n",
    "write_to_file(\"Data/MorganFingerprint_RidgeRegression_cv.csv\", LR_ridge_pred)"
   ]
  },
  {
   "cell_type": "markdown",
   "metadata": {},
   "source": [
    "### Lasso CV"
   ]
  },
  {
   "cell_type": "code",
   "execution_count": 246,
   "metadata": {
    "collapsed": false
   },
   "outputs": [],
   "source": [
    "\"\"\"from sklearn.linear_model import LassoCV\n",
    "LassoRegressionCV = LassoCV(cv=5)\n",
    "LassoRegressionCV.fit(X_train, y_train)\n",
    "LassoRegressionCV_pred = LassoRegressionCV.predict(X_test)\n",
    "\n",
    "print(\"Explained variance score: 1 is perfect prediction: %0.2f\") % (LassoRegressionCV.score(X_train, y_train))\n",
    "print(\"RMSE: %0.2f\") % mean_squared_error(y_test, LassoRegressionCV_pred)\n",
    "\n",
    "write_to_file(\"Data/MorganFingerprint_Lasso_cv.csv\", LassoRegressionCV_pred)\"\"\""
   ]
  },
  {
   "cell_type": "markdown",
   "metadata": {},
   "source": [
    "### ElasticNet CV"
   ]
  },
  {
   "cell_type": "code",
   "execution_count": 248,
   "metadata": {
    "collapsed": false
   },
   "outputs": [
    {
     "name": "stderr",
     "output_type": "stream",
     "text": [
      "//anaconda/envs/my-rdkit-env/lib/python2.7/site-packages/sklearn/linear_model/coordinate_descent.py:466: ConvergenceWarning: Objective did not converge. You might want to increase the number of iterations\n",
      "  ConvergenceWarning)\n"
     ]
    }
   ],
   "source": [
    "\"\"\"from sklearn.linear_model import ElasticNetCV\n",
    "ElasticNetRegression = ElasticNetCV(cv=5)\n",
    "ElasticNetRegression.fit(X_train, y_train)\n",
    "ElasticNetRegression_pred = ElasticNetRegression.predict(X_test)\n",
    "\n",
    "print(\"Explained variance score: 1 is perfect prediction: %0.2f\") % (ElasticNetRegression.score(X_train, y_train))\n",
    "print(\"RMSE: %0.2f\") % mean_squared_error(y_test, ElasticNetRegression_pred)\n",
    "\n",
    "write_to_file(\"Data/MorganFingerprint_elastic_cv.csv\", ElasticNetRegression_pred)\"\"\""
   ]
  },
  {
   "cell_type": "markdown",
   "metadata": {},
   "source": [
    "### BayesianRidge"
   ]
  },
  {
   "cell_type": "code",
   "execution_count": 254,
   "metadata": {
    "collapsed": true
   },
   "outputs": [],
   "source": [
    "\"\"\"from sklearn.linear_model import BayesianRidge\n",
    "BayesianRidgeRegression = BayesianRidge()\n",
    "BayesianRidgeRegression.fit(X_train, y_train)\n",
    "BayesianRidgeRegression_pred = BayesianRidgeRegression.predict(X_test)\n",
    "\n",
    "print(\"Explained variance score: 1 is perfect prediction: %0.2f\") % (ElasticNetRegression.score(X_train, y_train))\n",
    "print(\"RMSE: %0.2f\") % mean_squared_error(y_test, ElasticNetRegression_pred)\n",
    "\n",
    "write_to_file(\"Data/MorganFingerprint_BayesianRidge.csv\", ElasticNetRegression_pred)\"\"\""
   ]
  },
  {
   "cell_type": "markdown",
   "metadata": {},
   "source": [
    "## GenMACCSKeys"
   ]
  },
  {
   "cell_type": "code",
   "execution_count": 20,
   "metadata": {
    "collapsed": false
   },
   "outputs": [
    {
     "data": {
      "text/html": [
       "<div>\n",
       "<table border=\"1\" class=\"dataframe\">\n",
       "  <thead>\n",
       "    <tr style=\"text-align: right;\">\n",
       "      <th></th>\n",
       "      <th>0</th>\n",
       "      <th>1</th>\n",
       "      <th>2</th>\n",
       "      <th>3</th>\n",
       "      <th>4</th>\n",
       "      <th>5</th>\n",
       "      <th>6</th>\n",
       "      <th>7</th>\n",
       "      <th>8</th>\n",
       "      <th>9</th>\n",
       "      <th>...</th>\n",
       "      <th>157</th>\n",
       "      <th>158</th>\n",
       "      <th>159</th>\n",
       "      <th>160</th>\n",
       "      <th>161</th>\n",
       "      <th>162</th>\n",
       "      <th>163</th>\n",
       "      <th>164</th>\n",
       "      <th>165</th>\n",
       "      <th>166</th>\n",
       "    </tr>\n",
       "  </thead>\n",
       "  <tbody>\n",
       "    <tr>\n",
       "      <th>0</th>\n",
       "      <td>0</td>\n",
       "      <td>0</td>\n",
       "      <td>0</td>\n",
       "      <td>1</td>\n",
       "      <td>0</td>\n",
       "      <td>0</td>\n",
       "      <td>0</td>\n",
       "      <td>0</td>\n",
       "      <td>0</td>\n",
       "      <td>0</td>\n",
       "      <td>...</td>\n",
       "      <td>0</td>\n",
       "      <td>0</td>\n",
       "      <td>0</td>\n",
       "      <td>0</td>\n",
       "      <td>1</td>\n",
       "      <td>1</td>\n",
       "      <td>0</td>\n",
       "      <td>1</td>\n",
       "      <td>1</td>\n",
       "      <td>0</td>\n",
       "    </tr>\n",
       "    <tr>\n",
       "      <th>1</th>\n",
       "      <td>0</td>\n",
       "      <td>0</td>\n",
       "      <td>0</td>\n",
       "      <td>1</td>\n",
       "      <td>0</td>\n",
       "      <td>0</td>\n",
       "      <td>0</td>\n",
       "      <td>0</td>\n",
       "      <td>0</td>\n",
       "      <td>0</td>\n",
       "      <td>...</td>\n",
       "      <td>0</td>\n",
       "      <td>0</td>\n",
       "      <td>0</td>\n",
       "      <td>0</td>\n",
       "      <td>0</td>\n",
       "      <td>1</td>\n",
       "      <td>0</td>\n",
       "      <td>0</td>\n",
       "      <td>1</td>\n",
       "      <td>0</td>\n",
       "    </tr>\n",
       "    <tr>\n",
       "      <th>2</th>\n",
       "      <td>0</td>\n",
       "      <td>0</td>\n",
       "      <td>0</td>\n",
       "      <td>0</td>\n",
       "      <td>0</td>\n",
       "      <td>0</td>\n",
       "      <td>0</td>\n",
       "      <td>0</td>\n",
       "      <td>0</td>\n",
       "      <td>0</td>\n",
       "      <td>...</td>\n",
       "      <td>0</td>\n",
       "      <td>0</td>\n",
       "      <td>0</td>\n",
       "      <td>0</td>\n",
       "      <td>1</td>\n",
       "      <td>1</td>\n",
       "      <td>1</td>\n",
       "      <td>0</td>\n",
       "      <td>1</td>\n",
       "      <td>0</td>\n",
       "    </tr>\n",
       "    <tr>\n",
       "      <th>3</th>\n",
       "      <td>0</td>\n",
       "      <td>0</td>\n",
       "      <td>0</td>\n",
       "      <td>0</td>\n",
       "      <td>0</td>\n",
       "      <td>0</td>\n",
       "      <td>0</td>\n",
       "      <td>0</td>\n",
       "      <td>0</td>\n",
       "      <td>0</td>\n",
       "      <td>...</td>\n",
       "      <td>0</td>\n",
       "      <td>0</td>\n",
       "      <td>0</td>\n",
       "      <td>0</td>\n",
       "      <td>1</td>\n",
       "      <td>1</td>\n",
       "      <td>1</td>\n",
       "      <td>0</td>\n",
       "      <td>1</td>\n",
       "      <td>0</td>\n",
       "    </tr>\n",
       "    <tr>\n",
       "      <th>4</th>\n",
       "      <td>0</td>\n",
       "      <td>0</td>\n",
       "      <td>0</td>\n",
       "      <td>0</td>\n",
       "      <td>0</td>\n",
       "      <td>0</td>\n",
       "      <td>0</td>\n",
       "      <td>0</td>\n",
       "      <td>0</td>\n",
       "      <td>0</td>\n",
       "      <td>...</td>\n",
       "      <td>0</td>\n",
       "      <td>0</td>\n",
       "      <td>0</td>\n",
       "      <td>0</td>\n",
       "      <td>1</td>\n",
       "      <td>1</td>\n",
       "      <td>1</td>\n",
       "      <td>0</td>\n",
       "      <td>1</td>\n",
       "      <td>0</td>\n",
       "    </tr>\n",
       "  </tbody>\n",
       "</table>\n",
       "<p>5 rows × 167 columns</p>\n",
       "</div>"
      ],
      "text/plain": [
       "   0    1    2    3    4    5    6    7    8    9   ...   157  158  159  160  \\\n",
       "0    0    0    0    1    0    0    0    0    0    0 ...     0    0    0    0   \n",
       "1    0    0    0    1    0    0    0    0    0    0 ...     0    0    0    0   \n",
       "2    0    0    0    0    0    0    0    0    0    0 ...     0    0    0    0   \n",
       "3    0    0    0    0    0    0    0    0    0    0 ...     0    0    0    0   \n",
       "4    0    0    0    0    0    0    0    0    0    0 ...     0    0    0    0   \n",
       "\n",
       "   161  162  163  164  165  166  \n",
       "0    1    1    0    1    1    0  \n",
       "1    0    1    0    0    1    0  \n",
       "2    1    1    1    0    1    0  \n",
       "3    1    1    1    0    1    0  \n",
       "4    1    1    1    0    1    0  \n",
       "\n",
       "[5 rows x 167 columns]"
      ]
     },
     "execution_count": 20,
     "metadata": {},
     "output_type": "execute_result"
    }
   ],
   "source": [
    "GenMACCSKeysDF = createFingerprint(\"GenMACCSKeys\", mols)\n",
    "\n",
    "#New Train/Test Sets\n",
    "X_train, X_test, y_train, y_test = train_test_split(GenMACCSKeysDF, y, test_size=0.2)\n",
    "\n",
    "#Conduct a Ridge Regression with 5-fold cross validation\n",
    "from sklearn.linear_model import RidgeCV \n",
    "LR_ridge = RidgeCV(alphas=(0.001, 0.01, 0.1, 1.0, 10.0, 100.0), cv=5)\n",
    "LR_ridge.fit(X_train, y_train)\n",
    "LR_ridge_pred = LR_ridge.predict(X_test)\n",
    "\n",
    "print(\"Explained variance score: 1 is perfect prediction: %0.2f\") % (LR_ridge.score(X_train, y_train))\n",
    "print(\"RMSE: %0.2f\") % mean_squared_error(y_test, LR_ridge_pred)\n",
    "\n",
    "write_to_file(\"Data/GenMACCSKeys_RidgeRegression_cv.csv\", LR_ridge_pred)"
   ]
  },
  {
   "cell_type": "markdown",
   "metadata": {},
   "source": [
    "## GetHashedTopologicalTorsionFingerprintAsBitVect"
   ]
  },
  {
   "cell_type": "code",
   "execution_count": 29,
   "metadata": {
    "collapsed": false
   },
   "outputs": [
    {
     "name": "stdout",
     "output_type": "stream",
     "text": [
      "Explained variance score: 1 is perfect prediction: 0.80\n",
      "RMSE: 0.03\n"
     ]
    }
   ],
   "source": [
    "GetHashedTopologicalTorsionFingerprintAsBitVectDF = createFingerprint(\"rdMolDescriptors.GetHashedTopologicalTorsionFingerprintAsBitVect\", mols)\n",
    "\n",
    "#New Train/Test Sets\n",
    "X_train, X_test, y_train, y_test = train_test_split(GetHashedTopologicalTorsionFingerprintAsBitVectDF, y, test_size=0.2)\n",
    "\n",
    "#Conduct a Ridge Regression with 5-fold cross validation\n",
    "from sklearn.linear_model import RidgeCV \n",
    "LR_ridge = RidgeCV(alphas=(0.001, 0.01, 0.1, 1.0, 10.0, 100.0), cv=5)\n",
    "LR_ridge.fit(X_train, y_train)\n",
    "LR_ridge_pred = LR_ridge.predict(X_test)\n",
    "\n",
    "print(\"Explained variance score: 1 is perfect prediction: %0.2f\") % (LR_ridge.score(X_train, y_train))\n",
    "print(\"RMSE: %0.2f\") % mean_squared_error(y_test, LR_ridge_pred)\n",
    "\n",
    "write_to_file(\"Data/GGetHashedTopologicalTorsionFingerprintAsBitVect_RidgeRegression_cv.csv\", LR_ridge_pred)"
   ]
  },
  {
   "cell_type": "markdown",
   "metadata": {},
   "source": [
    "## fpAvalon.GetAvalonFP"
   ]
  },
  {
   "cell_type": "code",
   "execution_count": 30,
   "metadata": {
    "collapsed": false
   },
   "outputs": [
    {
     "name": "stdout",
     "output_type": "stream",
     "text": [
      "Explained variance score: 1 is perfect prediction: 0.89\n",
      "RMSE: 0.02\n"
     ]
    }
   ],
   "source": [
    "GetAvalonFPDF = createFingerprint(\"fpAvalon.GetAvalonFP\", mols)\n",
    "\n",
    "#New Train/Test Sets\n",
    "X_train, X_test, y_train, y_test = train_test_split(GetAvalonFPDF, y, test_size=0.2)\n",
    "\n",
    "#Conduct a Ridge Regression with 5-fold cross validation\n",
    "from sklearn.linear_model import RidgeCV \n",
    "LR_ridge = RidgeCV(alphas=(0.001, 0.01, 0.1, 1.0, 10.0, 100.0), cv=5)\n",
    "LR_ridge.fit(X_train, y_train)\n",
    "LR_ridge_pred = LR_ridge.predict(X_test)\n",
    "\n",
    "print(\"Explained variance score: 1 is perfect prediction: %0.2f\") % (LR_ridge.score(X_train, y_train))\n",
    "print(\"RMSE: %0.2f\") % mean_squared_error(y_test, LR_ridge_pred)\n",
    "\n",
    "write_to_file(\"Data/GetAvalonFP_RidgeRegression_cv.csv\", LR_ridge_pred)"
   ]
  },
  {
   "cell_type": "markdown",
   "metadata": {},
   "source": [
    "## Chem.RDKFingerprint"
   ]
  },
  {
   "cell_type": "code",
   "execution_count": 31,
   "metadata": {
    "collapsed": false
   },
   "outputs": [
    {
     "name": "stdout",
     "output_type": "stream",
     "text": [
      "Explained variance score: 1 is perfect prediction: 0.80\n",
      "RMSE: 0.03\n"
     ]
    }
   ],
   "source": [
    "RDKFingerprintDF = createFingerprint(\"Chem.RDKFingerprint\", mols)\n",
    "\n",
    "#New Train/Test Sets\n",
    "X_train, X_test, y_train, y_test = train_test_split(RDKFingerprintDF, y, test_size=0.2)\n",
    "\n",
    "#Conduct a Ridge Regression with 5-fold cross validation\n",
    "from sklearn.linear_model import RidgeCV \n",
    "LR_ridge = RidgeCV(alphas=(0.001, 0.01, 0.1, 1.0, 10.0, 100.0), cv=5)\n",
    "LR_ridge.fit(X_train, y_train)\n",
    "LR_ridge_pred = LR_ridge.predict(X_test)\n",
    "\n",
    "print(\"Explained variance score: 1 is perfect prediction: %0.2f\") % (LR_ridge.score(X_train, y_train))\n",
    "print(\"RMSE: %0.2f\") % mean_squared_error(y_test, LR_ridge_pred)\n",
    "\n",
    "write_to_file(\"Data/RDKFingerprint_RidgeRegression_cv.csv\", LR_ridge_pred)"
   ]
  },
  {
   "cell_type": "markdown",
   "metadata": {},
   "source": [
    "# Testing for Submission\n",
    "## Ridge Regression with best performing Fingerprint approach"
   ]
  },
  {
   "cell_type": "code",
   "execution_count": null,
   "metadata": {
    "collapsed": true
   },
   "outputs": [],
   "source": [
    "df_train = pd.read_csv(\"train.csv\")\n",
    "df_test = pd.read_csv(\"test.csv\")\n",
    "\n",
    "mols = []\n",
    "for smile in df_test.smiles:\n",
    "    mols.append(Chem.MolFromSmiles(smile))\n",
    "\n",
    "X_test = createFingerprint(\"Morgan\", mols)\n",
    "    \n",
    "mols = []\n",
    "for smile in df_train.smiles:\n",
    "    mols.append(Chem.MolFromSmiles(smile))\n",
    "\n",
    "X_train = createFingerprint(\"Morgan\", mols)\n",
    "y_train = df_train.gap.values\n",
    "\n",
    "\n",
    "\n",
    "#Conduct a Ridge Regression with 5-fold cross validation\n",
    "from sklearn.linear_model import RidgeCV \n",
    "LR_ridge = RidgeCV(alphas=(0.001, 0.01, 0.1, 1.0, 10.0, 100.0), cv=5)\n",
    "LR_ridge.fit(X_train, y_train)\n",
    "LR_ridge_pred = LR_ridge.predict(X_test)\n",
    "\n",
    "#print(\"Explained variance score: 1 is perfect prediction: %0.2f\") % (LR_ridge.score(X_train, y_train))\n",
    "#print(\"RMSE: %0.2f\") % mean_squared_error(y_test, LR_ridge_pred)\n",
    "\n",
    "write_to_file(\"SubmissionSamples/MorganFingerprint_RidgeRegression_cv.csv\", LR_ridge_pred)"
   ]
  },
  {
   "cell_type": "markdown",
   "metadata": {},
   "source": [
    "# Misc functions"
   ]
  },
  {
   "cell_type": "code",
   "execution_count": 4,
   "metadata": {
    "collapsed": true
   },
   "outputs": [],
   "source": [
    "def write_to_file(filename, predictions):\n",
    "    with open(filename, \"w\") as f:\n",
    "        f.write(\"Id,Prediction\\n\")\n",
    "        for i,p in enumerate(predictions):\n",
    "            f.write(str(i+1) + \",\" + str(p) + \"\\n\")"
   ]
  },
  {
   "cell_type": "code",
   "execution_count": null,
   "metadata": {
    "collapsed": true
   },
   "outputs": [],
   "source": []
  }
 ],
 "metadata": {
  "kernelspec": {
   "display_name": "Python 2",
   "language": "python",
   "name": "python2"
  },
  "language_info": {
   "codemirror_mode": {
    "name": "ipython",
    "version": 2
   },
   "file_extension": ".py",
   "mimetype": "text/x-python",
   "name": "python",
   "nbconvert_exporter": "python",
   "pygments_lexer": "ipython2",
   "version": "2.7.11"
  }
 },
 "nbformat": 4,
 "nbformat_minor": 0
}
